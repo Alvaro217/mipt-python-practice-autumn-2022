{
 "cells": [
  {
   "cell_type": "markdown",
   "id": "f6052a8c",
   "metadata": {},
   "source": [
    "## Pandas"
   ]
  },
  {
   "cell_type": "markdown",
   "id": "cb6d8896",
   "metadata": {},
   "source": [
    "В этом ноутбуке мы познакомимся с основными фичами pandas. Эта библиотека огромна, поэтому мы сможем лишь немного поиграться с доступной функциональностью. Для детального ознакомления стоит почитать документацию"
   ]
  },
  {
   "cell_type": "markdown",
   "id": "16b6ff19",
   "metadata": {},
   "source": [
    "### 1. Первое знакомство"
   ]
  },
  {
   "cell_type": "code",
   "execution_count": 1,
   "id": "2807a5d2",
   "metadata": {},
   "outputs": [],
   "source": [
    "import pandas as pd  # Стандартный алиас для pandas"
   ]
  },
  {
   "cell_type": "code",
   "execution_count": 3,
   "id": "c3e25637",
   "metadata": {},
   "outputs": [],
   "source": [
    "# Читаем датасет из csv файла\n",
    "coins = pd.read_csv('coins.csv')  "
   ]
  },
  {
   "cell_type": "code",
   "execution_count": 4,
   "id": "0db1b69b",
   "metadata": {},
   "outputs": [
    {
     "data": {
      "text/html": [
       "<div>\n",
       "<style scoped>\n",
       "    .dataframe tbody tr th:only-of-type {\n",
       "        vertical-align: middle;\n",
       "    }\n",
       "\n",
       "    .dataframe tbody tr th {\n",
       "        vertical-align: top;\n",
       "    }\n",
       "\n",
       "    .dataframe thead th {\n",
       "        text-align: right;\n",
       "    }\n",
       "</style>\n",
       "<table border=\"1\" class=\"dataframe\">\n",
       "  <thead>\n",
       "    <tr style=\"text-align: right;\">\n",
       "      <th></th>\n",
       "      <th>date</th>\n",
       "      <th>price</th>\n",
       "      <th>txCount</th>\n",
       "      <th>txVolume</th>\n",
       "      <th>activeAddresses</th>\n",
       "      <th>symbol</th>\n",
       "      <th>name</th>\n",
       "      <th>open</th>\n",
       "      <th>high</th>\n",
       "      <th>low</th>\n",
       "      <th>close</th>\n",
       "      <th>volume</th>\n",
       "      <th>market</th>\n",
       "    </tr>\n",
       "  </thead>\n",
       "  <tbody>\n",
       "    <tr>\n",
       "      <th>0</th>\n",
       "      <td>2013-04-28</td>\n",
       "      <td>135.300000</td>\n",
       "      <td>41702.0</td>\n",
       "      <td>6.879868e+07</td>\n",
       "      <td>117984.0</td>\n",
       "      <td>BTC</td>\n",
       "      <td>Bitcoin</td>\n",
       "      <td>135.300000</td>\n",
       "      <td>135.980000</td>\n",
       "      <td>132.100000</td>\n",
       "      <td>134.210000</td>\n",
       "      <td>0.0</td>\n",
       "      <td>1.500520e+09</td>\n",
       "    </tr>\n",
       "    <tr>\n",
       "      <th>1</th>\n",
       "      <td>2013-04-28</td>\n",
       "      <td>4.300000</td>\n",
       "      <td>9174.0</td>\n",
       "      <td>4.431952e+07</td>\n",
       "      <td>17216.0</td>\n",
       "      <td>LTC</td>\n",
       "      <td>Litecoin</td>\n",
       "      <td>4.300000</td>\n",
       "      <td>4.400000</td>\n",
       "      <td>4.180000</td>\n",
       "      <td>4.350000</td>\n",
       "      <td>0.0</td>\n",
       "      <td>7.377340e+07</td>\n",
       "    </tr>\n",
       "    <tr>\n",
       "      <th>2</th>\n",
       "      <td>2013-04-29</td>\n",
       "      <td>134.440000</td>\n",
       "      <td>51602.0</td>\n",
       "      <td>1.138128e+08</td>\n",
       "      <td>86925.0</td>\n",
       "      <td>BTC</td>\n",
       "      <td>Bitcoin</td>\n",
       "      <td>134.440000</td>\n",
       "      <td>147.490000</td>\n",
       "      <td>134.000000</td>\n",
       "      <td>144.540000</td>\n",
       "      <td>0.0</td>\n",
       "      <td>1.491160e+09</td>\n",
       "    </tr>\n",
       "    <tr>\n",
       "      <th>3</th>\n",
       "      <td>2013-04-29</td>\n",
       "      <td>4.370000</td>\n",
       "      <td>9275.0</td>\n",
       "      <td>3.647810e+07</td>\n",
       "      <td>18395.0</td>\n",
       "      <td>LTC</td>\n",
       "      <td>Litecoin</td>\n",
       "      <td>4.370000</td>\n",
       "      <td>4.570000</td>\n",
       "      <td>4.230000</td>\n",
       "      <td>4.380000</td>\n",
       "      <td>0.0</td>\n",
       "      <td>7.495270e+07</td>\n",
       "    </tr>\n",
       "    <tr>\n",
       "      <th>4</th>\n",
       "      <td>2013-04-30</td>\n",
       "      <td>144.000000</td>\n",
       "      <td>47450.0</td>\n",
       "      <td>8.426632e+07</td>\n",
       "      <td>76871.0</td>\n",
       "      <td>BTC</td>\n",
       "      <td>Bitcoin</td>\n",
       "      <td>144.000000</td>\n",
       "      <td>146.930000</td>\n",
       "      <td>134.050000</td>\n",
       "      <td>139.000000</td>\n",
       "      <td>0.0</td>\n",
       "      <td>1.597780e+09</td>\n",
       "    </tr>\n",
       "    <tr>\n",
       "      <th>...</th>\n",
       "      <td>...</td>\n",
       "      <td>...</td>\n",
       "      <td>...</td>\n",
       "      <td>...</td>\n",
       "      <td>...</td>\n",
       "      <td>...</td>\n",
       "      <td>...</td>\n",
       "      <td>...</td>\n",
       "      <td>...</td>\n",
       "      <td>...</td>\n",
       "      <td>...</td>\n",
       "      <td>...</td>\n",
       "      <td>...</td>\n",
       "    </tr>\n",
       "    <tr>\n",
       "      <th>37583</th>\n",
       "      <td>2018-06-06</td>\n",
       "      <td>0.293325</td>\n",
       "      <td>4830.0</td>\n",
       "      <td>2.312763e+05</td>\n",
       "      <td>659.0</td>\n",
       "      <td>XLM</td>\n",
       "      <td>Stellar</td>\n",
       "      <td>0.293325</td>\n",
       "      <td>0.299955</td>\n",
       "      <td>0.289500</td>\n",
       "      <td>0.298269</td>\n",
       "      <td>51165000.0</td>\n",
       "      <td>5.450080e+09</td>\n",
       "    </tr>\n",
       "    <tr>\n",
       "      <th>37584</th>\n",
       "      <td>2018-06-06</td>\n",
       "      <td>0.039586</td>\n",
       "      <td>7205.0</td>\n",
       "      <td>4.947760e+06</td>\n",
       "      <td>18228.0</td>\n",
       "      <td>XVG</td>\n",
       "      <td>Verge</td>\n",
       "      <td>0.039586</td>\n",
       "      <td>0.039737</td>\n",
       "      <td>0.037680</td>\n",
       "      <td>0.038797</td>\n",
       "      <td>9307450.0</td>\n",
       "      <td>5.959400e+08</td>\n",
       "    </tr>\n",
       "    <tr>\n",
       "      <th>37585</th>\n",
       "      <td>2018-06-06</td>\n",
       "      <td>239.760000</td>\n",
       "      <td>10687.0</td>\n",
       "      <td>3.986308e+07</td>\n",
       "      <td>96516.0</td>\n",
       "      <td>ZEC</td>\n",
       "      <td>Zcash</td>\n",
       "      <td>239.750000</td>\n",
       "      <td>240.340000</td>\n",
       "      <td>229.210000</td>\n",
       "      <td>236.050000</td>\n",
       "      <td>56887000.0</td>\n",
       "      <td>9.769940e+08</td>\n",
       "    </tr>\n",
       "    <tr>\n",
       "      <th>37586</th>\n",
       "      <td>2018-06-06</td>\n",
       "      <td>0.127555</td>\n",
       "      <td>1313.0</td>\n",
       "      <td>1.596436e+07</td>\n",
       "      <td>733.0</td>\n",
       "      <td>ZIL</td>\n",
       "      <td>Zilliqa</td>\n",
       "      <td>0.127555</td>\n",
       "      <td>0.133254</td>\n",
       "      <td>0.124194</td>\n",
       "      <td>0.131766</td>\n",
       "      <td>54667900.0</td>\n",
       "      <td>9.348810e+08</td>\n",
       "    </tr>\n",
       "    <tr>\n",
       "      <th>37587</th>\n",
       "      <td>2018-06-06</td>\n",
       "      <td>1.270000</td>\n",
       "      <td>795.0</td>\n",
       "      <td>6.094435e+06</td>\n",
       "      <td>599.0</td>\n",
       "      <td>ZRX</td>\n",
       "      <td>0x</td>\n",
       "      <td>1.270000</td>\n",
       "      <td>1.340000</td>\n",
       "      <td>1.250000</td>\n",
       "      <td>1.330000</td>\n",
       "      <td>17778000.0</td>\n",
       "      <td>6.741510e+08</td>\n",
       "    </tr>\n",
       "  </tbody>\n",
       "</table>\n",
       "<p>37588 rows × 13 columns</p>\n",
       "</div>"
      ],
      "text/plain": [
       "             date       price  txCount      txVolume  activeAddresses symbol  \\\n",
       "0      2013-04-28  135.300000  41702.0  6.879868e+07         117984.0    BTC   \n",
       "1      2013-04-28    4.300000   9174.0  4.431952e+07          17216.0    LTC   \n",
       "2      2013-04-29  134.440000  51602.0  1.138128e+08          86925.0    BTC   \n",
       "3      2013-04-29    4.370000   9275.0  3.647810e+07          18395.0    LTC   \n",
       "4      2013-04-30  144.000000  47450.0  8.426632e+07          76871.0    BTC   \n",
       "...           ...         ...      ...           ...              ...    ...   \n",
       "37583  2018-06-06    0.293325   4830.0  2.312763e+05            659.0    XLM   \n",
       "37584  2018-06-06    0.039586   7205.0  4.947760e+06          18228.0    XVG   \n",
       "37585  2018-06-06  239.760000  10687.0  3.986308e+07          96516.0    ZEC   \n",
       "37586  2018-06-06    0.127555   1313.0  1.596436e+07            733.0    ZIL   \n",
       "37587  2018-06-06    1.270000    795.0  6.094435e+06            599.0    ZRX   \n",
       "\n",
       "           name        open        high         low       close      volume  \\\n",
       "0       Bitcoin  135.300000  135.980000  132.100000  134.210000         0.0   \n",
       "1      Litecoin    4.300000    4.400000    4.180000    4.350000         0.0   \n",
       "2       Bitcoin  134.440000  147.490000  134.000000  144.540000         0.0   \n",
       "3      Litecoin    4.370000    4.570000    4.230000    4.380000         0.0   \n",
       "4       Bitcoin  144.000000  146.930000  134.050000  139.000000         0.0   \n",
       "...         ...         ...         ...         ...         ...         ...   \n",
       "37583   Stellar    0.293325    0.299955    0.289500    0.298269  51165000.0   \n",
       "37584     Verge    0.039586    0.039737    0.037680    0.038797   9307450.0   \n",
       "37585     Zcash  239.750000  240.340000  229.210000  236.050000  56887000.0   \n",
       "37586   Zilliqa    0.127555    0.133254    0.124194    0.131766  54667900.0   \n",
       "37587        0x    1.270000    1.340000    1.250000    1.330000  17778000.0   \n",
       "\n",
       "             market  \n",
       "0      1.500520e+09  \n",
       "1      7.377340e+07  \n",
       "2      1.491160e+09  \n",
       "3      7.495270e+07  \n",
       "4      1.597780e+09  \n",
       "...             ...  \n",
       "37583  5.450080e+09  \n",
       "37584  5.959400e+08  \n",
       "37585  9.769940e+08  \n",
       "37586  9.348810e+08  \n",
       "37587  6.741510e+08  \n",
       "\n",
       "[37588 rows x 13 columns]"
      ]
     },
     "execution_count": 4,
     "metadata": {},
     "output_type": "execute_result"
    }
   ],
   "source": [
    "# Посмотрим что получилось\n",
    "coins"
   ]
  },
  {
   "cell_type": "markdown",
   "id": "f457dac7",
   "metadata": {},
   "source": [
    "Поясним значения хранящиеся в колонках\n",
    " - date - дата измерений\n",
    " - name - полное название монеты\n",
    " - symbol - сокращенное название монеты\n",
    " - price - средняя цена монеты за торговый день в USD\n",
    " - txCount - количество транзакций в сети данной монеты\n",
    " - txVolume - объем монет переведенных между адресами в сети данной монеты\n",
    " - activeAddresses - количество адресов совершавших а данный день транзации в сети данной монеты\n",
    " - open - цена монеты в начале торгов данного дня\n",
    " - close - цена монеты в конце торгов данного дня\n",
    " - high - самая высокая цена данной монеты в течение данного торгового дня\n",
    " - low - самая низкая цена данной монеты в течение данного торгового дня\n",
    " - volume - объем торгов данной монетой на биржах в данный день\n",
    " - market - капитализация данной монеты в данный день"
   ]
  },
  {
   "cell_type": "markdown",
   "id": "a948bc2e",
   "metadata": {},
   "source": [
    "По выводу можно получить общее представление о таблице. Видно, что в таблице могут храниться как числовые так и категориальные (строковые) данные, количество строк и столбцов. Всю эту информацию и многое другое можно получить и в коде."
   ]
  },
  {
   "cell_type": "markdown",
   "id": "0e553ec2",
   "metadata": {},
   "source": [
    "Для удобства мы далее ограничим размер вывода pandas в jupyter notebook."
   ]
  },
  {
   "cell_type": "code",
   "execution_count": 5,
   "id": "97aa9b03",
   "metadata": {},
   "outputs": [],
   "source": [
    "pd.set_option('display.max_rows', 10)"
   ]
  },
  {
   "cell_type": "code",
   "execution_count": 6,
   "id": "35caed4d",
   "metadata": {},
   "outputs": [
    {
     "data": {
      "text/plain": [
       "(37588, 13)"
      ]
     },
     "execution_count": 6,
     "metadata": {},
     "output_type": "execute_result"
    }
   ],
   "source": [
    "coins.shape  # Размер таблицы"
   ]
  },
  {
   "cell_type": "code",
   "execution_count": 7,
   "id": "e512c7f2",
   "metadata": {},
   "outputs": [
    {
     "data": {
      "text/html": [
       "<div>\n",
       "<style scoped>\n",
       "    .dataframe tbody tr th:only-of-type {\n",
       "        vertical-align: middle;\n",
       "    }\n",
       "\n",
       "    .dataframe tbody tr th {\n",
       "        vertical-align: top;\n",
       "    }\n",
       "\n",
       "    .dataframe thead th {\n",
       "        text-align: right;\n",
       "    }\n",
       "</style>\n",
       "<table border=\"1\" class=\"dataframe\">\n",
       "  <thead>\n",
       "    <tr style=\"text-align: right;\">\n",
       "      <th></th>\n",
       "      <th>date</th>\n",
       "      <th>price</th>\n",
       "      <th>txCount</th>\n",
       "      <th>txVolume</th>\n",
       "      <th>activeAddresses</th>\n",
       "      <th>symbol</th>\n",
       "      <th>name</th>\n",
       "      <th>open</th>\n",
       "      <th>high</th>\n",
       "      <th>low</th>\n",
       "      <th>close</th>\n",
       "      <th>volume</th>\n",
       "      <th>market</th>\n",
       "    </tr>\n",
       "  </thead>\n",
       "  <tbody>\n",
       "    <tr>\n",
       "      <th>0</th>\n",
       "      <td>2013-04-28</td>\n",
       "      <td>135.30</td>\n",
       "      <td>41702.0</td>\n",
       "      <td>6.879868e+07</td>\n",
       "      <td>117984.0</td>\n",
       "      <td>BTC</td>\n",
       "      <td>Bitcoin</td>\n",
       "      <td>135.30</td>\n",
       "      <td>135.98</td>\n",
       "      <td>132.10</td>\n",
       "      <td>134.21</td>\n",
       "      <td>0.0</td>\n",
       "      <td>1.500520e+09</td>\n",
       "    </tr>\n",
       "    <tr>\n",
       "      <th>1</th>\n",
       "      <td>2013-04-28</td>\n",
       "      <td>4.30</td>\n",
       "      <td>9174.0</td>\n",
       "      <td>4.431952e+07</td>\n",
       "      <td>17216.0</td>\n",
       "      <td>LTC</td>\n",
       "      <td>Litecoin</td>\n",
       "      <td>4.30</td>\n",
       "      <td>4.40</td>\n",
       "      <td>4.18</td>\n",
       "      <td>4.35</td>\n",
       "      <td>0.0</td>\n",
       "      <td>7.377340e+07</td>\n",
       "    </tr>\n",
       "    <tr>\n",
       "      <th>2</th>\n",
       "      <td>2013-04-29</td>\n",
       "      <td>134.44</td>\n",
       "      <td>51602.0</td>\n",
       "      <td>1.138128e+08</td>\n",
       "      <td>86925.0</td>\n",
       "      <td>BTC</td>\n",
       "      <td>Bitcoin</td>\n",
       "      <td>134.44</td>\n",
       "      <td>147.49</td>\n",
       "      <td>134.00</td>\n",
       "      <td>144.54</td>\n",
       "      <td>0.0</td>\n",
       "      <td>1.491160e+09</td>\n",
       "    </tr>\n",
       "  </tbody>\n",
       "</table>\n",
       "</div>"
      ],
      "text/plain": [
       "         date   price  txCount      txVolume  activeAddresses symbol  \\\n",
       "0  2013-04-28  135.30  41702.0  6.879868e+07         117984.0    BTC   \n",
       "1  2013-04-28    4.30   9174.0  4.431952e+07          17216.0    LTC   \n",
       "2  2013-04-29  134.44  51602.0  1.138128e+08          86925.0    BTC   \n",
       "\n",
       "       name    open    high     low   close  volume        market  \n",
       "0   Bitcoin  135.30  135.98  132.10  134.21     0.0  1.500520e+09  \n",
       "1  Litecoin    4.30    4.40    4.18    4.35     0.0  7.377340e+07  \n",
       "2   Bitcoin  134.44  147.49  134.00  144.54     0.0  1.491160e+09  "
      ]
     },
     "execution_count": 7,
     "metadata": {},
     "output_type": "execute_result"
    }
   ],
   "source": [
    "coins.head(3)  #  Первые 3 строки таблицы. Аналогично tail для последних строк"
   ]
  },
  {
   "cell_type": "code",
   "execution_count": 8,
   "id": "0b407560",
   "metadata": {},
   "outputs": [
    {
     "data": {
      "text/html": [
       "<div>\n",
       "<style scoped>\n",
       "    .dataframe tbody tr th:only-of-type {\n",
       "        vertical-align: middle;\n",
       "    }\n",
       "\n",
       "    .dataframe tbody tr th {\n",
       "        vertical-align: top;\n",
       "    }\n",
       "\n",
       "    .dataframe thead th {\n",
       "        text-align: right;\n",
       "    }\n",
       "</style>\n",
       "<table border=\"1\" class=\"dataframe\">\n",
       "  <thead>\n",
       "    <tr style=\"text-align: right;\">\n",
       "      <th></th>\n",
       "      <th>price</th>\n",
       "      <th>txCount</th>\n",
       "      <th>txVolume</th>\n",
       "      <th>activeAddresses</th>\n",
       "      <th>open</th>\n",
       "      <th>high</th>\n",
       "      <th>low</th>\n",
       "      <th>close</th>\n",
       "      <th>volume</th>\n",
       "      <th>market</th>\n",
       "    </tr>\n",
       "  </thead>\n",
       "  <tbody>\n",
       "    <tr>\n",
       "      <th>count</th>\n",
       "      <td>37261.000000</td>\n",
       "      <td>3.606800e+04</td>\n",
       "      <td>3.575800e+04</td>\n",
       "      <td>3.606800e+04</td>\n",
       "      <td>37588.000000</td>\n",
       "      <td>37588.000000</td>\n",
       "      <td>37588.000000</td>\n",
       "      <td>37588.000000</td>\n",
       "      <td>3.758800e+04</td>\n",
       "      <td>3.758800e+04</td>\n",
       "    </tr>\n",
       "    <tr>\n",
       "      <th>mean</th>\n",
       "      <td>127.395042</td>\n",
       "      <td>1.960144e+04</td>\n",
       "      <td>4.745076e+53</td>\n",
       "      <td>3.295039e+04</td>\n",
       "      <td>125.652051</td>\n",
       "      <td>131.127449</td>\n",
       "      <td>119.791636</td>\n",
       "      <td>125.771519</td>\n",
       "      <td>1.302249e+08</td>\n",
       "      <td>2.720948e+09</td>\n",
       "    </tr>\n",
       "    <tr>\n",
       "      <th>std</th>\n",
       "      <td>859.109058</td>\n",
       "      <td>7.702995e+04</td>\n",
       "      <td>8.972837e+55</td>\n",
       "      <td>1.143196e+05</td>\n",
       "      <td>855.436562</td>\n",
       "      <td>890.527305</td>\n",
       "      <td>813.697042</td>\n",
       "      <td>855.954704</td>\n",
       "      <td>8.042239e+08</td>\n",
       "      <td>1.534546e+10</td>\n",
       "    </tr>\n",
       "    <tr>\n",
       "      <th>min</th>\n",
       "      <td>0.000002</td>\n",
       "      <td>0.000000e+00</td>\n",
       "      <td>0.000000e+00</td>\n",
       "      <td>0.000000e+00</td>\n",
       "      <td>0.000002</td>\n",
       "      <td>0.000003</td>\n",
       "      <td>0.000002</td>\n",
       "      <td>0.000002</td>\n",
       "      <td>0.000000e+00</td>\n",
       "      <td>0.000000e+00</td>\n",
       "    </tr>\n",
       "    <tr>\n",
       "      <th>25%</th>\n",
       "      <td>0.059871</td>\n",
       "      <td>3.410000e+02</td>\n",
       "      <td>2.751161e+05</td>\n",
       "      <td>2.920000e+02</td>\n",
       "      <td>0.053032</td>\n",
       "      <td>0.057809</td>\n",
       "      <td>0.049289</td>\n",
       "      <td>0.053147</td>\n",
       "      <td>8.794400e+04</td>\n",
       "      <td>1.356655e+07</td>\n",
       "    </tr>\n",
       "    <tr>\n",
       "      <th>50%</th>\n",
       "      <td>1.020000</td>\n",
       "      <td>1.214500e+03</td>\n",
       "      <td>2.007019e+06</td>\n",
       "      <td>1.388000e+03</td>\n",
       "      <td>1.000000</td>\n",
       "      <td>1.050000</td>\n",
       "      <td>1.000000</td>\n",
       "      <td>1.000000</td>\n",
       "      <td>1.949815e+06</td>\n",
       "      <td>1.323890e+08</td>\n",
       "    </tr>\n",
       "    <tr>\n",
       "      <th>75%</th>\n",
       "      <td>8.710000</td>\n",
       "      <td>6.247000e+03</td>\n",
       "      <td>1.425408e+07</td>\n",
       "      <td>1.173400e+04</td>\n",
       "      <td>8.772500</td>\n",
       "      <td>9.480000</td>\n",
       "      <td>8.150000</td>\n",
       "      <td>8.810000</td>\n",
       "      <td>1.770732e+07</td>\n",
       "      <td>5.156410e+08</td>\n",
       "    </tr>\n",
       "    <tr>\n",
       "      <th>max</th>\n",
       "      <td>19475.800000</td>\n",
       "      <td>1.349890e+06</td>\n",
       "      <td>1.696744e+58</td>\n",
       "      <td>1.283929e+06</td>\n",
       "      <td>19475.800000</td>\n",
       "      <td>20089.000000</td>\n",
       "      <td>18974.100000</td>\n",
       "      <td>19497.400000</td>\n",
       "      <td>2.384090e+10</td>\n",
       "      <td>3.261410e+11</td>\n",
       "    </tr>\n",
       "  </tbody>\n",
       "</table>\n",
       "</div>"
      ],
      "text/plain": [
       "              price       txCount      txVolume  activeAddresses  \\\n",
       "count  37261.000000  3.606800e+04  3.575800e+04     3.606800e+04   \n",
       "mean     127.395042  1.960144e+04  4.745076e+53     3.295039e+04   \n",
       "std      859.109058  7.702995e+04  8.972837e+55     1.143196e+05   \n",
       "min        0.000002  0.000000e+00  0.000000e+00     0.000000e+00   \n",
       "25%        0.059871  3.410000e+02  2.751161e+05     2.920000e+02   \n",
       "50%        1.020000  1.214500e+03  2.007019e+06     1.388000e+03   \n",
       "75%        8.710000  6.247000e+03  1.425408e+07     1.173400e+04   \n",
       "max    19475.800000  1.349890e+06  1.696744e+58     1.283929e+06   \n",
       "\n",
       "               open          high           low         close        volume  \\\n",
       "count  37588.000000  37588.000000  37588.000000  37588.000000  3.758800e+04   \n",
       "mean     125.652051    131.127449    119.791636    125.771519  1.302249e+08   \n",
       "std      855.436562    890.527305    813.697042    855.954704  8.042239e+08   \n",
       "min        0.000002      0.000003      0.000002      0.000002  0.000000e+00   \n",
       "25%        0.053032      0.057809      0.049289      0.053147  8.794400e+04   \n",
       "50%        1.000000      1.050000      1.000000      1.000000  1.949815e+06   \n",
       "75%        8.772500      9.480000      8.150000      8.810000  1.770732e+07   \n",
       "max    19475.800000  20089.000000  18974.100000  19497.400000  2.384090e+10   \n",
       "\n",
       "             market  \n",
       "count  3.758800e+04  \n",
       "mean   2.720948e+09  \n",
       "std    1.534546e+10  \n",
       "min    0.000000e+00  \n",
       "25%    1.356655e+07  \n",
       "50%    1.323890e+08  \n",
       "75%    5.156410e+08  \n",
       "max    3.261410e+11  "
      ]
     },
     "execution_count": 8,
     "metadata": {},
     "output_type": "execute_result"
    }
   ],
   "source": [
    "coins.describe()  # Простейшие статистики для числовых колонок"
   ]
  },
  {
   "cell_type": "code",
   "execution_count": 9,
   "id": "144dab56",
   "metadata": {},
   "outputs": [
    {
     "data": {
      "text/plain": [
       "0        135.300000\n",
       "1          4.300000\n",
       "2        134.440000\n",
       "3          4.370000\n",
       "4        144.000000\n",
       "            ...    \n",
       "37583      0.293325\n",
       "37584      0.039586\n",
       "37585    239.760000\n",
       "37586      0.127555\n",
       "37587      1.270000\n",
       "Name: price, Length: 37588, dtype: float64"
      ]
     },
     "execution_count": 9,
     "metadata": {},
     "output_type": "execute_result"
    }
   ],
   "source": [
    "coins['price']  # Можно выбрать отдельную колонку"
   ]
  },
  {
   "cell_type": "code",
   "execution_count": 10,
   "id": "08b1072e",
   "metadata": {},
   "outputs": [
    {
     "data": {
      "text/plain": [
       "0         3.880000\n",
       "1         0.220000\n",
       "2        13.490000\n",
       "3         0.340000\n",
       "4        12.880000\n",
       "           ...    \n",
       "37583     0.010455\n",
       "37584     0.002057\n",
       "37585    11.130000\n",
       "37586     0.009060\n",
       "37587     0.090000\n",
       "Length: 37588, dtype: float64"
      ]
     },
     "execution_count": 10,
     "metadata": {},
     "output_type": "execute_result"
    }
   ],
   "source": [
    "coins['high'] - coins['low']  # Над колонками работают поэлементные операции"
   ]
  },
  {
   "cell_type": "code",
   "execution_count": 11,
   "id": "b5da5194",
   "metadata": {},
   "outputs": [],
   "source": [
    "coins['spread'] = coins['high'] - coins['low']  # Можно добавлять новые колонки в таб"
   ]
  },
  {
   "cell_type": "code",
   "execution_count": 12,
   "id": "f64d8be5",
   "metadata": {},
   "outputs": [],
   "source": [
    "del coins['spread']  # Удаляем добавленную колонку. Можно иначе: coins.pop('spread')"
   ]
  },
  {
   "cell_type": "markdown",
   "id": "ca4a028f",
   "metadata": {},
   "source": [
    "Колонки в таблицах pandas ведут себя как массивы. Приятное отличие состоит в том, что колонки имеют много полезных для аналитики методов. Например,"
   ]
  },
  {
   "cell_type": "code",
   "execution_count": 13,
   "id": "399a3601",
   "metadata": {},
   "outputs": [
    {
     "data": {
      "text/plain": [
       "BTC      1866\n",
       "LTC      1866\n",
       "DOGE     1635\n",
       "VTC      1599\n",
       "DGB      1582\n",
       "         ... \n",
       "ZIL       133\n",
       "POLY      125\n",
       "CENNZ      86\n",
       "LOOM       85\n",
       "CTXC       52\n",
       "Name: symbol, Length: 66, dtype: int64"
      ]
     },
     "execution_count": 13,
     "metadata": {},
     "output_type": "execute_result"
    }
   ],
   "source": [
    "coins['symbol'].value_counts() # Количества записей в таблице для каждой монеты"
   ]
  },
  {
   "cell_type": "code",
   "execution_count": 14,
   "id": "73a68994",
   "metadata": {},
   "outputs": [
    {
     "data": {
      "text/plain": [
       "19475.8"
      ]
     },
     "execution_count": 14,
     "metadata": {},
     "output_type": "execute_result"
    }
   ],
   "source": [
    "# Самая высокая цена монеты во всей таблице. \n",
    "coins['price'].max()"
   ]
  },
  {
   "cell_type": "code",
   "execution_count": 15,
   "id": "d3199c22",
   "metadata": {},
   "outputs": [
    {
     "data": {
      "text/plain": [
       "0    6.879868e+07\n",
       "1    4.431952e+07\n",
       "2    1.138128e+08\n",
       "3    3.647810e+07\n",
       "Name: txVolume, dtype: float64"
      ]
     },
     "execution_count": 15,
     "metadata": {},
     "output_type": "execute_result"
    }
   ],
   "source": [
    "# Для колонок работают стандартные методы индексации списков, но есть и другие...\n",
    "coins['txVolume'][:4]"
   ]
  },
  {
   "cell_type": "markdown",
   "id": "9720ba0f",
   "metadata": {},
   "source": [
    "Для колонок определены бинарные операции и методы которые возвращают специальную колонку из булевских значений. Истина будет храниться только для тех индексов для которых выполнено условие. Лучше объяснит пример"
   ]
  },
  {
   "cell_type": "code",
   "execution_count": 16,
   "id": "0976a43e",
   "metadata": {},
   "outputs": [
    {
     "data": {
      "text/plain": [
       "0         True\n",
       "1         True\n",
       "2         True\n",
       "3         True\n",
       "4         True\n",
       "         ...  \n",
       "37583     True\n",
       "37584     True\n",
       "37585     True\n",
       "37586     True\n",
       "37587    False\n",
       "Name: txCount, Length: 37588, dtype: bool"
      ]
     },
     "execution_count": 16,
     "metadata": {},
     "output_type": "execute_result"
    }
   ],
   "source": [
    "# Строки колонки для которых txCount был больше 1000\n",
    "coins['txCount'] > 1000"
   ]
  },
  {
   "cell_type": "code",
   "execution_count": 17,
   "id": "688acecf",
   "metadata": {},
   "outputs": [
    {
     "data": {
      "text/html": [
       "<div>\n",
       "<style scoped>\n",
       "    .dataframe tbody tr th:only-of-type {\n",
       "        vertical-align: middle;\n",
       "    }\n",
       "\n",
       "    .dataframe tbody tr th {\n",
       "        vertical-align: top;\n",
       "    }\n",
       "\n",
       "    .dataframe thead th {\n",
       "        text-align: right;\n",
       "    }\n",
       "</style>\n",
       "<table border=\"1\" class=\"dataframe\">\n",
       "  <thead>\n",
       "    <tr style=\"text-align: right;\">\n",
       "      <th></th>\n",
       "      <th>date</th>\n",
       "      <th>price</th>\n",
       "      <th>txCount</th>\n",
       "      <th>txVolume</th>\n",
       "      <th>activeAddresses</th>\n",
       "      <th>symbol</th>\n",
       "      <th>name</th>\n",
       "      <th>open</th>\n",
       "      <th>high</th>\n",
       "      <th>low</th>\n",
       "      <th>close</th>\n",
       "      <th>volume</th>\n",
       "      <th>market</th>\n",
       "    </tr>\n",
       "  </thead>\n",
       "  <tbody>\n",
       "    <tr>\n",
       "      <th>0</th>\n",
       "      <td>2013-04-28</td>\n",
       "      <td>135.30</td>\n",
       "      <td>41702.0</td>\n",
       "      <td>6.879868e+07</td>\n",
       "      <td>117984.0</td>\n",
       "      <td>BTC</td>\n",
       "      <td>Bitcoin</td>\n",
       "      <td>135.30</td>\n",
       "      <td>135.98</td>\n",
       "      <td>132.10</td>\n",
       "      <td>134.21</td>\n",
       "      <td>0.000000e+00</td>\n",
       "      <td>1.500520e+09</td>\n",
       "    </tr>\n",
       "    <tr>\n",
       "      <th>2</th>\n",
       "      <td>2013-04-29</td>\n",
       "      <td>134.44</td>\n",
       "      <td>51602.0</td>\n",
       "      <td>1.138128e+08</td>\n",
       "      <td>86925.0</td>\n",
       "      <td>BTC</td>\n",
       "      <td>Bitcoin</td>\n",
       "      <td>134.44</td>\n",
       "      <td>147.49</td>\n",
       "      <td>134.00</td>\n",
       "      <td>144.54</td>\n",
       "      <td>0.000000e+00</td>\n",
       "      <td>1.491160e+09</td>\n",
       "    </tr>\n",
       "    <tr>\n",
       "      <th>4</th>\n",
       "      <td>2013-04-30</td>\n",
       "      <td>144.00</td>\n",
       "      <td>47450.0</td>\n",
       "      <td>8.426632e+07</td>\n",
       "      <td>76871.0</td>\n",
       "      <td>BTC</td>\n",
       "      <td>Bitcoin</td>\n",
       "      <td>144.00</td>\n",
       "      <td>146.93</td>\n",
       "      <td>134.05</td>\n",
       "      <td>139.00</td>\n",
       "      <td>0.000000e+00</td>\n",
       "      <td>1.597780e+09</td>\n",
       "    </tr>\n",
       "    <tr>\n",
       "      <th>6</th>\n",
       "      <td>2013-05-01</td>\n",
       "      <td>139.00</td>\n",
       "      <td>55176.0</td>\n",
       "      <td>1.206825e+08</td>\n",
       "      <td>83564.0</td>\n",
       "      <td>BTC</td>\n",
       "      <td>Bitcoin</td>\n",
       "      <td>139.00</td>\n",
       "      <td>139.89</td>\n",
       "      <td>107.72</td>\n",
       "      <td>116.99</td>\n",
       "      <td>0.000000e+00</td>\n",
       "      <td>1.542820e+09</td>\n",
       "    </tr>\n",
       "    <tr>\n",
       "      <th>8</th>\n",
       "      <td>2013-05-02</td>\n",
       "      <td>116.38</td>\n",
       "      <td>55295.0</td>\n",
       "      <td>9.337533e+07</td>\n",
       "      <td>81920.0</td>\n",
       "      <td>BTC</td>\n",
       "      <td>Bitcoin</td>\n",
       "      <td>116.38</td>\n",
       "      <td>125.60</td>\n",
       "      <td>92.28</td>\n",
       "      <td>105.21</td>\n",
       "      <td>0.000000e+00</td>\n",
       "      <td>1.292190e+09</td>\n",
       "    </tr>\n",
       "    <tr>\n",
       "      <th>...</th>\n",
       "      <td>...</td>\n",
       "      <td>...</td>\n",
       "      <td>...</td>\n",
       "      <td>...</td>\n",
       "      <td>...</td>\n",
       "      <td>...</td>\n",
       "      <td>...</td>\n",
       "      <td>...</td>\n",
       "      <td>...</td>\n",
       "      <td>...</td>\n",
       "      <td>...</td>\n",
       "      <td>...</td>\n",
       "      <td>...</td>\n",
       "    </tr>\n",
       "    <tr>\n",
       "      <th>37541</th>\n",
       "      <td>2018-06-06</td>\n",
       "      <td>15.55</td>\n",
       "      <td>36167.0</td>\n",
       "      <td>1.716346e+07</td>\n",
       "      <td>15789.0</td>\n",
       "      <td>ETC</td>\n",
       "      <td>Ethereum Classic</td>\n",
       "      <td>15.55</td>\n",
       "      <td>15.65</td>\n",
       "      <td>14.95</td>\n",
       "      <td>15.25</td>\n",
       "      <td>1.104810e+08</td>\n",
       "      <td>1.587700e+09</td>\n",
       "    </tr>\n",
       "    <tr>\n",
       "      <th>37542</th>\n",
       "      <td>2018-06-06</td>\n",
       "      <td>610.26</td>\n",
       "      <td>754070.0</td>\n",
       "      <td>1.565794e+09</td>\n",
       "      <td>368496.0</td>\n",
       "      <td>ETH</td>\n",
       "      <td>Ethereum</td>\n",
       "      <td>610.26</td>\n",
       "      <td>611.64</td>\n",
       "      <td>596.40</td>\n",
       "      <td>607.12</td>\n",
       "      <td>1.756530e+09</td>\n",
       "      <td>6.096070e+10</td>\n",
       "    </tr>\n",
       "    <tr>\n",
       "      <th>37545</th>\n",
       "      <td>2018-06-06</td>\n",
       "      <td>19.61</td>\n",
       "      <td>32123.0</td>\n",
       "      <td>1.125525e+06</td>\n",
       "      <td>8389.0</td>\n",
       "      <td>GAS</td>\n",
       "      <td>Gas</td>\n",
       "      <td>19.61</td>\n",
       "      <td>20.04</td>\n",
       "      <td>19.29</td>\n",
       "      <td>19.95</td>\n",
       "      <td>4.858780e+06</td>\n",
       "      <td>1.986150e+08</td>\n",
       "    </tr>\n",
       "    <tr>\n",
       "      <th>37557</th>\n",
       "      <td>2018-06-06</td>\n",
       "      <td>121.89</td>\n",
       "      <td>25346.0</td>\n",
       "      <td>2.177631e+08</td>\n",
       "      <td>96040.0</td>\n",
       "      <td>LTC</td>\n",
       "      <td>Litecoin</td>\n",
       "      <td>121.89</td>\n",
       "      <td>122.14</td>\n",
       "      <td>118.56</td>\n",
       "      <td>121.18</td>\n",
       "      <td>3.241580e+08</td>\n",
       "      <td>6.929530e+09</td>\n",
       "    </tr>\n",
       "    <tr>\n",
       "      <th>37580</th>\n",
       "      <td>2018-06-06</td>\n",
       "      <td>4.33</td>\n",
       "      <td>59491.0</td>\n",
       "      <td>3.447123e+06</td>\n",
       "      <td>5491.0</td>\n",
       "      <td>WAVES</td>\n",
       "      <td>Waves</td>\n",
       "      <td>4.33</td>\n",
       "      <td>4.35</td>\n",
       "      <td>4.24</td>\n",
       "      <td>4.32</td>\n",
       "      <td>2.493120e+07</td>\n",
       "      <td>4.326770e+08</td>\n",
       "    </tr>\n",
       "  </tbody>\n",
       "</table>\n",
       "<p>4704 rows × 13 columns</p>\n",
       "</div>"
      ],
      "text/plain": [
       "             date   price   txCount      txVolume  activeAddresses symbol  \\\n",
       "0      2013-04-28  135.30   41702.0  6.879868e+07         117984.0    BTC   \n",
       "2      2013-04-29  134.44   51602.0  1.138128e+08          86925.0    BTC   \n",
       "4      2013-04-30  144.00   47450.0  8.426632e+07          76871.0    BTC   \n",
       "6      2013-05-01  139.00   55176.0  1.206825e+08          83564.0    BTC   \n",
       "8      2013-05-02  116.38   55295.0  9.337533e+07          81920.0    BTC   \n",
       "...           ...     ...       ...           ...              ...    ...   \n",
       "37541  2018-06-06   15.55   36167.0  1.716346e+07          15789.0    ETC   \n",
       "37542  2018-06-06  610.26  754070.0  1.565794e+09         368496.0    ETH   \n",
       "37545  2018-06-06   19.61   32123.0  1.125525e+06           8389.0    GAS   \n",
       "37557  2018-06-06  121.89   25346.0  2.177631e+08          96040.0    LTC   \n",
       "37580  2018-06-06    4.33   59491.0  3.447123e+06           5491.0  WAVES   \n",
       "\n",
       "                   name    open    high     low   close        volume  \\\n",
       "0               Bitcoin  135.30  135.98  132.10  134.21  0.000000e+00   \n",
       "2               Bitcoin  134.44  147.49  134.00  144.54  0.000000e+00   \n",
       "4               Bitcoin  144.00  146.93  134.05  139.00  0.000000e+00   \n",
       "6               Bitcoin  139.00  139.89  107.72  116.99  0.000000e+00   \n",
       "8               Bitcoin  116.38  125.60   92.28  105.21  0.000000e+00   \n",
       "...                 ...     ...     ...     ...     ...           ...   \n",
       "37541  Ethereum Classic   15.55   15.65   14.95   15.25  1.104810e+08   \n",
       "37542          Ethereum  610.26  611.64  596.40  607.12  1.756530e+09   \n",
       "37545               Gas   19.61   20.04   19.29   19.95  4.858780e+06   \n",
       "37557          Litecoin  121.89  122.14  118.56  121.18  3.241580e+08   \n",
       "37580             Waves    4.33    4.35    4.24    4.32  2.493120e+07   \n",
       "\n",
       "             market  \n",
       "0      1.500520e+09  \n",
       "2      1.491160e+09  \n",
       "4      1.597780e+09  \n",
       "6      1.542820e+09  \n",
       "8      1.292190e+09  \n",
       "...             ...  \n",
       "37541  1.587700e+09  \n",
       "37542  6.096070e+10  \n",
       "37545  1.986150e+08  \n",
       "37557  6.929530e+09  \n",
       "37580  4.326770e+08  \n",
       "\n",
       "[4704 rows x 13 columns]"
      ]
     },
     "execution_count": 17,
     "metadata": {},
     "output_type": "execute_result"
    }
   ],
   "source": [
    "coins[coins['txCount'] > 20000]"
   ]
  },
  {
   "cell_type": "code",
   "execution_count": 18,
   "id": "6fca0433",
   "metadata": {},
   "outputs": [
    {
     "data": {
      "text/plain": [
       "0         True\n",
       "1        False\n",
       "2         True\n",
       "3        False\n",
       "4         True\n",
       "         ...  \n",
       "37583    False\n",
       "37584    False\n",
       "37585    False\n",
       "37586    False\n",
       "37587    False\n",
       "Name: symbol, Length: 37588, dtype: bool"
      ]
     },
     "execution_count": 18,
     "metadata": {},
     "output_type": "execute_result"
    }
   ],
   "source": [
    "# Строки в которых значение попадает в заранее заданный набор\n",
    "coins['symbol'].isin(['BTC', 'ADA'])"
   ]
  },
  {
   "cell_type": "code",
   "execution_count": 19,
   "id": "9065c13e",
   "metadata": {},
   "outputs": [
    {
     "data": {
      "text/plain": [
       "0         True\n",
       "1         True\n",
       "2         True\n",
       "3         True\n",
       "4         True\n",
       "         ...  \n",
       "37583    False\n",
       "37584    False\n",
       "37585     True\n",
       "37586    False\n",
       "37587    False\n",
       "Name: symbol, Length: 37588, dtype: bool"
      ]
     },
     "execution_count": 19,
     "metadata": {},
     "output_type": "execute_result"
    }
   ],
   "source": [
    "# Строки колонки в которых имя монеты содержит букву 'C' \n",
    "coins['symbol'].str.contains('C')"
   ]
  },
  {
   "cell_type": "code",
   "execution_count": 20,
   "id": "b13e15c3",
   "metadata": {},
   "outputs": [
    {
     "data": {
      "text/plain": [
       "0         True\n",
       "1        False\n",
       "2         True\n",
       "3        False\n",
       "4         True\n",
       "         ...  \n",
       "37583    False\n",
       "37584    False\n",
       "37585    False\n",
       "37586    False\n",
       "37587    False\n",
       "Length: 37588, dtype: bool"
      ]
     },
     "execution_count": 20,
     "metadata": {},
     "output_type": "execute_result"
    }
   ],
   "source": [
    "# Для колонок можно составлять сложные логические выражения (скобки обязательны!)\n",
    "((coins['price'] > 18000) | (coins['market'] > 200000)) & (coins['symbol'] == 'BTC')"
   ]
  },
  {
   "cell_type": "markdown",
   "id": "500ff16d",
   "metadata": {},
   "source": [
    "Основное назначение получающихся булевых колонок в том, что они могут быть использованы как индексирующий объект. Эдакий продвинутый slicing для колонок и таблиц"
   ]
  },
  {
   "cell_type": "code",
   "execution_count": 21,
   "id": "6034f539",
   "metadata": {},
   "outputs": [
    {
     "data": {
      "text/html": [
       "<div>\n",
       "<style scoped>\n",
       "    .dataframe tbody tr th:only-of-type {\n",
       "        vertical-align: middle;\n",
       "    }\n",
       "\n",
       "    .dataframe tbody tr th {\n",
       "        vertical-align: top;\n",
       "    }\n",
       "\n",
       "    .dataframe thead th {\n",
       "        text-align: right;\n",
       "    }\n",
       "</style>\n",
       "<table border=\"1\" class=\"dataframe\">\n",
       "  <thead>\n",
       "    <tr style=\"text-align: right;\">\n",
       "      <th></th>\n",
       "      <th>date</th>\n",
       "      <th>price</th>\n",
       "      <th>txCount</th>\n",
       "      <th>txVolume</th>\n",
       "      <th>activeAddresses</th>\n",
       "      <th>symbol</th>\n",
       "      <th>name</th>\n",
       "      <th>open</th>\n",
       "      <th>high</th>\n",
       "      <th>low</th>\n",
       "      <th>close</th>\n",
       "      <th>volume</th>\n",
       "      <th>market</th>\n",
       "    </tr>\n",
       "  </thead>\n",
       "  <tbody>\n",
       "    <tr>\n",
       "      <th>12</th>\n",
       "      <td>2013-05-04</td>\n",
       "      <td>98.10</td>\n",
       "      <td>50102.0</td>\n",
       "      <td>3.896570e+07</td>\n",
       "      <td>69959.0</td>\n",
       "      <td>BTC</td>\n",
       "      <td>Bitcoin</td>\n",
       "      <td>98.10</td>\n",
       "      <td>115.00</td>\n",
       "      <td>92.50</td>\n",
       "      <td>112.50</td>\n",
       "      <td>0.0</td>\n",
       "      <td>1.089890e+09</td>\n",
       "    </tr>\n",
       "    <tr>\n",
       "      <th>98</th>\n",
       "      <td>2013-06-16</td>\n",
       "      <td>99.80</td>\n",
       "      <td>42781.0</td>\n",
       "      <td>4.696943e+07</td>\n",
       "      <td>48785.0</td>\n",
       "      <td>BTC</td>\n",
       "      <td>Bitcoin</td>\n",
       "      <td>99.80</td>\n",
       "      <td>101.60</td>\n",
       "      <td>98.95</td>\n",
       "      <td>99.51</td>\n",
       "      <td>0.0</td>\n",
       "      <td>1.127120e+09</td>\n",
       "    </tr>\n",
       "    <tr>\n",
       "      <th>100</th>\n",
       "      <td>2013-06-17</td>\n",
       "      <td>99.90</td>\n",
       "      <td>45798.0</td>\n",
       "      <td>5.455223e+07</td>\n",
       "      <td>56902.0</td>\n",
       "      <td>BTC</td>\n",
       "      <td>Bitcoin</td>\n",
       "      <td>99.90</td>\n",
       "      <td>102.21</td>\n",
       "      <td>99.00</td>\n",
       "      <td>101.70</td>\n",
       "      <td>0.0</td>\n",
       "      <td>1.128720e+09</td>\n",
       "    </tr>\n",
       "    <tr>\n",
       "      <th>124</th>\n",
       "      <td>2013-06-29</td>\n",
       "      <td>94.66</td>\n",
       "      <td>36376.0</td>\n",
       "      <td>4.519440e+07</td>\n",
       "      <td>60980.0</td>\n",
       "      <td>BTC</td>\n",
       "      <td>Bitcoin</td>\n",
       "      <td>94.66</td>\n",
       "      <td>99.99</td>\n",
       "      <td>93.00</td>\n",
       "      <td>94.99</td>\n",
       "      <td>0.0</td>\n",
       "      <td>1.074010e+09</td>\n",
       "    </tr>\n",
       "    <tr>\n",
       "      <th>126</th>\n",
       "      <td>2013-06-30</td>\n",
       "      <td>95.00</td>\n",
       "      <td>30800.0</td>\n",
       "      <td>3.584930e+07</td>\n",
       "      <td>50485.0</td>\n",
       "      <td>BTC</td>\n",
       "      <td>Bitcoin</td>\n",
       "      <td>95.00</td>\n",
       "      <td>98.12</td>\n",
       "      <td>94.22</td>\n",
       "      <td>96.61</td>\n",
       "      <td>0.0</td>\n",
       "      <td>1.078260e+09</td>\n",
       "    </tr>\n",
       "    <tr>\n",
       "      <th>...</th>\n",
       "      <td>...</td>\n",
       "      <td>...</td>\n",
       "      <td>...</td>\n",
       "      <td>...</td>\n",
       "      <td>...</td>\n",
       "      <td>...</td>\n",
       "      <td>...</td>\n",
       "      <td>...</td>\n",
       "      <td>...</td>\n",
       "      <td>...</td>\n",
       "      <td>...</td>\n",
       "      <td>...</td>\n",
       "      <td>...</td>\n",
       "    </tr>\n",
       "    <tr>\n",
       "      <th>176</th>\n",
       "      <td>2013-07-25</td>\n",
       "      <td>94.50</td>\n",
       "      <td>42384.0</td>\n",
       "      <td>7.153660e+07</td>\n",
       "      <td>66440.0</td>\n",
       "      <td>BTC</td>\n",
       "      <td>Bitcoin</td>\n",
       "      <td>94.50</td>\n",
       "      <td>97.33</td>\n",
       "      <td>93.87</td>\n",
       "      <td>96.90</td>\n",
       "      <td>0.0</td>\n",
       "      <td>1.082800e+09</td>\n",
       "    </tr>\n",
       "    <tr>\n",
       "      <th>178</th>\n",
       "      <td>2013-07-26</td>\n",
       "      <td>96.95</td>\n",
       "      <td>37209.0</td>\n",
       "      <td>7.056459e+07</td>\n",
       "      <td>62558.0</td>\n",
       "      <td>BTC</td>\n",
       "      <td>Bitcoin</td>\n",
       "      <td>96.95</td>\n",
       "      <td>97.47</td>\n",
       "      <td>96.00</td>\n",
       "      <td>96.02</td>\n",
       "      <td>0.0</td>\n",
       "      <td>1.111160e+09</td>\n",
       "    </tr>\n",
       "    <tr>\n",
       "      <th>180</th>\n",
       "      <td>2013-07-27</td>\n",
       "      <td>96.02</td>\n",
       "      <td>36711.0</td>\n",
       "      <td>4.158844e+07</td>\n",
       "      <td>52438.0</td>\n",
       "      <td>BTC</td>\n",
       "      <td>Bitcoin</td>\n",
       "      <td>96.02</td>\n",
       "      <td>97.00</td>\n",
       "      <td>93.00</td>\n",
       "      <td>94.12</td>\n",
       "      <td>0.0</td>\n",
       "      <td>1.100900e+09</td>\n",
       "    </tr>\n",
       "    <tr>\n",
       "      <th>182</th>\n",
       "      <td>2013-07-28</td>\n",
       "      <td>94.40</td>\n",
       "      <td>37134.0</td>\n",
       "      <td>5.463939e+07</td>\n",
       "      <td>49179.0</td>\n",
       "      <td>BTC</td>\n",
       "      <td>Bitcoin</td>\n",
       "      <td>94.40</td>\n",
       "      <td>100.58</td>\n",
       "      <td>94.00</td>\n",
       "      <td>99.76</td>\n",
       "      <td>0.0</td>\n",
       "      <td>1.082750e+09</td>\n",
       "    </tr>\n",
       "    <tr>\n",
       "      <th>184</th>\n",
       "      <td>2013-07-29</td>\n",
       "      <td>98.60</td>\n",
       "      <td>41634.0</td>\n",
       "      <td>7.030931e+07</td>\n",
       "      <td>67473.0</td>\n",
       "      <td>BTC</td>\n",
       "      <td>Bitcoin</td>\n",
       "      <td>98.60</td>\n",
       "      <td>102.50</td>\n",
       "      <td>98.45</td>\n",
       "      <td>101.20</td>\n",
       "      <td>0.0</td>\n",
       "      <td>1.131340e+09</td>\n",
       "    </tr>\n",
       "  </tbody>\n",
       "</table>\n",
       "<p>34 rows × 13 columns</p>\n",
       "</div>"
      ],
      "text/plain": [
       "           date  price  txCount      txVolume  activeAddresses symbol  \\\n",
       "12   2013-05-04  98.10  50102.0  3.896570e+07          69959.0    BTC   \n",
       "98   2013-06-16  99.80  42781.0  4.696943e+07          48785.0    BTC   \n",
       "100  2013-06-17  99.90  45798.0  5.455223e+07          56902.0    BTC   \n",
       "124  2013-06-29  94.66  36376.0  4.519440e+07          60980.0    BTC   \n",
       "126  2013-06-30  95.00  30800.0  3.584930e+07          50485.0    BTC   \n",
       "..          ...    ...      ...           ...              ...    ...   \n",
       "176  2013-07-25  94.50  42384.0  7.153660e+07          66440.0    BTC   \n",
       "178  2013-07-26  96.95  37209.0  7.056459e+07          62558.0    BTC   \n",
       "180  2013-07-27  96.02  36711.0  4.158844e+07          52438.0    BTC   \n",
       "182  2013-07-28  94.40  37134.0  5.463939e+07          49179.0    BTC   \n",
       "184  2013-07-29  98.60  41634.0  7.030931e+07          67473.0    BTC   \n",
       "\n",
       "        name   open    high    low   close  volume        market  \n",
       "12   Bitcoin  98.10  115.00  92.50  112.50     0.0  1.089890e+09  \n",
       "98   Bitcoin  99.80  101.60  98.95   99.51     0.0  1.127120e+09  \n",
       "100  Bitcoin  99.90  102.21  99.00  101.70     0.0  1.128720e+09  \n",
       "124  Bitcoin  94.66   99.99  93.00   94.99     0.0  1.074010e+09  \n",
       "126  Bitcoin  95.00   98.12  94.22   96.61     0.0  1.078260e+09  \n",
       "..       ...    ...     ...    ...     ...     ...           ...  \n",
       "176  Bitcoin  94.50   97.33  93.87   96.90     0.0  1.082800e+09  \n",
       "178  Bitcoin  96.95   97.47  96.00   96.02     0.0  1.111160e+09  \n",
       "180  Bitcoin  96.02   97.00  93.00   94.12     0.0  1.100900e+09  \n",
       "182  Bitcoin  94.40  100.58  94.00   99.76     0.0  1.082750e+09  \n",
       "184  Bitcoin  98.60  102.50  98.45  101.20     0.0  1.131340e+09  \n",
       "\n",
       "[34 rows x 13 columns]"
      ]
     },
     "execution_count": 21,
     "metadata": {},
     "output_type": "execute_result"
    }
   ],
   "source": [
    "# Выбрать из таблицы записи когда цена биткоина была меньше 100 USD\n",
    "coins[(coins['price'] < 100) & (coins['symbol'] == 'BTC')]"
   ]
  },
  {
   "cell_type": "code",
   "execution_count": 22,
   "id": "293c6731",
   "metadata": {},
   "outputs": [
    {
     "data": {
      "text/plain": [
       "1         9174.0\n",
       "3         9275.0\n",
       "5         9099.0\n",
       "7         8990.0\n",
       "9         8031.0\n",
       "          ...   \n",
       "37277    22879.0\n",
       "37347    22155.0\n",
       "37417    24326.0\n",
       "37487    25172.0\n",
       "37557    25346.0\n",
       "Name: txCount, Length: 1866, dtype: float64"
      ]
     },
     "execution_count": 22,
     "metadata": {},
     "output_type": "execute_result"
    }
   ],
   "source": [
    "# Количество транзакций лайткойна\n",
    "coins['txCount'][coins['symbol'] == 'LTC']"
   ]
  },
  {
   "cell_type": "markdown",
   "id": "a36473f8",
   "metadata": {},
   "source": [
    "**Задание:** У какой монеты была самая высокая цена?"
   ]
  },
  {
   "cell_type": "code",
   "execution_count": null,
   "id": "8edce2a9",
   "metadata": {},
   "outputs": [],
   "source": [
    "#YOUR CODE HERE\n"
   ]
  },
  {
   "cell_type": "markdown",
   "id": "563407a4",
   "metadata": {},
   "source": [
    "Для таблиц есть индексирование и по строкам и по колонкам."
   ]
  },
  {
   "cell_type": "code",
   "execution_count": 23,
   "id": "ee02030a",
   "metadata": {},
   "outputs": [
    {
     "data": {
      "text/html": [
       "<div>\n",
       "<style scoped>\n",
       "    .dataframe tbody tr th:only-of-type {\n",
       "        vertical-align: middle;\n",
       "    }\n",
       "\n",
       "    .dataframe tbody tr th {\n",
       "        vertical-align: top;\n",
       "    }\n",
       "\n",
       "    .dataframe thead th {\n",
       "        text-align: right;\n",
       "    }\n",
       "</style>\n",
       "<table border=\"1\" class=\"dataframe\">\n",
       "  <thead>\n",
       "    <tr style=\"text-align: right;\">\n",
       "      <th></th>\n",
       "      <th>high</th>\n",
       "      <th>volume</th>\n",
       "    </tr>\n",
       "  </thead>\n",
       "  <tbody>\n",
       "    <tr>\n",
       "      <th>27257</th>\n",
       "      <td>0.015788</td>\n",
       "      <td>283717000.0</td>\n",
       "    </tr>\n",
       "    <tr>\n",
       "      <th>27322</th>\n",
       "      <td>0.018773</td>\n",
       "      <td>288184000.0</td>\n",
       "    </tr>\n",
       "    <tr>\n",
       "      <th>27387</th>\n",
       "      <td>0.017664</td>\n",
       "      <td>235114000.0</td>\n",
       "    </tr>\n",
       "    <tr>\n",
       "      <th>27452</th>\n",
       "      <td>0.015569</td>\n",
       "      <td>115255000.0</td>\n",
       "    </tr>\n",
       "    <tr>\n",
       "      <th>27517</th>\n",
       "      <td>0.013560</td>\n",
       "      <td>100243000.0</td>\n",
       "    </tr>\n",
       "    <tr>\n",
       "      <th>27582</th>\n",
       "      <td>0.013153</td>\n",
       "      <td>62722000.0</td>\n",
       "    </tr>\n",
       "    <tr>\n",
       "      <th>27647</th>\n",
       "      <td>0.013339</td>\n",
       "      <td>56971300.0</td>\n",
       "    </tr>\n",
       "    <tr>\n",
       "      <th>27712</th>\n",
       "      <td>0.013653</td>\n",
       "      <td>55890600.0</td>\n",
       "    </tr>\n",
       "    <tr>\n",
       "      <th>27777</th>\n",
       "      <td>0.013187</td>\n",
       "      <td>65899000.0</td>\n",
       "    </tr>\n",
       "    <tr>\n",
       "      <th>27842</th>\n",
       "      <td>0.011779</td>\n",
       "      <td>62765500.0</td>\n",
       "    </tr>\n",
       "  </tbody>\n",
       "</table>\n",
       "</div>"
      ],
      "text/plain": [
       "           high       volume\n",
       "27257  0.015788  283717000.0\n",
       "27322  0.018773  288184000.0\n",
       "27387  0.017664  235114000.0\n",
       "27452  0.015569  115255000.0\n",
       "27517  0.013560  100243000.0\n",
       "27582  0.013153   62722000.0\n",
       "27647  0.013339   56971300.0\n",
       "27712  0.013653   55890600.0\n",
       "27777  0.013187   65899000.0\n",
       "27842  0.011779   62765500.0"
      ]
     },
     "execution_count": 23,
     "metadata": {},
     "output_type": "execute_result"
    }
   ],
   "source": [
    "# Выбрать из таблицы максимальную цену и объем торгов за дни когда цена дож была выше 1 цента\n",
    "coins.loc[\n",
    "    (coins['symbol'] == 'DOGE') & (coins['price'] > 0.01),\n",
    "    ['high', 'volume']\n",
    "]"
   ]
  },
  {
   "cell_type": "markdown",
   "id": "fc7fb8d8",
   "metadata": {},
   "source": [
    "Начиная с этого момента вы уже можете делать простейшие выборки из данных и немного их преобразовывать. Конечно, не забывайте использовать help() и tab-completion чтобы узнать больше о возможностях pandas. В голове стоит держать такое правило: если вам очень хочется пройтись циклом по таблице и что-то сделать с данными, очень вероятно, что вы делаете что-то неправильно и, скорее всего, в pandas есть инструмент для вашей задачи. Оставшаяся часть ноутбука посвящена перечислению фич, и может показаться скучной, но не зная этих фич вы каждый раз будете переизобретать велосипед."
   ]
  },
  {
   "cell_type": "markdown",
   "id": "35db1cd8",
   "metadata": {},
   "source": [
    "### 2. Глобальные настройки"
   ]
  },
  {
   "cell_type": "markdown",
   "id": "a96e2242",
   "metadata": {},
   "source": [
    "Возможно вам захочется сконфигурировать работу pandas. Большинство глобальных настроек касаются отображения таблицы или данных"
   ]
  },
  {
   "cell_type": "code",
   "execution_count": 24,
   "id": "fdc8ef1b",
   "metadata": {},
   "outputs": [
    {
     "data": {
      "text/plain": [
       "20"
      ]
     },
     "execution_count": 24,
     "metadata": {},
     "output_type": "execute_result"
    }
   ],
   "source": [
    "# Узнать максимальное кол-во отображаемых в таблице с\n",
    "pd.get_option('display.max_columns')"
   ]
  },
  {
   "cell_type": "code",
   "execution_count": 25,
   "id": "4e9c1fae",
   "metadata": {},
   "outputs": [
    {
     "name": "stdout",
     "output_type": "stream",
     "text": [
      "display.max_columns : int\n",
      "    If max_cols is exceeded, switch to truncate view. Depending on\n",
      "    `large_repr`, objects are either centrally truncated or printed as\n",
      "    a summary view. 'None' value means unlimited.\n",
      "\n",
      "    In case python/IPython is running in a terminal and `large_repr`\n",
      "    equals 'truncate' this can be set to 0 and pandas will auto-detect\n",
      "    the width of the terminal and print a truncated object which fits\n",
      "    the screen width. The IPython notebook, IPython qtconsole, or IDLE\n",
      "    do not run in a terminal and hence it is not possible to do\n",
      "    correct auto-detection.\n",
      "    [default: 20] [currently: 20]\n"
     ]
    }
   ],
   "source": [
    "# Узнать больше про опцию. Список всех опций тут: \n",
    "# https://pandas.pydata.org/pandas-docs/version/0.23.4/options.html#available-options\n",
    "pd.describe_option('display.max_columns')"
   ]
  },
  {
   "cell_type": "code",
   "execution_count": 26,
   "id": "03006054",
   "metadata": {},
   "outputs": [],
   "source": [
    "# Назначть максимальное число отображаемых строк\n",
    "pd.set_option('display.max_columns', 15)"
   ]
  },
  {
   "cell_type": "markdown",
   "id": "94f40d32",
   "metadata": {},
   "source": [
    "### 3. Типы данных в pandas"
   ]
  },
  {
   "cell_type": "markdown",
   "id": "881ef78a",
   "metadata": {},
   "source": [
    "В pandas есть два основных типа данных. pandas.Series и pandas.DataFrame."
   ]
  },
  {
   "cell_type": "markdown",
   "id": "7e227242",
   "metadata": {},
   "source": [
    "#### 3.1 pandas.Series\n",
    "\n",
    "Про pandas.Series стоит думать как про одномерный массив фиксированного размера из данных одного типа. В отличие от массивов доступ к элементам может быть по нечисловому индексу. Индекс стоит понимать как имена строк.\n",
    "\n",
    "Объекты типа pandas.Series очень часто используются как возвращаемые значения в pandas."
   ]
  },
  {
   "cell_type": "code",
   "execution_count": 27,
   "id": "d571bb94",
   "metadata": {},
   "outputs": [
    {
     "data": {
      "text/plain": [
       "0     BTC\n",
       "1     LTC\n",
       "2    DOGE\n",
       "3    DASH\n",
       "dtype: object"
      ]
     },
     "execution_count": 27,
     "metadata": {},
     "output_type": "execute_result"
    }
   ],
   "source": [
    "# pandas.Series хранящий буквы со стандартной индексацией\n",
    "pd.Series(data=['BTC', 'LTC', 'DOGE', 'DASH'])"
   ]
  },
  {
   "cell_type": "code",
   "execution_count": 28,
   "id": "330dcb7f",
   "metadata": {},
   "outputs": [
    {
     "data": {
      "text/plain": [
       "first_coin     BTC\n",
       "second_coin    ETH\n",
       "third_coin     XRP\n",
       "dtype: object"
      ]
     },
     "execution_count": 28,
     "metadata": {},
     "output_type": "execute_result"
    }
   ],
   "source": [
    "# pandas.Series хранящий числа типа str cо специальным индексом\n",
    "pd.Series(data=['BTC', 'ETH', 'XRP'], \n",
    "          index=['first_coin', 'second_coin', 'third_coin'], dtype=str)"
   ]
  },
  {
   "cell_type": "code",
   "execution_count": 29,
   "id": "7dd8541f",
   "metadata": {},
   "outputs": [
    {
     "data": {
      "text/plain": [
       "first_coin     BTC\n",
       "second_coin    ETH\n",
       "third_coin     XRP\n",
       "dtype: object"
      ]
     },
     "execution_count": 29,
     "metadata": {},
     "output_type": "execute_result"
    }
   ],
   "source": [
    "# pandas.Series созданный из словаря\n",
    "pd.Series({'first_coin': 'BTC', 'second_coin': 'ETH', 'third_coin': 'XRP'})"
   ]
  },
  {
   "cell_type": "code",
   "execution_count": 30,
   "id": "e031c004",
   "metadata": {},
   "outputs": [],
   "source": [
    "# Стандартная индексация\n",
    "sequence = pd.Series(data=['!', 'the', 'Moon', 'To'])"
   ]
  },
  {
   "cell_type": "code",
   "execution_count": 31,
   "id": "96fc00d2",
   "metadata": {},
   "outputs": [
    {
     "data": {
      "text/plain": [
       "3      To\n",
       "1     the\n",
       "2    Moon\n",
       "0       !\n",
       "0       !\n",
       "0       !\n",
       "dtype: object"
      ]
     },
     "execution_count": 31,
     "metadata": {},
     "output_type": "execute_result"
    }
   ],
   "source": [
    "sequence[[3, 1, 2, 0, 0, 0]]  # Доступ к нескольким элементам по их позициям "
   ]
  },
  {
   "cell_type": "code",
   "execution_count": 32,
   "id": "4c4b2c48",
   "metadata": {},
   "outputs": [
    {
     "data": {
      "text/plain": [
       "'To'"
      ]
     },
     "execution_count": 32,
     "metadata": {},
     "output_type": "execute_result"
    }
   ],
   "source": [
    "sequence[3]  # Доступ к элементу по позиции"
   ]
  },
  {
   "cell_type": "code",
   "execution_count": 33,
   "id": "b14d97e6",
   "metadata": {},
   "outputs": [],
   "source": [
    "# Спец индексация\n",
    "sequence = pd.Series(data=['!', 'the', 'Moon', 'To'], \n",
    "                     index=['04-11-2018', '02-11-2018', '03-11-2018', '01-11-2018'])"
   ]
  },
  {
   "cell_type": "code",
   "execution_count": 34,
   "id": "225c67db",
   "metadata": {},
   "outputs": [
    {
     "data": {
      "text/plain": [
       "01-11-2018      To\n",
       "02-11-2018     the\n",
       "03-11-2018    Moon\n",
       "04-11-2018       !\n",
       "dtype: object"
      ]
     },
     "execution_count": 34,
     "metadata": {},
     "output_type": "execute_result"
    }
   ],
   "source": [
    "# Доступ к нескольким элементам по их индексам\n",
    "sequence[['01-11-2018', '02-11-2018', '03-11-2018', '04-11-2018']]"
   ]
  },
  {
   "cell_type": "code",
   "execution_count": 35,
   "id": "c6db0ed8",
   "metadata": {},
   "outputs": [
    {
     "data": {
      "text/plain": [
       "'To'"
      ]
     },
     "execution_count": 35,
     "metadata": {},
     "output_type": "execute_result"
    }
   ],
   "source": [
    "sequence['01-11-2018']  # Доступ к элементу по индексу"
   ]
  },
  {
   "cell_type": "code",
   "execution_count": 36,
   "id": "411db7a0",
   "metadata": {},
   "outputs": [],
   "source": [
    "# Чтобы не засорять global namespace\n",
    "del sequence"
   ]
  },
  {
   "cell_type": "markdown",
   "id": "34673b73",
   "metadata": {},
   "source": [
    "#### 3.2 pandas.DataFrame\n",
    "\n",
    "Данные типа pandas.DataFrame это двумерный массив (переменного размера) разнородных данных (но однородных по колонкам). Лучше всего предстаставлять себе pandas.DataFrame как набор колонок, где каждая колонка это pandas.Series."
   ]
  },
  {
   "cell_type": "code",
   "execution_count": 37,
   "id": "5946e402",
   "metadata": {},
   "outputs": [
    {
     "data": {
      "text/html": [
       "<div>\n",
       "<style scoped>\n",
       "    .dataframe tbody tr th:only-of-type {\n",
       "        vertical-align: middle;\n",
       "    }\n",
       "\n",
       "    .dataframe tbody tr th {\n",
       "        vertical-align: top;\n",
       "    }\n",
       "\n",
       "    .dataframe thead th {\n",
       "        text-align: right;\n",
       "    }\n",
       "</style>\n",
       "<table border=\"1\" class=\"dataframe\">\n",
       "  <thead>\n",
       "    <tr style=\"text-align: right;\">\n",
       "      <th></th>\n",
       "      <th>0</th>\n",
       "    </tr>\n",
       "  </thead>\n",
       "  <tbody>\n",
       "    <tr>\n",
       "      <th>0</th>\n",
       "      <td>BTC</td>\n",
       "    </tr>\n",
       "    <tr>\n",
       "      <th>1</th>\n",
       "      <td>LTC</td>\n",
       "    </tr>\n",
       "    <tr>\n",
       "      <th>2</th>\n",
       "      <td>XRP</td>\n",
       "    </tr>\n",
       "  </tbody>\n",
       "</table>\n",
       "</div>"
      ],
      "text/plain": [
       "     0\n",
       "0  BTC\n",
       "1  LTC\n",
       "2  XRP"
      ]
     },
     "execution_count": 37,
     "metadata": {},
     "output_type": "execute_result"
    }
   ],
   "source": [
    "# Создание простейшей таблицы\n",
    "pd.DataFrame(data=['BTC', 'LTC', 'XRP'])"
   ]
  },
  {
   "cell_type": "code",
   "execution_count": 38,
   "id": "afde1876",
   "metadata": {},
   "outputs": [
    {
     "data": {
      "text/html": [
       "<div>\n",
       "<style scoped>\n",
       "    .dataframe tbody tr th:only-of-type {\n",
       "        vertical-align: middle;\n",
       "    }\n",
       "\n",
       "    .dataframe tbody tr th {\n",
       "        vertical-align: top;\n",
       "    }\n",
       "\n",
       "    .dataframe thead th {\n",
       "        text-align: right;\n",
       "    }\n",
       "</style>\n",
       "<table border=\"1\" class=\"dataframe\">\n",
       "  <thead>\n",
       "    <tr style=\"text-align: right;\">\n",
       "      <th></th>\n",
       "      <th>symbol</th>\n",
       "      <th>price</th>\n",
       "    </tr>\n",
       "  </thead>\n",
       "  <tbody>\n",
       "    <tr>\n",
       "      <th>0</th>\n",
       "      <td>BTC</td>\n",
       "      <td>10000</td>\n",
       "    </tr>\n",
       "    <tr>\n",
       "      <th>1</th>\n",
       "      <td>LTC</td>\n",
       "      <td>200</td>\n",
       "    </tr>\n",
       "    <tr>\n",
       "      <th>2</th>\n",
       "      <td>XRP</td>\n",
       "      <td>1</td>\n",
       "    </tr>\n",
       "  </tbody>\n",
       "</table>\n",
       "</div>"
      ],
      "text/plain": [
       "  symbol  price\n",
       "0    BTC  10000\n",
       "1    LTC    200\n",
       "2    XRP      1"
      ]
     },
     "execution_count": 38,
     "metadata": {},
     "output_type": "execute_result"
    }
   ],
   "source": [
    "# Cоздание таблицы с именами колонок\n",
    "pd.DataFrame(data=[['BTC', 10000],['LTC', 200],['XRP', 1]], \n",
    "             columns=['symbol', 'price'])"
   ]
  },
  {
   "cell_type": "code",
   "execution_count": 39,
   "id": "e8213e74",
   "metadata": {},
   "outputs": [
    {
     "data": {
      "text/html": [
       "<div>\n",
       "<style scoped>\n",
       "    .dataframe tbody tr th:only-of-type {\n",
       "        vertical-align: middle;\n",
       "    }\n",
       "\n",
       "    .dataframe tbody tr th {\n",
       "        vertical-align: top;\n",
       "    }\n",
       "\n",
       "    .dataframe thead th {\n",
       "        text-align: right;\n",
       "    }\n",
       "</style>\n",
       "<table border=\"1\" class=\"dataframe\">\n",
       "  <thead>\n",
       "    <tr style=\"text-align: right;\">\n",
       "      <th></th>\n",
       "      <th>symbol</th>\n",
       "      <th>price</th>\n",
       "    </tr>\n",
       "  </thead>\n",
       "  <tbody>\n",
       "    <tr>\n",
       "      <th>2018-01-11</th>\n",
       "      <td>BTC</td>\n",
       "      <td>10000</td>\n",
       "    </tr>\n",
       "    <tr>\n",
       "      <th>2018-03-11</th>\n",
       "      <td>LTC</td>\n",
       "      <td>200</td>\n",
       "    </tr>\n",
       "    <tr>\n",
       "      <th>2018-08-23</th>\n",
       "      <td>XRP</td>\n",
       "      <td>1</td>\n",
       "    </tr>\n",
       "  </tbody>\n",
       "</table>\n",
       "</div>"
      ],
      "text/plain": [
       "           symbol  price\n",
       "2018-01-11    BTC  10000\n",
       "2018-03-11    LTC    200\n",
       "2018-08-23    XRP      1"
      ]
     },
     "execution_count": 39,
     "metadata": {},
     "output_type": "execute_result"
    }
   ],
   "source": [
    "# Cоздание таблицы с именами колонок и указанием индекса\n",
    "pd.DataFrame(\n",
    "    data=[['BTC', 10000],['LTC', 200],['XRP', 1]],\n",
    "    columns=['symbol', 'price'],\n",
    "    # DatetimeIndex - это специальный тип данных для индексов содержащих время\n",
    "    index=pd.DatetimeIndex(['01-11-2018', '03-11-2018', '23-08-2018'])\n",
    ")"
   ]
  },
  {
   "cell_type": "code",
   "execution_count": 40,
   "id": "745904ee",
   "metadata": {},
   "outputs": [
    {
     "data": {
      "text/html": [
       "<div>\n",
       "<style scoped>\n",
       "    .dataframe tbody tr th:only-of-type {\n",
       "        vertical-align: middle;\n",
       "    }\n",
       "\n",
       "    .dataframe tbody tr th {\n",
       "        vertical-align: top;\n",
       "    }\n",
       "\n",
       "    .dataframe thead th {\n",
       "        text-align: right;\n",
       "    }\n",
       "</style>\n",
       "<table border=\"1\" class=\"dataframe\">\n",
       "  <thead>\n",
       "    <tr style=\"text-align: right;\">\n",
       "      <th></th>\n",
       "      <th>symbol</th>\n",
       "      <th>price</th>\n",
       "    </tr>\n",
       "  </thead>\n",
       "  <tbody>\n",
       "    <tr>\n",
       "      <th>2018-01-11</th>\n",
       "      <td>BTC</td>\n",
       "      <td>10000</td>\n",
       "    </tr>\n",
       "    <tr>\n",
       "      <th>2018-03-11</th>\n",
       "      <td>LTC</td>\n",
       "      <td>200</td>\n",
       "    </tr>\n",
       "  </tbody>\n",
       "</table>\n",
       "</div>"
      ],
      "text/plain": [
       "           symbol  price\n",
       "2018-01-11    BTC  10000\n",
       "2018-03-11    LTC    200"
      ]
     },
     "execution_count": 40,
     "metadata": {},
     "output_type": "execute_result"
    }
   ],
   "source": [
    "# Создание по готовым pandas.Series\n",
    "pd.DataFrame({\n",
    "    'symbol': pd.Series(data=['BTC','LTC'], index=pd.DatetimeIndex(['01-11-2018', '03-11-2018'])),\n",
    "    'price': pd.Series(data=[10000, 200], index=pd.DatetimeIndex(['01-11-2018', '03-11-2018']))\n",
    "})"
   ]
  },
  {
   "cell_type": "markdown",
   "id": "08d72974",
   "metadata": {},
   "source": [
    "Некоторые функции в pandas одинаково применимы как к строкам так и к столбцам. В этом случае, в функцию можно передать аргумент axis. Значение 0 идет по умолчанию и ему соответствует работа по строкам, 1 - по колонкам."
   ]
  },
  {
   "cell_type": "markdown",
   "id": "9b54518c",
   "metadata": {},
   "source": [
    "### 4. Базовые методы pandas.Series\n",
    "\n",
    "Посмотрим на самые базовые методы класса pandas.Series"
   ]
  },
  {
   "cell_type": "code",
   "execution_count": 41,
   "id": "fcf7eacb",
   "metadata": {},
   "outputs": [],
   "source": [
    "sequence = pd.Series(data=['BTC', 'LTC', 'DOGE', 'DASH'],\n",
    "                     index=['leader', 'alternative', 'joke', 'bouncer'])"
   ]
  },
  {
   "cell_type": "code",
   "execution_count": 42,
   "id": "84699e91",
   "metadata": {},
   "outputs": [
    {
     "data": {
      "text/plain": [
       "[Index(['leader', 'alternative', 'joke', 'bouncer'], dtype='object')]"
      ]
     },
     "execution_count": 42,
     "metadata": {},
     "output_type": "execute_result"
    }
   ],
   "source": [
    "# Индекс наших данных\n",
    "sequence.axes"
   ]
  },
  {
   "cell_type": "code",
   "execution_count": 43,
   "id": "3bbfb77b",
   "metadata": {},
   "outputs": [
    {
     "data": {
      "text/plain": [
       "dtype('O')"
      ]
     },
     "execution_count": 43,
     "metadata": {},
     "output_type": "execute_result"
    }
   ],
   "source": [
    "# Тип наших данных\n",
    "sequence.dtype"
   ]
  },
  {
   "cell_type": "markdown",
   "id": "eafed6b5",
   "metadata": {},
   "source": [
    "Поддерживаемые типы данных:\n",
    "\n",
    "`b`       boolean\n",
    "\n",
    "`i`       (signed) integer\n",
    "\n",
    "`u`       unsigned integer\n",
    "\n",
    "`f`       floating-point\n",
    "\n",
    "`c`       complex-floating point\n",
    "\n",
    "`O`       (Python) objects\n",
    "\n",
    "`S`, `a`  (byte-)string\n",
    "\n",
    "`U`       Unicode\n",
    "\n",
    "`V`       raw data (void)"
   ]
  },
  {
   "cell_type": "code",
   "execution_count": 44,
   "id": "1a33e103",
   "metadata": {},
   "outputs": [
    {
     "data": {
      "text/plain": [
       "False"
      ]
     },
     "execution_count": 44,
     "metadata": {},
     "output_type": "execute_result"
    }
   ],
   "source": [
    "# Проверка на пустоту\n",
    "sequence.empty"
   ]
  },
  {
   "cell_type": "code",
   "execution_count": 45,
   "id": "39b07ad1",
   "metadata": {},
   "outputs": [
    {
     "data": {
      "text/plain": [
       "1"
      ]
     },
     "execution_count": 45,
     "metadata": {},
     "output_type": "execute_result"
    }
   ],
   "source": [
    "# Количество размерностей. Для pandas.Series всегда 1\n",
    "sequence.ndim"
   ]
  },
  {
   "cell_type": "code",
   "execution_count": 46,
   "id": "8adad6bb",
   "metadata": {},
   "outputs": [
    {
     "data": {
      "text/plain": [
       "4"
      ]
     },
     "execution_count": 46,
     "metadata": {},
     "output_type": "execute_result"
    }
   ],
   "source": [
    "# Количество элементов\n",
    "sequence.size"
   ]
  },
  {
   "cell_type": "code",
   "execution_count": 47,
   "id": "7fec5364",
   "metadata": {},
   "outputs": [
    {
     "data": {
      "text/plain": [
       "(4,)"
      ]
     },
     "execution_count": 47,
     "metadata": {},
     "output_type": "execute_result"
    }
   ],
   "source": [
    "# Размеры\n",
    "sequence.shape"
   ]
  },
  {
   "cell_type": "code",
   "execution_count": 48,
   "id": "556872a6",
   "metadata": {},
   "outputs": [
    {
     "data": {
      "text/plain": [
       "array(['BTC', 'LTC', 'DOGE', 'DASH'], dtype=object)"
      ]
     },
     "execution_count": 48,
     "metadata": {},
     "output_type": "execute_result"
    }
   ],
   "source": [
    "# Получить данные в виде numpy массива. Низкоуровневое представление с точки зрения pandas\n",
    "sequence.values"
   ]
  },
  {
   "cell_type": "code",
   "execution_count": 49,
   "id": "e7a45e13",
   "metadata": {},
   "outputs": [
    {
     "data": {
      "text/plain": [
       "leader          BTC\n",
       "alternative     LTC\n",
       "joke           DOGE\n",
       "dtype: object"
      ]
     },
     "execution_count": 49,
     "metadata": {},
     "output_type": "execute_result"
    }
   ],
   "source": [
    "# Получить первые 3 элемента\n",
    "sequence.head(3)"
   ]
  },
  {
   "cell_type": "code",
   "execution_count": 50,
   "id": "c39643a9",
   "metadata": {},
   "outputs": [
    {
     "data": {
      "text/plain": [
       "joke       DOGE\n",
       "bouncer    DASH\n",
       "dtype: object"
      ]
     },
     "execution_count": 50,
     "metadata": {},
     "output_type": "execute_result"
    }
   ],
   "source": [
    "# Получить последние 2 элемента\n",
    "sequence.tail(2)"
   ]
  },
  {
   "cell_type": "code",
   "execution_count": 51,
   "id": "f0b0a01e",
   "metadata": {},
   "outputs": [],
   "source": [
    "del sequence"
   ]
  },
  {
   "cell_type": "markdown",
   "id": "3be7e1d8",
   "metadata": {},
   "source": [
    "### 5. Базовые методы pandas.DataFrame\n",
    "\n",
    "Класс DataFrame огромен. Мы рассмотрим только самые часто используемые в нем методы"
   ]
  },
  {
   "cell_type": "code",
   "execution_count": 52,
   "id": "d30e776b",
   "metadata": {},
   "outputs": [
    {
     "data": {
      "text/html": [
       "<div>\n",
       "<style scoped>\n",
       "    .dataframe tbody tr th:only-of-type {\n",
       "        vertical-align: middle;\n",
       "    }\n",
       "\n",
       "    .dataframe tbody tr th {\n",
       "        vertical-align: top;\n",
       "    }\n",
       "\n",
       "    .dataframe thead th {\n",
       "        text-align: right;\n",
       "    }\n",
       "</style>\n",
       "<table border=\"1\" class=\"dataframe\">\n",
       "  <thead>\n",
       "    <tr style=\"text-align: right;\">\n",
       "      <th></th>\n",
       "      <th>symbol</th>\n",
       "      <th>price</th>\n",
       "    </tr>\n",
       "  </thead>\n",
       "  <tbody>\n",
       "    <tr>\n",
       "      <th>2018-01-11</th>\n",
       "      <td>BTC</td>\n",
       "      <td>10000</td>\n",
       "    </tr>\n",
       "    <tr>\n",
       "      <th>2018-03-11</th>\n",
       "      <td>LTC</td>\n",
       "      <td>200</td>\n",
       "    </tr>\n",
       "    <tr>\n",
       "      <th>2018-08-23</th>\n",
       "      <td>XRP</td>\n",
       "      <td>1</td>\n",
       "    </tr>\n",
       "  </tbody>\n",
       "</table>\n",
       "</div>"
      ],
      "text/plain": [
       "           symbol  price\n",
       "2018-01-11    BTC  10000\n",
       "2018-03-11    LTC    200\n",
       "2018-08-23    XRP      1"
      ]
     },
     "execution_count": 52,
     "metadata": {},
     "output_type": "execute_result"
    }
   ],
   "source": [
    "table = pd.DataFrame(\n",
    "    data=[['BTC', 10000],['LTC', 200],['XRP', 1]],\n",
    "    columns=['symbol', 'price'],\n",
    "    # DatetimeIndex - это специальный тип данных для индексов содержащих время\n",
    "    index=pd.DatetimeIndex(['01-11-2018', '03-11-2018', '23-08-2018'])\n",
    ")\n",
    "table"
   ]
  },
  {
   "cell_type": "code",
   "execution_count": 53,
   "id": "3dfc8c3c",
   "metadata": {},
   "outputs": [
    {
     "data": {
      "text/html": [
       "<div>\n",
       "<style scoped>\n",
       "    .dataframe tbody tr th:only-of-type {\n",
       "        vertical-align: middle;\n",
       "    }\n",
       "\n",
       "    .dataframe tbody tr th {\n",
       "        vertical-align: top;\n",
       "    }\n",
       "\n",
       "    .dataframe thead th {\n",
       "        text-align: right;\n",
       "    }\n",
       "</style>\n",
       "<table border=\"1\" class=\"dataframe\">\n",
       "  <thead>\n",
       "    <tr style=\"text-align: right;\">\n",
       "      <th></th>\n",
       "      <th>2018-01-11</th>\n",
       "      <th>2018-03-11</th>\n",
       "      <th>2018-08-23</th>\n",
       "    </tr>\n",
       "  </thead>\n",
       "  <tbody>\n",
       "    <tr>\n",
       "      <th>symbol</th>\n",
       "      <td>BTC</td>\n",
       "      <td>LTC</td>\n",
       "      <td>XRP</td>\n",
       "    </tr>\n",
       "    <tr>\n",
       "      <th>price</th>\n",
       "      <td>10000</td>\n",
       "      <td>200</td>\n",
       "      <td>1</td>\n",
       "    </tr>\n",
       "  </tbody>\n",
       "</table>\n",
       "</div>"
      ],
      "text/plain": [
       "       2018-01-11 2018-03-11 2018-08-23\n",
       "symbol        BTC        LTC        XRP\n",
       "price       10000        200          1"
      ]
     },
     "execution_count": 53,
     "metadata": {},
     "output_type": "execute_result"
    }
   ],
   "source": [
    "# Транспонировать таблицу\n",
    "table.T"
   ]
  },
  {
   "cell_type": "code",
   "execution_count": 54,
   "id": "26d61747",
   "metadata": {},
   "outputs": [
    {
     "data": {
      "text/plain": [
       "[DatetimeIndex(['2018-01-11', '2018-03-11', '2018-08-23'], dtype='datetime64[ns]', freq=None),\n",
       " Index(['symbol', 'price'], dtype='object')]"
      ]
     },
     "execution_count": 54,
     "metadata": {},
     "output_type": "execute_result"
    }
   ],
   "source": [
    "# Получить индексы срок и столбцов\n",
    "table.axes"
   ]
  },
  {
   "cell_type": "code",
   "execution_count": 55,
   "id": "4c42c180",
   "metadata": {},
   "outputs": [
    {
     "data": {
      "text/plain": [
       "symbol    object\n",
       "price      int64\n",
       "dtype: object"
      ]
     },
     "execution_count": 55,
     "metadata": {},
     "output_type": "execute_result"
    }
   ],
   "source": [
    "# Получить типы данных в колонках\n",
    "table.dtypes"
   ]
  },
  {
   "cell_type": "code",
   "execution_count": 56,
   "id": "a89076d5",
   "metadata": {},
   "outputs": [
    {
     "data": {
      "text/plain": [
       "False"
      ]
     },
     "execution_count": 56,
     "metadata": {},
     "output_type": "execute_result"
    }
   ],
   "source": [
    "# Проверка на пустоту\n",
    "table.empty"
   ]
  },
  {
   "cell_type": "code",
   "execution_count": 57,
   "id": "d1f67631",
   "metadata": {},
   "outputs": [
    {
     "data": {
      "text/plain": [
       "(3, 2)"
      ]
     },
     "execution_count": 57,
     "metadata": {},
     "output_type": "execute_result"
    }
   ],
   "source": [
    "# Размеры\n",
    "table.shape"
   ]
  },
  {
   "cell_type": "code",
   "execution_count": 58,
   "id": "5d7676c7",
   "metadata": {},
   "outputs": [
    {
     "data": {
      "text/plain": [
       "6"
      ]
     },
     "execution_count": 58,
     "metadata": {},
     "output_type": "execute_result"
    }
   ],
   "source": [
    "# Количество элементов\n",
    "table.size"
   ]
  },
  {
   "cell_type": "code",
   "execution_count": 59,
   "id": "30f65273",
   "metadata": {},
   "outputs": [
    {
     "data": {
      "text/plain": [
       "array([['BTC', 10000],\n",
       "       ['LTC', 200],\n",
       "       ['XRP', 1]], dtype=object)"
      ]
     },
     "execution_count": 59,
     "metadata": {},
     "output_type": "execute_result"
    }
   ],
   "source": [
    "# Низкоуровневое представление таблицы\n",
    "table.values"
   ]
  },
  {
   "cell_type": "code",
   "execution_count": 60,
   "id": "66bc0c31",
   "metadata": {},
   "outputs": [
    {
     "data": {
      "text/html": [
       "<div>\n",
       "<style scoped>\n",
       "    .dataframe tbody tr th:only-of-type {\n",
       "        vertical-align: middle;\n",
       "    }\n",
       "\n",
       "    .dataframe tbody tr th {\n",
       "        vertical-align: top;\n",
       "    }\n",
       "\n",
       "    .dataframe thead th {\n",
       "        text-align: right;\n",
       "    }\n",
       "</style>\n",
       "<table border=\"1\" class=\"dataframe\">\n",
       "  <thead>\n",
       "    <tr style=\"text-align: right;\">\n",
       "      <th></th>\n",
       "      <th>symbol</th>\n",
       "      <th>price</th>\n",
       "    </tr>\n",
       "  </thead>\n",
       "  <tbody>\n",
       "    <tr>\n",
       "      <th>2018-01-11</th>\n",
       "      <td>BTC</td>\n",
       "      <td>10000</td>\n",
       "    </tr>\n",
       "    <tr>\n",
       "      <th>2018-03-11</th>\n",
       "      <td>LTC</td>\n",
       "      <td>200</td>\n",
       "    </tr>\n",
       "    <tr>\n",
       "      <th>2018-08-23</th>\n",
       "      <td>XRP</td>\n",
       "      <td>1</td>\n",
       "    </tr>\n",
       "  </tbody>\n",
       "</table>\n",
       "</div>"
      ],
      "text/plain": [
       "           symbol  price\n",
       "2018-01-11    BTC  10000\n",
       "2018-03-11    LTC    200\n",
       "2018-08-23    XRP      1"
      ]
     },
     "execution_count": 60,
     "metadata": {},
     "output_type": "execute_result"
    }
   ],
   "source": [
    "# Получить первые 3 строки\n",
    "table.head(3)"
   ]
  },
  {
   "cell_type": "code",
   "execution_count": 61,
   "id": "f016db78",
   "metadata": {},
   "outputs": [
    {
     "data": {
      "text/html": [
       "<div>\n",
       "<style scoped>\n",
       "    .dataframe tbody tr th:only-of-type {\n",
       "        vertical-align: middle;\n",
       "    }\n",
       "\n",
       "    .dataframe tbody tr th {\n",
       "        vertical-align: top;\n",
       "    }\n",
       "\n",
       "    .dataframe thead th {\n",
       "        text-align: right;\n",
       "    }\n",
       "</style>\n",
       "<table border=\"1\" class=\"dataframe\">\n",
       "  <thead>\n",
       "    <tr style=\"text-align: right;\">\n",
       "      <th></th>\n",
       "      <th>symbol</th>\n",
       "      <th>price</th>\n",
       "    </tr>\n",
       "  </thead>\n",
       "  <tbody>\n",
       "    <tr>\n",
       "      <th>2018-03-11</th>\n",
       "      <td>LTC</td>\n",
       "      <td>200</td>\n",
       "    </tr>\n",
       "    <tr>\n",
       "      <th>2018-08-23</th>\n",
       "      <td>XRP</td>\n",
       "      <td>1</td>\n",
       "    </tr>\n",
       "  </tbody>\n",
       "</table>\n",
       "</div>"
      ],
      "text/plain": [
       "           symbol  price\n",
       "2018-03-11    LTC    200\n",
       "2018-08-23    XRP      1"
      ]
     },
     "execution_count": 61,
     "metadata": {},
     "output_type": "execute_result"
    }
   ],
   "source": [
    "# Получить последние 2 строки\n",
    "table.tail(2)"
   ]
  },
  {
   "cell_type": "code",
   "execution_count": 62,
   "id": "b979e997",
   "metadata": {},
   "outputs": [],
   "source": [
    "del table"
   ]
  },
  {
   "cell_type": "markdown",
   "id": "1969f619",
   "metadata": {},
   "source": [
    "### 6. Работа со строками и столбцами\n",
    "\n",
    "Обращаться к строкам таблицы можно по номеру или по индексу"
   ]
  },
  {
   "cell_type": "code",
   "execution_count": 63,
   "id": "b96b5c3e",
   "metadata": {},
   "outputs": [
    {
     "data": {
      "text/html": [
       "<div>\n",
       "<style scoped>\n",
       "    .dataframe tbody tr th:only-of-type {\n",
       "        vertical-align: middle;\n",
       "    }\n",
       "\n",
       "    .dataframe tbody tr th {\n",
       "        vertical-align: top;\n",
       "    }\n",
       "\n",
       "    .dataframe thead th {\n",
       "        text-align: right;\n",
       "    }\n",
       "</style>\n",
       "<table border=\"1\" class=\"dataframe\">\n",
       "  <thead>\n",
       "    <tr style=\"text-align: right;\">\n",
       "      <th></th>\n",
       "      <th>symbol</th>\n",
       "      <th>price</th>\n",
       "    </tr>\n",
       "  </thead>\n",
       "  <tbody>\n",
       "    <tr>\n",
       "      <th>2018-01-11</th>\n",
       "      <td>BTC</td>\n",
       "      <td>10000</td>\n",
       "    </tr>\n",
       "    <tr>\n",
       "      <th>2018-03-11</th>\n",
       "      <td>LTC</td>\n",
       "      <td>200</td>\n",
       "    </tr>\n",
       "    <tr>\n",
       "      <th>2018-08-23</th>\n",
       "      <td>XRP</td>\n",
       "      <td>1</td>\n",
       "    </tr>\n",
       "    <tr>\n",
       "      <th>2018-02-11</th>\n",
       "      <td>BTC</td>\n",
       "      <td>9000</td>\n",
       "    </tr>\n",
       "  </tbody>\n",
       "</table>\n",
       "</div>"
      ],
      "text/plain": [
       "           symbol  price\n",
       "2018-01-11    BTC  10000\n",
       "2018-03-11    LTC    200\n",
       "2018-08-23    XRP      1\n",
       "2018-02-11    BTC   9000"
      ]
     },
     "execution_count": 63,
     "metadata": {},
     "output_type": "execute_result"
    }
   ],
   "source": [
    "table = pd.DataFrame(\n",
    "    data=[['BTC', 10000],['LTC', 200],['XRP', 1], ['BTC', 9000]],\n",
    "    columns=['symbol', 'price'],\n",
    "    index=pd.DatetimeIndex(['01-11-2018', '03-11-2018', '23-08-2018', '02-11-2018'])\n",
    ")\n",
    "table"
   ]
  },
  {
   "cell_type": "markdown",
   "id": "f45b9605",
   "metadata": {},
   "source": [
    "#### 6.1. Доступ к элементам\n",
    "\n",
    "[Документация по индексации](https://pandas.pydata.org/pandas-docs/stable/user_guide/indexing.html)"
   ]
  },
  {
   "cell_type": "code",
   "execution_count": 64,
   "id": "73604b85",
   "metadata": {},
   "outputs": [
    {
     "data": {
      "text/plain": [
       "symbol    XRP\n",
       "price       1\n",
       "Name: 2018-08-23 00:00:00, dtype: object"
      ]
     },
     "execution_count": 64,
     "metadata": {},
     "output_type": "execute_result"
    }
   ],
   "source": [
    "# Обращение по номеру\n",
    "table.iloc[2]"
   ]
  },
  {
   "cell_type": "code",
   "execution_count": 65,
   "id": "3c3a1d6b",
   "metadata": {},
   "outputs": [
    {
     "data": {
      "text/html": [
       "<div>\n",
       "<style scoped>\n",
       "    .dataframe tbody tr th:only-of-type {\n",
       "        vertical-align: middle;\n",
       "    }\n",
       "\n",
       "    .dataframe tbody tr th {\n",
       "        vertical-align: top;\n",
       "    }\n",
       "\n",
       "    .dataframe thead th {\n",
       "        text-align: right;\n",
       "    }\n",
       "</style>\n",
       "<table border=\"1\" class=\"dataframe\">\n",
       "  <thead>\n",
       "    <tr style=\"text-align: right;\">\n",
       "      <th></th>\n",
       "      <th>symbol</th>\n",
       "      <th>price</th>\n",
       "    </tr>\n",
       "  </thead>\n",
       "  <tbody>\n",
       "    <tr>\n",
       "      <th>2018-03-11</th>\n",
       "      <td>LTC</td>\n",
       "      <td>200</td>\n",
       "    </tr>\n",
       "    <tr>\n",
       "      <th>2018-08-23</th>\n",
       "      <td>XRP</td>\n",
       "      <td>1</td>\n",
       "    </tr>\n",
       "  </tbody>\n",
       "</table>\n",
       "</div>"
      ],
      "text/plain": [
       "           symbol  price\n",
       "2018-03-11    LTC    200\n",
       "2018-08-23    XRP      1"
      ]
     },
     "execution_count": 65,
     "metadata": {},
     "output_type": "execute_result"
    }
   ],
   "source": [
    "# Обращение по диапазону номеров\n",
    "table[1:3]"
   ]
  },
  {
   "cell_type": "code",
   "execution_count": 66,
   "id": "541a59e7",
   "metadata": {},
   "outputs": [
    {
     "data": {
      "text/plain": [
       "symbol      BTC\n",
       "price     10000\n",
       "Name: 2018-01-11 00:00:00, dtype: object"
      ]
     },
     "execution_count": 66,
     "metadata": {},
     "output_type": "execute_result"
    }
   ],
   "source": [
    "# Обращение по индексу\n",
    "table.loc[pd.Timestamp('01-11-2018')]"
   ]
  },
  {
   "cell_type": "code",
   "execution_count": 67,
   "id": "23ce54ba",
   "metadata": {},
   "outputs": [
    {
     "data": {
      "text/html": [
       "<div>\n",
       "<style scoped>\n",
       "    .dataframe tbody tr th:only-of-type {\n",
       "        vertical-align: middle;\n",
       "    }\n",
       "\n",
       "    .dataframe tbody tr th {\n",
       "        vertical-align: top;\n",
       "    }\n",
       "\n",
       "    .dataframe thead th {\n",
       "        text-align: right;\n",
       "    }\n",
       "</style>\n",
       "<table border=\"1\" class=\"dataframe\">\n",
       "  <thead>\n",
       "    <tr style=\"text-align: right;\">\n",
       "      <th></th>\n",
       "      <th>symbol</th>\n",
       "      <th>price</th>\n",
       "    </tr>\n",
       "  </thead>\n",
       "  <tbody>\n",
       "    <tr>\n",
       "      <th>2018-01-11</th>\n",
       "      <td>BTC</td>\n",
       "      <td>10000</td>\n",
       "    </tr>\n",
       "    <tr>\n",
       "      <th>2018-03-11</th>\n",
       "      <td>LTC</td>\n",
       "      <td>200</td>\n",
       "    </tr>\n",
       "    <tr>\n",
       "      <th>2018-02-11</th>\n",
       "      <td>BTC</td>\n",
       "      <td>9000</td>\n",
       "    </tr>\n",
       "  </tbody>\n",
       "</table>\n",
       "</div>"
      ],
      "text/plain": [
       "           symbol  price\n",
       "2018-01-11    BTC  10000\n",
       "2018-03-11    LTC    200\n",
       "2018-02-11    BTC   9000"
      ]
     },
     "execution_count": 67,
     "metadata": {},
     "output_type": "execute_result"
    }
   ],
   "source": [
    "# Обращение по диапазону индексов\n",
    "table.loc['01-11-2018':'03-11-2018']"
   ]
  },
  {
   "cell_type": "markdown",
   "id": "4e68d477",
   "metadata": {},
   "source": [
    "#### 6.2. Добавление, удаление, переименование колонок и строк"
   ]
  },
  {
   "cell_type": "code",
   "execution_count": 68,
   "id": "491c2e42",
   "metadata": {},
   "outputs": [
    {
     "data": {
      "text/html": [
       "<div>\n",
       "<style scoped>\n",
       "    .dataframe tbody tr th:only-of-type {\n",
       "        vertical-align: middle;\n",
       "    }\n",
       "\n",
       "    .dataframe tbody tr th {\n",
       "        vertical-align: top;\n",
       "    }\n",
       "\n",
       "    .dataframe thead th {\n",
       "        text-align: right;\n",
       "    }\n",
       "</style>\n",
       "<table border=\"1\" class=\"dataframe\">\n",
       "  <thead>\n",
       "    <tr style=\"text-align: right;\">\n",
       "      <th></th>\n",
       "      <th>symbol</th>\n",
       "      <th>price</th>\n",
       "    </tr>\n",
       "  </thead>\n",
       "  <tbody>\n",
       "    <tr>\n",
       "      <th>2018-03-11</th>\n",
       "      <td>LTC</td>\n",
       "      <td>200</td>\n",
       "    </tr>\n",
       "    <tr>\n",
       "      <th>2018-02-11</th>\n",
       "      <td>BTC</td>\n",
       "      <td>9000</td>\n",
       "    </tr>\n",
       "  </tbody>\n",
       "</table>\n",
       "</div>"
      ],
      "text/plain": [
       "           symbol  price\n",
       "2018-03-11    LTC    200\n",
       "2018-02-11    BTC   9000"
      ]
     },
     "execution_count": 68,
     "metadata": {},
     "output_type": "execute_result"
    }
   ],
   "source": [
    "# Удаление строк по их индексам. Можно использовать для удаления колонок, указав axis=1\n",
    "# Посмотрите еще методы drop_duplicates and dropna\n",
    "table.drop([pd.Timestamp('2018-08-23'), pd.Timestamp('2018-01-11')])"
   ]
  },
  {
   "cell_type": "code",
   "execution_count": 69,
   "id": "cdb7f4f2",
   "metadata": {},
   "outputs": [
    {
     "data": {
      "text/html": [
       "<div>\n",
       "<style scoped>\n",
       "    .dataframe tbody tr th:only-of-type {\n",
       "        vertical-align: middle;\n",
       "    }\n",
       "\n",
       "    .dataframe tbody tr th {\n",
       "        vertical-align: top;\n",
       "    }\n",
       "\n",
       "    .dataframe thead th {\n",
       "        text-align: right;\n",
       "    }\n",
       "</style>\n",
       "<table border=\"1\" class=\"dataframe\">\n",
       "  <thead>\n",
       "    <tr style=\"text-align: right;\">\n",
       "      <th></th>\n",
       "      <th>symbol</th>\n",
       "      <th>price</th>\n",
       "      <th>volume</th>\n",
       "    </tr>\n",
       "  </thead>\n",
       "  <tbody>\n",
       "    <tr>\n",
       "      <th>2018-01-11</th>\n",
       "      <td>BTC</td>\n",
       "      <td>10000</td>\n",
       "      <td>1.000000e+09</td>\n",
       "    </tr>\n",
       "    <tr>\n",
       "      <th>2018-03-11</th>\n",
       "      <td>LTC</td>\n",
       "      <td>200</td>\n",
       "      <td>1.000000e+06</td>\n",
       "    </tr>\n",
       "    <tr>\n",
       "      <th>2018-08-23</th>\n",
       "      <td>XRP</td>\n",
       "      <td>1</td>\n",
       "      <td>1.000000e+04</td>\n",
       "    </tr>\n",
       "    <tr>\n",
       "      <th>2018-02-11</th>\n",
       "      <td>BTC</td>\n",
       "      <td>9000</td>\n",
       "      <td>1.000000e+09</td>\n",
       "    </tr>\n",
       "  </tbody>\n",
       "</table>\n",
       "</div>"
      ],
      "text/plain": [
       "           symbol  price        volume\n",
       "2018-01-11    BTC  10000  1.000000e+09\n",
       "2018-03-11    LTC    200  1.000000e+06\n",
       "2018-08-23    XRP      1  1.000000e+04\n",
       "2018-02-11    BTC   9000  1.000000e+09"
      ]
     },
     "execution_count": 69,
     "metadata": {},
     "output_type": "execute_result"
    }
   ],
   "source": [
    "# Чтобы добавить новую колонку достаточно присвоить ей значение\n",
    "table['volume'] = [1e9, 1e6, 1e4, 1e9]\n",
    "table"
   ]
  },
  {
   "cell_type": "code",
   "execution_count": 70,
   "id": "3702ef15",
   "metadata": {},
   "outputs": [],
   "source": [
    "# Удалять колонки очень просто\n",
    "del table['volume']"
   ]
  },
  {
   "cell_type": "code",
   "execution_count": 71,
   "id": "44496c37",
   "metadata": {},
   "outputs": [
    {
     "data": {
      "text/html": [
       "<div>\n",
       "<style scoped>\n",
       "    .dataframe tbody tr th:only-of-type {\n",
       "        vertical-align: middle;\n",
       "    }\n",
       "\n",
       "    .dataframe tbody tr th {\n",
       "        vertical-align: top;\n",
       "    }\n",
       "\n",
       "    .dataframe thead th {\n",
       "        text-align: right;\n",
       "    }\n",
       "</style>\n",
       "<table border=\"1\" class=\"dataframe\">\n",
       "  <thead>\n",
       "    <tr style=\"text-align: right;\">\n",
       "      <th></th>\n",
       "      <th>Symbol</th>\n",
       "      <th>Price</th>\n",
       "    </tr>\n",
       "  </thead>\n",
       "  <tbody>\n",
       "    <tr>\n",
       "      <th>2018-01-11</th>\n",
       "      <td>BTC</td>\n",
       "      <td>10000</td>\n",
       "    </tr>\n",
       "    <tr>\n",
       "      <th>2018-03-11</th>\n",
       "      <td>LTC</td>\n",
       "      <td>200</td>\n",
       "    </tr>\n",
       "    <tr>\n",
       "      <th>2018-08-23</th>\n",
       "      <td>XRP</td>\n",
       "      <td>1</td>\n",
       "    </tr>\n",
       "    <tr>\n",
       "      <th>2018-02-11</th>\n",
       "      <td>BTC</td>\n",
       "      <td>9000</td>\n",
       "    </tr>\n",
       "  </tbody>\n",
       "</table>\n",
       "</div>"
      ],
      "text/plain": [
       "           Symbol  Price\n",
       "2018-01-11    BTC  10000\n",
       "2018-03-11    LTC    200\n",
       "2018-08-23    XRP      1\n",
       "2018-02-11    BTC   9000"
      ]
     },
     "execution_count": 71,
     "metadata": {},
     "output_type": "execute_result"
    }
   ],
   "source": [
    "# Переименовывание колонок\n",
    "table.rename(columns={'symbol': 'Symbol', 'price': 'Price'})"
   ]
  },
  {
   "cell_type": "markdown",
   "id": "d2dc5673",
   "metadata": {},
   "source": [
    "#### 6.3. Итерирование\n",
    "\n",
    "Итерироваться по таблице можно разными способами, но обычно так не стоит делать и лучше написать решение в виде манипуляций над столбцами/колонками"
   ]
  },
  {
   "cell_type": "code",
   "execution_count": 72,
   "id": "0f58ae6b",
   "metadata": {},
   "outputs": [
    {
     "name": "stdout",
     "output_type": "stream",
     "text": [
      "symbol\n",
      "price\n"
     ]
    }
   ],
   "source": [
    "# По колонкам\n",
    "for column in table:\n",
    "    print(column)"
   ]
  },
  {
   "cell_type": "code",
   "execution_count": 73,
   "id": "32ef49c0",
   "metadata": {},
   "outputs": [
    {
     "name": "stdout",
     "output_type": "stream",
     "text": [
      "symbol\n",
      "2018-01-11    BTC\n",
      "2018-03-11    LTC\n",
      "2018-08-23    XRP\n",
      "2018-02-11    BTC\n",
      "Name: symbol, dtype: object\n",
      "price\n",
      "2018-01-11    10000\n",
      "2018-03-11      200\n",
      "2018-08-23        1\n",
      "2018-02-11     9000\n",
      "Name: price, dtype: int64\n"
     ]
    }
   ],
   "source": [
    "# По колонкам как по словарю. Значения в \"словаре\" это pandas.Series\n",
    "for column, series in table.iteritems():\n",
    "    print(column)\n",
    "    print(series)"
   ]
  },
  {
   "cell_type": "code",
   "execution_count": 74,
   "id": "6bd26886",
   "metadata": {},
   "outputs": [
    {
     "name": "stdout",
     "output_type": "stream",
     "text": [
      "2018-01-11 00:00:00\n",
      "symbol      BTC\n",
      "price     10000\n",
      "Name: 2018-01-11 00:00:00, dtype: object\n",
      "2018-03-11 00:00:00\n",
      "symbol    LTC\n",
      "price     200\n",
      "Name: 2018-03-11 00:00:00, dtype: object\n",
      "2018-08-23 00:00:00\n",
      "symbol    XRP\n",
      "price       1\n",
      "Name: 2018-08-23 00:00:00, dtype: object\n",
      "2018-02-11 00:00:00\n",
      "symbol     BTC\n",
      "price     9000\n",
      "Name: 2018-02-11 00:00:00, dtype: object\n"
     ]
    }
   ],
   "source": [
    "# По строкам как по словарю. Значения в \"словаре\" это pandas.Series\n",
    "for index, row in table.iterrows():\n",
    "    print(index)\n",
    "    print(row)"
   ]
  },
  {
   "cell_type": "markdown",
   "id": "309ee026",
   "metadata": {},
   "source": [
    "#### 6.4. Сортировка\n",
    "\n",
    "Строки и столбцы таблицы можно сортировать. Результат сортирующих методов возвращает новую таблицу!"
   ]
  },
  {
   "cell_type": "code",
   "execution_count": 75,
   "id": "1438c226",
   "metadata": {},
   "outputs": [
    {
     "data": {
      "text/html": [
       "<div>\n",
       "<style scoped>\n",
       "    .dataframe tbody tr th:only-of-type {\n",
       "        vertical-align: middle;\n",
       "    }\n",
       "\n",
       "    .dataframe tbody tr th {\n",
       "        vertical-align: top;\n",
       "    }\n",
       "\n",
       "    .dataframe thead th {\n",
       "        text-align: right;\n",
       "    }\n",
       "</style>\n",
       "<table border=\"1\" class=\"dataframe\">\n",
       "  <thead>\n",
       "    <tr style=\"text-align: right;\">\n",
       "      <th></th>\n",
       "      <th>symbol</th>\n",
       "      <th>price</th>\n",
       "    </tr>\n",
       "  </thead>\n",
       "  <tbody>\n",
       "    <tr>\n",
       "      <th>2018-08-23</th>\n",
       "      <td>XRP</td>\n",
       "      <td>1</td>\n",
       "    </tr>\n",
       "    <tr>\n",
       "      <th>2018-03-11</th>\n",
       "      <td>LTC</td>\n",
       "      <td>200</td>\n",
       "    </tr>\n",
       "    <tr>\n",
       "      <th>2018-02-11</th>\n",
       "      <td>BTC</td>\n",
       "      <td>9000</td>\n",
       "    </tr>\n",
       "    <tr>\n",
       "      <th>2018-01-11</th>\n",
       "      <td>BTC</td>\n",
       "      <td>10000</td>\n",
       "    </tr>\n",
       "  </tbody>\n",
       "</table>\n",
       "</div>"
      ],
      "text/plain": [
       "           symbol  price\n",
       "2018-08-23    XRP      1\n",
       "2018-03-11    LTC    200\n",
       "2018-02-11    BTC   9000\n",
       "2018-01-11    BTC  10000"
      ]
     },
     "execution_count": 75,
     "metadata": {},
     "output_type": "execute_result"
    }
   ],
   "source": [
    "# Отсортировать строки по индексу по убыванию\n",
    "table.sort_index(ascending=False)"
   ]
  },
  {
   "cell_type": "code",
   "execution_count": 76,
   "id": "294501e6",
   "metadata": {},
   "outputs": [
    {
     "data": {
      "text/html": [
       "<div>\n",
       "<style scoped>\n",
       "    .dataframe tbody tr th:only-of-type {\n",
       "        vertical-align: middle;\n",
       "    }\n",
       "\n",
       "    .dataframe tbody tr th {\n",
       "        vertical-align: top;\n",
       "    }\n",
       "\n",
       "    .dataframe thead th {\n",
       "        text-align: right;\n",
       "    }\n",
       "</style>\n",
       "<table border=\"1\" class=\"dataframe\">\n",
       "  <thead>\n",
       "    <tr style=\"text-align: right;\">\n",
       "      <th></th>\n",
       "      <th>symbol</th>\n",
       "      <th>price</th>\n",
       "    </tr>\n",
       "  </thead>\n",
       "  <tbody>\n",
       "    <tr>\n",
       "      <th>2018-08-23</th>\n",
       "      <td>XRP</td>\n",
       "      <td>1</td>\n",
       "    </tr>\n",
       "    <tr>\n",
       "      <th>2018-03-11</th>\n",
       "      <td>LTC</td>\n",
       "      <td>200</td>\n",
       "    </tr>\n",
       "    <tr>\n",
       "      <th>2018-02-11</th>\n",
       "      <td>BTC</td>\n",
       "      <td>9000</td>\n",
       "    </tr>\n",
       "    <tr>\n",
       "      <th>2018-01-11</th>\n",
       "      <td>BTC</td>\n",
       "      <td>10000</td>\n",
       "    </tr>\n",
       "  </tbody>\n",
       "</table>\n",
       "</div>"
      ],
      "text/plain": [
       "           symbol  price\n",
       "2018-08-23    XRP      1\n",
       "2018-03-11    LTC    200\n",
       "2018-02-11    BTC   9000\n",
       "2018-01-11    BTC  10000"
      ]
     },
     "execution_count": 76,
     "metadata": {},
     "output_type": "execute_result"
    }
   ],
   "source": [
    "# Отсортировать таблицу алгоритмом quicksort по названию, а если значения равны то по цене\n",
    "table.sort_values(by=['symbol', 'price'], kind='quicksort', ascending=[False, True])"
   ]
  },
  {
   "cell_type": "code",
   "execution_count": 77,
   "id": "a60b9077",
   "metadata": {},
   "outputs": [],
   "source": [
    "del table, index, row, column, series"
   ]
  },
  {
   "cell_type": "markdown",
   "id": "3dfe446a",
   "metadata": {},
   "source": [
    "### 7. Статистические функции\n",
    "\n",
    "Посмотрим как pandas позволяет вычислять простейшие статистики для датасетов. Методы которые мы перечислим ниже имеют аргумет axis, который указывает вдоль какой оси надо вычислять статистику. Обычно, по-умолчанию axis=0, что соответсвует вычислениям по строкам. Если в данных есть пропуски, то они не учитываются при вычислении статистик!"
   ]
  },
  {
   "cell_type": "code",
   "execution_count": 78,
   "id": "281394d7",
   "metadata": {},
   "outputs": [],
   "source": [
    "earnings = pd.DataFrame(\n",
    "    data=[[7629.39, -9357.49, -1661.3, 8597.23],\n",
    "          [560.68, None, 10.46, 3578.5],\n",
    "          [487.38, 7560.38, 1090.87, -5164.93],\n",
    "          [560.68, 7560.38, None, -5164.93]],\n",
    "    columns=['BTC', 'DOGE', 'ADA', 'ETH'],\n",
    "    index=['yesterday', 'today', 'tomorrow','aftertomorrow']\n",
    ")"
   ]
  },
  {
   "cell_type": "code",
   "execution_count": 79,
   "id": "190e79a7",
   "metadata": {},
   "outputs": [
    {
     "data": {
      "text/html": [
       "<div>\n",
       "<style scoped>\n",
       "    .dataframe tbody tr th:only-of-type {\n",
       "        vertical-align: middle;\n",
       "    }\n",
       "\n",
       "    .dataframe tbody tr th {\n",
       "        vertical-align: top;\n",
       "    }\n",
       "\n",
       "    .dataframe thead th {\n",
       "        text-align: right;\n",
       "    }\n",
       "</style>\n",
       "<table border=\"1\" class=\"dataframe\">\n",
       "  <thead>\n",
       "    <tr style=\"text-align: right;\">\n",
       "      <th></th>\n",
       "      <th>BTC</th>\n",
       "      <th>DOGE</th>\n",
       "      <th>ADA</th>\n",
       "      <th>ETH</th>\n",
       "    </tr>\n",
       "  </thead>\n",
       "  <tbody>\n",
       "    <tr>\n",
       "      <th>yesterday</th>\n",
       "      <td>7629.39</td>\n",
       "      <td>-9357.49</td>\n",
       "      <td>-1661.30</td>\n",
       "      <td>8597.23</td>\n",
       "    </tr>\n",
       "    <tr>\n",
       "      <th>today</th>\n",
       "      <td>560.68</td>\n",
       "      <td>NaN</td>\n",
       "      <td>10.46</td>\n",
       "      <td>3578.50</td>\n",
       "    </tr>\n",
       "    <tr>\n",
       "      <th>tomorrow</th>\n",
       "      <td>487.38</td>\n",
       "      <td>7560.38</td>\n",
       "      <td>1090.87</td>\n",
       "      <td>-5164.93</td>\n",
       "    </tr>\n",
       "    <tr>\n",
       "      <th>aftertomorrow</th>\n",
       "      <td>560.68</td>\n",
       "      <td>7560.38</td>\n",
       "      <td>NaN</td>\n",
       "      <td>-5164.93</td>\n",
       "    </tr>\n",
       "  </tbody>\n",
       "</table>\n",
       "</div>"
      ],
      "text/plain": [
       "                   BTC     DOGE      ADA      ETH\n",
       "yesterday      7629.39 -9357.49 -1661.30  8597.23\n",
       "today           560.68      NaN    10.46  3578.50\n",
       "tomorrow        487.38  7560.38  1090.87 -5164.93\n",
       "aftertomorrow   560.68  7560.38      NaN -5164.93"
      ]
     },
     "execution_count": 79,
     "metadata": {},
     "output_type": "execute_result"
    }
   ],
   "source": [
    "earnings"
   ]
  },
  {
   "cell_type": "code",
   "execution_count": 80,
   "id": "17a22a49",
   "metadata": {},
   "outputs": [
    {
     "data": {
      "text/plain": [
       "BTC     4\n",
       "DOGE    3\n",
       "ADA     3\n",
       "ETH     4\n",
       "dtype: int64"
      ]
     },
     "execution_count": 80,
     "metadata": {},
     "output_type": "execute_result"
    }
   ],
   "source": [
    "# Количество не None записей для каждой монеты\n",
    "earnings.count()"
   ]
  },
  {
   "cell_type": "code",
   "execution_count": 81,
   "id": "c050ec45",
   "metadata": {},
   "outputs": [
    {
     "data": {
      "text/plain": [
       "yesterday        5207.83\n",
       "today            4149.64\n",
       "tomorrow         3973.70\n",
       "aftertomorrow    2956.13\n",
       "dtype: float64"
      ]
     },
     "execution_count": 81,
     "metadata": {},
     "output_type": "execute_result"
    }
   ],
   "source": [
    "# Заработки по дням\n",
    "earnings.sum(axis=1)"
   ]
  },
  {
   "cell_type": "code",
   "execution_count": 82,
   "id": "450936cb",
   "metadata": {},
   "outputs": [
    {
     "data": {
      "text/plain": [
       "BTC     2309.532500\n",
       "DOGE    1921.090000\n",
       "ADA     -186.656667\n",
       "ETH      461.467500\n",
       "dtype: float64"
      ]
     },
     "execution_count": 82,
     "metadata": {},
     "output_type": "execute_result"
    }
   ],
   "source": [
    "# Средний заработок по каждой монете\n",
    "earnings.mean()"
   ]
  },
  {
   "cell_type": "code",
   "execution_count": 83,
   "id": "a707394a",
   "metadata": {},
   "outputs": [
    {
     "data": {
      "text/plain": [
       "BTC      560.680\n",
       "DOGE    7560.380\n",
       "ADA       10.460\n",
       "ETH     -793.215\n",
       "dtype: float64"
      ]
     },
     "execution_count": 83,
     "metadata": {},
     "output_type": "execute_result"
    }
   ],
   "source": [
    "# Медианный заработок по каждой монете\n",
    "earnings.median()"
   ]
  },
  {
   "cell_type": "code",
   "execution_count": 84,
   "id": "9f7ffc69",
   "metadata": {},
   "outputs": [
    {
     "data": {
      "text/html": [
       "<div>\n",
       "<style scoped>\n",
       "    .dataframe tbody tr th:only-of-type {\n",
       "        vertical-align: middle;\n",
       "    }\n",
       "\n",
       "    .dataframe tbody tr th {\n",
       "        vertical-align: top;\n",
       "    }\n",
       "\n",
       "    .dataframe thead th {\n",
       "        text-align: right;\n",
       "    }\n",
       "</style>\n",
       "<table border=\"1\" class=\"dataframe\">\n",
       "  <thead>\n",
       "    <tr style=\"text-align: right;\">\n",
       "      <th></th>\n",
       "      <th>BTC</th>\n",
       "      <th>DOGE</th>\n",
       "      <th>ADA</th>\n",
       "      <th>ETH</th>\n",
       "    </tr>\n",
       "  </thead>\n",
       "  <tbody>\n",
       "    <tr>\n",
       "      <th>0</th>\n",
       "      <td>560.68</td>\n",
       "      <td>7560.38</td>\n",
       "      <td>-1661.30</td>\n",
       "      <td>-5164.93</td>\n",
       "    </tr>\n",
       "    <tr>\n",
       "      <th>1</th>\n",
       "      <td>NaN</td>\n",
       "      <td>NaN</td>\n",
       "      <td>10.46</td>\n",
       "      <td>NaN</td>\n",
       "    </tr>\n",
       "    <tr>\n",
       "      <th>2</th>\n",
       "      <td>NaN</td>\n",
       "      <td>NaN</td>\n",
       "      <td>1090.87</td>\n",
       "      <td>NaN</td>\n",
       "    </tr>\n",
       "  </tbody>\n",
       "</table>\n",
       "</div>"
      ],
      "text/plain": [
       "      BTC     DOGE      ADA      ETH\n",
       "0  560.68  7560.38 -1661.30 -5164.93\n",
       "1     NaN      NaN    10.46      NaN\n",
       "2     NaN      NaN  1090.87      NaN"
      ]
     },
     "execution_count": 84,
     "metadata": {},
     "output_type": "execute_result"
    }
   ],
   "source": [
    "# Моды заработка по каждой монете\n",
    "earnings.mode()"
   ]
  },
  {
   "cell_type": "code",
   "execution_count": 85,
   "id": "31c49895",
   "metadata": {},
   "outputs": [
    {
     "data": {
      "text/plain": [
       "BTC     3546.739991\n",
       "DOGE    9767.536799\n",
       "ADA     1386.633031\n",
       "ETH     6812.224813\n",
       "dtype: float64"
      ]
     },
     "execution_count": 85,
     "metadata": {},
     "output_type": "execute_result"
    }
   ],
   "source": [
    "# \"Разброс\" заработка по каждой монете\n",
    "earnings.std()"
   ]
  },
  {
   "cell_type": "code",
   "execution_count": 86,
   "id": "bfe82df2",
   "metadata": {},
   "outputs": [
    {
     "data": {
      "text/html": [
       "<div>\n",
       "<style scoped>\n",
       "    .dataframe tbody tr th:only-of-type {\n",
       "        vertical-align: middle;\n",
       "    }\n",
       "\n",
       "    .dataframe tbody tr th {\n",
       "        vertical-align: top;\n",
       "    }\n",
       "\n",
       "    .dataframe thead th {\n",
       "        text-align: right;\n",
       "    }\n",
       "</style>\n",
       "<table border=\"1\" class=\"dataframe\">\n",
       "  <thead>\n",
       "    <tr style=\"text-align: right;\">\n",
       "      <th></th>\n",
       "      <th>BTC</th>\n",
       "      <th>DOGE</th>\n",
       "      <th>ADA</th>\n",
       "      <th>ETH</th>\n",
       "    </tr>\n",
       "  </thead>\n",
       "  <tbody>\n",
       "    <tr>\n",
       "      <th>0.25</th>\n",
       "      <td>542.3550</td>\n",
       "      <td>-898.555</td>\n",
       "      <td>-825.420</td>\n",
       "      <td>-5164.9300</td>\n",
       "    </tr>\n",
       "    <tr>\n",
       "      <th>0.50</th>\n",
       "      <td>560.6800</td>\n",
       "      <td>7560.380</td>\n",
       "      <td>10.460</td>\n",
       "      <td>-793.2150</td>\n",
       "    </tr>\n",
       "    <tr>\n",
       "      <th>0.75</th>\n",
       "      <td>2327.8575</td>\n",
       "      <td>7560.380</td>\n",
       "      <td>550.665</td>\n",
       "      <td>4833.1825</td>\n",
       "    </tr>\n",
       "  </tbody>\n",
       "</table>\n",
       "</div>"
      ],
      "text/plain": [
       "            BTC      DOGE      ADA        ETH\n",
       "0.25   542.3550  -898.555 -825.420 -5164.9300\n",
       "0.50   560.6800  7560.380   10.460  -793.2150\n",
       "0.75  2327.8575  7560.380  550.665  4833.1825"
      ]
     },
     "execution_count": 86,
     "metadata": {},
     "output_type": "execute_result"
    }
   ],
   "source": [
    "# 25, 50 и 75 квантиль заработка по каждой монете\n",
    "earnings.quantile(q=(0.25, 0.5, 0.75))"
   ]
  },
  {
   "cell_type": "markdown",
   "id": "a63c2382",
   "metadata": {},
   "source": [
    "**Примечание:** квантиль - значение, которое заданная случайная величина не превышает с фиксированной вероятностью."
   ]
  },
  {
   "cell_type": "code",
   "execution_count": 87,
   "id": "23bdd916",
   "metadata": {},
   "outputs": [
    {
     "data": {
      "text/plain": [
       "BTC      487.38\n",
       "DOGE   -9357.49\n",
       "ADA    -1661.30\n",
       "ETH    -5164.93\n",
       "dtype: float64"
      ]
     },
     "execution_count": 87,
     "metadata": {},
     "output_type": "execute_result"
    }
   ],
   "source": [
    "# Минимальный заработок по каждой монете\n",
    "earnings.min()"
   ]
  },
  {
   "cell_type": "code",
   "execution_count": 88,
   "id": "b7cf27a0",
   "metadata": {},
   "outputs": [
    {
     "data": {
      "text/plain": [
       "BTC     7629.39\n",
       "DOGE    7560.38\n",
       "ADA     1090.87\n",
       "ETH     8597.23\n",
       "dtype: float64"
      ]
     },
     "execution_count": 88,
     "metadata": {},
     "output_type": "execute_result"
    }
   ],
   "source": [
    "# Максимальный заработок по каждой монете\n",
    "earnings.max()"
   ]
  },
  {
   "cell_type": "code",
   "execution_count": 89,
   "id": "d72e63bf",
   "metadata": {},
   "outputs": [
    {
     "data": {
      "text/html": [
       "<div>\n",
       "<style scoped>\n",
       "    .dataframe tbody tr th:only-of-type {\n",
       "        vertical-align: middle;\n",
       "    }\n",
       "\n",
       "    .dataframe tbody tr th {\n",
       "        vertical-align: top;\n",
       "    }\n",
       "\n",
       "    .dataframe thead th {\n",
       "        text-align: right;\n",
       "    }\n",
       "</style>\n",
       "<table border=\"1\" class=\"dataframe\">\n",
       "  <thead>\n",
       "    <tr style=\"text-align: right;\">\n",
       "      <th></th>\n",
       "      <th>BTC</th>\n",
       "      <th>DOGE</th>\n",
       "      <th>ADA</th>\n",
       "      <th>ETH</th>\n",
       "    </tr>\n",
       "  </thead>\n",
       "  <tbody>\n",
       "    <tr>\n",
       "      <th>yesterday</th>\n",
       "      <td>7629.39</td>\n",
       "      <td>9357.49</td>\n",
       "      <td>1661.30</td>\n",
       "      <td>8597.23</td>\n",
       "    </tr>\n",
       "    <tr>\n",
       "      <th>today</th>\n",
       "      <td>560.68</td>\n",
       "      <td>NaN</td>\n",
       "      <td>10.46</td>\n",
       "      <td>3578.50</td>\n",
       "    </tr>\n",
       "    <tr>\n",
       "      <th>tomorrow</th>\n",
       "      <td>487.38</td>\n",
       "      <td>7560.38</td>\n",
       "      <td>1090.87</td>\n",
       "      <td>5164.93</td>\n",
       "    </tr>\n",
       "    <tr>\n",
       "      <th>aftertomorrow</th>\n",
       "      <td>560.68</td>\n",
       "      <td>7560.38</td>\n",
       "      <td>NaN</td>\n",
       "      <td>5164.93</td>\n",
       "    </tr>\n",
       "  </tbody>\n",
       "</table>\n",
       "</div>"
      ],
      "text/plain": [
       "                   BTC     DOGE      ADA      ETH\n",
       "yesterday      7629.39  9357.49  1661.30  8597.23\n",
       "today           560.68      NaN    10.46  3578.50\n",
       "tomorrow        487.38  7560.38  1090.87  5164.93\n",
       "aftertomorrow   560.68  7560.38      NaN  5164.93"
      ]
     },
     "execution_count": 89,
     "metadata": {},
     "output_type": "execute_result"
    }
   ],
   "source": [
    "# Абсолюты заработков по каждой монете\n",
    "earnings.abs()"
   ]
  },
  {
   "cell_type": "code",
   "execution_count": 90,
   "id": "eb1e337b",
   "metadata": {},
   "outputs": [
    {
     "data": {
      "text/plain": [
       "BTC     1.168928e+12\n",
       "DOGE   -5.348680e+11\n",
       "ADA    -1.895626e+07\n",
       "ETH     8.207076e+14\n",
       "dtype: float64"
      ]
     },
     "execution_count": 90,
     "metadata": {},
     "output_type": "execute_result"
    }
   ],
   "source": [
    "# Произвдение заработков по каждой монете. Да я знаю, что это бессмысленно\n",
    "earnings.prod()"
   ]
  },
  {
   "cell_type": "code",
   "execution_count": 91,
   "id": "daf00b7c",
   "metadata": {},
   "outputs": [
    {
     "data": {
      "text/html": [
       "<div>\n",
       "<style scoped>\n",
       "    .dataframe tbody tr th:only-of-type {\n",
       "        vertical-align: middle;\n",
       "    }\n",
       "\n",
       "    .dataframe tbody tr th {\n",
       "        vertical-align: top;\n",
       "    }\n",
       "\n",
       "    .dataframe thead th {\n",
       "        text-align: right;\n",
       "    }\n",
       "</style>\n",
       "<table border=\"1\" class=\"dataframe\">\n",
       "  <thead>\n",
       "    <tr style=\"text-align: right;\">\n",
       "      <th></th>\n",
       "      <th>BTC</th>\n",
       "      <th>DOGE</th>\n",
       "      <th>ADA</th>\n",
       "      <th>ETH</th>\n",
       "    </tr>\n",
       "  </thead>\n",
       "  <tbody>\n",
       "    <tr>\n",
       "      <th>yesterday</th>\n",
       "      <td>7629.39</td>\n",
       "      <td>-9357.49</td>\n",
       "      <td>-1661.30</td>\n",
       "      <td>8597.23</td>\n",
       "    </tr>\n",
       "    <tr>\n",
       "      <th>today</th>\n",
       "      <td>560.68</td>\n",
       "      <td>NaN</td>\n",
       "      <td>10.46</td>\n",
       "      <td>3578.50</td>\n",
       "    </tr>\n",
       "    <tr>\n",
       "      <th>tomorrow</th>\n",
       "      <td>487.38</td>\n",
       "      <td>7560.38</td>\n",
       "      <td>1090.87</td>\n",
       "      <td>-5164.93</td>\n",
       "    </tr>\n",
       "    <tr>\n",
       "      <th>aftertomorrow</th>\n",
       "      <td>560.68</td>\n",
       "      <td>7560.38</td>\n",
       "      <td>NaN</td>\n",
       "      <td>-5164.93</td>\n",
       "    </tr>\n",
       "  </tbody>\n",
       "</table>\n",
       "</div>"
      ],
      "text/plain": [
       "                   BTC     DOGE      ADA      ETH\n",
       "yesterday      7629.39 -9357.49 -1661.30  8597.23\n",
       "today           560.68      NaN    10.46  3578.50\n",
       "tomorrow        487.38  7560.38  1090.87 -5164.93\n",
       "aftertomorrow   560.68  7560.38      NaN -5164.93"
      ]
     },
     "execution_count": 91,
     "metadata": {},
     "output_type": "execute_result"
    }
   ],
   "source": [
    "earnings"
   ]
  },
  {
   "cell_type": "code",
   "execution_count": 92,
   "id": "53022de2",
   "metadata": {},
   "outputs": [
    {
     "data": {
      "text/html": [
       "<div>\n",
       "<style scoped>\n",
       "    .dataframe tbody tr th:only-of-type {\n",
       "        vertical-align: middle;\n",
       "    }\n",
       "\n",
       "    .dataframe tbody tr th {\n",
       "        vertical-align: top;\n",
       "    }\n",
       "\n",
       "    .dataframe thead th {\n",
       "        text-align: right;\n",
       "    }\n",
       "</style>\n",
       "<table border=\"1\" class=\"dataframe\">\n",
       "  <thead>\n",
       "    <tr style=\"text-align: right;\">\n",
       "      <th></th>\n",
       "      <th>BTC</th>\n",
       "      <th>DOGE</th>\n",
       "      <th>ADA</th>\n",
       "      <th>ETH</th>\n",
       "    </tr>\n",
       "  </thead>\n",
       "  <tbody>\n",
       "    <tr>\n",
       "      <th>yesterday</th>\n",
       "      <td>7.629390e+03</td>\n",
       "      <td>-9.357490e+03</td>\n",
       "      <td>-1.661300e+03</td>\n",
       "      <td>8.597230e+03</td>\n",
       "    </tr>\n",
       "    <tr>\n",
       "      <th>today</th>\n",
       "      <td>4.277646e+06</td>\n",
       "      <td>NaN</td>\n",
       "      <td>-1.737720e+04</td>\n",
       "      <td>3.076519e+07</td>\n",
       "    </tr>\n",
       "    <tr>\n",
       "      <th>tomorrow</th>\n",
       "      <td>2.084839e+09</td>\n",
       "      <td>-7.074618e+07</td>\n",
       "      <td>-1.895626e+07</td>\n",
       "      <td>-1.589000e+11</td>\n",
       "    </tr>\n",
       "    <tr>\n",
       "      <th>aftertomorrow</th>\n",
       "      <td>1.168928e+12</td>\n",
       "      <td>-5.348680e+11</td>\n",
       "      <td>NaN</td>\n",
       "      <td>8.207076e+14</td>\n",
       "    </tr>\n",
       "  </tbody>\n",
       "</table>\n",
       "</div>"
      ],
      "text/plain": [
       "                        BTC          DOGE           ADA           ETH\n",
       "yesterday      7.629390e+03 -9.357490e+03 -1.661300e+03  8.597230e+03\n",
       "today          4.277646e+06           NaN -1.737720e+04  3.076519e+07\n",
       "tomorrow       2.084839e+09 -7.074618e+07 -1.895626e+07 -1.589000e+11\n",
       "aftertomorrow  1.168928e+12 -5.348680e+11           NaN  8.207076e+14"
      ]
     },
     "execution_count": 92,
     "metadata": {},
     "output_type": "execute_result"
    }
   ],
   "source": [
    "# Кумулятивные произведения заработков по каждой монете\n",
    "earnings.cumprod()"
   ]
  },
  {
   "cell_type": "code",
   "execution_count": 93,
   "id": "cef5a993",
   "metadata": {},
   "outputs": [
    {
     "data": {
      "text/html": [
       "<div>\n",
       "<style scoped>\n",
       "    .dataframe tbody tr th:only-of-type {\n",
       "        vertical-align: middle;\n",
       "    }\n",
       "\n",
       "    .dataframe tbody tr th {\n",
       "        vertical-align: top;\n",
       "    }\n",
       "\n",
       "    .dataframe thead th {\n",
       "        text-align: right;\n",
       "    }\n",
       "</style>\n",
       "<table border=\"1\" class=\"dataframe\">\n",
       "  <thead>\n",
       "    <tr style=\"text-align: right;\">\n",
       "      <th></th>\n",
       "      <th>BTC</th>\n",
       "      <th>DOGE</th>\n",
       "      <th>ADA</th>\n",
       "      <th>ETH</th>\n",
       "    </tr>\n",
       "  </thead>\n",
       "  <tbody>\n",
       "    <tr>\n",
       "      <th>yesterday</th>\n",
       "      <td>7629.39</td>\n",
       "      <td>-9357.49</td>\n",
       "      <td>-1661.30</td>\n",
       "      <td>8597.23</td>\n",
       "    </tr>\n",
       "    <tr>\n",
       "      <th>today</th>\n",
       "      <td>8190.07</td>\n",
       "      <td>NaN</td>\n",
       "      <td>-1650.84</td>\n",
       "      <td>12175.73</td>\n",
       "    </tr>\n",
       "    <tr>\n",
       "      <th>tomorrow</th>\n",
       "      <td>8677.45</td>\n",
       "      <td>-1797.11</td>\n",
       "      <td>-559.97</td>\n",
       "      <td>7010.80</td>\n",
       "    </tr>\n",
       "    <tr>\n",
       "      <th>aftertomorrow</th>\n",
       "      <td>9238.13</td>\n",
       "      <td>5763.27</td>\n",
       "      <td>NaN</td>\n",
       "      <td>1845.87</td>\n",
       "    </tr>\n",
       "  </tbody>\n",
       "</table>\n",
       "</div>"
      ],
      "text/plain": [
       "                   BTC     DOGE      ADA       ETH\n",
       "yesterday      7629.39 -9357.49 -1661.30   8597.23\n",
       "today          8190.07      NaN -1650.84  12175.73\n",
       "tomorrow       8677.45 -1797.11  -559.97   7010.80\n",
       "aftertomorrow  9238.13  5763.27      NaN   1845.87"
      ]
     },
     "execution_count": 93,
     "metadata": {},
     "output_type": "execute_result"
    }
   ],
   "source": [
    "# Кумулятивные суммы заработков по каждой монете\n",
    "earnings.cumsum()"
   ]
  },
  {
   "cell_type": "code",
   "execution_count": 94,
   "id": "bfdf747e",
   "metadata": {},
   "outputs": [
    {
     "data": {
      "text/html": [
       "<div>\n",
       "<style scoped>\n",
       "    .dataframe tbody tr th:only-of-type {\n",
       "        vertical-align: middle;\n",
       "    }\n",
       "\n",
       "    .dataframe tbody tr th {\n",
       "        vertical-align: top;\n",
       "    }\n",
       "\n",
       "    .dataframe thead th {\n",
       "        text-align: right;\n",
       "    }\n",
       "</style>\n",
       "<table border=\"1\" class=\"dataframe\">\n",
       "  <thead>\n",
       "    <tr style=\"text-align: right;\">\n",
       "      <th></th>\n",
       "      <th>BTC</th>\n",
       "      <th>DOGE</th>\n",
       "      <th>ADA</th>\n",
       "      <th>ETH</th>\n",
       "    </tr>\n",
       "  </thead>\n",
       "  <tbody>\n",
       "    <tr>\n",
       "      <th>yesterday</th>\n",
       "      <td>NaN</td>\n",
       "      <td>NaN</td>\n",
       "      <td>NaN</td>\n",
       "      <td>NaN</td>\n",
       "    </tr>\n",
       "    <tr>\n",
       "      <th>today</th>\n",
       "      <td>-0.926511</td>\n",
       "      <td>0.00000</td>\n",
       "      <td>-1.006296</td>\n",
       "      <td>-0.583761</td>\n",
       "    </tr>\n",
       "    <tr>\n",
       "      <th>tomorrow</th>\n",
       "      <td>-0.130734</td>\n",
       "      <td>-1.80795</td>\n",
       "      <td>103.289675</td>\n",
       "      <td>-2.443323</td>\n",
       "    </tr>\n",
       "    <tr>\n",
       "      <th>aftertomorrow</th>\n",
       "      <td>0.150396</td>\n",
       "      <td>0.00000</td>\n",
       "      <td>0.000000</td>\n",
       "      <td>0.000000</td>\n",
       "    </tr>\n",
       "  </tbody>\n",
       "</table>\n",
       "</div>"
      ],
      "text/plain": [
       "                    BTC     DOGE         ADA       ETH\n",
       "yesterday           NaN      NaN         NaN       NaN\n",
       "today         -0.926511  0.00000   -1.006296 -0.583761\n",
       "tomorrow      -0.130734 -1.80795  103.289675 -2.443323\n",
       "aftertomorrow  0.150396  0.00000    0.000000  0.000000"
      ]
     },
     "execution_count": 94,
     "metadata": {},
     "output_type": "execute_result"
    }
   ],
   "source": [
    "# Процентное изменение заработка по сравнению с предыдущим значением\n",
    "earnings.pct_change()"
   ]
  },
  {
   "cell_type": "code",
   "execution_count": 95,
   "id": "c7c537a6",
   "metadata": {},
   "outputs": [
    {
     "data": {
      "text/plain": [
       "-40069185.5944"
      ]
     },
     "execution_count": 95,
     "metadata": {},
     "output_type": "execute_result"
    }
   ],
   "source": [
    "# Ковариация между заработком по BTC и по DOGE\n",
    "earnings['BTC'].cov(earnings['DOGE'])"
   ]
  },
  {
   "cell_type": "code",
   "execution_count": 96,
   "id": "013376f3",
   "metadata": {},
   "outputs": [
    {
     "data": {
      "text/plain": [
       "-0.9999600937383021"
      ]
     },
     "execution_count": 96,
     "metadata": {},
     "output_type": "execute_result"
    }
   ],
   "source": [
    "# Корреляция между заработком по BTC и по DOGE\n",
    "earnings['BTC'].corr(earnings['DOGE'])"
   ]
  },
  {
   "cell_type": "markdown",
   "id": "a0ce0afb",
   "metadata": {},
   "source": [
    "Иногда хочется посмотреть все статистики сразу. Для этого есть метод describe"
   ]
  },
  {
   "cell_type": "code",
   "execution_count": 97,
   "id": "249486f7",
   "metadata": {},
   "outputs": [
    {
     "data": {
      "text/html": [
       "<div>\n",
       "<style scoped>\n",
       "    .dataframe tbody tr th:only-of-type {\n",
       "        vertical-align: middle;\n",
       "    }\n",
       "\n",
       "    .dataframe tbody tr th {\n",
       "        vertical-align: top;\n",
       "    }\n",
       "\n",
       "    .dataframe thead th {\n",
       "        text-align: right;\n",
       "    }\n",
       "</style>\n",
       "<table border=\"1\" class=\"dataframe\">\n",
       "  <thead>\n",
       "    <tr style=\"text-align: right;\">\n",
       "      <th></th>\n",
       "      <th>BTC</th>\n",
       "      <th>DOGE</th>\n",
       "      <th>ADA</th>\n",
       "      <th>ETH</th>\n",
       "    </tr>\n",
       "  </thead>\n",
       "  <tbody>\n",
       "    <tr>\n",
       "      <th>count</th>\n",
       "      <td>4.000000</td>\n",
       "      <td>3.000000</td>\n",
       "      <td>3.000000</td>\n",
       "      <td>4.000000</td>\n",
       "    </tr>\n",
       "    <tr>\n",
       "      <th>mean</th>\n",
       "      <td>2309.532500</td>\n",
       "      <td>1921.090000</td>\n",
       "      <td>-186.656667</td>\n",
       "      <td>461.467500</td>\n",
       "    </tr>\n",
       "    <tr>\n",
       "      <th>std</th>\n",
       "      <td>3546.739991</td>\n",
       "      <td>9767.536799</td>\n",
       "      <td>1386.633031</td>\n",
       "      <td>6812.224813</td>\n",
       "    </tr>\n",
       "    <tr>\n",
       "      <th>min</th>\n",
       "      <td>487.380000</td>\n",
       "      <td>-9357.490000</td>\n",
       "      <td>-1661.300000</td>\n",
       "      <td>-5164.930000</td>\n",
       "    </tr>\n",
       "    <tr>\n",
       "      <th>25%</th>\n",
       "      <td>542.355000</td>\n",
       "      <td>-898.555000</td>\n",
       "      <td>-825.420000</td>\n",
       "      <td>-5164.930000</td>\n",
       "    </tr>\n",
       "    <tr>\n",
       "      <th>50%</th>\n",
       "      <td>560.680000</td>\n",
       "      <td>7560.380000</td>\n",
       "      <td>10.460000</td>\n",
       "      <td>-793.215000</td>\n",
       "    </tr>\n",
       "    <tr>\n",
       "      <th>75%</th>\n",
       "      <td>2327.857500</td>\n",
       "      <td>7560.380000</td>\n",
       "      <td>550.665000</td>\n",
       "      <td>4833.182500</td>\n",
       "    </tr>\n",
       "    <tr>\n",
       "      <th>max</th>\n",
       "      <td>7629.390000</td>\n",
       "      <td>7560.380000</td>\n",
       "      <td>1090.870000</td>\n",
       "      <td>8597.230000</td>\n",
       "    </tr>\n",
       "  </tbody>\n",
       "</table>\n",
       "</div>"
      ],
      "text/plain": [
       "               BTC         DOGE          ADA          ETH\n",
       "count     4.000000     3.000000     3.000000     4.000000\n",
       "mean   2309.532500  1921.090000  -186.656667   461.467500\n",
       "std    3546.739991  9767.536799  1386.633031  6812.224813\n",
       "min     487.380000 -9357.490000 -1661.300000 -5164.930000\n",
       "25%     542.355000  -898.555000  -825.420000 -5164.930000\n",
       "50%     560.680000  7560.380000    10.460000  -793.215000\n",
       "75%    2327.857500  7560.380000   550.665000  4833.182500\n",
       "max    7629.390000  7560.380000  1090.870000  8597.230000"
      ]
     },
     "execution_count": 97,
     "metadata": {},
     "output_type": "execute_result"
    }
   ],
   "source": [
    "earnings.describe()"
   ]
  },
  {
   "cell_type": "code",
   "execution_count": 98,
   "id": "d62185f1",
   "metadata": {},
   "outputs": [],
   "source": [
    "del earnings"
   ]
  },
  {
   "cell_type": "markdown",
   "id": "8b06ed37",
   "metadata": {},
   "source": [
    "### 8. Применение пользовательских функций\n",
    "\n",
    "Иногда хочется применить к датасету или одной его колонке функцию. Применять можно ко всей таблице, поэлементно, поколоночно или построчно"
   ]
  },
  {
   "cell_type": "code",
   "execution_count": 99,
   "id": "caadf3c0",
   "metadata": {},
   "outputs": [
    {
     "data": {
      "text/html": [
       "<div>\n",
       "<style scoped>\n",
       "    .dataframe tbody tr th:only-of-type {\n",
       "        vertical-align: middle;\n",
       "    }\n",
       "\n",
       "    .dataframe tbody tr th {\n",
       "        vertical-align: top;\n",
       "    }\n",
       "\n",
       "    .dataframe thead th {\n",
       "        text-align: right;\n",
       "    }\n",
       "</style>\n",
       "<table border=\"1\" class=\"dataframe\">\n",
       "  <thead>\n",
       "    <tr style=\"text-align: right;\">\n",
       "      <th></th>\n",
       "      <th>BTC</th>\n",
       "      <th>DOGE</th>\n",
       "      <th>ADA</th>\n",
       "      <th>ETH</th>\n",
       "    </tr>\n",
       "  </thead>\n",
       "  <tbody>\n",
       "    <tr>\n",
       "      <th>yesterday</th>\n",
       "      <td>7629.39</td>\n",
       "      <td>-9357.49</td>\n",
       "      <td>-1661.30</td>\n",
       "      <td>8597.23</td>\n",
       "    </tr>\n",
       "    <tr>\n",
       "      <th>today</th>\n",
       "      <td>560.68</td>\n",
       "      <td>NaN</td>\n",
       "      <td>10.46</td>\n",
       "      <td>3578.50</td>\n",
       "    </tr>\n",
       "    <tr>\n",
       "      <th>tomorrow</th>\n",
       "      <td>487.38</td>\n",
       "      <td>7560.38</td>\n",
       "      <td>1090.87</td>\n",
       "      <td>-5164.93</td>\n",
       "    </tr>\n",
       "  </tbody>\n",
       "</table>\n",
       "</div>"
      ],
      "text/plain": [
       "               BTC     DOGE      ADA      ETH\n",
       "yesterday  7629.39 -9357.49 -1661.30  8597.23\n",
       "today       560.68      NaN    10.46  3578.50\n",
       "tomorrow    487.38  7560.38  1090.87 -5164.93"
      ]
     },
     "execution_count": 99,
     "metadata": {},
     "output_type": "execute_result"
    }
   ],
   "source": [
    "earnings = pd.DataFrame(\n",
    "    data=[[7629.39, -9357.49, -1661.3, 8597.23],\n",
    "          [560.68, None, 10.46, 3578.5],\n",
    "          [487.38, 7560.38, 1090.87, -5164.93]],\n",
    "    columns=['BTC', 'DOGE', 'ADA', 'ETH'],\n",
    "    index=['yesterday', 'today', 'tomorrow']\n",
    ")\n",
    "earnings"
   ]
  },
  {
   "cell_type": "markdown",
   "id": "8a10996f",
   "metadata": {},
   "source": [
    "Для применения построчно/поколоночно используйте функцию `apply`. Если хочется применить построчно добавьте `axis=1`"
   ]
  },
  {
   "cell_type": "code",
   "execution_count": 100,
   "id": "bb122813",
   "metadata": {},
   "outputs": [
    {
     "data": {
      "text/plain": [
       "BTC     1.683006e+07\n",
       "DOGE    1.431072e+08\n",
       "ADA     1.922751e+06\n",
       "ETH     4.850538e+07\n",
       "dtype: float64"
      ]
     },
     "execution_count": 100,
     "metadata": {},
     "output_type": "execute_result"
    }
   ],
   "source": [
    "# Посчитать дисперсию заработка для каждой монеты \n",
    "# В лямбду приходит pandas.Series объект каждой колонки\n",
    "earnings.apply(lambda money: money.std() ** 2)"
   ]
  },
  {
   "cell_type": "markdown",
   "id": "ce5e5372",
   "metadata": {},
   "source": [
    "Для поэлементного применения используйте функцию `applymap`"
   ]
  },
  {
   "cell_type": "code",
   "execution_count": 101,
   "id": "81c298d2",
   "metadata": {},
   "outputs": [
    {
     "data": {
      "text/html": [
       "<div>\n",
       "<style scoped>\n",
       "    .dataframe tbody tr th:only-of-type {\n",
       "        vertical-align: middle;\n",
       "    }\n",
       "\n",
       "    .dataframe tbody tr th {\n",
       "        vertical-align: top;\n",
       "    }\n",
       "\n",
       "    .dataframe thead th {\n",
       "        text-align: right;\n",
       "    }\n",
       "</style>\n",
       "<table border=\"1\" class=\"dataframe\">\n",
       "  <thead>\n",
       "    <tr style=\"text-align: right;\">\n",
       "      <th></th>\n",
       "      <th>BTC</th>\n",
       "      <th>DOGE</th>\n",
       "      <th>ADA</th>\n",
       "      <th>ETH</th>\n",
       "    </tr>\n",
       "  </thead>\n",
       "  <tbody>\n",
       "    <tr>\n",
       "      <th>yesterday</th>\n",
       "      <td>7629.39</td>\n",
       "      <td>9357.49</td>\n",
       "      <td>1661.30</td>\n",
       "      <td>8597.23</td>\n",
       "    </tr>\n",
       "    <tr>\n",
       "      <th>today</th>\n",
       "      <td>560.68</td>\n",
       "      <td>NaN</td>\n",
       "      <td>10.46</td>\n",
       "      <td>3578.50</td>\n",
       "    </tr>\n",
       "    <tr>\n",
       "      <th>tomorrow</th>\n",
       "      <td>487.38</td>\n",
       "      <td>7560.38</td>\n",
       "      <td>1090.87</td>\n",
       "      <td>5164.93</td>\n",
       "    </tr>\n",
       "  </tbody>\n",
       "</table>\n",
       "</div>"
      ],
      "text/plain": [
       "               BTC     DOGE      ADA      ETH\n",
       "yesterday  7629.39  9357.49  1661.30  8597.23\n",
       "today       560.68      NaN    10.46  3578.50\n",
       "tomorrow    487.38  7560.38  1090.87  5164.93"
      ]
     },
     "execution_count": 101,
     "metadata": {},
     "output_type": "execute_result"
    }
   ],
   "source": [
    "# Сделаем вид, что потери превратились в профит\n",
    "earnings.applymap(abs)"
   ]
  },
  {
   "cell_type": "code",
   "execution_count": 102,
   "id": "17e67227",
   "metadata": {},
   "outputs": [
    {
     "data": {
      "text/html": [
       "<div>\n",
       "<style scoped>\n",
       "    .dataframe tbody tr th:only-of-type {\n",
       "        vertical-align: middle;\n",
       "    }\n",
       "\n",
       "    .dataframe tbody tr th {\n",
       "        vertical-align: top;\n",
       "    }\n",
       "\n",
       "    .dataframe thead th {\n",
       "        text-align: right;\n",
       "    }\n",
       "</style>\n",
       "<table border=\"1\" class=\"dataframe\">\n",
       "  <thead>\n",
       "    <tr style=\"text-align: right;\">\n",
       "      <th></th>\n",
       "      <th>BTC</th>\n",
       "      <th>DOGE</th>\n",
       "      <th>ADA</th>\n",
       "      <th>ETH</th>\n",
       "      <th>BTC+100500</th>\n",
       "    </tr>\n",
       "  </thead>\n",
       "  <tbody>\n",
       "    <tr>\n",
       "      <th>yesterday</th>\n",
       "      <td>7629.39</td>\n",
       "      <td>-9357.49</td>\n",
       "      <td>-1661.30</td>\n",
       "      <td>8597.23</td>\n",
       "      <td>108129.39</td>\n",
       "    </tr>\n",
       "    <tr>\n",
       "      <th>today</th>\n",
       "      <td>560.68</td>\n",
       "      <td>NaN</td>\n",
       "      <td>10.46</td>\n",
       "      <td>3578.50</td>\n",
       "      <td>101060.68</td>\n",
       "    </tr>\n",
       "    <tr>\n",
       "      <th>tomorrow</th>\n",
       "      <td>487.38</td>\n",
       "      <td>7560.38</td>\n",
       "      <td>1090.87</td>\n",
       "      <td>-5164.93</td>\n",
       "      <td>100987.38</td>\n",
       "    </tr>\n",
       "  </tbody>\n",
       "</table>\n",
       "</div>"
      ],
      "text/plain": [
       "               BTC     DOGE      ADA      ETH  BTC+100500\n",
       "yesterday  7629.39 -9357.49 -1661.30  8597.23   108129.39\n",
       "today       560.68      NaN    10.46  3578.50   101060.68\n",
       "tomorrow    487.38  7560.38  1090.87 -5164.93   100987.38"
      ]
     },
     "execution_count": 102,
     "metadata": {},
     "output_type": "execute_result"
    }
   ],
   "source": [
    "# Применять функцию можно и к отдельной колонке. В лямбду приходит отдельное значение колонки\n",
    "earnings['BTC+100500'] = earnings['BTC'].apply(lambda money: money + 100500)\n",
    "earnings"
   ]
  },
  {
   "cell_type": "code",
   "execution_count": 103,
   "id": "5ec3b7ab",
   "metadata": {},
   "outputs": [
    {
     "data": {
      "text/html": [
       "<div>\n",
       "<style scoped>\n",
       "    .dataframe tbody tr th:only-of-type {\n",
       "        vertical-align: middle;\n",
       "    }\n",
       "\n",
       "    .dataframe tbody tr th {\n",
       "        vertical-align: top;\n",
       "    }\n",
       "\n",
       "    .dataframe thead th {\n",
       "        text-align: right;\n",
       "    }\n",
       "</style>\n",
       "<table border=\"1\" class=\"dataframe\">\n",
       "  <thead>\n",
       "    <tr style=\"text-align: right;\">\n",
       "      <th></th>\n",
       "      <th>BTC</th>\n",
       "      <th>DOGE</th>\n",
       "      <th>ADA</th>\n",
       "      <th>ETH</th>\n",
       "      <th>BTC+100500</th>\n",
       "      <th>BTC+DOGE</th>\n",
       "    </tr>\n",
       "  </thead>\n",
       "  <tbody>\n",
       "    <tr>\n",
       "      <th>yesterday</th>\n",
       "      <td>7629.39</td>\n",
       "      <td>-9357.49</td>\n",
       "      <td>-1661.30</td>\n",
       "      <td>8597.23</td>\n",
       "      <td>108129.39</td>\n",
       "      <td>-1728.10</td>\n",
       "    </tr>\n",
       "    <tr>\n",
       "      <th>today</th>\n",
       "      <td>560.68</td>\n",
       "      <td>NaN</td>\n",
       "      <td>10.46</td>\n",
       "      <td>3578.50</td>\n",
       "      <td>101060.68</td>\n",
       "      <td>NaN</td>\n",
       "    </tr>\n",
       "    <tr>\n",
       "      <th>tomorrow</th>\n",
       "      <td>487.38</td>\n",
       "      <td>7560.38</td>\n",
       "      <td>1090.87</td>\n",
       "      <td>-5164.93</td>\n",
       "      <td>100987.38</td>\n",
       "      <td>8047.76</td>\n",
       "    </tr>\n",
       "  </tbody>\n",
       "</table>\n",
       "</div>"
      ],
      "text/plain": [
       "               BTC     DOGE      ADA      ETH  BTC+100500  BTC+DOGE\n",
       "yesterday  7629.39 -9357.49 -1661.30  8597.23   108129.39  -1728.10\n",
       "today       560.68      NaN    10.46  3578.50   101060.68       NaN\n",
       "tomorrow    487.38  7560.38  1090.87 -5164.93   100987.38   8047.76"
      ]
     },
     "execution_count": 103,
     "metadata": {},
     "output_type": "execute_result"
    }
   ],
   "source": [
    "# Если нужно взаимодействие между колонками - применяйте apply row-wise (по строкам) \n",
    "earnings['BTC+DOGE'] = earnings.apply(lambda x: x['BTC'] + x.DOGE, axis = 1)\n",
    "earnings"
   ]
  },
  {
   "cell_type": "markdown",
   "id": "b706bb0c",
   "metadata": {},
   "source": [
    "#### Не забудьте самостоятельно посмотреть метод pipe"
   ]
  },
  {
   "cell_type": "code",
   "execution_count": 104,
   "id": "70b2757c",
   "metadata": {},
   "outputs": [
    {
     "name": "stdout",
     "output_type": "stream",
     "text": [
      "Help on method pipe in module pandas.core.generic:\n",
      "\n",
      "pipe(func: 'Callable[..., T] | tuple[Callable[..., T], str]', *args, **kwargs) -> 'T' method of pandas.core.frame.DataFrame instance\n",
      "    Apply func(self, \\*args, \\*\\*kwargs).\n",
      "    \n",
      "    Parameters\n",
      "    ----------\n",
      "    func : function\n",
      "        Function to apply to the Series/DataFrame.\n",
      "        ``args``, and ``kwargs`` are passed into ``func``.\n",
      "        Alternatively a ``(callable, data_keyword)`` tuple where\n",
      "        ``data_keyword`` is a string indicating the keyword of\n",
      "        ``callable`` that expects the Series/DataFrame.\n",
      "    args : iterable, optional\n",
      "        Positional arguments passed into ``func``.\n",
      "    kwargs : mapping, optional\n",
      "        A dictionary of keyword arguments passed into ``func``.\n",
      "    \n",
      "    Returns\n",
      "    -------\n",
      "    object : the return type of ``func``.\n",
      "    \n",
      "    See Also\n",
      "    --------\n",
      "    DataFrame.apply : Apply a function along input axis of DataFrame.\n",
      "    DataFrame.applymap : Apply a function elementwise on a whole DataFrame.\n",
      "    Series.map : Apply a mapping correspondence on a\n",
      "        :class:`~pandas.Series`.\n",
      "    \n",
      "    Notes\n",
      "    -----\n",
      "    Use ``.pipe`` when chaining together functions that expect\n",
      "    Series, DataFrames or GroupBy objects. Instead of writing\n",
      "    \n",
      "    >>> func(g(h(df), arg1=a), arg2=b, arg3=c)  # doctest: +SKIP\n",
      "    \n",
      "    You can write\n",
      "    \n",
      "    >>> (df.pipe(h)\n",
      "    ...    .pipe(g, arg1=a)\n",
      "    ...    .pipe(func, arg2=b, arg3=c)\n",
      "    ... )  # doctest: +SKIP\n",
      "    \n",
      "    If you have a function that takes the data as (say) the second\n",
      "    argument, pass a tuple indicating which keyword expects the\n",
      "    data. For example, suppose ``f`` takes its data as ``arg2``:\n",
      "    \n",
      "    >>> (df.pipe(h)\n",
      "    ...    .pipe(g, arg1=a)\n",
      "    ...    .pipe((func, 'arg2'), arg1=a, arg3=c)\n",
      "    ...  )  # doctest: +SKIP\n",
      "\n"
     ]
    }
   ],
   "source": [
    "help(earnings.pipe)"
   ]
  },
  {
   "cell_type": "code",
   "execution_count": 105,
   "id": "1d6fda71",
   "metadata": {},
   "outputs": [],
   "source": [
    "del earnings"
   ]
  },
  {
   "cell_type": "markdown",
   "id": "6125f501",
   "metadata": {},
   "source": [
    "### 9. Работа со строковыми колонками\n",
    "\n",
    "На данный момент для работы со строковыми колонками нам пришлось бы постоянно использовать метод apply. Это неудобно и поэтому в pandas сделали удобный инструмент для манипуляций со строками"
   ]
  },
  {
   "cell_type": "code",
   "execution_count": 106,
   "id": "76663904",
   "metadata": {},
   "outputs": [
    {
     "data": {
      "text/html": [
       "<div>\n",
       "<style scoped>\n",
       "    .dataframe tbody tr th:only-of-type {\n",
       "        vertical-align: middle;\n",
       "    }\n",
       "\n",
       "    .dataframe tbody tr th {\n",
       "        vertical-align: top;\n",
       "    }\n",
       "\n",
       "    .dataframe thead th {\n",
       "        text-align: right;\n",
       "    }\n",
       "</style>\n",
       "<table border=\"1\" class=\"dataframe\">\n",
       "  <thead>\n",
       "    <tr style=\"text-align: right;\">\n",
       "      <th></th>\n",
       "      <th>symbol</th>\n",
       "      <th>name</th>\n",
       "    </tr>\n",
       "  </thead>\n",
       "  <tbody>\n",
       "    <tr>\n",
       "      <th>0</th>\n",
       "      <td>BTC</td>\n",
       "      <td>Bitcoin</td>\n",
       "    </tr>\n",
       "    <tr>\n",
       "      <th>1</th>\n",
       "      <td>LTC</td>\n",
       "      <td>Litecoin</td>\n",
       "    </tr>\n",
       "    <tr>\n",
       "      <th>2</th>\n",
       "      <td>ETC</td>\n",
       "      <td>Etherium</td>\n",
       "    </tr>\n",
       "    <tr>\n",
       "      <th>3</th>\n",
       "      <td>DOGE</td>\n",
       "      <td>Doge coin</td>\n",
       "    </tr>\n",
       "  </tbody>\n",
       "</table>\n",
       "</div>"
      ],
      "text/plain": [
       "  symbol       name\n",
       "0    BTC    Bitcoin\n",
       "1    LTC   Litecoin\n",
       "2    ETC   Etherium\n",
       "3   DOGE  Doge coin"
      ]
     },
     "execution_count": 106,
     "metadata": {},
     "output_type": "execute_result"
    }
   ],
   "source": [
    "taxonomy = pd.DataFrame(\n",
    "    data=[['BTC', 'Bitcoin'],['LTC', 'Litecoin'], ['ETC', 'Etherium'], ['DOGE', 'Doge coin']],\n",
    "    columns=['symbol', 'name']\n",
    ")\n",
    "taxonomy"
   ]
  },
  {
   "cell_type": "markdown",
   "id": "d9cde585",
   "metadata": {},
   "source": [
    "Чтобы применять строковые функции к колонке надо обратиться к свойству .str."
   ]
  },
  {
   "cell_type": "code",
   "execution_count": 107,
   "id": "cde1a4c8",
   "metadata": {},
   "outputs": [
    {
     "data": {
      "text/plain": [
       "0     btc\n",
       "1     ltc\n",
       "2     etc\n",
       "3    doge\n",
       "Name: symbol, dtype: object"
      ]
     },
     "execution_count": 107,
     "metadata": {},
     "output_type": "execute_result"
    }
   ],
   "source": [
    "# Привести все к нижнему регистру\n",
    "taxonomy['symbol'].str.lower()"
   ]
  },
  {
   "cell_type": "code",
   "execution_count": 108,
   "id": "cf95bc7e",
   "metadata": {},
   "outputs": [
    {
     "data": {
      "text/plain": [
       "0      BITCOIN\n",
       "1     LITECOIN\n",
       "2     ETHERIUM\n",
       "3    DOGE COIN\n",
       "Name: name, dtype: object"
      ]
     },
     "execution_count": 108,
     "metadata": {},
     "output_type": "execute_result"
    }
   ],
   "source": [
    "# Привести все к верхнему регистру\n",
    "taxonomy['name'].str.upper()"
   ]
  },
  {
   "cell_type": "code",
   "execution_count": 109,
   "id": "4d29ad43",
   "metadata": {},
   "outputs": [
    {
     "data": {
      "text/plain": [
       "0    3\n",
       "1    3\n",
       "2    3\n",
       "3    4\n",
       "Name: symbol, dtype: int64"
      ]
     },
     "execution_count": 109,
     "metadata": {},
     "output_type": "execute_result"
    }
   ],
   "source": [
    "# Длины строк\n",
    "taxonomy['symbol'].str.len()"
   ]
  },
  {
   "cell_type": "code",
   "execution_count": 110,
   "id": "c06bc3f7",
   "metadata": {},
   "outputs": [
    {
     "data": {
      "text/plain": [
       "0      Bitcoin\n",
       "1     Litecoin\n",
       "2     Etherium\n",
       "3    Doge coin\n",
       "Name: name, dtype: object"
      ]
     },
     "execution_count": 110,
     "metadata": {},
     "output_type": "execute_result"
    }
   ],
   "source": [
    "# Убрать по краям пробельные символы\n",
    "taxonomy['name'].str.strip()"
   ]
  },
  {
   "cell_type": "code",
   "execution_count": 111,
   "id": "2ed401cf",
   "metadata": {},
   "outputs": [
    {
     "data": {
      "text/plain": [
       "0       [Bitcoin]\n",
       "1      [Litecoin]\n",
       "2      [Etherium]\n",
       "3    [Doge, coin]\n",
       "Name: name, dtype: object"
      ]
     },
     "execution_count": 111,
     "metadata": {},
     "output_type": "execute_result"
    }
   ],
   "source": [
    "# Разбить строки по заданному символу\n",
    "taxonomy['name'].str.split(' ')"
   ]
  },
  {
   "cell_type": "code",
   "execution_count": 112,
   "id": "fddcaa44",
   "metadata": {},
   "outputs": [
    {
     "data": {
      "text/plain": [
       "'BTC $$$ LTC $$$ ETC $$$ DOGE'"
      ]
     },
     "execution_count": 112,
     "metadata": {},
     "output_type": "execute_result"
    }
   ],
   "source": [
    "# Склеить все строки в одну. Аналог str.join\n",
    "taxonomy['symbol'].str.cat(sep=' $$$ ')"
   ]
  },
  {
   "cell_type": "code",
   "execution_count": 113,
   "id": "088701b9",
   "metadata": {},
   "outputs": [
    {
     "data": {
      "text/plain": [
       "0     True\n",
       "1     True\n",
       "2    False\n",
       "3     True\n",
       "Name: name, dtype: bool"
      ]
     },
     "execution_count": 113,
     "metadata": {},
     "output_type": "execute_result"
    }
   ],
   "source": [
    "# Найти везде подстроку\n",
    "taxonomy['name'].str.contains('coin')"
   ]
  },
  {
   "cell_type": "code",
   "execution_count": 114,
   "id": "0f631cce",
   "metadata": {},
   "outputs": [
    {
     "data": {
      "text/plain": [
       "0      Bitdough\n",
       "1     Litedough\n",
       "2      Etherium\n",
       "3    Doge dough\n",
       "Name: name, dtype: object"
      ]
     },
     "execution_count": 114,
     "metadata": {},
     "output_type": "execute_result"
    }
   ],
   "source": [
    "# Везде заменить строку на другую\n",
    "taxonomy['name'].str.replace('coin', 'dough')"
   ]
  },
  {
   "cell_type": "code",
   "execution_count": 115,
   "id": "edee839c",
   "metadata": {},
   "outputs": [
    {
     "data": {
      "text/plain": [
       "0        BitcoinBitcoin\n",
       "1      LitecoinLitecoin\n",
       "2      EtheriumEtherium\n",
       "3    Doge coinDoge coin\n",
       "Name: name, dtype: object"
      ]
     },
     "execution_count": 115,
     "metadata": {},
     "output_type": "execute_result"
    }
   ],
   "source": [
    "# Повторить каждую строку указанное число раз\n",
    "taxonomy['name'].str.repeat(2)"
   ]
  },
  {
   "cell_type": "code",
   "execution_count": 116,
   "id": "ce5d8a9e",
   "metadata": {},
   "outputs": [
    {
     "data": {
      "text/plain": [
       "0    1\n",
       "1    1\n",
       "2    0\n",
       "3    1\n",
       "Name: name, dtype: int64"
      ]
     },
     "execution_count": 116,
     "metadata": {},
     "output_type": "execute_result"
    }
   ],
   "source": [
    "# Посчитать все появления указанной строки\n",
    "taxonomy['name'].str.count('coin')"
   ]
  },
  {
   "cell_type": "code",
   "execution_count": 117,
   "id": "c3c86f59",
   "metadata": {},
   "outputs": [
    {
     "data": {
      "text/plain": [
       "0     True\n",
       "1    False\n",
       "2    False\n",
       "3    False\n",
       "Name: symbol, dtype: bool"
      ]
     },
     "execution_count": 117,
     "metadata": {},
     "output_type": "execute_result"
    }
   ],
   "source": [
    "# Проверка наличия префикса\n",
    "taxonomy['symbol'].str.startswith('B')"
   ]
  },
  {
   "cell_type": "code",
   "execution_count": 118,
   "id": "9f52aa61",
   "metadata": {},
   "outputs": [
    {
     "data": {
      "text/plain": [
       "0     True\n",
       "1     True\n",
       "2     True\n",
       "3    False\n",
       "Name: symbol, dtype: bool"
      ]
     },
     "execution_count": 118,
     "metadata": {},
     "output_type": "execute_result"
    }
   ],
   "source": [
    "# Проверка наличия суффикса\n",
    "taxonomy['symbol'].str.endswith('C')"
   ]
  },
  {
   "cell_type": "code",
   "execution_count": 119,
   "id": "9f968dfd",
   "metadata": {},
   "outputs": [
    {
     "data": {
      "text/plain": [
       "0    3\n",
       "1    4\n",
       "2   -1\n",
       "3    5\n",
       "Name: name, dtype: int64"
      ]
     },
     "execution_count": 119,
     "metadata": {},
     "output_type": "execute_result"
    }
   ],
   "source": [
    "# Найти место в строках где начинается искомая строка. \n",
    "taxonomy['name'].str.find('coin')"
   ]
  },
  {
   "cell_type": "code",
   "execution_count": 120,
   "id": "410ad699",
   "metadata": {},
   "outputs": [
    {
     "data": {
      "text/plain": [
       "0    True\n",
       "1    True\n",
       "2    True\n",
       "3    True\n",
       "Name: symbol, dtype: bool"
      ]
     },
     "execution_count": 120,
     "metadata": {},
     "output_type": "execute_result"
    }
   ],
   "source": [
    "# Проверка верхнего регистра\n",
    "taxonomy['symbol'].str.isupper()"
   ]
  },
  {
   "cell_type": "code",
   "execution_count": 121,
   "id": "b1764b29",
   "metadata": {},
   "outputs": [
    {
     "data": {
      "text/plain": [
       "0    False\n",
       "1    False\n",
       "2    False\n",
       "3    False\n",
       "Name: symbol, dtype: bool"
      ]
     },
     "execution_count": 121,
     "metadata": {},
     "output_type": "execute_result"
    }
   ],
   "source": [
    "# Проверка нижнего регистра\n",
    "taxonomy['symbol'].str.islower()"
   ]
  },
  {
   "cell_type": "code",
   "execution_count": 122,
   "id": "771015c7",
   "metadata": {},
   "outputs": [
    {
     "data": {
      "text/plain": [
       "0    False\n",
       "1    False\n",
       "2    False\n",
       "3    False\n",
       "Name: name, dtype: bool"
      ]
     },
     "execution_count": 122,
     "metadata": {},
     "output_type": "execute_result"
    }
   ],
   "source": [
    "# Проверка что все символы - цифры\n",
    "taxonomy['name'].str.isnumeric()"
   ]
  },
  {
   "cell_type": "code",
   "execution_count": 123,
   "id": "8a171c27",
   "metadata": {},
   "outputs": [
    {
     "name": "stdout",
     "output_type": "stream",
     "text": [
      "Help on method isnumeric in module pandas.core.strings.accessor:\n",
      "\n",
      "isnumeric() method of pandas.core.strings.accessor.StringMethods instance\n",
      "    Check whether all characters in each string are numeric.\n",
      "    \n",
      "    This is equivalent to running the Python string method\n",
      "    :meth:`str.isnumeric` for each element of the Series/Index. If a string\n",
      "    has zero characters, ``False`` is returned for that check.\n",
      "    \n",
      "    Returns\n",
      "    -------\n",
      "    Series or Index of bool\n",
      "        Series or Index of boolean values with the same length as the original\n",
      "        Series/Index.\n",
      "    \n",
      "    See Also\n",
      "    --------\n",
      "    Series.str.isalpha : Check whether all characters are alphabetic.\n",
      "    Series.str.isnumeric : Check whether all characters are numeric.\n",
      "    Series.str.isalnum : Check whether all characters are alphanumeric.\n",
      "    Series.str.isdigit : Check whether all characters are digits.\n",
      "    Series.str.isdecimal : Check whether all characters are decimal.\n",
      "    Series.str.isspace : Check whether all characters are whitespace.\n",
      "    Series.str.islower : Check whether all characters are lowercase.\n",
      "    Series.str.isupper : Check whether all characters are uppercase.\n",
      "    Series.str.istitle : Check whether all characters are titlecase.\n",
      "    \n",
      "    Examples\n",
      "    --------\n",
      "    **Checks for Alphabetic and Numeric Characters**\n",
      "    \n",
      "    >>> s1 = pd.Series(['one', 'one1', '1', ''])\n",
      "    \n",
      "    >>> s1.str.isalpha()\n",
      "    0     True\n",
      "    1    False\n",
      "    2    False\n",
      "    3    False\n",
      "    dtype: bool\n",
      "    \n",
      "    >>> s1.str.isnumeric()\n",
      "    0    False\n",
      "    1    False\n",
      "    2     True\n",
      "    3    False\n",
      "    dtype: bool\n",
      "    \n",
      "    >>> s1.str.isalnum()\n",
      "    0     True\n",
      "    1     True\n",
      "    2     True\n",
      "    3    False\n",
      "    dtype: bool\n",
      "    \n",
      "    Note that checks against characters mixed with any additional punctuation\n",
      "    or whitespace will evaluate to false for an alphanumeric check.\n",
      "    \n",
      "    >>> s2 = pd.Series(['A B', '1.5', '3,000'])\n",
      "    >>> s2.str.isalnum()\n",
      "    0    False\n",
      "    1    False\n",
      "    2    False\n",
      "    dtype: bool\n",
      "    \n",
      "    **More Detailed Checks for Numeric Characters**\n",
      "    \n",
      "    There are several different but overlapping sets of numeric characters that\n",
      "    can be checked for.\n",
      "    \n",
      "    >>> s3 = pd.Series(['23', '³', '⅕', ''])\n",
      "    \n",
      "    The ``s3.str.isdecimal`` method checks for characters used to form numbers\n",
      "    in base 10.\n",
      "    \n",
      "    >>> s3.str.isdecimal()\n",
      "    0     True\n",
      "    1    False\n",
      "    2    False\n",
      "    3    False\n",
      "    dtype: bool\n",
      "    \n",
      "    The ``s.str.isdigit`` method is the same as ``s3.str.isdecimal`` but also\n",
      "    includes special digits, like superscripted and subscripted digits in\n",
      "    unicode.\n",
      "    \n",
      "    >>> s3.str.isdigit()\n",
      "    0     True\n",
      "    1     True\n",
      "    2    False\n",
      "    3    False\n",
      "    dtype: bool\n",
      "    \n",
      "    The ``s.str.isnumeric`` method is the same as ``s3.str.isdigit`` but also\n",
      "    includes other characters that can represent quantities such as unicode\n",
      "    fractions.\n",
      "    \n",
      "    >>> s3.str.isnumeric()\n",
      "    0     True\n",
      "    1     True\n",
      "    2     True\n",
      "    3    False\n",
      "    dtype: bool\n",
      "    \n",
      "    **Checks for Whitespace**\n",
      "    \n",
      "    >>> s4 = pd.Series([' ', '\\t\\r\\n ', ''])\n",
      "    >>> s4.str.isspace()\n",
      "    0     True\n",
      "    1     True\n",
      "    2    False\n",
      "    dtype: bool\n",
      "    \n",
      "    **Checks for Character Case**\n",
      "    \n",
      "    >>> s5 = pd.Series(['leopard', 'Golden Eagle', 'SNAKE', ''])\n",
      "    \n",
      "    >>> s5.str.islower()\n",
      "    0     True\n",
      "    1    False\n",
      "    2    False\n",
      "    3    False\n",
      "    dtype: bool\n",
      "    \n",
      "    >>> s5.str.isupper()\n",
      "    0    False\n",
      "    1    False\n",
      "    2     True\n",
      "    3    False\n",
      "    dtype: bool\n",
      "    \n",
      "    The ``s5.str.istitle`` method checks for whether all words are in title\n",
      "    case (whether only the first letter of each word is capitalized). Words are\n",
      "    assumed to be as any sequence of non-numeric characters separated by\n",
      "    whitespace characters.\n",
      "    \n",
      "    >>> s5.str.istitle()\n",
      "    0    False\n",
      "    1     True\n",
      "    2    False\n",
      "    3    False\n",
      "    dtype: bool\n",
      "\n"
     ]
    }
   ],
   "source": [
    "#Посмотреть все возможные проверки\n",
    "help(taxonomy['name'].str.isnumeric)"
   ]
  },
  {
   "cell_type": "markdown",
   "id": "fecda82e",
   "metadata": {},
   "source": [
    "### 10. Агрегации, трансформации и фильтрации\n",
    "\n",
    "#### 10.1. Скользящие окна\n",
    "\n",
    "Мы начнем со специального случая аггрегаций данных - оконных функций. Мы поговорим о методах rolling и emw. Самостоятельно посмотрите что делает expanding."
   ]
  },
  {
   "cell_type": "code",
   "execution_count": 124,
   "id": "2d40160e",
   "metadata": {},
   "outputs": [
    {
     "data": {
      "text/html": [
       "<div>\n",
       "<style scoped>\n",
       "    .dataframe tbody tr th:only-of-type {\n",
       "        vertical-align: middle;\n",
       "    }\n",
       "\n",
       "    .dataframe tbody tr th {\n",
       "        vertical-align: top;\n",
       "    }\n",
       "\n",
       "    .dataframe thead th {\n",
       "        text-align: right;\n",
       "    }\n",
       "</style>\n",
       "<table border=\"1\" class=\"dataframe\">\n",
       "  <thead>\n",
       "    <tr style=\"text-align: right;\">\n",
       "      <th></th>\n",
       "      <th>ADA</th>\n",
       "      <th>DOGE</th>\n",
       "    </tr>\n",
       "  </thead>\n",
       "  <tbody>\n",
       "    <tr>\n",
       "      <th>2018-11-01</th>\n",
       "      <td>0.547</td>\n",
       "      <td>0.745</td>\n",
       "    </tr>\n",
       "    <tr>\n",
       "      <th>2018-11-02</th>\n",
       "      <td>0.500</td>\n",
       "      <td>0.964</td>\n",
       "    </tr>\n",
       "    <tr>\n",
       "      <th>2018-11-03</th>\n",
       "      <td>0.770</td>\n",
       "      <td>0.718</td>\n",
       "    </tr>\n",
       "    <tr>\n",
       "      <th>2018-11-04</th>\n",
       "      <td>0.135</td>\n",
       "      <td>0.845</td>\n",
       "    </tr>\n",
       "    <tr>\n",
       "      <th>2018-11-05</th>\n",
       "      <td>0.530</td>\n",
       "      <td>NaN</td>\n",
       "    </tr>\n",
       "    <tr>\n",
       "      <th>2018-11-06</th>\n",
       "      <td>0.150</td>\n",
       "      <td>0.795</td>\n",
       "    </tr>\n",
       "  </tbody>\n",
       "</table>\n",
       "</div>"
      ],
      "text/plain": [
       "              ADA   DOGE\n",
       "2018-11-01  0.547  0.745\n",
       "2018-11-02  0.500  0.964\n",
       "2018-11-03  0.770  0.718\n",
       "2018-11-04  0.135  0.845\n",
       "2018-11-05  0.530    NaN\n",
       "2018-11-06  0.150  0.795"
      ]
     },
     "execution_count": 124,
     "metadata": {},
     "output_type": "execute_result"
    }
   ],
   "source": [
    "price = pd.DataFrame(\n",
    "    data=[\n",
    "        [0.547, 0.745],\n",
    "        [0.5, 0.964],\n",
    "        [0.77, 0.718],\n",
    "        [0.135, 0.845],\n",
    "        [0.53, None],\n",
    "        [0.15, 0.795]],\n",
    "    columns=['ADA', 'DOGE'],\n",
    "    # Создаем специальный индекс из 6 дней начиная с 2018-11-01 \n",
    "    index=pd.date_range('2018-11-01', periods=6)\n",
    ")\n",
    "price"
   ]
  },
  {
   "cell_type": "markdown",
   "id": "6c78d2cc",
   "metadata": {},
   "source": [
    "Если вы хотите посчитать какую-нибудь статистическую функци (sum, mean, median, std) в скользящем окне. То есть методы rolling (обычное окно) и ewm (окно с экспоненциальным сглаживанием). Они возвращают специальные объекты которые могут аггрегировать используя стандартную или пользователскую функцию."
   ]
  },
  {
   "cell_type": "code",
   "execution_count": 125,
   "id": "8a8a1cc0",
   "metadata": {},
   "outputs": [
    {
     "data": {
      "text/html": [
       "<div>\n",
       "<style scoped>\n",
       "    .dataframe tbody tr th:only-of-type {\n",
       "        vertical-align: middle;\n",
       "    }\n",
       "\n",
       "    .dataframe tbody tr th {\n",
       "        vertical-align: top;\n",
       "    }\n",
       "\n",
       "    .dataframe thead th {\n",
       "        text-align: right;\n",
       "    }\n",
       "</style>\n",
       "<table border=\"1\" class=\"dataframe\">\n",
       "  <thead>\n",
       "    <tr style=\"text-align: right;\">\n",
       "      <th></th>\n",
       "      <th>ADA</th>\n",
       "      <th>DOGE</th>\n",
       "    </tr>\n",
       "  </thead>\n",
       "  <tbody>\n",
       "    <tr>\n",
       "      <th>2018-11-01</th>\n",
       "      <td>NaN</td>\n",
       "      <td>NaN</td>\n",
       "    </tr>\n",
       "    <tr>\n",
       "      <th>2018-11-02</th>\n",
       "      <td>0.5235</td>\n",
       "      <td>0.8545</td>\n",
       "    </tr>\n",
       "    <tr>\n",
       "      <th>2018-11-03</th>\n",
       "      <td>0.6350</td>\n",
       "      <td>0.8410</td>\n",
       "    </tr>\n",
       "    <tr>\n",
       "      <th>2018-11-04</th>\n",
       "      <td>0.4525</td>\n",
       "      <td>0.7815</td>\n",
       "    </tr>\n",
       "    <tr>\n",
       "      <th>2018-11-05</th>\n",
       "      <td>0.3325</td>\n",
       "      <td>NaN</td>\n",
       "    </tr>\n",
       "    <tr>\n",
       "      <th>2018-11-06</th>\n",
       "      <td>0.3400</td>\n",
       "      <td>NaN</td>\n",
       "    </tr>\n",
       "  </tbody>\n",
       "</table>\n",
       "</div>"
      ],
      "text/plain": [
       "               ADA    DOGE\n",
       "2018-11-01     NaN     NaN\n",
       "2018-11-02  0.5235  0.8545\n",
       "2018-11-03  0.6350  0.8410\n",
       "2018-11-04  0.4525  0.7815\n",
       "2018-11-05  0.3325     NaN\n",
       "2018-11-06  0.3400     NaN"
      ]
     },
     "execution_count": 125,
     "metadata": {},
     "output_type": "execute_result"
    }
   ],
   "source": [
    "# Найти скользящее стандартное отклонение\n",
    "price.rolling(window=2).mean()"
   ]
  },
  {
   "cell_type": "code",
   "execution_count": 126,
   "id": "f34e1f0d",
   "metadata": {},
   "outputs": [
    {
     "data": {
      "text/html": [
       "<div>\n",
       "<style scoped>\n",
       "    .dataframe tbody tr th:only-of-type {\n",
       "        vertical-align: middle;\n",
       "    }\n",
       "\n",
       "    .dataframe tbody tr th {\n",
       "        vertical-align: top;\n",
       "    }\n",
       "\n",
       "    .dataframe thead th {\n",
       "        text-align: right;\n",
       "    }\n",
       "</style>\n",
       "<table border=\"1\" class=\"dataframe\">\n",
       "  <thead>\n",
       "    <tr style=\"text-align: right;\">\n",
       "      <th></th>\n",
       "      <th>ADA</th>\n",
       "      <th>DOGE</th>\n",
       "    </tr>\n",
       "  </thead>\n",
       "  <tbody>\n",
       "    <tr>\n",
       "      <th>2018-11-01</th>\n",
       "      <td>NaN</td>\n",
       "      <td>NaN</td>\n",
       "    </tr>\n",
       "    <tr>\n",
       "      <th>2018-11-02</th>\n",
       "      <td>0.549209</td>\n",
       "      <td>1.484321</td>\n",
       "    </tr>\n",
       "    <tr>\n",
       "      <th>2018-11-03</th>\n",
       "      <td>0.842900</td>\n",
       "      <td>1.444820</td>\n",
       "    </tr>\n",
       "    <tr>\n",
       "      <th>2018-11-04</th>\n",
       "      <td>0.611125</td>\n",
       "      <td>1.229549</td>\n",
       "    </tr>\n",
       "    <tr>\n",
       "      <th>2018-11-05</th>\n",
       "      <td>0.299125</td>\n",
       "      <td>NaN</td>\n",
       "    </tr>\n",
       "    <tr>\n",
       "      <th>2018-11-06</th>\n",
       "      <td>0.303400</td>\n",
       "      <td>NaN</td>\n",
       "    </tr>\n",
       "  </tbody>\n",
       "</table>\n",
       "</div>"
      ],
      "text/plain": [
       "                 ADA      DOGE\n",
       "2018-11-01       NaN       NaN\n",
       "2018-11-02  0.549209  1.484321\n",
       "2018-11-03  0.842900  1.444820\n",
       "2018-11-04  0.611125  1.229549\n",
       "2018-11-05  0.299125       NaN\n",
       "2018-11-06  0.303400       NaN"
      ]
     },
     "execution_count": 126,
     "metadata": {},
     "output_type": "execute_result"
    }
   ],
   "source": [
    "# Сделать агрегацию c пользовательской функцией\n",
    "price.rolling(window=2).agg(lambda series: sum(series ** 2))"
   ]
  },
  {
   "cell_type": "code",
   "execution_count": 127,
   "id": "bc7e91e8",
   "metadata": {},
   "outputs": [
    {
     "data": {
      "text/html": [
       "<div>\n",
       "<style scoped>\n",
       "    .dataframe tbody tr th:only-of-type {\n",
       "        vertical-align: middle;\n",
       "    }\n",
       "\n",
       "    .dataframe tbody tr th {\n",
       "        vertical-align: top;\n",
       "    }\n",
       "\n",
       "    .dataframe thead th {\n",
       "        text-align: right;\n",
       "    }\n",
       "</style>\n",
       "<table border=\"1\" class=\"dataframe\">\n",
       "  <thead>\n",
       "    <tr style=\"text-align: right;\">\n",
       "      <th></th>\n",
       "      <th>ADA</th>\n",
       "      <th>DOGE</th>\n",
       "    </tr>\n",
       "  </thead>\n",
       "  <tbody>\n",
       "    <tr>\n",
       "      <th>2018-11-01</th>\n",
       "      <td>NaN</td>\n",
       "      <td>NaN</td>\n",
       "    </tr>\n",
       "    <tr>\n",
       "      <th>2018-11-02</th>\n",
       "      <td>0.547</td>\n",
       "      <td>0.964</td>\n",
       "    </tr>\n",
       "    <tr>\n",
       "      <th>2018-11-03</th>\n",
       "      <td>0.770</td>\n",
       "      <td>0.964</td>\n",
       "    </tr>\n",
       "    <tr>\n",
       "      <th>2018-11-04</th>\n",
       "      <td>0.770</td>\n",
       "      <td>0.845</td>\n",
       "    </tr>\n",
       "    <tr>\n",
       "      <th>2018-11-05</th>\n",
       "      <td>0.530</td>\n",
       "      <td>NaN</td>\n",
       "    </tr>\n",
       "    <tr>\n",
       "      <th>2018-11-06</th>\n",
       "      <td>0.530</td>\n",
       "      <td>NaN</td>\n",
       "    </tr>\n",
       "  </tbody>\n",
       "</table>\n",
       "</div>"
      ],
      "text/plain": [
       "              ADA   DOGE\n",
       "2018-11-01    NaN    NaN\n",
       "2018-11-02  0.547  0.964\n",
       "2018-11-03  0.770  0.964\n",
       "2018-11-04  0.770  0.845\n",
       "2018-11-05  0.530    NaN\n",
       "2018-11-06  0.530    NaN"
      ]
     },
     "execution_count": 127,
     "metadata": {},
     "output_type": "execute_result"
    }
   ],
   "source": [
    "# Сделать агрегацию по имени функции\n",
    "price.rolling(window=2).agg('max')"
   ]
  },
  {
   "cell_type": "code",
   "execution_count": 128,
   "id": "5535e725",
   "metadata": {},
   "outputs": [
    {
     "data": {
      "text/html": [
       "<div>\n",
       "<style scoped>\n",
       "    .dataframe tbody tr th:only-of-type {\n",
       "        vertical-align: middle;\n",
       "    }\n",
       "\n",
       "    .dataframe tbody tr th {\n",
       "        vertical-align: top;\n",
       "    }\n",
       "\n",
       "    .dataframe thead tr th {\n",
       "        text-align: left;\n",
       "    }\n",
       "</style>\n",
       "<table border=\"1\" class=\"dataframe\">\n",
       "  <thead>\n",
       "    <tr>\n",
       "      <th></th>\n",
       "      <th colspan=\"3\" halign=\"left\">ADA</th>\n",
       "      <th colspan=\"3\" halign=\"left\">DOGE</th>\n",
       "    </tr>\n",
       "    <tr>\n",
       "      <th></th>\n",
       "      <th>mean</th>\n",
       "      <th>sum</th>\n",
       "      <th>&lt;lambda&gt;</th>\n",
       "      <th>mean</th>\n",
       "      <th>sum</th>\n",
       "      <th>&lt;lambda&gt;</th>\n",
       "    </tr>\n",
       "  </thead>\n",
       "  <tbody>\n",
       "    <tr>\n",
       "      <th>2018-11-01</th>\n",
       "      <td>NaN</td>\n",
       "      <td>NaN</td>\n",
       "      <td>NaN</td>\n",
       "      <td>NaN</td>\n",
       "      <td>NaN</td>\n",
       "      <td>NaN</td>\n",
       "    </tr>\n",
       "    <tr>\n",
       "      <th>2018-11-02</th>\n",
       "      <td>0.5235</td>\n",
       "      <td>1.047</td>\n",
       "      <td>0.299209</td>\n",
       "      <td>0.8545</td>\n",
       "      <td>1.709</td>\n",
       "      <td>0.929296</td>\n",
       "    </tr>\n",
       "    <tr>\n",
       "      <th>2018-11-03</th>\n",
       "      <td>0.6350</td>\n",
       "      <td>1.270</td>\n",
       "      <td>0.592900</td>\n",
       "      <td>0.8410</td>\n",
       "      <td>1.682</td>\n",
       "      <td>0.929296</td>\n",
       "    </tr>\n",
       "    <tr>\n",
       "      <th>2018-11-04</th>\n",
       "      <td>0.4525</td>\n",
       "      <td>0.905</td>\n",
       "      <td>0.592900</td>\n",
       "      <td>0.7815</td>\n",
       "      <td>1.563</td>\n",
       "      <td>0.714025</td>\n",
       "    </tr>\n",
       "    <tr>\n",
       "      <th>2018-11-05</th>\n",
       "      <td>0.3325</td>\n",
       "      <td>0.665</td>\n",
       "      <td>0.280900</td>\n",
       "      <td>NaN</td>\n",
       "      <td>NaN</td>\n",
       "      <td>NaN</td>\n",
       "    </tr>\n",
       "    <tr>\n",
       "      <th>2018-11-06</th>\n",
       "      <td>0.3400</td>\n",
       "      <td>0.680</td>\n",
       "      <td>0.280900</td>\n",
       "      <td>NaN</td>\n",
       "      <td>NaN</td>\n",
       "      <td>NaN</td>\n",
       "    </tr>\n",
       "  </tbody>\n",
       "</table>\n",
       "</div>"
      ],
      "text/plain": [
       "               ADA                     DOGE                 \n",
       "              mean    sum  <lambda>    mean    sum  <lambda>\n",
       "2018-11-01     NaN    NaN       NaN     NaN    NaN       NaN\n",
       "2018-11-02  0.5235  1.047  0.299209  0.8545  1.709  0.929296\n",
       "2018-11-03  0.6350  1.270  0.592900  0.8410  1.682  0.929296\n",
       "2018-11-04  0.4525  0.905  0.592900  0.7815  1.563  0.714025\n",
       "2018-11-05  0.3325  0.665  0.280900     NaN    NaN       NaN\n",
       "2018-11-06  0.3400  0.680  0.280900     NaN    NaN       NaN"
      ]
     },
     "execution_count": 128,
     "metadata": {},
     "output_type": "execute_result"
    }
   ],
   "source": [
    "# Сделать несколько агрегаций\n",
    "price.rolling(window=2).agg(['mean', sum, lambda series: max(series ** 2)])"
   ]
  },
  {
   "cell_type": "code",
   "execution_count": 129,
   "id": "343eab54",
   "metadata": {},
   "outputs": [
    {
     "data": {
      "text/html": [
       "<div>\n",
       "<style scoped>\n",
       "    .dataframe tbody tr th:only-of-type {\n",
       "        vertical-align: middle;\n",
       "    }\n",
       "\n",
       "    .dataframe tbody tr th {\n",
       "        vertical-align: top;\n",
       "    }\n",
       "\n",
       "    .dataframe thead tr th {\n",
       "        text-align: left;\n",
       "    }\n",
       "</style>\n",
       "<table border=\"1\" class=\"dataframe\">\n",
       "  <thead>\n",
       "    <tr>\n",
       "      <th></th>\n",
       "      <th colspan=\"2\" halign=\"left\">ADA</th>\n",
       "      <th>DOGE</th>\n",
       "    </tr>\n",
       "    <tr>\n",
       "      <th></th>\n",
       "      <th>sum</th>\n",
       "      <th>max</th>\n",
       "      <th>&lt;lambda&gt;</th>\n",
       "    </tr>\n",
       "  </thead>\n",
       "  <tbody>\n",
       "    <tr>\n",
       "      <th>2018-11-01</th>\n",
       "      <td>NaN</td>\n",
       "      <td>NaN</td>\n",
       "      <td>NaN</td>\n",
       "    </tr>\n",
       "    <tr>\n",
       "      <th>2018-11-02</th>\n",
       "      <td>1.047</td>\n",
       "      <td>0.547</td>\n",
       "      <td>0.929296</td>\n",
       "    </tr>\n",
       "    <tr>\n",
       "      <th>2018-11-03</th>\n",
       "      <td>1.270</td>\n",
       "      <td>0.770</td>\n",
       "      <td>0.929296</td>\n",
       "    </tr>\n",
       "    <tr>\n",
       "      <th>2018-11-04</th>\n",
       "      <td>0.905</td>\n",
       "      <td>0.770</td>\n",
       "      <td>0.714025</td>\n",
       "    </tr>\n",
       "    <tr>\n",
       "      <th>2018-11-05</th>\n",
       "      <td>0.665</td>\n",
       "      <td>0.530</td>\n",
       "      <td>NaN</td>\n",
       "    </tr>\n",
       "    <tr>\n",
       "      <th>2018-11-06</th>\n",
       "      <td>0.680</td>\n",
       "      <td>0.530</td>\n",
       "      <td>NaN</td>\n",
       "    </tr>\n",
       "  </tbody>\n",
       "</table>\n",
       "</div>"
      ],
      "text/plain": [
       "              ADA             DOGE\n",
       "              sum    max  <lambda>\n",
       "2018-11-01    NaN    NaN       NaN\n",
       "2018-11-02  1.047  0.547  0.929296\n",
       "2018-11-03  1.270  0.770  0.929296\n",
       "2018-11-04  0.905  0.770  0.714025\n",
       "2018-11-05  0.665  0.530       NaN\n",
       "2018-11-06  0.680  0.530       NaN"
      ]
     },
     "execution_count": 129,
     "metadata": {},
     "output_type": "execute_result"
    }
   ],
   "source": [
    "# Сделать несколько агрегаций (для каждой колонки свои)\n",
    "price.rolling(window=2).agg({'ADA': [sum, max], 'DOGE': lambda series: max(series ** 2)})"
   ]
  },
  {
   "cell_type": "markdown",
   "id": "fc8c57f0",
   "metadata": {},
   "source": [
    "Объект ewm работает аналогично rolling с тем лишь отличием, что он назначает веса. Числам $x_0,\\ldots,x_t$ будут назначены веса $(1-\\alpha)^t, (1-\\alpha)^{t-1}, \\ldots, 1$, где $\\alpha$ - параметр сглаживания. Например, экспоненциальное скользящее среднее будет вычисляться по формуле \n",
    "$$\n",
    "ewm_{\\alpha}(x)=\\frac{\\sum_{i=0}^t (1-\\alpha)^{t-i} x_i}{\\sum_{i=0}^t(1-\\alpha)^i}\n",
    "$$\n",
    "\n",
    "\n",
    "Если указать **adjust=False**, подсчёт будет идти рекурсивно: ```mean[i] = (1-alpha)*mean[i-1] + alpha*x[i]```"
   ]
  },
  {
   "cell_type": "code",
   "execution_count": 130,
   "id": "c2fb4266",
   "metadata": {},
   "outputs": [
    {
     "data": {
      "text/html": [
       "<div>\n",
       "<style scoped>\n",
       "    .dataframe tbody tr th:only-of-type {\n",
       "        vertical-align: middle;\n",
       "    }\n",
       "\n",
       "    .dataframe tbody tr th {\n",
       "        vertical-align: top;\n",
       "    }\n",
       "\n",
       "    .dataframe thead th {\n",
       "        text-align: right;\n",
       "    }\n",
       "</style>\n",
       "<table border=\"1\" class=\"dataframe\">\n",
       "  <thead>\n",
       "    <tr style=\"text-align: right;\">\n",
       "      <th></th>\n",
       "      <th>ADA</th>\n",
       "      <th>DOGE</th>\n",
       "    </tr>\n",
       "  </thead>\n",
       "  <tbody>\n",
       "    <tr>\n",
       "      <th>2018-11-01</th>\n",
       "      <td>0.547000</td>\n",
       "      <td>0.745000</td>\n",
       "    </tr>\n",
       "    <tr>\n",
       "      <th>2018-11-02</th>\n",
       "      <td>0.523500</td>\n",
       "      <td>0.854500</td>\n",
       "    </tr>\n",
       "    <tr>\n",
       "      <th>2018-11-03</th>\n",
       "      <td>0.646750</td>\n",
       "      <td>0.786250</td>\n",
       "    </tr>\n",
       "    <tr>\n",
       "      <th>2018-11-04</th>\n",
       "      <td>0.390875</td>\n",
       "      <td>0.815625</td>\n",
       "    </tr>\n",
       "    <tr>\n",
       "      <th>2018-11-05</th>\n",
       "      <td>0.460438</td>\n",
       "      <td>0.815625</td>\n",
       "    </tr>\n",
       "    <tr>\n",
       "      <th>2018-11-06</th>\n",
       "      <td>0.305219</td>\n",
       "      <td>0.801875</td>\n",
       "    </tr>\n",
       "  </tbody>\n",
       "</table>\n",
       "</div>"
      ],
      "text/plain": [
       "                 ADA      DOGE\n",
       "2018-11-01  0.547000  0.745000\n",
       "2018-11-02  0.523500  0.854500\n",
       "2018-11-03  0.646750  0.786250\n",
       "2018-11-04  0.390875  0.815625\n",
       "2018-11-05  0.460438  0.815625\n",
       "2018-11-06  0.305219  0.801875"
      ]
     },
     "execution_count": 130,
     "metadata": {},
     "output_type": "execute_result"
    }
   ],
   "source": [
    "# Скользящее среднее cо сглаживанием alpha\n",
    "price.ewm(alpha=0.5, adjust=False).mean()"
   ]
  },
  {
   "cell_type": "code",
   "execution_count": 131,
   "id": "bbb13f64",
   "metadata": {},
   "outputs": [],
   "source": [
    "del price"
   ]
  },
  {
   "cell_type": "markdown",
   "id": "2a482c5f",
   "metadata": {},
   "source": [
    "#### 10.2. Работа с группами\n",
    "\n",
    "Иногда хочется разбить данные по группам и посчитать статистики / преобразовать / пофильтровать. Для этого есть метод **groupby**. Он возвращает специальный объект для работы со сгруппированными данными."
   ]
  },
  {
   "cell_type": "code",
   "execution_count": 132,
   "id": "c8233cc5",
   "metadata": {},
   "outputs": [
    {
     "data": {
      "text/html": [
       "<div>\n",
       "<style scoped>\n",
       "    .dataframe tbody tr th:only-of-type {\n",
       "        vertical-align: middle;\n",
       "    }\n",
       "\n",
       "    .dataframe tbody tr th {\n",
       "        vertical-align: top;\n",
       "    }\n",
       "\n",
       "    .dataframe thead th {\n",
       "        text-align: right;\n",
       "    }\n",
       "</style>\n",
       "<table border=\"1\" class=\"dataframe\">\n",
       "  <thead>\n",
       "    <tr style=\"text-align: right;\">\n",
       "      <th></th>\n",
       "      <th>symbol</th>\n",
       "      <th>type</th>\n",
       "      <th>amount</th>\n",
       "      <th>price</th>\n",
       "    </tr>\n",
       "  </thead>\n",
       "  <tbody>\n",
       "    <tr>\n",
       "      <th>2018-01-01</th>\n",
       "      <td>DOGE</td>\n",
       "      <td>buy</td>\n",
       "      <td>5000.0</td>\n",
       "      <td>0.20</td>\n",
       "    </tr>\n",
       "    <tr>\n",
       "      <th>2018-01-02</th>\n",
       "      <td>BTC</td>\n",
       "      <td>buy</td>\n",
       "      <td>10.0</td>\n",
       "      <td>6000.00</td>\n",
       "    </tr>\n",
       "    <tr>\n",
       "      <th>2018-01-03</th>\n",
       "      <td>BTC</td>\n",
       "      <td>buy</td>\n",
       "      <td>2.5</td>\n",
       "      <td>5900.00</td>\n",
       "    </tr>\n",
       "    <tr>\n",
       "      <th>2018-01-04</th>\n",
       "      <td>DOGE</td>\n",
       "      <td>sell</td>\n",
       "      <td>3000.0</td>\n",
       "      <td>0.10</td>\n",
       "    </tr>\n",
       "    <tr>\n",
       "      <th>2018-01-05</th>\n",
       "      <td>BTC</td>\n",
       "      <td>sell</td>\n",
       "      <td>4.0</td>\n",
       "      <td>6200.00</td>\n",
       "    </tr>\n",
       "    <tr>\n",
       "      <th>2018-01-06</th>\n",
       "      <td>ETH</td>\n",
       "      <td>sell</td>\n",
       "      <td>10.0</td>\n",
       "      <td>400.00</td>\n",
       "    </tr>\n",
       "    <tr>\n",
       "      <th>2018-01-07</th>\n",
       "      <td>BTC</td>\n",
       "      <td>buy</td>\n",
       "      <td>1.0</td>\n",
       "      <td>5600.00</td>\n",
       "    </tr>\n",
       "    <tr>\n",
       "      <th>2018-01-08</th>\n",
       "      <td>ETH</td>\n",
       "      <td>buy</td>\n",
       "      <td>20.0</td>\n",
       "      <td>350.00</td>\n",
       "    </tr>\n",
       "    <tr>\n",
       "      <th>2018-01-09</th>\n",
       "      <td>ETH</td>\n",
       "      <td>sell</td>\n",
       "      <td>10.0</td>\n",
       "      <td>300.00</td>\n",
       "    </tr>\n",
       "    <tr>\n",
       "      <th>2018-01-10</th>\n",
       "      <td>DOGE</td>\n",
       "      <td>sell</td>\n",
       "      <td>3000.0</td>\n",
       "      <td>0.15</td>\n",
       "    </tr>\n",
       "  </tbody>\n",
       "</table>\n",
       "</div>"
      ],
      "text/plain": [
       "           symbol  type  amount    price\n",
       "2018-01-01   DOGE   buy  5000.0     0.20\n",
       "2018-01-02    BTC   buy    10.0  6000.00\n",
       "2018-01-03    BTC   buy     2.5  5900.00\n",
       "2018-01-04   DOGE  sell  3000.0     0.10\n",
       "2018-01-05    BTC  sell     4.0  6200.00\n",
       "2018-01-06    ETH  sell    10.0   400.00\n",
       "2018-01-07    BTC   buy     1.0  5600.00\n",
       "2018-01-08    ETH   buy    20.0   350.00\n",
       "2018-01-09    ETH  sell    10.0   300.00\n",
       "2018-01-10   DOGE  sell  3000.0     0.15"
      ]
     },
     "execution_count": 132,
     "metadata": {},
     "output_type": "execute_result"
    }
   ],
   "source": [
    "operations = pd.DataFrame(\n",
    "    data=[\n",
    "        ['DOGE', 'buy', 5000, 0.2],\n",
    "        ['BTC', 'buy', 10, 6000],\n",
    "        ['BTC', 'buy', 2.5, 5900],\n",
    "        ['DOGE', 'sell', 3000, 0.1],\n",
    "        ['BTC', 'sell', 4, 6200],\n",
    "        ['ETH', 'sell', 10, 400],\n",
    "        ['BTC', 'buy', 1, 5600],\n",
    "        ['ETH', 'buy', 20, 350],\n",
    "        ['ETH', 'sell', 10, 300],\n",
    "        ['DOGE', 'sell', 3000, 0.15]\n",
    "    ],\n",
    "    columns=['symbol', 'type', 'amount', 'price'],\n",
    "    index=pd.date_range('2018-01-01', periods=10)\n",
    ")\n",
    "operations"
   ]
  },
  {
   "cell_type": "code",
   "execution_count": 133,
   "id": "7fd020c6",
   "metadata": {},
   "outputs": [
    {
     "data": {
      "text/plain": [
       "<pandas.core.groupby.generic.DataFrameGroupBy object at 0x0000027D8B150430>"
      ]
     },
     "execution_count": 133,
     "metadata": {},
     "output_type": "execute_result"
    }
   ],
   "source": [
    "# Сгруппировать операции по типу монеты\n",
    "operations.groupby('symbol')"
   ]
  },
  {
   "cell_type": "code",
   "execution_count": 134,
   "id": "50217800",
   "metadata": {},
   "outputs": [
    {
     "data": {
      "text/plain": [
       "<pandas.core.groupby.generic.DataFrameGroupBy object at 0x0000027D8B1504F0>"
      ]
     },
     "execution_count": 134,
     "metadata": {},
     "output_type": "execute_result"
    }
   ],
   "source": [
    "# Сгруппировать операции по типу монеты и типу операции\n",
    "operations.groupby(['symbol', 'type'])"
   ]
  },
  {
   "cell_type": "code",
   "execution_count": 135,
   "id": "5674fd6c",
   "metadata": {},
   "outputs": [
    {
     "data": {
      "text/plain": [
       "{('BTC', 'buy'): [2018-01-02 00:00:00, 2018-01-03 00:00:00, 2018-01-07 00:00:00], ('BTC', 'sell'): [2018-01-05 00:00:00], ('DOGE', 'buy'): [2018-01-01 00:00:00], ('DOGE', 'sell'): [2018-01-04 00:00:00, 2018-01-10 00:00:00], ('ETH', 'buy'): [2018-01-08 00:00:00], ('ETH', 'sell'): [2018-01-06 00:00:00, 2018-01-09 00:00:00]}"
      ]
     },
     "execution_count": 135,
     "metadata": {},
     "output_type": "execute_result"
    }
   ],
   "source": [
    "# Получить индексы строк каждой группы\n",
    "operations.groupby(['symbol', 'type']).groups"
   ]
  },
  {
   "cell_type": "code",
   "execution_count": 136,
   "id": "4bd224d4",
   "metadata": {},
   "outputs": [
    {
     "name": "stdout",
     "output_type": "stream",
     "text": [
      "('BTC', 'buy')\n",
      "           symbol type  amount   price\n",
      "2018-01-02    BTC  buy    10.0  6000.0\n",
      "2018-01-03    BTC  buy     2.5  5900.0\n",
      "2018-01-07    BTC  buy     1.0  5600.0\n",
      "('BTC', 'sell')\n",
      "           symbol  type  amount   price\n",
      "2018-01-05    BTC  sell     4.0  6200.0\n",
      "('DOGE', 'buy')\n",
      "           symbol type  amount  price\n",
      "2018-01-01   DOGE  buy  5000.0    0.2\n",
      "('DOGE', 'sell')\n",
      "           symbol  type  amount  price\n",
      "2018-01-04   DOGE  sell  3000.0   0.10\n",
      "2018-01-10   DOGE  sell  3000.0   0.15\n",
      "('ETH', 'buy')\n",
      "           symbol type  amount  price\n",
      "2018-01-08    ETH  buy    20.0  350.0\n",
      "('ETH', 'sell')\n",
      "           symbol  type  amount  price\n",
      "2018-01-06    ETH  sell    10.0  400.0\n",
      "2018-01-09    ETH  sell    10.0  300.0\n"
     ]
    }
   ],
   "source": [
    "# Посмотреть на содержимое каждой группы \n",
    "for name, group in operations.groupby(['symbol', 'type']):\n",
    "    print(name)\n",
    "    print(group)"
   ]
  },
  {
   "cell_type": "code",
   "execution_count": 137,
   "id": "9cc94441",
   "metadata": {},
   "outputs": [
    {
     "data": {
      "text/html": [
       "<div>\n",
       "<style scoped>\n",
       "    .dataframe tbody tr th:only-of-type {\n",
       "        vertical-align: middle;\n",
       "    }\n",
       "\n",
       "    .dataframe tbody tr th {\n",
       "        vertical-align: top;\n",
       "    }\n",
       "\n",
       "    .dataframe thead th {\n",
       "        text-align: right;\n",
       "    }\n",
       "</style>\n",
       "<table border=\"1\" class=\"dataframe\">\n",
       "  <thead>\n",
       "    <tr style=\"text-align: right;\">\n",
       "      <th></th>\n",
       "      <th>symbol</th>\n",
       "      <th>type</th>\n",
       "      <th>amount</th>\n",
       "      <th>price</th>\n",
       "    </tr>\n",
       "  </thead>\n",
       "  <tbody>\n",
       "    <tr>\n",
       "      <th>2018-01-02</th>\n",
       "      <td>BTC</td>\n",
       "      <td>buy</td>\n",
       "      <td>10.0</td>\n",
       "      <td>6000.0</td>\n",
       "    </tr>\n",
       "    <tr>\n",
       "      <th>2018-01-03</th>\n",
       "      <td>BTC</td>\n",
       "      <td>buy</td>\n",
       "      <td>2.5</td>\n",
       "      <td>5900.0</td>\n",
       "    </tr>\n",
       "    <tr>\n",
       "      <th>2018-01-07</th>\n",
       "      <td>BTC</td>\n",
       "      <td>buy</td>\n",
       "      <td>1.0</td>\n",
       "      <td>5600.0</td>\n",
       "    </tr>\n",
       "  </tbody>\n",
       "</table>\n",
       "</div>"
      ],
      "text/plain": [
       "           symbol type  amount   price\n",
       "2018-01-02    BTC  buy    10.0  6000.0\n",
       "2018-01-03    BTC  buy     2.5  5900.0\n",
       "2018-01-07    BTC  buy     1.0  5600.0"
      ]
     },
     "execution_count": 137,
     "metadata": {},
     "output_type": "execute_result"
    }
   ],
   "source": [
    "# Получить группу\n",
    "operations.groupby(['symbol', 'type']).get_group(('BTC', 'buy'))"
   ]
  },
  {
   "cell_type": "code",
   "execution_count": 138,
   "id": "64f22461",
   "metadata": {},
   "outputs": [
    {
     "data": {
      "text/plain": [
       "symbol  type\n",
       "BTC     buy       13.5\n",
       "        sell       4.0\n",
       "DOGE    buy     5000.0\n",
       "        sell    6000.0\n",
       "ETH     buy       20.0\n",
       "        sell      20.0\n",
       "Name: amount, dtype: float64"
      ]
     },
     "execution_count": 138,
     "metadata": {},
     "output_type": "execute_result"
    }
   ],
   "source": [
    "# Найти обороты для каждой монеты и операции\n",
    "grouper = operations.groupby(['symbol', 'type'])\n",
    "grouper['amount'].agg(sum)\n",
    "\n",
    "# Есть ещё полезный метод operations.groupby(...).transform(func) - предлагается разобрать самостоятельно"
   ]
  },
  {
   "cell_type": "code",
   "execution_count": 139,
   "id": "4ce15cdc",
   "metadata": {},
   "outputs": [
    {
     "data": {
      "text/html": [
       "<div>\n",
       "<style scoped>\n",
       "    .dataframe tbody tr th:only-of-type {\n",
       "        vertical-align: middle;\n",
       "    }\n",
       "\n",
       "    .dataframe tbody tr th {\n",
       "        vertical-align: top;\n",
       "    }\n",
       "\n",
       "    .dataframe thead th {\n",
       "        text-align: right;\n",
       "    }\n",
       "</style>\n",
       "<table border=\"1\" class=\"dataframe\">\n",
       "  <thead>\n",
       "    <tr style=\"text-align: right;\">\n",
       "      <th></th>\n",
       "      <th></th>\n",
       "      <th>sum</th>\n",
       "      <th>max</th>\n",
       "    </tr>\n",
       "    <tr>\n",
       "      <th>symbol</th>\n",
       "      <th>type</th>\n",
       "      <th></th>\n",
       "      <th></th>\n",
       "    </tr>\n",
       "  </thead>\n",
       "  <tbody>\n",
       "    <tr>\n",
       "      <th rowspan=\"2\" valign=\"top\">BTC</th>\n",
       "      <th>buy</th>\n",
       "      <td>13.5</td>\n",
       "      <td>10.0</td>\n",
       "    </tr>\n",
       "    <tr>\n",
       "      <th>sell</th>\n",
       "      <td>4.0</td>\n",
       "      <td>4.0</td>\n",
       "    </tr>\n",
       "    <tr>\n",
       "      <th rowspan=\"2\" valign=\"top\">DOGE</th>\n",
       "      <th>buy</th>\n",
       "      <td>5000.0</td>\n",
       "      <td>5000.0</td>\n",
       "    </tr>\n",
       "    <tr>\n",
       "      <th>sell</th>\n",
       "      <td>6000.0</td>\n",
       "      <td>3000.0</td>\n",
       "    </tr>\n",
       "    <tr>\n",
       "      <th rowspan=\"2\" valign=\"top\">ETH</th>\n",
       "      <th>buy</th>\n",
       "      <td>20.0</td>\n",
       "      <td>20.0</td>\n",
       "    </tr>\n",
       "    <tr>\n",
       "      <th>sell</th>\n",
       "      <td>20.0</td>\n",
       "      <td>10.0</td>\n",
       "    </tr>\n",
       "  </tbody>\n",
       "</table>\n",
       "</div>"
      ],
      "text/plain": [
       "                sum     max\n",
       "symbol type                \n",
       "BTC    buy     13.5    10.0\n",
       "       sell     4.0     4.0\n",
       "DOGE   buy   5000.0  5000.0\n",
       "       sell  6000.0  3000.0\n",
       "ETH    buy     20.0    20.0\n",
       "       sell    20.0    10.0"
      ]
     },
     "execution_count": 139,
     "metadata": {},
     "output_type": "execute_result"
    }
   ],
   "source": [
    "# Найти обороты и самые крупные сделки для каждой монеты и операции\n",
    "grouper = operations.groupby(['symbol', 'type'])\n",
    "grouper['amount'].agg([sum, max])"
   ]
  },
  {
   "cell_type": "code",
   "execution_count": 140,
   "id": "0b392967",
   "metadata": {},
   "outputs": [
    {
     "data": {
      "text/html": [
       "<div>\n",
       "<style scoped>\n",
       "    .dataframe tbody tr th:only-of-type {\n",
       "        vertical-align: middle;\n",
       "    }\n",
       "\n",
       "    .dataframe tbody tr th {\n",
       "        vertical-align: top;\n",
       "    }\n",
       "\n",
       "    .dataframe thead th {\n",
       "        text-align: right;\n",
       "    }\n",
       "</style>\n",
       "<table border=\"1\" class=\"dataframe\">\n",
       "  <thead>\n",
       "    <tr style=\"text-align: right;\">\n",
       "      <th></th>\n",
       "      <th></th>\n",
       "      <th>amount</th>\n",
       "      <th>price</th>\n",
       "    </tr>\n",
       "    <tr>\n",
       "      <th>symbol</th>\n",
       "      <th>type</th>\n",
       "      <th></th>\n",
       "      <th></th>\n",
       "    </tr>\n",
       "  </thead>\n",
       "  <tbody>\n",
       "    <tr>\n",
       "      <th rowspan=\"2\" valign=\"top\">BTC</th>\n",
       "      <th>buy</th>\n",
       "      <td>13.5</td>\n",
       "      <td>5833.333333</td>\n",
       "    </tr>\n",
       "    <tr>\n",
       "      <th>sell</th>\n",
       "      <td>4.0</td>\n",
       "      <td>6200.000000</td>\n",
       "    </tr>\n",
       "    <tr>\n",
       "      <th rowspan=\"2\" valign=\"top\">DOGE</th>\n",
       "      <th>buy</th>\n",
       "      <td>5000.0</td>\n",
       "      <td>0.200000</td>\n",
       "    </tr>\n",
       "    <tr>\n",
       "      <th>sell</th>\n",
       "      <td>6000.0</td>\n",
       "      <td>0.125000</td>\n",
       "    </tr>\n",
       "    <tr>\n",
       "      <th rowspan=\"2\" valign=\"top\">ETH</th>\n",
       "      <th>buy</th>\n",
       "      <td>20.0</td>\n",
       "      <td>350.000000</td>\n",
       "    </tr>\n",
       "    <tr>\n",
       "      <th>sell</th>\n",
       "      <td>20.0</td>\n",
       "      <td>350.000000</td>\n",
       "    </tr>\n",
       "  </tbody>\n",
       "</table>\n",
       "</div>"
      ],
      "text/plain": [
       "             amount        price\n",
       "symbol type                     \n",
       "BTC    buy     13.5  5833.333333\n",
       "       sell     4.0  6200.000000\n",
       "DOGE   buy   5000.0     0.200000\n",
       "       sell  6000.0     0.125000\n",
       "ETH    buy     20.0   350.000000\n",
       "       sell    20.0   350.000000"
      ]
     },
     "execution_count": 140,
     "metadata": {},
     "output_type": "execute_result"
    }
   ],
   "source": [
    "# Найти обороты и среднюю цену для каждой монеты и операции\n",
    "grouper = operations.groupby(['symbol', 'type'])\n",
    "grouper.agg({'amount': sum, 'price': lambda series: series.mean()})"
   ]
  },
  {
   "cell_type": "code",
   "execution_count": 141,
   "id": "19d329b5",
   "metadata": {},
   "outputs": [
    {
     "data": {
      "text/plain": [
       "symbol  type\n",
       "BTC     buy     3\n",
       "        sell    1\n",
       "DOGE    buy     1\n",
       "        sell    2\n",
       "ETH     buy     1\n",
       "        sell    2\n",
       "dtype: int64"
      ]
     },
     "execution_count": 141,
     "metadata": {},
     "output_type": "execute_result"
    }
   ],
   "source": [
    "# Получить размер группы в которой сидит запись\n",
    "operations.groupby(['symbol', 'type']).apply(lambda series: series.shape[0])"
   ]
  },
  {
   "cell_type": "code",
   "execution_count": 142,
   "id": "686d0820",
   "metadata": {},
   "outputs": [
    {
     "data": {
      "text/plain": [
       "symbol  type\n",
       "BTC     buy     3\n",
       "        sell    1\n",
       "DOGE    buy     1\n",
       "        sell    1\n",
       "ETH     buy     1\n",
       "        sell    1\n",
       "Name: amount, dtype: int64"
      ]
     },
     "execution_count": 142,
     "metadata": {},
     "output_type": "execute_result"
    }
   ],
   "source": [
    "#Вывести группы по убыванию числа уникальных значений в колонке amount\n",
    "operations.groupby(['symbol', 'type'])['amount'].nunique().nlargest(10)"
   ]
  },
  {
   "cell_type": "markdown",
   "id": "29cc393f",
   "metadata": {},
   "source": [
    "Сгруппированные данные можно фильтровать. Вы можете решить какие группы оставить с помощью вашей функции. Она на вход принимает pandas.DataFrame и возвращает bool"
   ]
  },
  {
   "cell_type": "code",
   "execution_count": 143,
   "id": "53b996a5",
   "metadata": {},
   "outputs": [
    {
     "data": {
      "text/html": [
       "<div>\n",
       "<style scoped>\n",
       "    .dataframe tbody tr th:only-of-type {\n",
       "        vertical-align: middle;\n",
       "    }\n",
       "\n",
       "    .dataframe tbody tr th {\n",
       "        vertical-align: top;\n",
       "    }\n",
       "\n",
       "    .dataframe thead th {\n",
       "        text-align: right;\n",
       "    }\n",
       "</style>\n",
       "<table border=\"1\" class=\"dataframe\">\n",
       "  <thead>\n",
       "    <tr style=\"text-align: right;\">\n",
       "      <th></th>\n",
       "      <th>symbol</th>\n",
       "      <th>type</th>\n",
       "      <th>amount</th>\n",
       "      <th>price</th>\n",
       "    </tr>\n",
       "  </thead>\n",
       "  <tbody>\n",
       "    <tr>\n",
       "      <th>2018-01-01</th>\n",
       "      <td>DOGE</td>\n",
       "      <td>buy</td>\n",
       "      <td>5000.0</td>\n",
       "      <td>0.20</td>\n",
       "    </tr>\n",
       "    <tr>\n",
       "      <th>2018-01-04</th>\n",
       "      <td>DOGE</td>\n",
       "      <td>sell</td>\n",
       "      <td>3000.0</td>\n",
       "      <td>0.10</td>\n",
       "    </tr>\n",
       "    <tr>\n",
       "      <th>2018-01-06</th>\n",
       "      <td>ETH</td>\n",
       "      <td>sell</td>\n",
       "      <td>10.0</td>\n",
       "      <td>400.00</td>\n",
       "    </tr>\n",
       "    <tr>\n",
       "      <th>2018-01-08</th>\n",
       "      <td>ETH</td>\n",
       "      <td>buy</td>\n",
       "      <td>20.0</td>\n",
       "      <td>350.00</td>\n",
       "    </tr>\n",
       "    <tr>\n",
       "      <th>2018-01-09</th>\n",
       "      <td>ETH</td>\n",
       "      <td>sell</td>\n",
       "      <td>10.0</td>\n",
       "      <td>300.00</td>\n",
       "    </tr>\n",
       "    <tr>\n",
       "      <th>2018-01-10</th>\n",
       "      <td>DOGE</td>\n",
       "      <td>sell</td>\n",
       "      <td>3000.0</td>\n",
       "      <td>0.15</td>\n",
       "    </tr>\n",
       "  </tbody>\n",
       "</table>\n",
       "</div>"
      ],
      "text/plain": [
       "           symbol  type  amount   price\n",
       "2018-01-01   DOGE   buy  5000.0    0.20\n",
       "2018-01-04   DOGE  sell  3000.0    0.10\n",
       "2018-01-06    ETH  sell    10.0  400.00\n",
       "2018-01-08    ETH   buy    20.0  350.00\n",
       "2018-01-09    ETH  sell    10.0  300.00\n",
       "2018-01-10   DOGE  sell  3000.0    0.15"
      ]
     },
     "execution_count": 143,
     "metadata": {},
     "output_type": "execute_result"
    }
   ],
   "source": [
    "# Выбрать монеты и операции для которых оборот был больше 20 монет\n",
    "operations.groupby(['symbol', 'type']).filter(lambda table: table['amount'].sum() >= 20)"
   ]
  },
  {
   "cell_type": "code",
   "execution_count": 144,
   "id": "4308f05c",
   "metadata": {},
   "outputs": [],
   "source": [
    "del operations, name, group"
   ]
  },
  {
   "cell_type": "markdown",
   "id": "b744c8d8",
   "metadata": {},
   "source": [
    "#### 10.3 Сводные таблицы\n",
    "\n",
    "Большинство таблиц в сыром виде похожи на логи где каждая строка это запись. Никакой оргинизации в данных в этих таблицах нет, а хотелось бы. Для этого в pandas существуют сводные таблицы."
   ]
  },
  {
   "cell_type": "code",
   "execution_count": 145,
   "id": "7c5a349b",
   "metadata": {},
   "outputs": [
    {
     "data": {
      "text/html": [
       "<div>\n",
       "<style scoped>\n",
       "    .dataframe tbody tr th:only-of-type {\n",
       "        vertical-align: middle;\n",
       "    }\n",
       "\n",
       "    .dataframe tbody tr th {\n",
       "        vertical-align: top;\n",
       "    }\n",
       "\n",
       "    .dataframe thead th {\n",
       "        text-align: right;\n",
       "    }\n",
       "</style>\n",
       "<table border=\"1\" class=\"dataframe\">\n",
       "  <thead>\n",
       "    <tr style=\"text-align: right;\">\n",
       "      <th></th>\n",
       "      <th>symbol</th>\n",
       "      <th>type</th>\n",
       "      <th>amount</th>\n",
       "      <th>price</th>\n",
       "      <th>user</th>\n",
       "      <th>status</th>\n",
       "    </tr>\n",
       "  </thead>\n",
       "  <tbody>\n",
       "    <tr>\n",
       "      <th>2018-01-01</th>\n",
       "      <td>DOGE</td>\n",
       "      <td>buy</td>\n",
       "      <td>5000.0</td>\n",
       "      <td>0.20</td>\n",
       "      <td>Joe Doe</td>\n",
       "      <td>success</td>\n",
       "    </tr>\n",
       "    <tr>\n",
       "      <th>2018-01-02</th>\n",
       "      <td>BTC</td>\n",
       "      <td>buy</td>\n",
       "      <td>10.0</td>\n",
       "      <td>6000.00</td>\n",
       "      <td>Elon Musk</td>\n",
       "      <td>error</td>\n",
       "    </tr>\n",
       "    <tr>\n",
       "      <th>2018-01-03</th>\n",
       "      <td>BTC</td>\n",
       "      <td>buy</td>\n",
       "      <td>2.5</td>\n",
       "      <td>5900.00</td>\n",
       "      <td>George Bush</td>\n",
       "      <td>success</td>\n",
       "    </tr>\n",
       "    <tr>\n",
       "      <th>2018-01-04</th>\n",
       "      <td>DOGE</td>\n",
       "      <td>sell</td>\n",
       "      <td>3000.0</td>\n",
       "      <td>0.10</td>\n",
       "      <td>John Romero</td>\n",
       "      <td>success</td>\n",
       "    </tr>\n",
       "    <tr>\n",
       "      <th>2018-01-05</th>\n",
       "      <td>BTC</td>\n",
       "      <td>sell</td>\n",
       "      <td>4.0</td>\n",
       "      <td>6200.00</td>\n",
       "      <td>Jack Ma</td>\n",
       "      <td>success</td>\n",
       "    </tr>\n",
       "    <tr>\n",
       "      <th>2018-01-06</th>\n",
       "      <td>ETH</td>\n",
       "      <td>sell</td>\n",
       "      <td>10.0</td>\n",
       "      <td>400.00</td>\n",
       "      <td>Satoshi Nakomoto</td>\n",
       "      <td>error</td>\n",
       "    </tr>\n",
       "    <tr>\n",
       "      <th>2018-01-07</th>\n",
       "      <td>BTC</td>\n",
       "      <td>buy</td>\n",
       "      <td>1.0</td>\n",
       "      <td>5600.00</td>\n",
       "      <td>Vladimir Vladimirovich</td>\n",
       "      <td>success</td>\n",
       "    </tr>\n",
       "    <tr>\n",
       "      <th>2018-01-08</th>\n",
       "      <td>ETH</td>\n",
       "      <td>buy</td>\n",
       "      <td>20.0</td>\n",
       "      <td>350.00</td>\n",
       "      <td>George Bush</td>\n",
       "      <td>success</td>\n",
       "    </tr>\n",
       "    <tr>\n",
       "      <th>2018-01-09</th>\n",
       "      <td>ETH</td>\n",
       "      <td>sell</td>\n",
       "      <td>10.0</td>\n",
       "      <td>300.00</td>\n",
       "      <td>Jack Ma</td>\n",
       "      <td>error</td>\n",
       "    </tr>\n",
       "    <tr>\n",
       "      <th>2018-01-10</th>\n",
       "      <td>DOGE</td>\n",
       "      <td>sell</td>\n",
       "      <td>3000.0</td>\n",
       "      <td>0.15</td>\n",
       "      <td>Joe Doe</td>\n",
       "      <td>success</td>\n",
       "    </tr>\n",
       "  </tbody>\n",
       "</table>\n",
       "</div>"
      ],
      "text/plain": [
       "           symbol  type  amount    price                    user   status\n",
       "2018-01-01   DOGE   buy  5000.0     0.20                 Joe Doe  success\n",
       "2018-01-02    BTC   buy    10.0  6000.00               Elon Musk    error\n",
       "2018-01-03    BTC   buy     2.5  5900.00             George Bush  success\n",
       "2018-01-04   DOGE  sell  3000.0     0.10             John Romero  success\n",
       "2018-01-05    BTC  sell     4.0  6200.00                 Jack Ma  success\n",
       "2018-01-06    ETH  sell    10.0   400.00        Satoshi Nakomoto    error\n",
       "2018-01-07    BTC   buy     1.0  5600.00  Vladimir Vladimirovich  success\n",
       "2018-01-08    ETH   buy    20.0   350.00             George Bush  success\n",
       "2018-01-09    ETH  sell    10.0   300.00                 Jack Ma    error\n",
       "2018-01-10   DOGE  sell  3000.0     0.15                 Joe Doe  success"
      ]
     },
     "execution_count": 145,
     "metadata": {},
     "output_type": "execute_result"
    }
   ],
   "source": [
    "operations = pd.DataFrame(\n",
    "    data=[\n",
    "        ['DOGE', 'buy', 5000, 0.2, 'Joe Doe', 'success'],\n",
    "        ['BTC', 'buy', 10, 6000, 'Elon Musk', 'error'],\n",
    "        ['BTC', 'buy', 2.5, 5900, 'George Bush', 'success'],\n",
    "        ['DOGE', 'sell', 3000, 0.1, 'John Romero', 'success'],\n",
    "        ['BTC', 'sell', 4, 6200, 'Jack Ma', 'success'],\n",
    "        ['ETH', 'sell', 10, 400, 'Satoshi Nakomoto', 'error'],\n",
    "        ['BTC', 'buy', 1, 5600, 'Vladimir Vladimirovich', 'success'],\n",
    "        ['ETH', 'buy', 20, 350, 'George Bush', 'success'],\n",
    "        ['ETH', 'sell', 10, 300, 'Jack Ma', 'error'],\n",
    "        ['DOGE', 'sell', 3000, 0.15, 'Joe Doe', 'success']\n",
    "    ],\n",
    "    columns=['symbol', 'type', 'amount', 'price', 'user', 'status'],\n",
    "    index=pd.date_range('2018-01-01', periods=10)\n",
    ")\n",
    "operations"
   ]
  },
  {
   "cell_type": "markdown",
   "id": "babc6c44",
   "metadata": {},
   "source": [
    "Лучше всего понять как они работают это разобрать пример. Найдем сколько суммарно было куплено и продано каждого типа монет. В результирующей сводной таблице индексом будет название монеты, колонки - типы транзакций (т.е. покупки или продажи). В самих ячейках будет суммарное количество монет."
   ]
  },
  {
   "cell_type": "code",
   "execution_count": 146,
   "id": "e5b565ef",
   "metadata": {},
   "outputs": [
    {
     "data": {
      "text/html": [
       "<div>\n",
       "<style scoped>\n",
       "    .dataframe tbody tr th:only-of-type {\n",
       "        vertical-align: middle;\n",
       "    }\n",
       "\n",
       "    .dataframe tbody tr th {\n",
       "        vertical-align: top;\n",
       "    }\n",
       "\n",
       "    .dataframe thead th {\n",
       "        text-align: right;\n",
       "    }\n",
       "</style>\n",
       "<table border=\"1\" class=\"dataframe\">\n",
       "  <thead>\n",
       "    <tr style=\"text-align: right;\">\n",
       "      <th>type</th>\n",
       "      <th>buy</th>\n",
       "      <th>sell</th>\n",
       "    </tr>\n",
       "    <tr>\n",
       "      <th>symbol</th>\n",
       "      <th></th>\n",
       "      <th></th>\n",
       "    </tr>\n",
       "  </thead>\n",
       "  <tbody>\n",
       "    <tr>\n",
       "      <th>BTC</th>\n",
       "      <td>13.5</td>\n",
       "      <td>4.0</td>\n",
       "    </tr>\n",
       "    <tr>\n",
       "      <th>DOGE</th>\n",
       "      <td>5000.0</td>\n",
       "      <td>6000.0</td>\n",
       "    </tr>\n",
       "    <tr>\n",
       "      <th>ETH</th>\n",
       "      <td>20.0</td>\n",
       "      <td>20.0</td>\n",
       "    </tr>\n",
       "  </tbody>\n",
       "</table>\n",
       "</div>"
      ],
      "text/plain": [
       "type       buy    sell\n",
       "symbol                \n",
       "BTC       13.5     4.0\n",
       "DOGE    5000.0  6000.0\n",
       "ETH       20.0    20.0"
      ]
     },
     "execution_count": 146,
     "metadata": {},
     "output_type": "execute_result"
    }
   ],
   "source": [
    "operations.pivot_table(\n",
    "    values='amount', \n",
    "    index='symbol', \n",
    "    columns='type', \n",
    "    aggfunc='sum'\n",
    ")"
   ]
  },
  {
   "cell_type": "markdown",
   "id": "b68da021",
   "metadata": {},
   "source": [
    "Если не указывать явно аргумент aggfunc, то агрегация будет через усреднение (а не через суммирование как было в нашем примере). Расмотрим более сложный пример."
   ]
  },
  {
   "cell_type": "code",
   "execution_count": 147,
   "id": "01d4bc3c",
   "metadata": {},
   "outputs": [
    {
     "data": {
      "text/html": [
       "<div>\n",
       "<style scoped>\n",
       "    .dataframe tbody tr th:only-of-type {\n",
       "        vertical-align: middle;\n",
       "    }\n",
       "\n",
       "    .dataframe tbody tr th {\n",
       "        vertical-align: top;\n",
       "    }\n",
       "\n",
       "    .dataframe thead tr th {\n",
       "        text-align: left;\n",
       "    }\n",
       "\n",
       "    .dataframe thead tr:last-of-type th {\n",
       "        text-align: right;\n",
       "    }\n",
       "</style>\n",
       "<table border=\"1\" class=\"dataframe\">\n",
       "  <thead>\n",
       "    <tr>\n",
       "      <th></th>\n",
       "      <th></th>\n",
       "      <th colspan=\"4\" halign=\"left\">mean</th>\n",
       "      <th colspan=\"4\" halign=\"left\">sum</th>\n",
       "    </tr>\n",
       "    <tr>\n",
       "      <th></th>\n",
       "      <th>type</th>\n",
       "      <th colspan=\"2\" halign=\"left\">buy</th>\n",
       "      <th colspan=\"2\" halign=\"left\">sell</th>\n",
       "      <th colspan=\"2\" halign=\"left\">buy</th>\n",
       "      <th colspan=\"2\" halign=\"left\">sell</th>\n",
       "    </tr>\n",
       "    <tr>\n",
       "      <th></th>\n",
       "      <th>status</th>\n",
       "      <th>error</th>\n",
       "      <th>success</th>\n",
       "      <th>error</th>\n",
       "      <th>success</th>\n",
       "      <th>error</th>\n",
       "      <th>success</th>\n",
       "      <th>error</th>\n",
       "      <th>success</th>\n",
       "    </tr>\n",
       "    <tr>\n",
       "      <th>symbol</th>\n",
       "      <th>user</th>\n",
       "      <th></th>\n",
       "      <th></th>\n",
       "      <th></th>\n",
       "      <th></th>\n",
       "      <th></th>\n",
       "      <th></th>\n",
       "      <th></th>\n",
       "      <th></th>\n",
       "    </tr>\n",
       "  </thead>\n",
       "  <tbody>\n",
       "    <tr>\n",
       "      <th rowspan=\"4\" valign=\"top\">BTC</th>\n",
       "      <th>Elon Musk</th>\n",
       "      <td>10.0</td>\n",
       "      <td>NaN</td>\n",
       "      <td>NaN</td>\n",
       "      <td>NaN</td>\n",
       "      <td>10.0</td>\n",
       "      <td>NaN</td>\n",
       "      <td>NaN</td>\n",
       "      <td>NaN</td>\n",
       "    </tr>\n",
       "    <tr>\n",
       "      <th>George Bush</th>\n",
       "      <td>NaN</td>\n",
       "      <td>2.5</td>\n",
       "      <td>NaN</td>\n",
       "      <td>NaN</td>\n",
       "      <td>NaN</td>\n",
       "      <td>2.5</td>\n",
       "      <td>NaN</td>\n",
       "      <td>NaN</td>\n",
       "    </tr>\n",
       "    <tr>\n",
       "      <th>Jack Ma</th>\n",
       "      <td>NaN</td>\n",
       "      <td>NaN</td>\n",
       "      <td>NaN</td>\n",
       "      <td>4.0</td>\n",
       "      <td>NaN</td>\n",
       "      <td>NaN</td>\n",
       "      <td>NaN</td>\n",
       "      <td>4.0</td>\n",
       "    </tr>\n",
       "    <tr>\n",
       "      <th>Vladimir Vladimirovich</th>\n",
       "      <td>NaN</td>\n",
       "      <td>1.0</td>\n",
       "      <td>NaN</td>\n",
       "      <td>NaN</td>\n",
       "      <td>NaN</td>\n",
       "      <td>1.0</td>\n",
       "      <td>NaN</td>\n",
       "      <td>NaN</td>\n",
       "    </tr>\n",
       "    <tr>\n",
       "      <th rowspan=\"2\" valign=\"top\">DOGE</th>\n",
       "      <th>Joe Doe</th>\n",
       "      <td>NaN</td>\n",
       "      <td>5000.0</td>\n",
       "      <td>NaN</td>\n",
       "      <td>3000.0</td>\n",
       "      <td>NaN</td>\n",
       "      <td>5000.0</td>\n",
       "      <td>NaN</td>\n",
       "      <td>3000.0</td>\n",
       "    </tr>\n",
       "    <tr>\n",
       "      <th>John Romero</th>\n",
       "      <td>NaN</td>\n",
       "      <td>NaN</td>\n",
       "      <td>NaN</td>\n",
       "      <td>3000.0</td>\n",
       "      <td>NaN</td>\n",
       "      <td>NaN</td>\n",
       "      <td>NaN</td>\n",
       "      <td>3000.0</td>\n",
       "    </tr>\n",
       "    <tr>\n",
       "      <th rowspan=\"3\" valign=\"top\">ETH</th>\n",
       "      <th>George Bush</th>\n",
       "      <td>NaN</td>\n",
       "      <td>20.0</td>\n",
       "      <td>NaN</td>\n",
       "      <td>NaN</td>\n",
       "      <td>NaN</td>\n",
       "      <td>20.0</td>\n",
       "      <td>NaN</td>\n",
       "      <td>NaN</td>\n",
       "    </tr>\n",
       "    <tr>\n",
       "      <th>Jack Ma</th>\n",
       "      <td>NaN</td>\n",
       "      <td>NaN</td>\n",
       "      <td>10.0</td>\n",
       "      <td>NaN</td>\n",
       "      <td>NaN</td>\n",
       "      <td>NaN</td>\n",
       "      <td>10.0</td>\n",
       "      <td>NaN</td>\n",
       "    </tr>\n",
       "    <tr>\n",
       "      <th>Satoshi Nakomoto</th>\n",
       "      <td>NaN</td>\n",
       "      <td>NaN</td>\n",
       "      <td>10.0</td>\n",
       "      <td>NaN</td>\n",
       "      <td>NaN</td>\n",
       "      <td>NaN</td>\n",
       "      <td>10.0</td>\n",
       "      <td>NaN</td>\n",
       "    </tr>\n",
       "  </tbody>\n",
       "</table>\n",
       "</div>"
      ],
      "text/plain": [
       "                               mean                         sum                \\\n",
       "type                            buy          sell           buy          sell   \n",
       "status                        error success error success error success error   \n",
       "symbol user                                                                     \n",
       "BTC    Elon Musk               10.0     NaN   NaN     NaN  10.0     NaN   NaN   \n",
       "       George Bush              NaN     2.5   NaN     NaN   NaN     2.5   NaN   \n",
       "       Jack Ma                  NaN     NaN   NaN     4.0   NaN     NaN   NaN   \n",
       "       Vladimir Vladimirovich   NaN     1.0   NaN     NaN   NaN     1.0   NaN   \n",
       "DOGE   Joe Doe                  NaN  5000.0   NaN  3000.0   NaN  5000.0   NaN   \n",
       "       John Romero              NaN     NaN   NaN  3000.0   NaN     NaN   NaN   \n",
       "ETH    George Bush              NaN    20.0   NaN     NaN   NaN    20.0   NaN   \n",
       "       Jack Ma                  NaN     NaN  10.0     NaN   NaN     NaN  10.0   \n",
       "       Satoshi Nakomoto         NaN     NaN  10.0     NaN   NaN     NaN  10.0   \n",
       "\n",
       "                                       \n",
       "type                                   \n",
       "status                        success  \n",
       "symbol user                            \n",
       "BTC    Elon Musk                  NaN  \n",
       "       George Bush                NaN  \n",
       "       Jack Ma                    4.0  \n",
       "       Vladimir Vladimirovich     NaN  \n",
       "DOGE   Joe Doe                 3000.0  \n",
       "       John Romero             3000.0  \n",
       "ETH    George Bush                NaN  \n",
       "       Jack Ma                    NaN  \n",
       "       Satoshi Nakomoto           NaN  "
      ]
     },
     "execution_count": 147,
     "metadata": {},
     "output_type": "execute_result"
    }
   ],
   "source": [
    "operations.pivot_table(\n",
    "    values='amount',\n",
    "    index=['symbol', 'user'],  # Индекс может быть иерархическим и строиться по нескольким колонкам\n",
    "    columns=['type', 'status'],  # Аналогично иерархическими могут быть и колонки\n",
    "    aggfunc={'amount': ['sum', 'mean']}  # Можно вычислять сразу несколько агрегаций\n",
    ")"
   ]
  },
  {
   "cell_type": "markdown",
   "id": "c09098b6",
   "metadata": {},
   "source": [
    "И самый монструозный пример, где мы сделаем сводную таблиц для цен и объемов торгов."
   ]
  },
  {
   "cell_type": "code",
   "execution_count": 149,
   "id": "057752c5",
   "metadata": {},
   "outputs": [
    {
     "data": {
      "text/html": [
       "<div>\n",
       "<style scoped>\n",
       "    .dataframe tbody tr th:only-of-type {\n",
       "        vertical-align: middle;\n",
       "    }\n",
       "\n",
       "    .dataframe tbody tr th {\n",
       "        vertical-align: top;\n",
       "    }\n",
       "\n",
       "    .dataframe thead tr th {\n",
       "        text-align: left;\n",
       "    }\n",
       "\n",
       "    .dataframe thead tr:last-of-type th {\n",
       "        text-align: right;\n",
       "    }\n",
       "</style>\n",
       "<table border=\"1\" class=\"dataframe\">\n",
       "  <thead>\n",
       "    <tr>\n",
       "      <th></th>\n",
       "      <th></th>\n",
       "      <th colspan=\"8\" halign=\"left\">amount</th>\n",
       "      <th colspan=\"4\" halign=\"left\">price</th>\n",
       "    </tr>\n",
       "    <tr>\n",
       "      <th></th>\n",
       "      <th></th>\n",
       "      <th colspan=\"4\" halign=\"left\">mean</th>\n",
       "      <th colspan=\"4\" halign=\"left\">sum</th>\n",
       "      <th colspan=\"4\" halign=\"left\">max</th>\n",
       "    </tr>\n",
       "    <tr>\n",
       "      <th></th>\n",
       "      <th>type</th>\n",
       "      <th colspan=\"2\" halign=\"left\">buy</th>\n",
       "      <th colspan=\"2\" halign=\"left\">sell</th>\n",
       "      <th colspan=\"2\" halign=\"left\">buy</th>\n",
       "      <th colspan=\"2\" halign=\"left\">sell</th>\n",
       "      <th colspan=\"2\" halign=\"left\">buy</th>\n",
       "      <th colspan=\"2\" halign=\"left\">sell</th>\n",
       "    </tr>\n",
       "    <tr>\n",
       "      <th></th>\n",
       "      <th>status</th>\n",
       "      <th>error</th>\n",
       "      <th>success</th>\n",
       "      <th>error</th>\n",
       "      <th>success</th>\n",
       "      <th>error</th>\n",
       "      <th>success</th>\n",
       "      <th>error</th>\n",
       "      <th>success</th>\n",
       "      <th>error</th>\n",
       "      <th>success</th>\n",
       "      <th>error</th>\n",
       "      <th>success</th>\n",
       "    </tr>\n",
       "    <tr>\n",
       "      <th>symbol</th>\n",
       "      <th>user</th>\n",
       "      <th></th>\n",
       "      <th></th>\n",
       "      <th></th>\n",
       "      <th></th>\n",
       "      <th></th>\n",
       "      <th></th>\n",
       "      <th></th>\n",
       "      <th></th>\n",
       "      <th></th>\n",
       "      <th></th>\n",
       "      <th></th>\n",
       "      <th></th>\n",
       "    </tr>\n",
       "  </thead>\n",
       "  <tbody>\n",
       "    <tr>\n",
       "      <th rowspan=\"4\" valign=\"top\">BTC</th>\n",
       "      <th>Elon Musk</th>\n",
       "      <td>10.0</td>\n",
       "      <td>NaN</td>\n",
       "      <td>NaN</td>\n",
       "      <td>NaN</td>\n",
       "      <td>10.0</td>\n",
       "      <td>NaN</td>\n",
       "      <td>NaN</td>\n",
       "      <td>NaN</td>\n",
       "      <td>6000.0</td>\n",
       "      <td>NaN</td>\n",
       "      <td>NaN</td>\n",
       "      <td>NaN</td>\n",
       "    </tr>\n",
       "    <tr>\n",
       "      <th>George Bush</th>\n",
       "      <td>NaN</td>\n",
       "      <td>2.5</td>\n",
       "      <td>NaN</td>\n",
       "      <td>NaN</td>\n",
       "      <td>NaN</td>\n",
       "      <td>2.5</td>\n",
       "      <td>NaN</td>\n",
       "      <td>NaN</td>\n",
       "      <td>NaN</td>\n",
       "      <td>5900.0</td>\n",
       "      <td>NaN</td>\n",
       "      <td>NaN</td>\n",
       "    </tr>\n",
       "    <tr>\n",
       "      <th>Jack Ma</th>\n",
       "      <td>NaN</td>\n",
       "      <td>NaN</td>\n",
       "      <td>NaN</td>\n",
       "      <td>4.0</td>\n",
       "      <td>NaN</td>\n",
       "      <td>NaN</td>\n",
       "      <td>NaN</td>\n",
       "      <td>4.0</td>\n",
       "      <td>NaN</td>\n",
       "      <td>NaN</td>\n",
       "      <td>NaN</td>\n",
       "      <td>6200.00</td>\n",
       "    </tr>\n",
       "    <tr>\n",
       "      <th>Vladimir Vladimirovich</th>\n",
       "      <td>NaN</td>\n",
       "      <td>1.0</td>\n",
       "      <td>NaN</td>\n",
       "      <td>NaN</td>\n",
       "      <td>NaN</td>\n",
       "      <td>1.0</td>\n",
       "      <td>NaN</td>\n",
       "      <td>NaN</td>\n",
       "      <td>NaN</td>\n",
       "      <td>5600.0</td>\n",
       "      <td>NaN</td>\n",
       "      <td>NaN</td>\n",
       "    </tr>\n",
       "    <tr>\n",
       "      <th rowspan=\"2\" valign=\"top\">DOGE</th>\n",
       "      <th>Joe Doe</th>\n",
       "      <td>NaN</td>\n",
       "      <td>5000.0</td>\n",
       "      <td>NaN</td>\n",
       "      <td>3000.0</td>\n",
       "      <td>NaN</td>\n",
       "      <td>5000.0</td>\n",
       "      <td>NaN</td>\n",
       "      <td>3000.0</td>\n",
       "      <td>NaN</td>\n",
       "      <td>0.2</td>\n",
       "      <td>NaN</td>\n",
       "      <td>0.15</td>\n",
       "    </tr>\n",
       "    <tr>\n",
       "      <th>John Romero</th>\n",
       "      <td>NaN</td>\n",
       "      <td>NaN</td>\n",
       "      <td>NaN</td>\n",
       "      <td>3000.0</td>\n",
       "      <td>NaN</td>\n",
       "      <td>NaN</td>\n",
       "      <td>NaN</td>\n",
       "      <td>3000.0</td>\n",
       "      <td>NaN</td>\n",
       "      <td>NaN</td>\n",
       "      <td>NaN</td>\n",
       "      <td>0.10</td>\n",
       "    </tr>\n",
       "    <tr>\n",
       "      <th rowspan=\"3\" valign=\"top\">ETH</th>\n",
       "      <th>George Bush</th>\n",
       "      <td>NaN</td>\n",
       "      <td>20.0</td>\n",
       "      <td>NaN</td>\n",
       "      <td>NaN</td>\n",
       "      <td>NaN</td>\n",
       "      <td>20.0</td>\n",
       "      <td>NaN</td>\n",
       "      <td>NaN</td>\n",
       "      <td>NaN</td>\n",
       "      <td>350.0</td>\n",
       "      <td>NaN</td>\n",
       "      <td>NaN</td>\n",
       "    </tr>\n",
       "    <tr>\n",
       "      <th>Jack Ma</th>\n",
       "      <td>NaN</td>\n",
       "      <td>NaN</td>\n",
       "      <td>10.0</td>\n",
       "      <td>NaN</td>\n",
       "      <td>NaN</td>\n",
       "      <td>NaN</td>\n",
       "      <td>10.0</td>\n",
       "      <td>NaN</td>\n",
       "      <td>NaN</td>\n",
       "      <td>NaN</td>\n",
       "      <td>300.0</td>\n",
       "      <td>NaN</td>\n",
       "    </tr>\n",
       "    <tr>\n",
       "      <th>Satoshi Nakomoto</th>\n",
       "      <td>NaN</td>\n",
       "      <td>NaN</td>\n",
       "      <td>10.0</td>\n",
       "      <td>NaN</td>\n",
       "      <td>NaN</td>\n",
       "      <td>NaN</td>\n",
       "      <td>10.0</td>\n",
       "      <td>NaN</td>\n",
       "      <td>NaN</td>\n",
       "      <td>NaN</td>\n",
       "      <td>400.0</td>\n",
       "      <td>NaN</td>\n",
       "    </tr>\n",
       "  </tbody>\n",
       "</table>\n",
       "</div>"
      ],
      "text/plain": [
       "                              amount                                      \\\n",
       "                                mean                         sum           \n",
       "type                             buy          sell           buy           \n",
       "status                         error success error success error success   \n",
       "symbol user                                                                \n",
       "BTC    Elon Musk                10.0     NaN   NaN     NaN  10.0     NaN   \n",
       "       George Bush               NaN     2.5   NaN     NaN   NaN     2.5   \n",
       "       Jack Ma                   NaN     NaN   NaN     4.0   NaN     NaN   \n",
       "       Vladimir Vladimirovich    NaN     1.0   NaN     NaN   NaN     1.0   \n",
       "DOGE   Joe Doe                   NaN  5000.0   NaN  3000.0   NaN  5000.0   \n",
       "       John Romero               NaN     NaN   NaN  3000.0   NaN     NaN   \n",
       "ETH    George Bush               NaN    20.0   NaN     NaN   NaN    20.0   \n",
       "       Jack Ma                   NaN     NaN  10.0     NaN   NaN     NaN   \n",
       "       Satoshi Nakomoto          NaN     NaN  10.0     NaN   NaN     NaN   \n",
       "\n",
       "                                              price                          \n",
       "                                                max                          \n",
       "type                           sell             buy           sell           \n",
       "status                        error success   error success  error  success  \n",
       "symbol user                                                                  \n",
       "BTC    Elon Musk                NaN     NaN  6000.0     NaN    NaN      NaN  \n",
       "       George Bush              NaN     NaN     NaN  5900.0    NaN      NaN  \n",
       "       Jack Ma                  NaN     4.0     NaN     NaN    NaN  6200.00  \n",
       "       Vladimir Vladimirovich   NaN     NaN     NaN  5600.0    NaN      NaN  \n",
       "DOGE   Joe Doe                  NaN  3000.0     NaN     0.2    NaN     0.15  \n",
       "       John Romero              NaN  3000.0     NaN     NaN    NaN     0.10  \n",
       "ETH    George Bush              NaN     NaN     NaN   350.0    NaN      NaN  \n",
       "       Jack Ma                 10.0     NaN     NaN     NaN  300.0      NaN  \n",
       "       Satoshi Nakomoto        10.0     NaN     NaN     NaN  400.0      NaN  "
      ]
     },
     "execution_count": 149,
     "metadata": {},
     "output_type": "execute_result"
    }
   ],
   "source": [
    "operations.pivot_table(\n",
    "    values=['amount', 'price'],  # Можно находить статистику по разным числовым показателям\n",
    "    index=['symbol', 'user'],\n",
    "    columns=['type', 'status'],\n",
    "    aggfunc={\n",
    "        'amount': ['sum', 'mean'], \n",
    "        'price': 'max'}  # Тогда для каждого показателя надо указать какие агрегации вы хотите\n",
    ")"
   ]
  },
  {
   "cell_type": "markdown",
   "id": "1249170b",
   "metadata": {},
   "source": [
    "Для построения сводных таблиц в pandas есть более простая функция. pandas.pivot. Она не делает никаких агрегаций, поэтому при ее использовании вы должны быть уверены, что на каждую ячейку результирующей сводной таблицы придется только одно значение показателя из исходной таблицы. В противном случае будет ошибка. Можете попробовать построить сводную таблицу\n",
    "```\n",
    "operations.pivot(values='amount', index='user', columns='user')\n",
    "```\n",
    "чтобы убедиться.\n",
    "\n",
    "**Задание:** Самостоятельно разберитесь с функциями pandas.stack, pandas.unstack и pandas.melt. Вам поможет [этот tutorial](https://pandas.pydata.org/pandas-docs/stable/reshaping.html)"
   ]
  },
  {
   "cell_type": "markdown",
   "id": "abdec74d",
   "metadata": {},
   "source": [
    "### 11. Пропуски и ошибки в данных\n",
    "\n",
    "В реальной жизни данные с которыми надо работать содержат пропуски или просто неверные значения. Мы обсудим как это можно исправить"
   ]
  },
  {
   "cell_type": "code",
   "execution_count": 150,
   "id": "23bfa1b4",
   "metadata": {},
   "outputs": [
    {
     "data": {
      "text/html": [
       "<div>\n",
       "<style scoped>\n",
       "    .dataframe tbody tr th:only-of-type {\n",
       "        vertical-align: middle;\n",
       "    }\n",
       "\n",
       "    .dataframe tbody tr th {\n",
       "        vertical-align: top;\n",
       "    }\n",
       "\n",
       "    .dataframe thead th {\n",
       "        text-align: right;\n",
       "    }\n",
       "</style>\n",
       "<table border=\"1\" class=\"dataframe\">\n",
       "  <thead>\n",
       "    <tr style=\"text-align: right;\">\n",
       "      <th></th>\n",
       "      <th>ADA</th>\n",
       "      <th>DOGE</th>\n",
       "    </tr>\n",
       "  </thead>\n",
       "  <tbody>\n",
       "    <tr>\n",
       "      <th>2018-11-01</th>\n",
       "      <td>0.547</td>\n",
       "      <td>0.745</td>\n",
       "    </tr>\n",
       "    <tr>\n",
       "      <th>2018-11-02</th>\n",
       "      <td>-2.000</td>\n",
       "      <td>-1.000</td>\n",
       "    </tr>\n",
       "    <tr>\n",
       "      <th>2018-11-03</th>\n",
       "      <td>NaN</td>\n",
       "      <td>0.718</td>\n",
       "    </tr>\n",
       "    <tr>\n",
       "      <th>2018-11-04</th>\n",
       "      <td>0.135</td>\n",
       "      <td>0.845</td>\n",
       "    </tr>\n",
       "    <tr>\n",
       "      <th>2018-11-05</th>\n",
       "      <td>0.530</td>\n",
       "      <td>NaN</td>\n",
       "    </tr>\n",
       "    <tr>\n",
       "      <th>2018-11-06</th>\n",
       "      <td>NaN</td>\n",
       "      <td>-1.000</td>\n",
       "    </tr>\n",
       "  </tbody>\n",
       "</table>\n",
       "</div>"
      ],
      "text/plain": [
       "              ADA   DOGE\n",
       "2018-11-01  0.547  0.745\n",
       "2018-11-02 -2.000 -1.000\n",
       "2018-11-03    NaN  0.718\n",
       "2018-11-04  0.135  0.845\n",
       "2018-11-05  0.530    NaN\n",
       "2018-11-06    NaN -1.000"
      ]
     },
     "execution_count": 150,
     "metadata": {},
     "output_type": "execute_result"
    }
   ],
   "source": [
    "price = pd.DataFrame(\n",
    "    data=[\n",
    "        [0.547, 0.745],\n",
    "        [-2, -1],\n",
    "        [None, 0.718],\n",
    "        [0.135, 0.845],\n",
    "        [0.53, None],\n",
    "        [None, -1]],\n",
    "    columns=['ADA', 'DOGE'],\n",
    "    # Создаем специальный индекс из 6 дней начиная с 2018-11-01 \n",
    "    index=pd.date_range('2018-11-01', periods=6)\n",
    ")\n",
    "price"
   ]
  },
  {
   "cell_type": "code",
   "execution_count": 151,
   "id": "52763df5",
   "metadata": {},
   "outputs": [
    {
     "data": {
      "text/html": [
       "<div>\n",
       "<style scoped>\n",
       "    .dataframe tbody tr th:only-of-type {\n",
       "        vertical-align: middle;\n",
       "    }\n",
       "\n",
       "    .dataframe tbody tr th {\n",
       "        vertical-align: top;\n",
       "    }\n",
       "\n",
       "    .dataframe thead th {\n",
       "        text-align: right;\n",
       "    }\n",
       "</style>\n",
       "<table border=\"1\" class=\"dataframe\">\n",
       "  <thead>\n",
       "    <tr style=\"text-align: right;\">\n",
       "      <th></th>\n",
       "      <th>ADA</th>\n",
       "      <th>DOGE</th>\n",
       "    </tr>\n",
       "  </thead>\n",
       "  <tbody>\n",
       "    <tr>\n",
       "      <th>2018-11-01</th>\n",
       "      <td>False</td>\n",
       "      <td>False</td>\n",
       "    </tr>\n",
       "    <tr>\n",
       "      <th>2018-11-02</th>\n",
       "      <td>False</td>\n",
       "      <td>False</td>\n",
       "    </tr>\n",
       "    <tr>\n",
       "      <th>2018-11-03</th>\n",
       "      <td>True</td>\n",
       "      <td>False</td>\n",
       "    </tr>\n",
       "    <tr>\n",
       "      <th>2018-11-04</th>\n",
       "      <td>False</td>\n",
       "      <td>False</td>\n",
       "    </tr>\n",
       "    <tr>\n",
       "      <th>2018-11-05</th>\n",
       "      <td>False</td>\n",
       "      <td>True</td>\n",
       "    </tr>\n",
       "    <tr>\n",
       "      <th>2018-11-06</th>\n",
       "      <td>True</td>\n",
       "      <td>False</td>\n",
       "    </tr>\n",
       "  </tbody>\n",
       "</table>\n",
       "</div>"
      ],
      "text/plain": [
       "              ADA   DOGE\n",
       "2018-11-01  False  False\n",
       "2018-11-02  False  False\n",
       "2018-11-03   True  False\n",
       "2018-11-04  False  False\n",
       "2018-11-05  False   True\n",
       "2018-11-06   True  False"
      ]
     },
     "execution_count": 151,
     "metadata": {},
     "output_type": "execute_result"
    }
   ],
   "source": [
    "# Найти места где есть пропуски методом isnull. Аналогично есть метод notnull\n",
    "price.isnull()"
   ]
  },
  {
   "cell_type": "code",
   "execution_count": 152,
   "id": "15bcdd8c",
   "metadata": {},
   "outputs": [
    {
     "data": {
      "text/html": [
       "<div>\n",
       "<style scoped>\n",
       "    .dataframe tbody tr th:only-of-type {\n",
       "        vertical-align: middle;\n",
       "    }\n",
       "\n",
       "    .dataframe tbody tr th {\n",
       "        vertical-align: top;\n",
       "    }\n",
       "\n",
       "    .dataframe thead th {\n",
       "        text-align: right;\n",
       "    }\n",
       "</style>\n",
       "<table border=\"1\" class=\"dataframe\">\n",
       "  <thead>\n",
       "    <tr style=\"text-align: right;\">\n",
       "      <th></th>\n",
       "      <th>ADA</th>\n",
       "      <th>DOGE</th>\n",
       "    </tr>\n",
       "  </thead>\n",
       "  <tbody>\n",
       "    <tr>\n",
       "      <th>2018-11-01</th>\n",
       "      <td>0.547</td>\n",
       "      <td>0.745</td>\n",
       "    </tr>\n",
       "    <tr>\n",
       "      <th>2018-11-02</th>\n",
       "      <td>-2.000</td>\n",
       "      <td>-1.000</td>\n",
       "    </tr>\n",
       "    <tr>\n",
       "      <th>2018-11-03</th>\n",
       "      <td>0.000</td>\n",
       "      <td>0.718</td>\n",
       "    </tr>\n",
       "    <tr>\n",
       "      <th>2018-11-04</th>\n",
       "      <td>0.135</td>\n",
       "      <td>0.845</td>\n",
       "    </tr>\n",
       "    <tr>\n",
       "      <th>2018-11-05</th>\n",
       "      <td>0.530</td>\n",
       "      <td>0.000</td>\n",
       "    </tr>\n",
       "    <tr>\n",
       "      <th>2018-11-06</th>\n",
       "      <td>0.000</td>\n",
       "      <td>-1.000</td>\n",
       "    </tr>\n",
       "  </tbody>\n",
       "</table>\n",
       "</div>"
      ],
      "text/plain": [
       "              ADA   DOGE\n",
       "2018-11-01  0.547  0.745\n",
       "2018-11-02 -2.000 -1.000\n",
       "2018-11-03  0.000  0.718\n",
       "2018-11-04  0.135  0.845\n",
       "2018-11-05  0.530  0.000\n",
       "2018-11-06  0.000 -1.000"
      ]
     },
     "execution_count": 152,
     "metadata": {},
     "output_type": "execute_result"
    }
   ],
   "source": [
    "# Заполнить все пропуски дефолтным занчением\n",
    "price.fillna(0)"
   ]
  },
  {
   "cell_type": "code",
   "execution_count": 153,
   "id": "9b70e5de",
   "metadata": {},
   "outputs": [
    {
     "data": {
      "text/html": [
       "<div>\n",
       "<style scoped>\n",
       "    .dataframe tbody tr th:only-of-type {\n",
       "        vertical-align: middle;\n",
       "    }\n",
       "\n",
       "    .dataframe tbody tr th {\n",
       "        vertical-align: top;\n",
       "    }\n",
       "\n",
       "    .dataframe thead th {\n",
       "        text-align: right;\n",
       "    }\n",
       "</style>\n",
       "<table border=\"1\" class=\"dataframe\">\n",
       "  <thead>\n",
       "    <tr style=\"text-align: right;\">\n",
       "      <th></th>\n",
       "      <th>ADA</th>\n",
       "      <th>DOGE</th>\n",
       "    </tr>\n",
       "  </thead>\n",
       "  <tbody>\n",
       "    <tr>\n",
       "      <th>2018-11-01</th>\n",
       "      <td>0.547</td>\n",
       "      <td>0.745</td>\n",
       "    </tr>\n",
       "    <tr>\n",
       "      <th>2018-11-02</th>\n",
       "      <td>-2.000</td>\n",
       "      <td>-1.000</td>\n",
       "    </tr>\n",
       "    <tr>\n",
       "      <th>2018-11-03</th>\n",
       "      <td>0.135</td>\n",
       "      <td>0.718</td>\n",
       "    </tr>\n",
       "    <tr>\n",
       "      <th>2018-11-04</th>\n",
       "      <td>0.135</td>\n",
       "      <td>0.845</td>\n",
       "    </tr>\n",
       "    <tr>\n",
       "      <th>2018-11-05</th>\n",
       "      <td>0.530</td>\n",
       "      <td>-1.000</td>\n",
       "    </tr>\n",
       "    <tr>\n",
       "      <th>2018-11-06</th>\n",
       "      <td>NaN</td>\n",
       "      <td>-1.000</td>\n",
       "    </tr>\n",
       "  </tbody>\n",
       "</table>\n",
       "</div>"
      ],
      "text/plain": [
       "              ADA   DOGE\n",
       "2018-11-01  0.547  0.745\n",
       "2018-11-02 -2.000 -1.000\n",
       "2018-11-03  0.135  0.718\n",
       "2018-11-04  0.135  0.845\n",
       "2018-11-05  0.530 -1.000\n",
       "2018-11-06    NaN -1.000"
      ]
     },
     "execution_count": 153,
     "metadata": {},
     "output_type": "execute_result"
    }
   ],
   "source": [
    "# Заполнить все пропуски занчениями с предыдущей строки\n",
    "price.fillna(method='bfill')"
   ]
  },
  {
   "cell_type": "code",
   "execution_count": 154,
   "id": "3eb8f8e9",
   "metadata": {},
   "outputs": [
    {
     "data": {
      "text/html": [
       "<div>\n",
       "<style scoped>\n",
       "    .dataframe tbody tr th:only-of-type {\n",
       "        vertical-align: middle;\n",
       "    }\n",
       "\n",
       "    .dataframe tbody tr th {\n",
       "        vertical-align: top;\n",
       "    }\n",
       "\n",
       "    .dataframe thead th {\n",
       "        text-align: right;\n",
       "    }\n",
       "</style>\n",
       "<table border=\"1\" class=\"dataframe\">\n",
       "  <thead>\n",
       "    <tr style=\"text-align: right;\">\n",
       "      <th></th>\n",
       "      <th>ADA</th>\n",
       "      <th>DOGE</th>\n",
       "    </tr>\n",
       "  </thead>\n",
       "  <tbody>\n",
       "    <tr>\n",
       "      <th>2018-11-01</th>\n",
       "      <td>0.547</td>\n",
       "      <td>0.745</td>\n",
       "    </tr>\n",
       "    <tr>\n",
       "      <th>2018-11-02</th>\n",
       "      <td>-2.000</td>\n",
       "      <td>-1.000</td>\n",
       "    </tr>\n",
       "    <tr>\n",
       "      <th>2018-11-03</th>\n",
       "      <td>-2.000</td>\n",
       "      <td>0.718</td>\n",
       "    </tr>\n",
       "    <tr>\n",
       "      <th>2018-11-04</th>\n",
       "      <td>0.135</td>\n",
       "      <td>0.845</td>\n",
       "    </tr>\n",
       "    <tr>\n",
       "      <th>2018-11-05</th>\n",
       "      <td>0.530</td>\n",
       "      <td>0.845</td>\n",
       "    </tr>\n",
       "    <tr>\n",
       "      <th>2018-11-06</th>\n",
       "      <td>0.530</td>\n",
       "      <td>-1.000</td>\n",
       "    </tr>\n",
       "  </tbody>\n",
       "</table>\n",
       "</div>"
      ],
      "text/plain": [
       "              ADA   DOGE\n",
       "2018-11-01  0.547  0.745\n",
       "2018-11-02 -2.000 -1.000\n",
       "2018-11-03 -2.000  0.718\n",
       "2018-11-04  0.135  0.845\n",
       "2018-11-05  0.530  0.845\n",
       "2018-11-06  0.530 -1.000"
      ]
     },
     "execution_count": 154,
     "metadata": {},
     "output_type": "execute_result"
    }
   ],
   "source": [
    "# Заполнить все пропуски занчениями с cледующей строки\n",
    "price.fillna(method='ffill')"
   ]
  },
  {
   "cell_type": "code",
   "execution_count": 155,
   "id": "380033a8",
   "metadata": {},
   "outputs": [
    {
     "data": {
      "text/html": [
       "<div>\n",
       "<style scoped>\n",
       "    .dataframe tbody tr th:only-of-type {\n",
       "        vertical-align: middle;\n",
       "    }\n",
       "\n",
       "    .dataframe tbody tr th {\n",
       "        vertical-align: top;\n",
       "    }\n",
       "\n",
       "    .dataframe thead th {\n",
       "        text-align: right;\n",
       "    }\n",
       "</style>\n",
       "<table border=\"1\" class=\"dataframe\">\n",
       "  <thead>\n",
       "    <tr style=\"text-align: right;\">\n",
       "      <th></th>\n",
       "      <th>ADA</th>\n",
       "      <th>DOGE</th>\n",
       "    </tr>\n",
       "  </thead>\n",
       "  <tbody>\n",
       "    <tr>\n",
       "      <th>2018-11-01</th>\n",
       "      <td>0.547</td>\n",
       "      <td>0.745</td>\n",
       "    </tr>\n",
       "    <tr>\n",
       "      <th>2018-11-02</th>\n",
       "      <td>-2.000</td>\n",
       "      <td>-1.000</td>\n",
       "    </tr>\n",
       "    <tr>\n",
       "      <th>2018-11-04</th>\n",
       "      <td>0.135</td>\n",
       "      <td>0.845</td>\n",
       "    </tr>\n",
       "  </tbody>\n",
       "</table>\n",
       "</div>"
      ],
      "text/plain": [
       "              ADA   DOGE\n",
       "2018-11-01  0.547  0.745\n",
       "2018-11-02 -2.000 -1.000\n",
       "2018-11-04  0.135  0.845"
      ]
     },
     "execution_count": 155,
     "metadata": {},
     "output_type": "execute_result"
    }
   ],
   "source": [
    "#  Выкинуть строки содержащие nan'ы\n",
    "price.dropna()"
   ]
  },
  {
   "cell_type": "code",
   "execution_count": 156,
   "id": "0de01913",
   "metadata": {},
   "outputs": [
    {
     "data": {
      "text/html": [
       "<div>\n",
       "<style scoped>\n",
       "    .dataframe tbody tr th:only-of-type {\n",
       "        vertical-align: middle;\n",
       "    }\n",
       "\n",
       "    .dataframe tbody tr th {\n",
       "        vertical-align: top;\n",
       "    }\n",
       "\n",
       "    .dataframe thead th {\n",
       "        text-align: right;\n",
       "    }\n",
       "</style>\n",
       "<table border=\"1\" class=\"dataframe\">\n",
       "  <thead>\n",
       "    <tr style=\"text-align: right;\">\n",
       "      <th></th>\n",
       "    </tr>\n",
       "  </thead>\n",
       "  <tbody>\n",
       "    <tr>\n",
       "      <th>2018-11-01</th>\n",
       "    </tr>\n",
       "    <tr>\n",
       "      <th>2018-11-02</th>\n",
       "    </tr>\n",
       "    <tr>\n",
       "      <th>2018-11-03</th>\n",
       "    </tr>\n",
       "    <tr>\n",
       "      <th>2018-11-04</th>\n",
       "    </tr>\n",
       "    <tr>\n",
       "      <th>2018-11-05</th>\n",
       "    </tr>\n",
       "    <tr>\n",
       "      <th>2018-11-06</th>\n",
       "    </tr>\n",
       "  </tbody>\n",
       "</table>\n",
       "</div>"
      ],
      "text/plain": [
       "Empty DataFrame\n",
       "Columns: []\n",
       "Index: [2018-11-01 00:00:00, 2018-11-02 00:00:00, 2018-11-03 00:00:00, 2018-11-04 00:00:00, 2018-11-05 00:00:00, 2018-11-06 00:00:00]"
      ]
     },
     "execution_count": 156,
     "metadata": {},
     "output_type": "execute_result"
    }
   ],
   "source": [
    "#  Выкинуть колонки содержащие nan'ы\n",
    "price.dropna(axis=1)"
   ]
  },
  {
   "cell_type": "code",
   "execution_count": 157,
   "id": "aec93706",
   "metadata": {},
   "outputs": [
    {
     "data": {
      "text/html": [
       "<div>\n",
       "<style scoped>\n",
       "    .dataframe tbody tr th:only-of-type {\n",
       "        vertical-align: middle;\n",
       "    }\n",
       "\n",
       "    .dataframe tbody tr th {\n",
       "        vertical-align: top;\n",
       "    }\n",
       "\n",
       "    .dataframe thead th {\n",
       "        text-align: right;\n",
       "    }\n",
       "</style>\n",
       "<table border=\"1\" class=\"dataframe\">\n",
       "  <thead>\n",
       "    <tr style=\"text-align: right;\">\n",
       "      <th></th>\n",
       "      <th>ADA</th>\n",
       "      <th>DOGE</th>\n",
       "    </tr>\n",
       "  </thead>\n",
       "  <tbody>\n",
       "    <tr>\n",
       "      <th>2018-11-01</th>\n",
       "      <td>0.547</td>\n",
       "      <td>0.745</td>\n",
       "    </tr>\n",
       "    <tr>\n",
       "      <th>2018-11-02</th>\n",
       "      <td>0.000</td>\n",
       "      <td>0.000</td>\n",
       "    </tr>\n",
       "    <tr>\n",
       "      <th>2018-11-03</th>\n",
       "      <td>NaN</td>\n",
       "      <td>0.718</td>\n",
       "    </tr>\n",
       "    <tr>\n",
       "      <th>2018-11-04</th>\n",
       "      <td>0.135</td>\n",
       "      <td>0.845</td>\n",
       "    </tr>\n",
       "    <tr>\n",
       "      <th>2018-11-05</th>\n",
       "      <td>0.530</td>\n",
       "      <td>NaN</td>\n",
       "    </tr>\n",
       "    <tr>\n",
       "      <th>2018-11-06</th>\n",
       "      <td>NaN</td>\n",
       "      <td>0.000</td>\n",
       "    </tr>\n",
       "  </tbody>\n",
       "</table>\n",
       "</div>"
      ],
      "text/plain": [
       "              ADA   DOGE\n",
       "2018-11-01  0.547  0.745\n",
       "2018-11-02  0.000  0.000\n",
       "2018-11-03    NaN  0.718\n",
       "2018-11-04  0.135  0.845\n",
       "2018-11-05  0.530    NaN\n",
       "2018-11-06    NaN  0.000"
      ]
     },
     "execution_count": 157,
     "metadata": {},
     "output_type": "execute_result"
    }
   ],
   "source": [
    "# Подменить значения\n",
    "price.replace({-1:0, -2:0})"
   ]
  },
  {
   "cell_type": "code",
   "execution_count": 158,
   "id": "bd574628",
   "metadata": {},
   "outputs": [],
   "source": [
    "del price"
   ]
  },
  {
   "cell_type": "markdown",
   "id": "46073a21",
   "metadata": {},
   "source": [
    "### 12. Слияния и конкатенации таблиц\n",
    "\n",
    "Если у вас есть две таблицы, то информацию в них можно объединить двумя способами: конкатенация (\"прилепить снизу новую таблицу\") и объединение (найти объединение записей таблиц если у них хранятся одни и те же значения в выбранных колонках)."
   ]
  },
  {
   "cell_type": "code",
   "execution_count": 159,
   "id": "2eb9efb1",
   "metadata": {},
   "outputs": [],
   "source": [
    "operations_old = pd.DataFrame(\n",
    "    data=[\n",
    "        ['DOGE', 'buy', 5000, 0.2],\n",
    "        ['BTC', 'buy', 10, 6000],\n",
    "        ['BTC', 'buy', 2.5, 5900],\n",
    "        ['DOGE', 'sell', 3000, 0.1],\n",
    "        ['BTC', 'sell', 4, 6200],\n",
    "    ],\n",
    "    columns=['symbol', 'type', 'amount', 'price']\n",
    ")\n",
    "\n",
    "operations_new = pd.DataFrame(\n",
    "    data=[\n",
    "        ['ETH', 'sell', 10, 400],\n",
    "        ['BTC', 'buy', 1, 5600],\n",
    "        ['ETH', 'buy', 20, 350],\n",
    "        ['ETH', 'sell', 10, 300],\n",
    "        ['DOGE', 'sell', 3000, 0.15]\n",
    "    ],\n",
    "    columns=['symbol', 'type', 'amount', 'price']\n",
    ")"
   ]
  },
  {
   "cell_type": "code",
   "execution_count": 160,
   "id": "15a1c4dd",
   "metadata": {},
   "outputs": [
    {
     "data": {
      "text/html": [
       "<div>\n",
       "<style scoped>\n",
       "    .dataframe tbody tr th:only-of-type {\n",
       "        vertical-align: middle;\n",
       "    }\n",
       "\n",
       "    .dataframe tbody tr th {\n",
       "        vertical-align: top;\n",
       "    }\n",
       "\n",
       "    .dataframe thead th {\n",
       "        text-align: right;\n",
       "    }\n",
       "</style>\n",
       "<table border=\"1\" class=\"dataframe\">\n",
       "  <thead>\n",
       "    <tr style=\"text-align: right;\">\n",
       "      <th></th>\n",
       "      <th>symbol</th>\n",
       "      <th>type</th>\n",
       "      <th>amount</th>\n",
       "      <th>price</th>\n",
       "    </tr>\n",
       "  </thead>\n",
       "  <tbody>\n",
       "    <tr>\n",
       "      <th>0</th>\n",
       "      <td>DOGE</td>\n",
       "      <td>buy</td>\n",
       "      <td>5000.0</td>\n",
       "      <td>0.20</td>\n",
       "    </tr>\n",
       "    <tr>\n",
       "      <th>1</th>\n",
       "      <td>BTC</td>\n",
       "      <td>buy</td>\n",
       "      <td>10.0</td>\n",
       "      <td>6000.00</td>\n",
       "    </tr>\n",
       "    <tr>\n",
       "      <th>2</th>\n",
       "      <td>BTC</td>\n",
       "      <td>buy</td>\n",
       "      <td>2.5</td>\n",
       "      <td>5900.00</td>\n",
       "    </tr>\n",
       "    <tr>\n",
       "      <th>3</th>\n",
       "      <td>DOGE</td>\n",
       "      <td>sell</td>\n",
       "      <td>3000.0</td>\n",
       "      <td>0.10</td>\n",
       "    </tr>\n",
       "    <tr>\n",
       "      <th>4</th>\n",
       "      <td>BTC</td>\n",
       "      <td>sell</td>\n",
       "      <td>4.0</td>\n",
       "      <td>6200.00</td>\n",
       "    </tr>\n",
       "    <tr>\n",
       "      <th>0</th>\n",
       "      <td>ETH</td>\n",
       "      <td>sell</td>\n",
       "      <td>10.0</td>\n",
       "      <td>400.00</td>\n",
       "    </tr>\n",
       "    <tr>\n",
       "      <th>1</th>\n",
       "      <td>BTC</td>\n",
       "      <td>buy</td>\n",
       "      <td>1.0</td>\n",
       "      <td>5600.00</td>\n",
       "    </tr>\n",
       "    <tr>\n",
       "      <th>2</th>\n",
       "      <td>ETH</td>\n",
       "      <td>buy</td>\n",
       "      <td>20.0</td>\n",
       "      <td>350.00</td>\n",
       "    </tr>\n",
       "    <tr>\n",
       "      <th>3</th>\n",
       "      <td>ETH</td>\n",
       "      <td>sell</td>\n",
       "      <td>10.0</td>\n",
       "      <td>300.00</td>\n",
       "    </tr>\n",
       "    <tr>\n",
       "      <th>4</th>\n",
       "      <td>DOGE</td>\n",
       "      <td>sell</td>\n",
       "      <td>3000.0</td>\n",
       "      <td>0.15</td>\n",
       "    </tr>\n",
       "  </tbody>\n",
       "</table>\n",
       "</div>"
      ],
      "text/plain": [
       "  symbol  type  amount    price\n",
       "0   DOGE   buy  5000.0     0.20\n",
       "1    BTC   buy    10.0  6000.00\n",
       "2    BTC   buy     2.5  5900.00\n",
       "3   DOGE  sell  3000.0     0.10\n",
       "4    BTC  sell     4.0  6200.00\n",
       "0    ETH  sell    10.0   400.00\n",
       "1    BTC   buy     1.0  5600.00\n",
       "2    ETH   buy    20.0   350.00\n",
       "3    ETH  sell    10.0   300.00\n",
       "4   DOGE  sell  3000.0     0.15"
      ]
     },
     "execution_count": 160,
     "metadata": {},
     "output_type": "execute_result"
    }
   ],
   "source": [
    "#  Сконкатенировать таблицы в указанном порядке\n",
    "pd.concat([operations_old, operations_new])"
   ]
  },
  {
   "cell_type": "code",
   "execution_count": 161,
   "id": "5ce52883",
   "metadata": {},
   "outputs": [
    {
     "data": {
      "text/html": [
       "<div>\n",
       "<style scoped>\n",
       "    .dataframe tbody tr th:only-of-type {\n",
       "        vertical-align: middle;\n",
       "    }\n",
       "\n",
       "    .dataframe tbody tr th {\n",
       "        vertical-align: top;\n",
       "    }\n",
       "\n",
       "    .dataframe thead th {\n",
       "        text-align: right;\n",
       "    }\n",
       "</style>\n",
       "<table border=\"1\" class=\"dataframe\">\n",
       "  <thead>\n",
       "    <tr style=\"text-align: right;\">\n",
       "      <th></th>\n",
       "      <th></th>\n",
       "      <th>symbol</th>\n",
       "      <th>type</th>\n",
       "      <th>amount</th>\n",
       "      <th>price</th>\n",
       "    </tr>\n",
       "  </thead>\n",
       "  <tbody>\n",
       "    <tr>\n",
       "      <th rowspan=\"5\" valign=\"top\">old</th>\n",
       "      <th>0</th>\n",
       "      <td>DOGE</td>\n",
       "      <td>buy</td>\n",
       "      <td>5000.0</td>\n",
       "      <td>0.20</td>\n",
       "    </tr>\n",
       "    <tr>\n",
       "      <th>1</th>\n",
       "      <td>BTC</td>\n",
       "      <td>buy</td>\n",
       "      <td>10.0</td>\n",
       "      <td>6000.00</td>\n",
       "    </tr>\n",
       "    <tr>\n",
       "      <th>2</th>\n",
       "      <td>BTC</td>\n",
       "      <td>buy</td>\n",
       "      <td>2.5</td>\n",
       "      <td>5900.00</td>\n",
       "    </tr>\n",
       "    <tr>\n",
       "      <th>3</th>\n",
       "      <td>DOGE</td>\n",
       "      <td>sell</td>\n",
       "      <td>3000.0</td>\n",
       "      <td>0.10</td>\n",
       "    </tr>\n",
       "    <tr>\n",
       "      <th>4</th>\n",
       "      <td>BTC</td>\n",
       "      <td>sell</td>\n",
       "      <td>4.0</td>\n",
       "      <td>6200.00</td>\n",
       "    </tr>\n",
       "    <tr>\n",
       "      <th rowspan=\"5\" valign=\"top\">new</th>\n",
       "      <th>0</th>\n",
       "      <td>ETH</td>\n",
       "      <td>sell</td>\n",
       "      <td>10.0</td>\n",
       "      <td>400.00</td>\n",
       "    </tr>\n",
       "    <tr>\n",
       "      <th>1</th>\n",
       "      <td>BTC</td>\n",
       "      <td>buy</td>\n",
       "      <td>1.0</td>\n",
       "      <td>5600.00</td>\n",
       "    </tr>\n",
       "    <tr>\n",
       "      <th>2</th>\n",
       "      <td>ETH</td>\n",
       "      <td>buy</td>\n",
       "      <td>20.0</td>\n",
       "      <td>350.00</td>\n",
       "    </tr>\n",
       "    <tr>\n",
       "      <th>3</th>\n",
       "      <td>ETH</td>\n",
       "      <td>sell</td>\n",
       "      <td>10.0</td>\n",
       "      <td>300.00</td>\n",
       "    </tr>\n",
       "    <tr>\n",
       "      <th>4</th>\n",
       "      <td>DOGE</td>\n",
       "      <td>sell</td>\n",
       "      <td>3000.0</td>\n",
       "      <td>0.15</td>\n",
       "    </tr>\n",
       "  </tbody>\n",
       "</table>\n",
       "</div>"
      ],
      "text/plain": [
       "      symbol  type  amount    price\n",
       "old 0   DOGE   buy  5000.0     0.20\n",
       "    1    BTC   buy    10.0  6000.00\n",
       "    2    BTC   buy     2.5  5900.00\n",
       "    3   DOGE  sell  3000.0     0.10\n",
       "    4    BTC  sell     4.0  6200.00\n",
       "new 0    ETH  sell    10.0   400.00\n",
       "    1    BTC   buy     1.0  5600.00\n",
       "    2    ETH   buy    20.0   350.00\n",
       "    3    ETH  sell    10.0   300.00\n",
       "    4   DOGE  sell  3000.0     0.15"
      ]
     },
     "execution_count": 161,
     "metadata": {},
     "output_type": "execute_result"
    }
   ],
   "source": [
    "# При конкатенации таблицам можно назначать теги чтобы понимать, где какая таблица\n",
    "pd.concat([operations_old, operations_new], keys=['old', 'new'])"
   ]
  },
  {
   "cell_type": "code",
   "execution_count": 162,
   "id": "072caaf8",
   "metadata": {},
   "outputs": [
    {
     "data": {
      "text/html": [
       "<div>\n",
       "<style scoped>\n",
       "    .dataframe tbody tr th:only-of-type {\n",
       "        vertical-align: middle;\n",
       "    }\n",
       "\n",
       "    .dataframe tbody tr th {\n",
       "        vertical-align: top;\n",
       "    }\n",
       "\n",
       "    .dataframe thead th {\n",
       "        text-align: right;\n",
       "    }\n",
       "</style>\n",
       "<table border=\"1\" class=\"dataframe\">\n",
       "  <thead>\n",
       "    <tr style=\"text-align: right;\">\n",
       "      <th></th>\n",
       "      <th>symbol</th>\n",
       "      <th>type</th>\n",
       "      <th>amount</th>\n",
       "      <th>price</th>\n",
       "    </tr>\n",
       "  </thead>\n",
       "  <tbody>\n",
       "    <tr>\n",
       "      <th>0</th>\n",
       "      <td>ETH</td>\n",
       "      <td>sell</td>\n",
       "      <td>10.0</td>\n",
       "      <td>400.00</td>\n",
       "    </tr>\n",
       "    <tr>\n",
       "      <th>1</th>\n",
       "      <td>BTC</td>\n",
       "      <td>buy</td>\n",
       "      <td>1.0</td>\n",
       "      <td>5600.00</td>\n",
       "    </tr>\n",
       "    <tr>\n",
       "      <th>2</th>\n",
       "      <td>ETH</td>\n",
       "      <td>buy</td>\n",
       "      <td>20.0</td>\n",
       "      <td>350.00</td>\n",
       "    </tr>\n",
       "    <tr>\n",
       "      <th>3</th>\n",
       "      <td>ETH</td>\n",
       "      <td>sell</td>\n",
       "      <td>10.0</td>\n",
       "      <td>300.00</td>\n",
       "    </tr>\n",
       "    <tr>\n",
       "      <th>4</th>\n",
       "      <td>DOGE</td>\n",
       "      <td>sell</td>\n",
       "      <td>3000.0</td>\n",
       "      <td>0.15</td>\n",
       "    </tr>\n",
       "    <tr>\n",
       "      <th>5</th>\n",
       "      <td>DOGE</td>\n",
       "      <td>buy</td>\n",
       "      <td>5000.0</td>\n",
       "      <td>0.20</td>\n",
       "    </tr>\n",
       "    <tr>\n",
       "      <th>6</th>\n",
       "      <td>BTC</td>\n",
       "      <td>buy</td>\n",
       "      <td>10.0</td>\n",
       "      <td>6000.00</td>\n",
       "    </tr>\n",
       "    <tr>\n",
       "      <th>7</th>\n",
       "      <td>BTC</td>\n",
       "      <td>buy</td>\n",
       "      <td>2.5</td>\n",
       "      <td>5900.00</td>\n",
       "    </tr>\n",
       "    <tr>\n",
       "      <th>8</th>\n",
       "      <td>DOGE</td>\n",
       "      <td>sell</td>\n",
       "      <td>3000.0</td>\n",
       "      <td>0.10</td>\n",
       "    </tr>\n",
       "    <tr>\n",
       "      <th>9</th>\n",
       "      <td>BTC</td>\n",
       "      <td>sell</td>\n",
       "      <td>4.0</td>\n",
       "      <td>6200.00</td>\n",
       "    </tr>\n",
       "  </tbody>\n",
       "</table>\n",
       "</div>"
      ],
      "text/plain": [
       "  symbol  type  amount    price\n",
       "0    ETH  sell    10.0   400.00\n",
       "1    BTC   buy     1.0  5600.00\n",
       "2    ETH   buy    20.0   350.00\n",
       "3    ETH  sell    10.0   300.00\n",
       "4   DOGE  sell  3000.0     0.15\n",
       "5   DOGE   buy  5000.0     0.20\n",
       "6    BTC   buy    10.0  6000.00\n",
       "7    BTC   buy     2.5  5900.00\n",
       "8   DOGE  sell  3000.0     0.10\n",
       "9    BTC  sell     4.0  6200.00"
      ]
     },
     "execution_count": 162,
     "metadata": {},
     "output_type": "execute_result"
    }
   ],
   "source": [
    "# Как видно при конкатенации индексы старых таблиц копируются. \n",
    "# Если вам не нужно это поведение, используйте ignore_index\n",
    "operations = pd.concat([operations_new, operations_old], ignore_index=True)\n",
    "operations"
   ]
  },
  {
   "cell_type": "markdown",
   "id": "2620435a",
   "metadata": {},
   "source": [
    "Данные можно собирать вместе и более умным способом. А именно, вы выбираете какие колонки вас интересуют. Далее если есть записи из двух таблиц у котороых в выбранных колонках значения совпадают мы их \"объединяем\". Это очень упрощенное объяснение. В pandas эта операция называется merge в SQL - join. Делать объединение можно разными сопособами, поэтому возникает несколько стратегий: left, right, inner и full."
   ]
  },
  {
   "cell_type": "code",
   "execution_count": 163,
   "id": "00edd766",
   "metadata": {},
   "outputs": [
    {
     "data": {
      "text/html": [
       "<div>\n",
       "<style scoped>\n",
       "    .dataframe tbody tr th:only-of-type {\n",
       "        vertical-align: middle;\n",
       "    }\n",
       "\n",
       "    .dataframe tbody tr th {\n",
       "        vertical-align: top;\n",
       "    }\n",
       "\n",
       "    .dataframe thead th {\n",
       "        text-align: right;\n",
       "    }\n",
       "</style>\n",
       "<table border=\"1\" class=\"dataframe\">\n",
       "  <thead>\n",
       "    <tr style=\"text-align: right;\">\n",
       "      <th></th>\n",
       "      <th>symbol</th>\n",
       "      <th>type</th>\n",
       "      <th>user</th>\n",
       "    </tr>\n",
       "  </thead>\n",
       "  <tbody>\n",
       "    <tr>\n",
       "      <th>0</th>\n",
       "      <td>DOGE</td>\n",
       "      <td>sell</td>\n",
       "      <td>Rockfeller</td>\n",
       "    </tr>\n",
       "    <tr>\n",
       "      <th>1</th>\n",
       "      <td>DOGE</td>\n",
       "      <td>buy</td>\n",
       "      <td>J.P. Morgan</td>\n",
       "    </tr>\n",
       "    <tr>\n",
       "      <th>2</th>\n",
       "      <td>BTC</td>\n",
       "      <td>buy</td>\n",
       "      <td>John Doe</td>\n",
       "    </tr>\n",
       "    <tr>\n",
       "      <th>3</th>\n",
       "      <td>ADA</td>\n",
       "      <td>sell</td>\n",
       "      <td>Rick</td>\n",
       "    </tr>\n",
       "    <tr>\n",
       "      <th>4</th>\n",
       "      <td>ETH</td>\n",
       "      <td>buy</td>\n",
       "      <td>Morty</td>\n",
       "    </tr>\n",
       "  </tbody>\n",
       "</table>\n",
       "</div>"
      ],
      "text/plain": [
       "  symbol  type         user\n",
       "0   DOGE  sell   Rockfeller\n",
       "1   DOGE   buy  J.P. Morgan\n",
       "2    BTC   buy     John Doe\n",
       "3    ADA  sell         Rick\n",
       "4    ETH   buy        Morty"
      ]
     },
     "execution_count": 163,
     "metadata": {},
     "output_type": "execute_result"
    }
   ],
   "source": [
    "transactions = pd.DataFrame(\n",
    "    data=[\n",
    "        ['DOGE', 'sell', 'Rockfeller'],\n",
    "        ['DOGE', 'buy', 'J.P. Morgan'],\n",
    "        ['BTC', 'buy', 'John Doe'],\n",
    "        ['ADA', 'sell', 'Rick'],\n",
    "        ['ETH', 'buy', 'Morty']\n",
    "    ],\n",
    "    columns=['symbol', 'type', 'user']\n",
    ")\n",
    "transactions"
   ]
  },
  {
   "cell_type": "code",
   "execution_count": 164,
   "id": "f590f1e2",
   "metadata": {},
   "outputs": [
    {
     "data": {
      "text/html": [
       "<div>\n",
       "<style scoped>\n",
       "    .dataframe tbody tr th:only-of-type {\n",
       "        vertical-align: middle;\n",
       "    }\n",
       "\n",
       "    .dataframe tbody tr th {\n",
       "        vertical-align: top;\n",
       "    }\n",
       "\n",
       "    .dataframe thead th {\n",
       "        text-align: right;\n",
       "    }\n",
       "</style>\n",
       "<table border=\"1\" class=\"dataframe\">\n",
       "  <thead>\n",
       "    <tr style=\"text-align: right;\">\n",
       "      <th></th>\n",
       "      <th>symbol</th>\n",
       "      <th>type</th>\n",
       "      <th>amount</th>\n",
       "      <th>price</th>\n",
       "      <th>user</th>\n",
       "    </tr>\n",
       "  </thead>\n",
       "  <tbody>\n",
       "    <tr>\n",
       "      <th>0</th>\n",
       "      <td>BTC</td>\n",
       "      <td>buy</td>\n",
       "      <td>1.0</td>\n",
       "      <td>5600.00</td>\n",
       "      <td>John Doe</td>\n",
       "    </tr>\n",
       "    <tr>\n",
       "      <th>1</th>\n",
       "      <td>BTC</td>\n",
       "      <td>buy</td>\n",
       "      <td>10.0</td>\n",
       "      <td>6000.00</td>\n",
       "      <td>John Doe</td>\n",
       "    </tr>\n",
       "    <tr>\n",
       "      <th>2</th>\n",
       "      <td>BTC</td>\n",
       "      <td>buy</td>\n",
       "      <td>2.5</td>\n",
       "      <td>5900.00</td>\n",
       "      <td>John Doe</td>\n",
       "    </tr>\n",
       "    <tr>\n",
       "      <th>3</th>\n",
       "      <td>ETH</td>\n",
       "      <td>buy</td>\n",
       "      <td>20.0</td>\n",
       "      <td>350.00</td>\n",
       "      <td>Morty</td>\n",
       "    </tr>\n",
       "    <tr>\n",
       "      <th>4</th>\n",
       "      <td>DOGE</td>\n",
       "      <td>sell</td>\n",
       "      <td>3000.0</td>\n",
       "      <td>0.15</td>\n",
       "      <td>Rockfeller</td>\n",
       "    </tr>\n",
       "    <tr>\n",
       "      <th>5</th>\n",
       "      <td>DOGE</td>\n",
       "      <td>sell</td>\n",
       "      <td>3000.0</td>\n",
       "      <td>0.10</td>\n",
       "      <td>Rockfeller</td>\n",
       "    </tr>\n",
       "    <tr>\n",
       "      <th>6</th>\n",
       "      <td>DOGE</td>\n",
       "      <td>buy</td>\n",
       "      <td>5000.0</td>\n",
       "      <td>0.20</td>\n",
       "      <td>J.P. Morgan</td>\n",
       "    </tr>\n",
       "  </tbody>\n",
       "</table>\n",
       "</div>"
      ],
      "text/plain": [
       "  symbol  type  amount    price         user\n",
       "0    BTC   buy     1.0  5600.00     John Doe\n",
       "1    BTC   buy    10.0  6000.00     John Doe\n",
       "2    BTC   buy     2.5  5900.00     John Doe\n",
       "3    ETH   buy    20.0   350.00        Morty\n",
       "4   DOGE  sell  3000.0     0.15   Rockfeller\n",
       "5   DOGE  sell  3000.0     0.10   Rockfeller\n",
       "6   DOGE   buy  5000.0     0.20  J.P. Morgan"
      ]
     },
     "execution_count": 164,
     "metadata": {},
     "output_type": "execute_result"
    }
   ],
   "source": [
    "# Объединение таблиц по типу монеты и операции\n",
    "# По умолчанию производится inner join остаются записи в которых были полные совпадения\n",
    "pd.merge(operations, transactions, on=['symbol', 'type'])"
   ]
  },
  {
   "cell_type": "code",
   "execution_count": 165,
   "id": "38d8c913",
   "metadata": {},
   "outputs": [
    {
     "data": {
      "text/html": [
       "<div>\n",
       "<style scoped>\n",
       "    .dataframe tbody tr th:only-of-type {\n",
       "        vertical-align: middle;\n",
       "    }\n",
       "\n",
       "    .dataframe tbody tr th {\n",
       "        vertical-align: top;\n",
       "    }\n",
       "\n",
       "    .dataframe thead th {\n",
       "        text-align: right;\n",
       "    }\n",
       "</style>\n",
       "<table border=\"1\" class=\"dataframe\">\n",
       "  <thead>\n",
       "    <tr style=\"text-align: right;\">\n",
       "      <th></th>\n",
       "      <th>symbol</th>\n",
       "      <th>type</th>\n",
       "      <th>amount</th>\n",
       "      <th>price</th>\n",
       "      <th>user</th>\n",
       "    </tr>\n",
       "  </thead>\n",
       "  <tbody>\n",
       "    <tr>\n",
       "      <th>0</th>\n",
       "      <td>ETH</td>\n",
       "      <td>sell</td>\n",
       "      <td>10.0</td>\n",
       "      <td>400.00</td>\n",
       "      <td>NaN</td>\n",
       "    </tr>\n",
       "    <tr>\n",
       "      <th>1</th>\n",
       "      <td>BTC</td>\n",
       "      <td>buy</td>\n",
       "      <td>1.0</td>\n",
       "      <td>5600.00</td>\n",
       "      <td>John Doe</td>\n",
       "    </tr>\n",
       "    <tr>\n",
       "      <th>2</th>\n",
       "      <td>ETH</td>\n",
       "      <td>buy</td>\n",
       "      <td>20.0</td>\n",
       "      <td>350.00</td>\n",
       "      <td>Morty</td>\n",
       "    </tr>\n",
       "    <tr>\n",
       "      <th>3</th>\n",
       "      <td>ETH</td>\n",
       "      <td>sell</td>\n",
       "      <td>10.0</td>\n",
       "      <td>300.00</td>\n",
       "      <td>NaN</td>\n",
       "    </tr>\n",
       "    <tr>\n",
       "      <th>4</th>\n",
       "      <td>DOGE</td>\n",
       "      <td>sell</td>\n",
       "      <td>3000.0</td>\n",
       "      <td>0.15</td>\n",
       "      <td>Rockfeller</td>\n",
       "    </tr>\n",
       "    <tr>\n",
       "      <th>5</th>\n",
       "      <td>DOGE</td>\n",
       "      <td>buy</td>\n",
       "      <td>5000.0</td>\n",
       "      <td>0.20</td>\n",
       "      <td>J.P. Morgan</td>\n",
       "    </tr>\n",
       "    <tr>\n",
       "      <th>6</th>\n",
       "      <td>BTC</td>\n",
       "      <td>buy</td>\n",
       "      <td>10.0</td>\n",
       "      <td>6000.00</td>\n",
       "      <td>John Doe</td>\n",
       "    </tr>\n",
       "    <tr>\n",
       "      <th>7</th>\n",
       "      <td>BTC</td>\n",
       "      <td>buy</td>\n",
       "      <td>2.5</td>\n",
       "      <td>5900.00</td>\n",
       "      <td>John Doe</td>\n",
       "    </tr>\n",
       "    <tr>\n",
       "      <th>8</th>\n",
       "      <td>DOGE</td>\n",
       "      <td>sell</td>\n",
       "      <td>3000.0</td>\n",
       "      <td>0.10</td>\n",
       "      <td>Rockfeller</td>\n",
       "    </tr>\n",
       "    <tr>\n",
       "      <th>9</th>\n",
       "      <td>BTC</td>\n",
       "      <td>sell</td>\n",
       "      <td>4.0</td>\n",
       "      <td>6200.00</td>\n",
       "      <td>NaN</td>\n",
       "    </tr>\n",
       "  </tbody>\n",
       "</table>\n",
       "</div>"
      ],
      "text/plain": [
       "  symbol  type  amount    price         user\n",
       "0    ETH  sell    10.0   400.00          NaN\n",
       "1    BTC   buy     1.0  5600.00     John Doe\n",
       "2    ETH   buy    20.0   350.00        Morty\n",
       "3    ETH  sell    10.0   300.00          NaN\n",
       "4   DOGE  sell  3000.0     0.15   Rockfeller\n",
       "5   DOGE   buy  5000.0     0.20  J.P. Morgan\n",
       "6    BTC   buy    10.0  6000.00     John Doe\n",
       "7    BTC   buy     2.5  5900.00     John Doe\n",
       "8   DOGE  sell  3000.0     0.10   Rockfeller\n",
       "9    BTC  sell     4.0  6200.00          NaN"
      ]
     },
     "execution_count": 165,
     "metadata": {},
     "output_type": "execute_result"
    }
   ],
   "source": [
    "# Левый join таблиц - все записи из первой таблицы остаются и к ним присоединяются записи из правой.\n",
    "# Аналогично работает правый join\n",
    "pd.merge(operations, transactions, on=['symbol', 'type'], how='left')"
   ]
  },
  {
   "cell_type": "code",
   "execution_count": 166,
   "id": "d75b97e5",
   "metadata": {},
   "outputs": [
    {
     "data": {
      "text/html": [
       "<div>\n",
       "<style scoped>\n",
       "    .dataframe tbody tr th:only-of-type {\n",
       "        vertical-align: middle;\n",
       "    }\n",
       "\n",
       "    .dataframe tbody tr th {\n",
       "        vertical-align: top;\n",
       "    }\n",
       "\n",
       "    .dataframe thead th {\n",
       "        text-align: right;\n",
       "    }\n",
       "</style>\n",
       "<table border=\"1\" class=\"dataframe\">\n",
       "  <thead>\n",
       "    <tr style=\"text-align: right;\">\n",
       "      <th></th>\n",
       "      <th>symbol</th>\n",
       "      <th>type</th>\n",
       "      <th>amount</th>\n",
       "      <th>price</th>\n",
       "      <th>user</th>\n",
       "    </tr>\n",
       "  </thead>\n",
       "  <tbody>\n",
       "    <tr>\n",
       "      <th>0</th>\n",
       "      <td>ETH</td>\n",
       "      <td>sell</td>\n",
       "      <td>10.0</td>\n",
       "      <td>400.00</td>\n",
       "      <td>NaN</td>\n",
       "    </tr>\n",
       "    <tr>\n",
       "      <th>1</th>\n",
       "      <td>ETH</td>\n",
       "      <td>sell</td>\n",
       "      <td>10.0</td>\n",
       "      <td>300.00</td>\n",
       "      <td>NaN</td>\n",
       "    </tr>\n",
       "    <tr>\n",
       "      <th>2</th>\n",
       "      <td>BTC</td>\n",
       "      <td>buy</td>\n",
       "      <td>1.0</td>\n",
       "      <td>5600.00</td>\n",
       "      <td>John Doe</td>\n",
       "    </tr>\n",
       "    <tr>\n",
       "      <th>3</th>\n",
       "      <td>BTC</td>\n",
       "      <td>buy</td>\n",
       "      <td>10.0</td>\n",
       "      <td>6000.00</td>\n",
       "      <td>John Doe</td>\n",
       "    </tr>\n",
       "    <tr>\n",
       "      <th>4</th>\n",
       "      <td>BTC</td>\n",
       "      <td>buy</td>\n",
       "      <td>2.5</td>\n",
       "      <td>5900.00</td>\n",
       "      <td>John Doe</td>\n",
       "    </tr>\n",
       "    <tr>\n",
       "      <th>...</th>\n",
       "      <td>...</td>\n",
       "      <td>...</td>\n",
       "      <td>...</td>\n",
       "      <td>...</td>\n",
       "      <td>...</td>\n",
       "    </tr>\n",
       "    <tr>\n",
       "      <th>6</th>\n",
       "      <td>DOGE</td>\n",
       "      <td>sell</td>\n",
       "      <td>3000.0</td>\n",
       "      <td>0.15</td>\n",
       "      <td>Rockfeller</td>\n",
       "    </tr>\n",
       "    <tr>\n",
       "      <th>7</th>\n",
       "      <td>DOGE</td>\n",
       "      <td>sell</td>\n",
       "      <td>3000.0</td>\n",
       "      <td>0.10</td>\n",
       "      <td>Rockfeller</td>\n",
       "    </tr>\n",
       "    <tr>\n",
       "      <th>8</th>\n",
       "      <td>DOGE</td>\n",
       "      <td>buy</td>\n",
       "      <td>5000.0</td>\n",
       "      <td>0.20</td>\n",
       "      <td>J.P. Morgan</td>\n",
       "    </tr>\n",
       "    <tr>\n",
       "      <th>9</th>\n",
       "      <td>BTC</td>\n",
       "      <td>sell</td>\n",
       "      <td>4.0</td>\n",
       "      <td>6200.00</td>\n",
       "      <td>NaN</td>\n",
       "    </tr>\n",
       "    <tr>\n",
       "      <th>10</th>\n",
       "      <td>ADA</td>\n",
       "      <td>sell</td>\n",
       "      <td>NaN</td>\n",
       "      <td>NaN</td>\n",
       "      <td>Rick</td>\n",
       "    </tr>\n",
       "  </tbody>\n",
       "</table>\n",
       "<p>11 rows × 5 columns</p>\n",
       "</div>"
      ],
      "text/plain": [
       "   symbol  type  amount    price         user\n",
       "0     ETH  sell    10.0   400.00          NaN\n",
       "1     ETH  sell    10.0   300.00          NaN\n",
       "2     BTC   buy     1.0  5600.00     John Doe\n",
       "3     BTC   buy    10.0  6000.00     John Doe\n",
       "4     BTC   buy     2.5  5900.00     John Doe\n",
       "..    ...   ...     ...      ...          ...\n",
       "6    DOGE  sell  3000.0     0.15   Rockfeller\n",
       "7    DOGE  sell  3000.0     0.10   Rockfeller\n",
       "8    DOGE   buy  5000.0     0.20  J.P. Morgan\n",
       "9     BTC  sell     4.0  6200.00          NaN\n",
       "10    ADA  sell     NaN      NaN         Rick\n",
       "\n",
       "[11 rows x 5 columns]"
      ]
     },
     "execution_count": 166,
     "metadata": {},
     "output_type": "execute_result"
    }
   ],
   "source": [
    "# Outer join - собираем вместе записи из обеих таблиц\n",
    "pd.merge(operations, transactions, on=['symbol', 'type'], how='outer')"
   ]
  },
  {
   "cell_type": "markdown",
   "id": "fab19650",
   "metadata": {},
   "source": [
    "### 13. Чтение таблиц\n",
    "\n",
    "Чтобы данные анализировать их надо где-то взять. Для этого в pandas есть множество функций. Все их названия начинаются с префикса 'read_'. Мы разберем функцию read_csv."
   ]
  },
  {
   "cell_type": "code",
   "execution_count": 167,
   "id": "8add1d62",
   "metadata": {},
   "outputs": [
    {
     "data": {
      "text/html": [
       "<div>\n",
       "<style scoped>\n",
       "    .dataframe tbody tr th:only-of-type {\n",
       "        vertical-align: middle;\n",
       "    }\n",
       "\n",
       "    .dataframe tbody tr th {\n",
       "        vertical-align: top;\n",
       "    }\n",
       "\n",
       "    .dataframe thead th {\n",
       "        text-align: right;\n",
       "    }\n",
       "</style>\n",
       "<table border=\"1\" class=\"dataframe\">\n",
       "  <thead>\n",
       "    <tr style=\"text-align: right;\">\n",
       "      <th></th>\n",
       "      <th>date</th>\n",
       "      <th>price</th>\n",
       "      <th>txCount</th>\n",
       "      <th>txVolume</th>\n",
       "      <th>activeAddresses</th>\n",
       "      <th>symbol</th>\n",
       "      <th>name</th>\n",
       "      <th>open</th>\n",
       "      <th>high</th>\n",
       "      <th>low</th>\n",
       "      <th>close</th>\n",
       "      <th>volume</th>\n",
       "      <th>market</th>\n",
       "    </tr>\n",
       "  </thead>\n",
       "  <tbody>\n",
       "    <tr>\n",
       "      <th>0</th>\n",
       "      <td>2013-04-28</td>\n",
       "      <td>135.300000</td>\n",
       "      <td>41702.0</td>\n",
       "      <td>6.879868e+07</td>\n",
       "      <td>117984.0</td>\n",
       "      <td>BTC</td>\n",
       "      <td>Bitcoin</td>\n",
       "      <td>135.300000</td>\n",
       "      <td>135.980000</td>\n",
       "      <td>132.100000</td>\n",
       "      <td>134.210000</td>\n",
       "      <td>0.0</td>\n",
       "      <td>1.500520e+09</td>\n",
       "    </tr>\n",
       "    <tr>\n",
       "      <th>1</th>\n",
       "      <td>2013-04-28</td>\n",
       "      <td>4.300000</td>\n",
       "      <td>9174.0</td>\n",
       "      <td>4.431952e+07</td>\n",
       "      <td>17216.0</td>\n",
       "      <td>LTC</td>\n",
       "      <td>Litecoin</td>\n",
       "      <td>4.300000</td>\n",
       "      <td>4.400000</td>\n",
       "      <td>4.180000</td>\n",
       "      <td>4.350000</td>\n",
       "      <td>0.0</td>\n",
       "      <td>7.377340e+07</td>\n",
       "    </tr>\n",
       "    <tr>\n",
       "      <th>2</th>\n",
       "      <td>2013-04-29</td>\n",
       "      <td>134.440000</td>\n",
       "      <td>51602.0</td>\n",
       "      <td>1.138128e+08</td>\n",
       "      <td>86925.0</td>\n",
       "      <td>BTC</td>\n",
       "      <td>Bitcoin</td>\n",
       "      <td>134.440000</td>\n",
       "      <td>147.490000</td>\n",
       "      <td>134.000000</td>\n",
       "      <td>144.540000</td>\n",
       "      <td>0.0</td>\n",
       "      <td>1.491160e+09</td>\n",
       "    </tr>\n",
       "    <tr>\n",
       "      <th>3</th>\n",
       "      <td>2013-04-29</td>\n",
       "      <td>4.370000</td>\n",
       "      <td>9275.0</td>\n",
       "      <td>3.647810e+07</td>\n",
       "      <td>18395.0</td>\n",
       "      <td>LTC</td>\n",
       "      <td>Litecoin</td>\n",
       "      <td>4.370000</td>\n",
       "      <td>4.570000</td>\n",
       "      <td>4.230000</td>\n",
       "      <td>4.380000</td>\n",
       "      <td>0.0</td>\n",
       "      <td>7.495270e+07</td>\n",
       "    </tr>\n",
       "    <tr>\n",
       "      <th>4</th>\n",
       "      <td>2013-04-30</td>\n",
       "      <td>144.000000</td>\n",
       "      <td>47450.0</td>\n",
       "      <td>8.426632e+07</td>\n",
       "      <td>76871.0</td>\n",
       "      <td>BTC</td>\n",
       "      <td>Bitcoin</td>\n",
       "      <td>144.000000</td>\n",
       "      <td>146.930000</td>\n",
       "      <td>134.050000</td>\n",
       "      <td>139.000000</td>\n",
       "      <td>0.0</td>\n",
       "      <td>1.597780e+09</td>\n",
       "    </tr>\n",
       "    <tr>\n",
       "      <th>...</th>\n",
       "      <td>...</td>\n",
       "      <td>...</td>\n",
       "      <td>...</td>\n",
       "      <td>...</td>\n",
       "      <td>...</td>\n",
       "      <td>...</td>\n",
       "      <td>...</td>\n",
       "      <td>...</td>\n",
       "      <td>...</td>\n",
       "      <td>...</td>\n",
       "      <td>...</td>\n",
       "      <td>...</td>\n",
       "      <td>...</td>\n",
       "    </tr>\n",
       "    <tr>\n",
       "      <th>37583</th>\n",
       "      <td>2018-06-06</td>\n",
       "      <td>0.293325</td>\n",
       "      <td>4830.0</td>\n",
       "      <td>2.312763e+05</td>\n",
       "      <td>659.0</td>\n",
       "      <td>XLM</td>\n",
       "      <td>Stellar</td>\n",
       "      <td>0.293325</td>\n",
       "      <td>0.299955</td>\n",
       "      <td>0.289500</td>\n",
       "      <td>0.298269</td>\n",
       "      <td>51165000.0</td>\n",
       "      <td>5.450080e+09</td>\n",
       "    </tr>\n",
       "    <tr>\n",
       "      <th>37584</th>\n",
       "      <td>2018-06-06</td>\n",
       "      <td>0.039586</td>\n",
       "      <td>7205.0</td>\n",
       "      <td>4.947760e+06</td>\n",
       "      <td>18228.0</td>\n",
       "      <td>XVG</td>\n",
       "      <td>Verge</td>\n",
       "      <td>0.039586</td>\n",
       "      <td>0.039737</td>\n",
       "      <td>0.037680</td>\n",
       "      <td>0.038797</td>\n",
       "      <td>9307450.0</td>\n",
       "      <td>5.959400e+08</td>\n",
       "    </tr>\n",
       "    <tr>\n",
       "      <th>37585</th>\n",
       "      <td>2018-06-06</td>\n",
       "      <td>239.760000</td>\n",
       "      <td>10687.0</td>\n",
       "      <td>3.986308e+07</td>\n",
       "      <td>96516.0</td>\n",
       "      <td>ZEC</td>\n",
       "      <td>Zcash</td>\n",
       "      <td>239.750000</td>\n",
       "      <td>240.340000</td>\n",
       "      <td>229.210000</td>\n",
       "      <td>236.050000</td>\n",
       "      <td>56887000.0</td>\n",
       "      <td>9.769940e+08</td>\n",
       "    </tr>\n",
       "    <tr>\n",
       "      <th>37586</th>\n",
       "      <td>2018-06-06</td>\n",
       "      <td>0.127555</td>\n",
       "      <td>1313.0</td>\n",
       "      <td>1.596436e+07</td>\n",
       "      <td>733.0</td>\n",
       "      <td>ZIL</td>\n",
       "      <td>Zilliqa</td>\n",
       "      <td>0.127555</td>\n",
       "      <td>0.133254</td>\n",
       "      <td>0.124194</td>\n",
       "      <td>0.131766</td>\n",
       "      <td>54667900.0</td>\n",
       "      <td>9.348810e+08</td>\n",
       "    </tr>\n",
       "    <tr>\n",
       "      <th>37587</th>\n",
       "      <td>2018-06-06</td>\n",
       "      <td>1.270000</td>\n",
       "      <td>795.0</td>\n",
       "      <td>6.094435e+06</td>\n",
       "      <td>599.0</td>\n",
       "      <td>ZRX</td>\n",
       "      <td>0x</td>\n",
       "      <td>1.270000</td>\n",
       "      <td>1.340000</td>\n",
       "      <td>1.250000</td>\n",
       "      <td>1.330000</td>\n",
       "      <td>17778000.0</td>\n",
       "      <td>6.741510e+08</td>\n",
       "    </tr>\n",
       "  </tbody>\n",
       "</table>\n",
       "<p>37588 rows × 13 columns</p>\n",
       "</div>"
      ],
      "text/plain": [
       "             date       price  txCount      txVolume  activeAddresses symbol  \\\n",
       "0      2013-04-28  135.300000  41702.0  6.879868e+07         117984.0    BTC   \n",
       "1      2013-04-28    4.300000   9174.0  4.431952e+07          17216.0    LTC   \n",
       "2      2013-04-29  134.440000  51602.0  1.138128e+08          86925.0    BTC   \n",
       "3      2013-04-29    4.370000   9275.0  3.647810e+07          18395.0    LTC   \n",
       "4      2013-04-30  144.000000  47450.0  8.426632e+07          76871.0    BTC   \n",
       "...           ...         ...      ...           ...              ...    ...   \n",
       "37583  2018-06-06    0.293325   4830.0  2.312763e+05            659.0    XLM   \n",
       "37584  2018-06-06    0.039586   7205.0  4.947760e+06          18228.0    XVG   \n",
       "37585  2018-06-06  239.760000  10687.0  3.986308e+07          96516.0    ZEC   \n",
       "37586  2018-06-06    0.127555   1313.0  1.596436e+07            733.0    ZIL   \n",
       "37587  2018-06-06    1.270000    795.0  6.094435e+06            599.0    ZRX   \n",
       "\n",
       "           name        open        high         low       close      volume  \\\n",
       "0       Bitcoin  135.300000  135.980000  132.100000  134.210000         0.0   \n",
       "1      Litecoin    4.300000    4.400000    4.180000    4.350000         0.0   \n",
       "2       Bitcoin  134.440000  147.490000  134.000000  144.540000         0.0   \n",
       "3      Litecoin    4.370000    4.570000    4.230000    4.380000         0.0   \n",
       "4       Bitcoin  144.000000  146.930000  134.050000  139.000000         0.0   \n",
       "...         ...         ...         ...         ...         ...         ...   \n",
       "37583   Stellar    0.293325    0.299955    0.289500    0.298269  51165000.0   \n",
       "37584     Verge    0.039586    0.039737    0.037680    0.038797   9307450.0   \n",
       "37585     Zcash  239.750000  240.340000  229.210000  236.050000  56887000.0   \n",
       "37586   Zilliqa    0.127555    0.133254    0.124194    0.131766  54667900.0   \n",
       "37587        0x    1.270000    1.340000    1.250000    1.330000  17778000.0   \n",
       "\n",
       "             market  \n",
       "0      1.500520e+09  \n",
       "1      7.377340e+07  \n",
       "2      1.491160e+09  \n",
       "3      7.495270e+07  \n",
       "4      1.597780e+09  \n",
       "...             ...  \n",
       "37583  5.450080e+09  \n",
       "37584  5.959400e+08  \n",
       "37585  9.769940e+08  \n",
       "37586  9.348810e+08  \n",
       "37587  6.741510e+08  \n",
       "\n",
       "[37588 rows x 13 columns]"
      ]
     },
     "execution_count": 167,
     "metadata": {},
     "output_type": "execute_result"
    }
   ],
   "source": [
    "# Прочитать таблицу ни о чем не задумываясь\n",
    "pd.read_csv('coins.csv')"
   ]
  },
  {
   "cell_type": "code",
   "execution_count": 168,
   "id": "cd3d0e4f",
   "metadata": {},
   "outputs": [
    {
     "data": {
      "text/html": [
       "<div>\n",
       "<style scoped>\n",
       "    .dataframe tbody tr th:only-of-type {\n",
       "        vertical-align: middle;\n",
       "    }\n",
       "\n",
       "    .dataframe tbody tr th {\n",
       "        vertical-align: top;\n",
       "    }\n",
       "\n",
       "    .dataframe thead th {\n",
       "        text-align: right;\n",
       "    }\n",
       "</style>\n",
       "<table border=\"1\" class=\"dataframe\">\n",
       "  <thead>\n",
       "    <tr style=\"text-align: right;\">\n",
       "      <th></th>\n",
       "      <th>price</th>\n",
       "      <th>txCount</th>\n",
       "      <th>txVolume</th>\n",
       "      <th>activeAddresses</th>\n",
       "      <th>symbol</th>\n",
       "      <th>name</th>\n",
       "      <th>open</th>\n",
       "      <th>high</th>\n",
       "      <th>low</th>\n",
       "      <th>close</th>\n",
       "      <th>volume</th>\n",
       "      <th>market</th>\n",
       "    </tr>\n",
       "    <tr>\n",
       "      <th>date</th>\n",
       "      <th></th>\n",
       "      <th></th>\n",
       "      <th></th>\n",
       "      <th></th>\n",
       "      <th></th>\n",
       "      <th></th>\n",
       "      <th></th>\n",
       "      <th></th>\n",
       "      <th></th>\n",
       "      <th></th>\n",
       "      <th></th>\n",
       "      <th></th>\n",
       "    </tr>\n",
       "  </thead>\n",
       "  <tbody>\n",
       "    <tr>\n",
       "      <th>2013-04-28</th>\n",
       "      <td>135.300000</td>\n",
       "      <td>41702.0</td>\n",
       "      <td>6.879868e+07</td>\n",
       "      <td>117984.0</td>\n",
       "      <td>BTC</td>\n",
       "      <td>Bitcoin</td>\n",
       "      <td>135.300000</td>\n",
       "      <td>135.980000</td>\n",
       "      <td>132.100000</td>\n",
       "      <td>134.210000</td>\n",
       "      <td>0.0</td>\n",
       "      <td>1.500520e+09</td>\n",
       "    </tr>\n",
       "    <tr>\n",
       "      <th>2013-04-28</th>\n",
       "      <td>4.300000</td>\n",
       "      <td>9174.0</td>\n",
       "      <td>4.431952e+07</td>\n",
       "      <td>17216.0</td>\n",
       "      <td>LTC</td>\n",
       "      <td>Litecoin</td>\n",
       "      <td>4.300000</td>\n",
       "      <td>4.400000</td>\n",
       "      <td>4.180000</td>\n",
       "      <td>4.350000</td>\n",
       "      <td>0.0</td>\n",
       "      <td>7.377340e+07</td>\n",
       "    </tr>\n",
       "    <tr>\n",
       "      <th>2013-04-29</th>\n",
       "      <td>134.440000</td>\n",
       "      <td>51602.0</td>\n",
       "      <td>1.138128e+08</td>\n",
       "      <td>86925.0</td>\n",
       "      <td>BTC</td>\n",
       "      <td>Bitcoin</td>\n",
       "      <td>134.440000</td>\n",
       "      <td>147.490000</td>\n",
       "      <td>134.000000</td>\n",
       "      <td>144.540000</td>\n",
       "      <td>0.0</td>\n",
       "      <td>1.491160e+09</td>\n",
       "    </tr>\n",
       "    <tr>\n",
       "      <th>2013-04-29</th>\n",
       "      <td>4.370000</td>\n",
       "      <td>9275.0</td>\n",
       "      <td>3.647810e+07</td>\n",
       "      <td>18395.0</td>\n",
       "      <td>LTC</td>\n",
       "      <td>Litecoin</td>\n",
       "      <td>4.370000</td>\n",
       "      <td>4.570000</td>\n",
       "      <td>4.230000</td>\n",
       "      <td>4.380000</td>\n",
       "      <td>0.0</td>\n",
       "      <td>7.495270e+07</td>\n",
       "    </tr>\n",
       "    <tr>\n",
       "      <th>2013-04-30</th>\n",
       "      <td>144.000000</td>\n",
       "      <td>47450.0</td>\n",
       "      <td>8.426632e+07</td>\n",
       "      <td>76871.0</td>\n",
       "      <td>BTC</td>\n",
       "      <td>Bitcoin</td>\n",
       "      <td>144.000000</td>\n",
       "      <td>146.930000</td>\n",
       "      <td>134.050000</td>\n",
       "      <td>139.000000</td>\n",
       "      <td>0.0</td>\n",
       "      <td>1.597780e+09</td>\n",
       "    </tr>\n",
       "    <tr>\n",
       "      <th>...</th>\n",
       "      <td>...</td>\n",
       "      <td>...</td>\n",
       "      <td>...</td>\n",
       "      <td>...</td>\n",
       "      <td>...</td>\n",
       "      <td>...</td>\n",
       "      <td>...</td>\n",
       "      <td>...</td>\n",
       "      <td>...</td>\n",
       "      <td>...</td>\n",
       "      <td>...</td>\n",
       "      <td>...</td>\n",
       "    </tr>\n",
       "    <tr>\n",
       "      <th>2018-06-06</th>\n",
       "      <td>0.293325</td>\n",
       "      <td>4830.0</td>\n",
       "      <td>2.312763e+05</td>\n",
       "      <td>659.0</td>\n",
       "      <td>XLM</td>\n",
       "      <td>Stellar</td>\n",
       "      <td>0.293325</td>\n",
       "      <td>0.299955</td>\n",
       "      <td>0.289500</td>\n",
       "      <td>0.298269</td>\n",
       "      <td>51165000.0</td>\n",
       "      <td>5.450080e+09</td>\n",
       "    </tr>\n",
       "    <tr>\n",
       "      <th>2018-06-06</th>\n",
       "      <td>0.039586</td>\n",
       "      <td>7205.0</td>\n",
       "      <td>4.947760e+06</td>\n",
       "      <td>18228.0</td>\n",
       "      <td>XVG</td>\n",
       "      <td>Verge</td>\n",
       "      <td>0.039586</td>\n",
       "      <td>0.039737</td>\n",
       "      <td>0.037680</td>\n",
       "      <td>0.038797</td>\n",
       "      <td>9307450.0</td>\n",
       "      <td>5.959400e+08</td>\n",
       "    </tr>\n",
       "    <tr>\n",
       "      <th>2018-06-06</th>\n",
       "      <td>239.760000</td>\n",
       "      <td>10687.0</td>\n",
       "      <td>3.986308e+07</td>\n",
       "      <td>96516.0</td>\n",
       "      <td>ZEC</td>\n",
       "      <td>Zcash</td>\n",
       "      <td>239.750000</td>\n",
       "      <td>240.340000</td>\n",
       "      <td>229.210000</td>\n",
       "      <td>236.050000</td>\n",
       "      <td>56887000.0</td>\n",
       "      <td>9.769940e+08</td>\n",
       "    </tr>\n",
       "    <tr>\n",
       "      <th>2018-06-06</th>\n",
       "      <td>0.127555</td>\n",
       "      <td>1313.0</td>\n",
       "      <td>1.596436e+07</td>\n",
       "      <td>733.0</td>\n",
       "      <td>ZIL</td>\n",
       "      <td>Zilliqa</td>\n",
       "      <td>0.127555</td>\n",
       "      <td>0.133254</td>\n",
       "      <td>0.124194</td>\n",
       "      <td>0.131766</td>\n",
       "      <td>54667900.0</td>\n",
       "      <td>9.348810e+08</td>\n",
       "    </tr>\n",
       "    <tr>\n",
       "      <th>2018-06-06</th>\n",
       "      <td>1.270000</td>\n",
       "      <td>795.0</td>\n",
       "      <td>6.094435e+06</td>\n",
       "      <td>599.0</td>\n",
       "      <td>ZRX</td>\n",
       "      <td>0x</td>\n",
       "      <td>1.270000</td>\n",
       "      <td>1.340000</td>\n",
       "      <td>1.250000</td>\n",
       "      <td>1.330000</td>\n",
       "      <td>17778000.0</td>\n",
       "      <td>6.741510e+08</td>\n",
       "    </tr>\n",
       "  </tbody>\n",
       "</table>\n",
       "<p>37588 rows × 12 columns</p>\n",
       "</div>"
      ],
      "text/plain": [
       "                 price  txCount      txVolume  activeAddresses symbol  \\\n",
       "date                                                                    \n",
       "2013-04-28  135.300000  41702.0  6.879868e+07         117984.0    BTC   \n",
       "2013-04-28    4.300000   9174.0  4.431952e+07          17216.0    LTC   \n",
       "2013-04-29  134.440000  51602.0  1.138128e+08          86925.0    BTC   \n",
       "2013-04-29    4.370000   9275.0  3.647810e+07          18395.0    LTC   \n",
       "2013-04-30  144.000000  47450.0  8.426632e+07          76871.0    BTC   \n",
       "...                ...      ...           ...              ...    ...   \n",
       "2018-06-06    0.293325   4830.0  2.312763e+05            659.0    XLM   \n",
       "2018-06-06    0.039586   7205.0  4.947760e+06          18228.0    XVG   \n",
       "2018-06-06  239.760000  10687.0  3.986308e+07          96516.0    ZEC   \n",
       "2018-06-06    0.127555   1313.0  1.596436e+07            733.0    ZIL   \n",
       "2018-06-06    1.270000    795.0  6.094435e+06            599.0    ZRX   \n",
       "\n",
       "                name        open        high         low       close  \\\n",
       "date                                                                   \n",
       "2013-04-28   Bitcoin  135.300000  135.980000  132.100000  134.210000   \n",
       "2013-04-28  Litecoin    4.300000    4.400000    4.180000    4.350000   \n",
       "2013-04-29   Bitcoin  134.440000  147.490000  134.000000  144.540000   \n",
       "2013-04-29  Litecoin    4.370000    4.570000    4.230000    4.380000   \n",
       "2013-04-30   Bitcoin  144.000000  146.930000  134.050000  139.000000   \n",
       "...              ...         ...         ...         ...         ...   \n",
       "2018-06-06   Stellar    0.293325    0.299955    0.289500    0.298269   \n",
       "2018-06-06     Verge    0.039586    0.039737    0.037680    0.038797   \n",
       "2018-06-06     Zcash  239.750000  240.340000  229.210000  236.050000   \n",
       "2018-06-06   Zilliqa    0.127555    0.133254    0.124194    0.131766   \n",
       "2018-06-06        0x    1.270000    1.340000    1.250000    1.330000   \n",
       "\n",
       "                volume        market  \n",
       "date                                  \n",
       "2013-04-28         0.0  1.500520e+09  \n",
       "2013-04-28         0.0  7.377340e+07  \n",
       "2013-04-29         0.0  1.491160e+09  \n",
       "2013-04-29         0.0  7.495270e+07  \n",
       "2013-04-30         0.0  1.597780e+09  \n",
       "...                ...           ...  \n",
       "2018-06-06  51165000.0  5.450080e+09  \n",
       "2018-06-06   9307450.0  5.959400e+08  \n",
       "2018-06-06  56887000.0  9.769940e+08  \n",
       "2018-06-06  54667900.0  9.348810e+08  \n",
       "2018-06-06  17778000.0  6.741510e+08  \n",
       "\n",
       "[37588 rows x 12 columns]"
      ]
     },
     "execution_count": 168,
     "metadata": {},
     "output_type": "execute_result"
    }
   ],
   "source": [
    "# Прочитать таблицу и использовать колонку date как индекс \n",
    "pd.read_csv('coins.csv', index_col='date')"
   ]
  },
  {
   "cell_type": "code",
   "execution_count": 169,
   "id": "4ede6cd4",
   "metadata": {},
   "outputs": [
    {
     "data": {
      "text/html": [
       "<div>\n",
       "<style scoped>\n",
       "    .dataframe tbody tr th:only-of-type {\n",
       "        vertical-align: middle;\n",
       "    }\n",
       "\n",
       "    .dataframe tbody tr th {\n",
       "        vertical-align: top;\n",
       "    }\n",
       "\n",
       "    .dataframe thead th {\n",
       "        text-align: right;\n",
       "    }\n",
       "</style>\n",
       "<table border=\"1\" class=\"dataframe\">\n",
       "  <thead>\n",
       "    <tr style=\"text-align: right;\">\n",
       "      <th></th>\n",
       "      <th>date</th>\n",
       "      <th>price</th>\n",
       "      <th>txCount</th>\n",
       "      <th>txVolume</th>\n",
       "      <th>activeAddresses</th>\n",
       "      <th>symbol</th>\n",
       "      <th>name</th>\n",
       "      <th>open</th>\n",
       "      <th>high</th>\n",
       "      <th>low</th>\n",
       "      <th>close</th>\n",
       "      <th>volume</th>\n",
       "      <th>market</th>\n",
       "    </tr>\n",
       "  </thead>\n",
       "  <tbody>\n",
       "    <tr>\n",
       "      <th>0</th>\n",
       "      <td>2013-04-28</td>\n",
       "      <td>135.300000</td>\n",
       "      <td>41702.0</td>\n",
       "      <td>6.879868e+07</td>\n",
       "      <td>117984.0</td>\n",
       "      <td>BTC</td>\n",
       "      <td>Bitcoin</td>\n",
       "      <td>135.300000</td>\n",
       "      <td>135.980000</td>\n",
       "      <td>132.100000</td>\n",
       "      <td>134.210000</td>\n",
       "      <td>0.0</td>\n",
       "      <td>1.500520e+09</td>\n",
       "    </tr>\n",
       "    <tr>\n",
       "      <th>1</th>\n",
       "      <td>2013-04-28</td>\n",
       "      <td>4.300000</td>\n",
       "      <td>9174.0</td>\n",
       "      <td>4.431952e+07</td>\n",
       "      <td>17216.0</td>\n",
       "      <td>LTC</td>\n",
       "      <td>Litecoin</td>\n",
       "      <td>4.300000</td>\n",
       "      <td>4.400000</td>\n",
       "      <td>4.180000</td>\n",
       "      <td>4.350000</td>\n",
       "      <td>0.0</td>\n",
       "      <td>7.377340e+07</td>\n",
       "    </tr>\n",
       "    <tr>\n",
       "      <th>2</th>\n",
       "      <td>2013-04-29</td>\n",
       "      <td>134.440000</td>\n",
       "      <td>51602.0</td>\n",
       "      <td>1.138128e+08</td>\n",
       "      <td>86925.0</td>\n",
       "      <td>BTC</td>\n",
       "      <td>Bitcoin</td>\n",
       "      <td>134.440000</td>\n",
       "      <td>147.490000</td>\n",
       "      <td>134.000000</td>\n",
       "      <td>144.540000</td>\n",
       "      <td>0.0</td>\n",
       "      <td>1.491160e+09</td>\n",
       "    </tr>\n",
       "    <tr>\n",
       "      <th>3</th>\n",
       "      <td>2013-04-29</td>\n",
       "      <td>4.370000</td>\n",
       "      <td>9275.0</td>\n",
       "      <td>3.647810e+07</td>\n",
       "      <td>18395.0</td>\n",
       "      <td>LTC</td>\n",
       "      <td>Litecoin</td>\n",
       "      <td>4.370000</td>\n",
       "      <td>4.570000</td>\n",
       "      <td>4.230000</td>\n",
       "      <td>4.380000</td>\n",
       "      <td>0.0</td>\n",
       "      <td>7.495270e+07</td>\n",
       "    </tr>\n",
       "    <tr>\n",
       "      <th>4</th>\n",
       "      <td>2013-04-30</td>\n",
       "      <td>144.000000</td>\n",
       "      <td>47450.0</td>\n",
       "      <td>8.426632e+07</td>\n",
       "      <td>76871.0</td>\n",
       "      <td>BTC</td>\n",
       "      <td>Bitcoin</td>\n",
       "      <td>144.000000</td>\n",
       "      <td>146.930000</td>\n",
       "      <td>134.050000</td>\n",
       "      <td>139.000000</td>\n",
       "      <td>0.0</td>\n",
       "      <td>1.597780e+09</td>\n",
       "    </tr>\n",
       "    <tr>\n",
       "      <th>...</th>\n",
       "      <td>...</td>\n",
       "      <td>...</td>\n",
       "      <td>...</td>\n",
       "      <td>...</td>\n",
       "      <td>...</td>\n",
       "      <td>...</td>\n",
       "      <td>...</td>\n",
       "      <td>...</td>\n",
       "      <td>...</td>\n",
       "      <td>...</td>\n",
       "      <td>...</td>\n",
       "      <td>...</td>\n",
       "      <td>...</td>\n",
       "    </tr>\n",
       "    <tr>\n",
       "      <th>37583</th>\n",
       "      <td>2018-06-06</td>\n",
       "      <td>0.293325</td>\n",
       "      <td>4830.0</td>\n",
       "      <td>2.312763e+05</td>\n",
       "      <td>659.0</td>\n",
       "      <td>XLM</td>\n",
       "      <td>Stellar</td>\n",
       "      <td>0.293325</td>\n",
       "      <td>0.299955</td>\n",
       "      <td>0.289500</td>\n",
       "      <td>0.298269</td>\n",
       "      <td>51165000.0</td>\n",
       "      <td>5.450080e+09</td>\n",
       "    </tr>\n",
       "    <tr>\n",
       "      <th>37584</th>\n",
       "      <td>2018-06-06</td>\n",
       "      <td>0.039586</td>\n",
       "      <td>7205.0</td>\n",
       "      <td>4.947760e+06</td>\n",
       "      <td>18228.0</td>\n",
       "      <td>XVG</td>\n",
       "      <td>Verge</td>\n",
       "      <td>0.039586</td>\n",
       "      <td>0.039737</td>\n",
       "      <td>0.037680</td>\n",
       "      <td>0.038797</td>\n",
       "      <td>9307450.0</td>\n",
       "      <td>5.959400e+08</td>\n",
       "    </tr>\n",
       "    <tr>\n",
       "      <th>37585</th>\n",
       "      <td>2018-06-06</td>\n",
       "      <td>239.760000</td>\n",
       "      <td>10687.0</td>\n",
       "      <td>3.986308e+07</td>\n",
       "      <td>96516.0</td>\n",
       "      <td>ZEC</td>\n",
       "      <td>Zcash</td>\n",
       "      <td>239.750000</td>\n",
       "      <td>240.340000</td>\n",
       "      <td>229.210000</td>\n",
       "      <td>236.050000</td>\n",
       "      <td>56887000.0</td>\n",
       "      <td>9.769940e+08</td>\n",
       "    </tr>\n",
       "    <tr>\n",
       "      <th>37586</th>\n",
       "      <td>2018-06-06</td>\n",
       "      <td>0.127555</td>\n",
       "      <td>1313.0</td>\n",
       "      <td>1.596436e+07</td>\n",
       "      <td>733.0</td>\n",
       "      <td>ZIL</td>\n",
       "      <td>Zilliqa</td>\n",
       "      <td>0.127555</td>\n",
       "      <td>0.133254</td>\n",
       "      <td>0.124194</td>\n",
       "      <td>0.131766</td>\n",
       "      <td>54667900.0</td>\n",
       "      <td>9.348810e+08</td>\n",
       "    </tr>\n",
       "    <tr>\n",
       "      <th>37587</th>\n",
       "      <td>2018-06-06</td>\n",
       "      <td>1.270000</td>\n",
       "      <td>795.0</td>\n",
       "      <td>6.094435e+06</td>\n",
       "      <td>599.0</td>\n",
       "      <td>ZRX</td>\n",
       "      <td>0x</td>\n",
       "      <td>1.270000</td>\n",
       "      <td>1.340000</td>\n",
       "      <td>1.250000</td>\n",
       "      <td>1.330000</td>\n",
       "      <td>17778000.0</td>\n",
       "      <td>6.741510e+08</td>\n",
       "    </tr>\n",
       "  </tbody>\n",
       "</table>\n",
       "<p>37588 rows × 13 columns</p>\n",
       "</div>"
      ],
      "text/plain": [
       "             date       price  txCount      txVolume  activeAddresses symbol  \\\n",
       "0      2013-04-28  135.300000  41702.0  6.879868e+07         117984.0    BTC   \n",
       "1      2013-04-28    4.300000   9174.0  4.431952e+07          17216.0    LTC   \n",
       "2      2013-04-29  134.440000  51602.0  1.138128e+08          86925.0    BTC   \n",
       "3      2013-04-29    4.370000   9275.0  3.647810e+07          18395.0    LTC   \n",
       "4      2013-04-30  144.000000  47450.0  8.426632e+07          76871.0    BTC   \n",
       "...           ...         ...      ...           ...              ...    ...   \n",
       "37583  2018-06-06    0.293325   4830.0  2.312763e+05            659.0    XLM   \n",
       "37584  2018-06-06    0.039586   7205.0  4.947760e+06          18228.0    XVG   \n",
       "37585  2018-06-06  239.760000  10687.0  3.986308e+07          96516.0    ZEC   \n",
       "37586  2018-06-06    0.127555   1313.0  1.596436e+07            733.0    ZIL   \n",
       "37587  2018-06-06    1.270000    795.0  6.094435e+06            599.0    ZRX   \n",
       "\n",
       "           name        open        high         low       close      volume  \\\n",
       "0       Bitcoin  135.300000  135.980000  132.100000  134.210000         0.0   \n",
       "1      Litecoin    4.300000    4.400000    4.180000    4.350000         0.0   \n",
       "2       Bitcoin  134.440000  147.490000  134.000000  144.540000         0.0   \n",
       "3      Litecoin    4.370000    4.570000    4.230000    4.380000         0.0   \n",
       "4       Bitcoin  144.000000  146.930000  134.050000  139.000000         0.0   \n",
       "...         ...         ...         ...         ...         ...         ...   \n",
       "37583   Stellar    0.293325    0.299955    0.289500    0.298269  51165000.0   \n",
       "37584     Verge    0.039586    0.039737    0.037680    0.038797   9307450.0   \n",
       "37585     Zcash  239.750000  240.340000  229.210000  236.050000  56887000.0   \n",
       "37586   Zilliqa    0.127555    0.133254    0.124194    0.131766  54667900.0   \n",
       "37587        0x    1.270000    1.340000    1.250000    1.330000  17778000.0   \n",
       "\n",
       "             market  \n",
       "0      1.500520e+09  \n",
       "1      7.377340e+07  \n",
       "2      1.491160e+09  \n",
       "3      7.495270e+07  \n",
       "4      1.597780e+09  \n",
       "...             ...  \n",
       "37583  5.450080e+09  \n",
       "37584  5.959400e+08  \n",
       "37585  9.769940e+08  \n",
       "37586  9.348810e+08  \n",
       "37587  6.741510e+08  \n",
       "\n",
       "[37588 rows x 13 columns]"
      ]
     },
     "execution_count": 169,
     "metadata": {},
     "output_type": "execute_result"
    }
   ],
   "source": [
    "# Прочитать таблицу и дать pandas подсказки по поводу типов данных в колонках symbol и name\n",
    "pd.read_csv('coins.csv', dtype={'symbol': str, 'name': str})"
   ]
  },
  {
   "cell_type": "markdown",
   "id": "a3766444",
   "metadata": {},
   "source": [
    "### Запись таблиц"
   ]
  },
  {
   "cell_type": "code",
   "execution_count": 170,
   "id": "05c5d1fe",
   "metadata": {},
   "outputs": [],
   "source": [
    "coins = pd.read_csv('coins.csv')\n",
    "\n",
    "coins.to_csv('file_name.csv')"
   ]
  },
  {
   "cell_type": "markdown",
   "id": "d61f38bc",
   "metadata": {},
   "source": [
    "# NB\n",
    "\n",
    "\n",
    "## Другие инструменты работы с данными\n",
    "\n",
    "Если ваш датасет не слишком большой, то pandas это де-факто лучший инструмент в наличии. В противном случае есть альтернативы:\n",
    " - [numpy](http://www.numpy.org/) - библиотека для низкоуровневой работы с многомерными массивами из примитивных типов данных. Подходит для \"векторизованной\" обработки. Numpy - ваш последний шанс все еще писать на обычном питоне, без биндингов на С. Подходит для задач быстрой обработки не слишком больших данных. На самом деле внутри, pandas использует numpy.\n",
    " - [Graphlab](https://turi.com/) - Платная питоновская библиотека для работы как большими данными так и с маленькими датасетами. Данные представляются как SFrame объекты, во многом похожие на DataFrame из pandas.\n",
    " - [Hadoop](https://hadoop.apache.org/) - стек технологии для работы с очень большими данными, в частности есть классический MapReduce."
   ]
  },
  {
   "cell_type": "code",
   "execution_count": null,
   "id": "a23e272a",
   "metadata": {},
   "outputs": [],
   "source": []
  }
 ],
 "metadata": {
  "kernelspec": {
   "display_name": "Python 3 (ipykernel)",
   "language": "python",
   "name": "python3"
  },
  "language_info": {
   "codemirror_mode": {
    "name": "ipython",
    "version": 3
   },
   "file_extension": ".py",
   "mimetype": "text/x-python",
   "name": "python",
   "nbconvert_exporter": "python",
   "pygments_lexer": "ipython3",
   "version": "3.9.7"
  }
 },
 "nbformat": 4,
 "nbformat_minor": 5
}
