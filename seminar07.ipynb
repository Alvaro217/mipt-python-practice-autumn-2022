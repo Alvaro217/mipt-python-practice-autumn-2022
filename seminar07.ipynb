{
 "cells": [
  {
   "cell_type": "markdown",
   "id": "ed1439b3",
   "metadata": {},
   "source": [
    "## Практикум Python"
   ]
  },
  {
   "cell_type": "markdown",
   "id": "6fc2bb3c",
   "metadata": {},
   "source": [
    "### Тема 7. ООП\n",
    "\n",
    "\n",
    "**Определение** Объектно-ориентированное программирование - это методология прогрмааирования, основанная на представлении программы в виде совокупности взаимодействующих объектов, каждый из которых является экземпляром определённого класса, а классы образуют иерархию наследования."
   ]
  },
  {
   "cell_type": "code",
   "execution_count": 1,
   "id": "6483a427",
   "metadata": {},
   "outputs": [],
   "source": [
    "from IPython.core.interactiveshell import InteractiveShell\n",
    "InteractiveShell.ast_node_interactivity = \"all\""
   ]
  },
  {
   "cell_type": "markdown",
   "id": "83fbeb67",
   "metadata": {},
   "source": [
    "### Классы в Python\n",
    "\n",
    "#### Базовый синтаксис\n",
    "\n",
    "Создание класса:"
   ]
  },
  {
   "cell_type": "code",
   "execution_count": 2,
   "id": "e9faa97f",
   "metadata": {},
   "outputs": [],
   "source": [
    "class MyLittleClass():  # Можно указать классы, от которых наследуемся, по умолчанию - от object\n",
    "    color = \"blue\"  # Указываем атрибуты\n",
    "    \n",
    "    def set_color(self, color_):  # Указываем методы, 1й аргумент - объект\n",
    "        self.color = color_  # Для доступа к атрибутам и методам объекта нужно указывать self.\n",
    "        #color = color_  # Создаст просто локальную переменную, а не обновит содержимое атрибута\n",
    "        print('set color to {}'.format(self.color))"
   ]
  },
  {
   "cell_type": "markdown",
   "id": "17127c03",
   "metadata": {},
   "source": [
    "Создание объекта класса:"
   ]
  },
  {
   "cell_type": "code",
   "execution_count": 3,
   "id": "6d2d831e",
   "metadata": {},
   "outputs": [
    {
     "name": "stdout",
     "output_type": "stream",
     "text": [
      "blue\n",
      "set color to red\n",
      "red\n"
     ]
    }
   ],
   "source": [
    "obj = MyLittleClass()\n",
    "print(obj.color)\n",
    "\n",
    "obj.set_color('red')\n",
    "print(obj.color)"
   ]
  },
  {
   "cell_type": "markdown",
   "id": "92c15e19",
   "metadata": {},
   "source": [
    "Если хотим при создании объекта передать аргументы - используем `__init__`:"
   ]
  },
  {
   "cell_type": "code",
   "execution_count": 4,
   "id": "5b6a15a6",
   "metadata": {},
   "outputs": [],
   "source": [
    "class MyLittleClassAlter():\n",
    "    color = \"blue\"\n",
    "    \n",
    "    def __init__(self, color_):\n",
    "        self.color = color_\n",
    "    \n",
    "    def set_color(self, color_): \n",
    "        self.color = color_ \n",
    "        print('set color to {}'.format(self.color))"
   ]
  },
  {
   "cell_type": "markdown",
   "id": "312951ae",
   "metadata": {},
   "source": [
    "**Замечания** \n",
    "1. В Python различаются атрибуты класса и атрибуты объекта (т.к. в Python все является объектом):"
   ]
  },
  {
   "cell_type": "code",
   "execution_count": 5,
   "id": "b044ed77",
   "metadata": {},
   "outputs": [
    {
     "data": {
      "text/plain": [
       "'blue'"
      ]
     },
     "execution_count": 5,
     "metadata": {},
     "output_type": "execute_result"
    },
    {
     "data": {
      "text/plain": [
       "'red'"
      ]
     },
     "execution_count": 5,
     "metadata": {},
     "output_type": "execute_result"
    }
   ],
   "source": [
    "MyLittleClass.color\n",
    "obj.color"
   ]
  },
  {
   "cell_type": "markdown",
   "id": "6c33fbd8",
   "metadata": {},
   "source": [
    "2. Атрибуты можно менять динамически:"
   ]
  },
  {
   "cell_type": "code",
   "execution_count": 6,
   "id": "1a9e7257",
   "metadata": {},
   "outputs": [
    {
     "name": "stdout",
     "output_type": "stream",
     "text": [
      "green\n"
     ]
    }
   ],
   "source": [
    "obj.color = 'green'\n",
    "print(obj.color)"
   ]
  },
  {
   "cell_type": "markdown",
   "id": "2dd9ab71",
   "metadata": {},
   "source": [
    "Так лучше не делать, лучше писать методы-геттеры и методы-сеттеры."
   ]
  },
  {
   "cell_type": "code",
   "execution_count": 7,
   "id": "c5dcea59",
   "metadata": {},
   "outputs": [],
   "source": [
    "class MyLittleClass3():\n",
    "    color = \"blue\"\n",
    "    \n",
    "    def __init__(self, color_):\n",
    "        self.color = color_\n",
    "    \n",
    "    def set_color(self, color_): \n",
    "        self.color = color_ \n",
    "        print('set color to {}'.format(self.color))\n",
    "    \n",
    "    def get_color(self):\n",
    "        print('color is {}'.format(self.color))"
   ]
  },
  {
   "cell_type": "markdown",
   "id": "6b09ac45",
   "metadata": {},
   "source": [
    "Так же можно и динамически определять новые атрибуты, которых вообще не было в определении класса (но не для всех объектов):"
   ]
  },
  {
   "cell_type": "code",
   "execution_count": 8,
   "id": "405771ad",
   "metadata": {},
   "outputs": [
    {
     "name": "stdout",
     "output_type": "stream",
     "text": [
      "42\n"
     ]
    },
    {
     "ename": "AttributeError",
     "evalue": "'list' object has no attribute 'ff'",
     "output_type": "error",
     "traceback": [
      "\u001b[1;31m---------------------------------------------------------------------------\u001b[0m",
      "\u001b[1;31mAttributeError\u001b[0m                            Traceback (most recent call last)",
      "\u001b[1;32m~\\AppData\\Local\\Temp/ipykernel_23624/247281240.py\u001b[0m in \u001b[0;36m<module>\u001b[1;34m\u001b[0m\n\u001b[0;32m      3\u001b[0m \u001b[1;33m\u001b[0m\u001b[0m\n\u001b[0;32m      4\u001b[0m \u001b[0ma\u001b[0m \u001b[1;33m=\u001b[0m \u001b[0mlist\u001b[0m\u001b[1;33m(\u001b[0m\u001b[1;33m[\u001b[0m\u001b[1;36m1\u001b[0m\u001b[1;33m,\u001b[0m\u001b[1;36m2\u001b[0m\u001b[1;33m,\u001b[0m\u001b[1;36m3\u001b[0m\u001b[1;33m]\u001b[0m\u001b[1;33m)\u001b[0m\u001b[1;33m\u001b[0m\u001b[1;33m\u001b[0m\u001b[0m\n\u001b[1;32m----> 5\u001b[1;33m \u001b[0ma\u001b[0m\u001b[1;33m.\u001b[0m\u001b[0mff\u001b[0m \u001b[1;33m=\u001b[0m \u001b[1;36m24\u001b[0m\u001b[1;33m\u001b[0m\u001b[1;33m\u001b[0m\u001b[0m\n\u001b[0m\u001b[0;32m      6\u001b[0m \u001b[0mprint\u001b[0m\u001b[1;33m(\u001b[0m\u001b[0ma\u001b[0m\u001b[1;33m.\u001b[0m\u001b[0mff\u001b[0m\u001b[1;33m)\u001b[0m\u001b[1;33m\u001b[0m\u001b[1;33m\u001b[0m\u001b[0m\n",
      "\u001b[1;31mAttributeError\u001b[0m: 'list' object has no attribute 'ff'"
     ]
    }
   ],
   "source": [
    "obj.some_attribute = 42\n",
    "print(obj.some_attribute)\n",
    "\n",
    "a = list([1,2,3])\n",
    "a.ff = 24\n",
    "print(a.ff)"
   ]
  },
  {
   "cell_type": "markdown",
   "id": "f5572ffc",
   "metadata": {},
   "source": [
    "Для методов класса `self` всегда передается по умолчанию:"
   ]
  },
  {
   "cell_type": "code",
   "execution_count": 9,
   "id": "480dcbe5",
   "metadata": {},
   "outputs": [],
   "source": [
    "class MyLittleClass4:\n",
    "    def method_without_self(arg):\n",
    "        print(arg)\n",
    "        \n",
    "    def method_with_self(self, arg):\n",
    "        print(arg)"
   ]
  },
  {
   "cell_type": "code",
   "execution_count": 10,
   "id": "ec3ed90d",
   "metadata": {},
   "outputs": [
    {
     "name": "stdout",
     "output_type": "stream",
     "text": [
      "i am an argument\n"
     ]
    },
    {
     "ename": "TypeError",
     "evalue": "method_without_self() takes 1 positional argument but 2 were given",
     "output_type": "error",
     "traceback": [
      "\u001b[1;31m---------------------------------------------------------------------------\u001b[0m",
      "\u001b[1;31mTypeError\u001b[0m                                 Traceback (most recent call last)",
      "\u001b[1;32m~\\AppData\\Local\\Temp/ipykernel_23624/3244469906.py\u001b[0m in \u001b[0;36m<module>\u001b[1;34m\u001b[0m\n\u001b[0;32m      1\u001b[0m \u001b[0mobj\u001b[0m \u001b[1;33m=\u001b[0m \u001b[0mMyLittleClass4\u001b[0m\u001b[1;33m(\u001b[0m\u001b[1;33m)\u001b[0m\u001b[1;33m\u001b[0m\u001b[1;33m\u001b[0m\u001b[0m\n\u001b[0;32m      2\u001b[0m \u001b[0mobj\u001b[0m\u001b[1;33m.\u001b[0m\u001b[0mmethod_with_self\u001b[0m\u001b[1;33m(\u001b[0m\u001b[1;34m'i am an argument'\u001b[0m\u001b[1;33m)\u001b[0m\u001b[1;33m\u001b[0m\u001b[1;33m\u001b[0m\u001b[0m\n\u001b[1;32m----> 3\u001b[1;33m \u001b[0mobj\u001b[0m\u001b[1;33m.\u001b[0m\u001b[0mmethod_without_self\u001b[0m\u001b[1;33m(\u001b[0m\u001b[1;34m'i am another argument'\u001b[0m\u001b[1;33m)\u001b[0m\u001b[1;33m\u001b[0m\u001b[1;33m\u001b[0m\u001b[0m\n\u001b[0m",
      "\u001b[1;31mTypeError\u001b[0m: method_without_self() takes 1 positional argument but 2 were given"
     ]
    }
   ],
   "source": [
    "obj = MyLittleClass4()\n",
    "obj.method_with_self('i am an argument')\n",
    "obj.method_without_self('i am another argument')"
   ]
  },
  {
   "cell_type": "markdown",
   "id": "f487be73",
   "metadata": {},
   "source": [
    "Можно ли вызвать метод `method_without_self` без ошибки? Можно, если вызывать не для объекта, а для класса:"
   ]
  },
  {
   "cell_type": "code",
   "execution_count": 11,
   "id": "c36d975d",
   "metadata": {},
   "outputs": [
    {
     "name": "stdout",
     "output_type": "stream",
     "text": [
      "i am another argument\n"
     ]
    }
   ],
   "source": [
    "MyLittleClass4.method_without_self('i am another argument')"
   ]
  },
  {
   "cell_type": "markdown",
   "id": "e0ee5e80",
   "metadata": {},
   "source": [
    "Как и аргументы, можем \"оторвать\" и добавить методы к объекту:"
   ]
  },
  {
   "cell_type": "code",
   "execution_count": 12,
   "id": "1d052044",
   "metadata": {},
   "outputs": [
    {
     "name": "stdout",
     "output_type": "stream",
     "text": [
      "hello!\n"
     ]
    }
   ],
   "source": [
    "func = MyLittleClass4.method_without_self\n",
    "func('hello!')"
   ]
  },
  {
   "cell_type": "markdown",
   "id": "a14de4e6",
   "metadata": {},
   "source": [
    "Можем ли аналогично привязать `method_with_self`?"
   ]
  },
  {
   "cell_type": "code",
   "execution_count": 13,
   "id": "035af6d4",
   "metadata": {},
   "outputs": [
    {
     "name": "stdout",
     "output_type": "stream",
     "text": [
      "hello\n"
     ]
    }
   ],
   "source": [
    "func2 = MyLittleClass4.method_with_self\n",
    "obj = MyLittleClassAlter('red') \n",
    "func2(obj, \"hello\")  # нужно обязательно передать объект"
   ]
  },
  {
   "cell_type": "markdown",
   "id": "0826aa67",
   "metadata": {},
   "source": [
    "Можем и добавить объекту метод:"
   ]
  },
  {
   "cell_type": "code",
   "execution_count": 14,
   "id": "243c1608",
   "metadata": {},
   "outputs": [
    {
     "data": {
      "text/plain": [
       "'pink'"
      ]
     },
     "execution_count": 14,
     "metadata": {},
     "output_type": "execute_result"
    }
   ],
   "source": [
    "def get_color_fn(self):\n",
    "    return self.color\n",
    "\n",
    "MyLittleClass4.get_color = get_color_fn\n",
    "obj = MyLittleClass4()\n",
    "obj.color = 'pink'  # не забываем добавить атрибут color, его нет\n",
    "obj.get_color()"
   ]
  },
  {
   "cell_type": "markdown",
   "id": "7fdecdbd",
   "metadata": {},
   "source": [
    "### Функция `dir`:"
   ]
  },
  {
   "cell_type": "code",
   "execution_count": 15,
   "id": "a4c88e06",
   "metadata": {},
   "outputs": [
    {
     "name": "stdout",
     "output_type": "stream",
     "text": [
      "['__class__', '__delattr__', '__dict__', '__dir__', '__doc__', '__eq__', '__format__', '__ge__', '__getattribute__', '__gt__', '__hash__', '__init__', '__init_subclass__', '__le__', '__lt__', '__module__', '__ne__', '__new__', '__reduce__', '__reduce_ex__', '__repr__', '__setattr__', '__sizeof__', '__str__', '__subclasshook__', '__weakref__', 'color', 'get_color', 'method_with_self', 'method_without_self']\n"
     ]
    }
   ],
   "source": [
    "print(dir(obj))"
   ]
  },
  {
   "cell_type": "code",
   "execution_count": 16,
   "id": "bfba280e",
   "metadata": {},
   "outputs": [],
   "source": [
    "obj.extra = 17"
   ]
  },
  {
   "cell_type": "code",
   "execution_count": 18,
   "id": "bae14b1e",
   "metadata": {},
   "outputs": [
    {
     "name": "stdout",
     "output_type": "stream",
     "text": [
      "['__class__', '__delattr__', '__dict__', '__dir__', '__doc__', '__eq__', '__format__', '__ge__', '__getattribute__', '__gt__', '__hash__', '__init__', '__init_subclass__', '__le__', '__lt__', '__module__', '__ne__', '__new__', '__reduce__', '__reduce_ex__', '__repr__', '__setattr__', '__sizeof__', '__str__', '__subclasshook__', '__weakref__', 'color', 'extra', 'get_color', 'method_with_self', 'method_without_self']\n"
     ]
    }
   ],
   "source": [
    "print(dir(obj))"
   ]
  },
  {
   "cell_type": "markdown",
   "id": "b0e3ece9",
   "metadata": {},
   "source": [
    "Чтобы оставить только методы в выдаваемом списке, воспользуемся функцией `getattr` (для получения занчения атрибута по переменной) и функцией `callable` (проверяет можем ли \"вызвать\" объект как функцию):"
   ]
  },
  {
   "cell_type": "code",
   "execution_count": null,
   "id": "82cf47bf",
   "metadata": {},
   "outputs": [],
   "source": [
    "print('Methods:', [name for name in dir(obj) if callable(getattr(obj, name))])\n",
    "print('Attributes:', [name for name in dir(obj) if not callable(getattr(obj, name))])"
   ]
  },
  {
   "cell_type": "code",
   "execution_count": 19,
   "id": "b09c2788",
   "metadata": {},
   "outputs": [
    {
     "data": {
      "text/plain": [
       "False"
      ]
     },
     "execution_count": 19,
     "metadata": {},
     "output_type": "execute_result"
    }
   ],
   "source": [
    "callable(obj.color)"
   ]
  },
  {
   "cell_type": "code",
   "execution_count": 21,
   "id": "f1086ae8",
   "metadata": {},
   "outputs": [
    {
     "data": {
      "text/plain": [
       "['__add__',\n",
       " '__class__',\n",
       " '__contains__',\n",
       " '__delattr__',\n",
       " '__dir__',\n",
       " '__doc__',\n",
       " '__eq__',\n",
       " '__format__',\n",
       " '__ge__',\n",
       " '__getattribute__',\n",
       " '__getitem__',\n",
       " '__getnewargs__',\n",
       " '__gt__',\n",
       " '__hash__',\n",
       " '__init__',\n",
       " '__init_subclass__',\n",
       " '__iter__',\n",
       " '__le__',\n",
       " '__len__',\n",
       " '__lt__',\n",
       " '__mod__',\n",
       " '__mul__',\n",
       " '__ne__',\n",
       " '__new__',\n",
       " '__reduce__',\n",
       " '__reduce_ex__',\n",
       " '__repr__',\n",
       " '__rmod__',\n",
       " '__rmul__',\n",
       " '__setattr__',\n",
       " '__sizeof__',\n",
       " '__str__',\n",
       " '__subclasshook__',\n",
       " 'capitalize',\n",
       " 'casefold',\n",
       " 'center',\n",
       " 'count',\n",
       " 'encode',\n",
       " 'endswith',\n",
       " 'expandtabs',\n",
       " 'find',\n",
       " 'format',\n",
       " 'format_map',\n",
       " 'index',\n",
       " 'isalnum',\n",
       " 'isalpha',\n",
       " 'isascii',\n",
       " 'isdecimal',\n",
       " 'isdigit',\n",
       " 'isidentifier',\n",
       " 'islower',\n",
       " 'isnumeric',\n",
       " 'isprintable',\n",
       " 'isspace',\n",
       " 'istitle',\n",
       " 'isupper',\n",
       " 'join',\n",
       " 'ljust',\n",
       " 'lower',\n",
       " 'lstrip',\n",
       " 'maketrans',\n",
       " 'partition',\n",
       " 'removeprefix',\n",
       " 'removesuffix',\n",
       " 'replace',\n",
       " 'rfind',\n",
       " 'rindex',\n",
       " 'rjust',\n",
       " 'rpartition',\n",
       " 'rsplit',\n",
       " 'rstrip',\n",
       " 'split',\n",
       " 'splitlines',\n",
       " 'startswith',\n",
       " 'strip',\n",
       " 'swapcase',\n",
       " 'title',\n",
       " 'translate',\n",
       " 'upper',\n",
       " 'zfill']"
      ]
     },
     "execution_count": 21,
     "metadata": {},
     "output_type": "execute_result"
    }
   ],
   "source": [
    "dir(obj.color)"
   ]
  },
  {
   "cell_type": "markdown",
   "id": "d2cf7e29",
   "metadata": {},
   "source": [
    "`dir` без аргументов вернет список локальных объектов:"
   ]
  },
  {
   "cell_type": "code",
   "execution_count": 22,
   "id": "ccfa17ed",
   "metadata": {},
   "outputs": [
    {
     "name": "stdout",
     "output_type": "stream",
     "text": [
      "['In', 'InteractiveShell', 'MyLittleClass', 'MyLittleClass3', 'MyLittleClass4', 'MyLittleClassAlter', 'Out', '_', '_14', '_19', '_21', '_5', '__', '___', '__builtin__', '__builtins__', '__doc__', '__loader__', '__name__', '__package__', '__spec__', '_dh', '_i', '_i1', '_i10', '_i11', '_i12', '_i13', '_i14', '_i15', '_i16', '_i17', '_i18', '_i19', '_i2', '_i20', '_i21', '_i22', '_i3', '_i4', '_i5', '_i6', '_i7', '_i8', '_i9', '_ih', '_ii', '_iii', '_oh', 'a', 'exit', 'func', 'func2', 'get_color_fn', 'get_ipython', 'obj', 'quit']\n"
     ]
    }
   ],
   "source": [
    "print(dir())"
   ]
  },
  {
   "cell_type": "markdown",
   "id": "9450de3f",
   "metadata": {},
   "source": [
    "### Переопределение класса"
   ]
  },
  {
   "cell_type": "markdown",
   "id": "f0e756f8",
   "metadata": {},
   "source": [
    "Что будет, если сначала создадим экземпляр класса, а затем переопределим его атрибут? Проверим:"
   ]
  },
  {
   "cell_type": "code",
   "execution_count": 23,
   "id": "164ef7c2",
   "metadata": {},
   "outputs": [],
   "source": [
    "class MCLS:\n",
    "    attr1 = 'hello'"
   ]
  },
  {
   "cell_type": "code",
   "execution_count": 24,
   "id": "1d77540a",
   "metadata": {},
   "outputs": [
    {
     "data": {
      "text/plain": [
       "'hello'"
      ]
     },
     "execution_count": 24,
     "metadata": {},
     "output_type": "execute_result"
    }
   ],
   "source": [
    "obj = MCLS()\n",
    "obj.attr1"
   ]
  },
  {
   "cell_type": "code",
   "execution_count": 25,
   "id": "c2b3e1b3",
   "metadata": {},
   "outputs": [
    {
     "data": {
      "text/plain": [
       "'Hola!'"
      ]
     },
     "execution_count": 25,
     "metadata": {},
     "output_type": "execute_result"
    }
   ],
   "source": [
    "MCLS.attr1 = \"Hola!\"\n",
    "obj.attr1"
   ]
  },
  {
   "cell_type": "code",
   "execution_count": 26,
   "id": "1873b05e",
   "metadata": {},
   "outputs": [],
   "source": [
    "class MCLS:\n",
    "    attr1 = 'bye'"
   ]
  },
  {
   "cell_type": "code",
   "execution_count": 27,
   "id": "d246dae4",
   "metadata": {},
   "outputs": [
    {
     "data": {
      "text/plain": [
       "'bye'"
      ]
     },
     "execution_count": 27,
     "metadata": {},
     "output_type": "execute_result"
    }
   ],
   "source": [
    "obj2 = MCLS()\n",
    "obj2.attr1"
   ]
  },
  {
   "cell_type": "code",
   "execution_count": 28,
   "id": "1bab7ee5",
   "metadata": {},
   "outputs": [
    {
     "data": {
      "text/plain": [
       "'Hola!'"
      ]
     },
     "execution_count": 28,
     "metadata": {},
     "output_type": "execute_result"
    }
   ],
   "source": [
    "obj.attr1"
   ]
  },
  {
   "cell_type": "code",
   "execution_count": 29,
   "id": "a033d58c",
   "metadata": {},
   "outputs": [],
   "source": [
    "obj.__class__.attr1 = \"Aloha\""
   ]
  },
  {
   "cell_type": "code",
   "execution_count": 30,
   "id": "ecc4f451",
   "metadata": {},
   "outputs": [
    {
     "data": {
      "text/plain": [
       "'Aloha'"
      ]
     },
     "execution_count": 30,
     "metadata": {},
     "output_type": "execute_result"
    }
   ],
   "source": [
    "obj.attr1"
   ]
  },
  {
   "cell_type": "code",
   "execution_count": 34,
   "id": "f5805801",
   "metadata": {},
   "outputs": [
    {
     "data": {
      "text/plain": [
       "__main__.MCLS"
      ]
     },
     "execution_count": 34,
     "metadata": {},
     "output_type": "execute_result"
    }
   ],
   "source": [
    "MCLS = obj.__class__\n",
    "obj.__class__"
   ]
  },
  {
   "cell_type": "code",
   "execution_count": 32,
   "id": "549eb1e6",
   "metadata": {},
   "outputs": [
    {
     "ename": "TypeError",
     "evalue": "can't delete __class__ attribute",
     "output_type": "error",
     "traceback": [
      "\u001b[1;31m---------------------------------------------------------------------------\u001b[0m",
      "\u001b[1;31mTypeError\u001b[0m                                 Traceback (most recent call last)",
      "\u001b[1;32m~\\AppData\\Local\\Temp/ipykernel_23624/1709054904.py\u001b[0m in \u001b[0;36m<module>\u001b[1;34m\u001b[0m\n\u001b[1;32m----> 1\u001b[1;33m \u001b[1;32mdel\u001b[0m \u001b[0mobj\u001b[0m\u001b[1;33m.\u001b[0m\u001b[0m__class__\u001b[0m\u001b[1;33m\u001b[0m\u001b[1;33m\u001b[0m\u001b[0m\n\u001b[0m",
      "\u001b[1;31mTypeError\u001b[0m: can't delete __class__ attribute"
     ]
    }
   ],
   "source": [
    "del obj.__class__"
   ]
  },
  {
   "cell_type": "markdown",
   "id": "c43ab45f",
   "metadata": {},
   "source": [
    "### Методы и атрибуты по умолчанию\n",
    "\n",
    "Посмотрим какие методы и атрибуты создаются для класса и экземпляра по умолчанию. Для этого нам поможет функция `dir`:"
   ]
  },
  {
   "cell_type": "code",
   "execution_count": 35,
   "id": "37174277",
   "metadata": {},
   "outputs": [
    {
     "name": "stdout",
     "output_type": "stream",
     "text": [
      "Help on built-in function dir in module builtins:\n",
      "\n",
      "dir(...)\n",
      "    dir([object]) -> list of strings\n",
      "    \n",
      "    If called without an argument, return the names in the current scope.\n",
      "    Else, return an alphabetized list of names comprising (some of) the attributes\n",
      "    of the given object, and of attributes reachable from it.\n",
      "    If the object supplies a method named __dir__, it will be used; otherwise\n",
      "    the default dir() logic is used and returns:\n",
      "      for a module object: the module's attributes.\n",
      "      for a class object:  its attributes, and recursively the attributes\n",
      "        of its bases.\n",
      "      for any other object: its attributes, its class's attributes, and\n",
      "        recursively the attributes of its class's base classes.\n",
      "\n"
     ]
    }
   ],
   "source": [
    "help(dir)"
   ]
  },
  {
   "cell_type": "code",
   "execution_count": 36,
   "id": "e3fc71c8",
   "metadata": {},
   "outputs": [],
   "source": [
    "class ClassWithNothing:\n",
    "    pass"
   ]
  },
  {
   "cell_type": "code",
   "execution_count": 37,
   "id": "5cae63e7",
   "metadata": {},
   "outputs": [],
   "source": [
    "nobject = ClassWithNothing()"
   ]
  },
  {
   "cell_type": "markdown",
   "id": "5e95efdc",
   "metadata": {},
   "source": [
    "Напишем функцию для вывода атрибутов и методов:"
   ]
  },
  {
   "cell_type": "code",
   "execution_count": 38,
   "id": "58d1f9bf",
   "metadata": {},
   "outputs": [],
   "source": [
    "def print_custom_attrs(obj=None):\n",
    "    if obj is None:\n",
    "        # в локальной области видимости!\n",
    "        attrs = dir()\n",
    "    else:\n",
    "        attrs = dir(obj)\n",
    "    print([name for name in attrs if not name.startswith('__')])  # Исключаем служебные методы"
   ]
  },
  {
   "cell_type": "code",
   "execution_count": 39,
   "id": "473c39a1",
   "metadata": {},
   "outputs": [
    {
     "name": "stdout",
     "output_type": "stream",
     "text": [
      "Help on method_descriptor:\n",
      "\n",
      "startswith(...)\n",
      "    S.startswith(prefix[, start[, end]]) -> bool\n",
      "    \n",
      "    Return True if S starts with the specified prefix, False otherwise.\n",
      "    With optional start, test S beginning at that position.\n",
      "    With optional end, stop comparing S at that position.\n",
      "    prefix can also be a tuple of strings to try.\n",
      "\n"
     ]
    }
   ],
   "source": [
    "help(str.startswith)"
   ]
  },
  {
   "cell_type": "markdown",
   "id": "d2ec6975",
   "metadata": {},
   "source": [
    "Посмотрим на работу функции `print_custom_attrs`:"
   ]
  },
  {
   "cell_type": "code",
   "execution_count": 40,
   "id": "1f990a9a",
   "metadata": {},
   "outputs": [
    {
     "name": "stdout",
     "output_type": "stream",
     "text": [
      "[]\n"
     ]
    }
   ],
   "source": [
    "print_custom_attrs(ClassWithNothing)"
   ]
  },
  {
   "cell_type": "code",
   "execution_count": 41,
   "id": "617dfd1c",
   "metadata": {},
   "outputs": [
    {
     "name": "stdout",
     "output_type": "stream",
     "text": [
      "[]\n"
     ]
    }
   ],
   "source": [
    "print_custom_attrs(nobject)"
   ]
  },
  {
   "cell_type": "code",
   "execution_count": 42,
   "id": "0e5d62b6",
   "metadata": {},
   "outputs": [
    {
     "name": "stdout",
     "output_type": "stream",
     "text": [
      "['my_instance_attribute']\n"
     ]
    }
   ],
   "source": [
    "nobject.my_instance_attribute = \"my value 2\"\n",
    "print_custom_attrs(nobject)"
   ]
  },
  {
   "cell_type": "code",
   "execution_count": 43,
   "id": "444a2f9c",
   "metadata": {},
   "outputs": [
    {
     "name": "stdout",
     "output_type": "stream",
     "text": [
      "['my_attribute']\n"
     ]
    }
   ],
   "source": [
    "ClassWithNothing.my_attribute = 'my value'\n",
    "print_custom_attrs(ClassWithNothing)"
   ]
  },
  {
   "cell_type": "code",
   "execution_count": 44,
   "id": "5fcdfa87",
   "metadata": {},
   "outputs": [
    {
     "name": "stdout",
     "output_type": "stream",
     "text": [
      "['my_attribute', 'my_instance_attribute']\n"
     ]
    }
   ],
   "source": [
    "print_custom_attrs(nobject)"
   ]
  },
  {
   "cell_type": "markdown",
   "id": "69780947",
   "metadata": {},
   "source": [
    "### Приватность атрибутов\n",
    "\n",
    "Во многих языках программирования можно регулировать доступ до атрибутов класса от внешнего кода и других классов. Обычно выделяют три уровня доступа:\n",
    "- публичный - атрибуты доступны как внутри класса, так и из наружнего кода\n",
    "- защищенный - атрибуты доступны внутри класса и для наследников класса\n",
    "- приватный - атрибуты доступны только внутри класса"
   ]
  },
  {
   "cell_type": "markdown",
   "id": "e9de517f",
   "metadata": {},
   "source": [
    "А есть ли в Python приватность атрибутов? Можем ли мы запретить читать и менять атрибуты объекта снаружи (внешним кодом)?"
   ]
  },
  {
   "cell_type": "code",
   "execution_count": 49,
   "id": "7c863ec5",
   "metadata": {},
   "outputs": [],
   "source": [
    "class VeryPrivateDataHolder():\n",
    "    not_secret = 0     # public\n",
    "    _secret = 1        # protected\n",
    "    __very_secret = 2  # private"
   ]
  },
  {
   "cell_type": "code",
   "execution_count": 46,
   "id": "8330a2b5",
   "metadata": {},
   "outputs": [
    {
     "data": {
      "text/plain": [
       "0"
      ]
     },
     "execution_count": 46,
     "metadata": {},
     "output_type": "execute_result"
    },
    {
     "data": {
      "text/plain": [
       "1"
      ]
     },
     "execution_count": 46,
     "metadata": {},
     "output_type": "execute_result"
    },
    {
     "ename": "AttributeError",
     "evalue": "'VeryPrivateDataHolder' object has no attribute '__very_secret'",
     "output_type": "error",
     "traceback": [
      "\u001b[1;31m---------------------------------------------------------------------------\u001b[0m",
      "\u001b[1;31mAttributeError\u001b[0m                            Traceback (most recent call last)",
      "\u001b[1;32m~\\AppData\\Local\\Temp/ipykernel_23624/1166524184.py\u001b[0m in \u001b[0;36m<module>\u001b[1;34m\u001b[0m\n\u001b[0;32m      3\u001b[0m \u001b[0mobj\u001b[0m\u001b[1;33m.\u001b[0m\u001b[0mnot_secret\u001b[0m\u001b[1;33m\u001b[0m\u001b[1;33m\u001b[0m\u001b[0m\n\u001b[0;32m      4\u001b[0m \u001b[0mobj\u001b[0m\u001b[1;33m.\u001b[0m\u001b[0m_secret\u001b[0m\u001b[1;33m\u001b[0m\u001b[1;33m\u001b[0m\u001b[0m\n\u001b[1;32m----> 5\u001b[1;33m \u001b[0mobj\u001b[0m\u001b[1;33m.\u001b[0m\u001b[0m__very_secret\u001b[0m\u001b[1;33m\u001b[0m\u001b[1;33m\u001b[0m\u001b[0m\n\u001b[0m",
      "\u001b[1;31mAttributeError\u001b[0m: 'VeryPrivateDataHolder' object has no attribute '__very_secret'"
     ]
    }
   ],
   "source": [
    "obj = VeryPrivateDataHolder()\n",
    "\n",
    "obj.not_secret\n",
    "obj._secret\n",
    "obj.__very_secret"
   ]
  },
  {
   "cell_type": "markdown",
   "id": "ec9d1a81",
   "metadata": {},
   "source": [
    "Казалось бы, в Python всё-таки есть приватность, но есть нюанс:"
   ]
  },
  {
   "cell_type": "code",
   "execution_count": 47,
   "id": "1cd82172",
   "metadata": {},
   "outputs": [
    {
     "data": {
      "text/plain": [
       "2"
      ]
     },
     "execution_count": 47,
     "metadata": {},
     "output_type": "execute_result"
    }
   ],
   "source": [
    "obj._VeryPrivateDataHolder__very_secret"
   ]
  },
  {
   "cell_type": "markdown",
   "id": "6105afb5",
   "metadata": {},
   "source": [
    "Т.е. при желании все же можем получить доступ к \"приватным\" атрибутом, но делать так не рекомендуется, особенно не со своими классами!"
   ]
  },
  {
   "cell_type": "code",
   "execution_count": 48,
   "id": "941f5c74",
   "metadata": {},
   "outputs": [
    {
     "data": {
      "text/plain": [
       "'new secret'"
      ]
     },
     "execution_count": 48,
     "metadata": {},
     "output_type": "execute_result"
    }
   ],
   "source": [
    "obj._VeryPrivateDataHolder__very_secret = 'new secret'\n",
    "obj._VeryPrivateDataHolder__very_secret"
   ]
  },
  {
   "cell_type": "code",
   "execution_count": 52,
   "id": "c4a2b032",
   "metadata": {},
   "outputs": [
    {
     "ename": "AttributeError",
     "evalue": "type object 'VeryPrivateDataHolder' has no attribute '__very_secret'",
     "output_type": "error",
     "traceback": [
      "\u001b[1;31m---------------------------------------------------------------------------\u001b[0m",
      "\u001b[1;31mAttributeError\u001b[0m                            Traceback (most recent call last)",
      "\u001b[1;32m~\\AppData\\Local\\Temp/ipykernel_23624/1589451991.py\u001b[0m in \u001b[0;36m<module>\u001b[1;34m\u001b[0m\n\u001b[1;32m----> 1\u001b[1;33m \u001b[0mVeryPrivateDataHolder\u001b[0m\u001b[1;33m.\u001b[0m\u001b[0m__very_secret\u001b[0m\u001b[1;33m\u001b[0m\u001b[1;33m\u001b[0m\u001b[0m\n\u001b[0m",
      "\u001b[1;31mAttributeError\u001b[0m: type object 'VeryPrivateDataHolder' has no attribute '__very_secret'"
     ]
    }
   ],
   "source": [
    "VeryPrivateDataHolder.__very_secret"
   ]
  },
  {
   "cell_type": "markdown",
   "id": "a6b3a035",
   "metadata": {},
   "source": [
    "### Наследование"
   ]
  },
  {
   "cell_type": "markdown",
   "id": "cc74d1f3",
   "metadata": {},
   "source": [
    "Рассмотрим как работает наследование в Python с помощью следующих классов:"
   ]
  },
  {
   "cell_type": "code",
   "execution_count": 53,
   "id": "95e645f0",
   "metadata": {},
   "outputs": [],
   "source": [
    "class Animal:  # неявно наследуется от класса object\n",
    "    some_value = \"animal\"\n",
    "\n",
    "    def __init__(self):\n",
    "        print(\"i am an animal\")\n",
    "    \n",
    "    def speak(self):\n",
    "        # ошибка, показывающая что метод еще не реализован\n",
    "        raise NotImplementedError('i don\\'t know how to speak')  \n",
    "        \n",
    "class Cat(Animal):\n",
    "    some_value = \"cat\"\n",
    "\n",
    "    def __init__(self):\n",
    "        super().__init__()\n",
    "        print(\"i am a cat\")\n",
    "    \n",
    "    def speak(self):\n",
    "        print('meoooow')\n",
    "        \n",
    "class Dog(Animal):\n",
    "    some_value = \"dog\"\n",
    "    \n",
    "    def __init__(self):\n",
    "        super().__init__()\n",
    "        print(\"i am a dog\")\n",
    "        \n",
    "class Hedgehog(Animal):\n",
    "    def __init__(self):\n",
    "        super().__init__()\n",
    "        print(\"i am a hedgehog\")"
   ]
  },
  {
   "cell_type": "code",
   "execution_count": 54,
   "id": "8405e055",
   "metadata": {},
   "outputs": [
    {
     "name": "stdout",
     "output_type": "stream",
     "text": [
      "i am an animal\n",
      "animal\n"
     ]
    },
    {
     "ename": "NotImplementedError",
     "evalue": "i don't know how to speak",
     "output_type": "error",
     "traceback": [
      "\u001b[1;31m---------------------------------------------------------------------------\u001b[0m",
      "\u001b[1;31mNotImplementedError\u001b[0m                       Traceback (most recent call last)",
      "\u001b[1;32m~\\AppData\\Local\\Temp/ipykernel_23624/3607031430.py\u001b[0m in \u001b[0;36m<module>\u001b[1;34m\u001b[0m\n\u001b[0;32m      1\u001b[0m \u001b[0manimal\u001b[0m \u001b[1;33m=\u001b[0m \u001b[0mAnimal\u001b[0m\u001b[1;33m(\u001b[0m\u001b[1;33m)\u001b[0m\u001b[1;33m\u001b[0m\u001b[1;33m\u001b[0m\u001b[0m\n\u001b[0;32m      2\u001b[0m \u001b[0mprint\u001b[0m\u001b[1;33m(\u001b[0m\u001b[0manimal\u001b[0m\u001b[1;33m.\u001b[0m\u001b[0msome_value\u001b[0m\u001b[1;33m)\u001b[0m\u001b[1;33m\u001b[0m\u001b[1;33m\u001b[0m\u001b[0m\n\u001b[1;32m----> 3\u001b[1;33m \u001b[0manimal\u001b[0m\u001b[1;33m.\u001b[0m\u001b[0mspeak\u001b[0m\u001b[1;33m(\u001b[0m\u001b[1;33m)\u001b[0m\u001b[1;33m\u001b[0m\u001b[1;33m\u001b[0m\u001b[0m\n\u001b[0m",
      "\u001b[1;32m~\\AppData\\Local\\Temp/ipykernel_23624/4088092619.py\u001b[0m in \u001b[0;36mspeak\u001b[1;34m(self)\u001b[0m\n\u001b[0;32m      7\u001b[0m     \u001b[1;32mdef\u001b[0m \u001b[0mspeak\u001b[0m\u001b[1;33m(\u001b[0m\u001b[0mself\u001b[0m\u001b[1;33m)\u001b[0m\u001b[1;33m:\u001b[0m\u001b[1;33m\u001b[0m\u001b[1;33m\u001b[0m\u001b[0m\n\u001b[0;32m      8\u001b[0m         \u001b[1;31m# ошибка, показывающая что метод еще не реализован\u001b[0m\u001b[1;33m\u001b[0m\u001b[1;33m\u001b[0m\u001b[0m\n\u001b[1;32m----> 9\u001b[1;33m         \u001b[1;32mraise\u001b[0m \u001b[0mNotImplementedError\u001b[0m\u001b[1;33m(\u001b[0m\u001b[1;34m'i don\\'t know how to speak'\u001b[0m\u001b[1;33m)\u001b[0m\u001b[1;33m\u001b[0m\u001b[1;33m\u001b[0m\u001b[0m\n\u001b[0m\u001b[0;32m     10\u001b[0m \u001b[1;33m\u001b[0m\u001b[0m\n\u001b[0;32m     11\u001b[0m \u001b[1;32mclass\u001b[0m \u001b[0mCat\u001b[0m\u001b[1;33m(\u001b[0m\u001b[0mAnimal\u001b[0m\u001b[1;33m)\u001b[0m\u001b[1;33m:\u001b[0m\u001b[1;33m\u001b[0m\u001b[1;33m\u001b[0m\u001b[0m\n",
      "\u001b[1;31mNotImplementedError\u001b[0m: i don't know how to speak"
     ]
    }
   ],
   "source": [
    "animal = Animal()\n",
    "print(animal.some_value)\n",
    "animal.speak()"
   ]
  },
  {
   "cell_type": "code",
   "execution_count": 55,
   "id": "56f03b32",
   "metadata": {},
   "outputs": [
    {
     "name": "stdout",
     "output_type": "stream",
     "text": [
      "i am an animal\n",
      "i am a cat\n"
     ]
    }
   ],
   "source": [
    "cat = Cat()"
   ]
  },
  {
   "cell_type": "code",
   "execution_count": 56,
   "id": "c865b3f4",
   "metadata": {},
   "outputs": [
    {
     "data": {
      "text/plain": [
       "'cat'"
      ]
     },
     "execution_count": 56,
     "metadata": {},
     "output_type": "execute_result"
    }
   ],
   "source": [
    "cat.some_value # переопределено"
   ]
  },
  {
   "cell_type": "code",
   "execution_count": 57,
   "id": "0ca4488a",
   "metadata": {},
   "outputs": [
    {
     "name": "stdout",
     "output_type": "stream",
     "text": [
      "meoooow\n"
     ]
    }
   ],
   "source": [
    "cat.speak()"
   ]
  },
  {
   "cell_type": "code",
   "execution_count": 58,
   "id": "ad5930e2",
   "metadata": {},
   "outputs": [
    {
     "name": "stdout",
     "output_type": "stream",
     "text": [
      "i am an animal\n",
      "i am a dog\n"
     ]
    }
   ],
   "source": [
    "dog = Dog()"
   ]
  },
  {
   "cell_type": "code",
   "execution_count": 59,
   "id": "3a62e519",
   "metadata": {},
   "outputs": [
    {
     "data": {
      "text/plain": [
       "'dog'"
      ]
     },
     "execution_count": 59,
     "metadata": {},
     "output_type": "execute_result"
    },
    {
     "ename": "NotImplementedError",
     "evalue": "i don't know how to speak",
     "output_type": "error",
     "traceback": [
      "\u001b[1;31m---------------------------------------------------------------------------\u001b[0m",
      "\u001b[1;31mNotImplementedError\u001b[0m                       Traceback (most recent call last)",
      "\u001b[1;32m~\\AppData\\Local\\Temp/ipykernel_23624/2623902752.py\u001b[0m in \u001b[0;36m<module>\u001b[1;34m\u001b[0m\n\u001b[0;32m      1\u001b[0m \u001b[0mdog\u001b[0m\u001b[1;33m.\u001b[0m\u001b[0msome_value\u001b[0m \u001b[1;31m# переопределено\u001b[0m\u001b[1;33m\u001b[0m\u001b[1;33m\u001b[0m\u001b[0m\n\u001b[0;32m      2\u001b[0m \u001b[1;33m\u001b[0m\u001b[0m\n\u001b[1;32m----> 3\u001b[1;33m \u001b[0mdog\u001b[0m\u001b[1;33m.\u001b[0m\u001b[0mspeak\u001b[0m\u001b[1;33m(\u001b[0m\u001b[1;33m)\u001b[0m\u001b[1;33m\u001b[0m\u001b[1;33m\u001b[0m\u001b[0m\n\u001b[0m",
      "\u001b[1;32m~\\AppData\\Local\\Temp/ipykernel_23624/4088092619.py\u001b[0m in \u001b[0;36mspeak\u001b[1;34m(self)\u001b[0m\n\u001b[0;32m      7\u001b[0m     \u001b[1;32mdef\u001b[0m \u001b[0mspeak\u001b[0m\u001b[1;33m(\u001b[0m\u001b[0mself\u001b[0m\u001b[1;33m)\u001b[0m\u001b[1;33m:\u001b[0m\u001b[1;33m\u001b[0m\u001b[1;33m\u001b[0m\u001b[0m\n\u001b[0;32m      8\u001b[0m         \u001b[1;31m# ошибка, показывающая что метод еще не реализован\u001b[0m\u001b[1;33m\u001b[0m\u001b[1;33m\u001b[0m\u001b[0m\n\u001b[1;32m----> 9\u001b[1;33m         \u001b[1;32mraise\u001b[0m \u001b[0mNotImplementedError\u001b[0m\u001b[1;33m(\u001b[0m\u001b[1;34m'i don\\'t know how to speak'\u001b[0m\u001b[1;33m)\u001b[0m\u001b[1;33m\u001b[0m\u001b[1;33m\u001b[0m\u001b[0m\n\u001b[0m\u001b[0;32m     10\u001b[0m \u001b[1;33m\u001b[0m\u001b[0m\n\u001b[0;32m     11\u001b[0m \u001b[1;32mclass\u001b[0m \u001b[0mCat\u001b[0m\u001b[1;33m(\u001b[0m\u001b[0mAnimal\u001b[0m\u001b[1;33m)\u001b[0m\u001b[1;33m:\u001b[0m\u001b[1;33m\u001b[0m\u001b[1;33m\u001b[0m\u001b[0m\n",
      "\u001b[1;31mNotImplementedError\u001b[0m: i don't know how to speak"
     ]
    }
   ],
   "source": [
    "dog.some_value # переопределено\n",
    "\n",
    "dog.speak()"
   ]
  },
  {
   "cell_type": "code",
   "execution_count": 60,
   "id": "5dd3aecf",
   "metadata": {},
   "outputs": [
    {
     "name": "stdout",
     "output_type": "stream",
     "text": [
      "i am an animal\n",
      "i am a hedgehog\n"
     ]
    },
    {
     "data": {
      "text/plain": [
       "'animal'"
      ]
     },
     "execution_count": 60,
     "metadata": {},
     "output_type": "execute_result"
    },
    {
     "ename": "NotImplementedError",
     "evalue": "i don't know how to speak",
     "output_type": "error",
     "traceback": [
      "\u001b[1;31m---------------------------------------------------------------------------\u001b[0m",
      "\u001b[1;31mNotImplementedError\u001b[0m                       Traceback (most recent call last)",
      "\u001b[1;32m~\\AppData\\Local\\Temp/ipykernel_23624/324423450.py\u001b[0m in \u001b[0;36m<module>\u001b[1;34m\u001b[0m\n\u001b[0;32m      2\u001b[0m \u001b[1;33m\u001b[0m\u001b[0m\n\u001b[0;32m      3\u001b[0m \u001b[0mhedgehog\u001b[0m\u001b[1;33m.\u001b[0m\u001b[0msome_value\u001b[0m\u001b[1;33m\u001b[0m\u001b[1;33m\u001b[0m\u001b[0m\n\u001b[1;32m----> 4\u001b[1;33m \u001b[0mhedgehog\u001b[0m\u001b[1;33m.\u001b[0m\u001b[0mspeak\u001b[0m\u001b[1;33m(\u001b[0m\u001b[1;33m)\u001b[0m\u001b[1;33m\u001b[0m\u001b[1;33m\u001b[0m\u001b[0m\n\u001b[0m",
      "\u001b[1;32m~\\AppData\\Local\\Temp/ipykernel_23624/4088092619.py\u001b[0m in \u001b[0;36mspeak\u001b[1;34m(self)\u001b[0m\n\u001b[0;32m      7\u001b[0m     \u001b[1;32mdef\u001b[0m \u001b[0mspeak\u001b[0m\u001b[1;33m(\u001b[0m\u001b[0mself\u001b[0m\u001b[1;33m)\u001b[0m\u001b[1;33m:\u001b[0m\u001b[1;33m\u001b[0m\u001b[1;33m\u001b[0m\u001b[0m\n\u001b[0;32m      8\u001b[0m         \u001b[1;31m# ошибка, показывающая что метод еще не реализован\u001b[0m\u001b[1;33m\u001b[0m\u001b[1;33m\u001b[0m\u001b[0m\n\u001b[1;32m----> 9\u001b[1;33m         \u001b[1;32mraise\u001b[0m \u001b[0mNotImplementedError\u001b[0m\u001b[1;33m(\u001b[0m\u001b[1;34m'i don\\'t know how to speak'\u001b[0m\u001b[1;33m)\u001b[0m\u001b[1;33m\u001b[0m\u001b[1;33m\u001b[0m\u001b[0m\n\u001b[0m\u001b[0;32m     10\u001b[0m \u001b[1;33m\u001b[0m\u001b[0m\n\u001b[0;32m     11\u001b[0m \u001b[1;32mclass\u001b[0m \u001b[0mCat\u001b[0m\u001b[1;33m(\u001b[0m\u001b[0mAnimal\u001b[0m\u001b[1;33m)\u001b[0m\u001b[1;33m:\u001b[0m\u001b[1;33m\u001b[0m\u001b[1;33m\u001b[0m\u001b[0m\n",
      "\u001b[1;31mNotImplementedError\u001b[0m: i don't know how to speak"
     ]
    }
   ],
   "source": [
    "hedgehog = Hedgehog()\n",
    "\n",
    "hedgehog.some_value\n",
    "hedgehog.speak()"
   ]
  },
  {
   "cell_type": "markdown",
   "id": "3374ff9f",
   "metadata": {},
   "source": [
    "Ромбовидное наследование возможно, но не делайте так, пожалуйста!"
   ]
  },
  {
   "cell_type": "code",
   "execution_count": 61,
   "id": "58b70680",
   "metadata": {},
   "outputs": [],
   "source": [
    "#      Animal\n",
    "#    /       \\ \n",
    "#  Cat       Dog\n",
    "#    \\       /\n",
    "#      CatDog"
   ]
  },
  {
   "cell_type": "code",
   "execution_count": 62,
   "id": "eade75a9",
   "metadata": {},
   "outputs": [],
   "source": [
    "class CatDog(Cat, Dog): \n",
    "    def __init__(self):\n",
    "        super().__init__()\n",
    "        print(\"i am a CatDog!\")"
   ]
  },
  {
   "cell_type": "code",
   "execution_count": 63,
   "id": "e9f9f883",
   "metadata": {},
   "outputs": [
    {
     "name": "stdout",
     "output_type": "stream",
     "text": [
      "i am an animal\n",
      "i am a dog\n",
      "i am a cat\n",
      "i am a CatDog!\n"
     ]
    },
    {
     "data": {
      "text/plain": [
       "'cat'"
      ]
     },
     "execution_count": 63,
     "metadata": {},
     "output_type": "execute_result"
    }
   ],
   "source": [
    "catdog = CatDog()\n",
    "catdog.some_value"
   ]
  },
  {
   "cell_type": "code",
   "execution_count": 64,
   "id": "0033f087",
   "metadata": {},
   "outputs": [
    {
     "name": "stdout",
     "output_type": "stream",
     "text": [
      "i am an animal\n",
      "i am a cat\n",
      "i am a dog\n",
      "i am a CatDog!\n"
     ]
    },
    {
     "data": {
      "text/plain": [
       "'dog'"
      ]
     },
     "execution_count": 64,
     "metadata": {},
     "output_type": "execute_result"
    }
   ],
   "source": [
    "class DogCat(Dog, Cat):  # теперь наоборот\n",
    "    def __init__(self):\n",
    "        super().__init__()\n",
    "        print(\"i am a CatDog!\")\n",
    "\n",
    "dogcat = DogCat()\n",
    "dogcat.some_value"
   ]
  },
  {
   "cell_type": "markdown",
   "id": "56be8b73",
   "metadata": {},
   "source": [
    "### Подключение сторонних модулей"
   ]
  },
  {
   "cell_type": "code",
   "execution_count": 65,
   "id": "b826fb35",
   "metadata": {},
   "outputs": [
    {
     "data": {
      "text/plain": [
       "3.141592653589793"
      ]
     },
     "execution_count": 65,
     "metadata": {},
     "output_type": "execute_result"
    },
    {
     "data": {
      "text/plain": [
       "1.0"
      ]
     },
     "execution_count": 65,
     "metadata": {},
     "output_type": "execute_result"
    }
   ],
   "source": [
    "import math\n",
    "\n",
    "math.pi\n",
    "math.sin(math.pi / 2)"
   ]
  },
  {
   "cell_type": "code",
   "execution_count": 66,
   "id": "7992c623",
   "metadata": {},
   "outputs": [
    {
     "data": {
      "text/plain": [
       "module"
      ]
     },
     "execution_count": 66,
     "metadata": {},
     "output_type": "execute_result"
    }
   ],
   "source": [
    "type(math)"
   ]
  },
  {
   "cell_type": "code",
   "execution_count": 67,
   "id": "c6164845",
   "metadata": {},
   "outputs": [
    {
     "data": {
      "text/plain": [
       "['__doc__',\n",
       " '__loader__',\n",
       " '__name__',\n",
       " '__package__',\n",
       " '__spec__',\n",
       " 'acos',\n",
       " 'acosh',\n",
       " 'asin',\n",
       " 'asinh',\n",
       " 'atan',\n",
       " 'atan2',\n",
       " 'atanh',\n",
       " 'ceil',\n",
       " 'comb',\n",
       " 'copysign',\n",
       " 'cos',\n",
       " 'cosh',\n",
       " 'degrees',\n",
       " 'dist',\n",
       " 'e',\n",
       " 'erf',\n",
       " 'erfc',\n",
       " 'exp',\n",
       " 'expm1',\n",
       " 'fabs',\n",
       " 'factorial',\n",
       " 'floor',\n",
       " 'fmod',\n",
       " 'frexp',\n",
       " 'fsum',\n",
       " 'gamma',\n",
       " 'gcd',\n",
       " 'hypot',\n",
       " 'inf',\n",
       " 'isclose',\n",
       " 'isfinite',\n",
       " 'isinf',\n",
       " 'isnan',\n",
       " 'isqrt',\n",
       " 'lcm',\n",
       " 'ldexp',\n",
       " 'lgamma',\n",
       " 'log',\n",
       " 'log10',\n",
       " 'log1p',\n",
       " 'log2',\n",
       " 'modf',\n",
       " 'nan',\n",
       " 'nextafter',\n",
       " 'perm',\n",
       " 'pi',\n",
       " 'pow',\n",
       " 'prod',\n",
       " 'radians',\n",
       " 'remainder',\n",
       " 'sin',\n",
       " 'sinh',\n",
       " 'sqrt',\n",
       " 'tan',\n",
       " 'tanh',\n",
       " 'tau',\n",
       " 'trunc',\n",
       " 'ulp']"
      ]
     },
     "execution_count": 67,
     "metadata": {},
     "output_type": "execute_result"
    }
   ],
   "source": [
    "dir(math)"
   ]
  },
  {
   "cell_type": "code",
   "execution_count": 68,
   "id": "1e3f7187",
   "metadata": {},
   "outputs": [
    {
     "name": "stdout",
     "output_type": "stream",
     "text": [
      "3.141592653589793\n"
     ]
    }
   ],
   "source": [
    "import math as m\n",
    "import pandas as pd\n",
    "\n",
    "print(m.pi)"
   ]
  },
  {
   "cell_type": "code",
   "execution_count": 69,
   "id": "a4e995a0",
   "metadata": {},
   "outputs": [
    {
     "name": "stdout",
     "output_type": "stream",
     "text": [
      "3.141592653589793\n",
      "1.0\n"
     ]
    }
   ],
   "source": [
    "from math import pi, sin, cos\n",
    "from sklearn.linear_model import LinearRegression\n",
    "\n",
    "print(pi)\n",
    "print(sin(pi / 2))"
   ]
  },
  {
   "cell_type": "code",
   "execution_count": 70,
   "id": "cfbda439",
   "metadata": {},
   "outputs": [],
   "source": [
    "lr = LinearRegression()"
   ]
  },
  {
   "cell_type": "code",
   "execution_count": 71,
   "id": "f5cf848a",
   "metadata": {},
   "outputs": [],
   "source": [
    "import sklearn\n",
    "\n",
    "lr = sklearn.linear_model.LinearRegression"
   ]
  },
  {
   "cell_type": "code",
   "execution_count": 72,
   "id": "de1f3723",
   "metadata": {},
   "outputs": [
    {
     "name": "stdout",
     "output_type": "stream",
     "text": [
      "3.141592653589793\n",
      "0.6514961294723187\n"
     ]
    }
   ],
   "source": [
    "from math import * # импортирует всё в global пространство имён - НЕ ДЕЛАТЬ ТАК!\n",
    "\n",
    "print(pi)\n",
    "print(log2(pi / 2))"
   ]
  },
  {
   "cell_type": "code",
   "execution_count": null,
   "id": "0e75e587",
   "metadata": {},
   "outputs": [],
   "source": []
  }
 ],
 "metadata": {
  "kernelspec": {
   "display_name": "Python 3 (ipykernel)",
   "language": "python",
   "name": "python3"
  },
  "language_info": {
   "codemirror_mode": {
    "name": "ipython",
    "version": 3
   },
   "file_extension": ".py",
   "mimetype": "text/x-python",
   "name": "python",
   "nbconvert_exporter": "python",
   "pygments_lexer": "ipython3",
   "version": "3.9.7"
  }
 },
 "nbformat": 4,
 "nbformat_minor": 5
}
