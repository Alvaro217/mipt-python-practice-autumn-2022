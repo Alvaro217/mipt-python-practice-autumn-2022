{
 "cells": [
  {
   "cell_type": "code",
   "execution_count": 4,
   "id": "81892de2",
   "metadata": {},
   "outputs": [],
   "source": [
    "from IPython.core.interactiveshell import InteractiveShell\n",
    "InteractiveShell.ast_node_interactivity = \"all\""
   ]
  },
  {
   "cell_type": "markdown",
   "id": "d8eb3907",
   "metadata": {},
   "source": [
    "## Практикум Python\n",
    "**Семинар 2**"
   ]
  },
  {
   "cell_type": "markdown",
   "id": "931cb457",
   "metadata": {},
   "source": [
    "### Тема 3. Словари, множества, collections"
   ]
  },
  {
   "cell_type": "markdown",
   "id": "8e4e00f8",
   "metadata": {},
   "source": [
    "### Хеш-таблица\n",
    "\n",
    "**Ассоциативный массив (хеш-таблица)** — структура данных, которая позволяет хранить пары (ключ, значение) и выполнять три операции: \n",
    "- добавить новую пару\n",
    "- получить пару по ключу\n",
    "- удалить пару по ключу\n",
    "\n",
    "Выполнение операции в хеш-таблице начинается с вычисления хеш-функции от ключа. Получающееся хеш-значение $i = hash(key)$ -  индекс в массиве $H$.\n",
    "\n",
    "При некоторых допущениях все три операции в среднем выполняются за время $O(1)$. Но при этом не гарантируется, что время выполнения отдельной операции мало - при достижении некоторого значения коэффициента заполнения необходимо осуществлять перестройку индекса хеш-таблицы: увеличить значение размера массива $H$ и заново добавить в пустую хеш-таблицу все пары."
   ]
  },
  {
   "cell_type": "markdown",
   "id": "247a83c7",
   "metadata": {},
   "source": [
    "#### Хэш-функция\n",
    "\n",
    "**Хеш-функция** (англ. hash function от hash — \"превращать в фарш\", \"мешанина\") — функция, осуществляющая преобразование массива входных данных **произвольной длины** в выходную битовую строку **установленной длины**, выполняемое определённым алгоритмом.\n",
    "\n",
    "**Применение:**\n",
    "- построение ассоциативных массивов\n",
    "- поиск дубликатов в наборах данных\n",
    "- построение уникальных идентификаторов\n",
    "- вычисление контрольных сумм от данных (сигнала) для обнаружения в них ошибок\n",
    "- сохранение паролей"
   ]
  },
  {
   "cell_type": "markdown",
   "id": "b0cd5190",
   "metadata": {},
   "source": [
    "В общем случае нет однозначного соответствия между хеш-кодом и исходными данными. Возвращаемые хеш-функцией значения менее разнообразны, чем значения входного массива. \n",
    "\n",
    "**Коллизия** - случай, при котором хеш-функция преобразует более чем один массив входных данных в одинаковые хеш-коды.\n",
    "\n",
    "\"Хорошая\" хеш-функция должна удовлетворять двум свойствам:\n",
    "- быстрое вычисление\n",
    "- минимальное количество коллизий"
   ]
  },
  {
   "cell_type": "markdown",
   "id": "803f5e1b",
   "metadata": {},
   "source": [
    "#### Разрешение коллизий\n",
    "\n",
    "В некоторых специальных случаях удаётся избежать коллизий вообще, например, если все ключи элементов известны заранее, то для них можно найти некоторую совершенную хеш-функцию, которая распределит их по ячейкам хеш-таблицы без коллизий.\n",
    "\n",
    "Однако, коллизии в хеш-таблицах не так уж и редки. Поэтому механизм разрешения коллизий — важная составляющая любой хеш-таблицы.\n",
    "\n",
    "**Способы разрешения коллизий:**\n",
    "1. Метод цепочек\n",
    "2. Открытая адресация"
   ]
  },
  {
   "cell_type": "markdown",
   "id": "9f5c58cb",
   "metadata": {},
   "source": [
    "##### Метод цепочек\n",
    "\n",
    "Каждая ячейка массива $H$ является указателем на связный список пар *(ключ, значение)*, соответствующих одному и тому же хеш-значению ключа. Коллизии просто приводят к тому, что появляются цепочки длиной более одного элемента.\n",
    "\n",
    "- Поиск / удаление элемента - просмотреть всех элементов соответствующей цепочки и найти элемент с заданным ключом. \n",
    "- Добавление элемента - добавить элемент в конец или начало списка и в случае"
   ]
  },
  {
   "cell_type": "markdown",
   "id": "fbe5c98f",
   "metadata": {},
   "source": [
    "![link](https://upload.wikimedia.org/wikipedia/commons/thumb/d/d0/Hash_table_5_0_1_1_1_1_1_LL.svg/1280px-Hash_table_5_0_1_1_1_1_1_LL.svg.png)"
   ]
  },
  {
   "cell_type": "markdown",
   "id": "a562c074",
   "metadata": {},
   "source": [
    "##### Открытая адресация\n",
    "\n",
    "В массиве $H$ хранятся сами пары *(ключ, значение)*. \n",
    "\n",
    "- Операция вставки - проверяет ячейки массива $H$ в некотором порядке до тех пор, пока не будет найдена первая свободная ячейка, в которую и будет записан новый элемент.\n",
    "\n",
    "- Операция поиска - просматривает ячейки хеш-таблицы в том же самом порядке, что и при вставке, до тех пор, пока не найдется либо элемент с искомым ключом, либо свободная ячейка (что означает отсутствие элемента в хеш-таблице).\n",
    "\n",
    "- Операция удаление - затруднительная операция, обычно заводят булевый флаг для каждой ячейки, помечающий, удален элемент в ней или нет.\n",
    "\n",
    "Последовательность, в которой просматриваются ячейки хеш-таблицы - **последовательностью проб**. Первый элемент в последовательности, как правило, равен значению хеш-функции от ключа, а остальные считаются от него одним из приведённых ниже способов. Для успешной работы алгоритмов поиска последовательность проб должна быть такой, чтобы все ячейки хеш-таблицы оказались просмотренными ровно по одному разу."
   ]
  },
  {
   "cell_type": "markdown",
   "id": "af4fd06b",
   "metadata": {},
   "source": [
    "![open](https://upload.wikimedia.org/wikipedia/commons/thumb/b/bf/Hash_table_5_0_1_1_1_1_0_SP.svg/1024px-Hash_table_5_0_1_1_1_1_0_SP.svg.png)"
   ]
  },
  {
   "cell_type": "markdown",
   "id": "e620f90d",
   "metadata": {},
   "source": [
    "### Словарь\n",
    "\n",
    "**Словарь** - реализация ассоциативного массива (хеш-таблицы) в Python."
   ]
  },
  {
   "cell_type": "code",
   "execution_count": 3,
   "id": "cf3b7ee4",
   "metadata": {},
   "outputs": [
    {
     "data": {
      "text/plain": [
       "{'Key1': 'Value1', 'Key2': 'Value2'}"
      ]
     },
     "execution_count": 3,
     "metadata": {},
     "output_type": "execute_result"
    },
    {
     "data": {
      "text/plain": [
       "{2: 4, 3: 9}"
      ]
     },
     "execution_count": 3,
     "metadata": {},
     "output_type": "execute_result"
    }
   ],
   "source": [
    "a = {'Key1' : 'Value1', 'Key2' : 'Value2'}\n",
    "a\n",
    "b = dict([(2, 4), (3, 9)])\n",
    "b"
   ]
  },
  {
   "cell_type": "markdown",
   "id": "ef26e512",
   "metadata": {},
   "source": [
    "Ключом словаря может быть любой хешируемый (hashable) объект. Определение hashable из [документации Python](https://docs.python.org/3/glossary.html#term-hashable):\n",
    "\n",
    ">Объект является **хэшируемым**, если у него **имеется хеш-значение**, которое не меняется за все его время существования (необходим метод **\\_\\_hash\\_\\_()**), и **может быть сравним** с другими объектами (необходим метод **\\_\\_eq\\_\\_()**). Хэшируемые объекты, которые являются равными, должны иметь одинаковое хеш-значение.\n",
    ">\n",
    ">Хешируемость позволяет использовать объект как ключ в словаре и как элемент множества, поскольку эти структуры данных используют хеш-значение внутри себя.\n",
    ">\n",
    ">Большинство неизменяемых встренных объектов в Python являются хешируемыми, изменяемые контейнеры (списки или словари) - нет, неизменяемые контейнеры (кортежи и frozenset-ы) являются хешируемыми только если их элементы являются хэшируемыми. Объекты, являющиеся экземплярами пользовательских классов, по умолчанию хэшируемые. Они по умолчанию считаются неравными, а их хеш берется из их **id()**."
   ]
  },
  {
   "cell_type": "markdown",
   "id": "652d5499",
   "metadata": {},
   "source": [
    "Примеры хеш-значений для разных типов:"
   ]
  },
  {
   "cell_type": "code",
   "execution_count": 4,
   "id": "e7e06044",
   "metadata": {},
   "outputs": [
    {
     "data": {
      "text/plain": [
       "343"
      ]
     },
     "execution_count": 4,
     "metadata": {},
     "output_type": "execute_result"
    },
    {
     "data": {
      "text/plain": [
       "1"
      ]
     },
     "execution_count": 4,
     "metadata": {},
     "output_type": "execute_result"
    },
    {
     "data": {
      "text/plain": [
       "5801276425735077838"
      ]
     },
     "execution_count": 4,
     "metadata": {},
     "output_type": "execute_result"
    }
   ],
   "source": [
    "hash(343)\n",
    "hash(True)\n",
    "hash('hello')"
   ]
  },
  {
   "cell_type": "markdown",
   "id": "20a6fc19",
   "metadata": {},
   "source": [
    "Проверим, является ли список хешируемым:"
   ]
  },
  {
   "cell_type": "code",
   "execution_count": 6,
   "id": "fc8da162",
   "metadata": {},
   "outputs": [
    {
     "data": {
      "text/plain": [
       "True"
      ]
     },
     "execution_count": 6,
     "metadata": {},
     "output_type": "execute_result"
    }
   ],
   "source": [
    "[1].__hash__ is None  # метод __hash__ не определен для списка"
   ]
  },
  {
   "cell_type": "markdown",
   "id": "5ec5b8d0",
   "metadata": {},
   "source": [
    "Проверим, является ли словарь хешируемым:"
   ]
  },
  {
   "cell_type": "code",
   "execution_count": 7,
   "id": "316b3e98",
   "metadata": {},
   "outputs": [
    {
     "ename": "TypeError",
     "evalue": "unhashable type: 'dict'",
     "output_type": "error",
     "traceback": [
      "\u001b[1;31m---------------------------------------------------------------------------\u001b[0m",
      "\u001b[1;31mTypeError\u001b[0m                                 Traceback (most recent call last)",
      "\u001b[1;32m~\\AppData\\Local\\Temp/ipykernel_26768/2140824527.py\u001b[0m in \u001b[0;36m<module>\u001b[1;34m\u001b[0m\n\u001b[0;32m      1\u001b[0m \u001b[0md1\u001b[0m \u001b[1;33m=\u001b[0m \u001b[1;33m{\u001b[0m\u001b[1;36m1\u001b[0m\u001b[1;33m:\u001b[0m \u001b[1;34m'b'\u001b[0m\u001b[1;33m}\u001b[0m\u001b[1;33m\u001b[0m\u001b[1;33m\u001b[0m\u001b[0m\n\u001b[1;32m----> 2\u001b[1;33m \u001b[0md2\u001b[0m \u001b[1;33m=\u001b[0m \u001b[1;33m{\u001b[0m\u001b[0md1\u001b[0m\u001b[1;33m:\u001b[0m \u001b[1;34m'abc'\u001b[0m\u001b[1;33m}\u001b[0m\u001b[1;33m\u001b[0m\u001b[1;33m\u001b[0m\u001b[0m\n\u001b[0m",
      "\u001b[1;31mTypeError\u001b[0m: unhashable type: 'dict'"
     ]
    }
   ],
   "source": [
    "d1 = {1: 'b'}\n",
    "d2 = {d1: 'abc'}"
   ]
  },
  {
   "cell_type": "code",
   "execution_count": 8,
   "id": "f5746257",
   "metadata": {},
   "outputs": [
    {
     "data": {
      "text/plain": [
       "True"
      ]
     },
     "execution_count": 8,
     "metadata": {},
     "output_type": "execute_result"
    }
   ],
   "source": [
    "{1: 'b'}.__hash__ is None  # dict тоже не является хэшируемым"
   ]
  },
  {
   "cell_type": "markdown",
   "id": "a6bc2abe",
   "metadata": {},
   "source": [
    "Нужно быть очень аккуратным с хэшированием **float** и лучше их вообще не хэшировать:"
   ]
  },
  {
   "cell_type": "code",
   "execution_count": 9,
   "id": "cf627a8f",
   "metadata": {},
   "outputs": [
    {
     "data": {
      "text/plain": [
       "1152921504606846982"
      ]
     },
     "execution_count": 9,
     "metadata": {},
     "output_type": "execute_result"
    },
    {
     "data": {
      "text/plain": [
       "1152921504606849030"
      ]
     },
     "execution_count": 9,
     "metadata": {},
     "output_type": "execute_result"
    },
    {
     "data": {
      "text/plain": [
       "1152921504606846982"
      ]
     },
     "execution_count": 9,
     "metadata": {},
     "output_type": "execute_result"
    },
    {
     "data": {
      "text/plain": [
       "1152921504606846982"
      ]
     },
     "execution_count": 9,
     "metadata": {},
     "output_type": "execute_result"
    }
   ],
   "source": [
    "hash(6.5)\n",
    "hash(6.500000000000001)\n",
    "hash(6.5000000000000001)\n",
    "hash(round(6.50443,2)) # или хэшировать вот так"
   ]
  },
  {
   "cell_type": "markdown",
   "id": "a9d0baa3",
   "metadata": {},
   "source": [
    "**Замечание** - после перезапуска интерпретатора у сложных объектов (например, строк) будет уже другое значение хеш-функции."
   ]
  },
  {
   "cell_type": "markdown",
   "id": "0e65f8fc",
   "metadata": {},
   "source": [
    "По словарю можно итерироваться, причем как по ключам, так и по значениям:"
   ]
  },
  {
   "cell_type": "code",
   "execution_count": 2,
   "id": "3d4494a3",
   "metadata": {},
   "outputs": [
    {
     "name": "stdout",
     "output_type": "stream",
     "text": [
      "a\n",
      "b\n",
      "c\n"
     ]
    }
   ],
   "source": [
    "dictionary = {'a': 1, 'b': 2, 'c': 3}\n",
    "   \n",
    "for k in dictionary.keys(): \n",
    "    print(k)"
   ]
  },
  {
   "cell_type": "markdown",
   "id": "dee55907",
   "metadata": {},
   "source": [
    "Можно итерироваться по ключу и без использования метода **keys()**, но, как нам говорит Python Zen: \"Явное лучше, чем неявное\", поэтому лучше явно прописать **.keys()**, чтобы улучшить читабельность кода"
   ]
  },
  {
   "cell_type": "code",
   "execution_count": 11,
   "id": "e4b650fd",
   "metadata": {},
   "outputs": [
    {
     "name": "stdout",
     "output_type": "stream",
     "text": [
      "a\n",
      "b\n",
      "c\n"
     ]
    }
   ],
   "source": [
    "for k in dictionary:\n",
    "    print(k)"
   ]
  },
  {
   "cell_type": "markdown",
   "id": "9fc6c676",
   "metadata": {},
   "source": [
    "Итерироваться по значениям можно следующим образом:"
   ]
  },
  {
   "cell_type": "code",
   "execution_count": 12,
   "id": "1076d5e5",
   "metadata": {},
   "outputs": [
    {
     "name": "stdout",
     "output_type": "stream",
     "text": [
      "1\n",
      "2\n",
      "3\n"
     ]
    }
   ],
   "source": [
    "for v in dictionary.values(): # итерация по значениям\n",
    "    print(v)"
   ]
  },
  {
   "cell_type": "code",
   "execution_count": 3,
   "id": "57de0607",
   "metadata": {},
   "outputs": [
    {
     "name": "stdout",
     "output_type": "stream",
     "text": [
      "('a', 1)\n",
      "('b', 2)\n",
      "('c', 3)\n",
      "a 1\n",
      "b 2\n",
      "c 3\n"
     ]
    }
   ],
   "source": [
    "for pair in dictionary.items():\n",
    "    print(pair)\n",
    "    \n",
    "for key, value in dictionary.items():\n",
    "    print(key, value)"
   ]
  },
  {
   "cell_type": "markdown",
   "id": "0a1bfa25",
   "metadata": {},
   "source": [
    "Как еще можно создавать словари:"
   ]
  },
  {
   "cell_type": "code",
   "execution_count": 5,
   "id": "dc80a495",
   "metadata": {},
   "outputs": [
    {
     "data": {
      "text/plain": [
       "{'a': 1, 'b': 2, 'c': 3}"
      ]
     },
     "execution_count": 5,
     "metadata": {},
     "output_type": "execute_result"
    },
    {
     "data": {
      "text/plain": [
       "{'Petya': 20, 'Vasya': 21, 'Masha': 22}"
      ]
     },
     "execution_count": 5,
     "metadata": {},
     "output_type": "execute_result"
    }
   ],
   "source": [
    "a = dict(a=1, b=2, c=3)\n",
    "a\n",
    "\n",
    "keys = [\"Petya\", \"Vasya\", \"Masha\"]\n",
    "values = [20, 21, 22]\n",
    "dictionary = dict(zip(keys, values))\n",
    "dictionary"
   ]
  },
  {
   "cell_type": "markdown",
   "id": "132d4503",
   "metadata": {},
   "source": [
    "Еще раз, полезные методы:"
   ]
  },
  {
   "cell_type": "code",
   "execution_count": 6,
   "id": "0f8ffed0",
   "metadata": {},
   "outputs": [
    {
     "name": "stdout",
     "output_type": "stream",
     "text": [
      "['a', 'b', 'c']\n",
      "[1, 2, 3]\n",
      "[('a', 1), ('b', 2), ('c', 3)]\n"
     ]
    }
   ],
   "source": [
    "print(list(a.keys()))\n",
    "print(list(a.values()))\n",
    "print(list(a.items()))"
   ]
  },
  {
   "cell_type": "markdown",
   "id": "95b87bb7",
   "metadata": {},
   "source": [
    "Удаление элемента словаря:"
   ]
  },
  {
   "cell_type": "code",
   "execution_count": 7,
   "id": "e0ee07b6",
   "metadata": {},
   "outputs": [
    {
     "data": {
      "text/plain": [
       "{'Petya': 20, 'Masha': 22}"
      ]
     },
     "execution_count": 7,
     "metadata": {},
     "output_type": "execute_result"
    }
   ],
   "source": [
    "del dictionary['Vasya']\n",
    "dictionary"
   ]
  },
  {
   "cell_type": "markdown",
   "id": "36b5e677",
   "metadata": {},
   "source": [
    "Объединение двух словарей:"
   ]
  },
  {
   "cell_type": "code",
   "execution_count": 8,
   "id": "414155e0",
   "metadata": {},
   "outputs": [
    {
     "data": {
      "text/plain": [
       "{'a': 1, 'b': 2, 'c': 3, 'Petya': 20, 'Masha': 22}"
      ]
     },
     "execution_count": 8,
     "metadata": {},
     "output_type": "execute_result"
    }
   ],
   "source": [
    "a.update(dictionary)  # объединение двух словарей\n",
    "a"
   ]
  },
  {
   "cell_type": "markdown",
   "id": "f855f8d8",
   "metadata": {},
   "source": [
    "По аналогии с **list comprehension** (см. прошлое занятие), существуют и **dict comprehension**:"
   ]
  },
  {
   "cell_type": "code",
   "execution_count": 9,
   "id": "b895480d",
   "metadata": {},
   "outputs": [
    {
     "data": {
      "text/plain": [
       "{0: 0, 1: 1, 2: 8, 3: 27, 4: 64}"
      ]
     },
     "execution_count": 9,
     "metadata": {},
     "output_type": "execute_result"
    }
   ],
   "source": [
    "dct = {i: i**3 for i in range(5)}\n",
    "dct"
   ]
  },
  {
   "cell_type": "markdown",
   "id": "860b0445",
   "metadata": {},
   "source": [
    "Как аккуратно обрабатывать отсутствующие ключи:"
   ]
  },
  {
   "cell_type": "code",
   "execution_count": 10,
   "id": "ea4e5dec",
   "metadata": {},
   "outputs": [
    {
     "name": "stdout",
     "output_type": "stream",
     "text": [
      "not_found default\n",
      "6 6\n"
     ]
    }
   ],
   "source": [
    "dct = {1:2,3:4}\n",
    "key = 5\n",
    "\n",
    "res1 = dct.get(key, 'not_found')\n",
    "res2 = dct.setdefault(key, 'default')\n",
    "print(res1, res2)\n",
    "\n",
    "dct = {1:2,3:4,5:6}\n",
    "\n",
    "res1 = dct.get(key,'not_found')\n",
    "res2 = dct.setdefault(key, 'default')\n",
    "print(res1, res2)"
   ]
  },
  {
   "cell_type": "markdown",
   "id": "ce2bbe7b",
   "metadata": {},
   "source": [
    "**Задача** Необходимо обратить словарь, т.е. как создать словарь с обратными парами *(значение, ключ)*. Считаем, что в исходном словаре значения тоже являются хэшируемыми."
   ]
  },
  {
   "cell_type": "code",
   "execution_count": null,
   "id": "1b01d662",
   "metadata": {},
   "outputs": [],
   "source": []
  },
  {
   "cell_type": "markdown",
   "id": "5d0ccc98",
   "metadata": {},
   "source": [
    "### Множество\n",
    "\n",
    "**Множество (set)** - тип и структура данных, которая является реализацией математического объекта множество. Принцип работы также основан на хеш-таблице.\n",
    "\n",
    "Где удобно использовать множества:\n",
    "- подсчет уникальных элементов в списке\n",
    "- быстрая проверка элемента на вхождение"
   ]
  },
  {
   "cell_type": "code",
   "execution_count": 11,
   "id": "9c1bc452",
   "metadata": {},
   "outputs": [
    {
     "name": "stdout",
     "output_type": "stream",
     "text": [
      "{1, 2, 3, 5} {2, 3, 4, 5, 6}\n"
     ]
    }
   ],
   "source": [
    "a = {1, 2, 3}\n",
    "b = set([2, 3, 4])\n",
    "\n",
    "a.add(5)\n",
    "b.update({5, 6}) # объединить множество с другим множеством\n",
    "print(a, b)"
   ]
  },
  {
   "cell_type": "markdown",
   "id": "6dca5678",
   "metadata": {},
   "source": [
    "Проверки с множествами:"
   ]
  },
  {
   "cell_type": "code",
   "execution_count": 12,
   "id": "e3eda5f9",
   "metadata": {},
   "outputs": [
    {
     "name": "stdout",
     "output_type": "stream",
     "text": [
      "{1, 2, 3, 5} {2, 3, 4, 5, 6}\n",
      "True\n",
      "False\n",
      "False\n",
      "False\n",
      "False\n"
     ]
    }
   ],
   "source": [
    "print(a, b)\n",
    "print(3 in b)\n",
    "print(5 not in b)\n",
    "print(b.issubset(a))   # equivalent to b <= a\n",
    "print(a.issuperset(b)) # equivalent to a >= b\n",
    "print(a.isdisjoint(b)) # True если пустое пересечение; equivalent to \"not a & b\""
   ]
  },
  {
   "cell_type": "markdown",
   "id": "eac02a53",
   "metadata": {},
   "source": [
    "Операции над множествами:"
   ]
  },
  {
   "cell_type": "code",
   "execution_count": 13,
   "id": "29246ef5",
   "metadata": {},
   "outputs": [
    {
     "name": "stdout",
     "output_type": "stream",
     "text": [
      "{1, 2, 3, 5} {2, 3, 4, 5, 6}\n",
      "{1}\n",
      "{4, 6}\n",
      "{1, 2, 3, 4, 5, 6}\n",
      "{2, 3, 5}\n",
      "{1, 4, 6}\n"
     ]
    }
   ],
   "source": [
    "print(a, b)\n",
    "print(a - b)\n",
    "print(b - a)\n",
    "print(a | b) # объединение\n",
    "print(a & b) # пересечение\n",
    "print(a ^ b) # ~ XOR"
   ]
  },
  {
   "cell_type": "markdown",
   "id": "1345ec65",
   "metadata": {},
   "source": [
    "Те же операции можно использовать как методы объектов:"
   ]
  },
  {
   "cell_type": "code",
   "execution_count": 14,
   "id": "89fa56e9",
   "metadata": {},
   "outputs": [
    {
     "data": {
      "text/plain": [
       "{1}"
      ]
     },
     "execution_count": 14,
     "metadata": {},
     "output_type": "execute_result"
    },
    {
     "data": {
      "text/plain": [
       "{1, 2, 3, 4, 5, 6}"
      ]
     },
     "execution_count": 14,
     "metadata": {},
     "output_type": "execute_result"
    },
    {
     "data": {
      "text/plain": [
       "{2, 3, 5}"
      ]
     },
     "execution_count": 14,
     "metadata": {},
     "output_type": "execute_result"
    },
    {
     "data": {
      "text/plain": [
       "{1, 4, 6}"
      ]
     },
     "execution_count": 14,
     "metadata": {},
     "output_type": "execute_result"
    }
   ],
   "source": [
    "a.difference(b)             # a - b\n",
    "a.union(b)                  # a | b\n",
    "a.intersection(b)           # a & b\n",
    "a.symmetric_difference(b)   # a ^ b\n",
    "\n",
    "a.difference_update(b)            # a -= b\n",
    "a.update(b)                       # a |= b\n",
    "a.intersection_update(b)          # a &= b\n",
    "a.symmetric_difference_update(b)  # a ^= b"
   ]
  },
  {
   "cell_type": "markdown",
   "id": "0169b9a2",
   "metadata": {},
   "source": [
    "Удаление элементов из множества осуществляется с помощью методов **remove** и **discard**:"
   ]
  },
  {
   "cell_type": "code",
   "execution_count": 15,
   "id": "1f5db4d7",
   "metadata": {},
   "outputs": [
    {
     "ename": "KeyError",
     "evalue": "3",
     "output_type": "error",
     "traceback": [
      "\u001b[1;31m---------------------------------------------------------------------------\u001b[0m",
      "\u001b[1;31mKeyError\u001b[0m                                  Traceback (most recent call last)",
      "\u001b[1;32m~\\AppData\\Local\\Temp/ipykernel_5604/4187829288.py\u001b[0m in \u001b[0;36m<module>\u001b[1;34m\u001b[0m\n\u001b[0;32m      1\u001b[0m \u001b[0ma\u001b[0m \u001b[1;33m=\u001b[0m \u001b[1;33m{\u001b[0m\u001b[1;36m1\u001b[0m\u001b[1;33m,\u001b[0m \u001b[1;36m2\u001b[0m\u001b[1;33m,\u001b[0m \u001b[1;36m3\u001b[0m\u001b[1;33m}\u001b[0m\u001b[1;33m\u001b[0m\u001b[1;33m\u001b[0m\u001b[0m\n\u001b[0;32m      2\u001b[0m \u001b[0ma\u001b[0m\u001b[1;33m.\u001b[0m\u001b[0mremove\u001b[0m\u001b[1;33m(\u001b[0m\u001b[1;36m3\u001b[0m\u001b[1;33m)\u001b[0m\u001b[1;33m\u001b[0m\u001b[1;33m\u001b[0m\u001b[0m\n\u001b[1;32m----> 3\u001b[1;33m \u001b[0ma\u001b[0m\u001b[1;33m.\u001b[0m\u001b[0mremove\u001b[0m\u001b[1;33m(\u001b[0m\u001b[1;36m3\u001b[0m\u001b[1;33m)\u001b[0m\u001b[1;33m\u001b[0m\u001b[1;33m\u001b[0m\u001b[0m\n\u001b[0m",
      "\u001b[1;31mKeyError\u001b[0m: 3"
     ]
    }
   ],
   "source": [
    "a = {1, 2, 3}\n",
    "a.remove(3)\n",
    "a.remove(3)"
   ]
  },
  {
   "cell_type": "code",
   "execution_count": 16,
   "id": "74a14e8e",
   "metadata": {},
   "outputs": [
    {
     "data": {
      "text/plain": [
       "{1, 2}"
      ]
     },
     "execution_count": 16,
     "metadata": {},
     "output_type": "execute_result"
    }
   ],
   "source": [
    "a = {1,2,3}\n",
    "a.discard(3)\n",
    "a.discard(3)\n",
    "a"
   ]
  },
  {
   "cell_type": "markdown",
   "id": "8a833b45",
   "metadata": {},
   "source": [
    "Также существуют и генераторы множеств:"
   ]
  },
  {
   "cell_type": "code",
   "execution_count": 17,
   "id": "1aee88d2",
   "metadata": {},
   "outputs": [
    {
     "data": {
      "text/plain": [
       "{0, 3, 6, 9}"
      ]
     },
     "execution_count": 17,
     "metadata": {},
     "output_type": "execute_result"
    }
   ],
   "source": [
    "st = {i for i in range(10) if not i % 3} \n",
    "st"
   ]
  },
  {
   "cell_type": "code",
   "execution_count": 18,
   "id": "1eed51af",
   "metadata": {},
   "outputs": [
    {
     "ename": "TypeError",
     "evalue": "unhashable type: 'set'",
     "output_type": "error",
     "traceback": [
      "\u001b[1;31m---------------------------------------------------------------------------\u001b[0m",
      "\u001b[1;31mTypeError\u001b[0m                                 Traceback (most recent call last)",
      "\u001b[1;32m~\\AppData\\Local\\Temp/ipykernel_5604/4215361723.py\u001b[0m in \u001b[0;36m<module>\u001b[1;34m\u001b[0m\n\u001b[1;32m----> 1\u001b[1;33m \u001b[0md\u001b[0m \u001b[1;33m=\u001b[0m \u001b[1;33m{\u001b[0m\u001b[0mst\u001b[0m\u001b[1;33m:\u001b[0m \u001b[1;36m1\u001b[0m\u001b[1;33m}\u001b[0m \u001b[1;31m# set тоже не является хэшируемым\u001b[0m\u001b[1;33m\u001b[0m\u001b[1;33m\u001b[0m\u001b[0m\n\u001b[0m",
      "\u001b[1;31mTypeError\u001b[0m: unhashable type: 'set'"
     ]
    }
   ],
   "source": [
    "d = {st: 1} # set тоже не является хэшируемым"
   ]
  },
  {
   "cell_type": "code",
   "execution_count": 19,
   "id": "89243eb2",
   "metadata": {},
   "outputs": [
    {
     "data": {
      "text/plain": [
       "{frozenset({0, 3, 6, 9}): 6}"
      ]
     },
     "execution_count": 19,
     "metadata": {},
     "output_type": "execute_result"
    }
   ],
   "source": [
    "d = {frozenset(st): 6}  # а вот frozenset уже можно хэшировать, так как он является неизменяемым объектом\n",
    "d"
   ]
  },
  {
   "cell_type": "markdown",
   "id": "d6e8e757",
   "metadata": {},
   "source": [
    "#### Особенность работы хэш-функции в Python\n",
    "\n",
    "Имеем множество:"
   ]
  },
  {
   "cell_type": "code",
   "execution_count": 20,
   "id": "bc84ecd6",
   "metadata": {},
   "outputs": [
    {
     "data": {
      "text/plain": [
       "{0, 1, 2}"
      ]
     },
     "execution_count": 20,
     "metadata": {},
     "output_type": "execute_result"
    }
   ],
   "source": [
    "s = {0, 1, 2}\n",
    "s"
   ]
  },
  {
   "cell_type": "markdown",
   "id": "87fb663d",
   "metadata": {},
   "source": [
    "Хотим добавить к нему `True`, `False` и `2.0`:"
   ]
  },
  {
   "cell_type": "code",
   "execution_count": 21,
   "id": "89bbeed4",
   "metadata": {},
   "outputs": [
    {
     "data": {
      "text/plain": [
       "{0, 1, 2}"
      ]
     },
     "execution_count": 21,
     "metadata": {},
     "output_type": "execute_result"
    }
   ],
   "source": [
    "s.add(True)\n",
    "s.add(False)\n",
    "s.add(2.0)\n",
    "s"
   ]
  },
  {
   "cell_type": "markdown",
   "id": "074d8bc7",
   "metadata": {},
   "source": [
    "Ожидаем увидеть множество: `{0, 1, 2, True, False, 2.0}`, но получили снова `{0, 1, 2}`.\n",
    "\n",
    "**Вопрос** - почему множество не поменялось?"
   ]
  },
  {
   "cell_type": "markdown",
   "id": "a2cf9ebc",
   "metadata": {},
   "source": [
    "Это связано с тем, что `bool` является подтипом `int`, из-за чего:"
   ]
  },
  {
   "cell_type": "code",
   "execution_count": 22,
   "id": "4484db40",
   "metadata": {},
   "outputs": [
    {
     "data": {
      "text/plain": [
       "(True, True)"
      ]
     },
     "execution_count": 22,
     "metadata": {},
     "output_type": "execute_result"
    },
    {
     "data": {
      "text/plain": [
       "(True, True)"
      ]
     },
     "execution_count": 22,
     "metadata": {},
     "output_type": "execute_result"
    }
   ],
   "source": [
    "1 == True, hash(1) == hash(True)\n",
    "0 == False, hash(0) == hash(False)"
   ]
  },
  {
   "cell_type": "markdown",
   "id": "91508684",
   "metadata": {},
   "source": [
    "Из-за этого у них одинаковые хэши и для множества они не различимы. Почему `bool` является подтипом `int`? Исторически так сложилось - см. [PEP-285](https://www.python.org/dev/peps/pep-0285/).\n",
    "\n",
    "Аналогично и для `2` и `2.0`, потому что у них одинаковые хэши. Это особенность работы функции `hash`, см. [документацию](https://docs.python.org/3/library/functions.html?highlight=hash#hash)."
   ]
  },
  {
   "cell_type": "code",
   "execution_count": 23,
   "id": "8c5b9a07",
   "metadata": {},
   "outputs": [
    {
     "data": {
      "text/plain": [
       "(True, False)"
      ]
     },
     "execution_count": 23,
     "metadata": {},
     "output_type": "execute_result"
    }
   ],
   "source": [
    "hash(2) == hash(2.0), hash(2) == hash(2.000000000000001)"
   ]
  },
  {
   "cell_type": "markdown",
   "id": "c4198b8c",
   "metadata": {},
   "source": [
    "**Задача** Даны два отсортированных списка с числами (необязательно одной длины). Выведите все числа, которые есть в первом списке, но нет во втором."
   ]
  },
  {
   "cell_type": "code",
   "execution_count": 24,
   "id": "ca51a4a7",
   "metadata": {},
   "outputs": [],
   "source": [
    "lst1 = [1, 2, 8]\n",
    "lst2 = [2, 6]"
   ]
  },
  {
   "cell_type": "markdown",
   "id": "d5c48804",
   "metadata": {},
   "source": [
    "##### Способ 1. С помощью set\n",
    "\n",
    "Формально за $O(n)$ по времени (на создание set уходит $O(n)$, но с немалой константой), но требует доп. память, и не используется отсортированность."
   ]
  },
  {
   "cell_type": "code",
   "execution_count": 25,
   "id": "53d19df3",
   "metadata": {},
   "outputs": [
    {
     "data": {
      "text/plain": [
       "{1, 8}"
      ]
     },
     "execution_count": 25,
     "metadata": {},
     "output_type": "execute_result"
    }
   ],
   "source": [
    "set(lst1) - set(lst2)"
   ]
  },
  {
   "cell_type": "markdown",
   "id": "d240a4be",
   "metadata": {},
   "source": [
    "##### Способ 2. Используем отсортированность"
   ]
  },
  {
   "cell_type": "code",
   "execution_count": 26,
   "id": "57a20bb0",
   "metadata": {},
   "outputs": [
    {
     "name": "stdout",
     "output_type": "stream",
     "text": [
      "1\n",
      "8\n"
     ]
    }
   ],
   "source": [
    "i, j = 0, 0\n",
    "while i < len(lst1):\n",
    "    if j >= len(lst2) or lst1[i] < lst2[j]: \n",
    "        print(lst1[i])\n",
    "        i += 1\n",
    "    elif lst1[i] == lst2[j]:\n",
    "        i += 1\n",
    "        j += 1\n",
    "    else:\n",
    "        j += 1"
   ]
  },
  {
   "cell_type": "markdown",
   "id": "74e10084",
   "metadata": {},
   "source": [
    "## Модуль collections\n",
    "\n",
    "Модуль **collections** предоставляет модифицированные структуры данных на основе словарей, кортежей, множеств, списков. Подробнее о модуле можете прочитать в [документации](https://docs.python.org/3/library/collections.html) или в [туториале](https://pythonworld.ru/moduli/modul-collections.html).\n",
    "\n",
    "**Рассмотрим некоторые типы данных:**\n",
    "1. defaultdict\n",
    "2. deque\n",
    "3. OrderedDict\n",
    "4. Counter"
   ]
  },
  {
   "cell_type": "markdown",
   "id": "45b75784",
   "metadata": {},
   "source": [
    "### defaultdict\n",
    "\n",
    "**collections.defaultdict** - модификация обычного словаря, позволяет указать функцию, которая будет вызвана для ключа, если его нет:"
   ]
  },
  {
   "cell_type": "code",
   "execution_count": 27,
   "id": "9940e9cf",
   "metadata": {},
   "outputs": [
    {
     "name": "stdout",
     "output_type": "stream",
     "text": [
      "0.0\n",
      "defaultdict(<class 'float'>, {2: 0.0})\n",
      "dict_items([('yellow', [1, 3]), ('blue', [2, 4]), ('red', [1])])\n"
     ]
    }
   ],
   "source": [
    "from collections import defaultdict\n",
    "dct = defaultdict(float)\n",
    "print(dct[2]) # если ключа нет, то устанавливает дефолтное значение\n",
    "print(dct)\n",
    "\n",
    "s = [('yellow', 1), ('blue', 2), ('yellow', 3), ('blue', 4), ('red', 1)]\n",
    "d = defaultdict(list)\n",
    "for k, v in s:\n",
    "    d[k].append(v)\n",
    "print(d.items())"
   ]
  },
  {
   "cell_type": "markdown",
   "id": "cb50af8a",
   "metadata": {},
   "source": [
    "### deque\n",
    "\n",
    "**deque** (\"double-ended queue\") - обобщение очереди и стека. Позволяет добавлять и извлекать элементы с начала и конца."
   ]
  },
  {
   "cell_type": "code",
   "execution_count": 28,
   "id": "8e073141",
   "metadata": {},
   "outputs": [
    {
     "name": "stdout",
     "output_type": "stream",
     "text": [
      "G\n",
      "H\n",
      "I\n",
      "deque(['f', 'g', 'h', 'i', 'j'])\n",
      "j\n",
      "f\n",
      "['g', 'h', 'i']\n"
     ]
    }
   ],
   "source": [
    "from collections import deque\n",
    "d = deque('ghi')                 # создаем дек с 3 элементами\n",
    "for elem in d:                   # проходимся по всем элементам\n",
    "    print(elem.upper())\n",
    "\n",
    "d.append('j')                    # добавляем элемент в конец\n",
    "d.appendleft('f')                # добавляем элемент в начало\n",
    "print(d)\n",
    "\n",
    "print(d.pop())                   # возвращаем и удаляем элемент справа\n",
    "print(d.popleft())               # возвращаем и удаляем элемент слева\n",
    "print(list(d))                   # список элементов дека"
   ]
  },
  {
   "cell_type": "code",
   "execution_count": 29,
   "id": "684adb74",
   "metadata": {},
   "outputs": [
    {
     "name": "stdout",
     "output_type": "stream",
     "text": [
      "g\n",
      "i\n",
      "['i', 'h', 'g']\n",
      "True\n",
      "deque(['g', 'h', 'i', 'j', 'k', 'l'])\n",
      "deque(['l', 'g', 'h', 'i', 'j', 'k'])\n"
     ]
    }
   ],
   "source": [
    "print(d[0])                      # получаем элемент слева\n",
    "print(d[-1])                     # получаем элемент справа\n",
    "print(list(reversed(d)))         # обращенный список элементов дека\n",
    "print('h' in d)                  # проверяем вхождение элемента в дек\n",
    "\n",
    "d.extend('jkl')                  # добавляем несколько элементов\n",
    "print(d)\n",
    "\n",
    "d.rotate(1)                      # перенесем 1 элемент из начала в конец\n",
    "print(d)\n",
    "d.rotate(-1)                     # перенесем 1 элемент из конца в начало"
   ]
  },
  {
   "cell_type": "markdown",
   "id": "87053374",
   "metadata": {},
   "source": [
    "### OrderedDict\n",
    "\n",
    "**OrderedDict** - модификация словаря, который запоминает порядок добавления элементов. \n",
    "\n",
    "C версии Python 3.7  сохранение порядка гарантируется и для dict, но операция сравнения для обычных диктов всё ещё не учитывает порядок в отличие от OrderedDict. Кроме того, у OrderedDict есть метод **move_to_end** (подвинуть существующий элемент в конец)."
   ]
  },
  {
   "cell_type": "code",
   "execution_count": 30,
   "id": "e29a2be3",
   "metadata": {},
   "outputs": [
    {
     "name": "stdout",
     "output_type": "stream",
     "text": [
      "{1: 'a', 3: 'c', 2: 'b'}\n",
      "OrderedDict([(1, 'a'), (3, 'c'), (2, 'b')])\n",
      "True\n",
      "False\n"
     ]
    }
   ],
   "source": [
    "from collections import OrderedDict\n",
    "\n",
    "data1 = [(1, 'a'), (3, 'c'), (2, 'b')]\n",
    "data2 = [(1, 'a'), (2, 'b'), (3, 'c')]\n",
    "\n",
    "print(dict(data1))\n",
    "print(OrderedDict(data1))\n",
    "print(dict(data1) == dict(data2))\n",
    "print(OrderedDict(data1) == OrderedDict(data2))"
   ]
  },
  {
   "cell_type": "markdown",
   "id": "134e7a57",
   "metadata": {},
   "source": [
    "### Counter\n",
    "\n",
    "**Counter** - модификация словаря для подсчета хешируемых объектов."
   ]
  },
  {
   "cell_type": "code",
   "execution_count": 31,
   "id": "9382b837",
   "metadata": {},
   "outputs": [
    {
     "data": {
      "text/plain": [
       "[('a', 5), ('b', 2), ('r', 2)]"
      ]
     },
     "execution_count": 31,
     "metadata": {},
     "output_type": "execute_result"
    },
    {
     "data": {
      "text/plain": [
       "['a', 'a', 'a', 'a', 'b', 'b']"
      ]
     },
     "execution_count": 31,
     "metadata": {},
     "output_type": "execute_result"
    },
    {
     "data": {
      "text/plain": [
       "Counter({'a': 3, 'b': 0, 'c': -3, 'd': -6})"
      ]
     },
     "execution_count": 31,
     "metadata": {},
     "output_type": "execute_result"
    }
   ],
   "source": [
    "from collections import Counter\n",
    "с = Counter('abracadabra')\n",
    "с.most_common(3)  # Получить 3 самых частых элемента\n",
    "\n",
    "c = Counter(a=4, b=2, c=0, d=-2)\n",
    "sorted(c.elements())\n",
    "\n",
    "c = Counter(a=4, b=2, c=0, d=-2)\n",
    "d = Counter(a=1, b=2, c=3, d=4)\n",
    "c.subtract(d)\n",
    "c"
   ]
  },
  {
   "cell_type": "code",
   "execution_count": null,
   "id": "56f22723",
   "metadata": {},
   "outputs": [],
   "source": []
  }
 ],
 "metadata": {
  "kernelspec": {
   "display_name": "Python 3 (ipykernel)",
   "language": "python",
   "name": "python3"
  },
  "language_info": {
   "codemirror_mode": {
    "name": "ipython",
    "version": 3
   },
   "file_extension": ".py",
   "mimetype": "text/x-python",
   "name": "python",
   "nbconvert_exporter": "python",
   "pygments_lexer": "ipython3",
   "version": "3.9.7"
  }
 },
 "nbformat": 4,
 "nbformat_minor": 5
}
