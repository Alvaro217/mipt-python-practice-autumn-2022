{
 "cells": [
  {
   "cell_type": "code",
   "execution_count": 1,
   "metadata": {
    "id": "JqCQswn5quA-",
    "pycharm": {
     "name": "#%%\n"
    }
   },
   "outputs": [],
   "source": [
    "from IPython.core.interactiveshell import InteractiveShell\n",
    "InteractiveShell.ast_node_interactivity = \"all\""
   ]
  },
  {
   "cell_type": "markdown",
   "metadata": {
    "id": "P_bpT_NzquBB",
    "pycharm": {
     "name": "#%% md\n"
    }
   },
   "source": [
    "# Практикум Python\n",
    "\n",
    "\n",
    "<img src=\"https://www.python.org/static/community_logos/python-logo-master-v3-TM.png\" align=\"right\" style=\"height: 200px;\"/>"
   ]
  },
  {
   "cell_type": "markdown",
   "metadata": {},
   "source": [
    "# О курсе"
   ]
  },
  {
   "cell_type": "markdown",
   "metadata": {},
   "source": [
    "#### Чат курса: https://bit.ly/atp-python-practice\n",
    "\n",
    "#### Ссылка на материалы (доступ с физтеховского аккаунта): https://disk.yandex.ru/d/px7hx-c8PF-0ZA?ncrnd=526832&status=ok"
   ]
  },
  {
   "cell_type": "markdown",
   "metadata": {},
   "source": [
    "### Требования:\n",
    "1. Физтех-почта (домен phystech.edu)\n",
    "2. Аккаунт на GitHub\n",
    "3. Ноутбук на занятиях"
   ]
  },
  {
   "cell_type": "markdown",
   "metadata": {},
   "source": [
    "#### План курса\n",
    "<img src=\"sem1.png\" width=\"600\" height=\"400\">"
   ]
  },
  {
   "cell_type": "markdown",
   "metadata": {},
   "source": [
    "### Как сдать курс:\n",
    "1. Тесты\n",
    "2. Контесты (6 штук)\n",
    "3. Практические проекты\n",
    "4. Лабораторная работа"
   ]
  },
  {
   "cell_type": "markdown",
   "metadata": {},
   "source": [
    "#### Тесты \n",
    "1. На базе Я.Форм - нужен phystech-почта\n",
    "2. 10 минут в начале каждого занятия\n",
    "3. Вопросы по материалу прошлого занятия\n",
    "4. 10 баллов за каждый тест\n",
    "\n",
    "\n",
    "#### Контесты\n",
    "1. На базе Я.Контест - нужен phystech-почта\n",
    "2. Всего 6 контестов - на каждую тему базового блока\n",
    "3. Срок решения - 2 недели\n",
    "4. Первый контест - TBA\n",
    "5. 10 баллов за каждый контест\n",
    "6. **Списывание детектируется и наказуемо!**\n",
    "\n",
    "\n",
    "#### Практические работы\n",
    "1. 2 проекта - консольное приложение (после ООП) и серверное приложение (после Сети-2)\n",
    "2. Работа над кодом в несколько итераций на GitHub\n",
    "3. Срок работы - 2 недели + 1 неделя на каждую следующую итерацию\n",
    "4. Список тем проектов будет позднее\n",
    "5. Оценка за проект: зачет / незачет + до 2 доп. баллов (wow-эффект)\n",
    "\n",
    "\n",
    "#### Лабораторная работа\n",
    "1. Анализ данных с помощью Pandas и Matplotlib\n",
    "2. Выдается после \"Инструменты визуализации\"\n",
    "3. Срок работы - 2 недели\n",
    "4. Оценка: 10 баллов\n",
    "5. **Является блокирующей!** Для получения зачета необходимо набрать хотя бы 1 балл\n"
   ]
  },
  {
   "cell_type": "markdown",
   "metadata": {},
   "source": [
    "### Формула для оценки\n",
    "1. Если сдали 2 проекта **И** лабораторную \n",
    "\n",
    "$\\min(10, 9 * \\frac{avg\\_tests + \\sum contests + lab}{80} + project\\_bonus)$\n",
    "\n",
    "(округление вниз для дробной оценки)\n",
    "\n",
    "2. Если сдали 1 проект **И** лабораторную:\n",
    "\n",
    "Минус 1 по пятибалльной шкале\n",
    "\n",
    "отл(10) -> хор(7)\n",
    "\n",
    "хор(6) -> уд(4)\n",
    "\n",
    "уд(4) -> неуд(2)\n",
    "\n",
    "3. Если сдали 0 проектов **ИЛИ** не сдали лабораторную: **ПОТРАЧЕНО**"
   ]
  },
  {
   "cell_type": "markdown",
   "metadata": {},
   "source": [
    "### Вопросы\n",
    "1. По заданиям и материалам вопросы можно задавать в чате, семинаристу или старшему преподавателю. Способы указаны в порядке приоритетности\n",
    "2. Задавайте вопросы в **рабочее время** (если не экстренная ситуация)\n",
    "3. Не откладывайте до дедлайна – можем всем не успеть ответить"
   ]
  },
  {
   "cell_type": "markdown",
   "metadata": {
    "id": "uQ737pAiquBC",
    "pycharm": {
     "name": "#%% md\n"
    }
   },
   "source": [
    "# Тема 1. Знакомство с Python\n",
    "\n",
    "# Историческая справка\n",
    "\n",
    "Язык Python разрабатывался Гвидо ван Россумом с 1989 г.\n",
    "\n",
    "![guido](https://upload.wikimedia.org/wikipedia/commons/thumb/6/66/Guido_van_Rossum_OSCON_2006.jpg/400px-Guido_van_Rossum_OSCON_2006.jpg)\n",
    "\n",
    "*Source: [Wikipedia](https://upload.wikimedia.org/wikipedia/commons/thumb/6/66/Guido_van_Rossum_OSCON_2006.jpg/400px-Guido_van_Rossum_OSCON_2006.jpg)*\n",
    "\n",
    "Назван в честь популярного британского комедийного телешоу 1970-х \"Летающий цирк Монти Пайтона\".\n",
    "\n",
    "**Основные (мажорные) версии:**\n",
    "* Python 1.0 — январь 1994\n",
    "* Python 2.0 — 16.10.2000\n",
    "  * Python 2.7.18 - 20.04.2020 (последний релиз, больше не поддерживается)\n",
    "* Python 3.0 — 3.12.2008\n",
    "  * Python 3.10.0 - 04.10.2021\n",
    "\n",
    "Python вобрал в себя множество удобных и полезных аспектов других языков программирования (ABC, Lisp, Haskell, C, C++).\n",
    "\n",
    "Благодаря своей нацеленности на ясный синтаксис, Python играл центральную роль в проекте \"Computer Programming for Everybody\", предназначенном сделать программирование доступным для большего числа людей, на основе получения базовой «компьютерной грамотности». \n",
    "\n",
    "\n",
    "\n"
   ]
  },
  {
   "cell_type": "markdown",
   "metadata": {
    "id": "rHEp22C8quBD",
    "pycharm": {
     "name": "#%% md\n"
    }
   },
   "source": [
    "# Основные свойства Python\n"
   ]
  },
  {
   "cell_type": "markdown",
   "metadata": {
    "id": "QRazOGk2quBD",
    "pycharm": {
     "name": "#%% md\n"
    }
   },
   "source": [
    "## Интерпретируемость"
   ]
  },
  {
   "cell_type": "markdown",
   "metadata": {
    "id": "HlWQ32CRztja"
   },
   "source": [
    "### Лирическое отступление. Чем отличаются компилируемые и интерпретируемые языки?\n",
    "\n",
    "Компьютер не понимает синтаксис языков программирования напрямую, ему нужно передавать *компьютерный код*.\n",
    "\n",
    "- В **компилируемых** используется специальная программа - **компилятор**, которая берет программу **целиком** и преобразует (компилирует) ее в исполняемый компьютерный код. После этого компьютер может исполнять скомпилиированную программу. Компилятор способен выполнять многие или даже все операции: предварительную обработку исходной программы, парсинг, семантический анализ, преобразование входных программ в промежуточное представление, оптимизацию и генерацию кода.\n",
    "\n",
    "    ![compiler](https://cdn-images-1.medium.com/max/533/0*OaEDlCa01FEDRIQ8)\n",
    "    \n",
    "    *Source: [NoP](https://nuancesprog.ru/p/12524/)*\n",
    "\n",
    "- В **интерпретируемых** преобразование осуществляется **интерпретатором** последовательно - оператор за оператором.\n",
    "\n",
    "    ![interpreter](https://cdn-images-1.medium.com/max/533/0*MddNw1pcH9OJiekl)\n",
    "\n",
    "    *Source: [NoP](https://nuancesprog.ru/p/12524/)*\n",
    "\n",
    "\n",
    "И **компилятор**, и **интерпретатор** выполняют одну и ту же работу  —  преобразовывают язык программирования высокого уровня в машинный код. Однако **компилятор** преобразовывает исходный материал в машинный код **перед запуском** программы. **Интерпретатор** выполняет эту функцию **при ее запуске**.\n",
    "\n",
    "Примеры компилируемых языков программирования - C, C++.\n",
    "\n",
    "Примеры интерпретируемых языков программирования - Perl, Python и Matlab."
   ]
  },
  {
   "cell_type": "markdown",
   "metadata": {
    "id": "KvSuIxIzzwB_"
   },
   "source": [
    "#### Преимущества и недостатки\n",
    "\n",
    "**Преимущества компилятора:**\n",
    "- Программный код переводится целиком - можно оптимизировать его на низком уровне, тем самым сделать **быстрее**\n",
    "- Объектные программы **лучше защищены от изменения** пользователем сложнее изменить, чем исходный код\n",
    "- Компилятор **проверяет исходный код** на наличие синтаксических ошибок во время компиляции\n",
    "\n",
    "**Недостатки компилятора:**\n",
    "- Поскольку переводится вся программа, она **использует гораздо больше памяти** компьютера\n",
    "- При работе с компилятором **невозможно\\* изменить программу**, не вернувшись к исходному коду\n",
    "- Компилирование может занимать **очень много времени**\n",
    "\n",
    "    ![compiling](https://xkcd.ru/i/303_v2.png)\n",
    "\n",
    "    *Source: [xkcd.ru](https://xkcd.ru/303/)*\n",
    "- Исходный код должен быть **на 100% верным** для создания исполняемого файла\n",
    "- Компилирование выполняется **только под определенную платформу** (x86, arm, ...)\n",
    "\n",
    "**Преимущества интерпретатора:**\n",
    "- С интерпретатором **проще работать с исходным кодом**\n",
    "- Перевод по одной инструкции за раз, поэтому использует **минимальный объем памяти**\n",
    "\n",
    "**Недостатки интерпретатора:**\n",
    "- Каждый раз, когда программа выполняется, тратится время на интерпретацию, из-за чего **затягивается время исполнения**\n",
    "- Для запуска интерпретируемой программы **необходим интерпретатор**"
   ]
  },
  {
   "cell_type": "markdown",
   "metadata": {
    "id": "EWRLzK7b2fW-"
   },
   "source": [
    "Python является **интерпретируемым** языком программирования. Его интепретатор называется `python`:"
   ]
  },
  {
   "cell_type": "code",
   "execution_count": 2,
   "metadata": {
    "colab": {
     "base_uri": "https://localhost:8080/"
    },
    "executionInfo": {
     "elapsed": 16,
     "status": "ok",
     "timestamp": 1662233799392,
     "user": {
      "displayName": "Nikita Chestnov",
      "userId": "16607095869821949390"
     },
     "user_tz": -180
    },
    "id": "Mv4nQlnV2NlY",
    "outputId": "08360b85-2cda-424e-af55-36bf23e8f733"
   },
   "outputs": [
    {
     "name": "stdout",
     "output_type": "stream",
     "text": [
      "Python 3.9.7\n"
     ]
    }
   ],
   "source": [
    "!python --version"
   ]
  },
  {
   "cell_type": "markdown",
   "metadata": {
    "id": "IdYmPVma5XNQ"
   },
   "source": [
    "По этой причине мы можем выполнять команды из языка Python поштучно и сразу наблюдать их результат, чем и будем пользоваться на занятиях."
   ]
  },
  {
   "cell_type": "markdown",
   "metadata": {
    "id": "p6A21OdiquBE",
    "pycharm": {
     "name": "#%% md\n"
    }
   },
   "source": [
    "## Сильная динамическая неявная типизация\n",
    "\n",
    "**Типизация** — это то, как язык распознаёт типы переменных.\n",
    "    "
   ]
  },
  {
   "cell_type": "markdown",
   "metadata": {
    "id": "0SlhZRRM3Pby"
   },
   "source": [
    "### Сильная / слабая типизации\n",
    "\n",
    "Также известны как строгая / нестрогая типизации. Показывает можно ли совершать операции с разными типами данных.\n",
    "\n",
    "В языках со слабой типизацией возможны операции типа: `число + строка`. Обычно это достигается за счет определенных правил приведения типов, которые применяются неявно. Это может быть как удобно, так и запутывающе:\n",
    "\n",
    "![weak_typo](http://sun9-41.userapi.com/impf/c852136/v852136356/1abb55/B-qZf_l-sQk.jpg?size=604x604&quality=96&sign=dd974c5903dc07517b1026f7f963dac8&type=album)\n",
    "\n",
    "*Source: [/dev/null](https://vk.com/wall-72495085_997870)*\n",
    "\n",
    "**Примеры:**\n",
    "- **Сильная:** Perl, Ruby, Python\n",
    "- **Слабая:** C, C++\n",
    "\n",
    "\n",
    "\n"
   ]
  },
  {
   "cell_type": "markdown",
   "metadata": {
    "id": "L2SpauTxquBF",
    "pycharm": {
     "name": "#%% md\n"
    }
   },
   "source": [
    "Пример сильной типизации в Python:"
   ]
  },
  {
   "cell_type": "code",
   "execution_count": 2,
   "metadata": {
    "colab": {
     "base_uri": "https://localhost:8080/",
     "height": 168
    },
    "executionInfo": {
     "elapsed": 328,
     "status": "error",
     "timestamp": 1662235116784,
     "user": {
      "displayName": "Nikita Chestnov",
      "userId": "16607095869821949390"
     },
     "user_tz": -180
    },
    "id": "M0otCUd0quBF",
    "outputId": "8e825eaa-8a51-4a1a-c78d-6deacef84ed0",
    "pycharm": {
     "name": "#%%\n"
    }
   },
   "outputs": [
    {
     "ename": "TypeError",
     "evalue": "unsupported operand type(s) for +: 'int' and 'str'",
     "output_type": "error",
     "traceback": [
      "\u001b[1;31m---------------------------------------------------------------------------\u001b[0m",
      "\u001b[1;31mTypeError\u001b[0m                                 Traceback (most recent call last)",
      "\u001b[1;32m~\\AppData\\Local\\Temp/ipykernel_21140/1078834665.py\u001b[0m in \u001b[0;36m<module>\u001b[1;34m\u001b[0m\n\u001b[1;32m----> 1\u001b[1;33m \u001b[1;36m3\u001b[0m \u001b[1;33m+\u001b[0m \u001b[1;34m'string'\u001b[0m\u001b[1;33m\u001b[0m\u001b[1;33m\u001b[0m\u001b[0m\n\u001b[0m",
      "\u001b[1;31mTypeError\u001b[0m: unsupported operand type(s) for +: 'int' and 'str'"
     ]
    }
   ],
   "source": [
    "3 + 'string'"
   ]
  },
  {
   "cell_type": "markdown",
   "metadata": {
    "id": "PR8juZzb7Pvh"
   },
   "source": [
    "**Замечание:** часто Python используют не столько как язык программирования, как продвинутый калькулятор, позволяющий удобно выполнять большие вычисления."
   ]
  },
  {
   "cell_type": "markdown",
   "metadata": {
    "id": "KdDYb1h8quBH",
    "pycharm": {
     "name": "#%% md\n"
    }
   },
   "source": [
    "### Статическая / динамическая\n",
    "\n",
    "При статической типизации конечные типы переменных устанавливаются до выполнения программы, обычно на этапе компиляции. Так, в динамически типизированном языке у одной и той же переменной могут быть разные типы в разных частях программы, а в статически типизированном, если вы задали переменной тип string, у неё будет только тип string.\n",
    "\n",
    "**Примеры:**\n",
    "- **Статическая:** C, Java, C#\n",
    "- **Динамическая:** Python, JavaScript, Ruby, Objective-C"
   ]
  },
  {
   "cell_type": "markdown",
   "metadata": {
    "id": "POX_Pk2equBH",
    "pycharm": {
     "name": "#%% md\n"
    }
   },
   "source": [
    "Пример динамической типизации в Python:"
   ]
  },
  {
   "cell_type": "code",
   "execution_count": 3,
   "metadata": {
    "colab": {
     "base_uri": "https://localhost:8080/"
    },
    "executionInfo": {
     "elapsed": 8,
     "status": "ok",
     "timestamp": 1662235140183,
     "user": {
      "displayName": "Nikita Chestnov",
      "userId": "16607095869821949390"
     },
     "user_tz": -180
    },
    "id": "hTiVRyPoquBI",
    "outputId": "e4d419fc-03d5-4a2a-b8b8-fbda3a0ac7a5",
    "pycharm": {
     "name": "#%%\n"
    }
   },
   "outputs": [
    {
     "data": {
      "text/plain": [
       "int"
      ]
     },
     "execution_count": 3,
     "metadata": {},
     "output_type": "execute_result"
    }
   ],
   "source": [
    "a = 3\n",
    "type(a)"
   ]
  },
  {
   "cell_type": "code",
   "execution_count": 4,
   "metadata": {
    "colab": {
     "base_uri": "https://localhost:8080/"
    },
    "executionInfo": {
     "elapsed": 6,
     "status": "ok",
     "timestamp": 1662235140641,
     "user": {
      "displayName": "Nikita Chestnov",
      "userId": "16607095869821949390"
     },
     "user_tz": -180
    },
    "id": "_MJ2Lf1U71Jl",
    "outputId": "84136538-d1c9-4223-b43d-280380b872cb"
   },
   "outputs": [
    {
     "data": {
      "text/plain": [
       "str"
      ]
     },
     "execution_count": 4,
     "metadata": {},
     "output_type": "execute_result"
    }
   ],
   "source": [
    "a = 'hello'\n",
    "type(a)"
   ]
  },
  {
   "cell_type": "markdown",
   "metadata": {
    "id": "U--jaPTCquBI",
    "pycharm": {
     "name": "#%% md\n"
    }
   },
   "source": [
    "### Явная / неявная типизация\n",
    "\n",
    "Явно-типизированные языки отличаются тем, что тип новых переменных, функций и их аргументов нужно задавать явно. Языки с неявной типизацией перекладывают эту задачу на компилятор / интерпретатор.\n",
    "\n",
    "**Примеры:**\n",
    "- **Явная:** C++, C#, Rust\n",
    "- **Неявная:** Python, PHP, JavaScript"
   ]
  },
  {
   "cell_type": "markdown",
   "metadata": {
    "id": "o1SOVZMdquBI",
    "pycharm": {
     "name": "#%% md\n"
    }
   },
   "source": [
    "Пример неявной типизации в Python:"
   ]
  },
  {
   "cell_type": "code",
   "execution_count": 5,
   "metadata": {
    "colab": {
     "base_uri": "https://localhost:8080/"
    },
    "executionInfo": {
     "elapsed": 327,
     "status": "ok",
     "timestamp": 1662235202375,
     "user": {
      "displayName": "Nikita Chestnov",
      "userId": "16607095869821949390"
     },
     "user_tz": -180
    },
    "id": "kvs_V961quBI",
    "outputId": "6f0ccd2a-47c9-4caf-fa97-9ff3dc1f457e",
    "pycharm": {
     "name": "#%%\n"
    }
   },
   "outputs": [
    {
     "data": {
      "text/plain": [
       "int"
      ]
     },
     "execution_count": 5,
     "metadata": {},
     "output_type": "execute_result"
    }
   ],
   "source": [
    "a = 0\n",
    "type(a)"
   ]
  },
  {
   "cell_type": "markdown",
   "metadata": {
    "id": "s333TdGwquBJ",
    "pycharm": {
     "name": "#%% md\n"
    }
   },
   "source": [
    "### (REDO) Управление памятью\n",
    "\n",
    "Выделение и освобождение памяти в Python происходит автоматически - не нужно следить за выделяемой памятью и чистить за собой. Тем не менее, забить память все еще можно.\n",
    "\n",
    "Подробности работы сбора мусора: https://www.geeksforgeeks.org/garbage-collection-python/"
   ]
  },
  {
   "cell_type": "markdown",
   "metadata": {
    "id": "Tfqk5TWrquBJ",
    "pycharm": {
     "name": "#%% md\n"
    }
   },
   "source": [
    "# Дзен Python\n",
    "\n",
    "**Дзен Python** — это набор из 19 «руководящих принципов» написания программ, влияющих на структуру языка программирования Python. "
   ]
  },
  {
   "cell_type": "code",
   "execution_count": null,
   "metadata": {
    "id": "aNUwIOO6quBJ",
    "outputId": "e8a7d714-50c1-4895-9291-814c5c8eb6c2",
    "pycharm": {
     "name": "#%%\n"
    }
   },
   "outputs": [
    {
     "name": "stdout",
     "output_type": "stream",
     "text": [
      "The Zen of Python, by Tim Peters\n",
      "\n",
      "Beautiful is better than ugly.\n",
      "Explicit is better than implicit.\n",
      "Simple is better than complex.\n",
      "Complex is better than complicated.\n",
      "Flat is better than nested.\n",
      "Sparse is better than dense.\n",
      "Readability counts.\n",
      "Special cases aren't special enough to break the rules.\n",
      "Although practicality beats purity.\n",
      "Errors should never pass silently.\n",
      "Unless explicitly silenced.\n",
      "In the face of ambiguity, refuse the temptation to guess.\n",
      "There should be one-- and preferably only one --obvious way to do it.\n",
      "Although that way may not be obvious at first unless you're Dutch.\n",
      "Now is better than never.\n",
      "Although never is often better than *right* now.\n",
      "If the implementation is hard to explain, it's a bad idea.\n",
      "If the implementation is easy to explain, it may be a good idea.\n",
      "Namespaces are one honking great idea -- let's do more of those!\n"
     ]
    }
   ],
   "source": [
    "import this"
   ]
  },
  {
   "cell_type": "markdown",
   "metadata": {
    "id": "rXDZkqB48vmM"
   },
   "source": [
    "## Трудности перевода\n",
    "\n",
    "Как понять принцип: `Complex is better than complicated.`, ведь `complex`, и `complicated` переводятся как `сложный`?"
   ]
  },
  {
   "cell_type": "markdown",
   "metadata": {
    "id": "bRZhfyDn9XH1"
   },
   "source": [
    "### Пояснение\n"
   ]
  },
  {
   "cell_type": "markdown",
   "metadata": {
    "id": "aJkzUu3s97ml"
   },
   "source": [
    "*Source: [StackOverflow](https://stackoverflow.com/a/4568733)*\n",
    "\n",
    "**Complex:** Does a lot. Usually unavoidable.\n",
    "\n",
    "**Complicated:** Difficult to understand.\n",
    "\n",
    "I like this quote (source):\n",
    "\n",
    ">A complex person is like an iPod. That is to say that they are consistent, straightforward and ‘user friendly’ while also being rather sophisticated. Unlike the complicated person, interacting with a complex person does not require special knowledge of their complicated ways-because their ways are not complicated. When mistakes are made, they tend to be very forgiving because they understand that people are imperfect. In short, they are mature, sensible human beings."
   ]
  },
  {
   "cell_type": "markdown",
   "metadata": {
    "id": "h6FfaA0aAmUo"
   },
   "source": [
    "# Основы Python"
   ]
  },
  {
   "cell_type": "markdown",
   "metadata": {
    "id": "AtK20cgLAzQt"
   },
   "source": [
    "В Python создание переменной и присваивание\\* ей значения выполняется следующим образом: "
   ]
  },
  {
   "cell_type": "code",
   "execution_count": 6,
   "metadata": {
    "id": "4O8_TLuSA-KX"
   },
   "outputs": [],
   "source": [
    "variable = 4"
   ]
  },
  {
   "cell_type": "markdown",
   "metadata": {
    "id": "PyD0osPnBC3i"
   },
   "source": [
    "Чтобы вывести значение переменной, можно воспользоваться функцией `print` или просто написать имя этой переменной (только в интерактивном режиме!):"
   ]
  },
  {
   "cell_type": "code",
   "execution_count": 7,
   "metadata": {
    "colab": {
     "base_uri": "https://localhost:8080/"
    },
    "executionInfo": {
     "elapsed": 340,
     "status": "ok",
     "timestamp": 1662236631229,
     "user": {
      "displayName": "Nikita Chestnov",
      "userId": "16607095869821949390"
     },
     "user_tz": -180
    },
    "id": "pvMx3NIBBfns",
    "outputId": "3c194717-4c47-4f03-c392-373bec739008"
   },
   "outputs": [
    {
     "name": "stdout",
     "output_type": "stream",
     "text": [
      "4\n"
     ]
    }
   ],
   "source": [
    "print(variable)"
   ]
  },
  {
   "cell_type": "code",
   "execution_count": 8,
   "metadata": {
    "colab": {
     "base_uri": "https://localhost:8080/"
    },
    "executionInfo": {
     "elapsed": 302,
     "status": "ok",
     "timestamp": 1662236636610,
     "user": {
      "displayName": "Nikita Chestnov",
      "userId": "16607095869821949390"
     },
     "user_tz": -180
    },
    "id": "WZesEn9kBimX",
    "outputId": "8addc454-a0c3-4fda-87c1-08d822ade873"
   },
   "outputs": [
    {
     "data": {
      "text/plain": [
       "4"
      ]
     },
     "execution_count": 8,
     "metadata": {},
     "output_type": "execute_result"
    }
   ],
   "source": [
    "variable"
   ]
  },
  {
   "cell_type": "markdown",
   "metadata": {
    "id": "5v8VbOUCgYvA"
   },
   "source": [
    "В Python еще можно делать так:"
   ]
  },
  {
   "cell_type": "code",
   "execution_count": 9,
   "metadata": {
    "colab": {
     "base_uri": "https://localhost:8080/"
    },
    "executionInfo": {
     "elapsed": 317,
     "status": "ok",
     "timestamp": 1662244749581,
     "user": {
      "displayName": "Nikita Chestnov",
      "userId": "16607095869821949390"
     },
     "user_tz": -180
    },
    "id": "JzRfyaEbgbXv",
    "outputId": "0826b217-2141-4c55-c13f-9f757cc637e8"
   },
   "outputs": [
    {
     "data": {
      "text/plain": [
       "(500, 500, True)"
      ]
     },
     "execution_count": 9,
     "metadata": {},
     "output_type": "execute_result"
    }
   ],
   "source": [
    "x = y = 500\n",
    "x, y, x is y"
   ]
  },
  {
   "cell_type": "code",
   "execution_count": 10,
   "metadata": {
    "colab": {
     "base_uri": "https://localhost:8080/"
    },
    "executionInfo": {
     "elapsed": 298,
     "status": "ok",
     "timestamp": 1662244768803,
     "user": {
      "displayName": "Nikita Chestnov",
      "userId": "16607095869821949390"
     },
     "user_tz": -180
    },
    "id": "sr0EaJzZgkH9",
    "outputId": "2d01c757-770f-4ce3-edfe-a8d2ca76202c"
   },
   "outputs": [
    {
     "data": {
      "text/plain": [
       "(300, 100)"
      ]
     },
     "execution_count": 10,
     "metadata": {},
     "output_type": "execute_result"
    }
   ],
   "source": [
    "x, y = 100, 300\n",
    "x, y = y, x\n",
    "x, y"
   ]
  },
  {
   "cell_type": "markdown",
   "metadata": {
    "id": "J3GMRd0QCEga"
   },
   "source": [
    "Крайне полезная для вас функция - `help`. Она позволяет получить справку по разным объектам. Сейчас нам она полезна для того, чтобы получать документацию по функциям, например для функций `print` и `id`:"
   ]
  },
  {
   "cell_type": "code",
   "execution_count": 11,
   "metadata": {
    "colab": {
     "base_uri": "https://localhost:8080/"
    },
    "executionInfo": {
     "elapsed": 15,
     "status": "ok",
     "timestamp": 1662238624255,
     "user": {
      "displayName": "Nikita Chestnov",
      "userId": "16607095869821949390"
     },
     "user_tz": -180
    },
    "id": "pkT5k8pXJHnv",
    "outputId": "21a4c684-5843-478d-8d70-5d34b83b57fb",
    "scrolled": true
   },
   "outputs": [
    {
     "name": "stdout",
     "output_type": "stream",
     "text": [
      "Help on built-in function print in module builtins:\n",
      "\n",
      "print(...)\n",
      "    print(value, ..., sep=' ', end='\\n', file=sys.stdout, flush=False)\n",
      "    \n",
      "    Prints the values to a stream, or to sys.stdout by default.\n",
      "    Optional keyword arguments:\n",
      "    file:  a file-like object (stream); defaults to the current sys.stdout.\n",
      "    sep:   string inserted between values, default a space.\n",
      "    end:   string appended after the last value, default a newline.\n",
      "    flush: whether to forcibly flush the stream.\n",
      "\n"
     ]
    }
   ],
   "source": [
    "help(print)"
   ]
  },
  {
   "cell_type": "code",
   "execution_count": 12,
   "metadata": {
    "colab": {
     "base_uri": "https://localhost:8080/"
    },
    "executionInfo": {
     "elapsed": 13,
     "status": "ok",
     "timestamp": 1662238137045,
     "user": {
      "displayName": "Nikita Chestnov",
      "userId": "16607095869821949390"
     },
     "user_tz": -180
    },
    "id": "jZ2Fw0RBCRVb",
    "outputId": "aa243e91-59e6-42d7-f2cc-7a5f44b04e87",
    "scrolled": true
   },
   "outputs": [
    {
     "name": "stdout",
     "output_type": "stream",
     "text": [
      "Help on built-in function id in module builtins:\n",
      "\n",
      "id(obj, /)\n",
      "    Return the identity of an object.\n",
      "    \n",
      "    This is guaranteed to be unique among simultaneously existing objects.\n",
      "    (CPython uses the object's memory address.)\n",
      "\n"
     ]
    }
   ],
   "source": [
    "help(id)"
   ]
  },
  {
   "cell_type": "markdown",
   "metadata": {
    "id": "epRv-ueKXYdM"
   },
   "source": [
    "Оператор is проверяет идентичность двух объектов\n",
    "\n",
    "Пример:"
   ]
  },
  {
   "cell_type": "code",
   "execution_count": 13,
   "metadata": {},
   "outputs": [
    {
     "data": {
      "text/plain": [
       "False"
      ]
     },
     "execution_count": 13,
     "metadata": {},
     "output_type": "execute_result"
    }
   ],
   "source": [
    "x = 1000000000\n",
    "y = 1000000000\n",
    "x is y"
   ]
  },
  {
   "cell_type": "code",
   "execution_count": 14,
   "metadata": {},
   "outputs": [
    {
     "data": {
      "text/plain": [
       "(True, 2696337449104, 2696337449104)"
      ]
     },
     "execution_count": 14,
     "metadata": {},
     "output_type": "execute_result"
    }
   ],
   "source": [
    "x = 54345853965\n",
    "x = y\n",
    "x is y, id(x), id(y)"
   ]
  },
  {
   "cell_type": "markdown",
   "metadata": {
    "id": "3D67e32squBK",
    "pycharm": {
     "name": "#%% md\n"
    }
   },
   "source": [
    "# Базовая арифметика"
   ]
  },
  {
   "cell_type": "markdown",
   "metadata": {
    "id": "Z1zPPgB1SH2E"
   },
   "source": [
    "Одна из основных задач языка программирования - выполнять арифметические операции над переменными. Само собой, Python тоже позволяет это делать:"
   ]
  },
  {
   "cell_type": "markdown",
   "metadata": {
    "id": "pzTNDYEsTUUc"
   },
   "source": [
    "`+`, `-`, `*`, `/` - простейшие операции"
   ]
  },
  {
   "cell_type": "code",
   "execution_count": null,
   "metadata": {
    "colab": {
     "base_uri": "https://localhost:8080/"
    },
    "executionInfo": {
     "elapsed": 313,
     "status": "ok",
     "timestamp": 1662241324702,
     "user": {
      "displayName": "Nikita Chestnov",
      "userId": "16607095869821949390"
     },
     "user_tz": -180
    },
    "id": "fy29Z8xKTWcZ",
    "outputId": "c943992f-21a4-4697-a18a-79a730ec0ba6"
   },
   "outputs": [
    {
     "data": {
      "text/plain": [
       "-4.25"
      ]
     },
     "execution_count": 80,
     "metadata": {},
     "output_type": "execute_result"
    }
   ],
   "source": [
    "(1 + 6) / 4 - 2 * 3"
   ]
  },
  {
   "cell_type": "markdown",
   "metadata": {
    "id": "05o3uWZfTgZL"
   },
   "source": [
    "`//`, `%` - целочисленное деление и остаток от деления"
   ]
  },
  {
   "cell_type": "code",
   "execution_count": null,
   "metadata": {
    "colab": {
     "base_uri": "https://localhost:8080/"
    },
    "executionInfo": {
     "elapsed": 307,
     "status": "ok",
     "timestamp": 1662241368716,
     "user": {
      "displayName": "Nikita Chestnov",
      "userId": "16607095869821949390"
     },
     "user_tz": -180
    },
    "id": "QRCvm8j0TkXr",
    "outputId": "2a1c29ac-4973-43a3-9502-d64aa0162d94"
   },
   "outputs": [
    {
     "data": {
      "text/plain": [
       "(7, 3)"
      ]
     },
     "execution_count": 82,
     "metadata": {},
     "output_type": "execute_result"
    }
   ],
   "source": [
    "45 // 6, 45 % 6"
   ]
  },
  {
   "cell_type": "markdown",
   "metadata": {
    "id": "U8_S79e6Tpi4"
   },
   "source": [
    "`**` - возведение в степень"
   ]
  },
  {
   "cell_type": "code",
   "execution_count": null,
   "metadata": {
    "colab": {
     "base_uri": "https://localhost:8080/"
    },
    "executionInfo": {
     "elapsed": 388,
     "status": "ok",
     "timestamp": 1662241407933,
     "user": {
      "displayName": "Nikita Chestnov",
      "userId": "16607095869821949390"
     },
     "user_tz": -180
    },
    "id": "-SaGO590quBK",
    "outputId": "df98de06-a13b-4862-b04d-9908d478573f",
    "pycharm": {
     "name": "#%%\n"
    }
   },
   "outputs": [
    {
     "data": {
      "text/plain": [
       "1024"
      ]
     },
     "execution_count": 84,
     "metadata": {},
     "output_type": "execute_result"
    }
   ],
   "source": [
    "2 ** 10"
   ]
  },
  {
   "cell_type": "markdown",
   "metadata": {
    "id": "zjWOgOzZquBK",
    "pycharm": {
     "name": "#%% md\n"
    }
   },
   "source": [
    "Также в Python имеются специальные значения для бесконечностей и значения \"not a number\" aka `nan`:"
   ]
  },
  {
   "cell_type": "code",
   "execution_count": null,
   "metadata": {
    "colab": {
     "base_uri": "https://localhost:8080/"
    },
    "executionInfo": {
     "elapsed": 344,
     "status": "ok",
     "timestamp": 1662241621345,
     "user": {
      "displayName": "Nikita Chestnov",
      "userId": "16607095869821949390"
     },
     "user_tz": -180
    },
    "id": "JSvnW2jEquBK",
    "outputId": "f9450627-15b8-4526-ba3e-82b8d68c534d",
    "pycharm": {
     "name": "#%%\n"
    }
   },
   "outputs": [
    {
     "data": {
      "text/plain": [
       "(inf, inf, inf)"
      ]
     },
     "execution_count": 86,
     "metadata": {},
     "output_type": "execute_result"
    }
   ],
   "source": [
    "float('inf'), 2 * float('inf'), float('inf') + 1000000"
   ]
  },
  {
   "cell_type": "code",
   "execution_count": null,
   "metadata": {
    "colab": {
     "base_uri": "https://localhost:8080/"
    },
    "executionInfo": {
     "elapsed": 321,
     "status": "ok",
     "timestamp": 1662241627903,
     "user": {
      "displayName": "Nikita Chestnov",
      "userId": "16607095869821949390"
     },
     "user_tz": -180
    },
    "id": "fDQW1BfjUk-u",
    "outputId": "602fea85-4b90-437b-9900-b8031bf902fe"
   },
   "outputs": [
    {
     "data": {
      "text/plain": [
       "(-inf, -inf, -inf)"
      ]
     },
     "execution_count": 87,
     "metadata": {},
     "output_type": "execute_result"
    }
   ],
   "source": [
    "float('-inf'), 2 * float('-inf'), float('-inf') + 1000000"
   ]
  },
  {
   "cell_type": "code",
   "execution_count": 15,
   "metadata": {
    "colab": {
     "base_uri": "https://localhost:8080/"
    },
    "executionInfo": {
     "elapsed": 8,
     "status": "ok",
     "timestamp": 1662241632312,
     "user": {
      "displayName": "Nikita Chestnov",
      "userId": "16607095869821949390"
     },
     "user_tz": -180
    },
    "id": "5HWxiIloUmei",
    "outputId": "b28bd7fc-5088-452c-be1b-e895d83b6e47"
   },
   "outputs": [
    {
     "data": {
      "text/plain": [
       "nan"
      ]
     },
     "execution_count": 15,
     "metadata": {},
     "output_type": "execute_result"
    }
   ],
   "source": [
    "float('Inf') - float('Inf')"
   ]
  },
  {
   "cell_type": "markdown",
   "metadata": {
    "id": "uhUpRZlGquBL",
    "pycharm": {
     "name": "#%% md\n"
    }
   },
   "source": [
    "Кроме того, в Python есть такие небольшие удобства для записи чисел как разделители и экспоненциальная запись чисел:"
   ]
  },
  {
   "cell_type": "code",
   "execution_count": 16,
   "metadata": {
    "colab": {
     "base_uri": "https://localhost:8080/"
    },
    "executionInfo": {
     "elapsed": 298,
     "status": "ok",
     "timestamp": 1662241791466,
     "user": {
      "displayName": "Nikita Chestnov",
      "userId": "16607095869821949390"
     },
     "user_tz": -180
    },
    "id": "hyttf-LsquBL",
    "outputId": "77c11f9c-f0c6-488e-b813-7ceb7282cdb6",
    "pycharm": {
     "name": "#%%\n"
    }
   },
   "outputs": [
    {
     "data": {
      "text/plain": [
       "100000000"
      ]
     },
     "execution_count": 16,
     "metadata": {},
     "output_type": "execute_result"
    }
   ],
   "source": [
    "100_000_000"
   ]
  },
  {
   "cell_type": "code",
   "execution_count": 17,
   "metadata": {
    "colab": {
     "base_uri": "https://localhost:8080/"
    },
    "executionInfo": {
     "elapsed": 8,
     "status": "ok",
     "timestamp": 1662241792719,
     "user": {
      "displayName": "Nikita Chestnov",
      "userId": "16607095869821949390"
     },
     "user_tz": -180
    },
    "id": "Y0HVwpn7U8Ui",
    "outputId": "4ac00455-c257-46a0-af34-efb431227dbd"
   },
   "outputs": [
    {
     "data": {
      "text/plain": [
       "150.0"
      ]
     },
     "execution_count": 17,
     "metadata": {},
     "output_type": "execute_result"
    }
   ],
   "source": [
    "1.5e2"
   ]
  },
  {
   "cell_type": "markdown",
   "metadata": {
    "id": "YeTm02SWfuLe"
   },
   "source": [
    "Помимо стандартного оператора присваивания\\*, в Python есть вспомогательные операторы, которые перед присваиванием выполняют арифметическую операцию:"
   ]
  },
  {
   "cell_type": "code",
   "execution_count": null,
   "metadata": {
    "id": "sjlmU5i3gCDB"
   },
   "outputs": [],
   "source": [
    "a = 1900\n",
    "a += 1   # a = a + 1\n",
    "a -= 2   # a = a - 2\n",
    "a *= 3   # a = a * 3\n",
    "a /= 4   # a = a / 4\n",
    "a //= 2  # a = a // 2\n",
    "a **= 2  # a = a ** 2\n",
    "a %= 6   # a = a % 6"
   ]
  },
  {
   "cell_type": "markdown",
   "metadata": {
    "id": "x5GZRycoquBJ",
    "pycharm": {
     "name": "#%% md\n"
    }
   },
   "source": [
    "# Базовые типы данных"
   ]
  },
  {
   "cell_type": "markdown",
   "metadata": {
    "id": "wCqikhxsK5SM"
   },
   "source": [
    "## int\n",
    "\n",
    "`int` - целочисленный тип данных:"
   ]
  },
  {
   "cell_type": "code",
   "execution_count": null,
   "metadata": {
    "colab": {
     "base_uri": "https://localhost:8080/"
    },
    "executionInfo": {
     "elapsed": 283,
     "status": "ok",
     "timestamp": 1662239190632,
     "user": {
      "displayName": "Nikita Chestnov",
      "userId": "16607095869821949390"
     },
     "user_tz": -180
    },
    "id": "75S-s0zcquBK",
    "outputId": "dc938166-3a27-43f8-8160-9cb656ac35f4",
    "pycharm": {
     "name": "#%%\n"
    }
   },
   "outputs": [
    {
     "data": {
      "text/plain": [
       "(42, int)"
      ]
     },
     "execution_count": 43,
     "metadata": {},
     "output_type": "execute_result"
    }
   ],
   "source": [
    "42, type(42)"
   ]
  },
  {
   "cell_type": "markdown",
   "metadata": {
    "id": "ixIAvJFpLa_i"
   },
   "source": [
    "Этот тип данных поддерживает длинную арифметику (подробнее [тут](https://www.codementor.io/@arpitbhayani/how-python-implements-super-long-integers-12icwon5vk)):"
   ]
  },
  {
   "cell_type": "code",
   "execution_count": null,
   "metadata": {
    "colab": {
     "base_uri": "https://localhost:8080/"
    },
    "executionInfo": {
     "elapsed": 306,
     "status": "ok",
     "timestamp": 1662239267247,
     "user": {
      "displayName": "Nikita Chestnov",
      "userId": "16607095869821949390"
     },
     "user_tz": -180
    },
    "id": "iJQ89T5qLhF5",
    "outputId": "b56c6b5f-c3e8-4365-ef35-684afe859dc4"
   },
   "outputs": [
    {
     "data": {
      "text/plain": [
       "10715086071862673209484250490600018105614048117055336074437503883703510511249361224931983788156958581275946729175531468251871452856923140435984577574698574803934567774824230985421074605062371141877954182153046474983581941267398767559165543946077062914571196477686542167660429831652624386837205668069376"
      ]
     },
     "execution_count": 45,
     "metadata": {},
     "output_type": "execute_result"
    }
   ],
   "source": [
    "2 ** 1000"
   ]
  },
  {
   "cell_type": "markdown",
   "metadata": {
    "id": "x2xbjSRvL1KH"
   },
   "source": [
    "## float"
   ]
  },
  {
   "cell_type": "markdown",
   "metadata": {
    "id": "FqHuvmGNK68l"
   },
   "source": [
    "`float` - тип данных, хранящий число с плавающей точкой (дробное число). В качестве разделителя используется только точка `.`:\n"
   ]
  },
  {
   "cell_type": "code",
   "execution_count": null,
   "metadata": {
    "colab": {
     "base_uri": "https://localhost:8080/"
    },
    "executionInfo": {
     "elapsed": 3,
     "status": "ok",
     "timestamp": 1662239137787,
     "user": {
      "displayName": "Nikita Chestnov",
      "userId": "16607095869821949390"
     },
     "user_tz": -180
    },
    "id": "Q0RGf6DgLE5q",
    "outputId": "fe8f641f-f599-478d-ae2c-5be1536f0e77"
   },
   "outputs": [
    {
     "data": {
      "text/plain": [
       "(42.42, float)"
      ]
     },
     "execution_count": 38,
     "metadata": {},
     "output_type": "execute_result"
    }
   ],
   "source": [
    "42.42, type(42.42)"
   ]
  },
  {
   "cell_type": "markdown",
   "metadata": {
    "id": "7O-UW7OmL4wR"
   },
   "source": [
    "Тип `float` основан на `double` из C, поэтому поддерживает значения только в определенном диапазоне и с определенной точностью:"
   ]
  },
  {
   "cell_type": "code",
   "execution_count": 18,
   "metadata": {
    "id": "7Z8BRnThMnHf"
   },
   "outputs": [],
   "source": [
    "from sys import float_info\n",
    "\n",
    "precision = float_info.min * float_info.epsilon\n",
    "max_value = float_info.max"
   ]
  },
  {
   "cell_type": "code",
   "execution_count": 19,
   "metadata": {
    "colab": {
     "base_uri": "https://localhost:8080/"
    },
    "executionInfo": {
     "elapsed": 280,
     "status": "ok",
     "timestamp": 1662239841447,
     "user": {
      "displayName": "Nikita Chestnov",
      "userId": "16607095869821949390"
     },
     "user_tz": -180
    },
    "id": "1x58XjL8MDbw",
    "outputId": "c9117273-7723-4ae4-be89-37b8fdcdc756"
   },
   "outputs": [
    {
     "name": "stdout",
     "output_type": "stream",
     "text": [
      "1.7976931348623157e+308 inf\n"
     ]
    }
   ],
   "source": [
    "print(max_value, max_value * 2)"
   ]
  },
  {
   "cell_type": "code",
   "execution_count": 20,
   "metadata": {
    "colab": {
     "base_uri": "https://localhost:8080/"
    },
    "executionInfo": {
     "elapsed": 310,
     "status": "ok",
     "timestamp": 1662239881082,
     "user": {
      "displayName": "Nikita Chestnov",
      "userId": "16607095869821949390"
     },
     "user_tz": -180
    },
    "id": "mM0dQIuEMTtU",
    "outputId": "8e6afa5c-4ace-4830-9b13-cf4f9e9f16a6"
   },
   "outputs": [
    {
     "name": "stdout",
     "output_type": "stream",
     "text": [
      "5e-324 0.0\n"
     ]
    }
   ],
   "source": [
    "print(precision, precision / 2)"
   ]
  },
  {
   "cell_type": "markdown",
   "metadata": {
    "id": "u1MBAEA3OGrk"
   },
   "source": [
    "## complex"
   ]
  },
  {
   "cell_type": "markdown",
   "metadata": {
    "id": "ZObdoCD4K9Aw"
   },
   "source": [
    "`complex` - тип для работы с комплексными числами. Мнимая часть описывается с помощью символа `j` (вместо `i` в математике): "
   ]
  },
  {
   "cell_type": "code",
   "execution_count": 21,
   "metadata": {
    "colab": {
     "base_uri": "https://localhost:8080/"
    },
    "executionInfo": {
     "elapsed": 300,
     "status": "ok",
     "timestamp": 1662240007583,
     "user": {
      "displayName": "Nikita Chestnov",
      "userId": "16607095869821949390"
     },
     "user_tz": -180
    },
    "id": "YqvJgBH-LGoL",
    "outputId": "a40795c9-6eb9-4b00-eac7-3bc23b21a377"
   },
   "outputs": [
    {
     "data": {
      "text/plain": [
       "((2+3j), complex)"
      ]
     },
     "execution_count": 21,
     "metadata": {},
     "output_type": "execute_result"
    }
   ],
   "source": [
    "2 + 3j, type(2 + 3j)"
   ]
  },
  {
   "cell_type": "markdown",
   "metadata": {
    "id": "4-cFglQgOhqe"
   },
   "source": [
    "## bool"
   ]
  },
  {
   "cell_type": "markdown",
   "metadata": {
    "id": "UZgFY0bNK-fz"
   },
   "source": [
    "`bool` - логический тип данных. Может принимать лишь два значения - `True` и `False` (именно с заглавной буквы):"
   ]
  },
  {
   "cell_type": "code",
   "execution_count": null,
   "metadata": {
    "colab": {
     "base_uri": "https://localhost:8080/"
    },
    "executionInfo": {
     "elapsed": 3,
     "status": "ok",
     "timestamp": 1662239148385,
     "user": {
      "displayName": "Nikita Chestnov",
      "userId": "16607095869821949390"
     },
     "user_tz": -180
    },
    "id": "6sQYlsZdLHxn",
    "outputId": "11ea408e-deda-439b-ab18-d4fcc4fd9821"
   },
   "outputs": [
    {
     "data": {
      "text/plain": [
       "(True, bool)"
      ]
     },
     "execution_count": 40,
     "metadata": {},
     "output_type": "execute_result"
    }
   ],
   "source": [
    "True, type(True)"
   ]
  },
  {
   "cell_type": "markdown",
   "metadata": {
    "id": "HXyR22m7O1I2"
   },
   "source": [
    " Тип `bool` является подтипом `int`, поэтому между ними возможны операции сравнения без явного приведения типов:"
   ]
  },
  {
   "cell_type": "code",
   "execution_count": 22,
   "metadata": {
    "colab": {
     "base_uri": "https://localhost:8080/"
    },
    "executionInfo": {
     "elapsed": 282,
     "status": "ok",
     "timestamp": 1662240161364,
     "user": {
      "displayName": "Nikita Chestnov",
      "userId": "16607095869821949390"
     },
     "user_tz": -180
    },
    "id": "0UVhCf3CO5NA",
    "outputId": "2a2e891b-2cd5-4377-a56c-56c3a5cc0e0f"
   },
   "outputs": [
    {
     "data": {
      "text/plain": [
       "True"
      ]
     },
     "execution_count": 22,
     "metadata": {},
     "output_type": "execute_result"
    }
   ],
   "source": [
    "True == 1"
   ]
  },
  {
   "cell_type": "code",
   "execution_count": 23,
   "metadata": {
    "colab": {
     "base_uri": "https://localhost:8080/"
    },
    "executionInfo": {
     "elapsed": 3,
     "status": "ok",
     "timestamp": 1662240261397,
     "user": {
      "displayName": "Nikita Chestnov",
      "userId": "16607095869821949390"
     },
     "user_tz": -180
    },
    "id": "sjTom5QYPUY3",
    "outputId": "88126341-67c5-4fd1-9003-76a0adfc45fd"
   },
   "outputs": [
    {
     "data": {
      "text/plain": [
       "False"
      ]
     },
     "execution_count": 23,
     "metadata": {},
     "output_type": "execute_result"
    }
   ],
   "source": [
    "True > 2"
   ]
  },
  {
   "cell_type": "markdown",
   "metadata": {
    "id": "Nn2y5XJnPbUc"
   },
   "source": [
    "## str"
   ]
  },
  {
   "cell_type": "markdown",
   "metadata": {
    "id": "v4Tyy8VVLAGh"
   },
   "source": [
    "`str` - строковый тип данных, т.е. может хранить в себе символьные строки произвольной длины:"
   ]
  },
  {
   "cell_type": "code",
   "execution_count": null,
   "metadata": {
    "colab": {
     "base_uri": "https://localhost:8080/"
    },
    "executionInfo": {
     "elapsed": 309,
     "status": "ok",
     "timestamp": 1662242028785,
     "user": {
      "displayName": "Nikita Chestnov",
      "userId": "16607095869821949390"
     },
     "user_tz": -180
    },
    "id": "1Ls-i1euLJrN",
    "outputId": "f9713553-6ea3-41b8-96bf-20d2958b7b0e"
   },
   "outputs": [
    {
     "data": {
      "text/plain": [
       "('abc', str)"
      ]
     },
     "execution_count": 93,
     "metadata": {},
     "output_type": "execute_result"
    }
   ],
   "source": [
    "\"abc\", type(\"abc\")"
   ]
  },
  {
   "cell_type": "markdown",
   "metadata": {
    "id": "fzNDbBtxWIpu"
   },
   "source": [
    "Выделяется двойными или одинарными кавычками (открывающая и закрывающая должны быть одинаковы!):"
   ]
  },
  {
   "cell_type": "code",
   "execution_count": null,
   "metadata": {
    "colab": {
     "base_uri": "https://localhost:8080/",
     "height": 34
    },
    "executionInfo": {
     "elapsed": 315,
     "status": "ok",
     "timestamp": 1662242041268,
     "user": {
      "displayName": "Nikita Chestnov",
      "userId": "16607095869821949390"
     },
     "user_tz": -180
    },
    "id": "dYXjeidaWIOo",
    "outputId": "0e29c3d5-fe15-4011-fba2-4cfe40a9f857"
   },
   "outputs": [
    {
     "data": {
      "application/vnd.google.colaboratory.intrinsic+json": {
       "type": "string"
      },
      "text/plain": [
       "'abc'"
      ]
     },
     "execution_count": 94,
     "metadata": {},
     "output_type": "execute_result"
    }
   ],
   "source": [
    "'abc'"
   ]
  },
  {
   "cell_type": "code",
   "execution_count": null,
   "metadata": {
    "colab": {
     "base_uri": "https://localhost:8080/",
     "height": 133
    },
    "executionInfo": {
     "elapsed": 316,
     "status": "error",
     "timestamp": 1662242048960,
     "user": {
      "displayName": "Nikita Chestnov",
      "userId": "16607095869821949390"
     },
     "user_tz": -180
    },
    "id": "-AeA8_U8WLZl",
    "outputId": "7deb9595-ce55-48d3-f5dd-0e11096ea830"
   },
   "outputs": [
    {
     "ename": "SyntaxError",
     "evalue": "ignored",
     "output_type": "error",
     "traceback": [
      "\u001b[0;36m  File \u001b[0;32m\"<ipython-input-95-2e69c44e7191>\"\u001b[0;36m, line \u001b[0;32m1\u001b[0m\n\u001b[0;31m    'abc\"\u001b[0m\n\u001b[0m         ^\u001b[0m\n\u001b[0;31mSyntaxError\u001b[0m\u001b[0;31m:\u001b[0m EOL while scanning string literal\n"
     ]
    }
   ],
   "source": [
    "'abc\""
   ]
  },
  {
   "cell_type": "markdown",
   "metadata": {
    "id": "5gtL4eHJV7Mc"
   },
   "source": [
    "В Python также возможны многострочные строки:"
   ]
  },
  {
   "cell_type": "code",
   "execution_count": 13,
   "metadata": {
    "colab": {
     "base_uri": "https://localhost:8080/"
    },
    "executionInfo": {
     "elapsed": 300,
     "status": "ok",
     "timestamp": 1662242003476,
     "user": {
      "displayName": "Nikita Chestnov",
      "userId": "16607095869821949390"
     },
     "user_tz": -180
    },
    "id": "0ZbWqEXOV_2R",
    "outputId": "3e62fa24-4cee-4f8a-f786-7c0aeb4c5cf5"
   },
   "outputs": [
    {
     "name": "stdout",
     "output_type": "stream",
     "text": [
      "я\n",
      "самая\n",
      "   настоящая\n",
      "строка\n"
     ]
    }
   ],
   "source": [
    "string = '''я\n",
    "самая\n",
    "   настоящая\n",
    "строка'''\n",
    "print(string)"
   ]
  },
  {
   "cell_type": "markdown",
   "metadata": {
    "id": "j_1x2HohWRhW"
   },
   "source": [
    "Кроме того, в Python (как и во многих других ЯП) имеются комментарии - строки кода, которые игнорируются при запуске программы. Однострочные комменатарии начинаются с `#`:"
   ]
  },
  {
   "cell_type": "code",
   "execution_count": 25,
   "metadata": {
    "id": "4vxTAlHEWmH-"
   },
   "outputs": [],
   "source": [
    "# Я однострочный комментарий"
   ]
  },
  {
   "cell_type": "markdown",
   "metadata": {
    "id": "MqI8MTWdW7BK"
   },
   "source": [
    "Строки можно складывать, строку можно домножать на целое число, можно проверять вхождение подстроки в строку:"
   ]
  },
  {
   "cell_type": "code",
   "execution_count": 26,
   "metadata": {
    "id": "4z0UnYB9W-2o"
   },
   "outputs": [],
   "source": [
    "s1 = \"very_big_string\"\n",
    "s2 = 'string'"
   ]
  },
  {
   "cell_type": "code",
   "execution_count": 27,
   "metadata": {
    "colab": {
     "base_uri": "https://localhost:8080/",
     "height": 34
    },
    "executionInfo": {
     "elapsed": 309,
     "status": "ok",
     "timestamp": 1662242286654,
     "user": {
      "displayName": "Nikita Chestnov",
      "userId": "16607095869821949390"
     },
     "user_tz": -180
    },
    "id": "miCTj92iXFnL",
    "outputId": "5684005e-a588-4797-fb96-cfe7ff367764"
   },
   "outputs": [
    {
     "data": {
      "text/plain": [
       "'very_big_stringstring'"
      ]
     },
     "execution_count": 27,
     "metadata": {},
     "output_type": "execute_result"
    }
   ],
   "source": [
    "s1 + s2"
   ]
  },
  {
   "cell_type": "code",
   "execution_count": 28,
   "metadata": {
    "colab": {
     "base_uri": "https://localhost:8080/",
     "height": 34
    },
    "executionInfo": {
     "elapsed": 296,
     "status": "ok",
     "timestamp": 1662242292604,
     "user": {
      "displayName": "Nikita Chestnov",
      "userId": "16607095869821949390"
     },
     "user_tz": -180
    },
    "id": "J22ccffPXHUs",
    "outputId": "e67afe07-53ee-49ce-da5b-14746b76ecad"
   },
   "outputs": [
    {
     "data": {
      "text/plain": [
       "'stringstringstringstring'"
      ]
     },
     "execution_count": 28,
     "metadata": {},
     "output_type": "execute_result"
    }
   ],
   "source": [
    "s2 * 4"
   ]
  },
  {
   "cell_type": "code",
   "execution_count": 29,
   "metadata": {
    "colab": {
     "base_uri": "https://localhost:8080/"
    },
    "executionInfo": {
     "elapsed": 383,
     "status": "ok",
     "timestamp": 1662242297973,
     "user": {
      "displayName": "Nikita Chestnov",
      "userId": "16607095869821949390"
     },
     "user_tz": -180
    },
    "id": "7_cVdvOVXItx",
    "outputId": "713482d7-acbc-49ee-f424-ad3f5ebe54ec"
   },
   "outputs": [
    {
     "data": {
      "text/plain": [
       "True"
      ]
     },
     "execution_count": 29,
     "metadata": {},
     "output_type": "execute_result"
    }
   ],
   "source": [
    "s2 in s1"
   ]
  },
  {
   "cell_type": "markdown",
   "metadata": {},
   "source": [
    "Оператор in проверяет, содержится ли первый элемент во втором.\n",
    "\n",
    "В данном случае проеряет, является ли строка s1 подстрокой s2"
   ]
  },
  {
   "cell_type": "markdown",
   "metadata": {
    "id": "KXWRJhI_3Wxl"
   },
   "source": [
    "Несмотря на то, что по-умолчанию операции между разными типами данных запрещены, некоторые все-же возможны:"
   ]
  },
  {
   "cell_type": "code",
   "execution_count": 1,
   "metadata": {
    "colab": {
     "base_uri": "https://localhost:8080/",
     "height": 34
    },
    "executionInfo": {
     "elapsed": 10,
     "status": "ok",
     "timestamp": 1662284347348,
     "user": {
      "displayName": "Nikita Chestnov",
      "userId": "16607095869821949390"
     },
     "user_tz": -180
    },
    "id": "469OsKtx3ZX9",
    "outputId": "9f838a31-3b7d-4b08-f9da-6f83054ac1b5"
   },
   "outputs": [
    {
     "data": {
      "application/vnd.google.colaboratory.intrinsic+json": {
       "type": "string"
      },
      "text/plain": [
       "'abcabcabcabc'"
      ]
     },
     "execution_count": 1,
     "metadata": {},
     "output_type": "execute_result"
    }
   ],
   "source": [
    "'abc' * 4"
   ]
  },
  {
   "cell_type": "markdown",
   "metadata": {
    "id": "mp8ig0t_XOws"
   },
   "source": [
    "Подробнее строки будут разобраны на 5 занятии."
   ]
  },
  {
   "cell_type": "markdown",
   "metadata": {
    "id": "ZGiEswGhQeGL"
   },
   "source": [
    "## NoneType"
   ]
  },
  {
   "cell_type": "markdown",
   "metadata": {
    "id": "wT1hHabmLBYg"
   },
   "source": [
    "`NoneType` - специальный тип данных для объекта `None`:"
   ]
  },
  {
   "cell_type": "code",
   "execution_count": null,
   "metadata": {
    "colab": {
     "base_uri": "https://localhost:8080/"
    },
    "executionInfo": {
     "elapsed": 299,
     "status": "ok",
     "timestamp": 1662239161844,
     "user": {
      "displayName": "Nikita Chestnov",
      "userId": "16607095869821949390"
     },
     "user_tz": -180
    },
    "id": "476Z_U2FLLX7",
    "outputId": "71b42acf-d51c-44b3-c9dd-00eb418282ef"
   },
   "outputs": [
    {
     "data": {
      "text/plain": [
       "(None, NoneType)"
      ]
     },
     "execution_count": 42,
     "metadata": {},
     "output_type": "execute_result"
    }
   ],
   "source": [
    "None, type(None)"
   ]
  },
  {
   "cell_type": "markdown",
   "metadata": {
    "id": "7E0bx3lwRZYE"
   },
   "source": [
    "### Что такое `None`?"
   ]
  },
  {
   "cell_type": "markdown",
   "metadata": {
    "id": "bQI8iZ7oRmap"
   },
   "source": [
    "None, по своей сути, - ничего. Когда переменной присваивается это значение, оно делает эту перемнную нейтральной.\n",
    "\n",
    "Один из примеров применения: есть код, который может либо сработать, либо завершиться неудачно. И в случае неудачи переменная может иметь тип None, как сигнал о том, что действие не выполнено"
   ]
  },
  {
   "cell_type": "markdown",
   "metadata": {},
   "source": [
    "### Синглтоны"
   ]
  },
  {
   "cell_type": "code",
   "execution_count": 30,
   "metadata": {
    "id": "BpZSV1uvquBL",
    "outputId": "0f6bbd4a-2feb-4292-b8ba-c111711a26a2",
    "pycharm": {
     "name": "#%%\n"
    }
   },
   "outputs": [
    {
     "data": {
      "text/plain": [
       "(False, 2696337451248, 2696337450736)"
      ]
     },
     "execution_count": 30,
     "metadata": {},
     "output_type": "execute_result"
    }
   ],
   "source": [
    "a = 10000\n",
    "b = 10000\n",
    "\n",
    "a is b, id(a), id(b)"
   ]
  },
  {
   "cell_type": "code",
   "execution_count": 31,
   "metadata": {
    "id": "DgVy3_VCquBM",
    "outputId": "5a60c281-06a2-4b9f-f0e3-2f5ddae1a240",
    "pycharm": {
     "name": "#%%\n"
    }
   },
   "outputs": [
    {
     "data": {
      "text/plain": [
       "(True, 2696260049072, 2696260049072)"
      ]
     },
     "execution_count": 31,
     "metadata": {},
     "output_type": "execute_result"
    }
   ],
   "source": [
    "c = 123\n",
    "d = 123\n",
    "c is d, id(c), id(d)"
   ]
  },
  {
   "cell_type": "markdown",
   "metadata": {
    "id": "jkb19t4FquBM",
    "pycharm": {
     "name": "#%% md\n"
    }
   },
   "source": [
    "**Почему так?**\n",
    "В Python целые числа от -5 по 256 являются *синглтонами*, т.е. объектами, которые существуют в потоке только в единственном экземпляре.\n",
    "Также синглтонами являются `True`, `False` и `None`."
   ]
  },
  {
   "cell_type": "markdown",
   "metadata": {
    "id": "DzNfL3WN5fG5"
   },
   "source": [
    "## Приведение базовых типов"
   ]
  },
  {
   "cell_type": "markdown",
   "metadata": {
    "id": "N2bmfcZK5jEP"
   },
   "source": [
    "Базовые типы данных часто можно преобразовывать из одного в другой следующим образом:"
   ]
  },
  {
   "cell_type": "code",
   "execution_count": 32,
   "metadata": {
    "colab": {
     "base_uri": "https://localhost:8080/"
    },
    "executionInfo": {
     "elapsed": 12,
     "status": "ok",
     "timestamp": 1662284915744,
     "user": {
      "displayName": "Nikita Chestnov",
      "userId": "16607095869821949390"
     },
     "user_tz": -180
    },
    "id": "y77NBqp55ooB",
    "outputId": "985c8832-e9ab-46a7-c0db-fc226036609f"
   },
   "outputs": [
    {
     "data": {
      "text/plain": [
       "123"
      ]
     },
     "execution_count": 32,
     "metadata": {},
     "output_type": "execute_result"
    }
   ],
   "source": [
    "int('123')"
   ]
  },
  {
   "cell_type": "code",
   "execution_count": 33,
   "metadata": {
    "colab": {
     "base_uri": "https://localhost:8080/",
     "height": 34
    },
    "executionInfo": {
     "elapsed": 316,
     "status": "ok",
     "timestamp": 1662284923390,
     "user": {
      "displayName": "Nikita Chestnov",
      "userId": "16607095869821949390"
     },
     "user_tz": -180
    },
    "id": "8N8qX3Lm5uz3",
    "outputId": "176db989-ba09-4058-e6f6-c64f1a98f555"
   },
   "outputs": [
    {
     "data": {
      "text/plain": [
       "'345'"
      ]
     },
     "execution_count": 33,
     "metadata": {},
     "output_type": "execute_result"
    }
   ],
   "source": [
    "str(345)"
   ]
  },
  {
   "cell_type": "code",
   "execution_count": 34,
   "metadata": {
    "colab": {
     "base_uri": "https://localhost:8080/"
    },
    "executionInfo": {
     "elapsed": 287,
     "status": "ok",
     "timestamp": 1662285269789,
     "user": {
      "displayName": "Nikita Chestnov",
      "userId": "16607095869821949390"
     },
     "user_tz": -180
    },
    "id": "bFBKKdcb7CM4",
    "outputId": "6f9b794a-81d2-4d60-9cd6-18bb650f4a7a"
   },
   "outputs": [
    {
     "data": {
      "text/plain": [
       "5.0"
      ]
     },
     "execution_count": 34,
     "metadata": {},
     "output_type": "execute_result"
    }
   ],
   "source": [
    "float(5)"
   ]
  },
  {
   "cell_type": "code",
   "execution_count": 35,
   "metadata": {
    "colab": {
     "base_uri": "https://localhost:8080/"
    },
    "executionInfo": {
     "elapsed": 6,
     "status": "ok",
     "timestamp": 1662285270071,
     "user": {
      "displayName": "Nikita Chestnov",
      "userId": "16607095869821949390"
     },
     "user_tz": -180
    },
    "id": "PU5cD0tm7Dh3",
    "outputId": "2b5cdc0a-7aa3-4c38-88d5-ccffb1281ffe"
   },
   "outputs": [
    {
     "data": {
      "text/plain": [
       "234"
      ]
     },
     "execution_count": 35,
     "metadata": {},
     "output_type": "execute_result"
    }
   ],
   "source": [
    "int(234.5)"
   ]
  },
  {
   "cell_type": "markdown",
   "metadata": {
    "id": "H9RyTfaL8M_y"
   },
   "source": [
    "Но преобразование не всегда возможно:"
   ]
  },
  {
   "cell_type": "code",
   "execution_count": 36,
   "metadata": {
    "colab": {
     "base_uri": "https://localhost:8080/",
     "height": 168
    },
    "executionInfo": {
     "elapsed": 311,
     "status": "error",
     "timestamp": 1662285275023,
     "user": {
      "displayName": "Nikita Chestnov",
      "userId": "16607095869821949390"
     },
     "user_tz": -180
    },
    "id": "K8gpN4pT7FSk",
    "outputId": "3dbf9a38-780d-472b-cbbe-5990f4c6b4a0"
   },
   "outputs": [
    {
     "ename": "ValueError",
     "evalue": "invalid literal for int() with base 10: '12a'",
     "output_type": "error",
     "traceback": [
      "\u001b[1;31m---------------------------------------------------------------------------\u001b[0m",
      "\u001b[1;31mValueError\u001b[0m                                Traceback (most recent call last)",
      "\u001b[1;32m~\\AppData\\Local\\Temp/ipykernel_21140/762838879.py\u001b[0m in \u001b[0;36m<module>\u001b[1;34m\u001b[0m\n\u001b[1;32m----> 1\u001b[1;33m \u001b[0mint\u001b[0m\u001b[1;33m(\u001b[0m\u001b[1;34m'12a'\u001b[0m\u001b[1;33m)\u001b[0m\u001b[1;33m\u001b[0m\u001b[1;33m\u001b[0m\u001b[0m\n\u001b[0m",
      "\u001b[1;31mValueError\u001b[0m: invalid literal for int() with base 10: '12a'"
     ]
    }
   ],
   "source": [
    "int('12a')"
   ]
  },
  {
   "cell_type": "markdown",
   "metadata": {
    "id": "E9Kacduc8xw2"
   },
   "source": [
    "### Приведение к bool"
   ]
  },
  {
   "cell_type": "markdown",
   "metadata": {
    "id": "7E-q1jYH9AMl"
   },
   "source": [
    "Для `int` и `float`: `0` и `0.0` переводятся в `False`, все остальное - в `True`:"
   ]
  },
  {
   "cell_type": "code",
   "execution_count": 20,
   "metadata": {
    "colab": {
     "base_uri": "https://localhost:8080/"
    },
    "executionInfo": {
     "elapsed": 280,
     "status": "ok",
     "timestamp": 1662285795595,
     "user": {
      "displayName": "Nikita Chestnov",
      "userId": "16607095869821949390"
     },
     "user_tz": -180
    },
    "id": "9vUlE2QM9DkW",
    "outputId": "6a6d942e-0700-4182-b418-3636948e2db2"
   },
   "outputs": [
    {
     "data": {
      "text/plain": [
       "(False, False)"
      ]
     },
     "execution_count": 20,
     "metadata": {},
     "output_type": "execute_result"
    }
   ],
   "source": [
    "bool(0), bool(0.0)"
   ]
  },
  {
   "cell_type": "code",
   "execution_count": 21,
   "metadata": {
    "colab": {
     "base_uri": "https://localhost:8080/"
    },
    "executionInfo": {
     "elapsed": 3,
     "status": "ok",
     "timestamp": 1662285800131,
     "user": {
      "displayName": "Nikita Chestnov",
      "userId": "16607095869821949390"
     },
     "user_tz": -180
    },
    "id": "ewRyEAyB9Fbf",
    "outputId": "310d5233-6e48-4951-b8e1-6d94119086fd"
   },
   "outputs": [
    {
     "data": {
      "text/plain": [
       "(True, True)"
      ]
     },
     "execution_count": 21,
     "metadata": {},
     "output_type": "execute_result"
    }
   ],
   "source": [
    "bool(1), bool(24.1)"
   ]
  },
  {
   "cell_type": "code",
   "execution_count": 22,
   "metadata": {
    "colab": {
     "base_uri": "https://localhost:8080/"
    },
    "executionInfo": {
     "elapsed": 250,
     "status": "ok",
     "timestamp": 1662285804275,
     "user": {
      "displayName": "Nikita Chestnov",
      "userId": "16607095869821949390"
     },
     "user_tz": -180
    },
    "id": "cl5aT5B39Gsx",
    "outputId": "43a50ce8-e466-4172-e280-afdb731816fc"
   },
   "outputs": [
    {
     "data": {
      "text/plain": [
       "(True, True)"
      ]
     },
     "execution_count": 22,
     "metadata": {},
     "output_type": "execute_result"
    }
   ],
   "source": [
    "bool(-2), bool(-12.3)"
   ]
  },
  {
   "cell_type": "markdown",
   "metadata": {
    "id": "uxPh8Zt99LIr"
   },
   "source": [
    "Для `str`: пустые строки - в `False`, остальное - в `True`:"
   ]
  },
  {
   "cell_type": "code",
   "execution_count": 23,
   "metadata": {
    "colab": {
     "base_uri": "https://localhost:8080/"
    },
    "executionInfo": {
     "elapsed": 3,
     "status": "ok",
     "timestamp": 1662285845455,
     "user": {
      "displayName": "Nikita Chestnov",
      "userId": "16607095869821949390"
     },
     "user_tz": -180
    },
    "id": "TD-43Rhh9MF2",
    "outputId": "62d54c97-f784-4ed5-d9b7-d5669422381c"
   },
   "outputs": [
    {
     "data": {
      "text/plain": [
       "(False, True)"
      ]
     },
     "execution_count": 23,
     "metadata": {},
     "output_type": "execute_result"
    }
   ],
   "source": [
    "bool(''), bool('abc')"
   ]
  },
  {
   "cell_type": "markdown",
   "metadata": {
    "id": "IdfqQgJwquBL",
    "pycharm": {
     "name": "#%% md\n"
    }
   },
   "source": [
    "# Почему присваивание со звездочкой?\n",
    "\n",
    "\n"
   ]
  },
  {
   "cell_type": "markdown",
   "metadata": {
    "id": "yvX9ORre7_Ph"
   },
   "source": [
    "В Python по сути нет оператора присваивания в классическом понимании, т.е. оператора который всегда выделяет новую ячейку в памяти и записывает в нее значение. Вместо этого оператор `=` является оператор связывания, который связывает имя переменной с адресом объекта в пямяти."
   ]
  },
  {
   "cell_type": "markdown",
   "metadata": {
    "id": "lqdriJ4tDZOk"
   },
   "source": [
    "### Пример"
   ]
  },
  {
   "cell_type": "markdown",
   "metadata": {
    "id": "zrn5vyhvH1t6"
   },
   "source": [
    "Создадим переменную `x` и присвоим ей некоторое значение:"
   ]
  },
  {
   "cell_type": "code",
   "execution_count": 37,
   "metadata": {
    "id": "xNVqYXn5quBL",
    "pycharm": {
     "name": "#%%\n"
    }
   },
   "outputs": [],
   "source": [
    "x = 9000"
   ]
  },
  {
   "cell_type": "markdown",
   "metadata": {
    "id": "HzBbkAZEIZ2M"
   },
   "source": [
    "Теперь создадим переменную `y` и присвоим ее `x`:"
   ]
  },
  {
   "cell_type": "code",
   "execution_count": 38,
   "metadata": {
    "id": "079eW3WhIpi9"
   },
   "outputs": [],
   "source": [
    "y = x"
   ]
  },
  {
   "cell_type": "markdown",
   "metadata": {
    "id": "_TGipUgQIw0n"
   },
   "source": [
    "Воспользуемся функцией `id` и проверим физические адреса в оперативной памяти переменных `x` и `y`:"
   ]
  },
  {
   "cell_type": "code",
   "execution_count": 39,
   "metadata": {
    "colab": {
     "base_uri": "https://localhost:8080/"
    },
    "executionInfo": {
     "elapsed": 2,
     "status": "ok",
     "timestamp": 1662238896077,
     "user": {
      "displayName": "Nikita Chestnov",
      "userId": "16607095869821949390"
     },
     "user_tz": -180
    },
    "id": "C7JAaIeiI4tA",
    "outputId": "2784fdc7-94f3-4287-dae5-8a5319e5cf5a"
   },
   "outputs": [
    {
     "name": "stdout",
     "output_type": "stream",
     "text": [
      "2696337452432 2696337452432\n"
     ]
    }
   ],
   "source": [
    "print(id(x), id(y))"
   ]
  },
  {
   "cell_type": "markdown",
   "metadata": {
    "id": "1Uy4IXbUJS21"
   },
   "source": [
    "Как видим, адреса у них одинаковые. Но при этом при изменении переменной `x` переменная `y` не поменяется:"
   ]
  },
  {
   "cell_type": "code",
   "execution_count": 40,
   "metadata": {},
   "outputs": [
    {
     "name": "stdout",
     "output_type": "stream",
     "text": [
      "9001\n",
      "9000\n"
     ]
    }
   ],
   "source": [
    "x += 1\n",
    "print(x)\n",
    "print(y)"
   ]
  },
  {
   "cell_type": "markdown",
   "metadata": {},
   "source": [
    "Это происходит из-за того, что модификация не затрагивает число в памяти, оно создаёт новый объект, а затем выполняет присваивание новому объекту"
   ]
  },
  {
   "cell_type": "markdown",
   "metadata": {
    "id": "tcJAOa8tquBO",
    "pycharm": {
     "name": "#%% md\n"
    }
   },
   "source": [
    "# Контейнеры"
   ]
  },
  {
   "cell_type": "markdown",
   "metadata": {
    "id": "83KP5J2zZn5V"
   },
   "source": [
    "**Контейнеры** - типы данных, экземпляры которых содержат в себе один или несколько других элементов.\n",
    "\n",
    "- `list` - список\n",
    "- `tuple` - кортеж\n",
    "- `dict` - словарь\n",
    "- `set` - множество\n",
    "\n",
    "Сейчас лишь познакомимся с ними, а подробнее рассмотрим их на следующем занятии."
   ]
  },
  {
   "cell_type": "markdown",
   "metadata": {
    "id": "8PlE185BquBO",
    "pycharm": {
     "name": "#%% md\n"
    }
   },
   "source": [
    "## list"
   ]
  },
  {
   "cell_type": "markdown",
   "metadata": {
    "id": "y8IPHTmuaEUF"
   },
   "source": [
    "**Список** аналогичен `vector` из C++, но может содержать элементы разных типов:"
   ]
  },
  {
   "cell_type": "code",
   "execution_count": 42,
   "metadata": {
    "colab": {
     "base_uri": "https://localhost:8080/"
    },
    "executionInfo": {
     "elapsed": 320,
     "status": "ok",
     "timestamp": 1662243206543,
     "user": {
      "displayName": "Nikita Chestnov",
      "userId": "16607095869821949390"
     },
     "user_tz": -180
    },
    "id": "qgHqoI3AquBO",
    "outputId": "2b4acfc4-6384-4a0b-a64b-9eefe8774479",
    "pycharm": {
     "name": "#%%\n"
    }
   },
   "outputs": [
    {
     "data": {
      "text/plain": [
       "[1, 2.0, 'string!', None, True]"
      ]
     },
     "execution_count": 42,
     "metadata": {},
     "output_type": "execute_result"
    }
   ],
   "source": [
    "l = [1, 2.0, 'string!', None, True]  # или list(...)\n",
    "l"
   ]
  },
  {
   "cell_type": "markdown",
   "metadata": {
    "id": "coFlITwkaMJo"
   },
   "source": [
    "Доступ к элементам по индексу (0-индексация):"
   ]
  },
  {
   "cell_type": "code",
   "execution_count": 43,
   "metadata": {
    "colab": {
     "base_uri": "https://localhost:8080/"
    },
    "executionInfo": {
     "elapsed": 309,
     "status": "ok",
     "timestamp": 1662243213205,
     "user": {
      "displayName": "Nikita Chestnov",
      "userId": "16607095869821949390"
     },
     "user_tz": -180
    },
    "id": "dJKDF28hquBO",
    "outputId": "edb236c5-28ea-4631-9738-35fe5522d127",
    "pycharm": {
     "name": "#%%\n"
    }
   },
   "outputs": [
    {
     "data": {
      "text/plain": [
       "(1, 'string!')"
      ]
     },
     "execution_count": 43,
     "metadata": {},
     "output_type": "execute_result"
    }
   ],
   "source": [
    "l[0], l[2]"
   ]
  },
  {
   "cell_type": "markdown",
   "metadata": {
    "id": "rxh3rpt5aPVL"
   },
   "source": [
    "Поддерживает отрицательные индексы, позволяющие брать элементы с конца списка:"
   ]
  },
  {
   "cell_type": "code",
   "execution_count": null,
   "metadata": {
    "colab": {
     "base_uri": "https://localhost:8080/"
    },
    "executionInfo": {
     "elapsed": 4,
     "status": "ok",
     "timestamp": 1662243228921,
     "user": {
      "displayName": "Nikita Chestnov",
      "userId": "16607095869821949390"
     },
     "user_tz": -180
    },
    "id": "u4HsR5PkaqQy",
    "outputId": "7ceafc7c-6859-4961-ff52-c422972add9b"
   },
   "outputs": [
    {
     "data": {
      "text/plain": [
       "(True, 'string!')"
      ]
     },
     "execution_count": 107,
     "metadata": {},
     "output_type": "execute_result"
    }
   ],
   "source": [
    "l[-1], l[-3]"
   ]
  },
  {
   "cell_type": "markdown",
   "metadata": {
    "id": "PCKNefrTaVgj"
   },
   "source": [
    "Можно добавлять, удалять и изменять элемента:"
   ]
  },
  {
   "cell_type": "code",
   "execution_count": 44,
   "metadata": {
    "colab": {
     "base_uri": "https://localhost:8080/"
    },
    "executionInfo": {
     "elapsed": 297,
     "status": "ok",
     "timestamp": 1662243249327,
     "user": {
      "displayName": "Nikita Chestnov",
      "userId": "16607095869821949390"
     },
     "user_tz": -180
    },
    "id": "oaa2ElzcquBO",
    "outputId": "4aaeadc8-dc1d-4ca6-e977-7462d9b6c95d",
    "pycharm": {
     "name": "#%%\n"
    }
   },
   "outputs": [
    {
     "data": {
      "text/plain": [
       "[1, 2.0, 'string!', None, True, 'new_element']"
      ]
     },
     "execution_count": 44,
     "metadata": {},
     "output_type": "execute_result"
    }
   ],
   "source": [
    "l.append('new_element')\n",
    "l"
   ]
  },
  {
   "cell_type": "code",
   "execution_count": 45,
   "metadata": {
    "colab": {
     "base_uri": "https://localhost:8080/"
    },
    "executionInfo": {
     "elapsed": 3,
     "status": "ok",
     "timestamp": 1662243250482,
     "user": {
      "displayName": "Nikita Chestnov",
      "userId": "16607095869821949390"
     },
     "user_tz": -180
    },
    "id": "kawQJ1nLquBP",
    "outputId": "766ff55c-b34d-4169-860f-3abf1745efeb",
    "pycharm": {
     "name": "#%%\n"
    }
   },
   "outputs": [
    {
     "data": {
      "text/plain": [
       "[1, 'string!', None, True, 'new_element']"
      ]
     },
     "execution_count": 45,
     "metadata": {},
     "output_type": "execute_result"
    }
   ],
   "source": [
    "l.remove(2.0)\n",
    "l"
   ]
  },
  {
   "cell_type": "code",
   "execution_count": 46,
   "metadata": {
    "colab": {
     "base_uri": "https://localhost:8080/"
    },
    "executionInfo": {
     "elapsed": 425,
     "status": "ok",
     "timestamp": 1662243252073,
     "user": {
      "displayName": "Nikita Chestnov",
      "userId": "16607095869821949390"
     },
     "user_tz": -180
    },
    "id": "YbsOOQXIquBO",
    "outputId": "ec5db204-6770-46db-8c58-8b820f62419f",
    "pycharm": {
     "name": "#%%\n"
    }
   },
   "outputs": [
    {
     "data": {
      "text/plain": [
       "[122, 'string!', None, True, 'new_element']"
      ]
     },
     "execution_count": 46,
     "metadata": {},
     "output_type": "execute_result"
    }
   ],
   "source": [
    "l[0] = 122\n",
    "l"
   ]
  },
  {
   "cell_type": "markdown",
   "metadata": {
    "id": "klnguX4C2zLs"
   },
   "source": [
    "Кроме того, списки можно соединять между собой с помощью операции сложения:"
   ]
  },
  {
   "cell_type": "code",
   "execution_count": 47,
   "metadata": {
    "id": "wRkEm86s249z"
   },
   "outputs": [
    {
     "data": {
      "text/plain": [
       "[1, 2, 3]"
      ]
     },
     "execution_count": 47,
     "metadata": {},
     "output_type": "execute_result"
    }
   ],
   "source": [
    "[1] + [2, 3]"
   ]
  },
  {
   "cell_type": "markdown",
   "metadata": {
    "id": "GiEwhxWV2-N7"
   },
   "source": [
    "Как и строки, списки можно домножать на целое число:"
   ]
  },
  {
   "cell_type": "code",
   "execution_count": 2,
   "metadata": {
    "colab": {
     "base_uri": "https://localhost:8080/"
    },
    "executionInfo": {
     "elapsed": 743,
     "status": "ok",
     "timestamp": 1662284481856,
     "user": {
      "displayName": "Nikita Chestnov",
      "userId": "16607095869821949390"
     },
     "user_tz": -180
    },
    "id": "5mahyqZV4B0V",
    "outputId": "ce0f517c-157d-4937-a20e-02d07f10e969"
   },
   "outputs": [
    {
     "data": {
      "text/plain": [
       "[2, 3, 4, 2, 3, 4, 2, 3, 4]"
      ]
     },
     "execution_count": 2,
     "metadata": {},
     "output_type": "execute_result"
    }
   ],
   "source": [
    "[2, 3, 4] * 3"
   ]
  },
  {
   "cell_type": "markdown",
   "metadata": {
    "id": "nDfq59QJquBP",
    "pycharm": {
     "name": "#%% md\n"
    }
   },
   "source": [
    "## tuple"
   ]
  },
  {
   "cell_type": "markdown",
   "metadata": {
    "id": "vE0MdhmHa1j2"
   },
   "source": [
    "**Кортеж** так же является массивом элементов разных типов и во многом идентичен списку:"
   ]
  },
  {
   "cell_type": "code",
   "execution_count": 4,
   "metadata": {
    "colab": {
     "base_uri": "https://localhost:8080/"
    },
    "executionInfo": {
     "elapsed": 268,
     "status": "ok",
     "timestamp": 1662284508208,
     "user": {
      "displayName": "Nikita Chestnov",
      "userId": "16607095869821949390"
     },
     "user_tz": -180
    },
    "id": "_OLH6LdWquBP",
    "outputId": "c78a33f7-b374-40b5-a555-171df705eb8e",
    "pycharm": {
     "name": "#%%\n"
    }
   },
   "outputs": [
    {
     "data": {
      "text/plain": [
       "(1, 2.0, 'string!', None, True)"
      ]
     },
     "execution_count": 4,
     "metadata": {},
     "output_type": "execute_result"
    }
   ],
   "source": [
    "t = (1, 2.0, 'string!', None, True)  # или tuple(...)\n",
    "t"
   ]
  },
  {
   "cell_type": "markdown",
   "metadata": {
    "id": "NtE2FN5abzoD"
   },
   "source": [
    "Доступ к элементам кортежа так же осуществляется по индексу, так же поддерживаются отрицательные индексы:"
   ]
  },
  {
   "cell_type": "code",
   "execution_count": 5,
   "metadata": {
    "colab": {
     "base_uri": "https://localhost:8080/"
    },
    "executionInfo": {
     "elapsed": 7,
     "status": "ok",
     "timestamp": 1662284508456,
     "user": {
      "displayName": "Nikita Chestnov",
      "userId": "16607095869821949390"
     },
     "user_tz": -180
    },
    "id": "Y4vuptCRquBP",
    "outputId": "3b014e14-fa41-406f-fe56-44d998ddcc87",
    "pycharm": {
     "name": "#%%\n"
    }
   },
   "outputs": [
    {
     "data": {
      "text/plain": [
       "(1, True)"
      ]
     },
     "execution_count": 5,
     "metadata": {},
     "output_type": "execute_result"
    }
   ],
   "source": [
    "t[0], t[-1]"
   ]
  },
  {
   "cell_type": "markdown",
   "metadata": {
    "id": "euYTMu6y4NCo"
   },
   "source": [
    "Кортежи так же можно складывать между собой и домножать на число:"
   ]
  },
  {
   "cell_type": "code",
   "execution_count": 10,
   "metadata": {
    "colab": {
     "base_uri": "https://localhost:8080/"
    },
    "executionInfo": {
     "elapsed": 9,
     "status": "ok",
     "timestamp": 1662284563559,
     "user": {
      "displayName": "Nikita Chestnov",
      "userId": "16607095869821949390"
     },
     "user_tz": -180
    },
    "id": "HRtmKGF44HfR",
    "outputId": "b35f2c86-8593-4594-9714-f54e481210c2"
   },
   "outputs": [
    {
     "data": {
      "text/plain": [
       "(1, 2.0, 'string!', None, True, 1, 2, 3)"
      ]
     },
     "execution_count": 10,
     "metadata": {},
     "output_type": "execute_result"
    }
   ],
   "source": [
    "t + (1, 2, 3)"
   ]
  },
  {
   "cell_type": "code",
   "execution_count": 7,
   "metadata": {
    "colab": {
     "base_uri": "https://localhost:8080/"
    },
    "executionInfo": {
     "elapsed": 283,
     "status": "ok",
     "timestamp": 1662284541329,
     "user": {
      "displayName": "Nikita Chestnov",
      "userId": "16607095869821949390"
     },
     "user_tz": -180
    },
    "id": "fK4NQ2XI4Rlu",
    "outputId": "6028b39b-72a0-45b4-86f3-0f32e96afc18"
   },
   "outputs": [
    {
     "data": {
      "text/plain": [
       "(1, 2.0, 'string!', None, True, 1, 2.0, 'string!', None, True)"
      ]
     },
     "execution_count": 7,
     "metadata": {},
     "output_type": "execute_result"
    }
   ],
   "source": [
    "2 * t"
   ]
  },
  {
   "cell_type": "markdown",
   "metadata": {
    "id": "6nBTe0NTbiwT"
   },
   "source": [
    "**Основное отличие** - кортеж в отличие от списка является **неизменяемым**, т.е. у него отсутствуют операции добавления, удаления и изменения элементов:\n"
   ]
  },
  {
   "cell_type": "code",
   "execution_count": null,
   "metadata": {
    "colab": {
     "base_uri": "https://localhost:8080/",
     "height": 186
    },
    "executionInfo": {
     "elapsed": 4,
     "status": "error",
     "timestamp": 1662243422873,
     "user": {
      "displayName": "Nikita Chestnov",
      "userId": "16607095869821949390"
     },
     "user_tz": -180
    },
    "id": "mbFs0caRquBP",
    "outputId": "0dbf9efd-69d6-4d3c-ce9e-5141687b49ea",
    "pycharm": {
     "name": "#%%\n"
    },
    "scrolled": true
   },
   "outputs": [
    {
     "ename": "TypeError",
     "evalue": "ignored",
     "output_type": "error",
     "traceback": [
      "\u001b[0;31m---------------------------------------------------------------------------\u001b[0m",
      "\u001b[0;31mTypeError\u001b[0m                                 Traceback (most recent call last)",
      "\u001b[0;32m<ipython-input-113-fb541ec74118>\u001b[0m in \u001b[0;36m<module>\u001b[0;34m\u001b[0m\n\u001b[0;32m----> 1\u001b[0;31m \u001b[0mt\u001b[0m\u001b[0;34m[\u001b[0m\u001b[0;36m0\u001b[0m\u001b[0;34m]\u001b[0m \u001b[0;34m=\u001b[0m \u001b[0;36m122\u001b[0m\u001b[0;34m\u001b[0m\u001b[0;34m\u001b[0m\u001b[0m\n\u001b[0m\u001b[1;32m      2\u001b[0m \u001b[0mt\u001b[0m\u001b[0;34m\u001b[0m\u001b[0;34m\u001b[0m\u001b[0m\n",
      "\u001b[0;31mTypeError\u001b[0m: 'tuple' object does not support item assignment"
     ]
    }
   ],
   "source": [
    "t[0] = 122\n",
    "t"
   ]
  },
  {
   "cell_type": "code",
   "execution_count": null,
   "metadata": {
    "colab": {
     "base_uri": "https://localhost:8080/",
     "height": 168
    },
    "executionInfo": {
     "elapsed": 291,
     "status": "error",
     "timestamp": 1662243586146,
     "user": {
      "displayName": "Nikita Chestnov",
      "userId": "16607095869821949390"
     },
     "user_tz": -180
    },
    "id": "jrDoRvwScCSG",
    "outputId": "29e9fd7b-b50c-4135-f7a3-bcd84e9deb14"
   },
   "outputs": [
    {
     "ename": "AttributeError",
     "evalue": "ignored",
     "output_type": "error",
     "traceback": [
      "\u001b[0;31m---------------------------------------------------------------------------\u001b[0m",
      "\u001b[0;31mAttributeError\u001b[0m                            Traceback (most recent call last)",
      "\u001b[0;32m<ipython-input-115-c860940312ad>\u001b[0m in \u001b[0;36m<module>\u001b[0;34m\u001b[0m\n\u001b[0;32m----> 1\u001b[0;31m \u001b[0mt\u001b[0m\u001b[0;34m.\u001b[0m\u001b[0mappend\u001b[0m\u001b[0;34m(\u001b[0m\u001b[0;36m1\u001b[0m\u001b[0;34m)\u001b[0m\u001b[0;34m\u001b[0m\u001b[0;34m\u001b[0m\u001b[0m\n\u001b[0m",
      "\u001b[0;31mAttributeError\u001b[0m: 'tuple' object has no attribute 'append'"
     ]
    }
   ],
   "source": [
    "t.append(1)"
   ]
  },
  {
   "cell_type": "code",
   "execution_count": null,
   "metadata": {
    "colab": {
     "base_uri": "https://localhost:8080/",
     "height": 168
    },
    "executionInfo": {
     "elapsed": 287,
     "status": "error",
     "timestamp": 1662243596239,
     "user": {
      "displayName": "Nikita Chestnov",
      "userId": "16607095869821949390"
     },
     "user_tz": -180
    },
    "id": "rZiNeV3wcEkZ",
    "outputId": "4bdf4f81-8446-4e7a-b78e-c55e4c7f2b29"
   },
   "outputs": [
    {
     "ename": "AttributeError",
     "evalue": "ignored",
     "output_type": "error",
     "traceback": [
      "\u001b[0;31m---------------------------------------------------------------------------\u001b[0m",
      "\u001b[0;31mAttributeError\u001b[0m                            Traceback (most recent call last)",
      "\u001b[0;32m<ipython-input-116-9ef1b67eb073>\u001b[0m in \u001b[0;36m<module>\u001b[0;34m\u001b[0m\n\u001b[0;32m----> 1\u001b[0;31m \u001b[0mt\u001b[0m\u001b[0;34m.\u001b[0m\u001b[0mremove\u001b[0m\u001b[0;34m(\u001b[0m\u001b[0;36m1\u001b[0m\u001b[0;34m)\u001b[0m\u001b[0;34m\u001b[0m\u001b[0;34m\u001b[0m\u001b[0m\n\u001b[0m",
      "\u001b[0;31mAttributeError\u001b[0m: 'tuple' object has no attribute 'remove'"
     ]
    }
   ],
   "source": [
    "t.remove(1)"
   ]
  },
  {
   "cell_type": "markdown",
   "metadata": {
    "id": "tB4qnjJRquBP",
    "pycharm": {
     "name": "#%% md\n"
    }
   },
   "source": [
    "Будьте осторожны при создании кортежа из одного элемента:"
   ]
  },
  {
   "cell_type": "code",
   "execution_count": null,
   "metadata": {
    "id": "41HMWLeQquBQ",
    "outputId": "90a60b74-5948-4c34-c6a7-7cef22dc4843",
    "pycharm": {
     "name": "#%%\n"
    }
   },
   "outputs": [
    {
     "name": "stdout",
     "output_type": "stream",
     "text": [
      "1 <class 'int'>\n",
      "(1,) <class 'tuple'>\n"
     ]
    }
   ],
   "source": [
    "tup = (1)\n",
    "print(tup, type(tup))\n",
    "\n",
    "tup = (1, )\n",
    "print(tup, type(tup))"
   ]
  },
  {
   "cell_type": "markdown",
   "metadata": {
    "id": "jC-7IMamquBQ",
    "pycharm": {
     "name": "#%% md\n"
    }
   },
   "source": [
    "**Вопрос** - зачем нужен `tuple`, если есть более удобный в использовании `list`?"
   ]
  },
  {
   "cell_type": "markdown",
   "metadata": {
    "id": "4K_dUhcIcmqN"
   },
   "source": [
    "### Spoiler"
   ]
  },
  {
   "cell_type": "markdown",
   "metadata": {
    "id": "4mNNoIonquBQ",
    "pycharm": {
     "name": "#%% md\n"
    }
   },
   "source": [
    "**Преимущества кортежа:**\n",
    "1. **Кортежи работают быстрее списков.** Если нужен константный массив, то лучше использовать кортежи.\n",
    "2. **Защита данных от записи.** Кортежи позволяют явно защитить данные от изменений.\n",
    "3. **Могут быть использованы как ключи для словарей.** Некоторые кортежи являются хэшируемыми, и поэтому могут использоваться в качестве ключей для словарей."
   ]
  },
  {
   "cell_type": "markdown",
   "metadata": {
    "id": "PXkdyjjmquBQ",
    "pycharm": {
     "name": "#%% md\n"
    }
   },
   "source": [
    "## dict"
   ]
  },
  {
   "cell_type": "markdown",
   "metadata": {
    "id": "UBuwavAkdOkP"
   },
   "source": [
    "**Словарь** - key-value хранилище (хранит пары \"ключ-значение\"), позволяет получать доступ к объектам не по целочисленному индексу, а по объекту-ключу. В качестве ключа может использоваться любой **хэшируемый** объект.\n",
    "\n",
    "Аналогичен `map` из C++, но может работать с несколькими типами данных в рамках одного хранилища."
   ]
  },
  {
   "cell_type": "code",
   "execution_count": 48,
   "metadata": {
    "colab": {
     "base_uri": "https://localhost:8080/"
    },
    "executionInfo": {
     "elapsed": 396,
     "status": "ok",
     "timestamp": 1662244191733,
     "user": {
      "displayName": "Nikita Chestnov",
      "userId": "16607095869821949390"
     },
     "user_tz": -180
    },
    "id": "kEBuaapLquBQ",
    "outputId": "ea2dba69-1e36-4729-f3dc-60c4b13df9f5",
    "pycharm": {
     "name": "#%%\n"
    }
   },
   "outputs": [
    {
     "data": {
      "text/plain": [
       "{11: 'data', 2.3: 'more_data', True: 42}"
      ]
     },
     "execution_count": 48,
     "metadata": {},
     "output_type": "execute_result"
    }
   ],
   "source": [
    "d = {11: \"data\", 2.3: \"more_data\", True: 42}  # или dict(...)\n",
    "d"
   ]
  },
  {
   "cell_type": "markdown",
   "metadata": {
    "id": "76VApjlAquBQ",
    "pycharm": {
     "name": "#%% md\n"
    }
   },
   "source": [
    "Получение данных происходит либо с помощью $[$key$]$, либо с помощью метода `get()`:"
   ]
  },
  {
   "cell_type": "code",
   "execution_count": 27,
   "metadata": {
    "colab": {
     "base_uri": "https://localhost:8080/"
    },
    "executionInfo": {
     "elapsed": 306,
     "status": "ok",
     "timestamp": 1662244201333,
     "user": {
      "displayName": "Nikita Chestnov",
      "userId": "16607095869821949390"
     },
     "user_tz": -180
    },
    "id": "GWM5G5bxquBQ",
    "outputId": "f1f8b242-955a-41b3-e641-c0ca2f9a740b",
    "pycharm": {
     "name": "#%%\n"
    }
   },
   "outputs": [
    {
     "data": {
      "text/plain": [
       "('data', 'more_data')"
      ]
     },
     "execution_count": 27,
     "metadata": {},
     "output_type": "execute_result"
    }
   ],
   "source": [
    "d[11], d.get(2.3)"
   ]
  },
  {
   "cell_type": "markdown",
   "metadata": {
    "id": "XA9vw5SEquBQ",
    "pycharm": {
     "name": "#%% md\n"
    }
   },
   "source": [
    "Если в словаре нет запрашиваемого ключа, то первым способом получим `None`, а вторым - ошибку:"
   ]
  },
  {
   "cell_type": "code",
   "execution_count": 49,
   "metadata": {
    "id": "CfQiN8fIquBR",
    "pycharm": {
     "name": "#%%\n"
    }
   },
   "outputs": [],
   "source": [
    "d.get(2)"
   ]
  },
  {
   "cell_type": "code",
   "execution_count": 29,
   "metadata": {
    "colab": {
     "base_uri": "https://localhost:8080/",
     "height": 168
    },
    "executionInfo": {
     "elapsed": 307,
     "status": "error",
     "timestamp": 1662244243855,
     "user": {
      "displayName": "Nikita Chestnov",
      "userId": "16607095869821949390"
     },
     "user_tz": -180
    },
    "id": "95JfaOk5ekA6",
    "outputId": "bce4ea8f-7241-48d0-e84c-3cd41c465061",
    "scrolled": true
   },
   "outputs": [
    {
     "ename": "KeyError",
     "evalue": "2",
     "output_type": "error",
     "traceback": [
      "\u001b[1;31m---------------------------------------------------------------------------\u001b[0m",
      "\u001b[1;31mKeyError\u001b[0m                                  Traceback (most recent call last)",
      "\u001b[1;32m~\\AppData\\Local\\Temp/ipykernel_2288/464593666.py\u001b[0m in \u001b[0;36m<module>\u001b[1;34m\u001b[0m\n\u001b[1;32m----> 1\u001b[1;33m \u001b[0md\u001b[0m\u001b[1;33m[\u001b[0m\u001b[1;36m2\u001b[0m\u001b[1;33m]\u001b[0m\u001b[1;33m\u001b[0m\u001b[1;33m\u001b[0m\u001b[0m\n\u001b[0m",
      "\u001b[1;31mKeyError\u001b[0m: 2"
     ]
    }
   ],
   "source": [
    "d[2]"
   ]
  },
  {
   "cell_type": "markdown",
   "metadata": {
    "id": "pCMVPsLtquBR",
    "pycharm": {
     "name": "#%% md\n"
    }
   },
   "source": [
    "Поскольку в качестве ключа может использоваться любой хэшируемый объект, то можем использовать некоторые (но не все) кортежи и не можем использовать списки:"
   ]
  },
  {
   "cell_type": "code",
   "execution_count": 50,
   "metadata": {
    "id": "ItcxqpUkquBR",
    "outputId": "9f4a87e2-28ed-455d-9fa9-8db6fb7b9718",
    "pycharm": {
     "name": "#%%\n"
    }
   },
   "outputs": [
    {
     "data": {
      "text/plain": [
       "'success1!'"
      ]
     },
     "execution_count": 50,
     "metadata": {},
     "output_type": "execute_result"
    }
   ],
   "source": [
    "d[(1, 2, 3)] = 'success1!'\n",
    "d[(1, 2, 3)]"
   ]
  },
  {
   "cell_type": "code",
   "execution_count": 51,
   "metadata": {
    "id": "17zOOSUlquBR",
    "outputId": "3a8f7757-a382-431f-9577-4fa6c95b30f1",
    "pycharm": {
     "name": "#%%\n"
    }
   },
   "outputs": [
    {
     "ename": "TypeError",
     "evalue": "unhashable type: 'list'",
     "output_type": "error",
     "traceback": [
      "\u001b[1;31m---------------------------------------------------------------------------\u001b[0m",
      "\u001b[1;31mTypeError\u001b[0m                                 Traceback (most recent call last)",
      "\u001b[1;32m~\\AppData\\Local\\Temp/ipykernel_21140/2809968259.py\u001b[0m in \u001b[0;36m<module>\u001b[1;34m\u001b[0m\n\u001b[1;32m----> 1\u001b[1;33m \u001b[0md\u001b[0m\u001b[1;33m[\u001b[0m\u001b[1;33m(\u001b[0m\u001b[1;36m1\u001b[0m\u001b[1;33m,\u001b[0m \u001b[1;36m2\u001b[0m\u001b[1;33m,\u001b[0m \u001b[1;33m[\u001b[0m\u001b[1;36m3\u001b[0m\u001b[1;33m]\u001b[0m\u001b[1;33m)\u001b[0m\u001b[1;33m]\u001b[0m \u001b[1;33m=\u001b[0m \u001b[1;34m'success2!'\u001b[0m\u001b[1;33m\u001b[0m\u001b[1;33m\u001b[0m\u001b[0m\n\u001b[0m",
      "\u001b[1;31mTypeError\u001b[0m: unhashable type: 'list'"
     ]
    }
   ],
   "source": [
    "d[(1, 2, [3])] = 'success2!'"
   ]
  },
  {
   "cell_type": "code",
   "execution_count": 52,
   "metadata": {
    "id": "WG62IE7zquBR",
    "outputId": "28cb6ccc-f60b-43c6-87b2-bde2c80a0189",
    "pycharm": {
     "name": "#%%\n"
    },
    "scrolled": true
   },
   "outputs": [
    {
     "ename": "TypeError",
     "evalue": "unhashable type: 'list'",
     "output_type": "error",
     "traceback": [
      "\u001b[1;31m---------------------------------------------------------------------------\u001b[0m",
      "\u001b[1;31mTypeError\u001b[0m                                 Traceback (most recent call last)",
      "\u001b[1;32m~\\AppData\\Local\\Temp/ipykernel_21140/2424507405.py\u001b[0m in \u001b[0;36m<module>\u001b[1;34m\u001b[0m\n\u001b[1;32m----> 1\u001b[1;33m \u001b[0md\u001b[0m\u001b[1;33m[\u001b[0m\u001b[1;33m[\u001b[0m\u001b[1;36m1\u001b[0m\u001b[1;33m,\u001b[0m \u001b[1;36m2\u001b[0m\u001b[1;33m,\u001b[0m \u001b[1;36m3\u001b[0m\u001b[1;33m]\u001b[0m\u001b[1;33m]\u001b[0m \u001b[1;33m=\u001b[0m \u001b[1;34m'success3!'\u001b[0m\u001b[1;33m\u001b[0m\u001b[1;33m\u001b[0m\u001b[0m\n\u001b[0m",
      "\u001b[1;31mTypeError\u001b[0m: unhashable type: 'list'"
     ]
    }
   ],
   "source": [
    "d[[1, 2, 3]] = 'success3!'"
   ]
  },
  {
   "cell_type": "markdown",
   "metadata": {
    "id": "U6VtpnHjquBR",
    "pycharm": {
     "name": "#%% md\n"
    }
   },
   "source": [
    "## set"
   ]
  },
  {
   "cell_type": "markdown",
   "metadata": {
    "id": "0mSZrS6vez1C"
   },
   "source": [
    "**Множество** - набор уникальных объектов. Можем добавлять и удалять элементы из множества, а также проверять наличие элемента в множестве.\n",
    "\n",
    "Аналогичен `set` из C++, но может содержать объекты разных типов."
   ]
  },
  {
   "cell_type": "code",
   "execution_count": 53,
   "metadata": {
    "colab": {
     "base_uri": "https://localhost:8080/"
    },
    "executionInfo": {
     "elapsed": 302,
     "status": "ok",
     "timestamp": 1662244337245,
     "user": {
      "displayName": "Nikita Chestnov",
      "userId": "16607095869821949390"
     },
     "user_tz": -180
    },
    "id": "NIdQ5WQ4quBS",
    "outputId": "74f2cef0-e94f-477f-ab54-bb169e78acb2",
    "pycharm": {
     "name": "#%%\n"
    }
   },
   "outputs": [
    {
     "data": {
      "text/plain": [
       "{1, 2.0, '3', False, None}"
      ]
     },
     "execution_count": 53,
     "metadata": {},
     "output_type": "execute_result"
    }
   ],
   "source": [
    "s = {1, 2.0, \"3\", False, None}  # или set(...)\n",
    "s"
   ]
  },
  {
   "cell_type": "markdown",
   "metadata": {
    "id": "EO_yE-0gquBS",
    "pycharm": {
     "name": "#%% md\n"
    }
   },
   "source": [
    "**Замечание** - пустое множество создается только как `set()`, в случае `{}` создастся пустой словарь."
   ]
  },
  {
   "cell_type": "code",
   "execution_count": 54,
   "metadata": {
    "id": "V8AJCJ9PquBS",
    "outputId": "6b46b6f2-ecc6-4b69-9ad6-e770d013f7d1",
    "pycharm": {
     "name": "#%%\n"
    }
   },
   "outputs": [
    {
     "data": {
      "text/plain": [
       "dict"
      ]
     },
     "execution_count": 54,
     "metadata": {},
     "output_type": "execute_result"
    }
   ],
   "source": [
    "t = {}\n",
    "type(t)"
   ]
  },
  {
   "cell_type": "markdown",
   "metadata": {
    "id": "irRd2brKquBS",
    "pycharm": {
     "name": "#%% md\n"
    }
   },
   "source": [
    "Для добавления, удаления и проверки наличия элемента в множестве существуют методы `add` и `remove` и оператор `in`:"
   ]
  },
  {
   "cell_type": "code",
   "execution_count": 55,
   "metadata": {
    "id": "9x-M8ZHUquBS",
    "outputId": "a5b4d8ce-220c-4c1e-f6a8-cfb5e0dae208",
    "pycharm": {
     "name": "#%%\n"
    }
   },
   "outputs": [
    {
     "data": {
      "text/plain": [
       "{-4, 1, 2.0, '3', False, None}"
      ]
     },
     "execution_count": 55,
     "metadata": {},
     "output_type": "execute_result"
    }
   ],
   "source": [
    "s.add(-4)\n",
    "s"
   ]
  },
  {
   "cell_type": "code",
   "execution_count": 56,
   "metadata": {
    "id": "ANuMFgVuquBS",
    "outputId": "f049544f-468c-45dc-b39f-042680594690",
    "pycharm": {
     "name": "#%%\n"
    }
   },
   "outputs": [
    {
     "data": {
      "text/plain": [
       "{-4, 1, 2.0, False, None}"
      ]
     },
     "execution_count": 56,
     "metadata": {},
     "output_type": "execute_result"
    }
   ],
   "source": [
    "s.remove('3')\n",
    "s"
   ]
  },
  {
   "cell_type": "code",
   "execution_count": 57,
   "metadata": {
    "id": "u4Ah5TRnquBS",
    "outputId": "dbac9cce-2630-4139-c760-26b51741ba0d",
    "pycharm": {
     "name": "#%%\n"
    }
   },
   "outputs": [
    {
     "data": {
      "text/plain": [
       "True"
      ]
     },
     "execution_count": 57,
     "metadata": {},
     "output_type": "execute_result"
    }
   ],
   "source": [
    "1 in s"
   ]
  },
  {
   "cell_type": "markdown",
   "metadata": {
    "id": "J9heAB84quBT",
    "pycharm": {
     "name": "#%% md\n"
    }
   },
   "source": [
    "Поскольку множество содержит лишь **уникальные** элементы, то добавление одинаковых элементов не меняет множество: "
   ]
  },
  {
   "cell_type": "code",
   "execution_count": 58,
   "metadata": {
    "id": "uJwTRqK4quBT",
    "outputId": "39dc7259-e61d-4d8f-8753-56352ff7095f",
    "pycharm": {
     "name": "#%%\n"
    }
   },
   "outputs": [
    {
     "data": {
      "text/plain": [
       "{-4, 1, 2.0, False, None}"
      ]
     },
     "execution_count": 58,
     "metadata": {},
     "output_type": "execute_result"
    },
    {
     "data": {
      "text/plain": [
       "{-4, 1, 2.0, False, None}"
      ]
     },
     "execution_count": 58,
     "metadata": {},
     "output_type": "execute_result"
    }
   ],
   "source": [
    "s\n",
    "s.add(1)\n",
    "s.add(1)\n",
    "s.add(2.0)\n",
    "s.add(2.0)\n",
    "s"
   ]
  },
  {
   "cell_type": "markdown",
   "metadata": {
    "id": "vqeYJzkJ9pBL"
   },
   "source": [
    "## Приведение контейнеров"
   ]
  },
  {
   "cell_type": "markdown",
   "metadata": {
    "id": "ToaS8ckM9r4l"
   },
   "source": [
    "Можно изменить тип данных с помощью `set()`, `list()`, `tuple()`:"
   ]
  },
  {
   "cell_type": "code",
   "execution_count": 32,
   "metadata": {
    "colab": {
     "base_uri": "https://localhost:8080/"
    },
    "executionInfo": {
     "elapsed": 330,
     "status": "ok",
     "timestamp": 1662286360196,
     "user": {
      "displayName": "Nikita Chestnov",
      "userId": "16607095869821949390"
     },
     "user_tz": -180
    },
    "id": "1_PLvX7w_OcH",
    "outputId": "25a1aaae-fd64-4e19-d418-bad7ee2fe4a6"
   },
   "outputs": [
    {
     "data": {
      "text/plain": [
       "{1, 2, 5, 6}"
      ]
     },
     "execution_count": 32,
     "metadata": {},
     "output_type": "execute_result"
    }
   ],
   "source": [
    "l = [1, 2, 1, 5, 5, 6]\n",
    "set(l)"
   ]
  },
  {
   "cell_type": "code",
   "execution_count": 33,
   "metadata": {
    "colab": {
     "base_uri": "https://localhost:8080/"
    },
    "executionInfo": {
     "elapsed": 261,
     "status": "ok",
     "timestamp": 1662286371772,
     "user": {
      "displayName": "Nikita Chestnov",
      "userId": "16607095869821949390"
     },
     "user_tz": -180
    },
    "id": "7TJkoymc_RSN",
    "outputId": "768b2a76-eb77-4023-9a0f-773b8b7f1ef6"
   },
   "outputs": [
    {
     "data": {
      "text/plain": [
       "[1, 5]"
      ]
     },
     "execution_count": 33,
     "metadata": {},
     "output_type": "execute_result"
    }
   ],
   "source": [
    "t = (1, 5)\n",
    "list(t)"
   ]
  },
  {
   "cell_type": "code",
   "execution_count": 34,
   "metadata": {
    "colab": {
     "base_uri": "https://localhost:8080/"
    },
    "executionInfo": {
     "elapsed": 283,
     "status": "ok",
     "timestamp": 1662286382286,
     "user": {
      "displayName": "Nikita Chestnov",
      "userId": "16607095869821949390"
     },
     "user_tz": -180
    },
    "id": "RBnmXnh-_T1-",
    "outputId": "773e8e87-6689-4a86-9607-f415bd30bba7"
   },
   "outputs": [
    {
     "data": {
      "text/plain": [
       "('a', 'b', 'a', 'b')"
      ]
     },
     "execution_count": 34,
     "metadata": {},
     "output_type": "execute_result"
    }
   ],
   "source": [
    "s = \"abab\"\n",
    "tuple(s)"
   ]
  },
  {
   "cell_type": "markdown",
   "metadata": {
    "id": "fySLypeW9rxu"
   },
   "source": [
    "### Приведение к bool"
   ]
  },
  {
   "cell_type": "markdown",
   "metadata": {
    "id": "fRBNIZQt9u2Q"
   },
   "source": [
    "Для `tuple`, `list`, `set`, `dict`: пустые контейнеры - в `False`, остальное - в `True`:"
   ]
  },
  {
   "cell_type": "code",
   "execution_count": 28,
   "metadata": {
    "colab": {
     "base_uri": "https://localhost:8080/"
    },
    "executionInfo": {
     "elapsed": 13,
     "status": "ok",
     "timestamp": 1662286000943,
     "user": {
      "displayName": "Nikita Chestnov",
      "userId": "16607095869821949390"
     },
     "user_tz": -180
    },
    "id": "y_v07xzf9y_n",
    "outputId": "00a75724-6287-47ba-b0df-8c2118e4c49c"
   },
   "outputs": [
    {
     "data": {
      "text/plain": [
       "(True, False)"
      ]
     },
     "execution_count": 28,
     "metadata": {},
     "output_type": "execute_result"
    }
   ],
   "source": [
    "bool((1, 2)), bool(())"
   ]
  },
  {
   "cell_type": "code",
   "execution_count": 29,
   "metadata": {
    "colab": {
     "base_uri": "https://localhost:8080/"
    },
    "executionInfo": {
     "elapsed": 7,
     "status": "ok",
     "timestamp": 1662286017832,
     "user": {
      "displayName": "Nikita Chestnov",
      "userId": "16607095869821949390"
     },
     "user_tz": -180
    },
    "id": "xjDE2zKt9y3W",
    "outputId": "abcba65c-1efe-4342-f30a-d917df96c87f"
   },
   "outputs": [
    {
     "data": {
      "text/plain": [
       "(True, False)"
      ]
     },
     "execution_count": 29,
     "metadata": {},
     "output_type": "execute_result"
    }
   ],
   "source": [
    "bool(['x', 'y',]), bool([])"
   ]
  },
  {
   "cell_type": "code",
   "execution_count": 30,
   "metadata": {
    "colab": {
     "base_uri": "https://localhost:8080/"
    },
    "executionInfo": {
     "elapsed": 305,
     "status": "ok",
     "timestamp": 1662286067136,
     "user": {
      "displayName": "Nikita Chestnov",
      "userId": "16607095869821949390"
     },
     "user_tz": -180
    },
    "id": "w-SFqBuN9ywC",
    "outputId": "702e0fd7-5ae1-4bd6-957a-131d37002879"
   },
   "outputs": [
    {
     "data": {
      "text/plain": [
       "(True, False)"
      ]
     },
     "execution_count": 30,
     "metadata": {},
     "output_type": "execute_result"
    }
   ],
   "source": [
    "bool({12.5, 45.7}), bool(set())"
   ]
  },
  {
   "cell_type": "code",
   "execution_count": 31,
   "metadata": {
    "colab": {
     "base_uri": "https://localhost:8080/"
    },
    "executionInfo": {
     "elapsed": 2,
     "status": "ok",
     "timestamp": 1662286067382,
     "user": {
      "displayName": "Nikita Chestnov",
      "userId": "16607095869821949390"
     },
     "user_tz": -180
    },
    "id": "deUza58_9ynC",
    "outputId": "b1d3fe59-b89c-4dad-bc80-14d74fdea7f6"
   },
   "outputs": [
    {
     "data": {
      "text/plain": [
       "(True, False)"
      ]
     },
     "execution_count": 31,
     "metadata": {},
     "output_type": "execute_result"
    }
   ],
   "source": [
    "bool({'1': 1, '2': '2'}), bool({})"
   ]
  },
  {
   "cell_type": "markdown",
   "metadata": {
    "id": "_nyQDoisquBY",
    "pycharm": {
     "name": "#%% md\n"
    }
   },
   "source": [
    "# Логические операторы"
   ]
  },
  {
   "cell_type": "markdown",
   "metadata": {
    "id": "GmrGTRYf_rm3"
   },
   "source": [
    "Python позволять логические операции:\n",
    "\n",
    "- `and` - логическое И\n",
    "- `or` - логическое ИЛИ\n",
    "- `not` - логическое НЕ"
   ]
  },
  {
   "cell_type": "code",
   "execution_count": 37,
   "metadata": {
    "executionInfo": {
     "elapsed": 5,
     "status": "ok",
     "timestamp": 1662286638004,
     "user": {
      "displayName": "Nikita Chestnov",
      "userId": "16607095869821949390"
     },
     "user_tz": -180
    },
    "id": "XmdFzdRtquBY",
    "pycharm": {
     "name": "#%%\n"
    }
   },
   "outputs": [],
   "source": [
    "a, b = True, False"
   ]
  },
  {
   "cell_type": "code",
   "execution_count": 38,
   "metadata": {
    "colab": {
     "base_uri": "https://localhost:8080/"
    },
    "executionInfo": {
     "elapsed": 8,
     "status": "ok",
     "timestamp": 1662286641705,
     "user": {
      "displayName": "Nikita Chestnov",
      "userId": "16607095869821949390"
     },
     "user_tz": -180
    },
    "id": "D5SfOexHATPj",
    "outputId": "d183862c-f081-475f-a223-0c9de7144476"
   },
   "outputs": [
    {
     "data": {
      "text/plain": [
       "False"
      ]
     },
     "execution_count": 38,
     "metadata": {},
     "output_type": "execute_result"
    }
   ],
   "source": [
    "a and b"
   ]
  },
  {
   "cell_type": "code",
   "execution_count": 39,
   "metadata": {
    "colab": {
     "base_uri": "https://localhost:8080/"
    },
    "executionInfo": {
     "elapsed": 6,
     "status": "ok",
     "timestamp": 1662286642006,
     "user": {
      "displayName": "Nikita Chestnov",
      "userId": "16607095869821949390"
     },
     "user_tz": -180
    },
    "id": "hYKSDKRlAQie",
    "outputId": "221e9c2e-751a-4d6b-c766-c4d3a0a8be22"
   },
   "outputs": [
    {
     "data": {
      "text/plain": [
       "True"
      ]
     },
     "execution_count": 39,
     "metadata": {},
     "output_type": "execute_result"
    }
   ],
   "source": [
    "a or b"
   ]
  },
  {
   "cell_type": "code",
   "execution_count": 36,
   "metadata": {
    "colab": {
     "base_uri": "https://localhost:8080/"
    },
    "executionInfo": {
     "elapsed": 249,
     "status": "ok",
     "timestamp": 1662286633944,
     "user": {
      "displayName": "Nikita Chestnov",
      "userId": "16607095869821949390"
     },
     "user_tz": -180
    },
    "id": "ID4Z83_gAP8T",
    "outputId": "ead10833-0e90-4be6-a102-e4f84ab56bc0"
   },
   "outputs": [
    {
     "data": {
      "text/plain": [
       "True"
      ]
     },
     "execution_count": 36,
     "metadata": {},
     "output_type": "execute_result"
    }
   ],
   "source": [
    "not b"
   ]
  },
  {
   "cell_type": "markdown",
   "metadata": {
    "id": "7j6pHZG0quBZ",
    "pycharm": {
     "name": "#%% md\n"
    }
   },
   "source": [
    "# Операторы сравнения"
   ]
  },
  {
   "cell_type": "markdown",
   "metadata": {
    "id": "_-iRqumnEOEo"
   },
   "source": [
    "- `<`, `<=` - \"меньше\", \"меньше или равно\"\n",
    "- `>`, `>=` - \"больше\", \"больше или равно\"\n",
    "- `==`, `!=` - \"равно\", \"не равно\""
   ]
  },
  {
   "cell_type": "code",
   "execution_count": 42,
   "metadata": {
    "colab": {
     "base_uri": "https://localhost:8080/"
    },
    "executionInfo": {
     "elapsed": 3,
     "status": "ok",
     "timestamp": 1662287765648,
     "user": {
      "displayName": "Nikita Chestnov",
      "userId": "16607095869821949390"
     },
     "user_tz": -180
    },
    "id": "zDXk3vzXquBZ",
    "outputId": "3632c5d2-8bb3-4cf6-e58b-397f32d53178",
    "pycharm": {
     "name": "#%%\n"
    }
   },
   "outputs": [
    {
     "data": {
      "text/plain": [
       "True"
      ]
     },
     "execution_count": 42,
     "metadata": {},
     "output_type": "execute_result"
    }
   ],
   "source": [
    "4 < 5"
   ]
  },
  {
   "cell_type": "code",
   "execution_count": 43,
   "metadata": {
    "colab": {
     "base_uri": "https://localhost:8080/"
    },
    "executionInfo": {
     "elapsed": 345,
     "status": "ok",
     "timestamp": 1662287770154,
     "user": {
      "displayName": "Nikita Chestnov",
      "userId": "16607095869821949390"
     },
     "user_tz": -180
    },
    "id": "k7n5RQWXEmcH",
    "outputId": "6556da9e-58c0-4cb1-d263-519aad3e4570"
   },
   "outputs": [
    {
     "data": {
      "text/plain": [
       "True"
      ]
     },
     "execution_count": 43,
     "metadata": {},
     "output_type": "execute_result"
    }
   ],
   "source": [
    "3 >= 2"
   ]
  },
  {
   "cell_type": "code",
   "execution_count": 44,
   "metadata": {
    "colab": {
     "base_uri": "https://localhost:8080/"
    },
    "executionInfo": {
     "elapsed": 287,
     "status": "ok",
     "timestamp": 1662287774126,
     "user": {
      "displayName": "Nikita Chestnov",
      "userId": "16607095869821949390"
     },
     "user_tz": -180
    },
    "id": "ohEh-Dh_EnhT",
    "outputId": "9bb9ddc1-adc7-4b88-94d6-039553ceb0dc"
   },
   "outputs": [
    {
     "data": {
      "text/plain": [
       "False"
      ]
     },
     "execution_count": 44,
     "metadata": {},
     "output_type": "execute_result"
    }
   ],
   "source": [
    "1 != 1"
   ]
  },
  {
   "cell_type": "markdown",
   "metadata": {
    "id": "lVO41WlLquBZ",
    "pycharm": {
     "name": "#%% md\n"
    }
   },
   "source": [
    "Также можно сравнивать строки, списки и кортежи. Сравнение происходит лексикографически (как в словаре):"
   ]
  },
  {
   "cell_type": "code",
   "execution_count": 45,
   "metadata": {
    "colab": {
     "base_uri": "https://localhost:8080/"
    },
    "executionInfo": {
     "elapsed": 3,
     "status": "ok",
     "timestamp": 1662287798824,
     "user": {
      "displayName": "Nikita Chestnov",
      "userId": "16607095869821949390"
     },
     "user_tz": -180
    },
    "id": "nTMo-9HtquBZ",
    "outputId": "18756c84-ef72-4be9-b998-a513b8ef3c78",
    "pycharm": {
     "name": "#%%\n"
    }
   },
   "outputs": [
    {
     "data": {
      "text/plain": [
       "True"
      ]
     },
     "execution_count": 45,
     "metadata": {},
     "output_type": "execute_result"
    }
   ],
   "source": [
    "'a' < 'b'"
   ]
  },
  {
   "cell_type": "code",
   "execution_count": 46,
   "metadata": {
    "colab": {
     "base_uri": "https://localhost:8080/"
    },
    "executionInfo": {
     "elapsed": 246,
     "status": "ok",
     "timestamp": 1662287804723,
     "user": {
      "displayName": "Nikita Chestnov",
      "userId": "16607095869821949390"
     },
     "user_tz": -180
    },
    "id": "uwYCFHc7Eum9",
    "outputId": "94d411b6-9895-4f4c-eed8-49eb18fb5cb2"
   },
   "outputs": [
    {
     "data": {
      "text/plain": [
       "True"
      ]
     },
     "execution_count": 46,
     "metadata": {},
     "output_type": "execute_result"
    }
   ],
   "source": [
    "'aa' < 'ab'"
   ]
  },
  {
   "cell_type": "code",
   "execution_count": 47,
   "metadata": {
    "colab": {
     "base_uri": "https://localhost:8080/"
    },
    "executionInfo": {
     "elapsed": 261,
     "status": "ok",
     "timestamp": 1662287808505,
     "user": {
      "displayName": "Nikita Chestnov",
      "userId": "16607095869821949390"
     },
     "user_tz": -180
    },
    "id": "W6KRrul0EwCB",
    "outputId": "6b35774e-a83a-43f5-d009-01c51cac1bdf"
   },
   "outputs": [
    {
     "data": {
      "text/plain": [
       "True"
      ]
     },
     "execution_count": 47,
     "metadata": {},
     "output_type": "execute_result"
    }
   ],
   "source": [
    "'aaaa' < 'ab'"
   ]
  },
  {
   "cell_type": "code",
   "execution_count": 51,
   "metadata": {
    "colab": {
     "base_uri": "https://localhost:8080/"
    },
    "executionInfo": {
     "elapsed": 3,
     "status": "ok",
     "timestamp": 1662288046532,
     "user": {
      "displayName": "Nikita Chestnov",
      "userId": "16607095869821949390"
     },
     "user_tz": -180
    },
    "id": "_5FhPw8gFPQZ",
    "outputId": "40788833-0d88-4c93-c569-6165445b8e0c"
   },
   "outputs": [
    {
     "data": {
      "text/plain": [
       "False"
      ]
     },
     "execution_count": 51,
     "metadata": {},
     "output_type": "execute_result"
    }
   ],
   "source": [
    "[2] < [1, 3]"
   ]
  },
  {
   "cell_type": "code",
   "execution_count": 59,
   "metadata": {
    "colab": {
     "base_uri": "https://localhost:8080/"
    },
    "executionInfo": {
     "elapsed": 248,
     "status": "ok",
     "timestamp": 1662288141668,
     "user": {
      "displayName": "Nikita Chestnov",
      "userId": "16607095869821949390"
     },
     "user_tz": -180
    },
    "id": "sBBS5U2iFzdy",
    "outputId": "82da706b-66c6-4b8a-9c45-b16425464c28"
   },
   "outputs": [
    {
     "data": {
      "text/plain": [
       "True"
      ]
     },
     "execution_count": 59,
     "metadata": {},
     "output_type": "execute_result"
    }
   ],
   "source": [
    "(2,) > (1, 3)"
   ]
  },
  {
   "cell_type": "markdown",
   "metadata": {
    "id": "tpH4ugowquBa",
    "pycharm": {
     "name": "#%% md\n"
    }
   },
   "source": [
    "# Побитовые операторы"
   ]
  },
  {
   "cell_type": "markdown",
   "metadata": {
    "id": "8OXDxpFTGm7b"
   },
   "source": [
    "Python позволяет вполнять и побитовые операции:\n",
    "\n",
    "- `&` - побитовое И\n",
    "- `|` - побитовое ИЛИ\n",
    "- `^` - побитовое ИЛИ НЕ (исключающее ИЛИ)\n",
    "- `~` - побитовое НЕ (инвертирование)\n",
    "- `<<` - бинарный сдвиг влево\n",
    "- `>>` - бинарный сдвиг вправо"
   ]
  },
  {
   "cell_type": "code",
   "execution_count": 60,
   "metadata": {
    "colab": {
     "base_uri": "https://localhost:8080/"
    },
    "executionInfo": {
     "elapsed": 10,
     "status": "ok",
     "timestamp": 1662288334701,
     "user": {
      "displayName": "Nikita Chestnov",
      "userId": "16607095869821949390"
     },
     "user_tz": -180
    },
    "id": "VGNj8-2AGvp4",
    "outputId": "ec190f52-a53b-4997-de20-80dfa0ed1044"
   },
   "outputs": [
    {
     "name": "stdout",
     "output_type": "stream",
     "text": [
      "Help on built-in function format in module builtins:\n",
      "\n",
      "format(value, format_spec='', /)\n",
      "    Return value.__format__(format_spec)\n",
      "    \n",
      "    format_spec defaults to the empty string.\n",
      "    See the Format Specification Mini-Language section of help('FORMATTING') for\n",
      "    details.\n",
      "\n"
     ]
    }
   ],
   "source": [
    "help(format)"
   ]
  },
  {
   "cell_type": "code",
   "execution_count": 30,
   "metadata": {
    "colab": {
     "base_uri": "https://localhost:8080/"
    },
    "executionInfo": {
     "elapsed": 315,
     "status": "ok",
     "timestamp": 1662288414044,
     "user": {
      "displayName": "Nikita Chestnov",
      "userId": "16607095869821949390"
     },
     "user_tz": -180
    },
    "id": "Z66ZLsQ3quBa",
    "outputId": "9c6c0a1e-ec76-47e6-d2a0-622ecfee8bb5",
    "pycharm": {
     "name": "#%%\n"
    }
   },
   "outputs": [
    {
     "data": {
      "text/plain": [
       "(60, '00111100')"
      ]
     },
     "execution_count": 30,
     "metadata": {},
     "output_type": "execute_result"
    },
    {
     "data": {
      "text/plain": [
       "(13, '00001101')"
      ]
     },
     "execution_count": 30,
     "metadata": {},
     "output_type": "execute_result"
    }
   ],
   "source": [
    "a, b = 60, 13\n",
    "a, format(a, \"08b\")  # format(x, \"08b\") выдает битовое представление числа\n",
    "b, format(b, \"08b\")"
   ]
  },
  {
   "cell_type": "code",
   "execution_count": 31,
   "metadata": {
    "colab": {
     "base_uri": "https://localhost:8080/"
    },
    "executionInfo": {
     "elapsed": 309,
     "status": "ok",
     "timestamp": 1662288427345,
     "user": {
      "displayName": "Nikita Chestnov",
      "userId": "16607095869821949390"
     },
     "user_tz": -180
    },
    "id": "WZXABMAHquBa",
    "outputId": "75bfed05-342d-442e-defa-80e768e5093e",
    "pycharm": {
     "name": "#%%\n"
    }
   },
   "outputs": [
    {
     "data": {
      "text/plain": [
       "(12, '00001100')"
      ]
     },
     "execution_count": 31,
     "metadata": {},
     "output_type": "execute_result"
    }
   ],
   "source": [
    "a & b, format(a & b, \"08b\")    # bitwise AND"
   ]
  },
  {
   "cell_type": "code",
   "execution_count": 32,
   "metadata": {
    "colab": {
     "base_uri": "https://localhost:8080/"
    },
    "executionInfo": {
     "elapsed": 2,
     "status": "ok",
     "timestamp": 1662288443216,
     "user": {
      "displayName": "Nikita Chestnov",
      "userId": "16607095869821949390"
     },
     "user_tz": -180
    },
    "id": "GMQ9ikQjHIHd",
    "outputId": "7e85c566-67c9-4a1a-de42-595dc80da404"
   },
   "outputs": [
    {
     "data": {
      "text/plain": [
       "(61, '00111101')"
      ]
     },
     "execution_count": 32,
     "metadata": {},
     "output_type": "execute_result"
    }
   ],
   "source": [
    "a | b, format(a | b, \"08b\")    # bitwise OR"
   ]
  },
  {
   "cell_type": "code",
   "execution_count": 33,
   "metadata": {
    "colab": {
     "base_uri": "https://localhost:8080/"
    },
    "executionInfo": {
     "elapsed": 11,
     "status": "ok",
     "timestamp": 1662288455448,
     "user": {
      "displayName": "Nikita Chestnov",
      "userId": "16607095869821949390"
     },
     "user_tz": -180
    },
    "id": "Btw0pXECHL5v",
    "outputId": "56b4fb66-dca3-4eb0-d5c8-07852e7cdd39"
   },
   "outputs": [
    {
     "data": {
      "text/plain": [
       "(49, '00110001')"
      ]
     },
     "execution_count": 33,
     "metadata": {},
     "output_type": "execute_result"
    }
   ],
   "source": [
    "a ^ b, format(a ^ b, \"08b\")    # bitwise XOR"
   ]
  },
  {
   "cell_type": "markdown",
   "metadata": {
    "id": "lJaK5peIquBa",
    "pycharm": {
     "name": "#%% md\n"
    }
   },
   "source": [
    "# Работа с вводом-выводом\n",
    "\n",
    "Для считывания данных из `stdin` (стандартный ввод) используется функция `input()`:"
   ]
  },
  {
   "cell_type": "code",
   "execution_count": 59,
   "metadata": {
    "colab": {
     "base_uri": "https://localhost:8080/",
     "height": 52
    },
    "executionInfo": {
     "elapsed": 3406,
     "status": "ok",
     "timestamp": 1662288743561,
     "user": {
      "displayName": "Nikita Chestnov",
      "userId": "16607095869821949390"
     },
     "user_tz": -180
    },
    "id": "Bm-LfKbwquBa",
    "outputId": "430847c1-8358-4fc9-9b22-c7aad9fa4604",
    "pycharm": {
     "name": "#%%\n"
    }
   },
   "outputs": [
    {
     "name": "stdout",
     "output_type": "stream",
     "text": [
      "13245\n"
     ]
    },
    {
     "data": {
      "text/plain": [
       "str"
      ]
     },
     "execution_count": 59,
     "metadata": {},
     "output_type": "execute_result"
    }
   ],
   "source": [
    "t = input()\n",
    "type(t)"
   ]
  },
  {
   "cell_type": "code",
   "execution_count": 60,
   "metadata": {},
   "outputs": [
    {
     "name": "stdout",
     "output_type": "stream",
     "text": [
      "23436\n"
     ]
    },
    {
     "data": {
      "text/plain": [
       "int"
      ]
     },
     "execution_count": 60,
     "metadata": {},
     "output_type": "execute_result"
    }
   ],
   "source": [
    "t = int(input())\n",
    "type(t)"
   ]
  },
  {
   "cell_type": "markdown",
   "metadata": {},
   "source": [
    "Можно также написать сообщение, которое будет выводиться пользователю перед вводом"
   ]
  },
  {
   "cell_type": "code",
   "execution_count": 61,
   "metadata": {
    "id": "yiu_rAxOquBa",
    "outputId": "126ae8ed-627e-4844-9dfc-38041ac853fa",
    "pycharm": {
     "name": "#%%\n"
    }
   },
   "outputs": [
    {
     "name": "stdout",
     "output_type": "stream",
     "text": [
      "Input here: wrewryh\n"
     ]
    },
    {
     "data": {
      "text/plain": [
       "'wrewryh'"
      ]
     },
     "execution_count": 61,
     "metadata": {},
     "output_type": "execute_result"
    }
   ],
   "source": [
    "s = input(\"Input here: \")\n",
    "s"
   ]
  },
  {
   "cell_type": "markdown",
   "metadata": {
    "id": "UEMuMeBBquBa",
    "pycharm": {
     "name": "#%% md\n"
    }
   },
   "source": [
    "Для вывода данных в `stdout` (стандартный вывод) используется `print()`:"
   ]
  },
  {
   "cell_type": "code",
   "execution_count": 2,
   "metadata": {
    "id": "D4IKMP58quBb",
    "outputId": "0530e629-30f7-43ce-adec-d532ea30f1f4",
    "pycharm": {
     "name": "#%%\n"
    }
   },
   "outputs": [
    {
     "name": "stdout",
     "output_type": "stream",
     "text": [
      "spam_and_eggs!"
     ]
    }
   ],
   "source": [
    "print('spam', 'and', 'eggs', end='!', sep='_')"
   ]
  },
  {
   "cell_type": "code",
   "execution_count": 64,
   "metadata": {
    "id": "7gTX2BDNquBb",
    "outputId": "f479f0e4-3eae-4504-8b27-6f7e4ac64eaf",
    "pycharm": {
     "name": "#%%\n"
    }
   },
   "outputs": [
    {
     "name": "stdout",
     "output_type": "stream",
     "text": [
      "end"
     ]
    }
   ],
   "source": [
    "print('e', end='')\n",
    "print('n', end='')\n",
    "print('d', end='')"
   ]
  },
  {
   "cell_type": "markdown",
   "metadata": {
    "id": "MYXhqKPCquBb",
    "pycharm": {
     "name": "#%% md\n"
    }
   },
   "source": [
    "# Как запустить программу на Python"
   ]
  },
  {
   "cell_type": "markdown",
   "metadata": {
    "id": "LWW0k8fuMhg5"
   },
   "source": [
    "Сначала нужно установить Python. Проще всего поставить его из магазинов приложений / менеджеров пакетов вашей ОС (Windows Store, App Store, apt, pacman etc)."
   ]
  },
  {
   "cell_type": "markdown",
   "metadata": {
    "id": "jtcQTwMHJy2w"
   },
   "source": [
    "Запустить программу на Python можно несколькими способами:"
   ]
  },
  {
   "cell_type": "markdown",
   "metadata": {
    "id": "DEGaRW9gJXFS"
   },
   "source": [
    "## Интерпретатор из командной строки\n",
    "\n",
    "Самый простой способ. Удобен для небольшой работы, например, когда нужно что-то быстро посчитать (Python как продвинутый научный калькулятор):\n",
    "\n",
    "```bash\n",
    "user@computer:~$ python3\n",
    "Python 3.8.10 (default, Nov 26 2021, 20:14:08)\n",
    "[GCC 9.3.0] on linux\n",
    "Type \"help\", \"copyright\", \"credits\" or \"license\" for more information.\n",
    ">>>   \n",
    "```"
   ]
  },
  {
   "cell_type": "markdown",
   "metadata": {
    "id": "6cWHmr25JcSk"
   },
   "source": [
    "## Запуск интерпретации файла\n",
    "\n",
    "Второй вариант создания программ на Python - писат код в текстовом редакторе в файл, а затем запускать процесс его интерпретации командой: \n",
    "\n",
    "```bash\n",
    "python hello_world.py\n",
    "```"
   ]
  },
  {
   "cell_type": "markdown",
   "metadata": {
    "id": "eB5LjY0YLwJ2"
   },
   "source": [
    "## Продвинутые интерпретаторы командной строки\n",
    "\n",
    "Командная строка - не самая удобная среда для разработки. Проект [ipython](https://ipython.org/) улучшает работу в консоли с помощью разных [доработок](https://ipython.readthedocs.io/en/stable/interactive/python-ipython-diff.html), например, возможности дополнения кода (tab-completion).\n",
    "\n",
    "<div><img src=\"https://s3-us-west-1.amazonaws.com/plotly-tutorials/plotly-documentation/images/ipython-console.png\" height=300px/></div>\n",
    "\n",
    "*Source: [Plotly](https://plotly.com/python/ipython-vs-python/)*\n",
    "\n",
    "Дальнейшим развитием ipython стал [Jupyter Notebook](https://jupyter.org/), который по сути вы сейчас и используете. Он позволяет выполнять редактирование кода в окне браузера (в том числе на удаленном сервере) и вставлять не только ячейки с кодом на Python, но и с markdown (облегченный язык разметки текста, см. [туториал](https://www.markdownguide.org/cheat-sheet/))."
   ]
  },
  {
   "cell_type": "markdown",
   "metadata": {
    "id": "-KTItLFpJhNl"
   },
   "source": [
    "## Базовая среда разработка\n",
    "\n",
    "Одна из самых простых IDE (Integrated Development Environment, интегрированная среда разработки) - [IDLE](https://docs.python.org/3/library/idle.html). Название с одной стороны является искажением IDE (с добавлением Learning), а с другой - отсылка на комика из группы \"Монти Пайтон\" Эрика Айдла.\n",
    "\n",
    "<div><img src=\"https://upload.wikimedia.org/wikipedia/commons/4/45/IDLE_%D0%B4%D0%BB%D1%8F_windows.jpg\"></div>\n",
    "\n",
    "*Source: [Wiki](https://ru.wikipedia.org/wiki/IDLE#/media/%D0%A4%D0%B0%D0%B9%D0%BB:IDLE_%D0%B4%D0%BB%D1%8F_windows.jpg)*\n",
    "\n",
    "**Занимательный факт** - IDLE написан на Python с использованием библиотеки tkinter.\n",
    "\n"
   ]
  },
  {
   "cell_type": "markdown",
   "metadata": {
    "id": "3iB7Dw3PJiRn"
   },
   "source": [
    "## Продвинутые IDE\n",
    "\n",
    "Создавать большие продвинутые проекты на Python в командной строке, обычном текстовом редакторе и даже в IDLE не очень удобно - хотелось бы иметь многие инструменты, такие как поддердка VCS, продвинутое автодополнение, дебаггинг, возможности рефакторинга и т.д. Здесь на помощь приходит [PyCharm](https://www.jetbrains.com/ru-ru/pycharm/).\n",
    "\n",
    "<div><img src=\"https://www.jetbrains.com/lp/pycharm-pro/static/1-go-to-declaration-8637ad4640eeb0b1f807592885d7ffbf.png\"></div>\n",
    "\n",
    "*Source: [JetBrains](https://www.jetbrains.com/lp/pycharm-pro/static/1-go-to-declaration-8637ad4640eeb0b1f807592885d7ffbf.png)*\n",
    "\n",
    "У JetBrains имеется бесплатная версия PyCharm Community Edition, которой более чем хватит для обучения.\n",
    "\n"
   ]
  }
 ],
 "metadata": {
  "celltoolbar": "Слайд-шоу",
  "colab": {
   "collapsed_sections": [],
   "provenance": [],
   "toc_visible": true
  },
  "kernelspec": {
   "display_name": "Python 3 (ipykernel)",
   "language": "python",
   "name": "python3"
  },
  "language_info": {
   "codemirror_mode": {
    "name": "ipython",
    "version": 3
   },
   "file_extension": ".py",
   "mimetype": "text/x-python",
   "name": "python",
   "nbconvert_exporter": "python",
   "pygments_lexer": "ipython3",
   "version": "3.9.7"
  }
 },
 "nbformat": 4,
 "nbformat_minor": 1
}
