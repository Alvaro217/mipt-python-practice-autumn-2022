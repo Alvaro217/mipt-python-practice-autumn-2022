{
 "cells": [
  {
   "cell_type": "markdown",
   "id": "d9d31d99",
   "metadata": {},
   "source": [
    "## Практикум Python\n",
    "\n",
    "### Тема 5. Замыкания, декораторы"
   ]
  },
  {
   "cell_type": "code",
   "execution_count": 1,
   "id": "6495d719",
   "metadata": {},
   "outputs": [],
   "source": [
    "from IPython.core.interactiveshell import InteractiveShell\n",
    "InteractiveShell.ast_node_interactivity = \"all\""
   ]
  },
  {
   "cell_type": "markdown",
   "id": "e84db116",
   "metadata": {},
   "source": [
    "**Содержание:**\n",
    "1. Замыкания\n",
    "2. Декораторы\n",
    "3. Обработка исключений"
   ]
  },
  {
   "cell_type": "markdown",
   "id": "99a2a523",
   "metadata": {},
   "source": [
    "#### Повторение"
   ]
  },
  {
   "cell_type": "code",
   "execution_count": null,
   "id": "4c1453d9",
   "metadata": {},
   "outputs": [],
   "source": [
    "# Что выведется в резульате работы данного фрагмента программы?\n",
    "\n",
    "x = 15\n",
    "\n",
    "def foo():\n",
    "    x = 30\n",
    "\n",
    "foo()\n",
    "print(x)"
   ]
  },
  {
   "cell_type": "markdown",
   "id": "f29c1ab1",
   "metadata": {},
   "source": [
    "Как изменить поведение кода?"
   ]
  },
  {
   "cell_type": "code",
   "execution_count": null,
   "id": "a0342bca",
   "metadata": {},
   "outputs": [],
   "source": [
    "x = 15\n",
    "\n",
    "def foo():\n",
    "    x = 30\n",
    "\n",
    "foo()\n",
    "print(x)"
   ]
  },
  {
   "cell_type": "code",
   "execution_count": null,
   "id": "6780ca4a",
   "metadata": {},
   "outputs": [],
   "source": [
    "# Какой будет результат выполнения программы?\n",
    "x = 15\n",
    "\n",
    "def foo():\n",
    "    print(x)\n",
    "    \n",
    "    x = 30\n",
    "    print(x)\n",
    "    \n",
    "foo()"
   ]
  },
  {
   "cell_type": "markdown",
   "id": "4a29c5e6",
   "metadata": {},
   "source": [
    "### Замыкания"
   ]
  },
  {
   "cell_type": "markdown",
   "id": "40430954",
   "metadata": {},
   "source": [
    "**Замыкание** (closure) — это функция, в теле которой присутствуют ссылки на переменные, объявленные вне тела этой функции в окружающем коде и не являющиеся ее параметрами.\n",
    "\n",
    "Существования замыканий следует из правила LEGB, возможности оперировать с функциями как обьектами и того что области видимости в Питоне - статические."
   ]
  },
  {
   "cell_type": "code",
   "execution_count": 2,
   "id": "29416b1b",
   "metadata": {},
   "outputs": [
    {
     "name": "stdout",
     "output_type": "stream",
     "text": [
      "[20, 20, 20, 20, 20]\n"
     ]
    }
   ],
   "source": [
    "multipliers = []\n",
    "\n",
    "for m in range(5):\n",
    "    multipliers.append(lambda x: x * m)\n",
    "\n",
    "print([multipliers[i](5) for i in range(5)])"
   ]
  },
  {
   "cell_type": "markdown",
   "id": "3922c6b0",
   "metadata": {},
   "source": [
    "В качестве элемента в список `multipliers` добавляются функции"
   ]
  },
  {
   "cell_type": "code",
   "execution_count": 3,
   "id": "1cccc615",
   "metadata": {},
   "outputs": [
    {
     "data": {
      "text/plain": [
       "[<function __main__.<lambda>(x)>,\n",
       " <function __main__.<lambda>(x)>,\n",
       " <function __main__.<lambda>(x)>,\n",
       " <function __main__.<lambda>(x)>,\n",
       " <function __main__.<lambda>(x)>]"
      ]
     },
     "execution_count": 3,
     "metadata": {},
     "output_type": "execute_result"
    }
   ],
   "source": [
    "multipliers"
   ]
  },
  {
   "cell_type": "markdown",
   "id": "a882f059",
   "metadata": {},
   "source": [
    "**Вопрос:** Почему все элементы получились одинаковыми?"
   ]
  },
  {
   "cell_type": "markdown",
   "id": "128df09f",
   "metadata": {},
   "source": [
    "Перепишем в виде функции, чтобы стало понятнее:"
   ]
  },
  {
   "cell_type": "code",
   "execution_count": 4,
   "id": "7a45fdd2",
   "metadata": {},
   "outputs": [
    {
     "name": "stdout",
     "output_type": "stream",
     "text": [
      "4\n",
      "[20, 20, 20, 20, 20]\n"
     ]
    }
   ],
   "source": [
    "multipliers = []\n",
    "\n",
    "def foo(x):\n",
    "    return x * m\n",
    "\n",
    "for m in range(5):\n",
    "    multipliers.append(foo)\n",
    "\n",
    "print(m)\n",
    "print([multipliers[i](5) for i in range(5)])"
   ]
  },
  {
   "cell_type": "markdown",
   "id": "033f4226",
   "metadata": {},
   "source": [
    "Чтобы мы могли создавать функции с сохранением внешних переменных, используют замыкания:"
   ]
  },
  {
   "cell_type": "code",
   "execution_count": 5,
   "id": "506ed155",
   "metadata": {},
   "outputs": [
    {
     "name": "stdout",
     "output_type": "stream",
     "text": [
      "5\n",
      "5\n"
     ]
    }
   ],
   "source": [
    "def foo():\n",
    "    x = 3\n",
    "    def bar():\n",
    "        print(x)\n",
    "    x = 5\n",
    "    return bar\n",
    "\n",
    "bar = foo()\n",
    "bar()\n",
    "\n",
    "x = 9\n",
    "bar()"
   ]
  },
  {
   "cell_type": "markdown",
   "id": "15b5c499",
   "metadata": {},
   "source": [
    "Еще один пример (более осмысленный):"
   ]
  },
  {
   "cell_type": "code",
   "execution_count": 6,
   "id": "d72f3a54",
   "metadata": {},
   "outputs": [
    {
     "name": "stdout",
     "output_type": "stream",
     "text": [
      "7\n",
      "9\n"
     ]
    }
   ],
   "source": [
    "def make_adder(x):\n",
    "    def adder(y):\n",
    "        return x + y\n",
    "    return adder\n",
    "\n",
    "add_two = make_adder(2)\n",
    "\n",
    "print(add_two(5))\n",
    "print(add_two(7))"
   ]
  },
  {
   "cell_type": "markdown",
   "id": "ba49a949",
   "metadata": {},
   "source": [
    "Вызов функции `add_two` с аргументом 5 можно переписать иначе"
   ]
  },
  {
   "cell_type": "code",
   "execution_count": 10,
   "id": "28a27a78",
   "metadata": {},
   "outputs": [
    {
     "data": {
      "text/plain": [
       "7"
      ]
     },
     "execution_count": 10,
     "metadata": {},
     "output_type": "execute_result"
    }
   ],
   "source": [
    "make_adder(2)(5)"
   ]
  },
  {
   "cell_type": "markdown",
   "id": "5d9d18cf",
   "metadata": {},
   "source": [
    "В первых скобках аргумент для внешней функции `male_adder`, в вторых скобках аргумент для `adder`"
   ]
  },
  {
   "cell_type": "code",
   "execution_count": 11,
   "id": "98a0c2b4",
   "metadata": {},
   "outputs": [
    {
     "name": "stdout",
     "output_type": "stream",
     "text": [
      "x = 2\n",
      "y = 5\n"
     ]
    },
    {
     "data": {
      "text/plain": [
       "7"
      ]
     },
     "execution_count": 11,
     "metadata": {},
     "output_type": "execute_result"
    }
   ],
   "source": [
    "def make_adder(x):\n",
    "    print('x =', x)\n",
    "    def adder(y):\n",
    "        print('y =', y)\n",
    "        return x + y\n",
    "    return adder\n",
    "\n",
    "make_adder(2)(5)"
   ]
  },
  {
   "cell_type": "markdown",
   "id": "d342e450",
   "metadata": {},
   "source": [
    "**Задание** Перепишите первый пример так, чтобы внешняя переменная сохранилась"
   ]
  },
  {
   "cell_type": "code",
   "execution_count": null,
   "id": "5da86386",
   "metadata": {},
   "outputs": [],
   "source": [
    "'''multipliers = []\n",
    "\n",
    "def foo(x):\n",
    "    return x * m\n",
    "\n",
    "for m in range(5):\n",
    "    multipliers.append(foo)\n",
    "\n",
    "print(m)\n",
    "print([multipliers[i](5) for i in range(5)])'''\n",
    "\n",
    "# your code here\n"
   ]
  },
  {
   "cell_type": "markdown",
   "id": "c281abbb",
   "metadata": {},
   "source": [
    "Функции могут замыкать одинаковые переменные"
   ]
  },
  {
   "cell_type": "code",
   "execution_count": 7,
   "id": "1179f9ed",
   "metadata": {},
   "outputs": [
    {
     "name": "stdout",
     "output_type": "stream",
     "text": [
      "10\n"
     ]
    },
    {
     "data": {
      "text/plain": [
       "20"
      ]
     },
     "execution_count": 7,
     "metadata": {},
     "output_type": "execute_result"
    },
    {
     "name": "stdout",
     "output_type": "stream",
     "text": [
      "20\n"
     ]
    }
   ],
   "source": [
    "def cell(value = 0):\n",
    "    def Get():\n",
    "        return value\n",
    "    \n",
    "    def Set(new_value):\n",
    "        nonlocal value\n",
    "        value = new_value\n",
    "        return value\n",
    "    \n",
    "    return Get, Set\n",
    "\n",
    "Get, Set = cell(10)\n",
    "print(Get())\n",
    "\n",
    "Set(20)\n",
    "print(Get())"
   ]
  },
  {
   "cell_type": "markdown",
   "id": "7e9fad48",
   "metadata": {},
   "source": [
    "Посмотрим, что внутри замыкания. `Get.__closure__` хранит все замкнутые переменные. Можем залезть в отдельную переменную с помощью `Get.__closure__[0].cell_contents`:"
   ]
  },
  {
   "cell_type": "code",
   "execution_count": 8,
   "id": "b7a73e9c",
   "metadata": {},
   "outputs": [
    {
     "name": "stdout",
     "output_type": "stream",
     "text": [
      "(<cell at 0x0000027FA08C2460: int object at 0x0000027F9BB96B90>,)\n",
      "20\n"
     ]
    }
   ],
   "source": [
    "print(Get.__closure__)\n",
    "print(Get.__closure__[0].cell_contents)"
   ]
  },
  {
   "cell_type": "markdown",
   "id": "499eb090",
   "metadata": {},
   "source": [
    "Переменная представлена в виде класса `cell` с единственным полем `cell_contents`. Убедимся, что замкнутые переменные для `Get` и `Set` одинаковые:"
   ]
  },
  {
   "cell_type": "code",
   "execution_count": 9,
   "id": "9c8bae39",
   "metadata": {},
   "outputs": [
    {
     "name": "stdout",
     "output_type": "stream",
     "text": [
      "True\n",
      "True\n"
     ]
    }
   ],
   "source": [
    "print(Get.__closure__ == Set.__closure__)\n",
    "print(Get.__closure__[0] is Set.__closure__[0])"
   ]
  },
  {
   "cell_type": "markdown",
   "id": "62c9f58c",
   "metadata": {},
   "source": [
    "### Декораторы"
   ]
  },
  {
   "cell_type": "markdown",
   "id": "6fdcf0e3",
   "metadata": {},
   "source": [
    "Замыкания могут использоваться как способ быстро изменить поведение функции:"
   ]
  },
  {
   "cell_type": "code",
   "execution_count": 12,
   "id": "8d66ba63",
   "metadata": {},
   "outputs": [
    {
     "name": "stdout",
     "output_type": "stream",
     "text": [
      "[1, 2, 3]\n"
     ]
    },
    {
     "name": "stderr",
     "output_type": "stream",
     "text": [
      "print is deprecated\n"
     ]
    }
   ],
   "source": [
    "import sys\n",
    "\n",
    "def deprecate(func):\n",
    "    def inner(*args, **kwargs):\n",
    "        print('{} is deprecated'.format(func.__name__), file=sys.stderr)\n",
    "        return func(*args, **kwargs)\n",
    "    return inner\n",
    "\n",
    "pprint = deprecate(print)\n",
    "\n",
    "pprint([1, 2, 3])"
   ]
  },
  {
   "cell_type": "markdown",
   "id": "ba367438",
   "metadata": {},
   "source": [
    "Такой синтаксис немного неудобный, поэтому в Python есть более удобный способ реализовать декоратор:"
   ]
  },
  {
   "cell_type": "code",
   "execution_count": 13,
   "id": "94aee8b5",
   "metadata": {},
   "outputs": [
    {
     "name": "stdout",
     "output_type": "stream",
     "text": [
      "[1, 2, 3]\n"
     ]
    },
    {
     "name": "stderr",
     "output_type": "stream",
     "text": [
      "show is deprecated\n"
     ]
    }
   ],
   "source": [
    "import sys\n",
    "\n",
    "def deprecated(func):\n",
    "    def wrapper(*args, **kwargs):\n",
    "        print('{} is deprecated'.format(func.__name__), file=sys.stderr)\n",
    "        return func(*args, **kwargs)\n",
    "    return wrapper\n",
    "\n",
    "\n",
    "@deprecated\n",
    "def show(x):\n",
    "    print(x)\n",
    "\n",
    "show([1, 2, 3])"
   ]
  },
  {
   "cell_type": "markdown",
   "id": "4399ea68",
   "metadata": {},
   "source": [
    "Однако такое использование влечет за собой проблему:"
   ]
  },
  {
   "cell_type": "code",
   "execution_count": 14,
   "id": "ad5f6167",
   "metadata": {},
   "outputs": [
    {
     "name": "stdout",
     "output_type": "stream",
     "text": [
      "wrapper\n",
      "None\n"
     ]
    }
   ],
   "source": [
    "@deprecated\n",
    "def show(x):\n",
    "    'This is a really nice looking docstring'\n",
    "    print(x)\n",
    "\n",
    "print(show.__name__)\n",
    "print(show.__doc__)"
   ]
  },
  {
   "cell_type": "markdown",
   "id": "04454089",
   "metadata": {},
   "source": [
    "**Вопрос:** В чём заключается проблема?"
   ]
  },
  {
   "cell_type": "markdown",
   "id": "2a8ad87d",
   "metadata": {},
   "source": [
    "**Решение 1.** Просто перенести нужные атрибуты"
   ]
  },
  {
   "cell_type": "code",
   "execution_count": 15,
   "id": "9746e430",
   "metadata": {},
   "outputs": [
    {
     "name": "stdout",
     "output_type": "stream",
     "text": [
      "show\n",
      "This is a really nice looking docstring\n"
     ]
    }
   ],
   "source": [
    "def deprecated(func):\n",
    "    def wrapper(*args, **kwargs):\n",
    "        print('{} is deprecated!'.format(func.__name__), file=sys.stderr)\n",
    "        return func(*args, **kwargs)\n",
    "    wrapper.__name__ = func.__name__\n",
    "    wrapper.__doc__ = func.__doc__\n",
    "    wrapper.__module__ = func.__module__\n",
    "    return wrapper\n",
    "\n",
    "@deprecated\n",
    "def show(x):\n",
    "    'This is a really nice looking docstring'\n",
    "    print(x)\n",
    "\n",
    "print(show.__name__)\n",
    "print(show.__doc__)"
   ]
  },
  {
   "cell_type": "markdown",
   "id": "947cd5e3",
   "metadata": {},
   "source": [
    "**Решение 2.** Использовать functools"
   ]
  },
  {
   "cell_type": "code",
   "execution_count": 16,
   "id": "96b6ee6d",
   "metadata": {},
   "outputs": [
    {
     "name": "stdout",
     "output_type": "stream",
     "text": [
      "show\n",
      "This is a really nice looking docstring\n"
     ]
    }
   ],
   "source": [
    "import functools\n",
    "\n",
    "def deprecated(func):\n",
    "    @functools.wraps(func) \n",
    "    def wrapper(*args, **kwargs):\n",
    "        print('{} is deprecated!'.format(func.__name__), file=sys.stderr)\n",
    "        return func(*args, **kwargs)\n",
    "    return wrapper\n",
    "\n",
    "@deprecated\n",
    "def show(x):\n",
    "    'This is a really nice looking docstring'\n",
    "    print(x)\n",
    "\n",
    "print(show.__name__)\n",
    "print(show.__doc__)"
   ]
  },
  {
   "cell_type": "markdown",
   "id": "b06c2f7d",
   "metadata": {},
   "source": [
    "#### Декораторы с аргументами\n",
    "\n",
    "В Python так же можно создавать декораторы с дополнительными аргументами:"
   ]
  },
  {
   "cell_type": "code",
   "execution_count": 17,
   "id": "1a45b505",
   "metadata": {},
   "outputs": [
    {
     "name": "stdout",
     "output_type": "stream",
     "text": [
      "f called with args ('Hi!',), kwargs {'test': 42}!\n",
      "f called with args ('Hi!', 21.0), kwargs {}!\n",
      "f called with args ('Hi!', 10.5), kwargs {}!\n",
      "f called with args ('Hi!', 5.25), kwargs {}!\n",
      "f called with args ('Hi!', 2.625), kwargs {}!\n",
      "f called with args ('Hi!', 1.3125), kwargs {}!\n",
      "f called with args ('Hi!', 0.65625), kwargs {}!\n"
     ]
    }
   ],
   "source": [
    "def trace(dest=sys.stderr):\n",
    "    def wraps(func):\n",
    "        @functools.wraps(func)\n",
    "        def wrapper(*args, **kwargs):\n",
    "            print('{} called with args {}, kwargs {}!'.format(func.__name__, args, kwargs), file = dest)\n",
    "            return func(*args, **kwargs)\n",
    "        return wrapper\n",
    "    return wraps\n",
    "\n",
    "@trace(sys.stdout) \n",
    "def f(x, test):\n",
    "    if test > 1:\n",
    "        return f(x, test / 2)\n",
    "\n",
    "f('Hi!', test=42)"
   ]
  },
  {
   "cell_type": "markdown",
   "id": "9dbe8aa8",
   "metadata": {},
   "source": [
    "**Задача** Написать декоратор `once(func)`, который вызывает функцию только один раз."
   ]
  },
  {
   "cell_type": "code",
   "execution_count": null,
   "id": "3fc3ad13",
   "metadata": {},
   "outputs": [],
   "source": [
    "def once(func):\n",
    "    # your code here\n",
    "    pass\n",
    "\n",
    "\n",
    "\n",
    "@once\n",
    "def foo():\n",
    "    print('Hi!')\n",
    "\n",
    "foo()\n",
    "foo()"
   ]
  },
  {
   "cell_type": "markdown",
   "id": "d1649a3a",
   "metadata": {},
   "source": [
    "Декораторам необязательно быть функциями:"
   ]
  },
  {
   "cell_type": "code",
   "execution_count": 18,
   "id": "54b030c6",
   "metadata": {},
   "outputs": [],
   "source": [
    "from collections import Counter \n",
    "\n",
    "class Register(object):\n",
    "    def __init__(self):\n",
    "        self.stat = Counter()\n",
    "        \n",
    "    def __call__(self, func):\n",
    "        nm = func.__name__\n",
    "        def wrapper(*args, **kwrags):\n",
    "            self.stat[nm] += 1\n",
    "            return func(*args, **kwrags)\n",
    "        return wrapper\n",
    "    \n",
    "    def __str__(self):\n",
    "        result = 'fname\\tcallcount\\n'\n",
    "        for name, count in self.stat.items():\n",
    "            result += '{}:\\t{}\\n'.format(name, count)\n",
    "        return result\n",
    "    \n",
    "register = Register()"
   ]
  },
  {
   "cell_type": "code",
   "execution_count": 19,
   "id": "cda7f76c",
   "metadata": {},
   "outputs": [
    {
     "data": {
      "text/plain": [
       "(1,\n",
       " <function __main__.Register.__call__.<locals>.wrapper(*args, **kwrags)>,\n",
       " <function __main__.Register.__call__.<locals>.wrapper(*args, **kwrags)>)"
      ]
     },
     "execution_count": 19,
     "metadata": {},
     "output_type": "execute_result"
    },
    {
     "data": {
      "text/plain": [
       "(<function __main__.Register.__call__.<locals>.wrapper(*args, **kwrags)>, 5)"
      ]
     },
     "execution_count": 19,
     "metadata": {},
     "output_type": "execute_result"
    },
    {
     "name": "stdout",
     "output_type": "stream",
     "text": [
      "fname\tcallcount\n",
      "f:\t2\n",
      "q:\t3\n",
      "\n"
     ]
    }
   ],
   "source": [
    "@register\n",
    "def f(x):\n",
    "    return x \n",
    "\n",
    "@register\n",
    "def q(x):\n",
    "    return q\n",
    "\n",
    "f(1), q(2), q(4)\n",
    "q(2), f(5)\n",
    "print(register)"
   ]
  },
  {
   "cell_type": "markdown",
   "id": "fa64a05f",
   "metadata": {},
   "source": [
    "### Обработка исключений\n",
    "\n",
    "**Исключения** (exceptions) - ещё один тип данных в python. Исключения необходимы для того, чтобы сообщать программисту об ошибках."
   ]
  },
  {
   "cell_type": "code",
   "execution_count": 20,
   "id": "f3798e5c",
   "metadata": {},
   "outputs": [
    {
     "ename": "ZeroDivisionError",
     "evalue": "division by zero",
     "output_type": "error",
     "traceback": [
      "\u001b[1;31m---------------------------------------------------------------------------\u001b[0m",
      "\u001b[1;31mZeroDivisionError\u001b[0m                         Traceback (most recent call last)",
      "\u001b[1;32m~\\AppData\\Local\\Temp/ipykernel_38452/1455669704.py\u001b[0m in \u001b[0;36m<module>\u001b[1;34m\u001b[0m\n\u001b[1;32m----> 1\u001b[1;33m \u001b[1;36m1\u001b[0m \u001b[1;33m/\u001b[0m \u001b[1;36m0\u001b[0m\u001b[1;33m\u001b[0m\u001b[1;33m\u001b[0m\u001b[0m\n\u001b[0m",
      "\u001b[1;31mZeroDivisionError\u001b[0m: division by zero"
     ]
    }
   ],
   "source": [
    "1 / 0"
   ]
  },
  {
   "cell_type": "markdown",
   "id": "9630feba",
   "metadata": {},
   "source": [
    "`ZeroDivisionError` - название исключения\n",
    "\n",
    "`division by zero` - краткое описание исключения"
   ]
  },
  {
   "cell_type": "markdown",
   "id": "e4236d1a",
   "metadata": {},
   "source": [
    "Избавиться от такой ошибки можно, написав `if`"
   ]
  },
  {
   "cell_type": "code",
   "execution_count": 26,
   "id": "bc549e1c",
   "metadata": {},
   "outputs": [
    {
     "name": "stdout",
     "output_type": "stream",
     "text": [
      "0\n"
     ]
    }
   ],
   "source": [
    "d = 0\n",
    "k = 1\n",
    "if d:\n",
    "    print(k / d)\n",
    "else:\n",
    "    k = 0\n",
    "    print(k)"
   ]
  },
  {
   "cell_type": "markdown",
   "id": "1c61cdaf",
   "metadata": {},
   "source": [
    "Но также можно написать обработку исключения:"
   ]
  },
  {
   "cell_type": "code",
   "execution_count": 25,
   "id": "99518b02",
   "metadata": {},
   "outputs": [],
   "source": [
    "try:\n",
    "    k = 1 / 0\n",
    "except ZeroDivisionError:\n",
    "    k = 0"
   ]
  },
  {
   "cell_type": "code",
   "execution_count": 27,
   "id": "3c3fbd9d",
   "metadata": {},
   "outputs": [
    {
     "name": "stdout",
     "output_type": "stream",
     "text": [
      "ыыавваф\n",
      "Это не число. Выходим.\n",
      "Программа завершена.\n"
     ]
    }
   ],
   "source": [
    "try:\n",
    "    var = input()\n",
    "    int_var = int(var)\n",
    "except ValueError:      # ловит исключение типа ValueError \n",
    "    print('Это не число. Выходим.')\n",
    "except Exception:       # ловит исключение любого типа \n",
    "    print('Это что ещё такое?')\n",
    "else:                   # вызывается в случае, если исключение не было брошено\n",
    "    print('Всё хорошо.')\n",
    "finally:                # вызывается в любом случае\n",
    "    print('Программа завершена.')"
   ]
  },
  {
   "cell_type": "code",
   "execution_count": 30,
   "id": "7751b6bf",
   "metadata": {},
   "outputs": [
    {
     "name": "stdout",
     "output_type": "stream",
     "text": [
      "ZeroDivisionError\n",
      "division by zero\n"
     ]
    }
   ],
   "source": [
    "try:\n",
    "    1 / 0\n",
    "except Exception as e:\n",
    "    print(type(e).__name__)\n",
    "    print(e)"
   ]
  },
  {
   "cell_type": "code",
   "execution_count": 32,
   "id": "f00ff904",
   "metadata": {},
   "outputs": [
    {
     "name": "stdout",
     "output_type": "stream",
     "text": [
      "Exception exception Some exception\n"
     ]
    }
   ],
   "source": [
    "try:\n",
    "    raise Exception(\"Some exception\")\n",
    "except Exception as e:\n",
    "    print(\"Exception exception \" + str(e))"
   ]
  },
  {
   "cell_type": "markdown",
   "id": "404b0a49",
   "metadata": {},
   "source": [
    "**Задача** Написать функцию вычисления среднего арифметического элементов переданного ей списка. Реализовать обработку возможных исключений при ее работе."
   ]
  },
  {
   "cell_type": "code",
   "execution_count": null,
   "id": "0a25e909",
   "metadata": {},
   "outputs": [],
   "source": []
  }
 ],
 "metadata": {
  "kernelspec": {
   "display_name": "Python 3 (ipykernel)",
   "language": "python",
   "name": "python3"
  },
  "language_info": {
   "codemirror_mode": {
    "name": "ipython",
    "version": 3
   },
   "file_extension": ".py",
   "mimetype": "text/x-python",
   "name": "python",
   "nbconvert_exporter": "python",
   "pygments_lexer": "ipython3",
   "version": "3.9.7"
  }
 },
 "nbformat": 4,
 "nbformat_minor": 5
}
