{
 "cells": [
  {
   "cell_type": "markdown",
   "id": "37d7e684",
   "metadata": {},
   "source": [
    "# Практикум Python\n",
    "\n",
    "\n",
    "<img src=\"https://www.python.org/static/community_logos/python-logo-master-v3-TM.png\" align=\"right\" style=\"height: 200px;\"/>"
   ]
  },
  {
   "cell_type": "markdown",
   "id": "35a3c796",
   "metadata": {},
   "source": [
    "# Занятие 15. Символьные вычисления. SymPy"
   ]
  },
  {
   "cell_type": "markdown",
   "id": "9fc28fb2",
   "metadata": {},
   "source": [
    "Полезные материалы:\n",
    "- [Документация по SymPy](https://docs.sympy.org/latest/index.html)\n",
    "- [Установка SymPy](https://docs.sympy.org/latest/install.html)\n",
    "- [github](https://github.com/sympy) \n",
    "- [Левый туториал с ютуба (для любителей английского)](https://www.youtube.com/watch?v=VKOYjemQRqw&list=PLSE7WKf_qqo1T5VV1nqXTj2iNiSpFk72T&ab_channel=TMQuest)\n",
    "- [Для общего развития, доклад(2013 год)](https://www.youtube.com/watch?v=Jtt9hexk93o&list=RDQMpIx5sgZrsA0&start_radio=1&ab_channel=Enthought)\n",
    "- [мемные видосики](https://www.youtube.com/playlist?list=PLkdGijFCNuVmu35l6EJxdvsvf7xj4EQVf)"
   ]
  },
  {
   "cell_type": "code",
   "execution_count": 1,
   "id": "9cafef6d",
   "metadata": {},
   "outputs": [],
   "source": [
    "# Imports\n",
    "import numpy as np\n",
    "import matplotlib.pyplot as plt\n",
    "import math\n",
    "import sympy as sp\n",
    "\n",
    "%matplotlib inline"
   ]
  },
  {
   "cell_type": "markdown",
   "id": "f0de9fd9",
   "metadata": {},
   "source": [
    "### Этапы изучения SymPy\n",
    " 1. Введение в SymPy\n",
    " 2. Объявление переменных, константы, комплексные числа \\\n",
    "    2.1. Объявление переменных, константы, комплексные числа \\\n",
    "    2.2. Операции над выражениями \\\n",
    "    2.3. Подстановка ```subs``` \\\n",
    "    2.4. Конвертация текста \\\n",
    "    2.5. Вычисление ```evalf```\n",
    " 3. Операции над выражениями\n",
    " 4. Типы данных в SymPy\n",
    " 5. Решение простых уравнений\n",
    " 6. Производные \\\n",
    "     6.1. Дифференцирование \\\n",
    "     6.2. Преобразующие функции для упрощения \\\n",
    "     6.3. Частные производные\n",
    " 7. Интегралы\n",
    " 8. Пределы и Ряды \\\n",
    "    8.1. Пределы \\\n",
    "    8.2. Ряды\n",
    " 9. Обыкновенные дифференциальные уравнения\n",
    " 10. Лямбды и рисование графиков\n",
    " 11. Структура выражений, аналогичные операции\n",
    " 12. Линейная алгебра\n",
    " 13. Немного физики, посмотрите может интересно "
   ]
  },
  {
   "cell_type": "markdown",
   "id": "2230888f",
   "metadata": {},
   "source": [
    "## Введение\n",
    "\n",
    "**Что такое символьные вычисления?**\n",
    "\n",
    "Символьные вычисления имеют дело с вычислением математических объектов символически. Это означает, что математические объекты представляются точно, а не приблизительно, а математические выражения с невычисленными переменными оставляются в символьной форме.\n",
    "\n",
    "**Несколько примеров:**\n",
    "\n",
    " Вычислим\n",
    " - $\\sqrt{9}$\n",
    " - $\\sqrt{8}$\n",
    " - $\\log_{2}{4}$\n",
    " - $\\log_{2}{6}$"
   ]
  },
  {
   "cell_type": "code",
   "execution_count": 2,
   "id": "e930ea93",
   "metadata": {},
   "outputs": [
    {
     "name": "stdout",
     "output_type": "stream",
     "text": [
      "числовое вычисление: 3.0\t\t символьное вычисление: 3\n",
      "числовое вычисление: 2.8284271247461903\t символьное вычисление: 2*sqrt(2)\n",
      "числовое вычисление: 2.0\t\t символьное вычисление: 2\n",
      "числовое вычисление: 0.3868528072345416\t символьное вычисление: log(2)/log(6)\n"
     ]
    }
   ],
   "source": [
    "# пример 1\n",
    "print(f'числовое вычисление: {math.sqrt(9)}\\t\\t символьное вычисление: {sp.sqrt(9)}')\n",
    "\n",
    "# пример 2\n",
    "print(f'числовое вычисление: {math.sqrt(8)}\\t символьное вычисление: {sp.sqrt(8)}')\n",
    "\n",
    "# пример 3\n",
    "print(f'числовое вычисление: {math.log(4, 2)}\\t\\t символьное вычисление: {sp.log(4, 2)}')\n",
    "\n",
    "# пример 4\n",
    "print(f'числовое вычисление: {math.log(2, 6)}\\t символьное вычисление: {sp.log(2, 6)}')"
   ]
  },
  {
   "cell_type": "markdown",
   "id": "5f5f123d",
   "metadata": {},
   "source": [
    "Посмотрим ещё примеры, только теперь рассмотрим выражение:\n",
    "$$\n",
    "x^2y + 2xy^2 + (1-x)^2 + 4\\sin x\\cos x, \n",
    "$$\n",
    "Видим зависимость от двух переменных $x, y$.\n",
    "Задача такова: упростите данное выражение.\n",
    "\n",
    "Упростили на листочке? Вам должно быть лень, ведь мы физтехи. Упростим халявно.\n",
    "Вот мы и дошли до первого пункта плана, объявление переменных."
   ]
  },
  {
   "cell_type": "markdown",
   "id": "b488dce4",
   "metadata": {},
   "source": [
    "#### Объявление математических переменных, константы, комплексные числа\n",
    "\n",
    "В данном случае нам нужна математическая переменная, поэтому возьмём её из SymPy."
   ]
  },
  {
   "cell_type": "code",
   "execution_count": 3,
   "id": "3d0f5325",
   "metadata": {},
   "outputs": [
    {
     "data": {
      "text/plain": [
       "sympy.core.symbol.Symbol"
      ]
     },
     "execution_count": 3,
     "metadata": {},
     "output_type": "execute_result"
    }
   ],
   "source": [
    "# объявление переменной 'x'\n",
    "x = sp.symbols('x')\n",
    "type(x)"
   ]
  },
  {
   "cell_type": "code",
   "execution_count": 4,
   "id": "eeab5588",
   "metadata": {},
   "outputs": [
    {
     "data": {
      "text/latex": [
       "$\\displaystyle x^{2} y + 2 x y - y^{2} + \\left(x - y\\right)^{2} + 4 \\sin{\\left(x \\right)} \\cos{\\left(x \\right)}$"
      ],
      "text/plain": [
       "x**2*y + 2*x*y - y**2 + (x - y)**2 + 4*sin(x)*cos(x)"
      ]
     },
     "execution_count": 4,
     "metadata": {},
     "output_type": "execute_result"
    }
   ],
   "source": [
    "# объявление переменной 'y'\n",
    "y = sp.symbols('y')\n",
    "\n",
    "# обозначим выражение, теперь уже отказавшись от функций math.\n",
    "# Используем только SymPy.\n",
    "expr = x**2*y - y**2 + 2*x*y + (x-y)**2 + 4*sp.sin(x)*sp.cos(x)\n",
    "expr"
   ]
  },
  {
   "cell_type": "code",
   "execution_count": 5,
   "id": "3698f04d",
   "metadata": {},
   "outputs": [
    {
     "data": {
      "text/latex": [
       "$\\displaystyle x^{2} y + x^{2} + 2 \\sin{\\left(2 x \\right)}$"
      ],
      "text/plain": [
       "x**2*y + x**2 + 2*sin(2*x)"
      ]
     },
     "execution_count": 5,
     "metadata": {},
     "output_type": "execute_result"
    }
   ],
   "source": [
    "sp.simplify(expr)"
   ]
  },
  {
   "cell_type": "markdown",
   "id": "40f2feee",
   "metadata": {},
   "source": [
    "Что за магия произошла выше? Мы познакомились с первым инструментом в наших руках - simplify, используется для упрощения выражений, каждый инструмент имеет огромный набор применений и особенностей, чтобы познакомиться с ними идём в документацию или Яндекс в помощь)))\n",
    "Так теперь посмотрим на удобные способы объявления переменных, допустим через $','$, тут ещё можно писать греческие символы!"
   ]
  },
  {
   "cell_type": "code",
   "execution_count": 6,
   "id": "e2f2bdb4",
   "metadata": {},
   "outputs": [
    {
     "data": {
      "text/latex": [
       "$\\displaystyle \\Sigma^{3}_{123}$"
      ],
      "text/plain": [
       "Sigma_123^3"
      ]
     },
     "execution_count": 6,
     "metadata": {},
     "output_type": "execute_result"
    }
   ],
   "source": [
    "# С точки зрения кодстайла так НЕ ДЕЛАЕМ.\n",
    "# Объявления должны быть читаемы\n",
    "# и иногда полезно комментировать, какую смысловую нагрузку несёт переменная\n",
    "a, b, c, d, n, z, alpha, beta, Sigma = sp.symbols('a b c d n z alpha beta Sigma_123^3')\n",
    "Sigma # это переменная!"
   ]
  },
  {
   "cell_type": "code",
   "execution_count": 7,
   "id": "debfdaba",
   "metadata": {},
   "outputs": [
    {
     "name": "stdout",
     "output_type": "stream",
     "text": [
      "Sigma_123^3\n"
     ]
    }
   ],
   "source": [
    "# Важно!\n",
    "print(Sigma)"
   ]
  },
  {
   "cell_type": "markdown",
   "id": "432044a3",
   "metadata": {},
   "source": [
    "Как мы видим выше print не отображает переменные SymPy, поэтому пользуемся отображением через передачу объекта интерпретатору."
   ]
  },
  {
   "cell_type": "markdown",
   "id": "06df90b6",
   "metadata": {},
   "source": [
    "\n",
    "Так же символы могут иметь некоторые свойства, допустим быть положительными или иметь какой-то конкретный тип"
   ]
  },
  {
   "cell_type": "code",
   "execution_count": 8,
   "id": "aed1b19a",
   "metadata": {},
   "outputs": [],
   "source": [
    "y = sp.symbols('y', positive=True)"
   ]
  },
  {
   "cell_type": "markdown",
   "id": "13e0564f",
   "metadata": {},
   "source": [
    "Ещё один интересный способ задать набор переменных"
   ]
  },
  {
   "cell_type": "code",
   "execution_count": 9,
   "id": "ea2876e9",
   "metadata": {},
   "outputs": [
    {
     "data": {
      "text/plain": [
       "(x0, x1, x2, x3, x4, x5, x6, x7, x8, x9)"
      ]
     },
     "execution_count": 9,
     "metadata": {},
     "output_type": "execute_result"
    }
   ],
   "source": [
    "x_v = sp.symbols(\"x0:10\")\n",
    "x_v"
   ]
  },
  {
   "cell_type": "code",
   "execution_count": 10,
   "id": "d880f0ec",
   "metadata": {},
   "outputs": [
    {
     "data": {
      "text/latex": [
       "$\\displaystyle x_{1}$"
      ],
      "text/plain": [
       "x1"
      ]
     },
     "execution_count": 10,
     "metadata": {},
     "output_type": "execute_result"
    }
   ],
   "source": [
    "# обращение к элементу из набора по обычной индексации\n",
    "x_v[1]"
   ]
  },
  {
   "cell_type": "markdown",
   "id": "69494e72",
   "metadata": {},
   "source": [
    "Поговорим немного о константах в SymPy. Основные:"
   ]
  },
  {
   "cell_type": "code",
   "execution_count": 11,
   "id": "927251dd",
   "metadata": {},
   "outputs": [
    {
     "data": {
      "text/latex": [
       "$\\displaystyle \\pi$"
      ],
      "text/plain": [
       "pi"
      ]
     },
     "execution_count": 11,
     "metadata": {},
     "output_type": "execute_result"
    }
   ],
   "source": [
    "sp.pi"
   ]
  },
  {
   "cell_type": "code",
   "execution_count": 12,
   "id": "2182d706",
   "metadata": {},
   "outputs": [
    {
     "data": {
      "text/latex": [
       "$\\displaystyle e$"
      ],
      "text/plain": [
       "E"
      ]
     },
     "execution_count": 12,
     "metadata": {},
     "output_type": "execute_result"
    }
   ],
   "source": [
    "sp.E"
   ]
  },
  {
   "cell_type": "code",
   "execution_count": 13,
   "id": "2af49e5a",
   "metadata": {},
   "outputs": [
    {
     "data": {
      "text/latex": [
       "$\\displaystyle \\infty$"
      ],
      "text/plain": [
       "oo"
      ]
     },
     "execution_count": 13,
     "metadata": {},
     "output_type": "execute_result"
    }
   ],
   "source": [
    "sp.oo"
   ]
  },
  {
   "cell_type": "code",
   "execution_count": 14,
   "id": "0da35f86",
   "metadata": {},
   "outputs": [
    {
     "data": {
      "text/latex": [
       "$\\displaystyle \\text{NaN}$"
      ],
      "text/plain": [
       "nan"
      ]
     },
     "execution_count": 14,
     "metadata": {},
     "output_type": "execute_result"
    }
   ],
   "source": [
    "sp.oo - sp.oo"
   ]
  },
  {
   "cell_type": "markdown",
   "id": "fd8cad7e",
   "metadata": {},
   "source": [
    "В SymPy можно работать в комплексных числах для этого используем ```sp.im() sp.re()```"
   ]
  },
  {
   "cell_type": "code",
   "execution_count": 15,
   "id": "f8dff310",
   "metadata": {},
   "outputs": [
    {
     "data": {
      "text/latex": [
       "$\\displaystyle i$"
      ],
      "text/plain": [
       "I"
      ]
     },
     "execution_count": 15,
     "metadata": {},
     "output_type": "execute_result"
    }
   ],
   "source": [
    "sp.I"
   ]
  },
  {
   "cell_type": "markdown",
   "id": "ed466b8e",
   "metadata": {},
   "source": [
    "Уточняем кол-во цифр через ```evalf```"
   ]
  },
  {
   "cell_type": "code",
   "execution_count": 16,
   "id": "a72f3051",
   "metadata": {},
   "outputs": [
    {
     "data": {
      "text/latex": [
       "$\\displaystyle 3.141592653589793238462643383279502884197169399375105820974944592307816406286208998628034825342117068$"
      ],
      "text/plain": [
       "3.141592653589793238462643383279502884197169399375105820974944592307816406286208998628034825342117068"
      ]
     },
     "execution_count": 16,
     "metadata": {},
     "output_type": "execute_result"
    }
   ],
   "source": [
    "sp.pi.evalf(100)"
   ]
  },
  {
   "cell_type": "markdown",
   "id": "8f1d3010",
   "metadata": {},
   "source": [
    "SymPy умеет ещё круче, он может точно считать целые, рациональные и иррациональные числа. Для этого существуют соответсвующие классы."
   ]
  },
  {
   "cell_type": "code",
   "execution_count": 17,
   "id": "5b9d6703",
   "metadata": {},
   "outputs": [
    {
     "data": {
      "text/latex": [
       "$\\displaystyle \\frac{5}{7}$"
      ],
      "text/plain": [
       "5/7"
      ]
     },
     "execution_count": 17,
     "metadata": {},
     "output_type": "execute_result"
    }
   ],
   "source": [
    "# первый аргумент - числитель, второй - знаменатель\n",
    "sp.Rational(5, 7)"
   ]
  },
  {
   "cell_type": "code",
   "execution_count": 18,
   "id": "092139d7",
   "metadata": {},
   "outputs": [
    {
     "data": {
      "text/latex": [
       "$\\displaystyle \\frac{34}{9}$"
      ],
      "text/plain": [
       "34/9"
      ]
     },
     "execution_count": 18,
     "metadata": {},
     "output_type": "execute_result"
    }
   ],
   "source": [
    "sp.Rational(10, 9) + sp.Rational(8, 3)"
   ]
  },
  {
   "cell_type": "code",
   "execution_count": 19,
   "id": "f140cfdf",
   "metadata": {},
   "outputs": [
    {
     "data": {
      "text/latex": [
       "$\\displaystyle 0$"
      ],
      "text/plain": [
       "0"
      ]
     },
     "execution_count": 19,
     "metadata": {},
     "output_type": "execute_result"
    }
   ],
   "source": [
    "x = sp.Rational(5, 7)\n",
    "\n",
    "# если привести 5 / 7 к integer это 0, т.к. целая часть 0.\n",
    "sp.Integer(x)"
   ]
  },
  {
   "cell_type": "code",
   "execution_count": 20,
   "id": "fde51e80",
   "metadata": {},
   "outputs": [
    {
     "data": {
      "text/latex": [
       "$\\displaystyle 3$"
      ],
      "text/plain": [
       "3"
      ]
     },
     "execution_count": 20,
     "metadata": {},
     "output_type": "execute_result"
    }
   ],
   "source": [
    "x = sp.Rational(10, 9) + sp.Rational(8, 3)\n",
    "\n",
    "# целая часть от деления будет 3\n",
    "sp.Integer(x)"
   ]
  },
  {
   "cell_type": "markdown",
   "id": "c84859be",
   "metadata": {},
   "source": [
    "#### Равенство двух выражений\n",
    "\n",
    "Знак `==` соответствует полному совпадению выражений:"
   ]
  },
  {
   "cell_type": "code",
   "execution_count": 59,
   "id": "21669e78",
   "metadata": {},
   "outputs": [
    {
     "data": {
      "text/plain": [
       "True"
      ]
     },
     "execution_count": 59,
     "metadata": {},
     "output_type": "execute_result"
    }
   ],
   "source": [
    "# равенство с точностью до символа\n",
    "x = sp.symbols('x')\n",
    "(x+2)**2 == (x+2)**2"
   ]
  },
  {
   "cell_type": "code",
   "execution_count": 60,
   "id": "35a2ef6e",
   "metadata": {},
   "outputs": [
    {
     "data": {
      "text/plain": [
       "False"
      ]
     },
     "execution_count": 60,
     "metadata": {},
     "output_type": "execute_result"
    }
   ],
   "source": [
    "(x + 1) * (x + 2) / x == (x + 2) * (1 + 1 / x)"
   ]
  },
  {
   "cell_type": "markdown",
   "id": "d8597343",
   "metadata": {},
   "source": [
    "Чтобы сравнить два выражения на равенство стоит использовать метод `equals`:"
   ]
  },
  {
   "cell_type": "code",
   "execution_count": 26,
   "id": "fe60ec5a",
   "metadata": {},
   "outputs": [],
   "source": [
    "f1 = (x+2)**2\n",
    "f2 = x**2 + 4*x + 4"
   ]
  },
  {
   "cell_type": "code",
   "execution_count": 27,
   "id": "e5702322",
   "metadata": {},
   "outputs": [
    {
     "data": {
      "text/plain": [
       "True"
      ]
     },
     "execution_count": 27,
     "metadata": {},
     "output_type": "execute_result"
    }
   ],
   "source": [
    "f1.equals(f2)"
   ]
  },
  {
   "cell_type": "markdown",
   "id": "4429f207",
   "metadata": {},
   "source": [
    "#### Подстановка `subs`\n",
    "\n",
    "Вместо любой символьной переменной и даже вместо выражения можно подставить другое выражение:"
   ]
  },
  {
   "cell_type": "code",
   "execution_count": 29,
   "id": "ce6394ff",
   "metadata": {},
   "outputs": [],
   "source": [
    "y, x = sp.symbols('y x')"
   ]
  },
  {
   "cell_type": "code",
   "execution_count": 30,
   "id": "6d3e154f",
   "metadata": {},
   "outputs": [
    {
     "data": {
      "text/latex": [
       "$\\displaystyle 0$"
      ],
      "text/plain": [
       "0"
      ]
     },
     "execution_count": 30,
     "metadata": {},
     "output_type": "execute_result"
    }
   ],
   "source": [
    "# вместо x подставим 0\n",
    "sp.sin(2*x).subs(x, 0)"
   ]
  },
  {
   "cell_type": "code",
   "execution_count": 31,
   "id": "f444188a",
   "metadata": {},
   "outputs": [
    {
     "data": {
      "text/latex": [
       "$\\displaystyle \\sin{\\left(4 y \\right)}$"
      ],
      "text/plain": [
       "sin(4*y)"
      ]
     },
     "execution_count": 31,
     "metadata": {},
     "output_type": "execute_result"
    }
   ],
   "source": [
    "# вместо x подставим 2y\n",
    "sp.sin(2*x).subs(x, 2*y)"
   ]
  },
  {
   "cell_type": "code",
   "execution_count": 32,
   "id": "d7bea19d",
   "metadata": {},
   "outputs": [
    {
     "data": {
      "text/latex": [
       "$\\displaystyle 7$"
      ],
      "text/plain": [
       "7"
      ]
     },
     "execution_count": 32,
     "metadata": {},
     "output_type": "execute_result"
    }
   ],
   "source": [
    "# можно подставлять числа вместо выражений\n",
    "(x + y).subs(x + y, 7)"
   ]
  },
  {
   "cell_type": "code",
   "execution_count": 33,
   "id": "7f453dff",
   "metadata": {},
   "outputs": [
    {
     "data": {
      "text/latex": [
       "$\\displaystyle 3$"
      ],
      "text/plain": [
       "3"
      ]
     },
     "execution_count": 33,
     "metadata": {},
     "output_type": "execute_result"
    }
   ],
   "source": [
    "# можно задавать замены dict'ом\n",
    "(x + y).subs({x: 1, y: 2})"
   ]
  },
  {
   "cell_type": "markdown",
   "id": "ad0a6ea8",
   "metadata": {},
   "source": [
    "#### Конвертация\n",
    "Для быстрой конвертации текста используем\n",
    "```sympify```"
   ]
  },
  {
   "cell_type": "code",
   "execution_count": 34,
   "id": "40625cd2",
   "metadata": {},
   "outputs": [
    {
     "data": {
      "text/latex": [
       "$\\displaystyle 2 x y - z + \\frac{1}{3} + \\sqrt{2}$"
      ],
      "text/plain": [
       "2*x*y - z + 1/3 + sqrt(2)"
      ]
     },
     "execution_count": 34,
     "metadata": {},
     "output_type": "execute_result"
    }
   ],
   "source": [
    "sp.sympify('2*x*y + sqrt(2) + 1/3 - z')"
   ]
  },
  {
   "cell_type": "markdown",
   "id": "1c930d1c",
   "metadata": {},
   "source": [
    "#### Вычисление ```evalf``` и ```N```\n",
    "Для быстрого вычисления приблизительного результата используем ```evalf```"
   ]
  },
  {
   "cell_type": "code",
   "execution_count": 35,
   "id": "9289259b",
   "metadata": {},
   "outputs": [
    {
     "data": {
      "text/latex": [
       "$\\displaystyle 1.6180339887498948482045868343656381177203091798058$"
      ],
      "text/plain": [
       "1.6180339887498948482045868343656381177203091798058"
      ]
     },
     "execution_count": 35,
     "metadata": {},
     "output_type": "execute_result"
    }
   ],
   "source": [
    "((sp.sqrt(5)+1)/2).evalf(50)"
   ]
  },
  {
   "cell_type": "code",
   "execution_count": 36,
   "id": "39d1d6ba",
   "metadata": {},
   "outputs": [
    {
     "data": {
      "text/latex": [
       "$\\displaystyle x^{2} + \\pi$"
      ],
      "text/plain": [
       "x**2 + pi"
      ]
     },
     "execution_count": 36,
     "metadata": {},
     "output_type": "execute_result"
    }
   ],
   "source": [
    "expr = x**2 + sp.pi\n",
    "expr"
   ]
  },
  {
   "cell_type": "code",
   "execution_count": 37,
   "id": "8966441a",
   "metadata": {},
   "outputs": [
    {
     "data": {
      "text/latex": [
       "$\\displaystyle x^{2} + 3.14159265358979$"
      ],
      "text/plain": [
       "x**2 + 3.14159265358979"
      ]
     },
     "execution_count": 37,
     "metadata": {},
     "output_type": "execute_result"
    }
   ],
   "source": [
    "# функция аналогичная evalf\n",
    "sp.N(expr)"
   ]
  },
  {
   "cell_type": "markdown",
   "id": "0d6e912f",
   "metadata": {},
   "source": [
    "### Операции над выражениями"
   ]
  },
  {
   "cell_type": "markdown",
   "id": "8f784ff3",
   "metadata": {},
   "source": [
    "Упрощение. SymPy упрощает везде и всегда. Допустим просто напишем выражение"
   ]
  },
  {
   "cell_type": "code",
   "execution_count": 38,
   "id": "33f65ceb",
   "metadata": {},
   "outputs": [
    {
     "data": {
      "text/latex": [
       "$\\displaystyle y + 5$"
      ],
      "text/plain": [
       "y + 5"
      ]
     },
     "execution_count": 38,
     "metadata": {},
     "output_type": "execute_result"
    }
   ],
   "source": [
    "2*y - y + 5"
   ]
  },
  {
   "cell_type": "code",
   "execution_count": 39,
   "id": "efa8b02f",
   "metadata": {},
   "outputs": [
    {
     "data": {
      "text/latex": [
       "$\\displaystyle \\frac{y}{3}$"
      ],
      "text/plain": [
       "y/3"
      ]
     },
     "execution_count": 39,
     "metadata": {},
     "output_type": "execute_result"
    }
   ],
   "source": [
    "2*y / 6"
   ]
  },
  {
   "cell_type": "code",
   "execution_count": 40,
   "id": "2eaa9397",
   "metadata": {},
   "outputs": [
    {
     "data": {
      "text/latex": [
       "$\\displaystyle 1$"
      ],
      "text/plain": [
       "1"
      ]
     },
     "execution_count": 40,
     "metadata": {},
     "output_type": "execute_result"
    }
   ],
   "source": [
    "y/y"
   ]
  },
  {
   "cell_type": "markdown",
   "id": "74f6363f",
   "metadata": {},
   "source": [
    "Предположим у нас было выражение вида:"
   ]
  },
  {
   "cell_type": "code",
   "execution_count": 41,
   "id": "540950ea",
   "metadata": {},
   "outputs": [
    {
     "data": {
      "text/latex": [
       "$\\displaystyle x \\left(x + 2\\right)$"
      ],
      "text/plain": [
       "x*(x + 2)"
      ]
     },
     "execution_count": 41,
     "metadata": {},
     "output_type": "execute_result"
    }
   ],
   "source": [
    "x = sp.symbols('x')\n",
    "expr = x**2 + 2*x\n",
    "expr.simplify()"
   ]
  },
  {
   "cell_type": "code",
   "execution_count": 42,
   "id": "a99ab361",
   "metadata": {},
   "outputs": [
    {
     "data": {
      "text/latex": [
       "$\\displaystyle x^{2} + 2 x$"
      ],
      "text/plain": [
       "x**2 + 2*x"
      ]
     },
     "execution_count": 42,
     "metadata": {},
     "output_type": "execute_result"
    }
   ],
   "source": [
    "expr.expand()"
   ]
  },
  {
   "cell_type": "markdown",
   "id": "c44cbbd9",
   "metadata": {},
   "source": [
    "Получается операция ```expand``` это раскрытие скобочек! Полная противоположность simplify."
   ]
  },
  {
   "cell_type": "markdown",
   "id": "0ac291a7",
   "metadata": {},
   "source": [
    "Ещё одно полезное преобразование ```factor```."
   ]
  },
  {
   "cell_type": "code",
   "execution_count": 43,
   "id": "4f4db497",
   "metadata": {},
   "outputs": [
    {
     "data": {
      "text/latex": [
       "$\\displaystyle x^{2} + 2 x - 15$"
      ],
      "text/plain": [
       "x**2 + 2*x - 15"
      ]
     },
     "execution_count": 43,
     "metadata": {},
     "output_type": "execute_result"
    }
   ],
   "source": [
    "expr = x**2 + 2*x - 15\n",
    "expr"
   ]
  },
  {
   "cell_type": "code",
   "execution_count": 44,
   "id": "345a01c1",
   "metadata": {},
   "outputs": [
    {
     "data": {
      "text/latex": [
       "$\\displaystyle \\left(x - 3\\right) \\left(x + 5\\right)$"
      ],
      "text/plain": [
       "(x - 3)*(x + 5)"
      ]
     },
     "execution_count": 44,
     "metadata": {},
     "output_type": "execute_result"
    }
   ],
   "source": [
    "expr.factor()"
   ]
  },
  {
   "cell_type": "markdown",
   "id": "9c378d3f",
   "metadata": {},
   "source": [
    "Степень многочлена expr по x"
   ]
  },
  {
   "cell_type": "code",
   "execution_count": 45,
   "id": "56b2bc9f",
   "metadata": {},
   "outputs": [
    {
     "data": {
      "text/latex": [
       "$\\displaystyle 2$"
      ],
      "text/plain": [
       "2"
      ]
     },
     "execution_count": 45,
     "metadata": {},
     "output_type": "execute_result"
    }
   ],
   "source": [
    "sp.degree(expr, x)"
   ]
  },
  {
   "cell_type": "markdown",
   "id": "a89d0bdd",
   "metadata": {},
   "source": [
    "Рассмотрим выражение большей степени"
   ]
  },
  {
   "cell_type": "code",
   "execution_count": 46,
   "id": "5cced684",
   "metadata": {},
   "outputs": [
    {
     "data": {
      "text/latex": [
       "$\\displaystyle \\left(x + y - z\\right)^{6}$"
      ],
      "text/plain": [
       "(x + y - z)**6"
      ]
     },
     "execution_count": 46,
     "metadata": {},
     "output_type": "execute_result"
    }
   ],
   "source": [
    "expr = (x + y - z)**6\n",
    "expr"
   ]
  },
  {
   "cell_type": "code",
   "execution_count": 47,
   "id": "417f332a",
   "metadata": {},
   "outputs": [
    {
     "data": {
      "text/latex": [
       "$\\displaystyle x^{6} + 6 x^{5} y - 6 x^{5} z + 15 x^{4} y^{2} - 30 x^{4} y z + 15 x^{4} z^{2} + 20 x^{3} y^{3} - 60 x^{3} y^{2} z + 60 x^{3} y z^{2} - 20 x^{3} z^{3} + 15 x^{2} y^{4} - 60 x^{2} y^{3} z + 90 x^{2} y^{2} z^{2} - 60 x^{2} y z^{3} + 15 x^{2} z^{4} + 6 x y^{5} - 30 x y^{4} z + 60 x y^{3} z^{2} - 60 x y^{2} z^{3} + 30 x y z^{4} - 6 x z^{5} + y^{6} - 6 y^{5} z + 15 y^{4} z^{2} - 20 y^{3} z^{3} + 15 y^{2} z^{4} - 6 y z^{5} + z^{6}$"
      ],
      "text/plain": [
       "x**6 + 6*x**5*y - 6*x**5*z + 15*x**4*y**2 - 30*x**4*y*z + 15*x**4*z**2 + 20*x**3*y**3 - 60*x**3*y**2*z + 60*x**3*y*z**2 - 20*x**3*z**3 + 15*x**2*y**4 - 60*x**2*y**3*z + 90*x**2*y**2*z**2 - 60*x**2*y*z**3 + 15*x**2*z**4 + 6*x*y**5 - 30*x*y**4*z + 60*x*y**3*z**2 - 60*x*y**2*z**3 + 30*x*y*z**4 - 6*x*z**5 + y**6 - 6*y**5*z + 15*y**4*z**2 - 20*y**3*z**3 + 15*y**2*z**4 - 6*y*z**5 + z**6"
      ]
     },
     "execution_count": 47,
     "metadata": {},
     "output_type": "execute_result"
    }
   ],
   "source": [
    "expr = sp.expand(expr)\n",
    "expr"
   ]
  },
  {
   "cell_type": "code",
   "execution_count": 48,
   "id": "cfae37ac",
   "metadata": {},
   "outputs": [
    {
     "data": {
      "text/latex": [
       "$\\displaystyle x^{6} + x^{5} \\left(6 y - 6 z\\right) + x^{4} \\left(15 y^{2} - 30 y z + 15 z^{2}\\right) + x^{3} \\left(20 y^{3} - 60 y^{2} z + 60 y z^{2} - 20 z^{3}\\right) + x^{2} \\left(15 y^{4} - 60 y^{3} z + 90 y^{2} z^{2} - 60 y z^{3} + 15 z^{4}\\right) + x \\left(6 y^{5} - 30 y^{4} z + 60 y^{3} z^{2} - 60 y^{2} z^{3} + 30 y z^{4} - 6 z^{5}\\right) + y^{6} - 6 y^{5} z + 15 y^{4} z^{2} - 20 y^{3} z^{3} + 15 y^{2} z^{4} - 6 y z^{5} + z^{6}$"
      ],
      "text/plain": [
       "x**6 + x**5*(6*y - 6*z) + x**4*(15*y**2 - 30*y*z + 15*z**2) + x**3*(20*y**3 - 60*y**2*z + 60*y*z**2 - 20*z**3) + x**2*(15*y**4 - 60*y**3*z + 90*y**2*z**2 - 60*y*z**3 + 15*z**4) + x*(6*y**5 - 30*y**4*z + 60*y**3*z**2 - 60*y**2*z**3 + 30*y*z**4 - 6*z**5) + y**6 - 6*y**5*z + 15*y**4*z**2 - 20*y**3*z**3 + 15*y**2*z**4 - 6*y*z**5 + z**6"
      ]
     },
     "execution_count": 48,
     "metadata": {},
     "output_type": "execute_result"
    }
   ],
   "source": [
    "sp.collect(expr, x)"
   ]
  },
  {
   "cell_type": "markdown",
   "id": "c9a09826",
   "metadata": {},
   "source": [
    "Функция ```collect``` собирает члены с определенными степенями x"
   ]
  },
  {
   "cell_type": "markdown",
   "id": "e98b73a3",
   "metadata": {},
   "source": [
    "Пусть у нас есть большая дробь, где числитель и знаменатель многочелны."
   ]
  },
  {
   "cell_type": "code",
   "execution_count": 49,
   "id": "68259a6b",
   "metadata": {},
   "outputs": [
    {
     "data": {
      "text/latex": [
       "$\\displaystyle \\frac{x^{3} + 10 x^{2} + 31 x + 30}{x^{2} + 12 x + 35}$"
      ],
      "text/plain": [
       "(x**3 + 10*x**2 + 31*x + 30)/(x**2 + 12*x + 35)"
      ]
     },
     "execution_count": 49,
     "metadata": {},
     "output_type": "execute_result"
    }
   ],
   "source": [
    "p = x**3 + 10*x**2 + 31*x + 30\n",
    "q = x**2 + 12*x + 35\n",
    "fraction = p / q\n",
    "fraction"
   ]
  },
  {
   "cell_type": "code",
   "execution_count": 50,
   "id": "995f4071",
   "metadata": {},
   "outputs": [
    {
     "data": {
      "text/latex": [
       "$\\displaystyle \\frac{x^{2} + 5 x + 6}{x + 7}$"
      ],
      "text/plain": [
       "(x**2 + 5*x + 6)/(x + 7)"
      ]
     },
     "execution_count": 50,
     "metadata": {},
     "output_type": "execute_result"
    }
   ],
   "source": [
    "#сократим дродь\n",
    "fraction.cancel()"
   ]
  },
  {
   "cell_type": "code",
   "execution_count": 51,
   "id": "43bd7a1d",
   "metadata": {},
   "outputs": [
    {
     "data": {
      "text/latex": [
       "$\\displaystyle x - 2 + \\frac{20}{x + 7}$"
      ],
      "text/plain": [
       "x - 2 + 20/(x + 7)"
      ]
     },
     "execution_count": 51,
     "metadata": {},
     "output_type": "execute_result"
    }
   ],
   "source": [
    "#выделим целую часть\n",
    "fraction.apart()"
   ]
  },
  {
   "cell_type": "code",
   "execution_count": 52,
   "id": "c1b6dc00",
   "metadata": {},
   "outputs": [
    {
     "data": {
      "text/latex": [
       "$\\displaystyle \\frac{x}{x + y} + \\frac{y}{x - y}$"
      ],
      "text/plain": [
       "x/(x + y) + y/(x - y)"
      ]
     },
     "execution_count": 52,
     "metadata": {},
     "output_type": "execute_result"
    }
   ],
   "source": [
    "a = y/(x-y) + x/(x+y)\n",
    "a"
   ]
  },
  {
   "cell_type": "markdown",
   "id": "5e6fc232",
   "metadata": {},
   "source": [
    "Чтобы привести их к общему знаменателю используем ```together()```"
   ]
  },
  {
   "cell_type": "code",
   "execution_count": 53,
   "id": "71ee0dea",
   "metadata": {},
   "outputs": [
    {
     "data": {
      "text/latex": [
       "$\\displaystyle \\frac{x \\left(x - y\\right) + y \\left(x + y\\right)}{\\left(x - y\\right) \\left(x + y\\right)}$"
      ],
      "text/plain": [
       "(x*(x - y) + y*(x + y))/((x - y)*(x + y))"
      ]
     },
     "execution_count": 53,
     "metadata": {},
     "output_type": "execute_result"
    }
   ],
   "source": [
    "sp.together(a)"
   ]
  },
  {
   "cell_type": "markdown",
   "id": "811bba14",
   "metadata": {},
   "source": [
    "Рассмотрим ```trigsimp()```, он пытается успростить тригонометрическое выражение."
   ]
  },
  {
   "cell_type": "code",
   "execution_count": 54,
   "id": "8c4f8894",
   "metadata": {},
   "outputs": [
    {
     "data": {
      "text/latex": [
       "$\\displaystyle 2 \\sin^{2}{\\left(x \\right)} + 3 \\cos^{2}{\\left(x \\right)}$"
      ],
      "text/plain": [
       "2*sin(x)**2 + 3*cos(x)**2"
      ]
     },
     "execution_count": 54,
     "metadata": {},
     "output_type": "execute_result"
    }
   ],
   "source": [
    "expr = 2*sp.sin(x)**2+3*sp.cos(x)**2\n",
    "expr"
   ]
  },
  {
   "cell_type": "code",
   "execution_count": 55,
   "id": "9d95ab8c",
   "metadata": {},
   "outputs": [
    {
     "data": {
      "text/latex": [
       "$\\displaystyle \\cos^{2}{\\left(x \\right)} + 2$"
      ],
      "text/plain": [
       "cos(x)**2 + 2"
      ]
     },
     "execution_count": 55,
     "metadata": {},
     "output_type": "execute_result"
    }
   ],
   "source": [
    "sp.trigsimp(expr)"
   ]
  },
  {
   "cell_type": "code",
   "execution_count": 56,
   "id": "f34ec21d",
   "metadata": {},
   "outputs": [
    {
     "data": {
      "text/latex": [
       "$\\displaystyle 2 \\sin^{2}{\\left(x \\right)} + 3 \\cos^{2}{\\left(x \\right)}$"
      ],
      "text/plain": [
       "2*sin(x)**2 + 3*cos(x)**2"
      ]
     },
     "execution_count": 56,
     "metadata": {},
     "output_type": "execute_result"
    }
   ],
   "source": [
    "sp.expand_trig(expr)"
   ]
  },
  {
   "cell_type": "markdown",
   "id": "ef7a7a24",
   "metadata": {},
   "source": [
    "Так же мы можем поменять x и y местами, использовав simultaneous в subs, это ключевой параметр для одновременной подстановки."
   ]
  },
  {
   "cell_type": "code",
   "execution_count": 57,
   "id": "90c46574",
   "metadata": {},
   "outputs": [
    {
     "data": {
      "text/latex": [
       "$\\displaystyle 2 x y^{2}$"
      ],
      "text/plain": [
       "2*x*y**2"
      ]
     },
     "execution_count": 57,
     "metadata": {},
     "output_type": "execute_result"
    }
   ],
   "source": [
    "a=2*x*y**2\n",
    "a"
   ]
  },
  {
   "cell_type": "code",
   "execution_count": 58,
   "id": "48d8914c",
   "metadata": {},
   "outputs": [
    {
     "data": {
      "text/latex": [
       "$\\displaystyle 2 x^{2} y$"
      ],
      "text/plain": [
       "2*x**2*y"
      ]
     },
     "execution_count": 58,
     "metadata": {},
     "output_type": "execute_result"
    }
   ],
   "source": [
    "a.subs([(x,y),(y,x)], simultaneous=True)"
   ]
  },
  {
   "cell_type": "markdown",
   "id": "714ed5f3",
   "metadata": {},
   "source": [
    "### Типы данных в SymPy "
   ]
  },
  {
   "cell_type": "code",
   "execution_count": 61,
   "id": "0f80ef64",
   "metadata": {},
   "outputs": [
    {
     "data": {
      "text/latex": [
       "$\\displaystyle x^{0.333333333333333}$"
      ],
      "text/plain": [
       "x**0.333333333333333"
      ]
     },
     "execution_count": 61,
     "metadata": {},
     "output_type": "execute_result"
    }
   ],
   "source": [
    "x = sp.Symbol('x')\n",
    "expr = x**(1/3)\n",
    "expr"
   ]
  },
  {
   "cell_type": "markdown",
   "id": "21b71215",
   "metadata": {},
   "source": [
    "С какой проблемой мы столкнулись? Вроде вычисления символьные, а степень нет!\n",
    "Как исправить? Обсуждали ранее типы данных ```sp.Integer```, ```sp.Rational``` и т. д."
   ]
  },
  {
   "cell_type": "code",
   "execution_count": 62,
   "id": "0774bb96",
   "metadata": {},
   "outputs": [
    {
     "data": {
      "text/latex": [
       "$\\displaystyle \\sqrt[3]{x}$"
      ],
      "text/plain": [
       "x**(1/3)"
      ]
     },
     "execution_count": 62,
     "metadata": {},
     "output_type": "execute_result"
    }
   ],
   "source": [
    "x = sp.Symbol('x')\n",
    "expr = x**(sp.Integer(1)/sp.Integer(3))\n",
    "expr"
   ]
  },
  {
   "cell_type": "code",
   "execution_count": 63,
   "id": "aa37d776",
   "metadata": {},
   "outputs": [
    {
     "data": {
      "text/latex": [
       "$\\displaystyle \\sqrt[3]{x}$"
      ],
      "text/plain": [
       "x**(1/3)"
      ]
     },
     "execution_count": 63,
     "metadata": {},
     "output_type": "execute_result"
    }
   ],
   "source": [
    "x = sp.Symbol('x')\n",
    "expr = x**(sp.Integer(1)/3)\n",
    "expr"
   ]
  },
  {
   "cell_type": "markdown",
   "id": "fabb32fe",
   "metadata": {},
   "source": [
    "Сработало приведение типов."
   ]
  },
  {
   "cell_type": "code",
   "execution_count": 64,
   "id": "649c8362",
   "metadata": {},
   "outputs": [
    {
     "data": {
      "text/plain": [
       "sympy.core.numbers.Rational"
      ]
     },
     "execution_count": 64,
     "metadata": {},
     "output_type": "execute_result"
    }
   ],
   "source": [
    "type(sp.Integer(1)/3)"
   ]
  },
  {
   "cell_type": "markdown",
   "id": "3443ebbd",
   "metadata": {},
   "source": [
    "Иногда полезно посмотреть тип объекта через ```type()```, чтобы понять, что с ним можно делать"
   ]
  },
  {
   "cell_type": "markdown",
   "id": "d9ce7c28",
   "metadata": {},
   "source": [
    "### Решение простых уравнений\n",
    "\n",
    "Знак равенства в SymPy никак не зарезервирован("
   ]
  },
  {
   "cell_type": "code",
   "execution_count": 65,
   "id": "f17a8862",
   "metadata": {},
   "outputs": [],
   "source": [
    "a,b,c,d,e,f=sp.symbols('a b c d e f')"
   ]
  },
  {
   "cell_type": "code",
   "execution_count": 66,
   "id": "882d686c",
   "metadata": {},
   "outputs": [
    {
     "data": {
      "text/latex": [
       "$\\displaystyle x^{2} = 5$"
      ],
      "text/plain": [
       "Eq(x**2, 5)"
      ]
     },
     "execution_count": 66,
     "metadata": {},
     "output_type": "execute_result"
    }
   ],
   "source": [
    "# для задания как таковых \"символьных\" равенств используем 'Eq'\n",
    "eq = sp.Eq(x**2, 5)\n",
    "eq"
   ]
  },
  {
   "cell_type": "code",
   "execution_count": 67,
   "id": "7ef410a4",
   "metadata": {},
   "outputs": [
    {
     "data": {
      "text/plain": [
       "sympy.core.relational.Equality"
      ]
     },
     "execution_count": 67,
     "metadata": {},
     "output_type": "execute_result"
    }
   ],
   "source": [
    "type(eq)"
   ]
  },
  {
   "cell_type": "markdown",
   "id": "49a0695e",
   "metadata": {},
   "source": [
    "Как видим выше, пользуемся ```Eq```"
   ]
  },
  {
   "cell_type": "markdown",
   "id": "dc0facc2",
   "metadata": {},
   "source": [
    "#### Решение уравнений\n",
    "\n",
    "Используем метод ```solveset()``` для решения уравнения"
   ]
  },
  {
   "cell_type": "code",
   "execution_count": 68,
   "id": "d1d30400",
   "metadata": {},
   "outputs": [
    {
     "data": {
      "text/latex": [
       "$\\displaystyle \\left\\{- \\sqrt{5}, \\sqrt{5}\\right\\}$"
      ],
      "text/plain": [
       "{-sqrt(5), sqrt(5)}"
      ]
     },
     "execution_count": 68,
     "metadata": {},
     "output_type": "execute_result"
    }
   ],
   "source": [
    "sp.solveset(eq)"
   ]
  },
  {
   "cell_type": "code",
   "execution_count": 69,
   "id": "2851e188",
   "metadata": {},
   "outputs": [
    {
     "data": {
      "text/plain": [
       "sympy.sets.sets.FiniteSet"
      ]
     },
     "execution_count": 69,
     "metadata": {},
     "output_type": "execute_result"
    }
   ],
   "source": [
    "type(sp.solveset(eq))"
   ]
  },
  {
   "cell_type": "code",
   "execution_count": 70,
   "id": "1225f375",
   "metadata": {},
   "outputs": [
    {
     "data": {
      "text/plain": [
       "[sqrt(5), -sqrt(5)]"
      ]
     },
     "execution_count": 70,
     "metadata": {},
     "output_type": "execute_result"
    }
   ],
   "source": [
    "list(sp.solveset(eq))"
   ]
  },
  {
   "cell_type": "code",
   "execution_count": 71,
   "id": "6bf62b1e",
   "metadata": {},
   "outputs": [
    {
     "data": {
      "text/latex": [
       "$\\displaystyle \\left\\{- \\sqrt{5}, \\sqrt{5}\\right\\}$"
      ],
      "text/plain": [
       "{-sqrt(5), sqrt(5)}"
      ]
     },
     "execution_count": 71,
     "metadata": {},
     "output_type": "execute_result"
    }
   ],
   "source": [
    "sp.solveset(x**2-5, x) # второй аргумент задает, относительно чего решаем"
   ]
  },
  {
   "cell_type": "markdown",
   "id": "376392bc",
   "metadata": {},
   "source": [
    "Второй пример уравнения"
   ]
  },
  {
   "cell_type": "code",
   "execution_count": 72,
   "id": "8e0b9c13",
   "metadata": {},
   "outputs": [
    {
     "data": {
      "text/latex": [
       "$\\displaystyle - \\sin{\\left(x \\right)} + \\cos{\\left(x \\right)} = 0$"
      ],
      "text/plain": [
       "Eq(-sin(x) + cos(x), 0)"
      ]
     },
     "execution_count": 72,
     "metadata": {},
     "output_type": "execute_result"
    }
   ],
   "source": [
    "eq2 = sp.Eq(sp.cos(x)-sp.sin(x), 0)\n",
    "eq2"
   ]
  },
  {
   "cell_type": "code",
   "execution_count": 73,
   "id": "a6a99eef",
   "metadata": {},
   "outputs": [
    {
     "data": {
      "text/latex": [
       "$\\displaystyle \\left\\{2 n \\pi + \\frac{5 \\pi}{4}\\; \\middle|\\; n \\in \\mathbb{Z}\\right\\} \\cup \\left\\{2 n \\pi + \\frac{\\pi}{4}\\; \\middle|\\; n \\in \\mathbb{Z}\\right\\}$"
      ],
      "text/plain": [
       "Union(ImageSet(Lambda(_n, 2*_n*pi + 5*pi/4), Integers), ImageSet(Lambda(_n, 2*_n*pi + pi/4), Integers))"
      ]
     },
     "execution_count": 73,
     "metadata": {},
     "output_type": "execute_result"
    }
   ],
   "source": [
    "sp.solveset(eq2)"
   ]
  },
  {
   "cell_type": "code",
   "execution_count": 74,
   "id": "90a03590",
   "metadata": {},
   "outputs": [
    {
     "data": {
      "text/plain": [
       "sympy.sets.sets.Union"
      ]
     },
     "execution_count": 74,
     "metadata": {},
     "output_type": "execute_result"
    }
   ],
   "source": [
    "type(sp.solveset(eq2))"
   ]
  },
  {
   "cell_type": "markdown",
   "id": "ccda52a3",
   "metadata": {},
   "source": [
    "Третий пример"
   ]
  },
  {
   "cell_type": "code",
   "execution_count": 76,
   "id": "b19ece30",
   "metadata": {},
   "outputs": [
    {
     "data": {
      "text/latex": [
       "$\\displaystyle \\cos{\\left(x \\right)} = x$"
      ],
      "text/plain": [
       "Eq(cos(x), x)"
      ]
     },
     "execution_count": 76,
     "metadata": {},
     "output_type": "execute_result"
    }
   ],
   "source": [
    "eq3 = sp.Eq(sp.cos(x), x)\n",
    "eq3"
   ]
  },
  {
   "cell_type": "code",
   "execution_count": 77,
   "id": "583ec73d",
   "metadata": {},
   "outputs": [
    {
     "data": {
      "text/plain": [
       "sympy.sets.conditionset.ConditionSet"
      ]
     },
     "execution_count": 77,
     "metadata": {},
     "output_type": "execute_result"
    }
   ],
   "source": [
    "type(sp.solveset(eq3))"
   ]
  },
  {
   "cell_type": "markdown",
   "id": "85c9e641",
   "metadata": {},
   "source": [
    "Решаем систему линейных уравнений"
   ]
  },
  {
   "cell_type": "code",
   "execution_count": 78,
   "id": "6b515456",
   "metadata": {},
   "outputs": [
    {
     "data": {
      "text/latex": [
       "$\\displaystyle x = 3 y + z$"
      ],
      "text/plain": [
       "Eq(x, 3*y + z)"
      ]
     },
     "execution_count": 78,
     "metadata": {},
     "output_type": "execute_result"
    }
   ],
   "source": [
    "eq_lin1 = sp.Eq(x, 3*y + z)\n",
    "eq_lin1"
   ]
  },
  {
   "cell_type": "code",
   "execution_count": 79,
   "id": "39038048",
   "metadata": {},
   "outputs": [
    {
     "data": {
      "text/latex": [
       "$\\displaystyle 5 x - 3 z = y$"
      ],
      "text/plain": [
       "Eq(5*x - 3*z, y)"
      ]
     },
     "execution_count": 79,
     "metadata": {},
     "output_type": "execute_result"
    }
   ],
   "source": [
    "eq_lin2 = sp.Eq(5*x - 3*z, y)\n",
    "eq_lin2"
   ]
  },
  {
   "cell_type": "code",
   "execution_count": 80,
   "id": "560113cc",
   "metadata": {},
   "outputs": [
    {
     "data": {
      "text/latex": [
       "$\\displaystyle \\left\\{\\left( \\frac{4 z}{7}, \\  - \\frac{z}{7}, \\  z\\right)\\right\\}$"
      ],
      "text/plain": [
       "{(4*z/7, -z/7, z)}"
      ]
     },
     "execution_count": 80,
     "metadata": {},
     "output_type": "execute_result"
    }
   ],
   "source": [
    "sp.linsolve([eq_lin1, eq_lin2], x, y, z)"
   ]
  },
  {
   "cell_type": "code",
   "execution_count": 81,
   "id": "0d10c408",
   "metadata": {},
   "outputs": [
    {
     "data": {
      "text/plain": [
       "{x: (-b*f + d*e)/(a*d - b*c), y: (a*f - c*e)/(a*d - b*c)}"
      ]
     },
     "execution_count": 81,
     "metadata": {},
     "output_type": "execute_result"
    }
   ],
   "source": [
    "sp.solve([a * x + b * y - e, c * x + d * y - f],[x, y])"
   ]
  },
  {
   "cell_type": "markdown",
   "id": "bb1b0ca7",
   "metadata": {},
   "source": [
    "Функция ```roots()``` возвращает корни многочлена с их множественностями"
   ]
  },
  {
   "cell_type": "code",
   "execution_count": 82,
   "id": "767bb309",
   "metadata": {},
   "outputs": [
    {
     "data": {
      "text/plain": [
       "{-2: 1, 1: 2}"
      ]
     },
     "execution_count": 82,
     "metadata": {},
     "output_type": "execute_result"
    }
   ],
   "source": [
    "sp.roots(x**3-3*x+2,x)"
   ]
  },
  {
   "cell_type": "markdown",
   "id": "d63de755",
   "metadata": {},
   "source": [
    " ### Производные"
   ]
  },
  {
   "cell_type": "code",
   "execution_count": 83,
   "id": "e8ff7fe8",
   "metadata": {},
   "outputs": [
    {
     "data": {
      "text/latex": [
       "$\\displaystyle e^{2 x} + \\sin{\\left(x \\right)}$"
      ],
      "text/plain": [
       "exp(2*x) + sin(x)"
      ]
     },
     "execution_count": 83,
     "metadata": {},
     "output_type": "execute_result"
    }
   ],
   "source": [
    "expr = sp.exp(2 * x) + sp.sin(x)\n",
    "expr"
   ]
  },
  {
   "cell_type": "markdown",
   "id": "e5cb1423",
   "metadata": {},
   "source": [
    "Задача продифференцировать это выражение решается так"
   ]
  },
  {
   "cell_type": "code",
   "execution_count": 84,
   "id": "9c9bf7db",
   "metadata": {},
   "outputs": [
    {
     "data": {
      "text/latex": [
       "$\\displaystyle 2 e^{2 x} + \\cos{\\left(x \\right)}$"
      ],
      "text/plain": [
       "2*exp(2*x) + cos(x)"
      ]
     },
     "execution_count": 84,
     "metadata": {},
     "output_type": "execute_result"
    }
   ],
   "source": [
    "sp.diff(expr)"
   ]
  },
  {
   "cell_type": "markdown",
   "id": "f2e9452f",
   "metadata": {},
   "source": [
    "Можно уточнить переменную дифференцирования"
   ]
  },
  {
   "cell_type": "code",
   "execution_count": 85,
   "id": "3e6c8e1a",
   "metadata": {},
   "outputs": [
    {
     "data": {
      "text/latex": [
       "$\\displaystyle 2 e^{2 x} + \\cos{\\left(x \\right)}$"
      ],
      "text/plain": [
       "2*exp(2*x) + cos(x)"
      ]
     },
     "execution_count": 85,
     "metadata": {},
     "output_type": "execute_result"
    }
   ],
   "source": [
    "sp.diff(expr, x)"
   ]
  },
  {
   "cell_type": "code",
   "execution_count": 86,
   "id": "24df6f90",
   "metadata": {},
   "outputs": [
    {
     "data": {
      "text/latex": [
       "$\\displaystyle 4 e^{2 x} - \\sin{\\left(x \\right)}$"
      ],
      "text/plain": [
       "4*exp(2*x) - sin(x)"
      ]
     },
     "execution_count": 86,
     "metadata": {},
     "output_type": "execute_result"
    }
   ],
   "source": [
    "# вторая производная\n",
    "sp.diff(sp.diff(expr))"
   ]
  },
  {
   "cell_type": "code",
   "execution_count": 87,
   "id": "22cedc5a",
   "metadata": {},
   "outputs": [
    {
     "data": {
      "text/latex": [
       "$\\displaystyle 4 e^{2 x} - \\sin{\\left(x \\right)}$"
      ],
      "text/plain": [
       "4*exp(2*x) - sin(x)"
      ]
     },
     "execution_count": 87,
     "metadata": {},
     "output_type": "execute_result"
    }
   ],
   "source": [
    "sp.diff(expr, x, x)"
   ]
  },
  {
   "cell_type": "markdown",
   "id": "0901a154",
   "metadata": {},
   "source": [
    "Но нормальные люди пишут так:"
   ]
  },
  {
   "cell_type": "code",
   "execution_count": 88,
   "id": "108ca3d5",
   "metadata": {},
   "outputs": [
    {
     "data": {
      "text/latex": [
       "$\\displaystyle 16 e^{2 x} + \\sin{\\left(x \\right)}$"
      ],
      "text/plain": [
       "16*exp(2*x) + sin(x)"
      ]
     },
     "execution_count": 88,
     "metadata": {},
     "output_type": "execute_result"
    }
   ],
   "source": [
    "sp.diff(expr, x, 4)"
   ]
  },
  {
   "cell_type": "markdown",
   "id": "3280c4c2",
   "metadata": {},
   "source": [
    "#### Преобразующие функции для упрощения"
   ]
  },
  {
   "cell_type": "code",
   "execution_count": 89,
   "id": "1e609f21",
   "metadata": {},
   "outputs": [
    {
     "data": {
      "text/latex": [
       "$\\displaystyle e^{- \\frac{e^{x}}{2}} e^{\\sinh{\\left(x \\right)}}$"
      ],
      "text/plain": [
       "exp(-exp(x)/2)*exp(sinh(x))"
      ]
     },
     "execution_count": 89,
     "metadata": {},
     "output_type": "execute_result"
    }
   ],
   "source": [
    "expr = sp.exp(sp.sinh(x)) / sp.exp(sp.exp(x) / 2)\n",
    "expr"
   ]
  },
  {
   "cell_type": "code",
   "execution_count": 90,
   "id": "50302ef3",
   "metadata": {},
   "outputs": [
    {
     "data": {
      "text/latex": [
       "$\\displaystyle \\left(- \\sinh{\\left(\\frac{\\sinh{\\left(x \\right)}}{2} + \\frac{\\cosh{\\left(x \\right)}}{2} \\right)} + \\cosh{\\left(\\frac{\\sinh{\\left(x \\right)}}{2} + \\frac{\\cosh{\\left(x \\right)}}{2} \\right)}\\right) \\left(\\sinh{\\left(\\sinh{\\left(x \\right)} \\right)} + \\cosh{\\left(\\sinh{\\left(x \\right)} \\right)}\\right)$"
      ],
      "text/plain": [
       "(-sinh(sinh(x)/2 + cosh(x)/2) + cosh(sinh(x)/2 + cosh(x)/2))*(sinh(sinh(x)) + cosh(sinh(x)))"
      ]
     },
     "execution_count": 90,
     "metadata": {},
     "output_type": "execute_result"
    }
   ],
   "source": [
    "expo = expr.rewrite(sp.sin)\n",
    "expo"
   ]
  },
  {
   "cell_type": "code",
   "execution_count": 91,
   "id": "6ff98040",
   "metadata": {},
   "outputs": [
    {
     "data": {
      "text/latex": [
       "$\\displaystyle e^{\\frac{e^{x}}{2} - \\frac{e^{- x}}{2}} e^{- \\frac{e^{x}}{2}}$"
      ],
      "text/plain": [
       "exp(exp(x)/2 - exp(-x)/2)*exp(-exp(x)/2)"
      ]
     },
     "execution_count": 91,
     "metadata": {},
     "output_type": "execute_result"
    }
   ],
   "source": [
    "expr.rewrite(sp.exp)"
   ]
  },
  {
   "cell_type": "markdown",
   "id": "63054b81",
   "metadata": {},
   "source": [
    "Иногда надо переписать по-другому, чтобы упростить"
   ]
  },
  {
   "cell_type": "code",
   "execution_count": 92,
   "id": "b0ede47e",
   "metadata": {},
   "outputs": [
    {
     "data": {
      "text/latex": [
       "$\\displaystyle e^{- \\frac{e^{x}}{2} + \\sinh{\\left(x \\right)}}$"
      ],
      "text/plain": [
       "exp(-exp(x)/2 + sinh(x))"
      ]
     },
     "execution_count": 92,
     "metadata": {},
     "output_type": "execute_result"
    }
   ],
   "source": [
    "expr.simplify()"
   ]
  },
  {
   "cell_type": "code",
   "execution_count": 93,
   "id": "fa3807e4",
   "metadata": {},
   "outputs": [
    {
     "data": {
      "text/latex": [
       "$\\displaystyle e^{- \\frac{e^{- x}}{2}}$"
      ],
      "text/plain": [
       "exp(-exp(-x)/2)"
      ]
     },
     "execution_count": 93,
     "metadata": {},
     "output_type": "execute_result"
    }
   ],
   "source": [
    "expo.simplify()"
   ]
  },
  {
   "cell_type": "markdown",
   "id": "3af03b48",
   "metadata": {},
   "source": [
    "#### Частные производные"
   ]
  },
  {
   "cell_type": "code",
   "execution_count": 94,
   "id": "d1d97ae8",
   "metadata": {},
   "outputs": [
    {
     "data": {
      "text/latex": [
       "$\\displaystyle \\cos{\\left(x \\right)} \\cot^{2}{\\left(2 y \\right)}$"
      ],
      "text/plain": [
       "cos(x)*cot(2*y)**2"
      ]
     },
     "execution_count": 94,
     "metadata": {},
     "output_type": "execute_result"
    }
   ],
   "source": [
    "two_var = sp.cos(x) * sp.cot(2 * y) ** 2\n",
    "two_var"
   ]
  },
  {
   "cell_type": "code",
   "execution_count": 95,
   "id": "cc7430fc",
   "metadata": {},
   "outputs": [
    {
     "data": {
      "text/latex": [
       "$\\displaystyle \\left(- 4 \\cot^{2}{\\left(2 y \\right)} - 4\\right) \\cos{\\left(x \\right)} \\cot{\\left(2 y \\right)}$"
      ],
      "text/plain": [
       "(-4*cot(2*y)**2 - 4)*cos(x)*cot(2*y)"
      ]
     },
     "execution_count": 95,
     "metadata": {},
     "output_type": "execute_result"
    }
   ],
   "source": [
    "partial_y = two_var.diff(y)\n",
    "partial_y"
   ]
  },
  {
   "cell_type": "code",
   "execution_count": 96,
   "id": "bf7e5ed6",
   "metadata": {},
   "outputs": [
    {
     "data": {
      "text/latex": [
       "$\\displaystyle \\frac{\\left(-4 - \\frac{\\sin^{2}{\\left(4 y \\right)}}{\\sin^{4}{\\left(2 y \\right)}}\\right) \\sin{\\left(4 y \\right)} \\sin{\\left(x + \\frac{\\pi}{2} \\right)}}{2 \\sin^{2}{\\left(2 y \\right)}}$"
      ],
      "text/plain": [
       "(-4 - sin(4*y)**2/sin(2*y)**4)*sin(4*y)*sin(x + pi/2)/(2*sin(2*y)**2)"
      ]
     },
     "execution_count": 96,
     "metadata": {},
     "output_type": "execute_result"
    }
   ],
   "source": [
    "partial_y.rewrite(sp.sin)"
   ]
  },
  {
   "cell_type": "code",
   "execution_count": 97,
   "id": "686eba43",
   "metadata": {},
   "outputs": [
    {
     "data": {
      "text/latex": [
       "$\\displaystyle - \\frac{4 \\cos{\\left(x \\right)} \\cot{\\left(2 y \\right)}}{\\sin^{2}{\\left(2 y \\right)}}$"
      ],
      "text/plain": [
       "-4*cos(x)*cot(2*y)/sin(2*y)**2"
      ]
     },
     "execution_count": 97,
     "metadata": {},
     "output_type": "execute_result"
    }
   ],
   "source": [
    "simplified_y = partial_y.simplify()\n",
    "simplified_y"
   ]
  },
  {
   "cell_type": "code",
   "execution_count": 98,
   "id": "a76ea170",
   "metadata": {},
   "outputs": [
    {
     "data": {
      "text/latex": [
       "$\\displaystyle - \\frac{2 \\sin{\\left(4 y \\right)} \\sin{\\left(x + \\frac{\\pi}{2} \\right)}}{\\sin^{4}{\\left(2 y \\right)}}$"
      ],
      "text/plain": [
       "-2*sin(4*y)*sin(x + pi/2)/sin(2*y)**4"
      ]
     },
     "execution_count": 98,
     "metadata": {},
     "output_type": "execute_result"
    }
   ],
   "source": [
    "simplified_y.rewrite(sp.sin)"
   ]
  },
  {
   "cell_type": "markdown",
   "id": "738858cf",
   "metadata": {},
   "source": [
    "Дифференцировать можно с разным порядком и по разным переменным"
   ]
  },
  {
   "cell_type": "code",
   "execution_count": 99,
   "id": "163e8ef9",
   "metadata": {},
   "outputs": [
    {
     "data": {
      "text/latex": [
       "$\\displaystyle 64 \\left(\\cot^{2}{\\left(2 y \\right)} + 1\\right) \\left(3 \\cot^{2}{\\left(2 y \\right)} + 2\\right) \\cos{\\left(x \\right)} \\cot{\\left(2 y \\right)}$"
      ],
      "text/plain": [
       "64*(cot(2*y)**2 + 1)*(3*cot(2*y)**2 + 2)*cos(x)*cot(2*y)"
      ]
     },
     "execution_count": 99,
     "metadata": {},
     "output_type": "execute_result"
    }
   ],
   "source": [
    "two_var.diff(x, x, y, y, y)"
   ]
  },
  {
   "cell_type": "code",
   "execution_count": 100,
   "id": "79529824",
   "metadata": {},
   "outputs": [
    {
     "data": {
      "text/latex": [
       "$\\displaystyle - 512 \\left(\\cot^{2}{\\left(2 y \\right)} + 1\\right) \\left(17 \\left(\\cot^{2}{\\left(2 y \\right)} + 1\\right)^{2} + 26 \\left(\\cot^{2}{\\left(2 y \\right)} + 1\\right) \\cot^{2}{\\left(2 y \\right)} + 2 \\cot^{4}{\\left(2 y \\right)}\\right) \\cos{\\left(x \\right)} \\cot{\\left(2 y \\right)}$"
      ],
      "text/plain": [
       "-512*(cot(2*y)**2 + 1)*(17*(cot(2*y)**2 + 1)**2 + 26*(cot(2*y)**2 + 1)*cot(2*y)**2 + 2*cot(2*y)**4)*cos(x)*cot(2*y)"
      ]
     },
     "execution_count": 100,
     "metadata": {},
     "output_type": "execute_result"
    }
   ],
   "source": [
    "two_var.diff(x, 4, y, 5)"
   ]
  },
  {
   "cell_type": "markdown",
   "id": "0c602bfe",
   "metadata": {},
   "source": [
    "### Интегралы"
   ]
  },
  {
   "cell_type": "code",
   "execution_count": 101,
   "id": "6ca27ea3",
   "metadata": {},
   "outputs": [],
   "source": [
    "x, y, z = sp.symbols('x y z', real=True)\n",
    "C = sp.Symbol('C')"
   ]
  },
  {
   "cell_type": "code",
   "execution_count": 102,
   "id": "914a5b5d",
   "metadata": {},
   "outputs": [
    {
     "data": {
      "text/latex": [
       "$\\displaystyle \\sin{\\left(3 x \\right)} \\cos{\\left(2 x \\right)}$"
      ],
      "text/plain": [
       "sin(3*x)*cos(2*x)"
      ]
     },
     "execution_count": 102,
     "metadata": {},
     "output_type": "execute_result"
    }
   ],
   "source": [
    "f = sp.cos(2*x) * sp.sin(3*x)\n",
    "f"
   ]
  },
  {
   "cell_type": "code",
   "execution_count": 103,
   "id": "0d608202",
   "metadata": {},
   "outputs": [
    {
     "data": {
      "text/latex": [
       "$\\displaystyle - \\frac{2 \\sin{\\left(2 x \\right)} \\sin{\\left(3 x \\right)}}{5} - \\frac{3 \\cos{\\left(2 x \\right)} \\cos{\\left(3 x \\right)}}{5}$"
      ],
      "text/plain": [
       "-2*sin(2*x)*sin(3*x)/5 - 3*cos(2*x)*cos(3*x)/5"
      ]
     },
     "execution_count": 103,
     "metadata": {},
     "output_type": "execute_result"
    }
   ],
   "source": [
    "sp.integrate(f)"
   ]
  },
  {
   "cell_type": "markdown",
   "id": "35dfcee3",
   "metadata": {},
   "source": [
    "Аналогично дифференциоранию можно уточнять переменную интегрирования"
   ]
  },
  {
   "cell_type": "code",
   "execution_count": 104,
   "id": "ea191219",
   "metadata": {},
   "outputs": [
    {
     "data": {
      "text/latex": [
       "$\\displaystyle - \\frac{2 \\sin{\\left(2 x \\right)} \\sin{\\left(3 x \\right)}}{5} - \\frac{3 \\cos{\\left(2 x \\right)} \\cos{\\left(3 x \\right)}}{5}$"
      ],
      "text/plain": [
       "-2*sin(2*x)*sin(3*x)/5 - 3*cos(2*x)*cos(3*x)/5"
      ]
     },
     "execution_count": 104,
     "metadata": {},
     "output_type": "execute_result"
    }
   ],
   "source": [
    "sp.integrate(f, x)"
   ]
  },
  {
   "cell_type": "markdown",
   "id": "41818f5a",
   "metadata": {},
   "source": [
    "Разберем необычный кейс"
   ]
  },
  {
   "cell_type": "code",
   "execution_count": 105,
   "id": "e3d7d734",
   "metadata": {},
   "outputs": [
    {
     "data": {
      "text/latex": [
       "$\\displaystyle x^{y}$"
      ],
      "text/plain": [
       "x**y"
      ]
     },
     "execution_count": 105,
     "metadata": {},
     "output_type": "execute_result"
    }
   ],
   "source": [
    "g = x ** y\n",
    "g"
   ]
  },
  {
   "cell_type": "code",
   "execution_count": 106,
   "id": "b096137b",
   "metadata": {},
   "outputs": [
    {
     "data": {
      "text/latex": [
       "$\\displaystyle \\begin{cases} \\frac{x^{y + 1}}{y + 1} & \\text{for}\\: y \\neq -1 \\\\\\log{\\left(x \\right)} & \\text{otherwise} \\end{cases}$"
      ],
      "text/plain": [
       "Piecewise((x**(y + 1)/(y + 1), Ne(y, -1)), (log(x), True))"
      ]
     },
     "execution_count": 106,
     "metadata": {},
     "output_type": "execute_result"
    }
   ],
   "source": [
    "h = sp.integrate(g, x)\n",
    "h"
   ]
  },
  {
   "cell_type": "markdown",
   "id": "90054b00",
   "metadata": {},
   "source": [
    "Впервые получаем систему, как с ней работать?"
   ]
  },
  {
   "cell_type": "code",
   "execution_count": 107,
   "id": "a84311f6",
   "metadata": {},
   "outputs": [
    {
     "data": {
      "text/plain": [
       "Piecewise"
      ]
     },
     "execution_count": 107,
     "metadata": {},
     "output_type": "execute_result"
    }
   ],
   "source": [
    "type(h)"
   ]
  },
  {
   "cell_type": "code",
   "execution_count": 108,
   "id": "f49c47fe",
   "metadata": {},
   "outputs": [
    {
     "data": {
      "text/latex": [
       "$\\displaystyle \\begin{cases} \\frac{x^{y + 1} \\sin{\\left(3 x \\right)} \\cos{\\left(2 x \\right)}}{y + 1} & \\text{for}\\: y \\neq -1 \\\\\\log{\\left(x \\right)} \\sin{\\left(3 x \\right)} \\cos{\\left(2 x \\right)} & \\text{otherwise} \\end{cases}$"
      ],
      "text/plain": [
       "Piecewise((x**(y + 1)*sin(3*x)*cos(2*x)/(y + 1), Ne(y, -1)), (log(x)*sin(3*x)*cos(2*x), True))"
      ]
     },
     "execution_count": 108,
     "metadata": {},
     "output_type": "execute_result"
    }
   ],
   "source": [
    "(h * f).simplify()"
   ]
  },
  {
   "cell_type": "markdown",
   "id": "91a4d545",
   "metadata": {},
   "source": [
    "Отсюда становится понятно, что теперь все действия происходят одновременно со всей системой."
   ]
  },
  {
   "cell_type": "code",
   "execution_count": 109,
   "id": "76a4b499",
   "metadata": {},
   "outputs": [
    {
     "data": {
      "text/latex": [
       "$\\displaystyle \\sin{\\left(3 x \\right)} \\cos{\\left(2 x \\right)}$"
      ],
      "text/plain": [
       "sin(3*x)*cos(2*x)"
      ]
     },
     "execution_count": 109,
     "metadata": {},
     "output_type": "execute_result"
    }
   ],
   "source": [
    "f"
   ]
  },
  {
   "cell_type": "markdown",
   "id": "18fdb267",
   "metadata": {},
   "source": [
    "Рассмотрим интегрирование в некоторых пределах, тогда мы можем вычислить интеграл"
   ]
  },
  {
   "cell_type": "code",
   "execution_count": 110,
   "id": "2f0934e7",
   "metadata": {},
   "outputs": [
    {
     "data": {
      "text/latex": [
       "$\\displaystyle \\frac{6}{5}$"
      ],
      "text/plain": [
       "6/5"
      ]
     },
     "execution_count": 110,
     "metadata": {},
     "output_type": "execute_result"
    }
   ],
   "source": [
    "sp.integrate(f, (x, 0, sp.pi))"
   ]
  },
  {
   "cell_type": "code",
   "execution_count": 111,
   "id": "e6a8395c",
   "metadata": {},
   "outputs": [
    {
     "data": {
      "text/latex": [
       "$\\displaystyle e^{- x}$"
      ],
      "text/plain": [
       "exp(-x)"
      ]
     },
     "execution_count": 111,
     "metadata": {},
     "output_type": "execute_result"
    }
   ],
   "source": [
    "u = sp.exp(-x)\n",
    "u"
   ]
  },
  {
   "cell_type": "code",
   "execution_count": 112,
   "id": "9e4c13a6",
   "metadata": {},
   "outputs": [
    {
     "data": {
      "text/latex": [
       "$\\displaystyle 1$"
      ],
      "text/plain": [
       "1"
      ]
     },
     "execution_count": 112,
     "metadata": {},
     "output_type": "execute_result"
    }
   ],
   "source": [
    "sp.integrate(u, (x, 0, sp.oo))"
   ]
  },
  {
   "cell_type": "code",
   "execution_count": 113,
   "id": "68731fff",
   "metadata": {},
   "outputs": [
    {
     "data": {
      "text/latex": [
       "$\\displaystyle x y z^{2}$"
      ],
      "text/plain": [
       "x*y*z**2"
      ]
     },
     "execution_count": 113,
     "metadata": {},
     "output_type": "execute_result"
    }
   ],
   "source": [
    "w = x * y * z ** 2\n",
    "w"
   ]
  },
  {
   "cell_type": "markdown",
   "id": "4be270b4",
   "metadata": {},
   "source": [
    "можно интегрировать по разным переменным в том порядке, как хотим"
   ]
  },
  {
   "cell_type": "code",
   "execution_count": 114,
   "id": "441eef00",
   "metadata": {},
   "outputs": [
    {
     "data": {
      "text/latex": [
       "$\\displaystyle \\frac{x^{2} y^{2} z^{2}}{4}$"
      ],
      "text/plain": [
       "x**2*y**2*z**2/4"
      ]
     },
     "execution_count": 114,
     "metadata": {},
     "output_type": "execute_result"
    }
   ],
   "source": [
    "sp.integrate(w, x ,y)"
   ]
  },
  {
   "cell_type": "code",
   "execution_count": 115,
   "id": "1f34af0e",
   "metadata": {},
   "outputs": [
    {
     "data": {
      "text/latex": [
       "$\\displaystyle 54$"
      ],
      "text/plain": [
       "54"
      ]
     },
     "execution_count": 115,
     "metadata": {},
     "output_type": "execute_result"
    }
   ],
   "source": [
    "sp.integrate(w, (x, 0, 1), (y, 1, 5), (z, 0, 3))"
   ]
  },
  {
   "cell_type": "markdown",
   "id": "c266e9c2",
   "metadata": {},
   "source": [
    "Давайте, как пример, посчитаем интеграл Пуассона:"
   ]
  },
  {
   "cell_type": "code",
   "execution_count": 116,
   "id": "0a681e91",
   "metadata": {},
   "outputs": [
    {
     "data": {
      "text/latex": [
       "$\\displaystyle e^{- \\frac{x^{2}}{2}}$"
      ],
      "text/plain": [
       "exp(-x**2/2)"
      ]
     },
     "execution_count": 116,
     "metadata": {},
     "output_type": "execute_result"
    }
   ],
   "source": [
    "expr = sp.E ** (-(x**2) / 2)\n",
    "expr"
   ]
  },
  {
   "cell_type": "code",
   "execution_count": 117,
   "id": "f46193a5",
   "metadata": {},
   "outputs": [
    {
     "data": {
      "text/latex": [
       "$\\displaystyle \\frac{\\sqrt{2} \\sqrt{\\pi} \\operatorname{erf}{\\left(\\frac{\\sqrt{2} x}{2} \\right)}}{2}$"
      ],
      "text/plain": [
       "sqrt(2)*sqrt(pi)*erf(sqrt(2)*x/2)/2"
      ]
     },
     "execution_count": 117,
     "metadata": {},
     "output_type": "execute_result"
    }
   ],
   "source": [
    "expr.integrate()"
   ]
  },
  {
   "cell_type": "markdown",
   "id": "73aad04e",
   "metadata": {},
   "source": [
    "${\\rm erfi}\\, x$ - это так называемая *функция ошибок*. По определению, она равна\n",
    "$$\n",
    "{\\rm erfi}\\, x =\n",
    "\\frac{2}{\\sqrt{\\pi}}\\int_0^x e^{-t^2} dt.\n",
    "$$"
   ]
  },
  {
   "cell_type": "markdown",
   "id": "39a41551",
   "metadata": {},
   "source": [
    "### Пределы и ряды"
   ]
  },
  {
   "cell_type": "code",
   "execution_count": 119,
   "id": "3795adcf",
   "metadata": {},
   "outputs": [],
   "source": [
    "x = sp.Symbol('x')"
   ]
  },
  {
   "cell_type": "code",
   "execution_count": 120,
   "id": "853fac76",
   "metadata": {},
   "outputs": [
    {
     "data": {
      "text/latex": [
       "$\\displaystyle x^{2}$"
      ],
      "text/plain": [
       "x**2"
      ]
     },
     "execution_count": 120,
     "metadata": {},
     "output_type": "execute_result"
    }
   ],
   "source": [
    "expr = x ** 2\n",
    "expr"
   ]
  },
  {
   "cell_type": "markdown",
   "id": "9ad8dd88",
   "metadata": {},
   "source": [
    "Посчитаем предел при $x -> 1$"
   ]
  },
  {
   "cell_type": "code",
   "execution_count": 121,
   "id": "e36e10c2",
   "metadata": {},
   "outputs": [
    {
     "data": {
      "text/latex": [
       "$\\displaystyle 1$"
      ],
      "text/plain": [
       "1"
      ]
     },
     "execution_count": 121,
     "metadata": {},
     "output_type": "execute_result"
    }
   ],
   "source": [
    "sp.limit(expr, x , 1)"
   ]
  },
  {
   "cell_type": "code",
   "execution_count": 122,
   "id": "644f4f79",
   "metadata": {},
   "outputs": [
    {
     "data": {
      "text/latex": [
       "$\\displaystyle 1$"
      ],
      "text/plain": [
       "1"
      ]
     },
     "execution_count": 122,
     "metadata": {},
     "output_type": "execute_result"
    }
   ],
   "source": [
    "expr.subs(x, 1)"
   ]
  },
  {
   "cell_type": "code",
   "execution_count": 124,
   "id": "418922f0",
   "metadata": {},
   "outputs": [
    {
     "data": {
      "text/latex": [
       "$\\displaystyle x e^{- x}$"
      ],
      "text/plain": [
       "x*exp(-x)"
      ]
     },
     "execution_count": 124,
     "metadata": {},
     "output_type": "execute_result"
    }
   ],
   "source": [
    "exponential = x / sp.exp(x)\n",
    "exponential"
   ]
  },
  {
   "cell_type": "markdown",
   "id": "997e48ae",
   "metadata": {},
   "source": [
    "Иногда может так случаться, что предел существует, а при подстановке всё грустно("
   ]
  },
  {
   "cell_type": "code",
   "execution_count": 125,
   "id": "c73a0d0c",
   "metadata": {},
   "outputs": [
    {
     "data": {
      "text/latex": [
       "$\\displaystyle 0$"
      ],
      "text/plain": [
       "0"
      ]
     },
     "execution_count": 125,
     "metadata": {},
     "output_type": "execute_result"
    }
   ],
   "source": [
    "sp.limit(exponential, x, sp.oo)"
   ]
  },
  {
   "cell_type": "code",
   "execution_count": 126,
   "id": "6d85540e",
   "metadata": {},
   "outputs": [
    {
     "data": {
      "text/latex": [
       "$\\displaystyle \\text{NaN}$"
      ],
      "text/plain": [
       "nan"
      ]
     },
     "execution_count": 126,
     "metadata": {},
     "output_type": "execute_result"
    }
   ],
   "source": [
    "exponential.subs(x, sp.oo)"
   ]
  },
  {
   "cell_type": "code",
   "execution_count": 127,
   "id": "ef5e8bc8",
   "metadata": {},
   "outputs": [
    {
     "data": {
      "text/latex": [
       "$\\displaystyle \\frac{1}{x}$"
      ],
      "text/plain": [
       "1/x"
      ]
     },
     "execution_count": 127,
     "metadata": {},
     "output_type": "execute_result"
    }
   ],
   "source": [
    "expr = 1/x\n",
    "expr"
   ]
  },
  {
   "cell_type": "markdown",
   "id": "1f5dda37",
   "metadata": {},
   "source": [
    "Примите, как факт, что по умолчанию предел берется справа"
   ]
  },
  {
   "cell_type": "code",
   "execution_count": 128,
   "id": "ba44601e",
   "metadata": {},
   "outputs": [
    {
     "data": {
      "text/latex": [
       "$\\displaystyle \\infty$"
      ],
      "text/plain": [
       "oo"
      ]
     },
     "execution_count": 128,
     "metadata": {},
     "output_type": "execute_result"
    }
   ],
   "source": [
    "sp.limit(expr, x, 0)"
   ]
  },
  {
   "cell_type": "markdown",
   "id": "962b5ef1",
   "metadata": {},
   "source": [
    "Чтобы задать левый - или правый + пределы нужно через ',' указать знак"
   ]
  },
  {
   "cell_type": "code",
   "execution_count": 129,
   "id": "6f278acf",
   "metadata": {},
   "outputs": [
    {
     "data": {
      "text/latex": [
       "$\\displaystyle -\\infty$"
      ],
      "text/plain": [
       "-oo"
      ]
     },
     "execution_count": 129,
     "metadata": {},
     "output_type": "execute_result"
    }
   ],
   "source": [
    "sp.limit(expr, x, 0, '-')"
   ]
  },
  {
   "cell_type": "code",
   "execution_count": 130,
   "id": "538a3475",
   "metadata": {},
   "outputs": [
    {
     "data": {
      "text/latex": [
       "$\\displaystyle \\tilde{\\infty}$"
      ],
      "text/plain": [
       "zoo"
      ]
     },
     "execution_count": 130,
     "metadata": {},
     "output_type": "execute_result"
    }
   ],
   "source": [
    "sp.limit(expr, x, 0, '+-')"
   ]
  },
  {
   "cell_type": "markdown",
   "id": "d99b8514",
   "metadata": {},
   "source": [
    "#### Ряды\n",
    "\n",
    "Наше любимое разложение в ряд Маклорена, Тейлора"
   ]
  },
  {
   "cell_type": "code",
   "execution_count": 131,
   "id": "f01cdfba",
   "metadata": {},
   "outputs": [
    {
     "data": {
      "text/latex": [
       "$\\displaystyle 1 - \\frac{\\left(x - \\frac{\\pi}{2}\\right)^{2}}{2} + \\frac{\\left(x - \\frac{\\pi}{2}\\right)^{4}}{24} + O\\left(\\left(x - \\frac{\\pi}{2}\\right)^{6}; x\\rightarrow \\frac{\\pi}{2}\\right)$"
      ],
      "text/plain": [
       "1 - (x - pi/2)**2/2 + (x - pi/2)**4/24 + O((x - pi/2)**6, (x, pi/2))"
      ]
     },
     "execution_count": 131,
     "metadata": {},
     "output_type": "execute_result"
    }
   ],
   "source": [
    "sp.series(sp.sin(x), x, sp.pi/2)"
   ]
  },
  {
   "cell_type": "code",
   "execution_count": 132,
   "id": "d4620d5e",
   "metadata": {},
   "outputs": [
    {
     "data": {
      "text/latex": [
       "$\\displaystyle e^{\\sin{\\left(x \\right)}}$"
      ],
      "text/plain": [
       "exp(sin(x))"
      ]
     },
     "execution_count": 132,
     "metadata": {},
     "output_type": "execute_result"
    }
   ],
   "source": [
    "expr = sp.exp(sp.sin(x))\n",
    "expr"
   ]
  },
  {
   "cell_type": "markdown",
   "id": "d49983d2",
   "metadata": {},
   "source": [
    "Можно указывать до какого члена"
   ]
  },
  {
   "cell_type": "code",
   "execution_count": 133,
   "id": "d9356a0b",
   "metadata": {},
   "outputs": [
    {
     "data": {
      "text/latex": [
       "$\\displaystyle 1 + x + \\frac{x^{2}}{2} - \\frac{x^{4}}{8} - \\frac{x^{5}}{15} - \\frac{x^{6}}{240} + \\frac{x^{7}}{90} + O\\left(x^{8}\\right)$"
      ],
      "text/plain": [
       "1 + x + x**2/2 - x**4/8 - x**5/15 - x**6/240 + x**7/90 + O(x**8)"
      ]
     },
     "execution_count": 133,
     "metadata": {},
     "output_type": "execute_result"
    }
   ],
   "source": [
    "sp.series(expr, x, 0, n=8)"
   ]
  },
  {
   "cell_type": "markdown",
   "id": "088e76ab",
   "metadata": {},
   "source": [
    "С рядами легальны математические операции"
   ]
  },
  {
   "cell_type": "code",
   "execution_count": 134,
   "id": "e623b5d0",
   "metadata": {},
   "outputs": [
    {
     "data": {
      "text/latex": [
       "$\\displaystyle 1 + 2 x + 2 x^{2} + x^{3} - \\frac{23 x^{5}}{60} + O\\left(x^{6}\\right)$"
      ],
      "text/plain": [
       "1 + 2*x + 2*x**2 + x**3 - 23*x**5/60 + O(x**6)"
      ]
     },
     "execution_count": 134,
     "metadata": {},
     "output_type": "execute_result"
    }
   ],
   "source": [
    "(sp.series(expr, x, 0, n=8) * sp.series(expr, x, 0, n=6)).expand()"
   ]
  },
  {
   "cell_type": "markdown",
   "id": "dc9d85ab",
   "metadata": {},
   "source": [
    "Их так же можно дифференцировать и интегрировать"
   ]
  },
  {
   "cell_type": "code",
   "execution_count": 136,
   "id": "29a0b8a1",
   "metadata": {},
   "outputs": [
    {
     "data": {
      "text/latex": [
       "$\\displaystyle 1 + x - \\frac{x^{3}}{2} - \\frac{x^{4}}{3} - \\frac{x^{5}}{40} + \\frac{7 x^{6}}{90} + O\\left(x^{7}\\right)$"
      ],
      "text/plain": [
       "1 + x - x**3/2 - x**4/3 - x**5/40 + 7*x**6/90 + O(x**7)"
      ]
     },
     "execution_count": 136,
     "metadata": {},
     "output_type": "execute_result"
    }
   ],
   "source": [
    "sp.diff(sp.series(expr, x, 0, n=8))"
   ]
  },
  {
   "cell_type": "code",
   "execution_count": 137,
   "id": "72324dd7",
   "metadata": {},
   "outputs": [
    {
     "data": {
      "text/latex": [
       "$\\displaystyle \\frac{x^{8}}{720} - \\frac{x^{7}}{1680} - \\frac{x^{6}}{90} - \\frac{x^{5}}{40} + \\frac{x^{3}}{6} + \\frac{x^{2}}{2} + x$"
      ],
      "text/plain": [
       "x**8/720 - x**7/1680 - x**6/90 - x**5/40 + x**3/6 + x**2/2 + x"
      ]
     },
     "execution_count": 137,
     "metadata": {},
     "output_type": "execute_result"
    }
   ],
   "source": [
    "sp.integrate(sp.series(expr, x, 0, n=8)).removeO()"
   ]
  },
  {
   "cell_type": "markdown",
   "id": "7c10395d",
   "metadata": {},
   "source": [
    "Рассмотрим суммирование рядов через ```summation()```"
   ]
  },
  {
   "cell_type": "code",
   "execution_count": 138,
   "id": "2fb07876",
   "metadata": {},
   "outputs": [
    {
     "data": {
      "text/latex": [
       "$\\displaystyle \\frac{\\pi^{2}}{6}$"
      ],
      "text/plain": [
       "pi**2/6"
      ]
     },
     "execution_count": 138,
     "metadata": {},
     "output_type": "execute_result"
    }
   ],
   "source": [
    "sp.summation(1/n**2,(n,1,sp.oo))"
   ]
  },
  {
   "cell_type": "code",
   "execution_count": 139,
   "id": "b44b54c1",
   "metadata": {},
   "outputs": [
    {
     "data": {
      "text/latex": [
       "$\\displaystyle - \\frac{\\pi^{2}}{12}$"
      ],
      "text/plain": [
       "-pi**2/12"
      ]
     },
     "execution_count": 139,
     "metadata": {},
     "output_type": "execute_result"
    }
   ],
   "source": [
    "sp.summation((-1)**n/n**2,(n,1,sp.oo))"
   ]
  },
  {
   "cell_type": "markdown",
   "id": "86d1fd3f",
   "metadata": {},
   "source": [
    "Невычисленная сумма обозначается Sum."
   ]
  },
  {
   "cell_type": "code",
   "execution_count": 140,
   "id": "31192046",
   "metadata": {},
   "outputs": [
    {
     "data": {
      "text/latex": [
       "$\\displaystyle \\sum_{n=0}^{\\infty} \\frac{x^{n}}{n!} = e^{x}$"
      ],
      "text/plain": [
       "Eq(Sum(x**n/factorial(n), (n, 0, oo)), exp(x))"
      ]
     },
     "execution_count": 140,
     "metadata": {},
     "output_type": "execute_result"
    }
   ],
   "source": [
    "a=sp.Sum(x**n/sp.factorial(n),(n,0,sp.oo))\n",
    "sp.Eq(a,a.doit())"
   ]
  },
  {
   "cell_type": "markdown",
   "id": "fec8e967",
   "metadata": {},
   "source": [
    "**Пример**\n",
    "Аппрoксимация $sin(x)$ отрезком ряда Тейлора."
   ]
  },
  {
   "cell_type": "code",
   "execution_count": 141,
   "id": "7d0a00de",
   "metadata": {},
   "outputs": [
    {
     "name": "stdout",
     "output_type": "stream",
     "text": [
      "x\n",
      "-x**3/6 + x\n",
      "x**5/120 - x**3/6 + x\n",
      "-x**7/5040 + x**5/120 - x**3/6 + x\n",
      "x**9/362880 - x**7/5040 + x**5/120 - x**3/6 + x\n"
     ]
    },
    {
     "data": {
      "image/png": "[encoded data removed]",
      "text/plain": [
       "<Figure size 432x288 with 1 Axes>"
      ]
     },
     "metadata": {
      "needs_background": "light"
     },
     "output_type": "display_data"
    }
   ],
   "source": [
    "fun = sp.sin(x)\n",
    "fun_lambda = sp.lambdify(x, fun)\n",
    "\n",
    "xx = np.linspace(-10, 10, 200)\n",
    "plt.plot(xx, fun_lambda(xx), label=str(fun))\n",
    "plt.grid()\n",
    "plt.ylim([-5, 5])\n",
    "\n",
    "for n in range(2, 11, 2):\n",
    "    tailor = fun.series(n=n).removeO()\n",
    "    tailor_lambda = sp.lambdify(x, tailor)\n",
    "    print(tailor)\n",
    "    plt.plot(xx, tailor_lambda(xx), label='n='+str(n-1))\n",
    "    \n",
    "plt.legend()  \n",
    "pass"
   ]
  },
  {
   "cell_type": "markdown",
   "id": "1ec4a18f",
   "metadata": {},
   "source": [
    "### Обыкновенные дифференциальные уравнения\n",
    "\n",
    "Решим:\n",
    "\n",
    "$x*f''(x) + f'(x) = x^3$\n",
    "\n",
    "$f(1)=0$\n",
    "\n",
    "$f'(2)=1$\n",
    "\n",
    "В данном случае изучим ещё один тип в SymPy - функции"
   ]
  },
  {
   "cell_type": "code",
   "execution_count": 142,
   "id": "b4cb1b6d",
   "metadata": {},
   "outputs": [],
   "source": [
    "x = sp.Symbol('x')"
   ]
  },
  {
   "cell_type": "code",
   "execution_count": 143,
   "id": "0e8e5452",
   "metadata": {},
   "outputs": [
    {
     "data": {
      "text/latex": [
       "$\\displaystyle f{\\left(x \\right)}$"
      ],
      "text/plain": [
       "f(x)"
      ]
     },
     "execution_count": 143,
     "metadata": {},
     "output_type": "execute_result"
    }
   ],
   "source": [
    "f = sp.Function(\"f\")(x)\n",
    "f"
   ]
  },
  {
   "cell_type": "code",
   "execution_count": 144,
   "id": "1b42f3b3",
   "metadata": {},
   "outputs": [
    {
     "data": {
      "text/latex": [
       "$\\displaystyle \\frac{d}{d x} f{\\left(x \\right)}$"
      ],
      "text/plain": [
       "Derivative(f(x), x)"
      ]
     },
     "execution_count": 144,
     "metadata": {},
     "output_type": "execute_result"
    }
   ],
   "source": [
    "f.diff()"
   ]
  },
  {
   "cell_type": "code",
   "execution_count": 145,
   "id": "dea1c19d",
   "metadata": {},
   "outputs": [
    {
     "data": {
      "text/latex": [
       "$\\displaystyle \\int f{\\left(x \\right)}\\, dx$"
      ],
      "text/plain": [
       "Integral(f(x), x)"
      ]
     },
     "execution_count": 145,
     "metadata": {},
     "output_type": "execute_result"
    }
   ],
   "source": [
    "f.integrate()"
   ]
  },
  {
   "cell_type": "markdown",
   "id": "5a200d28",
   "metadata": {},
   "source": [
    "Как и раньше задаем равенство"
   ]
  },
  {
   "cell_type": "code",
   "execution_count": 146,
   "id": "b0eb87ec",
   "metadata": {},
   "outputs": [
    {
     "data": {
      "text/latex": [
       "$\\displaystyle x \\frac{d^{2}}{d x^{2}} f{\\left(x \\right)} + \\frac{d}{d x} f{\\left(x \\right)} = x^{3}$"
      ],
      "text/plain": [
       "Eq(x*Derivative(f(x), (x, 2)) + Derivative(f(x), x), x**3)"
      ]
     },
     "execution_count": 146,
     "metadata": {},
     "output_type": "execute_result"
    }
   ],
   "source": [
    "diff_eq = sp.Eq(x * f.diff(x, 2) + f.diff(x), x**3)\n",
    "diff_eq"
   ]
  },
  {
   "cell_type": "markdown",
   "id": "5ae4ac78",
   "metadata": {},
   "source": [
    "Можно запрашивать как левую, так и правую часть уравнения"
   ]
  },
  {
   "cell_type": "code",
   "execution_count": 147,
   "id": "4f78dcec",
   "metadata": {},
   "outputs": [
    {
     "data": {
      "text/latex": [
       "$\\displaystyle x^{3}$"
      ],
      "text/plain": [
       "x**3"
      ]
     },
     "execution_count": 147,
     "metadata": {},
     "output_type": "execute_result"
    }
   ],
   "source": [
    "diff_eq.rhs"
   ]
  },
  {
   "cell_type": "code",
   "execution_count": 148,
   "id": "dcc62f77",
   "metadata": {},
   "outputs": [
    {
     "data": {
      "text/latex": [
       "$\\displaystyle x \\frac{d^{2}}{d x^{2}} f{\\left(x \\right)} + \\frac{d}{d x} f{\\left(x \\right)}$"
      ],
      "text/plain": [
       "x*Derivative(f(x), (x, 2)) + Derivative(f(x), x)"
      ]
     },
     "execution_count": 148,
     "metadata": {},
     "output_type": "execute_result"
    }
   ],
   "source": [
    "diff_eq.lhs"
   ]
  },
  {
   "cell_type": "markdown",
   "id": "3eccb51f",
   "metadata": {},
   "source": [
    "Для нахождения решения используется ```dsolve()```"
   ]
  },
  {
   "cell_type": "code",
   "execution_count": 149,
   "id": "243a5e8a",
   "metadata": {},
   "outputs": [
    {
     "data": {
      "text/latex": [
       "$\\displaystyle f{\\left(x \\right)} = C_{1} + C_{2} \\log{\\left(x \\right)} + \\frac{x^{4}}{16}$"
      ],
      "text/plain": [
       "Eq(f(x), C1 + C2*log(x) + x**4/16)"
      ]
     },
     "execution_count": 149,
     "metadata": {},
     "output_type": "execute_result"
    }
   ],
   "source": [
    "sol = sp.dsolve(diff_eq, f)\n",
    "sol"
   ]
  },
  {
   "cell_type": "code",
   "execution_count": 150,
   "id": "c622d2f5",
   "metadata": {},
   "outputs": [
    {
     "data": {
      "text/plain": [
       "sympy.core.relational.Equality"
      ]
     },
     "execution_count": 150,
     "metadata": {},
     "output_type": "execute_result"
    }
   ],
   "source": [
    "type(sol)"
   ]
  },
  {
   "cell_type": "code",
   "execution_count": 151,
   "id": "dcd0d4de",
   "metadata": {},
   "outputs": [
    {
     "data": {
      "text/latex": [
       "$\\displaystyle C_{1} + C_{2} \\log{\\left(x \\right)} + \\frac{x^{4}}{16}$"
      ],
      "text/plain": [
       "C1 + C2*log(x) + x**4/16"
      ]
     },
     "execution_count": 151,
     "metadata": {},
     "output_type": "execute_result"
    }
   ],
   "source": [
    "exp = sol.rhs\n",
    "exp"
   ]
  },
  {
   "cell_type": "markdown",
   "id": "139b289e",
   "metadata": {},
   "source": [
    "Для определения свободных переменных можно воспользоваться ```free_symbols```"
   ]
  },
  {
   "cell_type": "code",
   "execution_count": 152,
   "id": "e4906fd0",
   "metadata": {},
   "outputs": [
    {
     "data": {
      "text/plain": [
       "{C1, C2, x}"
      ]
     },
     "execution_count": 152,
     "metadata": {},
     "output_type": "execute_result"
    }
   ],
   "source": [
    "exp.free_symbols"
   ]
  },
  {
   "cell_type": "code",
   "execution_count": 153,
   "id": "c4916f6d",
   "metadata": {},
   "outputs": [
    {
     "data": {
      "text/latex": [
       "$\\displaystyle C_{1}$"
      ],
      "text/plain": [
       "C1"
      ]
     },
     "execution_count": 153,
     "metadata": {},
     "output_type": "execute_result"
    }
   ],
   "source": [
    "C1, C2, _ = tuple(exp.free_symbols)\n",
    "# то, что произошло выше называется распаковкой элементов\n",
    "C1"
   ]
  },
  {
   "cell_type": "markdown",
   "id": "8f189970",
   "metadata": {},
   "source": [
    "Можно вычислять выражения подставляя в свободные переменные"
   ]
  },
  {
   "cell_type": "code",
   "execution_count": 154,
   "id": "bfbcd4d2",
   "metadata": {},
   "outputs": [
    {
     "data": {
      "text/latex": [
       "$\\displaystyle \\frac{1}{16}$"
      ],
      "text/plain": [
       "1/16"
      ]
     },
     "execution_count": 154,
     "metadata": {},
     "output_type": "execute_result"
    }
   ],
   "source": [
    "exp.subs(C1, 0).subs(C2, 1)"
   ]
  },
  {
   "cell_type": "code",
   "execution_count": 155,
   "id": "9d3de123",
   "metadata": {},
   "outputs": [
    {
     "data": {
      "text/latex": [
       "$\\displaystyle \\frac{1}{16}$"
      ],
      "text/plain": [
       "1/16"
      ]
     },
     "execution_count": 155,
     "metadata": {},
     "output_type": "execute_result"
    }
   ],
   "source": [
    "exp.subs({C1: 0, C2: 1})"
   ]
  },
  {
   "cell_type": "markdown",
   "id": "81c30cab",
   "metadata": {},
   "source": [
    "Зададим начальные условия через специальный синтаксис"
   ]
  },
  {
   "cell_type": "code",
   "execution_count": 156,
   "id": "5d9e9e68",
   "metadata": {},
   "outputs": [
    {
     "data": {
      "text/plain": [
       "{f(1): 0, Subs(Derivative(f(x), x), x, 2): 1}"
      ]
     },
     "execution_count": 156,
     "metadata": {},
     "output_type": "execute_result"
    }
   ],
   "source": [
    "ics = {f.subs(x,1): 0, f.diff().subs(x,2): 1}\n",
    "ics"
   ]
  },
  {
   "cell_type": "markdown",
   "id": "224d672a",
   "metadata": {},
   "source": [
    "Теперь мы можем решить уравнение с подстановкой условий"
   ]
  },
  {
   "cell_type": "code",
   "execution_count": 157,
   "id": "fe7fbb11",
   "metadata": {},
   "outputs": [
    {
     "data": {
      "text/latex": [
       "$\\displaystyle \\frac{x^{4}}{16} - 2 \\log{\\left(x \\right)} - \\frac{1}{16}$"
      ],
      "text/plain": [
       "x**4/16 - 2*log(x) - 1/16"
      ]
     },
     "execution_count": 157,
     "metadata": {},
     "output_type": "execute_result"
    }
   ],
   "source": [
    "ivp = sp.dsolve(diff_eq, ics=ics).rhs\n",
    "ivp"
   ]
  },
  {
   "cell_type": "markdown",
   "id": "fabe10a6",
   "metadata": {},
   "source": [
    "Проверим себя, подставив точки из условия"
   ]
  },
  {
   "cell_type": "code",
   "execution_count": 158,
   "id": "fca6ecc6",
   "metadata": {},
   "outputs": [
    {
     "data": {
      "text/latex": [
       "$\\displaystyle 0$"
      ],
      "text/plain": [
       "0"
      ]
     },
     "execution_count": 158,
     "metadata": {},
     "output_type": "execute_result"
    }
   ],
   "source": [
    "ivp.subs(x, 1)"
   ]
  },
  {
   "cell_type": "code",
   "execution_count": 159,
   "id": "e0097eea",
   "metadata": {},
   "outputs": [
    {
     "data": {
      "text/latex": [
       "$\\displaystyle 1$"
      ],
      "text/plain": [
       "1"
      ]
     },
     "execution_count": 159,
     "metadata": {},
     "output_type": "execute_result"
    }
   ],
   "source": [
    "ivp.diff().subs(x,2)"
   ]
  },
  {
   "cell_type": "code",
   "execution_count": 160,
   "id": "5ee22b3e",
   "metadata": {},
   "outputs": [
    {
     "data": {
      "text/latex": [
       "$\\displaystyle x^{3}$"
      ],
      "text/plain": [
       "x**3"
      ]
     },
     "execution_count": 160,
     "metadata": {},
     "output_type": "execute_result"
    }
   ],
   "source": [
    "(x * ivp.diff(x, 2) + ivp.diff()).simplify()"
   ]
  },
  {
   "cell_type": "markdown",
   "id": "23a8c6ea",
   "metadata": {},
   "source": [
    "### Лямбды и Рисование графиков"
   ]
  },
  {
   "cell_type": "markdown",
   "id": "b4efe6b8",
   "metadata": {},
   "source": [
    "Еще одна прикольная и полезная штука ```lambdified```"
   ]
  },
  {
   "cell_type": "code",
   "execution_count": 161,
   "id": "2acfd84d",
   "metadata": {},
   "outputs": [
    {
     "data": {
      "text/plain": [
       "<function _lambdifygenerated(x)>"
      ]
     },
     "execution_count": 161,
     "metadata": {},
     "output_type": "execute_result"
    }
   ],
   "source": [
    "expr = sp.pi * x ** 2 + 5 * x + sp.E\n",
    "lambdified_expr = sp.lambdify(x, expr)\n",
    "lambdified_expr "
   ]
  },
  {
   "cell_type": "code",
   "execution_count": 162,
   "id": "335a4c1d",
   "metadata": {},
   "outputs": [
    {
     "data": {
      "text/latex": [
       "$\\displaystyle \\pi x^{2} + 5 x + e$"
      ],
      "text/plain": [
       "pi*x**2 + 5*x + E"
      ]
     },
     "execution_count": 162,
     "metadata": {},
     "output_type": "execute_result"
    }
   ],
   "source": [
    "expr"
   ]
  },
  {
   "cell_type": "markdown",
   "id": "98b159e0",
   "metadata": {},
   "source": [
    "Иначе говоря теперь это вычислимая в не символьных вычислениях функция"
   ]
  },
  {
   "cell_type": "code",
   "execution_count": 163,
   "id": "6fd6819d",
   "metadata": {},
   "outputs": [
    {
     "data": {
      "text/plain": [
       "45.99261571076719"
      ]
     },
     "execution_count": 163,
     "metadata": {},
     "output_type": "execute_result"
    }
   ],
   "source": [
    "lambdified_expr(3)"
   ]
  },
  {
   "cell_type": "markdown",
   "id": "df2460b1",
   "metadata": {},
   "source": [
    "Заметим что мы рассмотрели квадратное уравнение, значит парабола, проверим это"
   ]
  },
  {
   "cell_type": "code",
   "execution_count": 164,
   "id": "46885309",
   "metadata": {},
   "outputs": [],
   "source": [
    "import numpy as np"
   ]
  },
  {
   "cell_type": "code",
   "execution_count": 165,
   "id": "ecfff90d",
   "metadata": {},
   "outputs": [],
   "source": [
    "points = np.linspace(-20, 20, 1000)"
   ]
  },
  {
   "cell_type": "markdown",
   "id": "1f22b93d",
   "metadata": {},
   "source": [
    "Теперь передав множество точек, мы получим значения этих точек после навешивания функции"
   ]
  },
  {
   "cell_type": "code",
   "execution_count": 166,
   "id": "df0e145a",
   "metadata": {},
   "outputs": [
    {
     "data": {
      "text/plain": [
       "array([1.15935534e+03, 1.15452900e+03, 1.14971273e+03, 1.14490653e+03,\n",
       "       1.14011041e+03, 1.13532436e+03, 1.13054838e+03, 1.12578248e+03,\n",
       "       1.12102665e+03, 1.11628089e+03, 1.11154521e+03, 1.10681960e+03,\n",
       "       1.10210406e+03, 1.09739860e+03, 1.09270321e+03, 1.08801789e+03,\n",
       "       1.08334264e+03, 1.07867747e+03, 1.07402237e+03, 1.06937735e+03,\n",
       "       1.06474240e+03, 1.06011752e+03, 1.05550271e+03, 1.05089798e+03,\n",
       "       1.04630332e+03, 1.04171874e+03, 1.03714423e+03, 1.03257979e+03,\n",
       "       1.02802542e+03, 1.02348113e+03, 1.01894691e+03, 1.01442276e+03,\n",
       "       1.00990869e+03, 1.00540469e+03, 1.00091076e+03, 9.96426912e+02,\n",
       "       9.91953132e+02, 9.87489425e+02, 9.83035792e+02, 9.78592231e+02,\n",
       "       9.74158745e+02, 9.69735331e+02, 9.65321990e+02, 9.60918723e+02,\n",
       "       9.56525529e+02, 9.52142408e+02, 9.47769361e+02, 9.43406387e+02,\n",
       "       9.39053486e+02, 9.34710658e+02, 9.30377903e+02, 9.26055222e+02,\n",
       "       9.21742614e+02, 9.17440079e+02, 9.13147617e+02, 9.08865229e+02,\n",
       "       9.04592913e+02, 9.00330671e+02, 8.96078503e+02, 8.91836407e+02,\n",
       "       8.87604385e+02, 8.83382436e+02, 8.79170560e+02, 8.74968758e+02,\n",
       "       8.70777028e+02, 8.66595372e+02, 8.62423789e+02, 8.58262280e+02,\n",
       "       8.54110843e+02, 8.49969480e+02, 8.45838190e+02, 8.41716973e+02,\n",
       "       8.37605830e+02, 8.33504760e+02, 8.29413763e+02, 8.25332839e+02,\n",
       "       8.21261988e+02, 8.17201211e+02, 8.13150507e+02, 8.09109876e+02,\n",
       "       8.05079318e+02, 8.01058834e+02, 7.97048423e+02, 7.93048085e+02,\n",
       "       7.89057820e+02, 7.85077629e+02, 7.81107511e+02, 7.77147466e+02,\n",
       "       7.73197494e+02, 7.69257595e+02, 7.65327770e+02, 7.61408018e+02,\n",
       "       7.57498339e+02, 7.53598734e+02, 7.49709201e+02, 7.45829742e+02,\n",
       "       7.41960356e+02, 7.38101044e+02, 7.34251804e+02, 7.30412638e+02,\n",
       "       7.26583545e+02, 7.22764525e+02, 7.18955579e+02, 7.15156706e+02,\n",
       "       7.11367906e+02, 7.07589179e+02, 7.03820525e+02, 7.00061945e+02,\n",
       "       6.96313438e+02, 6.92575004e+02, 6.88846643e+02, 6.85128356e+02,\n",
       "       6.81420142e+02, 6.77722001e+02, 6.74033933e+02, 6.70355939e+02,\n",
       "       6.66688018e+02, 6.63030170e+02, 6.59382395e+02, 6.55744693e+02,\n",
       "       6.52117065e+02, 6.48499510e+02, 6.44892028e+02, 6.41294619e+02,\n",
       "       6.37707284e+02, 6.34130022e+02, 6.30562833e+02, 6.27005717e+02,\n",
       "       6.23458675e+02, 6.19921706e+02, 6.16394810e+02, 6.12877987e+02,\n",
       "       6.09371238e+02, 6.05874561e+02, 6.02387958e+02, 5.98911428e+02,\n",
       "       5.95444972e+02, 5.91988589e+02, 5.88542278e+02, 5.85106042e+02,\n",
       "       5.81679878e+02, 5.78263788e+02, 5.74857770e+02, 5.71461826e+02,\n",
       "       5.68075956e+02, 5.64700158e+02, 5.61334434e+02, 5.57978783e+02,\n",
       "       5.54633205e+02, 5.51297701e+02, 5.47972269e+02, 5.44656911e+02,\n",
       "       5.41351626e+02, 5.38056415e+02, 5.34771276e+02, 5.31496211e+02,\n",
       "       5.28231219e+02, 5.24976301e+02, 5.21731455e+02, 5.18496683e+02,\n",
       "       5.15271984e+02, 5.12057358e+02, 5.08852806e+02, 5.05658327e+02,\n",
       "       5.02473921e+02, 4.99299588e+02, 4.96135328e+02, 4.92981142e+02,\n",
       "       4.89837029e+02, 4.86702989e+02, 4.83579022e+02, 4.80465129e+02,\n",
       "       4.77361309e+02, 4.74267562e+02, 4.71183888e+02, 4.68110287e+02,\n",
       "       4.65046760e+02, 4.61993306e+02, 4.58949925e+02, 4.55916618e+02,\n",
       "       4.52893383e+02, 4.49880222e+02, 4.46877134e+02, 4.43884120e+02,\n",
       "       4.40901178e+02, 4.37928310e+02, 4.34965515e+02, 4.32012794e+02,\n",
       "       4.29070145e+02, 4.26137570e+02, 4.23215068e+02, 4.20302639e+02,\n",
       "       4.17400284e+02, 4.14508001e+02, 4.11625792e+02, 4.08753657e+02,\n",
       "       4.05891594e+02, 4.03039605e+02, 4.00197688e+02, 3.97365846e+02,\n",
       "       3.94544076e+02, 3.91732379e+02, 3.88930756e+02, 3.86139206e+02,\n",
       "       3.83357730e+02, 3.80586326e+02, 3.77824996e+02, 3.75073739e+02,\n",
       "       3.72332555e+02, 3.69601444e+02, 3.66880407e+02, 3.64169443e+02,\n",
       "       3.61468552e+02, 3.58777734e+02, 3.56096990e+02, 3.53426319e+02,\n",
       "       3.50765721e+02, 3.48115196e+02, 3.45474745e+02, 3.42844366e+02,\n",
       "       3.40224061e+02, 3.37613830e+02, 3.35013671e+02, 3.32423586e+02,\n",
       "       3.29843574e+02, 3.27273635e+02, 3.24713769e+02, 3.22163977e+02,\n",
       "       3.19624258e+02, 3.17094612e+02, 3.14575039e+02, 3.12065540e+02,\n",
       "       3.09566114e+02, 3.07076761e+02, 3.04597481e+02, 3.02128274e+02,\n",
       "       2.99669141e+02, 2.97220081e+02, 2.94781094e+02, 2.92352181e+02,\n",
       "       2.89933340e+02, 2.87524573e+02, 2.85125879e+02, 2.82737259e+02,\n",
       "       2.80358711e+02, 2.77990237e+02, 2.75631836e+02, 2.73283508e+02,\n",
       "       2.70945254e+02, 2.68617073e+02, 2.66298965e+02, 2.63990930e+02,\n",
       "       2.61692968e+02, 2.59405080e+02, 2.57127265e+02, 2.54859523e+02,\n",
       "       2.52601854e+02, 2.50354259e+02, 2.48116737e+02, 2.45889288e+02,\n",
       "       2.43671912e+02, 2.41464610e+02, 2.39267380e+02, 2.37080224e+02,\n",
       "       2.34903142e+02, 2.32736132e+02, 2.30579196e+02, 2.28432333e+02,\n",
       "       2.26295543e+02, 2.24168826e+02, 2.22052183e+02, 2.19945613e+02,\n",
       "       2.17849116e+02, 2.15762692e+02, 2.13686342e+02, 2.11620065e+02,\n",
       "       2.09563861e+02, 2.07517730e+02, 2.05481673e+02, 2.03455688e+02,\n",
       "       2.01439777e+02, 1.99433939e+02, 1.97438175e+02, 1.95452484e+02,\n",
       "       1.93476865e+02, 1.91511321e+02, 1.89555849e+02, 1.87610450e+02,\n",
       "       1.85675125e+02, 1.83749873e+02, 1.81834695e+02, 1.79929589e+02,\n",
       "       1.78034557e+02, 1.76149598e+02, 1.74274712e+02, 1.72409900e+02,\n",
       "       1.70555160e+02, 1.68710494e+02, 1.66875901e+02, 1.65051382e+02,\n",
       "       1.63236935e+02, 1.61432562e+02, 1.59638262e+02, 1.57854036e+02,\n",
       "       1.56079882e+02, 1.54315802e+02, 1.52561795e+02, 1.50817861e+02,\n",
       "       1.49084001e+02, 1.47360214e+02, 1.45646499e+02, 1.43942859e+02,\n",
       "       1.42249291e+02, 1.40565797e+02, 1.38892376e+02, 1.37229028e+02,\n",
       "       1.35575753e+02, 1.33932552e+02, 1.32299423e+02, 1.30676369e+02,\n",
       "       1.29063387e+02, 1.27460478e+02, 1.25867643e+02, 1.24284881e+02,\n",
       "       1.22712192e+02, 1.21149577e+02, 1.19597034e+02, 1.18054565e+02,\n",
       "       1.16522169e+02, 1.14999847e+02, 1.13487597e+02, 1.11985421e+02,\n",
       "       1.10493318e+02, 1.09011289e+02, 1.07539332e+02, 1.06077449e+02,\n",
       "       1.04625639e+02, 1.03183902e+02, 1.01752239e+02, 1.00330648e+02,\n",
       "       9.89191313e+01, 9.75176875e+01, 9.61263169e+01, 9.47450195e+01,\n",
       "       9.33737954e+01, 9.20126445e+01, 9.06615669e+01, 8.93205624e+01,\n",
       "       8.79896312e+01, 8.66687733e+01, 8.53579885e+01, 8.40572770e+01,\n",
       "       8.27666388e+01, 8.14860737e+01, 8.02155819e+01, 7.89551634e+01,\n",
       "       7.77048180e+01, 7.64645459e+01, 7.52343471e+01, 7.40142214e+01,\n",
       "       7.28041690e+01, 7.16041898e+01, 7.04142839e+01, 6.92344512e+01,\n",
       "       6.80646917e+01, 6.69050055e+01, 6.57553925e+01, 6.46158527e+01,\n",
       "       6.34863862e+01, 6.23669929e+01, 6.12576728e+01, 6.01584259e+01,\n",
       "       5.90692523e+01, 5.79901520e+01, 5.69211248e+01, 5.58621709e+01,\n",
       "       5.48132902e+01, 5.37744828e+01, 5.27457486e+01, 5.17270876e+01,\n",
       "       5.07184999e+01, 4.97199853e+01, 4.87315441e+01, 4.77531760e+01,\n",
       "       4.67848812e+01, 4.58266596e+01, 4.48785113e+01, 4.39404362e+01,\n",
       "       4.30124343e+01, 4.20945056e+01, 4.11866502e+01, 4.02888680e+01,\n",
       "       3.94011591e+01, 3.85235233e+01, 3.76559609e+01, 3.67984716e+01,\n",
       "       3.59510556e+01, 3.51137128e+01, 3.42864432e+01, 3.34692469e+01,\n",
       "       3.26621238e+01, 3.18650740e+01, 3.10780974e+01, 3.03011940e+01,\n",
       "       2.95343638e+01, 2.87776069e+01, 2.80309232e+01, 2.72943127e+01,\n",
       "       2.65677755e+01, 2.58513115e+01, 2.51449208e+01, 2.44486032e+01,\n",
       "       2.37623589e+01, 2.30861879e+01, 2.24200901e+01, 2.17640655e+01,\n",
       "       2.11181141e+01, 2.04822360e+01, 1.98564311e+01, 1.92406994e+01,\n",
       "       1.86350410e+01, 1.80394558e+01, 1.74539438e+01, 1.68785051e+01,\n",
       "       1.63131396e+01, 1.57578473e+01, 1.52126283e+01, 1.46774825e+01,\n",
       "       1.41524099e+01, 1.36374106e+01, 1.31324845e+01, 1.26376316e+01,\n",
       "       1.21528520e+01, 1.16781456e+01, 1.12135124e+01, 1.07589525e+01,\n",
       "       1.03144658e+01, 9.88005229e+00, 9.45571205e+00, 9.04144505e+00,\n",
       "       8.63725128e+00, 8.24313074e+00, 7.85908343e+00, 7.48510935e+00,\n",
       "       7.12120851e+00, 6.76738090e+00, 6.42362653e+00, 6.08994539e+00,\n",
       "       5.76633748e+00, 5.45280280e+00, 5.14934136e+00, 4.85595314e+00,\n",
       "       4.57263817e+00, 4.29939642e+00, 4.03622791e+00, 3.78313263e+00,\n",
       "       3.54011058e+00, 3.30716177e+00, 3.08428619e+00, 2.87148384e+00,\n",
       "       2.66875472e+00, 2.47609884e+00, 2.29351619e+00, 2.12100678e+00,\n",
       "       1.95857059e+00, 1.80620764e+00, 1.66391792e+00, 1.53170144e+00,\n",
       "       1.40955819e+00, 1.29748817e+00, 1.19549138e+00, 1.10356783e+00,\n",
       "       1.02171751e+00, 9.49940420e-01, 8.88236565e-01, 8.36605943e-01,\n",
       "       7.95048554e-01, 7.63564398e-01, 7.42153474e-01, 7.30815784e-01,\n",
       "       7.29551327e-01, 7.38360102e-01, 7.57242110e-01, 7.86197351e-01,\n",
       "       8.25225826e-01, 8.74327532e-01, 9.33502472e-01, 1.00275065e+00,\n",
       "       1.08207205e+00, 1.17146669e+00, 1.27093456e+00, 1.38047566e+00,\n",
       "       1.50009000e+00, 1.62977757e+00, 1.76953837e+00, 1.91937241e+00,\n",
       "       2.07927968e+00, 2.24926018e+00, 2.42931392e+00, 2.61944088e+00,\n",
       "       2.81964108e+00, 3.02991452e+00, 3.25026118e+00, 3.48068108e+00,\n",
       "       3.72117421e+00, 3.97174058e+00, 4.23238017e+00, 4.50309300e+00,\n",
       "       4.78387907e+00, 5.07473836e+00, 5.37567089e+00, 5.68667666e+00,\n",
       "       6.00775565e+00, 6.33890788e+00, 6.68013334e+00, 7.03143203e+00,\n",
       "       7.39280396e+00, 7.76424912e+00, 8.14576751e+00, 8.53735913e+00,\n",
       "       8.93902399e+00, 9.35076208e+00, 9.77257341e+00, 1.02044580e+01,\n",
       "       1.06464158e+01, 1.10984468e+01, 1.15605510e+01, 1.20327285e+01,\n",
       "       1.25149792e+01, 1.30073032e+01, 1.35097004e+01, 1.40221708e+01,\n",
       "       1.45447145e+01, 1.50773313e+01, 1.56200215e+01, 1.61727848e+01,\n",
       "       1.67356214e+01, 1.73085312e+01, 1.78915143e+01, 1.84845705e+01,\n",
       "       1.90877001e+01, 1.97009028e+01, 2.03241788e+01, 2.09575280e+01,\n",
       "       2.16009504e+01, 2.22544461e+01, 2.29180150e+01, 2.35916572e+01,\n",
       "       2.42753726e+01, 2.49691612e+01, 2.56730230e+01, 2.63869581e+01,\n",
       "       2.71109664e+01, 2.78450480e+01, 2.85892027e+01, 2.93434307e+01,\n",
       "       3.01077320e+01, 3.08821065e+01, 3.16665542e+01, 3.24610751e+01,\n",
       "       3.32656693e+01, 3.40803367e+01, 3.49050773e+01, 3.57398912e+01,\n",
       "       3.65847783e+01, 3.74397386e+01, 3.83047722e+01, 3.91798790e+01,\n",
       "       4.00650590e+01, 4.09603123e+01, 4.18656388e+01, 4.27810385e+01,\n",
       "       4.37065115e+01, 4.46420577e+01, 4.55876772e+01, 4.65433698e+01,\n",
       "       4.75091357e+01, 4.84849748e+01, 4.94708872e+01, 5.04668728e+01,\n",
       "       5.14729316e+01, 5.24890637e+01, 5.35152690e+01, 5.45515475e+01,\n",
       "       5.55978993e+01, 5.66543243e+01, 5.77208225e+01, 5.87973940e+01,\n",
       "       5.98840387e+01, 6.09807566e+01, 6.20875478e+01, 6.32044122e+01,\n",
       "       6.43313498e+01, 6.54683606e+01, 6.66154447e+01, 6.77726021e+01,\n",
       "       6.89398326e+01, 7.01171364e+01, 7.13045134e+01, 7.25019637e+01,\n",
       "       7.37094872e+01, 7.49270839e+01, 7.61547538e+01, 7.73924970e+01,\n",
       "       7.86403135e+01, 7.98982031e+01, 8.11661660e+01, 8.24442021e+01,\n",
       "       8.37323115e+01, 8.50304940e+01, 8.63387499e+01, 8.76570789e+01,\n",
       "       8.89854812e+01, 9.03239567e+01, 9.16725055e+01, 9.30311274e+01,\n",
       "       9.43998227e+01, 9.57785911e+01, 9.71674328e+01, 9.85663477e+01,\n",
       "       9.99753358e+01, 1.01394397e+02, 1.02823532e+02, 1.04262740e+02,\n",
       "       1.05712021e+02, 1.07171375e+02, 1.08640803e+02, 1.10120303e+02,\n",
       "       1.11609877e+02, 1.13109525e+02, 1.14619245e+02, 1.16139039e+02,\n",
       "       1.17668906e+02, 1.19208846e+02, 1.20758859e+02, 1.22318946e+02,\n",
       "       1.23889106e+02, 1.25469339e+02, 1.27059645e+02, 1.28660025e+02,\n",
       "       1.30270478e+02, 1.31891004e+02, 1.33521603e+02, 1.35162275e+02,\n",
       "       1.36813021e+02, 1.38473840e+02, 1.40144732e+02, 1.41825698e+02,\n",
       "       1.43516736e+02, 1.45217848e+02, 1.46929034e+02, 1.48650292e+02,\n",
       "       1.50381623e+02, 1.52123028e+02, 1.53874506e+02, 1.55636058e+02,\n",
       "       1.57407682e+02, 1.59189380e+02, 1.60981151e+02, 1.62782995e+02,\n",
       "       1.64594913e+02, 1.66416903e+02, 1.68248967e+02, 1.70091104e+02,\n",
       "       1.71943315e+02, 1.73805598e+02, 1.75677955e+02, 1.77560385e+02,\n",
       "       1.79452889e+02, 1.81355465e+02, 1.83268115e+02, 1.85190838e+02,\n",
       "       1.87123634e+02, 1.89066504e+02, 1.91019447e+02, 1.92982463e+02,\n",
       "       1.94955552e+02, 1.96938714e+02, 1.98931950e+02, 2.00935259e+02,\n",
       "       2.02948641e+02, 2.04972096e+02, 2.07005625e+02, 2.09049227e+02,\n",
       "       2.11102902e+02, 2.13166650e+02, 2.15240471e+02, 2.17324366e+02,\n",
       "       2.19418334e+02, 2.21522375e+02, 2.23636490e+02, 2.25760677e+02,\n",
       "       2.27894938e+02, 2.30039273e+02, 2.32193680e+02, 2.34358161e+02,\n",
       "       2.36532714e+02, 2.38717341e+02, 2.40912042e+02, 2.43116815e+02,\n",
       "       2.45331662e+02, 2.47556582e+02, 2.49791575e+02, 2.52036642e+02,\n",
       "       2.54291782e+02, 2.56556994e+02, 2.58832281e+02, 2.61117640e+02,\n",
       "       2.63413073e+02, 2.65718579e+02, 2.68034158e+02, 2.70359810e+02,\n",
       "       2.72695536e+02, 2.75041334e+02, 2.77397206e+02, 2.79763152e+02,\n",
       "       2.82139170e+02, 2.84525262e+02, 2.86921427e+02, 2.89327665e+02,\n",
       "       2.91743977e+02, 2.94170361e+02, 2.96606819e+02, 2.99053350e+02,\n",
       "       3.01509955e+02, 3.03976632e+02, 3.06453383e+02, 3.08940207e+02,\n",
       "       3.11437104e+02, 3.13944075e+02, 3.16461119e+02, 3.18988236e+02,\n",
       "       3.21525426e+02, 3.24072689e+02, 3.26630026e+02, 3.29197436e+02,\n",
       "       3.31774919e+02, 3.34362476e+02, 3.36960105e+02, 3.39567808e+02,\n",
       "       3.42185584e+02, 3.44813433e+02, 3.47451356e+02, 3.50099352e+02,\n",
       "       3.52757421e+02, 3.55425563e+02, 3.58103779e+02, 3.60792067e+02,\n",
       "       3.63490429e+02, 3.66198864e+02, 3.68917373e+02, 3.71645955e+02,\n",
       "       3.74384609e+02, 3.77133338e+02, 3.79892139e+02, 3.82661013e+02,\n",
       "       3.85439961e+02, 3.88228982e+02, 3.91028077e+02, 3.93837244e+02,\n",
       "       3.96656485e+02, 3.99485799e+02, 4.02325186e+02, 4.05174647e+02,\n",
       "       4.08034180e+02, 4.10903787e+02, 4.13783467e+02, 4.16673221e+02,\n",
       "       4.19573047e+02, 4.22482947e+02, 4.25402920e+02, 4.28332967e+02,\n",
       "       4.31273086e+02, 4.34223279e+02, 4.37183545e+02, 4.40153884e+02,\n",
       "       4.43134297e+02, 4.46124782e+02, 4.49125341e+02, 4.52135973e+02,\n",
       "       4.55156679e+02, 4.58187457e+02, 4.61228309e+02, 4.64279234e+02,\n",
       "       4.67340233e+02, 4.70411304e+02, 4.73492449e+02, 4.76583667e+02,\n",
       "       4.79684958e+02, 4.82796323e+02, 4.85917761e+02, 4.89049272e+02,\n",
       "       4.92190856e+02, 4.95342513e+02, 4.98504244e+02, 5.01676048e+02,\n",
       "       5.04857925e+02, 5.08049875e+02, 5.11251899e+02, 5.14463996e+02,\n",
       "       5.17686166e+02, 5.20918409e+02, 5.24160726e+02, 5.27413115e+02,\n",
       "       5.30675578e+02, 5.33948115e+02, 5.37230724e+02, 5.40523407e+02,\n",
       "       5.43826163e+02, 5.47138992e+02, 5.50461894e+02, 5.53794870e+02,\n",
       "       5.57137919e+02, 5.60491041e+02, 5.63854236e+02, 5.67227505e+02,\n",
       "       5.70610847e+02, 5.74004262e+02, 5.77407750e+02, 5.80821311e+02,\n",
       "       5.84244946e+02, 5.87678654e+02, 5.91122435e+02, 5.94576290e+02,\n",
       "       5.98040217e+02, 6.01514218e+02, 6.04998292e+02, 6.08492440e+02,\n",
       "       6.11996660e+02, 6.15510954e+02, 6.19035321e+02, 6.22569761e+02,\n",
       "       6.26114275e+02, 6.29668862e+02, 6.33233522e+02, 6.36808255e+02,\n",
       "       6.40393061e+02, 6.43987941e+02, 6.47592894e+02, 6.51207920e+02,\n",
       "       6.54833019e+02, 6.58468192e+02, 6.62113438e+02, 6.65768757e+02,\n",
       "       6.69434149e+02, 6.73109615e+02, 6.76795154e+02, 6.80490766e+02,\n",
       "       6.84196451e+02, 6.87912209e+02, 6.91638041e+02, 6.95373946e+02,\n",
       "       6.99119924e+02, 7.02875976e+02, 7.06642100e+02, 7.10418298e+02,\n",
       "       7.14204569e+02, 7.18000914e+02, 7.21807331e+02, 7.25623822e+02,\n",
       "       7.29450386e+02, 7.33287023e+02, 7.37133734e+02, 7.40990517e+02,\n",
       "       7.44857374e+02, 7.48734305e+02, 7.52621308e+02, 7.56518385e+02,\n",
       "       7.60425535e+02, 7.64342758e+02, 7.68270054e+02, 7.72207424e+02,\n",
       "       7.76154867e+02, 7.80112383e+02, 7.84079972e+02, 7.88057634e+02,\n",
       "       7.92045370e+02, 7.96043179e+02, 8.00051061e+02, 8.04069017e+02,\n",
       "       8.08097046e+02, 8.12135148e+02, 8.16183323e+02, 8.20241571e+02,\n",
       "       8.24309893e+02, 8.28388288e+02, 8.32476756e+02, 8.36575297e+02,\n",
       "       8.40683912e+02, 8.44802599e+02, 8.48931360e+02, 8.53070195e+02,\n",
       "       8.57219102e+02, 8.61378083e+02, 8.65547137e+02, 8.69726264e+02,\n",
       "       8.73915464e+02, 8.78114738e+02, 8.82324085e+02, 8.86543505e+02,\n",
       "       8.90772998e+02, 8.95012565e+02, 8.99262205e+02, 9.03521918e+02,\n",
       "       9.07791704e+02, 9.12071564e+02, 9.16361496e+02, 9.20661502e+02,\n",
       "       9.24971582e+02, 9.29291734e+02, 9.33621960e+02, 9.37962259e+02,\n",
       "       9.42312631e+02, 9.46673076e+02, 9.51043595e+02, 9.55424187e+02,\n",
       "       9.59814852e+02, 9.64215590e+02, 9.68626402e+02, 9.73047286e+02,\n",
       "       9.77478244e+02, 9.81919276e+02, 9.86370380e+02, 9.90831558e+02,\n",
       "       9.95302809e+02, 9.99784133e+02, 1.00427553e+03, 1.00877700e+03,\n",
       "       1.01328854e+03, 1.01781016e+03, 1.02234185e+03, 1.02688362e+03,\n",
       "       1.03143545e+03, 1.03599736e+03, 1.04056935e+03, 1.04515140e+03,\n",
       "       1.04974353e+03, 1.05434574e+03, 1.05895801e+03, 1.06358036e+03,\n",
       "       1.06821278e+03, 1.07285528e+03, 1.07750785e+03, 1.08217049e+03,\n",
       "       1.08684321e+03, 1.09152600e+03, 1.09621886e+03, 1.10092179e+03,\n",
       "       1.10563480e+03, 1.11035788e+03, 1.11509104e+03, 1.11983427e+03,\n",
       "       1.12458757e+03, 1.12935094e+03, 1.13412439e+03, 1.13890791e+03,\n",
       "       1.14370151e+03, 1.14850517e+03, 1.15331891e+03, 1.15814273e+03,\n",
       "       1.16297662e+03, 1.16782058e+03, 1.17267461e+03, 1.17753872e+03,\n",
       "       1.18241290e+03, 1.18729715e+03, 1.19219148e+03, 1.19709588e+03,\n",
       "       1.20201035e+03, 1.20693490e+03, 1.21186952e+03, 1.21681421e+03,\n",
       "       1.22176898e+03, 1.22673382e+03, 1.23170873e+03, 1.23669371e+03,\n",
       "       1.24168877e+03, 1.24669391e+03, 1.25170911e+03, 1.25673439e+03,\n",
       "       1.26176974e+03, 1.26681517e+03, 1.27187066e+03, 1.27693624e+03,\n",
       "       1.28201188e+03, 1.28709760e+03, 1.29219339e+03, 1.29729926e+03,\n",
       "       1.30241519e+03, 1.30754120e+03, 1.31267729e+03, 1.31782345e+03,\n",
       "       1.32297968e+03, 1.32814598e+03, 1.33332236e+03, 1.33850881e+03,\n",
       "       1.34370533e+03, 1.34891193e+03, 1.35412860e+03, 1.35935534e+03])"
      ]
     },
     "execution_count": 166,
     "metadata": {},
     "output_type": "execute_result"
    }
   ],
   "source": [
    "lambdified_expr(points)"
   ]
  },
  {
   "cell_type": "code",
   "execution_count": 167,
   "id": "e31b6743",
   "metadata": {},
   "outputs": [
    {
     "data": {
      "text/plain": [
       "numpy.ndarray"
      ]
     },
     "execution_count": 167,
     "metadata": {},
     "output_type": "execute_result"
    }
   ],
   "source": [
    "type(lambdified_expr(points))"
   ]
  },
  {
   "cell_type": "code",
   "execution_count": 168,
   "id": "d4a9a548",
   "metadata": {},
   "outputs": [],
   "source": [
    "output = lambdified_expr(points)"
   ]
  },
  {
   "cell_type": "markdown",
   "id": "4f2bcd0d",
   "metadata": {},
   "source": [
    "Построим график и убедимся, что это похоже на параболу"
   ]
  },
  {
   "cell_type": "code",
   "execution_count": 169,
   "id": "44e9c455",
   "metadata": {},
   "outputs": [
    {
     "data": {
      "text/plain": [
       "Text(0.5, 1.0, 'Parabola')"
      ]
     },
     "execution_count": 169,
     "metadata": {},
     "output_type": "execute_result"
    },
    {
     "data": {
      "image/png": "[encoded data removed]",
      "text/plain": [
       "<Figure size 432x288 with 1 Axes>"
      ]
     },
     "metadata": {
      "needs_background": "light"
     },
     "output_type": "display_data"
    }
   ],
   "source": [
    "import seaborn as sns\n",
    "\n",
    "sns.lineplot(x=points, y=output)\n",
    "plt.title('Parabola')"
   ]
  },
  {
   "cell_type": "markdown",
   "id": "b2096f57",
   "metadata": {},
   "source": [
    "Давайте дальше рисовать! SymPy использует matplotlib. Однако он распределяет точки по x адаптивно, а не равномерно."
   ]
  },
  {
   "cell_type": "code",
   "execution_count": 170,
   "id": "c3e27651",
   "metadata": {},
   "outputs": [
    {
     "data": {
      "image/png": "[encoded data removed]",
      "text/plain": [
       "<Figure size 432x288 with 1 Axes>"
      ]
     },
     "metadata": {
      "needs_background": "light"
     },
     "output_type": "display_data"
    },
    {
     "data": {
      "text/plain": [
       "<sympy.plotting.plot.Plot at 0x21c5b5a0610>"
      ]
     },
     "execution_count": 170,
     "metadata": {},
     "output_type": "execute_result"
    }
   ],
   "source": [
    "sp.plot(sp.sin(x)/x,(x,-10,10))"
   ]
  },
  {
   "cell_type": "markdown",
   "id": "38c5dfa9",
   "metadata": {},
   "source": [
    "Можно нарисовать сразу несколько функций"
   ]
  },
  {
   "cell_type": "code",
   "execution_count": 171,
   "id": "63e533a5",
   "metadata": {},
   "outputs": [
    {
     "data": {
      "image/png": "[encoded data removed]",
      "text/plain": [
       "<Figure size 432x288 with 1 Axes>"
      ]
     },
     "metadata": {
      "needs_background": "light"
     },
     "output_type": "display_data"
    },
    {
     "data": {
      "text/plain": [
       "<sympy.plotting.plot.Plot at 0x21c5be56f70>"
      ]
     },
     "execution_count": 171,
     "metadata": {},
     "output_type": "execute_result"
    }
   ],
   "source": [
    "sp.plot(x,x**2,x**3,(x,0,2))"
   ]
  },
  {
   "cell_type": "markdown",
   "id": "4ca009b1",
   "metadata": {},
   "source": [
    "Другие функции надо импортировать из пакета sympy.plotting. \n",
    "**(ПРОСТО ПОСМОТРЕТЬ НА ЭТУ КРАСОТУ)**"
   ]
  },
  {
   "cell_type": "code",
   "execution_count": 172,
   "id": "cde40d0f",
   "metadata": {},
   "outputs": [],
   "source": [
    "from sympy.plotting import (plot_parametric,plot_implicit,\n",
    "                            plot3d,plot3d_parametric_line,\n",
    "                            plot3d_parametric_surface)"
   ]
  },
  {
   "cell_type": "markdown",
   "id": "46987e34",
   "metadata": {},
   "source": [
    "Параметрический график - фигура Лиссажу."
   ]
  },
  {
   "cell_type": "code",
   "execution_count": 173,
   "id": "7887f137",
   "metadata": {},
   "outputs": [
    {
     "data": {
      "image/png": "[encoded data removed]",
      "text/plain": [
       "<Figure size 432x288 with 1 Axes>"
      ]
     },
     "metadata": {
      "needs_background": "light"
     },
     "output_type": "display_data"
    },
    {
     "data": {
      "text/plain": [
       "<sympy.plotting.plot.Plot at 0x21c5ebb9ca0>"
      ]
     },
     "execution_count": 173,
     "metadata": {},
     "output_type": "execute_result"
    }
   ],
   "source": [
    "t=sp.Symbol('t')\n",
    "plot_parametric(sp.sin(2*t),sp.cos(3*t),(t,0,2*sp.pi),\n",
    "                title='Lissajous',xlabel='x',ylabel='y')"
   ]
  },
  {
   "cell_type": "markdown",
   "id": "7a5c82d7",
   "metadata": {},
   "source": [
    "Неявный график - окружность."
   ]
  },
  {
   "cell_type": "code",
   "execution_count": 174,
   "id": "df77ce49",
   "metadata": {},
   "outputs": [
    {
     "data": {
      "image/png": "[encoded data removed]",
      "text/plain": [
       "<Figure size 432x288 with 1 Axes>"
      ]
     },
     "metadata": {
      "needs_background": "light"
     },
     "output_type": "display_data"
    },
    {
     "data": {
      "text/plain": [
       "<sympy.plotting.plot.Plot at 0x21c5eb13100>"
      ]
     },
     "execution_count": 174,
     "metadata": {},
     "output_type": "execute_result"
    }
   ],
   "source": [
    "plot_implicit(x**2+y**2-1,(x,-1,1),(y,-1,1))"
   ]
  },
  {
   "cell_type": "markdown",
   "id": "037fca14",
   "metadata": {},
   "source": [
    "Поверхность. Если она строится не inline, а в отдельном окне, то её можно вертеть мышкой."
   ]
  },
  {
   "cell_type": "code",
   "execution_count": 175,
   "id": "d1d9a800",
   "metadata": {},
   "outputs": [
    {
     "data": {
      "image/png": "[encoded data removed]",
      "text/plain": [
       "<Figure size 432x288 with 1 Axes>"
      ]
     },
     "metadata": {
      "needs_background": "light"
     },
     "output_type": "display_data"
    },
    {
     "data": {
      "text/plain": [
       "<sympy.plotting.plot.Plot at 0x21c5ebaee50>"
      ]
     },
     "execution_count": 175,
     "metadata": {},
     "output_type": "execute_result"
    }
   ],
   "source": [
    "plot3d(x*y,(x,-2,2),(y,-2,2))"
   ]
  },
  {
   "cell_type": "code",
   "execution_count": 176,
   "id": "6c700007",
   "metadata": {},
   "outputs": [
    {
     "data": {
      "image/png": "[encoded data removed]",
      "text/plain": [
       "<Figure size 432x288 with 1 Axes>"
      ]
     },
     "metadata": {
      "needs_background": "light"
     },
     "output_type": "display_data"
    },
    {
     "data": {
      "text/plain": [
       "<sympy.plotting.plot.Plot at 0x21c5f7ad850>"
      ]
     },
     "execution_count": 176,
     "metadata": {},
     "output_type": "execute_result"
    }
   ],
   "source": [
    "# несколько поверхностей\n",
    "plot3d(x**2+y**2,x*y,(x,-2,2),(y,-2,2))"
   ]
  },
  {
   "cell_type": "markdown",
   "id": "1e7a92df",
   "metadata": {},
   "source": [
    "Параметрическая пространственная линия - спираль."
   ]
  },
  {
   "cell_type": "code",
   "execution_count": 177,
   "id": "fa56ab4b",
   "metadata": {},
   "outputs": [
    {
     "data": {
      "image/png": "[encoded data removed]",
      "text/plain": [
       "<Figure size 432x288 with 1 Axes>"
      ]
     },
     "metadata": {
      "needs_background": "light"
     },
     "output_type": "display_data"
    },
    {
     "data": {
      "text/plain": [
       "<sympy.plotting.plot.Plot at 0x21c5f7ef520>"
      ]
     },
     "execution_count": 177,
     "metadata": {},
     "output_type": "execute_result"
    }
   ],
   "source": [
    "a=0.1\n",
    "plot3d_parametric_line(sp.cos(t),sp.sin(t),a*t,(t,0,4*sp.pi))"
   ]
  },
  {
   "cell_type": "markdown",
   "id": "f1dc0a27",
   "metadata": {},
   "source": [
    "Параметрическая поверхность - тор."
   ]
  },
  {
   "cell_type": "code",
   "execution_count": 178,
   "id": "29e4481c",
   "metadata": {},
   "outputs": [
    {
     "data": {
      "image/png": "[encoded data removed]",
      "text/plain": [
       "<Figure size 432x288 with 1 Axes>"
      ]
     },
     "metadata": {
      "needs_background": "light"
     },
     "output_type": "display_data"
    },
    {
     "data": {
      "text/plain": [
       "<sympy.plotting.plot.Plot at 0x21c5a132070>"
      ]
     },
     "execution_count": 178,
     "metadata": {},
     "output_type": "execute_result"
    }
   ],
   "source": [
    "u,v=sp.symbols('u v')\n",
    "a=0.3\n",
    "plot3d_parametric_surface((1+a*sp.cos(u))*sp.cos(v),\n",
    "                          (1+a*sp.cos(u))*sp.sin(v),a*sp.sin(u),\n",
    "                          (u,0,2*sp.pi),(v,0,2*sp.pi))"
   ]
  },
  {
   "cell_type": "markdown",
   "id": "782a5509",
   "metadata": {},
   "source": [
    "### Структура выражений, аналогичные операции\n",
    "\n",
    "Внутреннее представление выражения - это дерево. Функция srepr возвращает строку, представляющую его."
   ]
  },
  {
   "cell_type": "code",
   "execution_count": 179,
   "id": "785e4653",
   "metadata": {},
   "outputs": [
    {
     "data": {
      "text/plain": [
       "\"Add(Symbol('x'), Integer(1))\""
      ]
     },
     "execution_count": 179,
     "metadata": {},
     "output_type": "execute_result"
    }
   ],
   "source": [
    "sp.srepr(x+1)"
   ]
  },
  {
   "cell_type": "code",
   "execution_count": 180,
   "id": "7547c124",
   "metadata": {},
   "outputs": [
    {
     "data": {
      "text/plain": [
       "\"Add(Symbol('x'), Mul(Integer(-1), Symbol('y', real=True)))\""
      ]
     },
     "execution_count": 180,
     "metadata": {},
     "output_type": "execute_result"
    }
   ],
   "source": [
    "sp.srepr(x-y)"
   ]
  },
  {
   "cell_type": "code",
   "execution_count": 181,
   "id": "b184ea77",
   "metadata": {},
   "outputs": [
    {
     "data": {
      "text/plain": [
       "\"Mul(Rational(2, 3), Symbol('x'), Symbol('y', real=True))\""
      ]
     },
     "execution_count": 181,
     "metadata": {},
     "output_type": "execute_result"
    }
   ],
   "source": [
    "sp.srepr(2*x*y/3)"
   ]
  },
  {
   "cell_type": "markdown",
   "id": "34ee7f7b",
   "metadata": {},
   "source": [
    "Вместо бинарных операций +, , * и т.д. можно использовать функции Add, Mul, Pow и т.д."
   ]
  },
  {
   "cell_type": "code",
   "execution_count": 182,
   "id": "6935cacf",
   "metadata": {},
   "outputs": [
    {
     "data": {
      "text/latex": [
       "$\\displaystyle \\frac{x}{y}$"
      ],
      "text/plain": [
       "x/y"
      ]
     },
     "execution_count": 182,
     "metadata": {},
     "output_type": "execute_result"
    }
   ],
   "source": [
    "sp.Mul(x, sp.Pow(y,-1))"
   ]
  },
  {
   "cell_type": "code",
   "execution_count": 183,
   "id": "469fbec9",
   "metadata": {},
   "outputs": [
    {
     "data": {
      "text/plain": [
       "\"Function('f')(Symbol('x'), Symbol('y', real=True))\""
      ]
     },
     "execution_count": 183,
     "metadata": {},
     "output_type": "execute_result"
    }
   ],
   "source": [
    "f = sp.Function('f')\n",
    "\n",
    "sp.srepr(f(x, y))"
   ]
  },
  {
   "cell_type": "markdown",
   "id": "107a0a11",
   "metadata": {},
   "source": [
    "### Линейная алгебра"
   ]
  },
  {
   "cell_type": "code",
   "execution_count": 184,
   "id": "412aa7a2",
   "metadata": {},
   "outputs": [],
   "source": [
    "a,b,c,d,e,f=sp.symbols('a b c d e f')"
   ]
  },
  {
   "cell_type": "markdown",
   "id": "e3c72669",
   "metadata": {},
   "source": [
    "Матрицу можно построить из списка списков."
   ]
  },
  {
   "cell_type": "code",
   "execution_count": 185,
   "id": "c070ca27",
   "metadata": {},
   "outputs": [
    {
     "data": {
      "text/latex": [
       "$\\displaystyle \\left[\\begin{matrix}a & b & c\\\\d & e & f\\end{matrix}\\right]$"
      ],
      "text/plain": [
       "Matrix([\n",
       "[a, b, c],\n",
       "[d, e, f]])"
      ]
     },
     "execution_count": 185,
     "metadata": {},
     "output_type": "execute_result"
    }
   ],
   "source": [
    "M=sp.Matrix([[a,b,c],[d,e,f]])\n",
    "M"
   ]
  },
  {
   "cell_type": "code",
   "execution_count": 186,
   "id": "c2b4e5bc",
   "metadata": {},
   "outputs": [
    {
     "data": {
      "text/plain": [
       "(2, 3)"
      ]
     },
     "execution_count": 186,
     "metadata": {},
     "output_type": "execute_result"
    }
   ],
   "source": [
    "M.shape"
   ]
  },
  {
   "cell_type": "markdown",
   "id": "aac1a0f0",
   "metadata": {},
   "source": [
    "Матрица может состоять только из строки или столбца."
   ]
  },
  {
   "cell_type": "code",
   "execution_count": 187,
   "id": "8ee9df2d",
   "metadata": {},
   "outputs": [
    {
     "data": {
      "text/latex": [
       "$\\displaystyle \\left[\\begin{matrix}1 & 2 & 3\\end{matrix}\\right]$"
      ],
      "text/plain": [
       "Matrix([[1, 2, 3]])"
      ]
     },
     "execution_count": 187,
     "metadata": {},
     "output_type": "execute_result"
    }
   ],
   "source": [
    "sp.Matrix([[1,2,3]])"
   ]
  },
  {
   "cell_type": "code",
   "execution_count": 188,
   "id": "856ccf7d",
   "metadata": {},
   "outputs": [
    {
     "data": {
      "text/latex": [
       "$\\displaystyle \\left[\\begin{matrix}1\\\\2\\\\3\\end{matrix}\\right]$"
      ],
      "text/plain": [
       "Matrix([\n",
       "[1],\n",
       "[2],\n",
       "[3]])"
      ]
     },
     "execution_count": 188,
     "metadata": {},
     "output_type": "execute_result"
    }
   ],
   "source": [
    "sp.Matrix([1,2,3])"
   ]
  },
  {
   "cell_type": "markdown",
   "id": "be8dbe5e",
   "metadata": {},
   "source": [
    "Построим матрицу из функции"
   ]
  },
  {
   "cell_type": "code",
   "execution_count": 189,
   "id": "c94c24dc",
   "metadata": {},
   "outputs": [
    {
     "data": {
      "text/latex": [
       "$\\displaystyle \\left[\\begin{matrix}1 & \\frac{1}{2} & \\frac{1}{3}\\\\\\frac{1}{2} & \\frac{1}{3} & \\frac{1}{4}\\\\\\frac{1}{3} & \\frac{1}{4} & \\frac{1}{5}\\end{matrix}\\right]$"
      ],
      "text/plain": [
       "Matrix([\n",
       "[  1, 1/2, 1/3],\n",
       "[1/2, 1/3, 1/4],\n",
       "[1/3, 1/4, 1/5]])"
      ]
     },
     "execution_count": 189,
     "metadata": {},
     "output_type": "execute_result"
    }
   ],
   "source": [
    "def g(i,j):\n",
    "    return sp.Rational(1,i+j+1)\n",
    "sp.Matrix(3,3,g)"
   ]
  },
  {
   "cell_type": "code",
   "execution_count": 190,
   "id": "9a8e45e0",
   "metadata": {},
   "outputs": [
    {
     "data": {
      "text/latex": [
       "$\\displaystyle \\left[\\begin{matrix}g{\\left(0,0 \\right)} & g{\\left(0,1 \\right)} & g{\\left(0,2 \\right)}\\\\g{\\left(1,0 \\right)} & g{\\left(1,1 \\right)} & g{\\left(1,2 \\right)}\\\\g{\\left(2,0 \\right)} & g{\\left(2,1 \\right)} & g{\\left(2,2 \\right)}\\end{matrix}\\right]$"
      ],
      "text/plain": [
       "Matrix([\n",
       "[g(0, 0), g(0, 1), g(0, 2)],\n",
       "[g(1, 0), g(1, 1), g(1, 2)],\n",
       "[g(2, 0), g(2, 1), g(2, 2)]])"
      ]
     },
     "execution_count": 190,
     "metadata": {},
     "output_type": "execute_result"
    }
   ],
   "source": [
    "g=sp.Function('g')\n",
    "M=sp.Matrix(3,3,g)\n",
    "M"
   ]
  },
  {
   "cell_type": "code",
   "execution_count": 191,
   "id": "081caff5",
   "metadata": {},
   "outputs": [
    {
     "data": {
      "text/latex": [
       "$\\displaystyle g{\\left(1,2 \\right)}$"
      ],
      "text/plain": [
       "g(1, 2)"
      ]
     },
     "execution_count": 191,
     "metadata": {},
     "output_type": "execute_result"
    }
   ],
   "source": [
    "M[1, 2]"
   ]
  },
  {
   "cell_type": "code",
   "execution_count": 192,
   "id": "1973688c",
   "metadata": {},
   "outputs": [
    {
     "data": {
      "text/latex": [
       "$\\displaystyle \\left[\\begin{matrix}g{\\left(0,0 \\right)} & g{\\left(0,1 \\right)} & g{\\left(0,2 \\right)}\\\\g{\\left(1,0 \\right)} & g{\\left(1,1 \\right)} & 0\\\\g{\\left(2,0 \\right)} & g{\\left(2,1 \\right)} & g{\\left(2,2 \\right)}\\end{matrix}\\right]$"
      ],
      "text/plain": [
       "Matrix([\n",
       "[g(0, 0), g(0, 1), g(0, 2)],\n",
       "[g(1, 0), g(1, 1),       0],\n",
       "[g(2, 0), g(2, 1), g(2, 2)]])"
      ]
     },
     "execution_count": 192,
     "metadata": {},
     "output_type": "execute_result"
    }
   ],
   "source": [
    "M[1, 2] = 0\n",
    "M"
   ]
  },
  {
   "cell_type": "code",
   "execution_count": 193,
   "id": "8ca4e155",
   "metadata": {},
   "outputs": [
    {
     "data": {
      "text/latex": [
       "$\\displaystyle \\left[\\begin{matrix}g{\\left(2,0 \\right)} & g{\\left(2,1 \\right)} & g{\\left(2,2 \\right)}\\end{matrix}\\right]$"
      ],
      "text/plain": [
       "Matrix([[g(2, 0), g(2, 1), g(2, 2)]])"
      ]
     },
     "execution_count": 193,
     "metadata": {},
     "output_type": "execute_result"
    }
   ],
   "source": [
    "M[2, :]"
   ]
  },
  {
   "cell_type": "code",
   "execution_count": 194,
   "id": "b739acde",
   "metadata": {},
   "outputs": [
    {
     "data": {
      "text/latex": [
       "$\\displaystyle \\left[\\begin{matrix}g{\\left(0,1 \\right)}\\\\g{\\left(1,1 \\right)}\\\\g{\\left(2,1 \\right)}\\end{matrix}\\right]$"
      ],
      "text/plain": [
       "Matrix([\n",
       "[g(0, 1)],\n",
       "[g(1, 1)],\n",
       "[g(2, 1)]])"
      ]
     },
     "execution_count": 194,
     "metadata": {},
     "output_type": "execute_result"
    }
   ],
   "source": [
    "M[:,1]"
   ]
  },
  {
   "cell_type": "code",
   "execution_count": 195,
   "id": "8080d154",
   "metadata": {},
   "outputs": [
    {
     "data": {
      "text/latex": [
       "$\\displaystyle \\left[\\begin{matrix}g{\\left(0,1 \\right)} & g{\\left(0,2 \\right)}\\\\g{\\left(1,1 \\right)} & 0\\end{matrix}\\right]$"
      ],
      "text/plain": [
       "Matrix([\n",
       "[g(0, 1), g(0, 2)],\n",
       "[g(1, 1),       0]])"
      ]
     },
     "execution_count": 195,
     "metadata": {},
     "output_type": "execute_result"
    }
   ],
   "source": [
    "M[0:2,1:3]"
   ]
  },
  {
   "cell_type": "markdown",
   "id": "71bdc8b1",
   "metadata": {},
   "source": [
    "Создание базовых матриц"
   ]
  },
  {
   "cell_type": "code",
   "execution_count": 196,
   "id": "a909c80e",
   "metadata": {},
   "outputs": [
    {
     "data": {
      "text/latex": [
       "$\\displaystyle \\left[\\begin{matrix}1 & 0 & 0\\\\0 & 1 & 0\\\\0 & 0 & 1\\end{matrix}\\right]$"
      ],
      "text/plain": [
       "Matrix([\n",
       "[1, 0, 0],\n",
       "[0, 1, 0],\n",
       "[0, 0, 1]])"
      ]
     },
     "execution_count": 196,
     "metadata": {},
     "output_type": "execute_result"
    }
   ],
   "source": [
    "sp.eye(3)"
   ]
  },
  {
   "cell_type": "code",
   "execution_count": 197,
   "id": "44603b3f",
   "metadata": {},
   "outputs": [
    {
     "data": {
      "text/latex": [
       "$\\displaystyle \\left[\\begin{matrix}0 & 0 & 0\\\\0 & 0 & 0\\\\0 & 0 & 0\\end{matrix}\\right]$"
      ],
      "text/plain": [
       "Matrix([\n",
       "[0, 0, 0],\n",
       "[0, 0, 0],\n",
       "[0, 0, 0]])"
      ]
     },
     "execution_count": 197,
     "metadata": {},
     "output_type": "execute_result"
    }
   ],
   "source": [
    "sp.zeros(3)"
   ]
  },
  {
   "cell_type": "code",
   "execution_count": 198,
   "id": "a343768b",
   "metadata": {},
   "outputs": [
    {
     "data": {
      "text/latex": [
       "$\\displaystyle \\left[\\begin{matrix}0 & 0 & 0\\\\0 & 0 & 0\\end{matrix}\\right]$"
      ],
      "text/plain": [
       "Matrix([\n",
       "[0, 0, 0],\n",
       "[0, 0, 0]])"
      ]
     },
     "execution_count": 198,
     "metadata": {},
     "output_type": "execute_result"
    }
   ],
   "source": [
    "sp.zeros(2, 3)"
   ]
  },
  {
   "cell_type": "code",
   "execution_count": 199,
   "id": "089c917b",
   "metadata": {},
   "outputs": [
    {
     "data": {
      "text/latex": [
       "$\\displaystyle \\left[\\begin{matrix}1 & 0 & 0\\\\0 & 2 & 0\\\\0 & 0 & 3\\end{matrix}\\right]$"
      ],
      "text/plain": [
       "Matrix([\n",
       "[1, 0, 0],\n",
       "[0, 2, 0],\n",
       "[0, 0, 3]])"
      ]
     },
     "execution_count": 199,
     "metadata": {},
     "output_type": "execute_result"
    }
   ],
   "source": [
    "sp.diag(1, 2, 3)"
   ]
  },
  {
   "cell_type": "code",
   "execution_count": 200,
   "id": "4e0d5659",
   "metadata": {},
   "outputs": [
    {
     "data": {
      "text/latex": [
       "$\\displaystyle \\left[\\begin{matrix}1 & 0 & 0 & 0\\\\0 & a & 1 & 0\\\\0 & 0 & a & 0\\\\0 & 0 & 0 & 2\\end{matrix}\\right]$"
      ],
      "text/plain": [
       "Matrix([\n",
       "[1, 0, 0, 0],\n",
       "[0, a, 1, 0],\n",
       "[0, 0, a, 0],\n",
       "[0, 0, 0, 2]])"
      ]
     },
     "execution_count": 200,
     "metadata": {},
     "output_type": "execute_result"
    }
   ],
   "source": [
    "M=sp.Matrix([[a,1],[0,a]])\n",
    "sp.diag(1,M,2)"
   ]
  },
  {
   "cell_type": "markdown",
   "id": "98d6c347",
   "metadata": {},
   "source": [
    "Операции над матрицами"
   ]
  },
  {
   "cell_type": "code",
   "execution_count": 201,
   "id": "74b9e1db",
   "metadata": {},
   "outputs": [
    {
     "data": {
      "text/latex": [
       "$\\displaystyle \\left[\\begin{matrix}a + 1 & b + 2\\\\c + 3 & d + 4\\end{matrix}\\right]$"
      ],
      "text/plain": [
       "Matrix([\n",
       "[a + 1, b + 2],\n",
       "[c + 3, d + 4]])"
      ]
     },
     "execution_count": 201,
     "metadata": {},
     "output_type": "execute_result"
    }
   ],
   "source": [
    "A=sp.Matrix([[a,b],[c,d]])\n",
    "B=sp.Matrix([[1,2],[3,4]])\n",
    "A+B"
   ]
  },
  {
   "cell_type": "code",
   "execution_count": 202,
   "id": "28b3743b",
   "metadata": {},
   "outputs": [
    {
     "data": {
      "text/latex": [
       "$\\displaystyle \\left[\\begin{matrix}3 b - 2 c & 2 a + 3 b - 2 d\\\\- 3 a - 3 c + 3 d & - 3 b + 2 c\\end{matrix}\\right]$"
      ],
      "text/plain": [
       "Matrix([\n",
       "[       3*b - 2*c, 2*a + 3*b - 2*d],\n",
       "[-3*a - 3*c + 3*d,      -3*b + 2*c]])"
      ]
     },
     "execution_count": 202,
     "metadata": {},
     "output_type": "execute_result"
    }
   ],
   "source": [
    "A*B - B*A"
   ]
  },
  {
   "cell_type": "code",
   "execution_count": 203,
   "id": "0f1a1982",
   "metadata": {},
   "outputs": [
    {
     "data": {
      "text/latex": [
       "$\\displaystyle \\left[\\begin{matrix}\\frac{d}{a d - b c} & - \\frac{b}{a d - b c}\\\\- \\frac{c}{a d - b c} & \\frac{a}{a d - b c}\\end{matrix}\\right]$"
      ],
      "text/plain": [
       "Matrix([\n",
       "[ d/(a*d - b*c), -b/(a*d - b*c)],\n",
       "[-c/(a*d - b*c),  a/(a*d - b*c)]])"
      ]
     },
     "execution_count": 203,
     "metadata": {},
     "output_type": "execute_result"
    }
   ],
   "source": [
    "sp.simplify(A**(-1))"
   ]
  },
  {
   "cell_type": "code",
   "execution_count": 204,
   "id": "f5235145",
   "metadata": {},
   "outputs": [
    {
     "data": {
      "text/latex": [
       "$\\displaystyle a d - b c$"
      ],
      "text/plain": [
       "a*d - b*c"
      ]
     },
     "execution_count": 204,
     "metadata": {},
     "output_type": "execute_result"
    }
   ],
   "source": [
    "sp.det(A)"
   ]
  },
  {
   "cell_type": "markdown",
   "id": "5728c228",
   "metadata": {},
   "source": [
    "Собственные значения и векторы"
   ]
  },
  {
   "cell_type": "code",
   "execution_count": 205,
   "id": "7495b581",
   "metadata": {},
   "outputs": [],
   "source": [
    "x=sp.Symbol('x',real=True)"
   ]
  },
  {
   "cell_type": "code",
   "execution_count": 206,
   "id": "74fb794e",
   "metadata": {},
   "outputs": [
    {
     "data": {
      "text/latex": [
       "$\\displaystyle \\left[\\begin{matrix}\\left(1 - x\\right)^{3} \\left(x + 3\\right) & 4 x \\left(1 - x^{2}\\right) & \\left(3 - x\\right) \\left(2 x^{2} - 2\\right)\\\\4 x \\left(1 - x^{2}\\right) & - \\left(3 - x\\right) \\left(x + 1\\right)^{3} & \\left(2 - 2 x^{2}\\right) \\left(x + 3\\right)\\\\\\left(3 - x\\right) \\left(2 x^{2} - 2\\right) & \\left(2 - 2 x^{2}\\right) \\left(x + 3\\right) & 16 x\\end{matrix}\\right]$"
      ],
      "text/plain": [
       "Matrix([\n",
       "[  (1 - x)**3*(x + 3),       4*x*(1 - x**2), (3 - x)*(2*x**2 - 2)],\n",
       "[      4*x*(1 - x**2),  -(3 - x)*(x + 1)**3, (2 - 2*x**2)*(x + 3)],\n",
       "[(3 - x)*(2*x**2 - 2), (2 - 2*x**2)*(x + 3),                 16*x]])"
      ]
     },
     "execution_count": 206,
     "metadata": {},
     "output_type": "execute_result"
    }
   ],
   "source": [
    "M=sp.Matrix([[(1-x)**3*(3+x),4*x*(1-x**2),-2*(1-x**2)*(3-x)],\n",
    "          [4*x*(1-x**2),-(1+x)**3*(3-x),2*(1-x**2)*(3+x)],\n",
    "          [-2*(1-x**2)*(3-x),2*(1-x**2)*(3+x),16*x]])\n",
    "M"
   ]
  },
  {
   "cell_type": "markdown",
   "id": "497326e0",
   "metadata": {},
   "source": [
    "Транспонирование матрицы"
   ]
  },
  {
   "cell_type": "code",
   "execution_count": 208,
   "id": "c72681a1",
   "metadata": {},
   "outputs": [
    {
     "data": {
      "text/latex": [
       "$\\displaystyle \\left[\\begin{matrix}\\left(1 - x\\right)^{3} \\left(x + 3\\right) & 4 x \\left(1 - x^{2}\\right) & \\left(3 - x\\right) \\left(2 x^{2} - 2\\right)\\\\4 x \\left(1 - x^{2}\\right) & - \\left(3 - x\\right) \\left(x + 1\\right)^{3} & \\left(2 - 2 x^{2}\\right) \\left(x + 3\\right)\\\\\\left(3 - x\\right) \\left(2 x^{2} - 2\\right) & \\left(2 - 2 x^{2}\\right) \\left(x + 3\\right) & 16 x\\end{matrix}\\right]$"
      ],
      "text/plain": [
       "Matrix([\n",
       "[  (1 - x)**3*(x + 3),       4*x*(1 - x**2), (3 - x)*(2*x**2 - 2)],\n",
       "[      4*x*(1 - x**2),  -(3 - x)*(x + 1)**3, (2 - 2*x**2)*(x + 3)],\n",
       "[(3 - x)*(2*x**2 - 2), (2 - 2*x**2)*(x + 3),                 16*x]])"
      ]
     },
     "execution_count": 208,
     "metadata": {},
     "output_type": "execute_result"
    }
   ],
   "source": [
    "M.T"
   ]
  },
  {
   "cell_type": "code",
   "execution_count": 209,
   "id": "daae2920",
   "metadata": {},
   "outputs": [
    {
     "ename": "NonInvertibleMatrixError",
     "evalue": "Matrix det == 0; not invertible.",
     "output_type": "error",
     "traceback": [
      "\u001b[1;31m---------------------------------------------------------------------------\u001b[0m",
      "\u001b[1;31mNonInvertibleMatrixError\u001b[0m                  Traceback (most recent call last)",
      "\u001b[1;32m~\\AppData\\Local\\Temp/ipykernel_23540/1937652652.py\u001b[0m in \u001b[0;36m<module>\u001b[1;34m\u001b[0m\n\u001b[1;32m----> 1\u001b[1;33m \u001b[0mM\u001b[0m\u001b[1;33m**\u001b[0m\u001b[1;33m(\u001b[0m\u001b[1;33m-\u001b[0m\u001b[1;36m1\u001b[0m\u001b[1;33m)\u001b[0m\u001b[1;33m\u001b[0m\u001b[1;33m\u001b[0m\u001b[0m\n\u001b[0m",
      "\u001b[1;32m~\\anaconda3\\lib\\site-packages\\sympy\\core\\decorators.py\u001b[0m in \u001b[0;36mbinary_op_wrapper\u001b[1;34m(self, other)\u001b[0m\n\u001b[0;32m    134\u001b[0m                     \u001b[1;32mif\u001b[0m \u001b[0mf\u001b[0m \u001b[1;32mis\u001b[0m \u001b[1;32mnot\u001b[0m \u001b[1;32mNone\u001b[0m\u001b[1;33m:\u001b[0m\u001b[1;33m\u001b[0m\u001b[1;33m\u001b[0m\u001b[0m\n\u001b[0;32m    135\u001b[0m                         \u001b[1;32mreturn\u001b[0m \u001b[0mf\u001b[0m\u001b[1;33m(\u001b[0m\u001b[0mself\u001b[0m\u001b[1;33m)\u001b[0m\u001b[1;33m\u001b[0m\u001b[1;33m\u001b[0m\u001b[0m\n\u001b[1;32m--> 136\u001b[1;33m             \u001b[1;32mreturn\u001b[0m \u001b[0mfunc\u001b[0m\u001b[1;33m(\u001b[0m\u001b[0mself\u001b[0m\u001b[1;33m,\u001b[0m \u001b[0mother\u001b[0m\u001b[1;33m)\u001b[0m\u001b[1;33m\u001b[0m\u001b[1;33m\u001b[0m\u001b[0m\n\u001b[0m\u001b[0;32m    137\u001b[0m         \u001b[1;32mreturn\u001b[0m \u001b[0mbinary_op_wrapper\u001b[0m\u001b[1;33m\u001b[0m\u001b[1;33m\u001b[0m\u001b[0m\n\u001b[0;32m    138\u001b[0m     \u001b[1;32mreturn\u001b[0m \u001b[0mpriority_decorator\u001b[0m\u001b[1;33m\u001b[0m\u001b[1;33m\u001b[0m\u001b[0m\n",
      "\u001b[1;32m~\\anaconda3\\lib\\site-packages\\sympy\\matrices\\common.py\u001b[0m in \u001b[0;36m__pow__\u001b[1;34m(self, exp)\u001b[0m\n\u001b[0;32m   2839\u001b[0m         \u001b[1;34m\"\"\"Return self**exp a scalar or symbol.\"\"\"\u001b[0m\u001b[1;33m\u001b[0m\u001b[1;33m\u001b[0m\u001b[0m\n\u001b[0;32m   2840\u001b[0m \u001b[1;33m\u001b[0m\u001b[0m\n\u001b[1;32m-> 2841\u001b[1;33m         \u001b[1;32mreturn\u001b[0m \u001b[0mself\u001b[0m\u001b[1;33m.\u001b[0m\u001b[0mpow\u001b[0m\u001b[1;33m(\u001b[0m\u001b[0mexp\u001b[0m\u001b[1;33m)\u001b[0m\u001b[1;33m\u001b[0m\u001b[1;33m\u001b[0m\u001b[0m\n\u001b[0m\u001b[0;32m   2842\u001b[0m \u001b[1;33m\u001b[0m\u001b[0m\n\u001b[0;32m   2843\u001b[0m \u001b[1;33m\u001b[0m\u001b[0m\n",
      "\u001b[1;32m~\\anaconda3\\lib\\site-packages\\sympy\\matrices\\common.py\u001b[0m in \u001b[0;36mpow\u001b[1;34m(self, exp, method)\u001b[0m\n\u001b[0;32m   2883\u001b[0m             \u001b[1;32mif\u001b[0m \u001b[0mexp\u001b[0m \u001b[1;33m<\u001b[0m \u001b[1;36m0\u001b[0m\u001b[1;33m:\u001b[0m\u001b[1;33m\u001b[0m\u001b[1;33m\u001b[0m\u001b[0m\n\u001b[0;32m   2884\u001b[0m                 \u001b[0mexp\u001b[0m \u001b[1;33m=\u001b[0m \u001b[1;33m-\u001b[0m\u001b[0mexp\u001b[0m\u001b[1;33m\u001b[0m\u001b[1;33m\u001b[0m\u001b[0m\n\u001b[1;32m-> 2885\u001b[1;33m                 \u001b[0ma\u001b[0m \u001b[1;33m=\u001b[0m \u001b[0ma\u001b[0m\u001b[1;33m.\u001b[0m\u001b[0minv\u001b[0m\u001b[1;33m(\u001b[0m\u001b[1;33m)\u001b[0m\u001b[1;33m\u001b[0m\u001b[1;33m\u001b[0m\u001b[0m\n\u001b[0m\u001b[0;32m   2886\u001b[0m         \u001b[1;31m# When certain conditions are met,\u001b[0m\u001b[1;33m\u001b[0m\u001b[1;33m\u001b[0m\u001b[0m\n\u001b[0;32m   2887\u001b[0m         \u001b[1;31m# Jordan block algorithm is faster than\u001b[0m\u001b[1;33m\u001b[0m\u001b[1;33m\u001b[0m\u001b[0m\n",
      "\u001b[1;32m~\\anaconda3\\lib\\site-packages\\sympy\\matrices\\matrices.py\u001b[0m in \u001b[0;36minv\u001b[1;34m(self, method, iszerofunc, try_block_diag)\u001b[0m\n\u001b[0;32m   2221\u001b[0m \u001b[1;33m\u001b[0m\u001b[0m\n\u001b[0;32m   2222\u001b[0m     \u001b[1;32mdef\u001b[0m \u001b[0minv\u001b[0m\u001b[1;33m(\u001b[0m\u001b[0mself\u001b[0m\u001b[1;33m,\u001b[0m \u001b[0mmethod\u001b[0m\u001b[1;33m=\u001b[0m\u001b[1;32mNone\u001b[0m\u001b[1;33m,\u001b[0m \u001b[0miszerofunc\u001b[0m\u001b[1;33m=\u001b[0m\u001b[0m_iszero\u001b[0m\u001b[1;33m,\u001b[0m \u001b[0mtry_block_diag\u001b[0m\u001b[1;33m=\u001b[0m\u001b[1;32mFalse\u001b[0m\u001b[1;33m)\u001b[0m\u001b[1;33m:\u001b[0m\u001b[1;33m\u001b[0m\u001b[1;33m\u001b[0m\u001b[0m\n\u001b[1;32m-> 2223\u001b[1;33m         return _inv(self, method=method, iszerofunc=iszerofunc,\n\u001b[0m\u001b[0;32m   2224\u001b[0m                 try_block_diag=try_block_diag)\n\u001b[0;32m   2225\u001b[0m \u001b[1;33m\u001b[0m\u001b[0m\n",
      "\u001b[1;32m~\\anaconda3\\lib\\site-packages\\sympy\\matrices\\inverse.py\u001b[0m in \u001b[0;36m_inv\u001b[1;34m(M, method, iszerofunc, try_block_diag)\u001b[0m\n\u001b[0;32m    457\u001b[0m \u001b[1;33m\u001b[0m\u001b[0m\n\u001b[0;32m    458\u001b[0m     \u001b[1;32mif\u001b[0m \u001b[0mmethod\u001b[0m \u001b[1;33m==\u001b[0m \u001b[1;34m\"GE\"\u001b[0m\u001b[1;33m:\u001b[0m\u001b[1;33m\u001b[0m\u001b[1;33m\u001b[0m\u001b[0m\n\u001b[1;32m--> 459\u001b[1;33m         \u001b[0mrv\u001b[0m \u001b[1;33m=\u001b[0m \u001b[0mM\u001b[0m\u001b[1;33m.\u001b[0m\u001b[0minverse_GE\u001b[0m\u001b[1;33m(\u001b[0m\u001b[0miszerofunc\u001b[0m\u001b[1;33m=\u001b[0m\u001b[0miszerofunc\u001b[0m\u001b[1;33m)\u001b[0m\u001b[1;33m\u001b[0m\u001b[1;33m\u001b[0m\u001b[0m\n\u001b[0m\u001b[0;32m    460\u001b[0m     \u001b[1;32melif\u001b[0m \u001b[0mmethod\u001b[0m \u001b[1;33m==\u001b[0m \u001b[1;34m\"LU\"\u001b[0m\u001b[1;33m:\u001b[0m\u001b[1;33m\u001b[0m\u001b[1;33m\u001b[0m\u001b[0m\n\u001b[0;32m    461\u001b[0m         \u001b[0mrv\u001b[0m \u001b[1;33m=\u001b[0m \u001b[0mM\u001b[0m\u001b[1;33m.\u001b[0m\u001b[0minverse_LU\u001b[0m\u001b[1;33m(\u001b[0m\u001b[0miszerofunc\u001b[0m\u001b[1;33m=\u001b[0m\u001b[0miszerofunc\u001b[0m\u001b[1;33m)\u001b[0m\u001b[1;33m\u001b[0m\u001b[1;33m\u001b[0m\u001b[0m\n",
      "\u001b[1;32m~\\anaconda3\\lib\\site-packages\\sympy\\matrices\\matrices.py\u001b[0m in \u001b[0;36minverse_GE\u001b[1;34m(self, iszerofunc)\u001b[0m\n\u001b[0;32m   2206\u001b[0m \u001b[1;33m\u001b[0m\u001b[0m\n\u001b[0;32m   2207\u001b[0m     \u001b[1;32mdef\u001b[0m \u001b[0minverse_GE\u001b[0m\u001b[1;33m(\u001b[0m\u001b[0mself\u001b[0m\u001b[1;33m,\u001b[0m \u001b[0miszerofunc\u001b[0m\u001b[1;33m=\u001b[0m\u001b[0m_iszero\u001b[0m\u001b[1;33m)\u001b[0m\u001b[1;33m:\u001b[0m\u001b[1;33m\u001b[0m\u001b[1;33m\u001b[0m\u001b[0m\n\u001b[1;32m-> 2208\u001b[1;33m         \u001b[1;32mreturn\u001b[0m \u001b[0m_inv_GE\u001b[0m\u001b[1;33m(\u001b[0m\u001b[0mself\u001b[0m\u001b[1;33m,\u001b[0m \u001b[0miszerofunc\u001b[0m\u001b[1;33m=\u001b[0m\u001b[0miszerofunc\u001b[0m\u001b[1;33m)\u001b[0m\u001b[1;33m\u001b[0m\u001b[1;33m\u001b[0m\u001b[0m\n\u001b[0m\u001b[0;32m   2209\u001b[0m \u001b[1;33m\u001b[0m\u001b[0m\n\u001b[0;32m   2210\u001b[0m     \u001b[1;32mdef\u001b[0m \u001b[0minverse_LU\u001b[0m\u001b[1;33m(\u001b[0m\u001b[0mself\u001b[0m\u001b[1;33m,\u001b[0m \u001b[0miszerofunc\u001b[0m\u001b[1;33m=\u001b[0m\u001b[0m_iszero\u001b[0m\u001b[1;33m)\u001b[0m\u001b[1;33m:\u001b[0m\u001b[1;33m\u001b[0m\u001b[1;33m\u001b[0m\u001b[0m\n",
      "\u001b[1;32m~\\anaconda3\\lib\\site-packages\\sympy\\matrices\\inverse.py\u001b[0m in \u001b[0;36m_inv_GE\u001b[1;34m(M, iszerofunc)\u001b[0m\n\u001b[0;32m    243\u001b[0m \u001b[1;33m\u001b[0m\u001b[0m\n\u001b[0;32m    244\u001b[0m     \u001b[1;32mif\u001b[0m \u001b[0many\u001b[0m\u001b[1;33m(\u001b[0m\u001b[0miszerofunc\u001b[0m\u001b[1;33m(\u001b[0m\u001b[0mred\u001b[0m\u001b[1;33m[\u001b[0m\u001b[0mj\u001b[0m\u001b[1;33m,\u001b[0m \u001b[0mj\u001b[0m\u001b[1;33m]\u001b[0m\u001b[1;33m)\u001b[0m \u001b[1;32mfor\u001b[0m \u001b[0mj\u001b[0m \u001b[1;32min\u001b[0m \u001b[0mrange\u001b[0m\u001b[1;33m(\u001b[0m\u001b[0mred\u001b[0m\u001b[1;33m.\u001b[0m\u001b[0mrows\u001b[0m\u001b[1;33m)\u001b[0m\u001b[1;33m)\u001b[0m\u001b[1;33m:\u001b[0m\u001b[1;33m\u001b[0m\u001b[1;33m\u001b[0m\u001b[0m\n\u001b[1;32m--> 245\u001b[1;33m         \u001b[1;32mraise\u001b[0m \u001b[0mNonInvertibleMatrixError\u001b[0m\u001b[1;33m(\u001b[0m\u001b[1;34m\"Matrix det == 0; not invertible.\"\u001b[0m\u001b[1;33m)\u001b[0m\u001b[1;33m\u001b[0m\u001b[1;33m\u001b[0m\u001b[0m\n\u001b[0m\u001b[0;32m    246\u001b[0m \u001b[1;33m\u001b[0m\u001b[0m\n\u001b[0;32m    247\u001b[0m     \u001b[1;32mreturn\u001b[0m \u001b[0mM\u001b[0m\u001b[1;33m.\u001b[0m\u001b[0m_new\u001b[0m\u001b[1;33m(\u001b[0m\u001b[0mred\u001b[0m\u001b[1;33m[\u001b[0m\u001b[1;33m:\u001b[0m\u001b[1;33m,\u001b[0m \u001b[0mbig\u001b[0m\u001b[1;33m.\u001b[0m\u001b[0mrows\u001b[0m\u001b[1;33m:\u001b[0m\u001b[1;33m]\u001b[0m\u001b[1;33m)\u001b[0m\u001b[1;33m\u001b[0m\u001b[1;33m\u001b[0m\u001b[0m\n",
      "\u001b[1;31mNonInvertibleMatrixError\u001b[0m: Matrix det == 0; not invertible."
     ]
    }
   ],
   "source": [
    "M**(-1)"
   ]
  },
  {
   "cell_type": "code",
   "execution_count": 210,
   "id": "b474048a",
   "metadata": {},
   "outputs": [
    {
     "ename": "NonInvertibleMatrixError",
     "evalue": "Matrix det == 0; not invertible.",
     "output_type": "error",
     "traceback": [
      "\u001b[1;31m---------------------------------------------------------------------------\u001b[0m",
      "\u001b[1;31mNonInvertibleMatrixError\u001b[0m                  Traceback (most recent call last)",
      "\u001b[1;32m~\\AppData\\Local\\Temp/ipykernel_23540/807607862.py\u001b[0m in \u001b[0;36m<module>\u001b[1;34m\u001b[0m\n\u001b[1;32m----> 1\u001b[1;33m \u001b[0mM\u001b[0m\u001b[1;33m.\u001b[0m\u001b[0minv\u001b[0m\u001b[1;33m(\u001b[0m\u001b[1;33m)\u001b[0m\u001b[1;33m\u001b[0m\u001b[1;33m\u001b[0m\u001b[0m\n\u001b[0m",
      "\u001b[1;32m~\\anaconda3\\lib\\site-packages\\sympy\\matrices\\matrices.py\u001b[0m in \u001b[0;36minv\u001b[1;34m(self, method, iszerofunc, try_block_diag)\u001b[0m\n\u001b[0;32m   2221\u001b[0m \u001b[1;33m\u001b[0m\u001b[0m\n\u001b[0;32m   2222\u001b[0m     \u001b[1;32mdef\u001b[0m \u001b[0minv\u001b[0m\u001b[1;33m(\u001b[0m\u001b[0mself\u001b[0m\u001b[1;33m,\u001b[0m \u001b[0mmethod\u001b[0m\u001b[1;33m=\u001b[0m\u001b[1;32mNone\u001b[0m\u001b[1;33m,\u001b[0m \u001b[0miszerofunc\u001b[0m\u001b[1;33m=\u001b[0m\u001b[0m_iszero\u001b[0m\u001b[1;33m,\u001b[0m \u001b[0mtry_block_diag\u001b[0m\u001b[1;33m=\u001b[0m\u001b[1;32mFalse\u001b[0m\u001b[1;33m)\u001b[0m\u001b[1;33m:\u001b[0m\u001b[1;33m\u001b[0m\u001b[1;33m\u001b[0m\u001b[0m\n\u001b[1;32m-> 2223\u001b[1;33m         return _inv(self, method=method, iszerofunc=iszerofunc,\n\u001b[0m\u001b[0;32m   2224\u001b[0m                 try_block_diag=try_block_diag)\n\u001b[0;32m   2225\u001b[0m \u001b[1;33m\u001b[0m\u001b[0m\n",
      "\u001b[1;32m~\\anaconda3\\lib\\site-packages\\sympy\\matrices\\inverse.py\u001b[0m in \u001b[0;36m_inv\u001b[1;34m(M, method, iszerofunc, try_block_diag)\u001b[0m\n\u001b[0;32m    457\u001b[0m \u001b[1;33m\u001b[0m\u001b[0m\n\u001b[0;32m    458\u001b[0m     \u001b[1;32mif\u001b[0m \u001b[0mmethod\u001b[0m \u001b[1;33m==\u001b[0m \u001b[1;34m\"GE\"\u001b[0m\u001b[1;33m:\u001b[0m\u001b[1;33m\u001b[0m\u001b[1;33m\u001b[0m\u001b[0m\n\u001b[1;32m--> 459\u001b[1;33m         \u001b[0mrv\u001b[0m \u001b[1;33m=\u001b[0m \u001b[0mM\u001b[0m\u001b[1;33m.\u001b[0m\u001b[0minverse_GE\u001b[0m\u001b[1;33m(\u001b[0m\u001b[0miszerofunc\u001b[0m\u001b[1;33m=\u001b[0m\u001b[0miszerofunc\u001b[0m\u001b[1;33m)\u001b[0m\u001b[1;33m\u001b[0m\u001b[1;33m\u001b[0m\u001b[0m\n\u001b[0m\u001b[0;32m    460\u001b[0m     \u001b[1;32melif\u001b[0m \u001b[0mmethod\u001b[0m \u001b[1;33m==\u001b[0m \u001b[1;34m\"LU\"\u001b[0m\u001b[1;33m:\u001b[0m\u001b[1;33m\u001b[0m\u001b[1;33m\u001b[0m\u001b[0m\n\u001b[0;32m    461\u001b[0m         \u001b[0mrv\u001b[0m \u001b[1;33m=\u001b[0m \u001b[0mM\u001b[0m\u001b[1;33m.\u001b[0m\u001b[0minverse_LU\u001b[0m\u001b[1;33m(\u001b[0m\u001b[0miszerofunc\u001b[0m\u001b[1;33m=\u001b[0m\u001b[0miszerofunc\u001b[0m\u001b[1;33m)\u001b[0m\u001b[1;33m\u001b[0m\u001b[1;33m\u001b[0m\u001b[0m\n",
      "\u001b[1;32m~\\anaconda3\\lib\\site-packages\\sympy\\matrices\\matrices.py\u001b[0m in \u001b[0;36minverse_GE\u001b[1;34m(self, iszerofunc)\u001b[0m\n\u001b[0;32m   2206\u001b[0m \u001b[1;33m\u001b[0m\u001b[0m\n\u001b[0;32m   2207\u001b[0m     \u001b[1;32mdef\u001b[0m \u001b[0minverse_GE\u001b[0m\u001b[1;33m(\u001b[0m\u001b[0mself\u001b[0m\u001b[1;33m,\u001b[0m \u001b[0miszerofunc\u001b[0m\u001b[1;33m=\u001b[0m\u001b[0m_iszero\u001b[0m\u001b[1;33m)\u001b[0m\u001b[1;33m:\u001b[0m\u001b[1;33m\u001b[0m\u001b[1;33m\u001b[0m\u001b[0m\n\u001b[1;32m-> 2208\u001b[1;33m         \u001b[1;32mreturn\u001b[0m \u001b[0m_inv_GE\u001b[0m\u001b[1;33m(\u001b[0m\u001b[0mself\u001b[0m\u001b[1;33m,\u001b[0m \u001b[0miszerofunc\u001b[0m\u001b[1;33m=\u001b[0m\u001b[0miszerofunc\u001b[0m\u001b[1;33m)\u001b[0m\u001b[1;33m\u001b[0m\u001b[1;33m\u001b[0m\u001b[0m\n\u001b[0m\u001b[0;32m   2209\u001b[0m \u001b[1;33m\u001b[0m\u001b[0m\n\u001b[0;32m   2210\u001b[0m     \u001b[1;32mdef\u001b[0m \u001b[0minverse_LU\u001b[0m\u001b[1;33m(\u001b[0m\u001b[0mself\u001b[0m\u001b[1;33m,\u001b[0m \u001b[0miszerofunc\u001b[0m\u001b[1;33m=\u001b[0m\u001b[0m_iszero\u001b[0m\u001b[1;33m)\u001b[0m\u001b[1;33m:\u001b[0m\u001b[1;33m\u001b[0m\u001b[1;33m\u001b[0m\u001b[0m\n",
      "\u001b[1;32m~\\anaconda3\\lib\\site-packages\\sympy\\matrices\\inverse.py\u001b[0m in \u001b[0;36m_inv_GE\u001b[1;34m(M, iszerofunc)\u001b[0m\n\u001b[0;32m    243\u001b[0m \u001b[1;33m\u001b[0m\u001b[0m\n\u001b[0;32m    244\u001b[0m     \u001b[1;32mif\u001b[0m \u001b[0many\u001b[0m\u001b[1;33m(\u001b[0m\u001b[0miszerofunc\u001b[0m\u001b[1;33m(\u001b[0m\u001b[0mred\u001b[0m\u001b[1;33m[\u001b[0m\u001b[0mj\u001b[0m\u001b[1;33m,\u001b[0m \u001b[0mj\u001b[0m\u001b[1;33m]\u001b[0m\u001b[1;33m)\u001b[0m \u001b[1;32mfor\u001b[0m \u001b[0mj\u001b[0m \u001b[1;32min\u001b[0m \u001b[0mrange\u001b[0m\u001b[1;33m(\u001b[0m\u001b[0mred\u001b[0m\u001b[1;33m.\u001b[0m\u001b[0mrows\u001b[0m\u001b[1;33m)\u001b[0m\u001b[1;33m)\u001b[0m\u001b[1;33m:\u001b[0m\u001b[1;33m\u001b[0m\u001b[1;33m\u001b[0m\u001b[0m\n\u001b[1;32m--> 245\u001b[1;33m         \u001b[1;32mraise\u001b[0m \u001b[0mNonInvertibleMatrixError\u001b[0m\u001b[1;33m(\u001b[0m\u001b[1;34m\"Matrix det == 0; not invertible.\"\u001b[0m\u001b[1;33m)\u001b[0m\u001b[1;33m\u001b[0m\u001b[1;33m\u001b[0m\u001b[0m\n\u001b[0m\u001b[0;32m    246\u001b[0m \u001b[1;33m\u001b[0m\u001b[0m\n\u001b[0;32m    247\u001b[0m     \u001b[1;32mreturn\u001b[0m \u001b[0mM\u001b[0m\u001b[1;33m.\u001b[0m\u001b[0m_new\u001b[0m\u001b[1;33m(\u001b[0m\u001b[0mred\u001b[0m\u001b[1;33m[\u001b[0m\u001b[1;33m:\u001b[0m\u001b[1;33m,\u001b[0m \u001b[0mbig\u001b[0m\u001b[1;33m.\u001b[0m\u001b[0mrows\u001b[0m\u001b[1;33m:\u001b[0m\u001b[1;33m]\u001b[0m\u001b[1;33m)\u001b[0m\u001b[1;33m\u001b[0m\u001b[1;33m\u001b[0m\u001b[0m\n",
      "\u001b[1;31mNonInvertibleMatrixError\u001b[0m: Matrix det == 0; not invertible."
     ]
    }
   ],
   "source": [
    "M.inv()"
   ]
  },
  {
   "cell_type": "code",
   "execution_count": 211,
   "id": "4081b7f6",
   "metadata": {},
   "outputs": [
    {
     "data": {
      "text/latex": [
       "$\\displaystyle \\left[\\begin{matrix}x^{8} + 8 x^{6} - 8 x^{5} + 26 x^{4} - 48 x^{3} + 48 x^{2} - 72 x + 45 & 4 x^{6} + 20 x^{4} + 12 x^{2} - 36 & 2 x^{7} + 2 x^{6} + 10 x^{5} + 10 x^{4} + 6 x^{3} + 6 x^{2} - 18 x - 18\\\\4 x^{6} + 20 x^{4} + 12 x^{2} - 36 & x^{8} + 8 x^{6} + 8 x^{5} + 26 x^{4} + 48 x^{3} + 48 x^{2} + 72 x + 45 & - 2 x^{7} + 2 x^{6} - 10 x^{5} + 10 x^{4} - 6 x^{3} + 6 x^{2} + 18 x - 18\\\\2 x^{7} + 2 x^{6} + 10 x^{5} + 10 x^{4} + 6 x^{3} + 6 x^{2} - 18 x - 18 & - 2 x^{7} + 2 x^{6} - 10 x^{5} + 10 x^{4} - 6 x^{3} + 6 x^{2} + 18 x - 18 & 8 x^{6} + 56 x^{4} + 120 x^{2} + 72\\end{matrix}\\right]$"
      ],
      "text/plain": [
       "Matrix([\n",
       "[ x**8 + 8*x**6 - 8*x**5 + 26*x**4 - 48*x**3 + 48*x**2 - 72*x + 45,                                    4*x**6 + 20*x**4 + 12*x**2 - 36,  2*x**7 + 2*x**6 + 10*x**5 + 10*x**4 + 6*x**3 + 6*x**2 - 18*x - 18],\n",
       "[                                  4*x**6 + 20*x**4 + 12*x**2 - 36,   x**8 + 8*x**6 + 8*x**5 + 26*x**4 + 48*x**3 + 48*x**2 + 72*x + 45, -2*x**7 + 2*x**6 - 10*x**5 + 10*x**4 - 6*x**3 + 6*x**2 + 18*x - 18],\n",
       "[2*x**7 + 2*x**6 + 10*x**5 + 10*x**4 + 6*x**3 + 6*x**2 - 18*x - 18, -2*x**7 + 2*x**6 - 10*x**5 + 10*x**4 - 6*x**3 + 6*x**2 + 18*x - 18,                                   8*x**6 + 56*x**4 + 120*x**2 + 72]])"
      ]
     },
     "execution_count": 211,
     "metadata": {},
     "output_type": "execute_result"
    }
   ],
   "source": [
    "M**2"
   ]
  },
  {
   "cell_type": "code",
   "execution_count": 212,
   "id": "3e1dbde3",
   "metadata": {},
   "outputs": [
    {
     "data": {
      "text/latex": [
       "$\\displaystyle 0$"
      ],
      "text/plain": [
       "0"
      ]
     },
     "execution_count": 212,
     "metadata": {},
     "output_type": "execute_result"
    }
   ],
   "source": [
    "sp.det(M)"
   ]
  },
  {
   "cell_type": "markdown",
   "id": "391d1b27",
   "metadata": {},
   "source": [
    "Значит, у этой матрицы есть нулевое подпространство (она обращает векторы из этого подпространства в 0). Базис этого подпространства."
   ]
  },
  {
   "cell_type": "code",
   "execution_count": 213,
   "id": "e907a60d",
   "metadata": {},
   "outputs": [
    {
     "data": {
      "text/plain": [
       "1"
      ]
     },
     "execution_count": 213,
     "metadata": {},
     "output_type": "execute_result"
    }
   ],
   "source": [
    "v=M.nullspace()\n",
    "len(v)"
   ]
  },
  {
   "cell_type": "markdown",
   "id": "6718e91d",
   "metadata": {},
   "source": [
    "Значит пространство одномерно"
   ]
  },
  {
   "cell_type": "code",
   "execution_count": 215,
   "id": "b92f6a96",
   "metadata": {},
   "outputs": [
    {
     "data": {
      "text/latex": [
       "$\\displaystyle \\left[\\begin{matrix}- \\frac{2}{x - 1}\\\\\\frac{2}{x + 1}\\\\1\\end{matrix}\\right]$"
      ],
      "text/plain": [
       "Matrix([\n",
       "[-2/(x - 1)],\n",
       "[ 2/(x + 1)],\n",
       "[         1]])"
      ]
     },
     "execution_count": 215,
     "metadata": {},
     "output_type": "execute_result"
    }
   ],
   "source": [
    "v=sp.simplify(v[0])\n",
    "v"
   ]
  },
  {
   "cell_type": "code",
   "execution_count": 216,
   "id": "dba8280d",
   "metadata": {},
   "outputs": [
    {
     "data": {
      "text/latex": [
       "$\\displaystyle \\left[\\begin{matrix}0\\\\0\\\\0\\end{matrix}\\right]$"
      ],
      "text/plain": [
       "Matrix([\n",
       "[0],\n",
       "[0],\n",
       "[0]])"
      ]
     },
     "execution_count": 216,
     "metadata": {},
     "output_type": "execute_result"
    }
   ],
   "source": [
    "sp.simplify(M*v)"
   ]
  },
  {
   "cell_type": "markdown",
   "id": "c00b6a01",
   "metadata": {},
   "source": [
    "Собственные значения и их кратности."
   ]
  },
  {
   "cell_type": "code",
   "execution_count": 217,
   "id": "89378255",
   "metadata": {},
   "outputs": [
    {
     "data": {
      "text/plain": [
       "{-(x**2 + 3)**2: 1, (x**2 + 3)**2: 1, 0: 1}"
      ]
     },
     "execution_count": 217,
     "metadata": {},
     "output_type": "execute_result"
    }
   ],
   "source": [
    "M.eigenvals()"
   ]
  },
  {
   "cell_type": "markdown",
   "id": "73e08ad5",
   "metadata": {},
   "source": [
    "Если нужны не только собственные значения, но и собственные векторы, то нужно использовать метод eigenvects. Он возвращает список кортежей. В каждом из них нулевой элемент - собственное значение, первый - его кратность, и последний - список собственных векторов, образующих базис (их столько, какова кратность)."
   ]
  },
  {
   "cell_type": "code",
   "execution_count": 218,
   "id": "b3c890cf",
   "metadata": {},
   "outputs": [
    {
     "data": {
      "text/plain": [
       "3"
      ]
     },
     "execution_count": 218,
     "metadata": {},
     "output_type": "execute_result"
    }
   ],
   "source": [
    "v=M.eigenvects()\n",
    "len(v)"
   ]
  },
  {
   "cell_type": "code",
   "execution_count": 219,
   "id": "4f4b8d07",
   "metadata": {},
   "outputs": [
    {
     "data": {
      "text/plain": [
       "[(0,\n",
       "  1,\n",
       "  [Matrix([\n",
       "   [-2/(x - 1)],\n",
       "   [ 2/(x + 1)],\n",
       "   [         1]])]),\n",
       " (-x**4 - 6*x**2 - 9,\n",
       "  1,\n",
       "  [Matrix([\n",
       "   [      x/2 + 1/2],\n",
       "   [(x + 1)/(x - 1)],\n",
       "   [              1]])]),\n",
       " (x**4 + 6*x**2 + 9,\n",
       "  1,\n",
       "  [Matrix([\n",
       "   [(x - 1)/(x + 1)],\n",
       "   [      1/2 - x/2],\n",
       "   [              1]])])]"
      ]
     },
     "execution_count": 219,
     "metadata": {},
     "output_type": "execute_result"
    }
   ],
   "source": [
    "for i in range(len(v)):\n",
    "    v[i][2][0]=sp.simplify(v[i][2][0])\n",
    "v"
   ]
  },
  {
   "cell_type": "code",
   "execution_count": 220,
   "id": "5def3286",
   "metadata": {},
   "outputs": [
    {
     "name": "stdout",
     "output_type": "stream",
     "text": [
      "Matrix([[0], [0], [0]])\n",
      "Matrix([[0], [0], [0]])\n",
      "Matrix([[0], [0], [0]])\n"
     ]
    }
   ],
   "source": [
    "for i in range(len(v)):\n",
    "    z=M*v[i][2][0]-v[i][0]*v[i][2][0]\n",
    "    print(sp.simplify(z))"
   ]
  },
  {
   "cell_type": "markdown",
   "id": "1301ecc1",
   "metadata": {},
   "source": [
    "ЖНФ - Жорданова нормальная форма"
   ]
  },
  {
   "cell_type": "code",
   "execution_count": 221,
   "id": "4a68d251",
   "metadata": {},
   "outputs": [
    {
     "data": {
      "text/latex": [
       "$\\displaystyle \\left[\\begin{matrix}\\frac{13}{9} & - \\frac{2}{9} & \\frac{1}{3} & \\frac{4}{9} & \\frac{2}{3}\\\\- \\frac{2}{9} & \\frac{10}{9} & \\frac{2}{15} & - \\frac{2}{9} & - \\frac{11}{15}\\\\\\frac{1}{5} & - \\frac{2}{5} & \\frac{41}{25} & - \\frac{2}{5} & \\frac{12}{25}\\\\\\frac{4}{9} & - \\frac{2}{9} & \\frac{14}{15} & \\frac{13}{9} & - \\frac{2}{15}\\\\- \\frac{4}{15} & \\frac{8}{15} & \\frac{12}{25} & \\frac{8}{15} & \\frac{34}{25}\\end{matrix}\\right]$"
      ],
      "text/plain": [
       "Matrix([\n",
       "[ 13/9, -2/9,   1/3,  4/9,    2/3],\n",
       "[ -2/9, 10/9,  2/15, -2/9, -11/15],\n",
       "[  1/5, -2/5, 41/25, -2/5,  12/25],\n",
       "[  4/9, -2/9, 14/15, 13/9,  -2/15],\n",
       "[-4/15, 8/15, 12/25, 8/15,  34/25]])"
      ]
     },
     "execution_count": 221,
     "metadata": {},
     "output_type": "execute_result"
    }
   ],
   "source": [
    "M=sp.Matrix([[sp.Rational(13,9),-sp.Rational(2,9),sp.Rational(1,3),sp.Rational(4,9),sp.Rational(2,3)],\n",
    "          [-sp.Rational(2,9),sp.Rational(10,9),sp.Rational(2,15),-sp.Rational(2,9),-sp.Rational(11,15)],\n",
    "          [sp.Rational(1,5),-sp.Rational(2,5),sp.Rational(41,25),-sp.Rational(2,5),sp.Rational(12,25)],\n",
    "          [sp.Rational(4,9),-sp.Rational(2,9),sp.Rational(14,15),sp.Rational(13,9),-sp.Rational(2,15)],\n",
    "          [-sp.Rational(4,15),sp.Rational(8,15),sp.Rational(12,25),sp.Rational(8,15),sp.Rational(34,25)]])\n",
    "M"
   ]
  },
  {
   "cell_type": "markdown",
   "id": "a1d576e9",
   "metadata": {},
   "source": [
    "Метод M.jordan_form() возвращает пару матриц, матрицу преобразования P и собственно жорданову форму J : M=PJP−1 "
   ]
  },
  {
   "cell_type": "code",
   "execution_count": 222,
   "id": "6d3ac672",
   "metadata": {},
   "outputs": [
    {
     "data": {
      "text/latex": [
       "$\\displaystyle \\left[\\begin{matrix}1 & 0 & 0 & 0 & 0\\\\0 & 2 & 1 & 0 & 0\\\\0 & 0 & 2 & 0 & 0\\\\0 & 0 & 0 & 1 - i & 0\\\\0 & 0 & 0 & 0 & 1 + i\\end{matrix}\\right]$"
      ],
      "text/plain": [
       "Matrix([\n",
       "[1, 0, 0,     0,     0],\n",
       "[0, 2, 1,     0,     0],\n",
       "[0, 0, 2,     0,     0],\n",
       "[0, 0, 0, 1 - I,     0],\n",
       "[0, 0, 0,     0, 1 + I]])"
      ]
     },
     "execution_count": 222,
     "metadata": {},
     "output_type": "execute_result"
    }
   ],
   "source": [
    "P,J=M.jordan_form()\n",
    "J"
   ]
  },
  {
   "cell_type": "code",
   "execution_count": 223,
   "id": "acab5f57",
   "metadata": {},
   "outputs": [
    {
     "data": {
      "text/latex": [
       "$\\displaystyle \\left[\\begin{matrix}-2 & \\frac{10}{9} & 0 & \\frac{5 i}{12} & - \\frac{5 i}{12}\\\\-2 & - \\frac{5}{9} & 0 & - \\frac{5 i}{6} & \\frac{5 i}{6}\\\\0 & 0 & \\frac{4}{3} & - \\frac{3}{4} & - \\frac{3}{4}\\\\1 & \\frac{10}{9} & 0 & - \\frac{5 i}{6} & \\frac{5 i}{6}\\\\0 & 0 & 1 & 1 & 1\\end{matrix}\\right]$"
      ],
      "text/plain": [
       "Matrix([\n",
       "[-2, 10/9,   0, 5*I/12, -5*I/12],\n",
       "[-2, -5/9,   0, -5*I/6,   5*I/6],\n",
       "[ 0,    0, 4/3,   -3/4,    -3/4],\n",
       "[ 1, 10/9,   0, -5*I/6,   5*I/6],\n",
       "[ 0,    0,   1,      1,       1]])"
      ]
     },
     "execution_count": 223,
     "metadata": {},
     "output_type": "execute_result"
    }
   ],
   "source": [
    "P=sp.simplify(P)\n",
    "P"
   ]
  },
  {
   "cell_type": "code",
   "execution_count": 224,
   "id": "f482381b",
   "metadata": {},
   "outputs": [
    {
     "data": {
      "text/latex": [
       "$\\displaystyle \\left[\\begin{matrix}0 & 0 & 0 & 0 & 0\\\\0 & 0 & 0 & 0 & 0\\\\0 & 0 & 0 & 0 & 0\\\\0 & 0 & 0 & 0 & 0\\\\0 & 0 & 0 & 0 & 0\\end{matrix}\\right]$"
      ],
      "text/plain": [
       "Matrix([\n",
       "[0, 0, 0, 0, 0],\n",
       "[0, 0, 0, 0, 0],\n",
       "[0, 0, 0, 0, 0],\n",
       "[0, 0, 0, 0, 0],\n",
       "[0, 0, 0, 0, 0]])"
      ]
     },
     "execution_count": 224,
     "metadata": {},
     "output_type": "execute_result"
    }
   ],
   "source": [
    "Z=P*J*P**(-1)-M\n",
    "sp.simplify(Z)"
   ]
  },
  {
   "cell_type": "markdown",
   "id": "9551bc44",
   "metadata": {},
   "source": [
    "Пример. Определитель Вандермонда"
   ]
  },
  {
   "cell_type": "code",
   "execution_count": 225,
   "id": "d91780a9",
   "metadata": {},
   "outputs": [],
   "source": [
    "x0, x1, x2, x3 = sp.symbols('x0, x1, x2, x3')"
   ]
  },
  {
   "cell_type": "code",
   "execution_count": 226,
   "id": "7dbb8bb4",
   "metadata": {},
   "outputs": [
    {
     "data": {
      "text/latex": [
       "$\\displaystyle \\left[\\begin{matrix}1 & x_{0} & x_{0}^{2}\\\\1 & x_{1} & x_{1}^{2}\\\\1 & x_{2} & x_{2}^{2}\\end{matrix}\\right]$"
      ],
      "text/plain": [
       "Matrix([\n",
       "[1, x0, x0**2],\n",
       "[1, x1, x1**2],\n",
       "[1, x2, x2**2]])"
      ]
     },
     "execution_count": 226,
     "metadata": {},
     "output_type": "execute_result"
    }
   ],
   "source": [
    "W = sp.Matrix([\n",
    "    [1, x0, x0**2],\n",
    "    [1, x1, x1**2],\n",
    "    [1, x2, x2**2]])\n",
    "W"
   ]
  },
  {
   "cell_type": "code",
   "execution_count": 227,
   "id": "76b88b24",
   "metadata": {},
   "outputs": [
    {
     "data": {
      "text/latex": [
       "$\\displaystyle - x_{0}^{2} x_{1} + x_{0}^{2} x_{2} + x_{0} x_{1}^{2} - x_{0} x_{2}^{2} - x_{1}^{2} x_{2} + x_{1} x_{2}^{2}$"
      ],
      "text/plain": [
       "-x0**2*x1 + x0**2*x2 + x0*x1**2 - x0*x2**2 - x1**2*x2 + x1*x2**2"
      ]
     },
     "execution_count": 227,
     "metadata": {},
     "output_type": "execute_result"
    }
   ],
   "source": [
    "W.det()"
   ]
  },
  {
   "cell_type": "code",
   "execution_count": 228,
   "id": "5a1b9579",
   "metadata": {},
   "outputs": [
    {
     "data": {
      "text/latex": [
       "$\\displaystyle - \\left(x_{0} - x_{1}\\right) \\left(x_{0} - x_{2}\\right) \\left(x_{1} - x_{2}\\right)$"
      ],
      "text/plain": [
       "-(x0 - x1)*(x0 - x2)*(x1 - x2)"
      ]
     },
     "execution_count": 228,
     "metadata": {},
     "output_type": "execute_result"
    }
   ],
   "source": [
    "W.det().factor()"
   ]
  },
  {
   "cell_type": "code",
   "execution_count": 229,
   "id": "536b670f",
   "metadata": {},
   "outputs": [
    {
     "data": {
      "text/latex": [
       "$\\displaystyle \\left[\\begin{matrix}1 & x_{0} & x_{0}^{2} & x_{0}^{3}\\\\1 & x_{1} & x_{1}^{2} & x_{1}^{3}\\\\1 & x_{2} & x_{2}^{2} & x_{2}^{3}\\\\1 & x_{3} & x_{3}^{2} & x_{3}^{3}\\end{matrix}\\right]$"
      ],
      "text/plain": [
       "Matrix([\n",
       "[1, x0, x0**2, x0**3],\n",
       "[1, x1, x1**2, x1**3],\n",
       "[1, x2, x2**2, x2**3],\n",
       "[1, x3, x3**2, x3**3]])"
      ]
     },
     "execution_count": 229,
     "metadata": {},
     "output_type": "execute_result"
    }
   ],
   "source": [
    "W = sp.Matrix([\n",
    "    [1, x0, x0**2, x0**3],\n",
    "    [1, x1, x1**2, x1**3],\n",
    "    [1, x2, x2**2, x2**3],\n",
    "    [1, x3, x3**2, x3**3]])\n",
    "W"
   ]
  },
  {
   "cell_type": "code",
   "execution_count": 230,
   "id": "b09ce15e",
   "metadata": {},
   "outputs": [
    {
     "data": {
      "text/latex": [
       "$\\displaystyle \\left(x_{0} - x_{1}\\right) \\left(x_{0} - x_{2}\\right) \\left(x_{0} - x_{3}\\right) \\left(x_{1} - x_{2}\\right) \\left(x_{1} - x_{3}\\right) \\left(x_{2} - x_{3}\\right)$"
      ],
      "text/plain": [
       "(x0 - x1)*(x0 - x2)*(x0 - x3)*(x1 - x2)*(x1 - x3)*(x2 - x3)"
      ]
     },
     "execution_count": 230,
     "metadata": {},
     "output_type": "execute_result"
    }
   ],
   "source": [
    "W.det().factor()"
   ]
  },
  {
   "cell_type": "markdown",
   "id": "7f2b7817",
   "metadata": {},
   "source": [
    "### Немного физики\n",
    "\n",
    "Пример. Уравнение осциллятора"
   ]
  },
  {
   "cell_type": "code",
   "execution_count": 231,
   "id": "a19bbf95",
   "metadata": {},
   "outputs": [
    {
     "data": {
      "text/plain": [
       "y"
      ]
     },
     "execution_count": 231,
     "metadata": {},
     "output_type": "execute_result"
    }
   ],
   "source": [
    "y = sp.Function('y')\n",
    "y"
   ]
  },
  {
   "cell_type": "markdown",
   "id": "0d608d75",
   "metadata": {},
   "source": [
    "*Осциллятор* - это название математической модели, описывающей ряд физических процессов:\n",
    "колебание математического маятника с малыми углами отклонения, колебания груза на пружине (оба: с учетом силы трения), LC-цепь и др. Процесс описывается уравнением:\n",
    "$$\n",
    "m \\frac{d^2 y(t)}{dt^2} + \\alpha\\frac{d y(t)}{dt} + k y(t) = 0.\n",
    "$$"
   ]
  },
  {
   "cell_type": "code",
   "execution_count": 232,
   "id": "6ca544b2",
   "metadata": {},
   "outputs": [
    {
     "data": {
      "text/latex": [
       "$\\displaystyle \\alpha \\frac{d}{d t} y{\\left(t \\right)} + k y{\\left(t \\right)} + m \\frac{d^{2}}{d t^{2}} y{\\left(t \\right)} = 0$"
      ],
      "text/plain": [
       "Eq(alpha*Derivative(y(t), t) + k*y(t) + m*Derivative(y(t), (t, 2)), 0)"
      ]
     },
     "execution_count": 232,
     "metadata": {},
     "output_type": "execute_result"
    }
   ],
   "source": [
    "m, alpha, k = sp.symbols('m, alpha, k')\n",
    "diff_eq = m*y(t).diff(t, t) + alpha*y(t).diff(t) + k*y(t)\n",
    "sp.Eq(diff_eq, 0)"
   ]
  },
  {
   "cell_type": "code",
   "execution_count": 233,
   "id": "10334594",
   "metadata": {},
   "outputs": [
    {
     "data": {
      "text/latex": [
       "$\\displaystyle y{\\left(t \\right)} = C_{1} e^{\\frac{t \\left(- \\alpha - \\sqrt{\\alpha^{2} - 4 k m}\\right)}{2 m}} + C_{2} e^{\\frac{t \\left(- \\alpha + \\sqrt{\\alpha^{2} - 4 k m}\\right)}{2 m}}$"
      ],
      "text/plain": [
       "Eq(y(t), C1*exp(t*(-alpha - sqrt(alpha**2 - 4*k*m))/(2*m)) + C2*exp(t*(-alpha + sqrt(alpha**2 - 4*k*m))/(2*m)))"
      ]
     },
     "execution_count": 233,
     "metadata": {},
     "output_type": "execute_result"
    }
   ],
   "source": [
    "y_sol = sp.dsolve(diff_eq)\n",
    "y_sol"
   ]
  },
  {
   "cell_type": "markdown",
   "id": "a18079a4",
   "metadata": {},
   "source": [
    "Возьмем начальное условие $y(0)=1$, $y'(0)=0$:"
   ]
  },
  {
   "cell_type": "code",
   "execution_count": 234,
   "id": "43a5d1ad",
   "metadata": {},
   "outputs": [
    {
     "data": {
      "text/latex": [
       "$\\displaystyle y{\\left(t \\right)} = \\left(- \\frac{\\alpha}{2 \\sqrt{\\alpha^{2} - 4 k m}} + \\frac{1}{2}\\right) e^{\\frac{t \\left(- \\alpha - \\sqrt{\\alpha^{2} - 4 k m}\\right)}{2 m}} + \\left(\\frac{\\alpha}{2 \\sqrt{\\alpha^{2} - 4 k m}} + \\frac{1}{2}\\right) e^{\\frac{t \\left(- \\alpha + \\sqrt{\\alpha^{2} - 4 k m}\\right)}{2 m}}$"
      ],
      "text/plain": [
       "Eq(y(t), (-alpha/(2*sqrt(alpha**2 - 4*k*m)) + 1/2)*exp(t*(-alpha - sqrt(alpha**2 - 4*k*m))/(2*m)) + (alpha/(2*sqrt(alpha**2 - 4*k*m)) + 1/2)*exp(t*(-alpha + sqrt(alpha**2 - 4*k*m))/(2*m)))"
      ]
     },
     "execution_count": 234,
     "metadata": {},
     "output_type": "execute_result"
    }
   ],
   "source": [
    "y_sol = sp.dsolve(diff_eq, ics={y(0): 1, sp.diff(y(t), t).subs(t,0): 0})\n",
    "y_sol"
   ]
  },
  {
   "cell_type": "code",
   "execution_count": 235,
   "id": "73a6104c",
   "metadata": {},
   "outputs": [
    {
     "data": {
      "text/latex": [
       "$\\displaystyle \\left(- \\frac{\\alpha}{2 \\sqrt{\\alpha^{2} - 4 k m}} + \\frac{1}{2}\\right) e^{\\frac{t \\left(- \\alpha - \\sqrt{\\alpha^{2} - 4 k m}\\right)}{2 m}} + \\left(\\frac{\\alpha}{2 \\sqrt{\\alpha^{2} - 4 k m}} + \\frac{1}{2}\\right) e^{\\frac{t \\left(- \\alpha + \\sqrt{\\alpha^{2} - 4 k m}\\right)}{2 m}}$"
      ],
      "text/plain": [
       "(-alpha/(2*sqrt(alpha**2 - 4*k*m)) + 1/2)*exp(t*(-alpha - sqrt(alpha**2 - 4*k*m))/(2*m)) + (alpha/(2*sqrt(alpha**2 - 4*k*m)) + 1/2)*exp(t*(-alpha + sqrt(alpha**2 - 4*k*m))/(2*m))"
      ]
     },
     "execution_count": 235,
     "metadata": {},
     "output_type": "execute_result"
    }
   ],
   "source": [
    "y_sol.rhs"
   ]
  },
  {
   "cell_type": "markdown",
   "id": "32ec9516",
   "metadata": {},
   "source": [
    "Обратите внимание, что значение подкоренного выражения в $\\sqrt{\\alpha^2 - 4km}$ может быть отрицательным. В этом случае сам корень чисто мнимый, однако результат всего выражения для $y(t)$ будет вещественным (мнимые части уничтожаются).\n",
    "\n",
    "Построим график $y(t)$ для разных значения параметров $m$, $\\alpha$, $k$:"
   ]
  },
  {
   "cell_type": "code",
   "execution_count": 236,
   "id": "c28986ce",
   "metadata": {},
   "outputs": [
    {
     "name": "stderr",
     "output_type": "stream",
     "text": [
      "<lambdifygenerated-8>:2: RuntimeWarning: invalid value encountered in sqrt\n",
      "  return (-1/2*alpha/sqrt(alpha**2 - 4*k*m) + 1/2)*exp((1/2)*t*(-alpha - sqrt(alpha**2 - 4*k*m))/m) + ((1/2)*alpha/sqrt(alpha**2 - 4*k*m) + 1/2)*exp((1/2)*t*(-alpha + sqrt(alpha**2 - 4*k*m))/m)\n",
      "<lambdifygenerated-8>:2: RuntimeWarning: invalid value encountered in sqrt\n",
      "  return (-1/2*alpha/sqrt(alpha**2 - 4*k*m) + 1/2)*exp((1/2)*t*(-alpha - sqrt(alpha**2 - 4*k*m))/m) + ((1/2)*alpha/sqrt(alpha**2 - 4*k*m) + 1/2)*exp((1/2)*t*(-alpha + sqrt(alpha**2 - 4*k*m))/m)\n",
      "<lambdifygenerated-8>:2: RuntimeWarning: invalid value encountered in sqrt\n",
      "  return (-1/2*alpha/sqrt(alpha**2 - 4*k*m) + 1/2)*exp((1/2)*t*(-alpha - sqrt(alpha**2 - 4*k*m))/m) + ((1/2)*alpha/sqrt(alpha**2 - 4*k*m) + 1/2)*exp((1/2)*t*(-alpha + sqrt(alpha**2 - 4*k*m))/m)\n",
      "<lambdifygenerated-8>:2: RuntimeWarning: invalid value encountered in sqrt\n",
      "  return (-1/2*alpha/sqrt(alpha**2 - 4*k*m) + 1/2)*exp((1/2)*t*(-alpha - sqrt(alpha**2 - 4*k*m))/m) + ((1/2)*alpha/sqrt(alpha**2 - 4*k*m) + 1/2)*exp((1/2)*t*(-alpha + sqrt(alpha**2 - 4*k*m))/m)\n"
     ]
    },
    {
     "data": {
      "image/png": "[encoded data removed]",
      "text/plain": [
       "<Figure size 432x288 with 1 Axes>"
      ]
     },
     "metadata": {
      "needs_background": "light"
     },
     "output_type": "display_data"
    }
   ],
   "source": [
    "y_lambda = sp.lambdify((t, m, alpha, k), y_sol.rhs)\n",
    "tt = np.linspace(0, 20, 500)\n",
    "plt.plot(tt, y_lambda(tt, m=1, k=1, alpha=0))\n",
    "plt.plot(tt, y_lambda(tt, m=1, k=1, alpha=.07))\n",
    "plt.plot(tt, y_lambda(tt, m=1, k=1, alpha=.25))\n",
    "plt.plot(tt, y_lambda(tt, m=1, k=1, alpha=1))\n",
    "plt.plot(tt, y_lambda(tt, m=1, k=1, alpha=2.01))\n",
    "plt.plot(tt, y_lambda(tt, m=1, k=1, alpha=4))\n",
    "pass"
   ]
  },
  {
   "cell_type": "code",
   "execution_count": null,
   "id": "dcb19ee5",
   "metadata": {},
   "outputs": [],
   "source": []
  }
 ],
 "metadata": {
  "kernelspec": {
   "display_name": "Python 3 (ipykernel)",
   "language": "python",
   "name": "python3"
  },
  "language_info": {
   "codemirror_mode": {
    "name": "ipython",
    "version": 3
   },
   "file_extension": ".py",
   "mimetype": "text/x-python",
   "name": "python",
   "nbconvert_exporter": "python",
   "pygments_lexer": "ipython3",
   "version": "3.9.7"
  }
 },
 "nbformat": 4,
 "nbformat_minor": 5
}
