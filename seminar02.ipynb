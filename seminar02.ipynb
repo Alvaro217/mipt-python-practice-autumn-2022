{
 "cells": [
  {
   "cell_type": "code",
   "execution_count": 26,
   "id": "afb9d609",
   "metadata": {},
   "outputs": [],
   "source": [
    "from IPython.core.interactiveshell import InteractiveShell\n",
    "InteractiveShell.ast_node_interactivity = \"all\""
   ]
  },
  {
   "cell_type": "markdown",
   "id": "a2677ba7",
   "metadata": {},
   "source": [
    "## Практикум Python\n",
    "**Семинар 2**"
   ]
  },
  {
   "cell_type": "markdown",
   "id": "eda92f97",
   "metadata": {},
   "source": [
    "Повторим пройденное. Какой будет результат работы программы?"
   ]
  },
  {
   "cell_type": "code",
   "execution_count": null,
   "id": "df580590",
   "metadata": {},
   "outputs": [],
   "source": [
    "a = -5\n",
    "b = 3\n",
    "a % b"
   ]
  },
  {
   "cell_type": "code",
   "execution_count": null,
   "id": "36072044",
   "metadata": {},
   "outputs": [],
   "source": [
    "str1 = 'abcde'\n",
    "str2 = 'fgh'\n",
    "str2 < str1"
   ]
  },
  {
   "cell_type": "code",
   "execution_count": null,
   "id": "474f8109",
   "metadata": {},
   "outputs": [],
   "source": [
    "s = {1, 34, 'string', None, 5.2}\n",
    "s.add(5.2)\n",
    "s.remove(1)\n",
    "\n",
    "# В каком порядке выведутся элементы?\n",
    "print(s)"
   ]
  },
  {
   "cell_type": "markdown",
   "id": "71b2d132",
   "metadata": {},
   "source": [
    "# Тема 2. Условные операторы. Циклы. Контейнеры\n",
    "\n",
    "**Содержание:**\n",
    "\n",
    "1. Условный оператор\n",
    "2. Тернарный условный оператор\n",
    "3. Цикл `while`\n",
    "4. Цикл `for`. Функция `range`\n",
    "5. `tuple` / `list` и основные операции с ними\n",
    "6. list comprehensions\n",
    "7. generator expressions\n",
    "8. Модуль itertools"
   ]
  },
  {
   "cell_type": "markdown",
   "id": "17cdef1e",
   "metadata": {},
   "source": [
    "## Условные операторы (if, elif, else)\n",
    "\n",
    "Условные операторы в Python выглядят следующим образом:\n",
    "\n",
    "```python\n",
    "if condition:\n",
    "    true_action() # действие, если condition выполнено\n",
    "else:\n",
    "    false_action() # действие, если condition не выполнено\n",
    "```"
   ]
  },
  {
   "cell_type": "markdown",
   "id": "bf3876fc",
   "metadata": {},
   "source": [
    "condition - условие, которое принимает значение True или False\n",
    "\n",
    "Если condition непосредственно не является значением типа bool, то происходит приведение к bool"
   ]
  },
  {
   "cell_type": "markdown",
   "id": "98f55866",
   "metadata": {},
   "source": [
    "**Пример:**"
   ]
  },
  {
   "cell_type": "code",
   "execution_count": null,
   "id": "317e64df",
   "metadata": {},
   "outputs": [],
   "source": [
    "#проверяем раскладку клавиатуры\n",
    "lang = 'ru'\n",
    "\n",
    "if lang == 'ru':\n",
    "    print('Выбран русский язык')\n",
    "else:\n",
    "    print('Выбран английский язык')"
   ]
  },
  {
   "cell_type": "markdown",
   "id": "5735f795",
   "metadata": {},
   "source": [
    "**Замечание** - в отличие от C / C++, в Python нет скобок для обрамления команд, для этого используются отступы. По PEP-8 1 отступ - 4 пробела."
   ]
  },
  {
   "cell_type": "markdown",
   "id": "b943348e",
   "metadata": {},
   "source": [
    "Проверок может быть несколько:"
   ]
  },
  {
   "cell_type": "code",
   "execution_count": 8,
   "id": "9f34ea6a",
   "metadata": {},
   "outputs": [
    {
     "name": "stdout",
     "output_type": "stream",
     "text": [
      "Summer\n"
     ]
    }
   ],
   "source": [
    "month = 7\n",
    "\n",
    "if month >= 3 and month <= 5:\n",
    "    print('Spring')\n",
    "else:\n",
    "    if month >= 6 and month <= 8:\n",
    "        print('Summer')\n",
    "    else:\n",
    "        if month >= 9 and month <= 11:\n",
    "            print('Autumn')\n",
    "        else:\n",
    "            print('Winter')"
   ]
  },
  {
   "cell_type": "markdown",
   "id": "7fdf9443",
   "metadata": {},
   "source": [
    "**Вопрос:** В чём минусы данного кода?"
   ]
  },
  {
   "cell_type": "markdown",
   "id": "ba8a7638",
   "metadata": {},
   "source": [
    "Выражение вида:\n",
    "\n",
    "```python\n",
    "else:\n",
    "    if condition:\n",
    "```\n",
    "\n",
    "может быть переписано как:\n",
    "\n",
    "```python\n",
    "elif condition:\n",
    "```"
   ]
  },
  {
   "cell_type": "markdown",
   "id": "69bd1f62",
   "metadata": {},
   "source": [
    "Предыдущий код можно переписать иначе:"
   ]
  },
  {
   "cell_type": "code",
   "execution_count": 11,
   "id": "1f1b3b56",
   "metadata": {},
   "outputs": [
    {
     "name": "stdout",
     "output_type": "stream",
     "text": [
      "Summer\n"
     ]
    }
   ],
   "source": [
    "month = 8\n",
    "\n",
    "if month >= 3 and month <= 5:\n",
    "    print('Spring')\n",
    "elif month >= 6 and month <= 8:\n",
    "    print('Summer')\n",
    "elif month >= 9 and month <= 11:\n",
    "    print('Autumn')\n",
    "else:\n",
    "    print('Winter')"
   ]
  },
  {
   "cell_type": "markdown",
   "id": "e35a8657",
   "metadata": {},
   "source": [
    "**3адача 1**\n",
    "\n",
    "Число вводится с клавиатуры. Определите, оно является положительным, отрацательным или равно нулю"
   ]
  },
  {
   "cell_type": "code",
   "execution_count": null,
   "id": "2bbff92b",
   "metadata": {},
   "outputs": [],
   "source": []
  },
  {
   "cell_type": "markdown",
   "id": "1bf3e35a",
   "metadata": {},
   "source": [
    "## Тернарный условный оператор"
   ]
  },
  {
   "cell_type": "markdown",
   "id": "192adc58",
   "metadata": {},
   "source": [
    "Если вам нужно выполнить одну строчку кода в каждом из условии, то удобно пользоваться тернарным оператором:\n",
    "\n",
    "```python\n",
    "[if_true] if [expression] else [if_false]\n",
    "```"
   ]
  },
  {
   "cell_type": "code",
   "execution_count": 12,
   "id": "2ff2eede",
   "metadata": {},
   "outputs": [
    {
     "name": "stdout",
     "output_type": "stream",
     "text": [
      "adult\n",
      "child\n"
     ]
    }
   ],
   "source": [
    "age1 = 20\n",
    "print('adult' if age1 >= 18 else 'child')\n",
    "\n",
    "age2 = 16\n",
    "print('adult' if age2 >= 18 else 'child')"
   ]
  },
  {
   "cell_type": "markdown",
   "id": "32b71c2e",
   "metadata": {},
   "source": [
    "Тернарные операторы можно использовать в выражениях:"
   ]
  },
  {
   "cell_type": "code",
   "execution_count": 13,
   "id": "54c6448b",
   "metadata": {},
   "outputs": [
    {
     "name": "stdout",
     "output_type": "stream",
     "text": [
      "5\n",
      "8\n"
     ]
    }
   ],
   "source": [
    "x, y = 3, 5\n",
    "\n",
    "z = 3 + x if x > y else y\n",
    "print(z)\n",
    "\n",
    "#Обратите внимание на порядок вычислений\n",
    "z = 3 + (x if x > y else y) \n",
    "print(z)"
   ]
  },
  {
   "cell_type": "markdown",
   "id": "9a41c810",
   "metadata": {},
   "source": [
    "Условия можно использовать подряд в тернарных операторах (но лучше не надо, это ухудшает читаемость кода):"
   ]
  },
  {
   "cell_type": "code",
   "execution_count": 14,
   "id": "4f884482",
   "metadata": {},
   "outputs": [
    {
     "data": {
      "text/plain": [
       "'teenager'"
      ]
     },
     "execution_count": 14,
     "metadata": {},
     "output_type": "execute_result"
    }
   ],
   "source": [
    "age = 15\n",
    "'kid' if age < 13 else 'teenager' if age < 18 else 'adult'"
   ]
  },
  {
   "cell_type": "markdown",
   "id": "f87ca14a",
   "metadata": {},
   "source": [
    "Тернарный оператор можно представить в виде эквивалентного выражения:"
   ]
  },
  {
   "cell_type": "code",
   "execution_count": 15,
   "id": "e583630a",
   "metadata": {},
   "outputs": [
    {
     "name": "stdout",
     "output_type": "stream",
     "text": [
      "The cat is: nice\n",
      "The cat is: nice\n"
     ]
    }
   ],
   "source": [
    "nice = True\n",
    "\n",
    "personality = \"nice\" if nice else \"mean\"\n",
    "print(\"The cat is:\", personality)\n",
    "\n",
    "personality = (\"mean\", \"nice\")[nice]\n",
    "print(\"The cat is:\", personality)"
   ]
  },
  {
   "cell_type": "markdown",
   "id": "c3b30ebc",
   "metadata": {},
   "source": [
    "## Цикл while\n",
    "\n",
    "Синтаксис:\n",
    "\n",
    "```python\n",
    "while condition:\n",
    "    do_something()\n",
    "```"
   ]
  },
  {
   "cell_type": "code",
   "execution_count": 17,
   "id": "9d1cf0db",
   "metadata": {},
   "outputs": [
    {
     "name": "stdout",
     "output_type": "stream",
     "text": [
      "Цикл выполнился 1 раз(а)\n",
      "Цикл выполнился 2 раз(а)\n",
      "Цикл выполнился 3 раз(а)\n",
      "Цикл выполнился 4 раз(а)\n",
      "Цикл выполнился 5 раз(а)\n",
      "Цикл выполнился 6 раз(а)\n",
      "Цикл выполнился 7 раз(а)\n",
      "Цикл выполнился 8 раз(а)\n",
      "Цикл выполнился 9 раз(а)\n",
      "Цикл выполнился 10 раз(а)\n",
      "Цикл окончен\n"
     ]
    }
   ],
   "source": [
    "count = 1\n",
    "\n",
    "while count <= 10:\n",
    "    print('Цикл выполнился ' + str(count) + ' раз(а)')\n",
    "    count += 1\n",
    "\n",
    "print('Цикл окончен')"
   ]
  },
  {
   "cell_type": "markdown",
   "id": "80cb679a",
   "metadata": {},
   "source": [
    "Для выхода из цикла до его \"официального\" завершения используется `break`"
   ]
  },
  {
   "cell_type": "code",
   "execution_count": 1,
   "id": "3502889e",
   "metadata": {},
   "outputs": [
    {
     "name": "stdout",
     "output_type": "stream",
     "text": [
      "5\n",
      "10\n"
     ]
    }
   ],
   "source": [
    "# Найти сумму первых n натуральных чисел\n",
    "\n",
    "i = 1\n",
    "n = int(input())\n",
    "summ = 0\n",
    "\n",
    "while True: #бесконечный цикл\n",
    "    summ += i\n",
    "    i += 1\n",
    "    if i >= n:\n",
    "        break\n",
    "\n",
    "print(summ)"
   ]
  },
  {
   "cell_type": "markdown",
   "id": "19cbb4f1",
   "metadata": {},
   "source": [
    "**Замечания:**\n",
    "1. Хотелось бы назвать переменную для суммы как `sum`, но это имя стандартной функции, технически можно переопределить `sum` как переменную, но так крайне не рекомендуется делать\n",
    "2. Можно написать условие и действие на одной строке, но так делать не стоит"
   ]
  },
  {
   "cell_type": "markdown",
   "id": "2cc8e3f8",
   "metadata": {},
   "source": [
    "Оператор `continue` используется для перехода к следующей итерации цикла, минуя выполнение оставшегося тела цикла"
   ]
  },
  {
   "cell_type": "code",
   "execution_count": 7,
   "id": "c0d316e9",
   "metadata": {},
   "outputs": [
    {
     "name": "stdout",
     "output_type": "stream",
     "text": [
      "4\n",
      "7\n"
     ]
    }
   ],
   "source": [
    "# Найти сумму всех натуральных чисел от 1 до n, не кратных k\n",
    "\n",
    "i = 0\n",
    "k = 3\n",
    "n = int(input())\n",
    "\n",
    "summ = 0\n",
    "\n",
    "while i < n:\n",
    "    i += 1\n",
    "    if not i % k:\n",
    "        continue\n",
    "    summ += i\n",
    "    \n",
    "print(summ)"
   ]
  },
  {
   "cell_type": "markdown",
   "id": "ee62598f",
   "metadata": {},
   "source": [
    "В Python имеется конструкция `while-else`, которая проверяет был ли выход из цикла с помощью `break`:"
   ]
  },
  {
   "cell_type": "code",
   "execution_count": 9,
   "id": "f2b22408",
   "metadata": {},
   "outputs": [
    {
     "name": "stdout",
     "output_type": "stream",
     "text": [
      "Не нашли пятёрку\n"
     ]
    }
   ],
   "source": [
    "#Проверим, есть ли число 5 в списке\n",
    "\n",
    "numbers = [1, 3, 7, 8, 10, 11]\n",
    "i = 0\n",
    "\n",
    "while i < len(numbers):\n",
    "    if numbers[i] == 5:\n",
    "        print('Нашли пятёрку')\n",
    "        break\n",
    "    i += 1\n",
    "        \n",
    "else: # если break не сработал \n",
    "    print('Не нашли пятёрку')"
   ]
  },
  {
   "cell_type": "markdown",
   "id": "964c5443",
   "metadata": {},
   "source": [
    "**Примечание** - функция `len()` возвращает количество элементов в контейнере."
   ]
  },
  {
   "cell_type": "markdown",
   "id": "24146130",
   "metadata": {},
   "source": [
    "## Цикл for\n",
    "\n",
    "В C++ `for`-цикл: \n",
    "\n",
    "```c\n",
    "for (i = 1; i < 11; ++i){\n",
    "    printf(\"%d \", i);\n",
    "}\n",
    "```\n",
    "\n",
    "В Python `for`-цикл устроен по-другому:\n",
    "\n",
    "```python\n",
    "numbers = [1, 2, 3, 5, 7]\n",
    "for n in numbers:\n",
    "    print(n)\n",
    "```\n",
    "\n",
    "Как можно заметить, в for-выражении отсутствуют привычные элементы. Вместо этого присутствует **итерируемый объект** (iterable) - объект, по которому можно итерироваться.\n",
    "\n",
    "С практической точки зрения, итерируемый объект - объект, который позволяет получить следующий объект с помощью метода **\\_\\_next\\_\\_** / функции **next()**."
   ]
  },
  {
   "cell_type": "markdown",
   "id": "6b2bbf39",
   "metadata": {},
   "source": [
    "Среди итерируемых объектов (iterables) выделяют **последовательности** (sequences), которые помимо получения следующего элемента могут выдавать элементы по индексу.\n",
    "\n",
    "**Примеры последовательностей:** списки, кортежи, строки.\n",
    "\n",
    "**Примеры не-последовательностей:** множества, словари, генераторные выражения (поговорим позднее), генераторы (тема 4)."
   ]
  },
  {
   "cell_type": "markdown",
   "id": "a158788d",
   "metadata": {},
   "source": [
    "Циклы `for` по спискам, кортежам и строкам:"
   ]
  },
  {
   "cell_type": "code",
   "execution_count": 10,
   "id": "63c22a13",
   "metadata": {},
   "outputs": [
    {
     "name": "stdout",
     "output_type": "stream",
     "text": [
      "list 1 2 3 4 5 \n",
      "tuple 1 2 3 4 5 \n",
      "s t r i n g 1 2 3 4 5 \n"
     ]
    }
   ],
   "source": [
    "list_obj = ['list', 1, 2, 3, 4, 5]\n",
    "for item in list_obj:\n",
    "    print(item, end=' ')\n",
    "print()\n",
    "    \n",
    "tuple_obj = ('tuple', 1, 2, 3, 4, 5)\n",
    "for item in tuple_obj:\n",
    "    print(item, end=' ')\n",
    "print()\n",
    "    \n",
    "string_obj = \"string12345\"\n",
    "for item in string_obj:\n",
    "    print(item, end=' ')\n",
    "print()"
   ]
  },
  {
   "cell_type": "markdown",
   "id": "0c483529",
   "metadata": {},
   "source": [
    "Циклы `for` по множествам и словарям:"
   ]
  },
  {
   "cell_type": "code",
   "execution_count": 11,
   "id": "1042647d",
   "metadata": {},
   "outputs": [
    {
     "name": "stdout",
     "output_type": "stream",
     "text": [
      "1 2 3 4 5 set \n",
      "dict 1 2 3 4 5 "
     ]
    }
   ],
   "source": [
    "set_obj = {'set', 1, 2, 3, 4, 5}\n",
    "for item in set_obj:\n",
    "    print(item, end=' ')\n",
    "print() # используется для перехода на новую строку\n",
    "    \n",
    "dict_obj = {'dict': \"value0\", 1: \"value1\", 2: \"value2\", 3: \"value3\", 4: \"value4\", 5: \"value5\"}\n",
    "for item in dict_obj:\n",
    "    print(item, end=' ')"
   ]
  },
  {
   "cell_type": "markdown",
   "id": "0a7dfe58",
   "metadata": {},
   "source": [
    "**Примечание** - цикл `for` для словаря выдаст ключи словаря, не значения."
   ]
  },
  {
   "cell_type": "markdown",
   "id": "ee0fb594",
   "metadata": {},
   "source": [
    "**Что делать, если просто хотим пройти по числам в диапазоне?**\n",
    "\n",
    "`range([start,] stop[, step])` возвращает неизменяемую последовательность чисел. \n",
    "\n",
    "По умолчанию `start=0`, `step=1`, и получаем `[0, stop)`. Помимо итерирования по `range`, можно проверять входит ли число в него:"
   ]
  },
  {
   "cell_type": "code",
   "execution_count": 12,
   "id": "0546b319",
   "metadata": {},
   "outputs": [
    {
     "data": {
      "text/plain": [
       "True"
      ]
     },
     "execution_count": 12,
     "metadata": {},
     "output_type": "execute_result"
    }
   ],
   "source": [
    "r = range(1, 10, 2)\n",
    "list(r)\n",
    "\n",
    "5 in r"
   ]
  },
  {
   "cell_type": "code",
   "execution_count": 13,
   "id": "90e7830d",
   "metadata": {},
   "outputs": [
    {
     "name": "stdout",
     "output_type": "stream",
     "text": [
      "Hello, Alice\n",
      "Hello, Bob\n",
      "Hello, Charley\n",
      "\n",
      "Hello, Alice\n",
      "Hello, Bob\n",
      "Hello, Charley\n",
      "\n",
      "Hello, Alice, Alice\n",
      "Hello, Bob, Bob\n",
      "Hello, Charley, Charley\n"
     ]
    }
   ],
   "source": [
    "name_list = ['Alice', 'Bob', 'Charley']\n",
    "for name in name_list:  # Перебираем элементы списка\n",
    "    print('Hello, ' + name)\n",
    "print()\n",
    "    \n",
    "for i in range(len(name_list)):  # Перебираем индексы от 0 до L-1\n",
    "    print('Hello, ' + name_list[i])\n",
    "print()    \n",
    "    \n",
    "for i, name in enumerate(name_list): # Перебираем пары индекс-элемент\n",
    "    print('Hello, ' + name_list[i] + \", \" + name)"
   ]
  },
  {
   "cell_type": "markdown",
   "id": "683215e1",
   "metadata": {},
   "source": [
    "Функция `enumerate` позволяет получить из итерируемого объекта генератор, возвращающий пары \"порядковый номер-элемент\""
   ]
  },
  {
   "cell_type": "markdown",
   "id": "8ccfacda",
   "metadata": {},
   "source": [
    "Рассмотрим несколько примеров:\n",
    "\n",
    "1. Поздороваемся только с двумя людьми"
   ]
  },
  {
   "cell_type": "code",
   "execution_count": 14,
   "id": "a6528c02",
   "metadata": {},
   "outputs": [
    {
     "name": "stdout",
     "output_type": "stream",
     "text": [
      "Hello, Alice\n",
      "Hello, Bob\n"
     ]
    }
   ],
   "source": [
    "name_list = ['Alice', 'Bob', 'Charley']\n",
    "\n",
    "for i in range(len(name_list)):\n",
    "    print('Hello, ' + name_list[i])\n",
    "    if i > 0: \n",
    "        break"
   ]
  },
  {
   "cell_type": "markdown",
   "id": "441cf75a",
   "metadata": {},
   "source": [
    "2. Не будем здороваться с Бобом"
   ]
  },
  {
   "cell_type": "code",
   "execution_count": 15,
   "id": "c32479e3",
   "metadata": {},
   "outputs": [
    {
     "name": "stdout",
     "output_type": "stream",
     "text": [
      "Hello, Alice\n",
      "Hello, Charley\n"
     ]
    }
   ],
   "source": [
    "name_list = ['Alice', 'Bob', 'Charley']\n",
    "\n",
    "for name in name_list:\n",
    "    if name == 'Bob':\n",
    "        continue\n",
    "    \n",
    "    print('Hello, ' + name)"
   ]
  },
  {
   "cell_type": "markdown",
   "id": "c84da276",
   "metadata": {},
   "source": [
    "Аналогично конструкции `while-else`, существует и конструкция `for-else`:"
   ]
  },
  {
   "cell_type": "code",
   "execution_count": 17,
   "id": "8c0e51e0",
   "metadata": {},
   "outputs": [
    {
     "name": "stdout",
     "output_type": "stream",
     "text": [
      "Не нашли пятёрку\n"
     ]
    }
   ],
   "source": [
    "numbers = [1, 3, 7, 8, 10]\n",
    "\n",
    "for n in numbers:\n",
    "    if n == 5:\n",
    "        print('Нашли пятёрку')\n",
    "        break\n",
    "        \n",
    "else: # если break не сработал\n",
    "    print('Не нашли пятёрку')"
   ]
  },
  {
   "cell_type": "markdown",
   "id": "774a75e9",
   "metadata": {},
   "source": [
    "**Задача 2**\n",
    "Число n вводится с клавиатуры. Найти знакочередующуюся сумму натуральных чисел от 1 до n.Первое число со знаком плюс."
   ]
  },
  {
   "cell_type": "code",
   "execution_count": null,
   "id": "b5431141",
   "metadata": {},
   "outputs": [],
   "source": []
  },
  {
   "cell_type": "markdown",
   "id": "41d0b88b",
   "metadata": {},
   "source": [
    "## Tuple и List и основные операции с ними\n",
    "\n",
    "Еще раз про `tuple` и `list`:"
   ]
  },
  {
   "cell_type": "code",
   "execution_count": 20,
   "id": "e4fbf009",
   "metadata": {},
   "outputs": [
    {
     "data": {
      "text/plain": [
       "['i', 'can', 'be', 'modified']"
      ]
     },
     "execution_count": 20,
     "metadata": {},
     "output_type": "execute_result"
    }
   ],
   "source": [
    "t = ['i', 'cannot', 'be', 'modified']\n",
    "type(t)\n",
    "t[1] = 'can'\n",
    "t"
   ]
  },
  {
   "cell_type": "code",
   "execution_count": 22,
   "id": "197dcc81",
   "metadata": {},
   "outputs": [
    {
     "name": "stdout",
     "output_type": "stream",
     "text": [
      "<class 'tuple'>\n"
     ]
    },
    {
     "ename": "TypeError",
     "evalue": "'tuple' object does not support item assignment",
     "output_type": "error",
     "traceback": [
      "\u001b[1;31m---------------------------------------------------------------------------\u001b[0m",
      "\u001b[1;31mTypeError\u001b[0m                                 Traceback (most recent call last)",
      "\u001b[1;32m~\\AppData\\Local\\Temp/ipykernel_7032/2011100195.py\u001b[0m in \u001b[0;36m<module>\u001b[1;34m\u001b[0m\n\u001b[0;32m      1\u001b[0m \u001b[0mt\u001b[0m \u001b[1;33m=\u001b[0m \u001b[1;33m(\u001b[0m\u001b[1;34m'i'\u001b[0m\u001b[1;33m,\u001b[0m \u001b[1;34m'cannot'\u001b[0m\u001b[1;33m,\u001b[0m \u001b[1;34m'be'\u001b[0m\u001b[1;33m,\u001b[0m \u001b[1;34m'modified'\u001b[0m\u001b[1;33m)\u001b[0m\u001b[1;33m\u001b[0m\u001b[1;33m\u001b[0m\u001b[0m\n\u001b[0;32m      2\u001b[0m \u001b[0mprint\u001b[0m\u001b[1;33m(\u001b[0m\u001b[0mtype\u001b[0m\u001b[1;33m(\u001b[0m\u001b[0mt\u001b[0m\u001b[1;33m)\u001b[0m\u001b[1;33m)\u001b[0m\u001b[1;33m\u001b[0m\u001b[1;33m\u001b[0m\u001b[0m\n\u001b[1;32m----> 3\u001b[1;33m \u001b[0mt\u001b[0m\u001b[1;33m[\u001b[0m\u001b[1;36m1\u001b[0m\u001b[1;33m]\u001b[0m \u001b[1;33m=\u001b[0m \u001b[1;34m'can'\u001b[0m\u001b[1;33m\u001b[0m\u001b[1;33m\u001b[0m\u001b[0m\n\u001b[0m\u001b[0;32m      4\u001b[0m \u001b[0mt\u001b[0m\u001b[1;33m\u001b[0m\u001b[1;33m\u001b[0m\u001b[0m\n",
      "\u001b[1;31mTypeError\u001b[0m: 'tuple' object does not support item assignment"
     ]
    }
   ],
   "source": [
    "t = ('i', 'cannot', 'be', 'modified')\n",
    "print(type(t))\n",
    "t[1] = 'can'\n",
    "t"
   ]
  },
  {
   "cell_type": "markdown",
   "id": "65b2da43",
   "metadata": {},
   "source": [
    "Оператор связывания не создаёт копии контейнеров:"
   ]
  },
  {
   "cell_type": "code",
   "execution_count": 24,
   "id": "c0120701",
   "metadata": {},
   "outputs": [
    {
     "name": "stdout",
     "output_type": "stream",
     "text": [
      "[1, 1, 1] [[1, 1, 1], [1, 1, 1], [1, 1, 1]]\n",
      "[0, 1, 1] [[0, 1, 1], [0, 1, 1], [0, 1, 1]]\n",
      "[2, 1, 1] [[2, 1, 1], [2, 1, 1], [2, 1, 1]]\n"
     ]
    }
   ],
   "source": [
    "small = [1, 1, 1]\n",
    "big = [small] * 3 \n",
    "print(small, big)\n",
    "\n",
    "small[0] = 0\n",
    "print(small, big)\n",
    "\n",
    "\n",
    "big[0][0] = 2\n",
    "print(small, big)"
   ]
  },
  {
   "cell_type": "markdown",
   "id": "3b9ff62f",
   "metadata": {},
   "source": [
    "**Срезы (slices)** позволяют получать диапазоны элементов из контейнеров:"
   ]
  },
  {
   "cell_type": "code",
   "execution_count": 27,
   "id": "273b8ba7",
   "metadata": {},
   "outputs": [
    {
     "data": {
      "text/plain": [
       "('Rabbit', 'Bear', 'Fox', 'Turtle')"
      ]
     },
     "execution_count": 27,
     "metadata": {},
     "output_type": "execute_result"
    },
    {
     "data": {
      "text/plain": [
       "('Bear', 'Fox')"
      ]
     },
     "execution_count": 27,
     "metadata": {},
     "output_type": "execute_result"
    },
    {
     "data": {
      "text/plain": [
       "('Rabbit', 'Bear')"
      ]
     },
     "execution_count": 27,
     "metadata": {},
     "output_type": "execute_result"
    },
    {
     "data": {
      "text/plain": [
       "('Turtle',)"
      ]
     },
     "execution_count": 27,
     "metadata": {},
     "output_type": "execute_result"
    },
    {
     "data": {
      "text/plain": [
       "'Turtle'"
      ]
     },
     "execution_count": 27,
     "metadata": {},
     "output_type": "execute_result"
    },
    {
     "data": {
      "text/plain": [
       "('Rabbit', 'Bear', 'Fox')"
      ]
     },
     "execution_count": 27,
     "metadata": {},
     "output_type": "execute_result"
    },
    {
     "data": {
      "text/plain": [
       "('Rabbit', 'Fox')"
      ]
     },
     "execution_count": 27,
     "metadata": {},
     "output_type": "execute_result"
    },
    {
     "data": {
      "text/plain": [
       "('Turtle', 'Fox', 'Bear', 'Rabbit')"
      ]
     },
     "execution_count": 27,
     "metadata": {},
     "output_type": "execute_result"
    }
   ],
   "source": [
    "tea_party = ('Rabbit', 'Bear', 'Fox', 'Turtle')\n",
    "#tea_party[a:b:s]\n",
    "tea_party[:] # Если нет ни a, ни b - выводится список целиком\n",
    "tea_party[1:3] # а включительно, b НЕ включительно\n",
    "tea_party[:2]\n",
    "tea_party[3:]\n",
    "tea_party[-1] # Последний элемент списка\n",
    "tea_party[:-1] # Все элементы списка, кроме последнего\n",
    "tea_party[0:5:2] # а ещё можно задать шаг прохода s - в данном случае элементы выводятся \"через один\"\n",
    "tea_party[::-1] # а если задать шаг равным -1, список можно развернуть!"
   ]
  },
  {
   "cell_type": "markdown",
   "id": "75db1065",
   "metadata": {},
   "source": [
    "С помощью срезов можно и изменять элементы контейнеров:"
   ]
  },
  {
   "cell_type": "code",
   "execution_count": 28,
   "id": "7c5b3932",
   "metadata": {},
   "outputs": [
    {
     "data": {
      "text/plain": [
       "['Rabbit', 'Bear', 'Fox', 'Turtle']"
      ]
     },
     "execution_count": 28,
     "metadata": {},
     "output_type": "execute_result"
    },
    {
     "data": {
      "text/plain": [
       "2913992929216"
      ]
     },
     "execution_count": 28,
     "metadata": {},
     "output_type": "execute_result"
    },
    {
     "data": {
      "text/plain": [
       "['Rabbit', 'Cat', 'Whale', 'Turtle']"
      ]
     },
     "execution_count": 28,
     "metadata": {},
     "output_type": "execute_result"
    },
    {
     "data": {
      "text/plain": [
       "2913992929216"
      ]
     },
     "execution_count": 28,
     "metadata": {},
     "output_type": "execute_result"
    }
   ],
   "source": [
    "tea_party_list = list(tea_party)\n",
    "\n",
    "tea_party_list\n",
    "id(tea_party_list)\n",
    "\n",
    "tea_party_list[1:3] = ['Cat','Whale']\n",
    "\n",
    "tea_party_list\n",
    "id(tea_party_list)"
   ]
  },
  {
   "cell_type": "markdown",
   "id": "f972e7dc",
   "metadata": {},
   "source": [
    "Еще с помощью срезов можно выполнять копирование:"
   ]
  },
  {
   "cell_type": "code",
   "execution_count": 29,
   "id": "df06e520",
   "metadata": {},
   "outputs": [
    {
     "data": {
      "text/plain": [
       "True"
      ]
     },
     "execution_count": 29,
     "metadata": {},
     "output_type": "execute_result"
    },
    {
     "data": {
      "text/plain": [
       "False"
      ]
     },
     "execution_count": 29,
     "metadata": {},
     "output_type": "execute_result"
    }
   ],
   "source": [
    "tea_party_not_so_copy = tea_party_list\n",
    "tea_party_not_so_copy is tea_party_list\n",
    "\n",
    "tea_party_copy = tea_party_list[:]\n",
    "tea_party_copy is tea_party_list"
   ]
  },
  {
   "cell_type": "markdown",
   "id": "ef44f958",
   "metadata": {},
   "source": [
    "Пройдемся по основным методам `list`:"
   ]
  },
  {
   "cell_type": "code",
   "execution_count": 30,
   "id": "02e1115e",
   "metadata": {},
   "outputs": [
    {
     "name": "stdout",
     "output_type": "stream",
     "text": [
      "After append: [9, 1, 3, 5, 7, 7, 7, 5, 3, 1, 8]\n",
      "After insert: [9, 2, 1, 3, 5, 7, 7, 7, 5, 3, 1, 8]\n",
      "After remove: [9, 2, 1, 5, 7, 7, 7, 5, 3, 1, 8]\n",
      "After del: [9, 2, 1, 5, 7, 7, 5, 3, 1, 8]\n",
      "Count: 2\n",
      "After sort: [1, 1, 2, 3, 5, 5, 7, 7, 8, 9]\n",
      "After pop: 9 [1, 1, 2, 3, 5, 5, 7, 7, 8]\n"
     ]
    }
   ],
   "source": [
    "spisok = [9, 1, 3, 5, 7, 7, 7, 5, 3, 1]\n",
    "spisok.append(8) # Метод append(v) добавляет в конец нашего списка новый элемент, здесь - число 8\n",
    "print('After append:', spisok)\n",
    "\n",
    "spisok.insert(1,2) # Метод insert(a,b) вставляет элемент b в позицию с индексом a в наш список\n",
    "print('After insert:', spisok)\n",
    "\n",
    "spisok.remove(3) # Метод remove(v) удаляет из списка элемент со значением v (если v несколько - первое слева)\n",
    "print('After remove:', spisok)\n",
    "\n",
    "del spisok[4] # А вот так можно удалить элемент по индексу i, а не по значению v\n",
    "print('After del:', spisok)\n",
    "\n",
    "sevens = spisok.count(7) # Метод count(v) возвращает число равных v элементов в списке\n",
    "print('Count:', sevens)\n",
    "\n",
    "spisok.sort() #Сортируем список \n",
    "print('After sort:', spisok)\n",
    "\n",
    "d = spisok.pop() # Получаем последний элемент, удаляя его из списка\n",
    "print('After pop:', d, spisok)"
   ]
  },
  {
   "cell_type": "markdown",
   "id": "d73bf22d",
   "metadata": {},
   "source": [
    "Также при работе с контейнерами часто используются функции `len`, `sum`, `min`, `max`:"
   ]
  },
  {
   "cell_type": "code",
   "execution_count": 31,
   "id": "63c8ecb6",
   "metadata": {},
   "outputs": [
    {
     "data": {
      "text/plain": [
       "9"
      ]
     },
     "execution_count": 31,
     "metadata": {},
     "output_type": "execute_result"
    },
    {
     "data": {
      "text/plain": [
       "39"
      ]
     },
     "execution_count": 31,
     "metadata": {},
     "output_type": "execute_result"
    },
    {
     "data": {
      "text/plain": [
       "7"
      ]
     },
     "execution_count": 31,
     "metadata": {},
     "output_type": "execute_result"
    },
    {
     "data": {
      "text/plain": [
       "1"
      ]
     },
     "execution_count": 31,
     "metadata": {},
     "output_type": "execute_result"
    },
    {
     "data": {
      "text/plain": [
       "[1, 3, 5, 7, 7, 7, 5, 3, 1]"
      ]
     },
     "execution_count": 31,
     "metadata": {},
     "output_type": "execute_result"
    },
    {
     "data": {
      "text/plain": [
       "[1, 1, 3, 3, 5, 5, 7, 7, 7]"
      ]
     },
     "execution_count": 31,
     "metadata": {},
     "output_type": "execute_result"
    }
   ],
   "source": [
    "spisok = [1, 3, 5, 7, 7, 7, 5, 3, 1]\n",
    "\n",
    "len(spisok)\n",
    "sum(spisok)\n",
    "max(spisok)\n",
    "min(spisok)\n",
    "\n",
    "sorted_spisok = sorted(spisok) # В отличие от list.sort(), sorted() не меняет исходный список, а создаёт копию\n",
    "spisok\n",
    "sorted_spisok"
   ]
  },
  {
   "cell_type": "markdown",
   "id": "10454b21",
   "metadata": {},
   "source": [
    "Функция `zip` позволяет создать поэлементные кортежи из нескольких контейнеров / генераторов (завершается по минимальному размеру из аргументов):"
   ]
  },
  {
   "cell_type": "code",
   "execution_count": 32,
   "id": "f262c993",
   "metadata": {},
   "outputs": [
    {
     "name": "stdout",
     "output_type": "stream",
     "text": [
      "(0, 'a', 1)\n",
      "(1, 'b', 2)\n"
     ]
    }
   ],
   "source": [
    "for pair in zip(range(10), 'abc', [1, 2]):\n",
    "    print(pair)"
   ]
  },
  {
   "cell_type": "markdown",
   "id": "c8a94df4",
   "metadata": {},
   "source": [
    "В Python существует **оператор распаковки**:"
   ]
  },
  {
   "cell_type": "code",
   "execution_count": 33,
   "id": "8cfbe931",
   "metadata": {},
   "outputs": [
    {
     "name": "stdout",
     "output_type": "stream",
     "text": [
      "[1, 2, 3, 4, 5]\n",
      "1 2 3 4 5\n"
     ]
    }
   ],
   "source": [
    "spisok = [1, 2, 3, 4, 5]\n",
    "\n",
    "print(spisok) # печатаем список\n",
    "print(*spisok) # печатаем элементы списка, эквивалент - print(spisok[0],spisok[1],...)"
   ]
  },
  {
   "cell_type": "markdown",
   "id": "8fa5791d",
   "metadata": {},
   "source": [
    "Еще пара полезных функции при работе со строками: `split(str)` и `str.join(list)`"
   ]
  },
  {
   "cell_type": "code",
   "execution_count": 34,
   "id": "4c71884b",
   "metadata": {},
   "outputs": [
    {
     "name": "stdout",
     "output_type": "stream",
     "text": [
      "['Привет,', 'я', 'обычное', 'предложение,', 'во', 'мне', 'есть', 'слова', 'и', 'пробелы']\n",
      "Привет, я обычное предложение, во мне есть слова и пробелы\n",
      "['Прив', 'т, я обычно', ' пр', 'длож', 'ни', ', во мн', ' ', 'сть слова и проб', 'лы']\n",
      "Привэт, я обычноэ прэдложэниэ, во мнэ эсть слова и пробэлы\n"
     ]
    }
   ],
   "source": [
    "a = 'Привет, я обычное предложение, во мне есть слова и пробелы'.split(' ')\n",
    "print(a)\n",
    "\n",
    "b = ' '.join(a)\n",
    "print(b)\n",
    "\n",
    "c = b.split('е')\n",
    "print(c)\n",
    "\n",
    "d = 'э'.join(c)\n",
    "print(d)"
   ]
  },
  {
   "cell_type": "markdown",
   "id": "eeb552fd",
   "metadata": {},
   "source": [
    "## List comprehensions\n",
    "\n",
    "В Python есть очень удобная штука для создания производных списков под названием **list comprehension**. Общий вид: \n",
    "\n",
    "```python\n",
    "[expression for i in some_list if condition]\n",
    "```\n",
    "\n",
    "Пример создания списка квадратов чётных чисел меньше 10:"
   ]
  },
  {
   "cell_type": "code",
   "execution_count": 35,
   "id": "ff8baba2",
   "metadata": {},
   "outputs": [
    {
     "data": {
      "text/plain": [
       "[0, 4, 16, 36, 64]"
      ]
     },
     "execution_count": 35,
     "metadata": {},
     "output_type": "execute_result"
    }
   ],
   "source": [
    "[x**2 for x in range(10) if x % 2 == 0] "
   ]
  },
  {
   "cell_type": "markdown",
   "id": "b967674d",
   "metadata": {},
   "source": [
    "## Generator expressions\n",
    "\n",
    "Аналогично созданию списка, можно компактно записать создание генератора. Забегая вперед, **генератор** - это объект, который  хранит в памяти последний вычисленный элемент, правило перехода к следующему и условие, при котором выполнение прерывается. Подробнее генераторы будут рассмотрены в теме 4."
   ]
  },
  {
   "cell_type": "code",
   "execution_count": 36,
   "id": "2d8f3a84",
   "metadata": {},
   "outputs": [
    {
     "data": {
      "text/plain": [
       "285"
      ]
     },
     "execution_count": 36,
     "metadata": {},
     "output_type": "execute_result"
    },
    {
     "data": {
      "text/plain": [
       "285"
      ]
     },
     "execution_count": 36,
     "metadata": {},
     "output_type": "execute_result"
    },
    {
     "data": {
      "text/plain": [
       "list"
      ]
     },
     "execution_count": 36,
     "metadata": {},
     "output_type": "execute_result"
    },
    {
     "data": {
      "text/plain": [
       "generator"
      ]
     },
     "execution_count": 36,
     "metadata": {},
     "output_type": "execute_result"
    }
   ],
   "source": [
    "sum([x*x for x in range(10)]) # list comprehension\n",
    "sum(x*x for x in range(10))   # generator expression\n",
    "\n",
    "type([x*x for x in range(10)])\n",
    "type(x*x for x in range(10))"
   ]
  },
  {
   "cell_type": "markdown",
   "id": "40d850af",
   "metadata": {},
   "source": [
    "## itertools\n",
    "\n",
    "В Python есть стандартная библиотека для удобной работы с циклами. Импорт библиотек в Python:"
   ]
  },
  {
   "cell_type": "code",
   "execution_count": 37,
   "id": "2b45b5fe",
   "metadata": {},
   "outputs": [],
   "source": [
    "import itertools"
   ]
  },
  {
   "cell_type": "markdown",
   "id": "36ce8584",
   "metadata": {},
   "source": [
    "Полная документация - https://docs.python.org/3/library/itertools.html\n",
    "\n",
    "Рассмотрим несколько примеров."
   ]
  },
  {
   "cell_type": "markdown",
   "id": "80e2f9c5",
   "metadata": {},
   "source": [
    "### Пример 1. Работа со вложенными циклами"
   ]
  },
  {
   "cell_type": "code",
   "execution_count": 38,
   "id": "f03103e6",
   "metadata": {},
   "outputs": [
    {
     "name": "stdout",
     "output_type": "stream",
     "text": [
      "0 a\n",
      "0 b\n",
      "0 c\n",
      "1 a\n",
      "1 b\n",
      "1 c\n",
      "\n",
      "0 a\n",
      "0 b\n",
      "0 c\n",
      "1 a\n",
      "1 b\n",
      "1 c\n"
     ]
    }
   ],
   "source": [
    "for i in range(2):\n",
    "    for j in \"abc\":\n",
    "        print(i, j)\n",
    "\n",
    "print()\n",
    "\n",
    "#Эквивалентно:\n",
    "for i, j in itertools.product(range(2), \"abc\"):\n",
    "    print(i, j)"
   ]
  },
  {
   "cell_type": "markdown",
   "id": "bfcf9a6b",
   "metadata": {},
   "source": [
    "### Пример 2. Базовая комбинаторика\n",
    "\n",
    "Перестановки, комбинации, комбинации с повторениями:"
   ]
  },
  {
   "cell_type": "code",
   "execution_count": 39,
   "id": "9ab3b6f2",
   "metadata": {},
   "outputs": [
    {
     "data": {
      "text/plain": [
       "[(1, 2, 3), (1, 3, 2), (2, 1, 3), (2, 3, 1), (3, 1, 2), (3, 2, 1)]"
      ]
     },
     "execution_count": 39,
     "metadata": {},
     "output_type": "execute_result"
    },
    {
     "data": {
      "text/plain": [
       "[(1, 2), (1, 3), (2, 3)]"
      ]
     },
     "execution_count": 39,
     "metadata": {},
     "output_type": "execute_result"
    },
    {
     "data": {
      "text/plain": [
       "[(1, 1), (1, 2), (1, 3), (2, 2), (2, 3), (3, 3)]"
      ]
     },
     "execution_count": 39,
     "metadata": {},
     "output_type": "execute_result"
    }
   ],
   "source": [
    "list(itertools.permutations([1,2,3]))\n",
    "list(itertools.combinations([1,2,3], 2))\n",
    "list(itertools.combinations_with_replacement([1,2,3], 2))"
   ]
  },
  {
   "cell_type": "markdown",
   "id": "c0bc4bd2",
   "metadata": {},
   "source": [
    "### Пример 3. Бесконечные генераторы\n",
    "\n",
    "Бесконечные генераторы: `count`, `cycle`, `repeat`"
   ]
  },
  {
   "cell_type": "code",
   "execution_count": 40,
   "id": "a301e959",
   "metadata": {},
   "outputs": [
    {
     "name": "stdout",
     "output_type": "stream",
     "text": [
      "(0, 1, 'oak', 0)\n",
      "(1, 2, 'oak', 1)\n",
      "(2, 3, 'oak', 2)\n",
      "(3, 1, 'oak', 3)\n",
      "(4, 2, 'oak', 4)\n",
      "(5, 3, 'oak', 5)\n",
      "(6, 1, 'oak', 6)\n"
     ]
    }
   ],
   "source": [
    "for elems in zip(itertools.count(), itertools.cycle([1,2,3]), itertools.repeat(\"oak\"), range(7)):\n",
    "    print(elems)"
   ]
  },
  {
   "cell_type": "markdown",
   "id": "d385fa3f",
   "metadata": {},
   "source": [
    "Для получения первых нескольких элементов из генераторов:"
   ]
  },
  {
   "cell_type": "code",
   "execution_count": 41,
   "id": "cfcddb67",
   "metadata": {},
   "outputs": [
    {
     "data": {
      "text/plain": [
       "[0, 1, 2, 3, 4]"
      ]
     },
     "execution_count": 41,
     "metadata": {},
     "output_type": "execute_result"
    }
   ],
   "source": [
    "list(itertools.islice(itertools.count(), 5))"
   ]
  },
  {
   "cell_type": "markdown",
   "id": "3041f8c4",
   "metadata": {},
   "source": [
    "## Практика\n",
    "\n",
    "### Задача 1\n",
    "\n",
    "**Вход:** матрица (список списков)\n",
    "\n",
    "**Вывести:** транспонированная матрица \n",
    "\n",
    "**Дополнительно** - сделать это в одну строку"
   ]
  },
  {
   "cell_type": "code",
   "execution_count": 42,
   "id": "dc092219",
   "metadata": {},
   "outputs": [],
   "source": [
    "mat = [[1, 2, 3],\n",
    "       [4, 5, 6],\n",
    "       [7, 8, 9]]\n",
    "\n",
    "#Решение\n"
   ]
  },
  {
   "cell_type": "markdown",
   "id": "175f0ad6",
   "metadata": {},
   "source": [
    "### Задача 2\n",
    "\n",
    "**Вход:** две матрицы\n",
    "\n",
    "**Вывести:** сумма матриц"
   ]
  },
  {
   "cell_type": "code",
   "execution_count": 43,
   "id": "ee579202",
   "metadata": {},
   "outputs": [],
   "source": [
    "mat1 = [[1, 2, 3],\n",
    "       [4, 5, 6],\n",
    "       [7, 8, 9]]\n",
    "\n",
    "mat2 = [[1, 4, 7], \n",
    "        [2, 5, 8], \n",
    "        [3, 6, 9]]\n",
    "\n",
    "#Решение\n"
   ]
  },
  {
   "cell_type": "markdown",
   "id": "e0aea589",
   "metadata": {},
   "source": [
    "### Задача 3\n",
    "\n",
    "**Вход:** две матрицы\n",
    "\n",
    "**Вывести:** произведение матриц или сообщение о некорректности входа"
   ]
  },
  {
   "cell_type": "code",
   "execution_count": 44,
   "id": "bf6c3862",
   "metadata": {},
   "outputs": [],
   "source": [
    "mat1 = [[1, 2, 3],\n",
    "       [4, 5, 6],\n",
    "       [7, 8, 9]]\n",
    "\n",
    "mat2 = [[1, 4], \n",
    "        [2, 5], \n",
    "        [3, 6]]\n",
    "\n",
    "#Решение\n"
   ]
  }
 ],
 "metadata": {
  "kernelspec": {
   "display_name": "Python 3 (ipykernel)",
   "language": "python",
   "name": "python3"
  },
  "language_info": {
   "codemirror_mode": {
    "name": "ipython",
    "version": 3
   },
   "file_extension": ".py",
   "mimetype": "text/x-python",
   "name": "python",
   "nbconvert_exporter": "python",
   "pygments_lexer": "ipython3",
   "version": "3.9.7"
  }
 },
 "nbformat": 4,
 "nbformat_minor": 5
}
