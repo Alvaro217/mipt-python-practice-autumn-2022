{
 "cells": [
  {
   "cell_type": "markdown",
   "id": "e808b142",
   "metadata": {},
   "source": [
    "## Практикум Python\n",
    "\n",
    "### Тема 6. Строки"
   ]
  },
  {
   "cell_type": "code",
   "execution_count": 1,
   "id": "e32e3118",
   "metadata": {},
   "outputs": [],
   "source": [
    "from IPython.core.interactiveshell import InteractiveShell\n",
    "InteractiveShell.ast_node_interactivity = \"all\""
   ]
  },
  {
   "cell_type": "markdown",
   "id": "c1dbe06c",
   "metadata": {},
   "source": [
    "**Содержание:**\n",
    "\n",
    "1. Строки в Python\n",
    "2. `str` и `bytes`\n",
    "3. Кодировки\n",
    "4. Работа с файлами\n",
    "5. Регулярные выражения 101"
   ]
  },
  {
   "cell_type": "markdown",
   "id": "f155ece4",
   "metadata": {},
   "source": [
    "### Строки Python"
   ]
  },
  {
   "cell_type": "markdown",
   "id": "5e14c4a3",
   "metadata": {},
   "source": [
    "Объявления строк:"
   ]
  },
  {
   "cell_type": "code",
   "execution_count": 2,
   "id": "3948cfa5",
   "metadata": {},
   "outputs": [
    {
     "data": {
      "text/plain": [
       "True"
      ]
     },
     "execution_count": 2,
     "metadata": {},
     "output_type": "execute_result"
    }
   ],
   "source": [
    "s = 'Lorem ipsum dolor sit amet, consectetur adipiscing elit'\n",
    "also_s = \"Lorem ipsum dolor sit amet, consectetur adipiscing elit\"\n",
    "\n",
    "#разницы в объявлении нет\n",
    "s == also_s "
   ]
  },
  {
   "cell_type": "markdown",
   "id": "6bbe1a3b",
   "metadata": {},
   "source": [
    "#### Методы строк"
   ]
  },
  {
   "cell_type": "markdown",
   "id": "87c00766",
   "metadata": {},
   "source": [
    "Строки поддерживают срезы:"
   ]
  },
  {
   "cell_type": "code",
   "execution_count": 5,
   "id": "d81d96f3",
   "metadata": {},
   "outputs": [
    {
     "name": "stdout",
     "output_type": "stream",
     "text": [
      "Lorem ipsum dolor sit amet, consectetur adipiscing elit\n",
      "m dolor si\n",
      "mori\n"
     ]
    }
   ],
   "source": [
    "print(s)\n",
    "print(s[10 : 20])\n",
    "print(s[10 : 20 : 3])"
   ]
  },
  {
   "cell_type": "code",
   "execution_count": 7,
   "id": "2d9134e8",
   "metadata": {},
   "outputs": [
    {
     "name": "stdout",
     "output_type": "stream",
     "text": [
      "m dolor sit amet, consectetur adipiscing elit\n",
      "Lorem ipsum dolor si\n",
      "Leiudos e nct isnet\n",
      "mdlrstae,cnettraiicn lt\n"
     ]
    }
   ],
   "source": [
    "# срез: s[START:STOP:STEP]\n",
    "# default: START = 0, STOP = len(s), STEP = 1\n",
    "# можно указывать не все аргументы\n",
    "\n",
    "print(s[10:])\n",
    "print(s[:20])\n",
    "print(s[::3])\n",
    "print(s[10::2])"
   ]
  },
  {
   "cell_type": "markdown",
   "id": "6b4fae3f",
   "metadata": {},
   "source": [
    "Строки являются неизменяемыми объектами. Поддерживают базовые арифметические операции:"
   ]
  },
  {
   "cell_type": "code",
   "execution_count": 8,
   "id": "da78717e",
   "metadata": {},
   "outputs": [
    {
     "data": {
      "text/plain": [
       "2408032112912"
      ]
     },
     "execution_count": 8,
     "metadata": {},
     "output_type": "execute_result"
    }
   ],
   "source": [
    "id(s)"
   ]
  },
  {
   "cell_type": "code",
   "execution_count": 9,
   "id": "e0b03e88",
   "metadata": {},
   "outputs": [
    {
     "data": {
      "text/plain": [
       "2408032114928"
      ]
     },
     "execution_count": 9,
     "metadata": {},
     "output_type": "execute_result"
    }
   ],
   "source": [
    "id(s + '_else')"
   ]
  },
  {
   "cell_type": "code",
   "execution_count": 10,
   "id": "10d46914",
   "metadata": {},
   "outputs": [
    {
     "name": "stdout",
     "output_type": "stream",
     "text": [
      "Lorem ipsum dolor sit amet, consectetur adipiscing elit!!\n"
     ]
    }
   ],
   "source": [
    "s += '!' * 2\n",
    "print(s)"
   ]
  },
  {
   "cell_type": "code",
   "execution_count": 11,
   "id": "29626ce9",
   "metadata": {},
   "outputs": [
    {
     "ename": "TypeError",
     "evalue": "'str' object does not support item assignment",
     "output_type": "error",
     "traceback": [
      "\u001b[1;31m---------------------------------------------------------------------------\u001b[0m",
      "\u001b[1;31mTypeError\u001b[0m                                 Traceback (most recent call last)",
      "\u001b[1;32m~\\AppData\\Local\\Temp/ipykernel_15100/464399288.py\u001b[0m in \u001b[0;36m<module>\u001b[1;34m\u001b[0m\n\u001b[1;32m----> 1\u001b[1;33m \u001b[0ms\u001b[0m\u001b[1;33m[\u001b[0m\u001b[1;33m-\u001b[0m\u001b[1;36m1\u001b[0m\u001b[1;33m]\u001b[0m \u001b[1;33m=\u001b[0m \u001b[1;34m'?'\u001b[0m\u001b[1;33m\u001b[0m\u001b[1;33m\u001b[0m\u001b[0m\n\u001b[0m",
      "\u001b[1;31mTypeError\u001b[0m: 'str' object does not support item assignment"
     ]
    }
   ],
   "source": [
    "s[-1] = '?'"
   ]
  },
  {
   "cell_type": "markdown",
   "id": "0e9361e4",
   "metadata": {},
   "source": [
    "Строки можно разбивать на несколько:"
   ]
  },
  {
   "cell_type": "code",
   "execution_count": 14,
   "id": "73600e55",
   "metadata": {},
   "outputs": [
    {
     "data": {
      "text/plain": [
       "['Lorem',\n",
       " 'ipsum',\n",
       " 'dolor',\n",
       " 'sit',\n",
       " 'amet,',\n",
       " 'consectetur',\n",
       " 'adipiscing',\n",
       " 'elit!!']"
      ]
     },
     "execution_count": 14,
     "metadata": {},
     "output_type": "execute_result"
    },
    {
     "data": {
      "text/plain": [
       "['Lorem',\n",
       " 'ipsum',\n",
       " 'dolor',\n",
       " 'sit',\n",
       " 'amet,',\n",
       " 'consectetur',\n",
       " 'adipiscing',\n",
       " 'elit!!']"
      ]
     },
     "execution_count": 14,
     "metadata": {},
     "output_type": "execute_result"
    },
    {
     "data": {
      "text/plain": [
       "['Lorem ipsum dolor ', ' amet, consectetur adipiscing elit!!']"
      ]
     },
     "execution_count": 14,
     "metadata": {},
     "output_type": "execute_result"
    }
   ],
   "source": [
    "words = s.split()\n",
    "\n",
    "words\n",
    "s.split(' ')\n",
    "s.split('sit')"
   ]
  },
  {
   "cell_type": "markdown",
   "id": "7489f74f",
   "metadata": {},
   "source": [
    "Строки можно соединять:"
   ]
  },
  {
   "cell_type": "code",
   "execution_count": 15,
   "id": "21053ab9",
   "metadata": {},
   "outputs": [
    {
     "data": {
      "text/plain": [
       "'Loremipsumdolorsitamet,consecteturadipiscingelit!!'"
      ]
     },
     "execution_count": 15,
     "metadata": {},
     "output_type": "execute_result"
    },
    {
     "data": {
      "text/plain": [
       "'Lorem ipsum dolor sit amet, consectetur adipiscing elit!!'"
      ]
     },
     "execution_count": 15,
     "metadata": {},
     "output_type": "execute_result"
    },
    {
     "data": {
      "text/plain": [
       "'Lorem ^_^ ipsum ^_^ dolor ^_^ sit ^_^ amet, ^_^ consectetur ^_^ adipiscing ^_^ elit!!'"
      ]
     },
     "execution_count": 15,
     "metadata": {},
     "output_type": "execute_result"
    }
   ],
   "source": [
    "''.join(words)\n",
    "' '.join(words)\n",
    "' ^_^ '.join(words)"
   ]
  },
  {
   "cell_type": "markdown",
   "id": "5d6fc3a8",
   "metadata": {},
   "source": [
    "**Примечание:** Методы `split` и `join` создают копию объекта, при этом изменяя её"
   ]
  },
  {
   "cell_type": "markdown",
   "id": "57357004",
   "metadata": {},
   "source": [
    "Базовые преобразования строк:"
   ]
  },
  {
   "cell_type": "code",
   "execution_count": 17,
   "id": "7f1a574d",
   "metadata": {},
   "outputs": [
    {
     "data": {
      "text/plain": [
       "'Lorem ipsum dolor sit amet, consectetur adipiscing elit!!'"
      ]
     },
     "execution_count": 17,
     "metadata": {},
     "output_type": "execute_result"
    },
    {
     "data": {
      "text/plain": [
       "'LOREM IPSUM DOLOR SIT AMET, CONSECTETUR ADIPISCING ELIT!!'"
      ]
     },
     "execution_count": 17,
     "metadata": {},
     "output_type": "execute_result"
    },
    {
     "data": {
      "text/plain": [
       "'lorem ipsum dolor sit amet, consectetur adipiscing elit!!'"
      ]
     },
     "execution_count": 17,
     "metadata": {},
     "output_type": "execute_result"
    },
    {
     "data": {
      "text/plain": [
       "'Lorem ipsum dolor sit amet, consectetur adipiscing elit!!'"
      ]
     },
     "execution_count": 17,
     "metadata": {},
     "output_type": "execute_result"
    },
    {
     "data": {
      "text/plain": [
       "'Lorem Ipsum Dolor Sit Amet, Consectetur Adipiscing Elit!!'"
      ]
     },
     "execution_count": 17,
     "metadata": {},
     "output_type": "execute_result"
    }
   ],
   "source": [
    "s                      # исходная строка\n",
    "s.upper()              # делает все буквы заглавными\n",
    "s.lower()              # делает все буквы строчными\n",
    "# делает первую букву строки заглавной, а остальные строчными\n",
    "'lorem ipsum DOLOR sit amet, consectetur adipiscing ELIT!!'.capitalize()\n",
    "s.title()              # делает первую букву каждого слова заглавной"
   ]
  },
  {
   "cell_type": "markdown",
   "id": "92dcd331",
   "metadata": {},
   "source": [
    "#### Поиск подстроки в строке\n",
    "\n",
    "Для проверки есть ли в строке искомая подстрока можно использовать оператор in:"
   ]
  },
  {
   "cell_type": "code",
   "execution_count": 18,
   "id": "3ea53db1",
   "metadata": {},
   "outputs": [
    {
     "data": {
      "text/plain": [
       "False"
      ]
     },
     "execution_count": 18,
     "metadata": {},
     "output_type": "execute_result"
    }
   ],
   "source": [
    "'lorem' in s"
   ]
  },
  {
   "cell_type": "code",
   "execution_count": 19,
   "id": "11ff3024",
   "metadata": {},
   "outputs": [
    {
     "data": {
      "text/plain": [
       "True"
      ]
     },
     "execution_count": 19,
     "metadata": {},
     "output_type": "execute_result"
    }
   ],
   "source": [
    "'lorem' in s.lower()"
   ]
  },
  {
   "cell_type": "markdown",
   "id": "fe0c5b85",
   "metadata": {},
   "source": [
    "Чтобы найти где именно есть подстрока в строке удобно использовать методы `find` и `index`:"
   ]
  },
  {
   "cell_type": "code",
   "execution_count": 21,
   "id": "bde5b91f",
   "metadata": {},
   "outputs": [
    {
     "data": {
      "text/plain": [
       "6"
      ]
     },
     "execution_count": 21,
     "metadata": {},
     "output_type": "execute_result"
    },
    {
     "data": {
      "text/plain": [
       "-1"
      ]
     },
     "execution_count": 21,
     "metadata": {},
     "output_type": "execute_result"
    }
   ],
   "source": [
    "s.find('ipsum') # возвращает индекс первого вхождения\n",
    "s.find('nonexistent') # или -1 "
   ]
  },
  {
   "cell_type": "code",
   "execution_count": 22,
   "id": "652a0024",
   "metadata": {},
   "outputs": [
    {
     "data": {
      "text/plain": [
       "6"
      ]
     },
     "execution_count": 22,
     "metadata": {},
     "output_type": "execute_result"
    },
    {
     "ename": "ValueError",
     "evalue": "substring not found",
     "output_type": "error",
     "traceback": [
      "\u001b[1;31m---------------------------------------------------------------------------\u001b[0m",
      "\u001b[1;31mValueError\u001b[0m                                Traceback (most recent call last)",
      "\u001b[1;32m~\\AppData\\Local\\Temp/ipykernel_15100/1635599893.py\u001b[0m in \u001b[0;36m<module>\u001b[1;34m\u001b[0m\n\u001b[0;32m      1\u001b[0m \u001b[0ms\u001b[0m\u001b[1;33m.\u001b[0m\u001b[0mindex\u001b[0m\u001b[1;33m(\u001b[0m\u001b[1;34m'ipsum'\u001b[0m\u001b[1;33m)\u001b[0m\u001b[1;33m\u001b[0m\u001b[1;33m\u001b[0m\u001b[0m\n\u001b[1;32m----> 2\u001b[1;33m \u001b[0ms\u001b[0m\u001b[1;33m.\u001b[0m\u001b[0mindex\u001b[0m\u001b[1;33m(\u001b[0m\u001b[1;34m'nonexistent'\u001b[0m\u001b[1;33m)\u001b[0m\u001b[1;33m\u001b[0m\u001b[1;33m\u001b[0m\u001b[0m\n\u001b[0m",
      "\u001b[1;31mValueError\u001b[0m: substring not found"
     ]
    }
   ],
   "source": [
    "s.index('ipsum')\n",
    "s.index('nonexistent')"
   ]
  },
  {
   "cell_type": "markdown",
   "id": "a281d0f2",
   "metadata": {},
   "source": [
    "#### Анализ строки\n",
    "\n",
    "Можем проверять из каких символов состоит строка:"
   ]
  },
  {
   "cell_type": "code",
   "execution_count": 23,
   "id": "23429cf7",
   "metadata": {},
   "outputs": [
    {
     "name": "stdout",
     "output_type": "stream",
     "text": [
      "string\t\tisalpha\t\tisdigit\t\tisspace\n",
      "'abc'\t\tTrue\t\tFalse\t\tFalse\n",
      "'2'\t\tFalse\t\tTrue\t\tFalse\n",
      "'   '\t\tFalse\t\tFalse\t\tTrue\n"
     ]
    }
   ],
   "source": [
    "strings = ['abc', '2', '   ']\n",
    "\n",
    "print('\\t\\t'.join('string isalpha isdigit isspace'.split()))\n",
    "for s in strings:\n",
    "    print(\"'\" + s + \"'\", s.isalpha(), s.isdigit(), s.isspace(), sep='\\t\\t')"
   ]
  },
  {
   "cell_type": "markdown",
   "id": "4c974367",
   "metadata": {},
   "source": [
    "Дополнительные методы - `startswith`, `endswith`, `strip`."
   ]
  },
  {
   "cell_type": "code",
   "execution_count": 24,
   "id": "dd8f468f",
   "metadata": {},
   "outputs": [
    {
     "data": {
      "text/plain": [
       "True"
      ]
     },
     "execution_count": 24,
     "metadata": {},
     "output_type": "execute_result"
    }
   ],
   "source": [
    "'Hello, world!'.startswith('Hel')"
   ]
  },
  {
   "cell_type": "code",
   "execution_count": 25,
   "id": "7d808948",
   "metadata": {},
   "outputs": [
    {
     "data": {
      "text/plain": [
       "False"
      ]
     },
     "execution_count": 25,
     "metadata": {},
     "output_type": "execute_result"
    }
   ],
   "source": [
    "'Hello, world!'.endswith('world')"
   ]
  },
  {
   "cell_type": "code",
   "execution_count": 26,
   "id": "48bd9877",
   "metadata": {},
   "outputs": [
    {
     "data": {
      "text/plain": [
       "'Hello world'"
      ]
     },
     "execution_count": 26,
     "metadata": {},
     "output_type": "execute_result"
    }
   ],
   "source": [
    "'    Hello world    '.strip()"
   ]
  },
  {
   "cell_type": "markdown",
   "id": "03e724a1",
   "metadata": {},
   "source": [
    "### Форматирование строк\n",
    "\n",
    "#### Классическое форматиование\n",
    "\n",
    "Так же, как и в C, в Python можно форматировать строки:"
   ]
  },
  {
   "cell_type": "code",
   "execution_count": 27,
   "id": "c062bd77",
   "metadata": {},
   "outputs": [
    {
     "data": {
      "text/plain": [
       "'Hello, Bob'"
      ]
     },
     "execution_count": 27,
     "metadata": {},
     "output_type": "execute_result"
    },
    {
     "data": {
      "text/plain": [
       "'Hello, Bob'"
      ]
     },
     "execution_count": 27,
     "metadata": {},
     "output_type": "execute_result"
    }
   ],
   "source": [
    "# Old style\n",
    "\n",
    "name = 'Bob'\n",
    "'Hello, %s' % name\n",
    "'Hello, %(name)s' % {'name':name} "
   ]
  },
  {
   "cell_type": "code",
   "execution_count": 28,
   "id": "42098b6f",
   "metadata": {},
   "outputs": [
    {
     "data": {
      "text/plain": [
       "'Hello, Bob'"
      ]
     },
     "execution_count": 28,
     "metadata": {},
     "output_type": "execute_result"
    }
   ],
   "source": [
    "# New style\n",
    "\n",
    "name = 'Bob'\n",
    "'Hello, {}'.format(name)"
   ]
  },
  {
   "cell_type": "markdown",
   "id": "f16d350a",
   "metadata": {},
   "source": [
    "В функцию `format` можно передавать и несколько аргументов:"
   ]
  },
  {
   "cell_type": "code",
   "execution_count": 29,
   "id": "65d6c3c8",
   "metadata": {},
   "outputs": [
    {
     "data": {
      "text/plain": [
       "'Hello, Bob! Hello, Alice!'"
      ]
     },
     "execution_count": 29,
     "metadata": {},
     "output_type": "execute_result"
    }
   ],
   "source": [
    "names = ['Bob','Alice']\n",
    "'Hello, {}! Hello, {}!'.format(*names)"
   ]
  },
  {
   "cell_type": "markdown",
   "id": "c5abb027",
   "metadata": {},
   "source": [
    "Для точного указания параметра можно использовать индексы и ключи:"
   ]
  },
  {
   "cell_type": "code",
   "execution_count": 32,
   "id": "508620c5",
   "metadata": {},
   "outputs": [
    {
     "data": {
      "text/plain": [
       "'Hello, Alice! Hello, Bob!'"
      ]
     },
     "execution_count": 32,
     "metadata": {},
     "output_type": "execute_result"
    },
    {
     "data": {
      "text/plain": [
       "'Hello, Bob! Hello, Alice! Hello, Bob again!'"
      ]
     },
     "execution_count": 32,
     "metadata": {},
     "output_type": "execute_result"
    }
   ],
   "source": [
    "names = ['Bob','Alice']\n",
    "'Hello, {1}! Hello, {0}!'.format(*names)\n",
    "\n",
    "names = {'name1': 'Bob','name2': 'Alice'}\n",
    "'Hello, {name1}! Hello, {name2}! Hello, {name1} again!'.format(**names)"
   ]
  },
  {
   "cell_type": "markdown",
   "id": "1fe9f11e",
   "metadata": {},
   "source": [
    "Кроме строк можно подставлять и другие типы данных, в этом случае произойдёт каст к строке:"
   ]
  },
  {
   "cell_type": "code",
   "execution_count": 33,
   "id": "dd45c59e",
   "metadata": {},
   "outputs": [
    {
     "data": {
      "text/plain": [
       "'Hey Bob, I have a decimal number 50159747054!'"
      ]
     },
     "execution_count": 33,
     "metadata": {},
     "output_type": "execute_result"
    }
   ],
   "source": [
    "number = 50159747054\n",
    "name = 'Bob'\n",
    "'Hey {}, I have a decimal number {}!'.format(name, number)"
   ]
  },
  {
   "cell_type": "code",
   "execution_count": 34,
   "id": "1652e29e",
   "metadata": {},
   "outputs": [
    {
     "data": {
      "text/plain": [
       "'Coordinates: 37.24, -115.81'"
      ]
     },
     "execution_count": 34,
     "metadata": {},
     "output_type": "execute_result"
    }
   ],
   "source": [
    "'Coordinates: {latitude}, {longitude}'.format(latitude=37.24, longitude=-115.81)"
   ]
  },
  {
   "cell_type": "markdown",
   "id": "9c169e09",
   "metadata": {},
   "source": [
    "#### f-строки\n",
    "\n",
    "*f-строки* - более новый и удобный способ форматирования строк, добавлен в Python 3.6:"
   ]
  },
  {
   "cell_type": "code",
   "execution_count": 35,
   "id": "53b778d9",
   "metadata": {},
   "outputs": [
    {
     "data": {
      "text/plain": [
       "'В 2023-м году состоится 7-й сезон курса Python 3'"
      ]
     },
     "execution_count": 35,
     "metadata": {},
     "output_type": "execute_result"
    }
   ],
   "source": [
    "year = 2023\n",
    "season = 7\n",
    "f'В {year}-м году состоится {season}-й сезон курса Python 3' \n",
    "# Обратите внимание на символ f перед строкой"
   ]
  },
  {
   "cell_type": "markdown",
   "id": "b7da62f0",
   "metadata": {},
   "source": [
    "f-строки поддерживают форматирование чисел:"
   ]
  },
  {
   "cell_type": "code",
   "execution_count": 36,
   "id": "8c786a87",
   "metadata": {},
   "outputs": [
    {
     "data": {
      "text/plain": [
       "'В 2023-м году состоится  7.00-й сезон курса Python 3'"
      ]
     },
     "execution_count": 36,
     "metadata": {},
     "output_type": "execute_result"
    }
   ],
   "source": [
    "year = 2023\n",
    "season = 7\n",
    "\n",
    "# .2f - вещественное число с двумя знаками после запятой\n",
    "f'В {year}-м году состоится {season: .2f}-й сезон курса Python 3'"
   ]
  },
  {
   "cell_type": "markdown",
   "id": "5105a35e",
   "metadata": {},
   "source": [
    "Внутри f-строк можно выполнять различные операции:"
   ]
  },
  {
   "cell_type": "code",
   "execution_count": 37,
   "id": "de4cc424",
   "metadata": {},
   "outputs": [
    {
     "data": {
      "text/plain": [
       "'В 2023-м году состоится 7-й сезон курса Python 3'"
      ]
     },
     "execution_count": 37,
     "metadata": {},
     "output_type": "execute_result"
    }
   ],
   "source": [
    "year = 2023\n",
    "\n",
    "f'В {year}-м году состоится {year-2017+1}-й сезон курса Python 3'"
   ]
  },
  {
   "cell_type": "markdown",
   "id": "d464a3cb",
   "metadata": {},
   "source": [
    "Можно обращаться к элементам списков по индексу:"
   ]
  },
  {
   "cell_type": "code",
   "execution_count": 38,
   "id": "49bea797",
   "metadata": {},
   "outputs": [
    {
     "data": {
      "text/plain": [
       "'В 2023-м году состоится 7-й сезон курса Python 3'"
      ]
     },
     "execution_count": 38,
     "metadata": {},
     "output_type": "execute_result"
    }
   ],
   "source": [
    "years = [2016, 2017, 2018, 2019, 2020, 2021, 2022, 2023]\n",
    "season = 7\n",
    "\n",
    "f'В {years[season]}-м году состоится {season}-й сезон курса Python 3'"
   ]
  },
  {
   "cell_type": "markdown",
   "id": "86e94503",
   "metadata": {},
   "source": [
    "И даже использовать функции и методы:"
   ]
  },
  {
   "cell_type": "code",
   "execution_count": 39,
   "id": "10ee41ad",
   "metadata": {},
   "outputs": [
    {
     "data": {
      "text/plain": [
       "'В 2023-м году состоится 7-й сезон PYTHON 3'"
      ]
     },
     "execution_count": 39,
     "metadata": {},
     "output_type": "execute_result"
    }
   ],
   "source": [
    "year = 2023\n",
    "season = 7\n",
    "name = 'Python 3'\n",
    "\n",
    "f'В {year}-м году состоится {season}-й сезон {name.upper()}'"
   ]
  },
  {
   "cell_type": "markdown",
   "id": "8d3811ed",
   "metadata": {},
   "source": [
    "#### Модуль string"
   ]
  },
  {
   "cell_type": "markdown",
   "id": "64567bf0",
   "metadata": {},
   "source": [
    "В Python есть специальный модуль для работы со строками:"
   ]
  },
  {
   "cell_type": "code",
   "execution_count": 40,
   "id": "7f1234c5",
   "metadata": {},
   "outputs": [
    {
     "data": {
      "text/plain": [
       "'abcdefghijklmnopqrstuvwxyzABCDEFGHIJKLMNOPQRSTUVWXYZ'"
      ]
     },
     "execution_count": 40,
     "metadata": {},
     "output_type": "execute_result"
    }
   ],
   "source": [
    "import string\n",
    "\n",
    "string.ascii_letters"
   ]
  },
  {
   "cell_type": "code",
   "execution_count": 41,
   "id": "116bdf91",
   "metadata": {},
   "outputs": [
    {
     "data": {
      "text/plain": [
       "'abcdefghijklmnopqrstuvwxyz'"
      ]
     },
     "execution_count": 41,
     "metadata": {},
     "output_type": "execute_result"
    }
   ],
   "source": [
    "string.ascii_lowercase"
   ]
  },
  {
   "cell_type": "code",
   "execution_count": 42,
   "id": "624f8d04",
   "metadata": {},
   "outputs": [
    {
     "data": {
      "text/plain": [
       "'0123456789'"
      ]
     },
     "execution_count": 42,
     "metadata": {},
     "output_type": "execute_result"
    }
   ],
   "source": [
    "string.digits"
   ]
  },
  {
   "cell_type": "code",
   "execution_count": 43,
   "id": "ab2a9080",
   "metadata": {},
   "outputs": [
    {
     "data": {
      "text/plain": [
       "' \\t\\n\\r\\x0b\\x0c'"
      ]
     },
     "execution_count": 43,
     "metadata": {},
     "output_type": "execute_result"
    }
   ],
   "source": [
    "string.whitespace"
   ]
  },
  {
   "cell_type": "markdown",
   "id": "6ae93200",
   "metadata": {},
   "source": [
    "Также модуль позволяет создавать шаблоны c помощью `Template` и метода `substitute`:"
   ]
  },
  {
   "cell_type": "code",
   "execution_count": 44,
   "id": "bada54f0",
   "metadata": {},
   "outputs": [
    {
     "data": {
      "text/plain": [
       "'tim likes kung pao'"
      ]
     },
     "execution_count": 44,
     "metadata": {},
     "output_type": "execute_result"
    }
   ],
   "source": [
    "from string import Template\n",
    "\n",
    "s = Template('$who likes $what')\n",
    "s.substitute(who='tim', what='kung pao')"
   ]
  },
  {
   "cell_type": "markdown",
   "id": "acbbf9e6",
   "metadata": {},
   "source": [
    "Если в словаре отсутствует один из ключей, то вылезет ошибка."
   ]
  },
  {
   "cell_type": "code",
   "execution_count": 45,
   "id": "ab455294",
   "metadata": {},
   "outputs": [
    {
     "ename": "KeyError",
     "evalue": "'what'",
     "output_type": "error",
     "traceback": [
      "\u001b[1;31m---------------------------------------------------------------------------\u001b[0m",
      "\u001b[1;31mKeyError\u001b[0m                                  Traceback (most recent call last)",
      "\u001b[1;32m~\\AppData\\Local\\Temp/ipykernel_15100/3395822163.py\u001b[0m in \u001b[0;36m<module>\u001b[1;34m\u001b[0m\n\u001b[0;32m      1\u001b[0m \u001b[0md\u001b[0m \u001b[1;33m=\u001b[0m \u001b[0mdict\u001b[0m\u001b[1;33m(\u001b[0m\u001b[0mwho\u001b[0m\u001b[1;33m=\u001b[0m\u001b[1;34m'tim'\u001b[0m\u001b[1;33m)\u001b[0m\u001b[1;33m\u001b[0m\u001b[1;33m\u001b[0m\u001b[0m\n\u001b[1;32m----> 2\u001b[1;33m \u001b[0mTemplate\u001b[0m\u001b[1;33m(\u001b[0m\u001b[1;34m'$who likes $what'\u001b[0m\u001b[1;33m)\u001b[0m\u001b[1;33m.\u001b[0m\u001b[0msubstitute\u001b[0m\u001b[1;33m(\u001b[0m\u001b[0md\u001b[0m\u001b[1;33m)\u001b[0m\u001b[1;33m\u001b[0m\u001b[1;33m\u001b[0m\u001b[0m\n\u001b[0m",
      "\u001b[1;32m~\\anaconda3\\lib\\string.py\u001b[0m in \u001b[0;36msubstitute\u001b[1;34m(self, mapping, **kws)\u001b[0m\n\u001b[0;32m    119\u001b[0m             raise ValueError('Unrecognized named group in pattern',\n\u001b[0;32m    120\u001b[0m                              self.pattern)\n\u001b[1;32m--> 121\u001b[1;33m         \u001b[1;32mreturn\u001b[0m \u001b[0mself\u001b[0m\u001b[1;33m.\u001b[0m\u001b[0mpattern\u001b[0m\u001b[1;33m.\u001b[0m\u001b[0msub\u001b[0m\u001b[1;33m(\u001b[0m\u001b[0mconvert\u001b[0m\u001b[1;33m,\u001b[0m \u001b[0mself\u001b[0m\u001b[1;33m.\u001b[0m\u001b[0mtemplate\u001b[0m\u001b[1;33m)\u001b[0m\u001b[1;33m\u001b[0m\u001b[1;33m\u001b[0m\u001b[0m\n\u001b[0m\u001b[0;32m    122\u001b[0m \u001b[1;33m\u001b[0m\u001b[0m\n\u001b[0;32m    123\u001b[0m     \u001b[1;32mdef\u001b[0m \u001b[0msafe_substitute\u001b[0m\u001b[1;33m(\u001b[0m\u001b[0mself\u001b[0m\u001b[1;33m,\u001b[0m \u001b[0mmapping\u001b[0m\u001b[1;33m=\u001b[0m\u001b[0m_sentinel_dict\u001b[0m\u001b[1;33m,\u001b[0m \u001b[1;33m/\u001b[0m\u001b[1;33m,\u001b[0m \u001b[1;33m**\u001b[0m\u001b[0mkws\u001b[0m\u001b[1;33m)\u001b[0m\u001b[1;33m:\u001b[0m\u001b[1;33m\u001b[0m\u001b[1;33m\u001b[0m\u001b[0m\n",
      "\u001b[1;32m~\\anaconda3\\lib\\string.py\u001b[0m in \u001b[0;36mconvert\u001b[1;34m(mo)\u001b[0m\n\u001b[0;32m    112\u001b[0m             \u001b[0mnamed\u001b[0m \u001b[1;33m=\u001b[0m \u001b[0mmo\u001b[0m\u001b[1;33m.\u001b[0m\u001b[0mgroup\u001b[0m\u001b[1;33m(\u001b[0m\u001b[1;34m'named'\u001b[0m\u001b[1;33m)\u001b[0m \u001b[1;32mor\u001b[0m \u001b[0mmo\u001b[0m\u001b[1;33m.\u001b[0m\u001b[0mgroup\u001b[0m\u001b[1;33m(\u001b[0m\u001b[1;34m'braced'\u001b[0m\u001b[1;33m)\u001b[0m\u001b[1;33m\u001b[0m\u001b[1;33m\u001b[0m\u001b[0m\n\u001b[0;32m    113\u001b[0m             \u001b[1;32mif\u001b[0m \u001b[0mnamed\u001b[0m \u001b[1;32mis\u001b[0m \u001b[1;32mnot\u001b[0m \u001b[1;32mNone\u001b[0m\u001b[1;33m:\u001b[0m\u001b[1;33m\u001b[0m\u001b[1;33m\u001b[0m\u001b[0m\n\u001b[1;32m--> 114\u001b[1;33m                 \u001b[1;32mreturn\u001b[0m \u001b[0mstr\u001b[0m\u001b[1;33m(\u001b[0m\u001b[0mmapping\u001b[0m\u001b[1;33m[\u001b[0m\u001b[0mnamed\u001b[0m\u001b[1;33m]\u001b[0m\u001b[1;33m)\u001b[0m\u001b[1;33m\u001b[0m\u001b[1;33m\u001b[0m\u001b[0m\n\u001b[0m\u001b[0;32m    115\u001b[0m             \u001b[1;32mif\u001b[0m \u001b[0mmo\u001b[0m\u001b[1;33m.\u001b[0m\u001b[0mgroup\u001b[0m\u001b[1;33m(\u001b[0m\u001b[1;34m'escaped'\u001b[0m\u001b[1;33m)\u001b[0m \u001b[1;32mis\u001b[0m \u001b[1;32mnot\u001b[0m \u001b[1;32mNone\u001b[0m\u001b[1;33m:\u001b[0m\u001b[1;33m\u001b[0m\u001b[1;33m\u001b[0m\u001b[0m\n\u001b[0;32m    116\u001b[0m                 \u001b[1;32mreturn\u001b[0m \u001b[0mself\u001b[0m\u001b[1;33m.\u001b[0m\u001b[0mdelimiter\u001b[0m\u001b[1;33m\u001b[0m\u001b[1;33m\u001b[0m\u001b[0m\n",
      "\u001b[1;31mKeyError\u001b[0m: 'what'"
     ]
    }
   ],
   "source": [
    "d = dict(who='tim')\n",
    "Template('$who likes $what').substitute(d)"
   ]
  },
  {
   "cell_type": "markdown",
   "id": "2692791f",
   "metadata": {},
   "source": [
    "Чтобы этого не было, необходимо использовать метод `safe_substitute`:"
   ]
  },
  {
   "cell_type": "code",
   "execution_count": 46,
   "id": "9486c6ba",
   "metadata": {},
   "outputs": [
    {
     "data": {
      "text/plain": [
       "'tim likes $what'"
      ]
     },
     "execution_count": 46,
     "metadata": {},
     "output_type": "execute_result"
    }
   ],
   "source": [
    "Template('$who likes $what').safe_substitute(d)"
   ]
  },
  {
   "cell_type": "markdown",
   "id": "9792e2be",
   "metadata": {},
   "source": [
    "### Кодировки\n",
    "\n",
    "**Определения:**\n",
    "- **Символ** (韩) - абстракция\n",
    "- **Charset** - набор \"допустимых\" символов\n",
    "- **Кодировка** - правила, как записывать символы в компьютере\n",
    "\n",
    "Операции перевода символьного представления в байтовое и обратно - **кодирование** и **декодирование**."
   ]
  },
  {
   "cell_type": "markdown",
   "id": "5e40cf50",
   "metadata": {},
   "source": [
    "Кодировки:\n",
    "- **ASCII** - кодировка для 128 символов. Каждый символ занимает 7 бит.\n",
    "- **КОИ-8** - кодировка для 256 символов (расширение ASCII для русского языка). Символ занимает 8 бит.\n",
    "- **Unicode** - стандарт, включающий в себя несколько кодировок:\n",
    "    - UTF-8 - от 1 до 4 байт\n",
    "    - UTF-16 - 2 или 4 байта\n",
    "    - UTF-32 - 4 байта\n",
    "\n",
    "В Unicode уникальный идентификатор символа (например, r, Я или 韩) != байтовое представление."
   ]
  },
  {
   "cell_type": "markdown",
   "id": "3337a9b0",
   "metadata": {},
   "source": [
    "В Python для всего этого есть `string` - для последовательности символов, и `bytes` - для последовательности байтов. "
   ]
  },
  {
   "cell_type": "markdown",
   "id": "a1be0539",
   "metadata": {},
   "source": [
    "Можно переходить между символом Unicode (напр., \"U+1D11E\") и его целочисленным идентификатором с помощью функций `ord` и `chr`:"
   ]
  },
  {
   "cell_type": "code",
   "execution_count": 47,
   "id": "d9292eef",
   "metadata": {},
   "outputs": [
    {
     "data": {
      "text/plain": [
       "119070"
      ]
     },
     "execution_count": 47,
     "metadata": {},
     "output_type": "execute_result"
    },
    {
     "data": {
      "text/plain": [
       "119070"
      ]
     },
     "execution_count": 47,
     "metadata": {},
     "output_type": "execute_result"
    },
    {
     "data": {
      "text/plain": [
       "'𝄞'"
      ]
     },
     "execution_count": 47,
     "metadata": {},
     "output_type": "execute_result"
    }
   ],
   "source": [
    "ord('𝄞')\n",
    "ord('\\U0001D11E')\n",
    "\n",
    "chr(ord('\\U0001D11E'))"
   ]
  },
  {
   "cell_type": "markdown",
   "id": "00413cc9",
   "metadata": {},
   "source": [
    "Рассмотрим еще пример:"
   ]
  },
  {
   "cell_type": "code",
   "execution_count": 48,
   "id": "9480f85f",
   "metadata": {},
   "outputs": [
    {
     "data": {
      "text/plain": [
       "4"
      ]
     },
     "execution_count": 48,
     "metadata": {},
     "output_type": "execute_result"
    }
   ],
   "source": [
    "s = 'café'\n",
    "len(s)"
   ]
  },
  {
   "cell_type": "code",
   "execution_count": 49,
   "id": "4aa88635",
   "metadata": {},
   "outputs": [
    {
     "name": "stdout",
     "output_type": "stream",
     "text": [
      "5 <class 'bytes'>\n"
     ]
    }
   ],
   "source": [
    "b = s.encode('utf8')\n",
    "print(len(b), type(b))"
   ]
  },
  {
   "cell_type": "code",
   "execution_count": 50,
   "id": "dab6c538",
   "metadata": {},
   "outputs": [
    {
     "data": {
      "text/plain": [
       "b'caf\\xc3\\xa9'"
      ]
     },
     "execution_count": 50,
     "metadata": {},
     "output_type": "execute_result"
    }
   ],
   "source": [
    "b # binary representation"
   ]
  },
  {
   "cell_type": "markdown",
   "id": "99643ebb",
   "metadata": {},
   "source": [
    "Длина символьного представления - 4, а байтового - 5. В чем дело?\n",
    "\n",
    "Посмотрим на то, как выглядит каждый байт в отдельности:"
   ]
  },
  {
   "cell_type": "code",
   "execution_count": 51,
   "id": "6cba9963",
   "metadata": {},
   "outputs": [
    {
     "name": "stdout",
     "output_type": "stream",
     "text": [
      "b'caf\\xc3\\xa9'\n",
      "0x63 99 c\n",
      "0x61 97 a\n",
      "0x66 102 f\n",
      "0xc3 195 Ã\n",
      "0xa9 169 ©\n"
     ]
    }
   ],
   "source": [
    "print(b)\n",
    "for byte in b:\n",
    "    print(hex(byte), byte, chr(byte))"
   ]
  },
  {
   "cell_type": "markdown",
   "id": "e8805560",
   "metadata": {},
   "source": [
    "Какие кодировки можем использовать? Разные:"
   ]
  },
  {
   "cell_type": "code",
   "execution_count": 52,
   "id": "305a076c",
   "metadata": {},
   "outputs": [
    {
     "name": "stdout",
     "output_type": "stream",
     "text": [
      "latin_1\t\tEl Niño\t\tb'El Ni\\xf1o'\n",
      "utf_8\t\tEl Niño\t\tb'El Ni\\xc3\\xb1o'\n",
      "utf_16\t\tEl Niño\t\tb'\\xff\\xfeE\\x00l\\x00 \\x00N\\x00i\\x00\\xf1\\x00o\\x00'\n",
      "cp437\t\tEl Niño\t\tb'El Ni\\xa4o'\n"
     ]
    }
   ],
   "source": [
    "string = 'El Niño'\n",
    "\n",
    "for codec in ['latin_1', 'utf_8', 'utf_16', 'cp437']:\n",
    "    encoded = string.encode(codec)\n",
    "    print(codec, encoded.decode(codec), encoded, sep='\\t\\t')"
   ]
  },
  {
   "cell_type": "markdown",
   "id": "6a6732f8",
   "metadata": {},
   "source": [
    "Не все кодировки работают для всех строк:"
   ]
  },
  {
   "cell_type": "code",
   "execution_count": 54,
   "id": "97dcae3c",
   "metadata": {},
   "outputs": [
    {
     "data": {
      "text/plain": [
       "b'S\\xc3\\xa3o Paulo'"
      ]
     },
     "execution_count": 54,
     "metadata": {},
     "output_type": "execute_result"
    },
    {
     "data": {
      "text/plain": [
       "b'\\xff\\xfeS\\x00\\xe3\\x00o\\x00 \\x00P\\x00a\\x00u\\x00l\\x00o\\x00'"
      ]
     },
     "execution_count": 54,
     "metadata": {},
     "output_type": "execute_result"
    },
    {
     "data": {
      "text/plain": [
       "b'S\\xe3o Paulo'"
      ]
     },
     "execution_count": 54,
     "metadata": {},
     "output_type": "execute_result"
    },
    {
     "ename": "UnicodeEncodeError",
     "evalue": "'charmap' codec can't encode character '\\xe3' in position 1: character maps to <undefined>",
     "output_type": "error",
     "traceback": [
      "\u001b[1;31m---------------------------------------------------------------------------\u001b[0m",
      "\u001b[1;31mUnicodeEncodeError\u001b[0m                        Traceback (most recent call last)",
      "\u001b[1;32m~\\AppData\\Local\\Temp/ipykernel_15100/1330739689.py\u001b[0m in \u001b[0;36m<module>\u001b[1;34m\u001b[0m\n\u001b[0;32m      3\u001b[0m \u001b[0mcity\u001b[0m\u001b[1;33m.\u001b[0m\u001b[0mencode\u001b[0m\u001b[1;33m(\u001b[0m\u001b[1;34m'utf_16'\u001b[0m\u001b[1;33m)\u001b[0m\u001b[1;33m\u001b[0m\u001b[1;33m\u001b[0m\u001b[0m\n\u001b[0;32m      4\u001b[0m \u001b[0mcity\u001b[0m\u001b[1;33m.\u001b[0m\u001b[0mencode\u001b[0m\u001b[1;33m(\u001b[0m\u001b[1;34m'iso8859_1'\u001b[0m\u001b[1;33m)\u001b[0m\u001b[1;33m\u001b[0m\u001b[1;33m\u001b[0m\u001b[0m\n\u001b[1;32m----> 5\u001b[1;33m \u001b[0mcity\u001b[0m\u001b[1;33m.\u001b[0m\u001b[0mencode\u001b[0m\u001b[1;33m(\u001b[0m\u001b[1;34m'cp437'\u001b[0m\u001b[1;33m)\u001b[0m\u001b[1;33m\u001b[0m\u001b[1;33m\u001b[0m\u001b[0m\n\u001b[0m",
      "\u001b[1;32m~\\anaconda3\\lib\\encodings\\cp437.py\u001b[0m in \u001b[0;36mencode\u001b[1;34m(self, input, errors)\u001b[0m\n\u001b[0;32m     10\u001b[0m \u001b[1;33m\u001b[0m\u001b[0m\n\u001b[0;32m     11\u001b[0m     \u001b[1;32mdef\u001b[0m \u001b[0mencode\u001b[0m\u001b[1;33m(\u001b[0m\u001b[0mself\u001b[0m\u001b[1;33m,\u001b[0m\u001b[0minput\u001b[0m\u001b[1;33m,\u001b[0m\u001b[0merrors\u001b[0m\u001b[1;33m=\u001b[0m\u001b[1;34m'strict'\u001b[0m\u001b[1;33m)\u001b[0m\u001b[1;33m:\u001b[0m\u001b[1;33m\u001b[0m\u001b[1;33m\u001b[0m\u001b[0m\n\u001b[1;32m---> 12\u001b[1;33m         \u001b[1;32mreturn\u001b[0m \u001b[0mcodecs\u001b[0m\u001b[1;33m.\u001b[0m\u001b[0mcharmap_encode\u001b[0m\u001b[1;33m(\u001b[0m\u001b[0minput\u001b[0m\u001b[1;33m,\u001b[0m\u001b[0merrors\u001b[0m\u001b[1;33m,\u001b[0m\u001b[0mencoding_map\u001b[0m\u001b[1;33m)\u001b[0m\u001b[1;33m\u001b[0m\u001b[1;33m\u001b[0m\u001b[0m\n\u001b[0m\u001b[0;32m     13\u001b[0m \u001b[1;33m\u001b[0m\u001b[0m\n\u001b[0;32m     14\u001b[0m     \u001b[1;32mdef\u001b[0m \u001b[0mdecode\u001b[0m\u001b[1;33m(\u001b[0m\u001b[0mself\u001b[0m\u001b[1;33m,\u001b[0m\u001b[0minput\u001b[0m\u001b[1;33m,\u001b[0m\u001b[0merrors\u001b[0m\u001b[1;33m=\u001b[0m\u001b[1;34m'strict'\u001b[0m\u001b[1;33m)\u001b[0m\u001b[1;33m:\u001b[0m\u001b[1;33m\u001b[0m\u001b[1;33m\u001b[0m\u001b[0m\n",
      "\u001b[1;31mUnicodeEncodeError\u001b[0m: 'charmap' codec can't encode character '\\xe3' in position 1: character maps to <undefined>"
     ]
    }
   ],
   "source": [
    "city = 'São Paulo'\n",
    "city.encode('utf_8')\n",
    "city.encode('utf_16')\n",
    "city.encode('iso8859_1')\n",
    "city.encode('cp437')"
   ]
  },
  {
   "cell_type": "markdown",
   "id": "471aaeb2",
   "metadata": {},
   "source": [
    "Что делать с такими ошибками? Обрабатывать:"
   ]
  },
  {
   "cell_type": "code",
   "execution_count": 55,
   "id": "c16cc9d9",
   "metadata": {},
   "outputs": [
    {
     "name": "stdout",
     "output_type": "stream",
     "text": [
      "b'So Paulo'\n",
      "b'S?o Paulo'\n",
      "b'S&#227;o Paulo'\n"
     ]
    }
   ],
   "source": [
    "print(city.encode('cp437', errors='ignore')) # bad\n",
    "print(city.encode('cp437', errors='replace')) # better\n",
    "print(city.encode('cp437', errors='xmlcharrefreplace')) # still not perfect"
   ]
  },
  {
   "cell_type": "markdown",
   "id": "d3213aec",
   "metadata": {},
   "source": [
    "### Работа с файлами"
   ]
  },
  {
   "cell_type": "code",
   "execution_count": 64,
   "id": "17012c0b",
   "metadata": {},
   "outputs": [
    {
     "data": {
      "text/plain": [
       "4"
      ]
     },
     "execution_count": 64,
     "metadata": {},
     "output_type": "execute_result"
    }
   ],
   "source": [
    "with open('unicode_file.txt', 'w', encoding='utf-16le') as f:\n",
    "    f.write('韩国烧酒')"
   ]
  },
  {
   "cell_type": "code",
   "execution_count": 67,
   "id": "1d7d4ef0",
   "metadata": {},
   "outputs": [
    {
     "name": "stdout",
     "output_type": "stream",
     "text": [
      "й—эVзpR‘\n"
     ]
    }
   ],
   "source": [
    "# используется кодировка по умолчанию\n",
    "with open('unicode_file.txt', 'r') as f:\n",
    "    print(f.read())"
   ]
  },
  {
   "cell_type": "code",
   "execution_count": 68,
   "id": "ec9f4e11",
   "metadata": {},
   "outputs": [
    {
     "name": "stdout",
     "output_type": "stream",
     "text": [
      "韩国烧酒\n"
     ]
    }
   ],
   "source": [
    "with open('unicode_file.txt', 'r', encoding='utf-16le') as f:\n",
    "    print(f.read())"
   ]
  },
  {
   "cell_type": "markdown",
   "id": "564edc72",
   "metadata": {},
   "source": [
    "### Регулярные выражения\n",
    "\n",
    "**Регулярные выражения** - формальный язык поиска и осуществления манипуляций с подстроками в тексте, основанный на использовании метасимволов (`. ˆ $ * + ? { } [ ] | ( )`)\n",
    "\n",
    "Регулярки порой сложно дебажить, на помощь приходит https://regex101.com/\n",
    "\n",
    "В Python для работы с регулярными выражениями существует модуль `re`. \n",
    "\n",
    "Для поиска всех непересекающихся вхождений регулярного выражения используется `re.findall`:"
   ]
  },
  {
   "cell_type": "code",
   "execution_count": 75,
   "id": "8f68a4a5",
   "metadata": {},
   "outputs": [
    {
     "name": "stdout",
     "output_type": "stream",
     "text": [
      "['abc', 'abc']\n",
      "['a6c', 'a66c']\n",
      "['abc', 'acc', 'abc', 'a6c']\n"
     ]
    }
   ],
   "source": [
    "import re\n",
    "\n",
    "string = '__abc__acc__abc__a6c__a66c'\n",
    "print(re.findall(r'abc', string))\n",
    "print(re.findall(r'a\\d+c', string))\n",
    "print(re.findall(r'a\\wc', string))"
   ]
  },
  {
   "cell_type": "markdown",
   "id": "0c995e5e",
   "metadata": {},
   "source": [
    "Мы также можем сохранить паттерн и использовать его несколько раз:"
   ]
  },
  {
   "cell_type": "code",
   "execution_count": 76,
   "id": "e5cbad71",
   "metadata": {},
   "outputs": [],
   "source": [
    "text = u'Français złoty Österreich'\n",
    "pattern = r'\\w+'\n",
    "ascii_pattern = re.compile(pattern, re.ASCII)\n",
    "unicode_pattern = re.compile(pattern)"
   ]
  },
  {
   "cell_type": "code",
   "execution_count": 78,
   "id": "c8f54914",
   "metadata": {},
   "outputs": [
    {
     "name": "stdout",
     "output_type": "stream",
     "text": [
      "Text    : Français złoty Österreich\n",
      "Pattern : \\w+\n",
      "ASCII   : ['Fran', 'ais', 'z', 'oty', 'sterreich']\n",
      "Unicode : ['Français', 'złoty', 'Österreich']\n"
     ]
    }
   ],
   "source": [
    "print('Text    :', text)\n",
    "print('Pattern :', pattern)\n",
    "print('ASCII   :', list(ascii_pattern.findall(text)))\n",
    "print('Unicode :', list(unicode_pattern.findall(text)))"
   ]
  },
  {
   "cell_type": "markdown",
   "id": "01341fbd",
   "metadata": {},
   "source": [
    "Можем заменять части строки с помощью регулярных выражений:"
   ]
  },
  {
   "cell_type": "code",
   "execution_count": 79,
   "id": "08d436b3",
   "metadata": {},
   "outputs": [
    {
     "data": {
      "text/plain": [
       "'__***__***__***__***__a66c'"
      ]
     },
     "execution_count": 79,
     "metadata": {},
     "output_type": "execute_result"
    }
   ],
   "source": [
    "re.sub(r'a\\wc', '***', string)"
   ]
  },
  {
   "cell_type": "code",
   "execution_count": null,
   "id": "67f0df71",
   "metadata": {},
   "outputs": [],
   "source": []
  }
 ],
 "metadata": {
  "kernelspec": {
   "display_name": "Python 3 (ipykernel)",
   "language": "python",
   "name": "python3"
  },
  "language_info": {
   "codemirror_mode": {
    "name": "ipython",
    "version": 3
   },
   "file_extension": ".py",
   "mimetype": "text/x-python",
   "name": "python",
   "nbconvert_exporter": "python",
   "pygments_lexer": "ipython3",
   "version": "3.9.7"
  }
 },
 "nbformat": 4,
 "nbformat_minor": 5
}
