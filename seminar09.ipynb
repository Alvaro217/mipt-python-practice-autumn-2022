{
 "cells": [
  {
   "cell_type": "markdown",
   "metadata": {
    "id": "2pS8HUFlGHXm"
   },
   "source": [
    "# Практикум Python\n",
    "\n",
    "\n",
    "<img src=\"https://www.python.org/static/community_logos/python-logo-master-v3-TM.png\" align=\"right\" style=\"height: 200px;\"/>"
   ]
  },
  {
   "cell_type": "markdown",
   "metadata": {
    "id": "q4m4rxArNXJl"
   },
   "source": [
    "# Занятие 9. Лучшие практики программирования\n"
   ]
  },
  {
   "cell_type": "markdown",
   "metadata": {
    "id": "Q5dCx8oLasXm"
   },
   "source": [
    "# Паттерны проектирования"
   ]
  },
  {
   "cell_type": "markdown",
   "metadata": {
    "id": "xM7_HTmca4qM"
   },
   "source": [
    "**Паттерн проектирования** — это часто встречающееся решение определённой проблемы при проектировании архитектуры программ.\n",
    "\n",
    "В отличие от готовых функций или библиотек, паттерн нельзя просто взять и скопировать в программу. Паттерн представляет собой не какой-то конкретный код, а общую концепцию решения той или иной проблемы, которую нужно будет ещё подстроить под нужды вашей программы.\n",
    "\n",
    "**Паттерн != алгоритм**. Алгоритм — чёткий набор действий, паттерн — лишь высокоуровневое описание решения (реализация может отличаться в разных программах)."
   ]
  },
  {
   "cell_type": "markdown",
   "metadata": {
    "id": "8WJ6ApxFfjV3"
   },
   "source": [
    "**Из чего состоит паттерн?**\n",
    "\n",
    "Описания паттернов обычно очень формальны и чаще всего состоят из таких пунктов:\n",
    "- проблема, которую решает паттерн;\n",
    "- мотивации к решению проблемы способом, который предлагает паттерн;\n",
    "- структуры классов, составляющих решение;\n",
    "- примера на одном из языков программирования;\n",
    "- особенностей реализации в различных контекстах;\n",
    "- связей с другими паттернами.\n",
    "\n",
    "Такой формализм в описании позволил создать обширный каталог паттернов, проверив каждый из них на состоятельность."
   ]
  },
  {
   "cell_type": "markdown",
   "metadata": {
    "id": "SKc7wzE0lgkz"
   },
   "source": [
    "Выделяют следующие группы паттернов:\n",
    "- **Порождающие паттерны** беспокоятся о гибком создании объектов без внесения в программу лишних зависимостей.\n",
    "1. Абстрактная фабрика\n",
    "2. Строитель\n",
    "3. Фабричный метод\n",
    "4. Прототип\n",
    "- **Структурные паттерны** показывают различные способы построения связей между объектами.\n",
    "1. Адаптер\n",
    "2. Мост\n",
    "3. Компановщик\n",
    "4. Фасад\n",
    "- **Поведенческие паттерны** заботятся об эффективной коммуникации между объектами.\n",
    "1. Итератор\n",
    "2. Цепочка обязанностей\n",
    "3. Команда\n",
    "4. Интерпретатор\n"
   ]
  },
  {
   "cell_type": "markdown",
   "metadata": {
    "id": "zcUVSHYem85U"
   },
   "source": [
    "**Где можно подробнее почитать про паттерны?**\n",
    "\n",
    "- статьи на Хабре:\n",
    "    - https://habr.com/ru/post/210288/\n",
    "    - https://habr.com/ru/company/vk/blog/325492/\n",
    "- книга \"Погружение в паттерны проектирования\" - ищите сами ;)\n",
    "- сайт https://refactoring.guru/ru/ - заблокирован РКН\n",
    "- курс \"Технологии Программирования\""
   ]
  },
  {
   "cell_type": "markdown",
   "metadata": {
    "id": "nvcg7ZnarIjt"
   },
   "source": [
    "## Примеры паттернов\n",
    "\n",
    "<img src=\"https://habrastorage.org/r/w1560/getpro/habr/post_images/16b/2fe/a7f/16b2fea7f7f4dcd14fe2ad0b0bb9bf84.jpg\" align=\"center\" style=\"height: 200px;\"/>\n",
    "\n",
    "<img src=\"https://habrastorage.org/r/w1560/getpro/habr/post_images/049/2df/3bf/0492df3bf1fc55c520276c618815298a.jpg\" align=\"center\" style=\"height: 200px;\"/>\n",
    "\n",
    "<img src=\"https://habrastorage.org/r/w1560/getpro/habr/post_images/c08/bf1/7ee/c08bf17ee80d42272441cafbcce1a2dd.jpg\" align=\"center\" style=\"height: 200px;\"/>"
   ]
  },
  {
   "cell_type": "markdown",
   "metadata": {
    "id": "gRBv0nk4a-lI"
   },
   "source": [
    "# Система контроля версий"
   ]
  },
  {
   "cell_type": "markdown",
   "metadata": {
    "id": "rbE3jYV2bEK3"
   },
   "source": [
    "Зачем нужны? Версии программ."
   ]
  },
  {
   "cell_type": "markdown",
   "metadata": {
    "id": "r-TY_5ljbRCr"
   },
   "source": [
    "**Система контроля версий** (VCS) - инструмент для отслеживания изменений файлов. VCS используется практически во всех хоть сколько то серьезных проектах. Почти наверняка вы будете столкнетесь с VCS по работе.\n",
    "\n",
    "**Преимущества VCS:**\n",
    "\n",
    "- **простота сотрудничества** - легче организовать работу нескольких человек над одним проектом\n",
    "- **возможность к откатам** - можно полностью откатить неудачные изменения\n",
    "- **отслеживание прогресса выполнения** - можно проследить историю изменений и доработок"
   ]
  },
  {
   "cell_type": "markdown",
   "metadata": {
    "id": "LXREbilzrSa3"
   },
   "source": [
    "Сейчас одной из основных VCS является **Git**.\n",
    "\n",
    "**Почему Git?**\n",
    "- децентрализованная система - можно работать независимо от других\n",
    "- гибкая система прав и доступов - легко давать необходимый доступ нужным людям\n",
    "- гибкое и легковесное ветвление - просто создавать нужные версии и объединять их\n",
    "- хорошо работает с текстовыми файлами (не особо хорошо - с бинарными) - отлично работает с кодом"
   ]
  },
  {
   "cell_type": "markdown",
   "metadata": {
    "id": "Nx-O_Zh7blSC"
   },
   "source": [
    "**Основные концепции в Git**"
   ]
  },
  {
   "cell_type": "markdown",
   "metadata": {
    "id": "qxIsx4acxNPq"
   },
   "source": [
    "**Репозиторий** - хранилище всех версий кода. Может быть локальным и удаленным.\n",
    "\n",
    "**Коммит** - \"снимок\" вашего кода, одна из его версий. Хранится в виде изменений по сравнению с предыдущим коммитом вашего кода. К каждому коммиту можно (и нужно) оставлять сообщения, где указывают что именно изменилось в вашем проекте.\n",
    "\n",
    "**Ветка** - отдельная линия разработки кода. Позволяет работать над разными \"фичами\" параллельно."
   ]
  },
  {
   "cell_type": "markdown",
   "metadata": {
    "id": "9bIQ0w3N109D"
   },
   "source": [
    "**Git != GitHub**\n",
    "\n",
    "- **Git** - система контроля версий\n",
    "- **GitHub** - сервис хранения репозиториев"
   ]
  },
  {
   "cell_type": "markdown",
   "metadata": {
    "id": "_9ht0aqv3-o9"
   },
   "source": [
    "Как подробнее вкатиться в Git?\n",
    "\n",
    "- Книга по Git - https://git-scm.com/book/ru/v2\n",
    "- LearnGitBranching - https://learngitbranching.js.org/?locale=ru_RU"
   ]
  },
  {
   "cell_type": "markdown",
   "metadata": {
    "id": "ozqvnXB78dSJ"
   },
   "source": [
    "## Создание репозитория и коммита\n",
    "\n",
    "1. Создаём папку FirstGitRepo (mkdir FirstGitRepo)\n",
    "2. Переходим в неё (cd FirstGitRepo)\n",
    "3. Создаем git-репозиторий (git init)\n",
    "4. Запишем “# Git Tutorial” в readme.md\n",
    "5. Посмотрим изменения (git status)\n",
    "6. Добавим файл в изменение (tracked file): git add readme.md\n",
    "7. Для того, чтобы создать коммит, необходимо зафиксировать tracked files. Это делается командой git commit При этом высветится страшное окно редактора... Поэтому выполняем git commit -m “Название коммита”"
   ]
  },
  {
   "cell_type": "markdown",
   "metadata": {
    "id": "aFv_-yPd8pkr"
   },
   "source": [
    "# Тестирование"
   ]
  },
  {
   "cell_type": "markdown",
   "metadata": {
    "id": "lQ1hJdFVCSGm"
   },
   "source": [
    "**Тестирование** - процесс выполнения программы с целью найти ошибки.\n",
    "\n",
    "Рассматриваем программу как \"черный ящик\", в который мы что-то подаем и ожидаем что-то на выходе.\n",
    "\n",
    "Что можно тестировать:\n",
    "- Работу функций, классов, модулей\n",
    "- Взаимодействие между классами, серверами\n",
    "- Всю программу целиком\n",
    "- Как программа устанавливается"
   ]
  },
  {
   "cell_type": "markdown",
   "metadata": {
    "id": "4_P9RQ9UC-R4"
   },
   "source": [
    "**Пирамида тестирования**\n",
    "\n",
    "1. **Unit** - модуль работает согласно требованиям\n",
    "2. **Integration** - два модуля обмениваются данными согласно требованиям\n",
    "3. **System** - вся программа работает согласно требованиям (функционал, безопасность, производительность, usability, GUI,...)\n",
    "4. **Acceptance** - программа работает в требуемых условиях\n",
    "\n",
    "Чем дальше - тем больше важность, выше сложность и стоимость, ниже скорость."
   ]
  },
  {
   "cell_type": "markdown",
   "metadata": {
    "id": "Mi7q1nEBDImK"
   },
   "source": [
    "Пример:\n",
    "- Тестируем, что класс, принимая в качестве входа три стороны треугольника, определяет, остроугольный он или нет - **UNIT**\n",
    "- Тестируем, что сервис получения курса доллара получает показатели курса доллара за сегодня и за завтрашний день - **INTEGRATION**\n",
    "- Тестируем, что программа запускается на Core i5 с 512 MB оперативной памяти - **ACCEPTANCE**\n",
    "- Тестируем что при заходе на страницу mipt.ru можно кликнуть по ссылке “Расписание” - **SYSTEM**"
   ]
  },
  {
   "cell_type": "markdown",
   "metadata": {
    "id": "nU2kI2mWGLnv"
   },
   "source": [
    "Хорошая практика для разработчиков - покрытие своего кода unit-тестами. Из этой практики родился отдельный подход к разработке - **Test-Driven Development**. Основная суть - сначала пишешь тесты для класса / функции / модуля, затем минимально работоспособный код, который потом начинаешь улучшать, проверяя, что тесты при этом все еще проходят."
   ]
  },
  {
   "cell_type": "markdown",
   "metadata": {
    "id": "94pZ77RGGypl"
   },
   "source": [
    "На Python есть 2 основные библиотеки для написания unit-тестов - `unittest` (встроенная) и `pytest` (сторонняя)."
   ]
  },
  {
   "cell_type": "markdown",
   "metadata": {
    "id": "BuRXv0oeitmG"
   },
   "source": [
    "## Модуль unittest"
   ]
  },
  {
   "cell_type": "markdown",
   "metadata": {
    "id": "G1k3C_M4HaSi"
   },
   "source": [
    "В Python встроен модуль **unittest**, который поддерживает автоматизацию тестов, использование общего кода для настройки и завершения тестов, объединение тестов в группы, а также позволяет отделять тесты от фреймворка для вывода информации.\n",
    "\n",
    "Для автоматизации тестов, unittest поддерживает некоторые важные концепции:\n",
    "- **Испытательный стенд (test fixture)** - выполняется подготовка, необходимая для выполнения тестов и все необходимые действия для очистки после выполнения тестов. Это может включать, например, создание временных баз данных или запуск серверного процесса.\n",
    "\n",
    "- **Тестовый случай (test case)** - минимальный блок тестирования. Он проверяет ответы для разных наборов данных. Модуль unittest предоставляет базовый класс TestCase, который можно использовать для создания новых тестовых случаев.\n",
    "\n",
    "- **Набор тестов (test suite)** - несколько тестовых случаев, наборов тестов или и того и другого. Он используется для объединения тестов, которые должны быть выполнены вместе.\n",
    "\n",
    "- **Исполнитель тестов (test runner)** - компонент, который управляет выполнением тестов и предоставляет пользователю результат. Исполнитель может использовать графический или текстовый интерфейс или возвращать специальное значение, которое сообщает о результатах выполнения тестов.\n"
   ]
  },
  {
   "cell_type": "markdown",
   "metadata": {
    "id": "ahT8jKMZitmH"
   },
   "source": [
    "Простой пример проверки работы строковых методов:"
   ]
  },
  {
   "cell_type": "code",
   "execution_count": 5,
   "metadata": {
    "id": "SSeyQYohitmH",
    "outputId": "47ac2800-2d0d-47e4-d958-dd50232e96a6"
   },
   "outputs": [
    {
     "name": "stderr",
     "output_type": "stream",
     "text": [
      "...\n",
      "----------------------------------------------------------------------\n",
      "Ran 3 tests in 0.007s\n",
      "\n",
      "OK\n"
     ]
    }
   ],
   "source": [
    "import unittest\n",
    "\n",
    "class TestStringMethods(unittest.TestCase):\n",
    "    # тестовые методы должны начинаться с test\n",
    "    def test_upper(self):\n",
    "        self.assertEqual('foo'.upper(), 'FOO')\n",
    "\n",
    "    def test_isupper(self):\n",
    "        self.assertTrue('FOO'.isupper())\n",
    "        self.assertFalse('Foo'.isupper())\n",
    "\n",
    "    def test_split(self):\n",
    "        s = 'hello world'\n",
    "        self.assertEqual(s.split(), ['hello', 'world'])\n",
    "        # Проверим, что s.split не работает, если разделитель - не строка\n",
    "        with self.assertRaises(TypeError):\n",
    "            s.split(2)\n",
    "\n",
    "if __name__ == '__main__':\n",
    "    unittest.main(argv=['first-arg-is-ignored'], exit=False)"
   ]
  },
  {
   "cell_type": "markdown",
   "metadata": {
    "id": "d5M9mGBPitmK"
   },
   "source": [
    "## Интерфейс командной строки\n",
    "\n",
    "Можем тестировать отдельный модуль, класс или метод:"
   ]
  },
  {
   "cell_type": "code",
   "execution_count": 6,
   "metadata": {
    "id": "hNH3S_CsitmK",
    "outputId": "8961a0a4-9470-4377-dcdb-ea5470c82ad5"
   },
   "outputs": [
    {
     "name": "stderr",
     "output_type": "stream",
     "text": [
      "Python \n",
      "Python \n",
      "Python \n"
     ]
    }
   ],
   "source": [
    "!python3 -m unittest strings                               # модуль\n",
    "!python3 -m unittest strings.TestStringMethods             # класс\n",
    "!python3 -m unittest strings.TestStringMethods.test_split  # метод"
   ]
  },
  {
   "cell_type": "markdown",
   "metadata": {
    "id": "ze_x8wsXitmL"
   },
   "source": [
    "С помощью флага *-v* можно получить более детальный отчёт"
   ]
  },
  {
   "cell_type": "code",
   "execution_count": 7,
   "metadata": {
    "id": "2WNcYYZIitmL",
    "outputId": "94a940f5-4323-4b6a-9029-238b2dd24b29"
   },
   "outputs": [
    {
     "name": "stderr",
     "output_type": "stream",
     "text": [
      "Python \n"
     ]
    }
   ],
   "source": [
    "#:\n",
    "!python3 -m unittest -v strings"
   ]
  },
  {
   "cell_type": "markdown",
   "metadata": {
    "id": "_2B5g461itmL"
   },
   "source": [
    "Ещё флаги:\n",
    "- **-b (--buffer)** - вывод программы при провале теста будет показан, а не скрыт, как обычно.\n",
    "- **-c (--catch)** - Ctrl+C ожидает завершения текущего теста и сообщает текущие результаты, второе нажатие - обычное поведение.\n",
    "- **-f (--failfast)** - выход после первого же неудачного теста.\n",
    "- **--locals** (начиная с Python 3.5) - показывать локальные переменные для провалившихся тестов."
   ]
  },
  {
   "cell_type": "markdown",
   "metadata": {
    "id": "fZn19rzgitmL"
   },
   "source": [
    "## Обнаружение тестов\n",
    "\n",
    "`unittest` поддерживает простое обнаружение тестов. Для совместимости с обнаружением тестов все файлы тестов должны быть модулями или пакетами, импортируемыми из директории верхнего уровня проекта ([см. подробнее о правилах наименования модулей](https://pythonworld.ru/osnovy/rabota-s-modulyami-sozdanie-podklyuchenie-instrukciyami-import-i-from.html#id3)).\n",
    "\n",
    "Обнаружение тестов реализовано в `TestLoader.discover()`, но может быть использовано из командной строки:"
   ]
  },
  {
   "cell_type": "code",
   "execution_count": 10,
   "metadata": {
    "id": "GzI7PCd1itmM",
    "outputId": "71db77b9-b2f9-4753-d0b9-0f09868fa281"
   },
   "outputs": [
    {
     "name": "stderr",
     "output_type": "stream",
     "text": [
      "\"mv\" ­Ґ пў«пҐвбп ў­гваҐ­­Ґ© Ё«Ё ў­Ґи­Ґ©\n",
      "Є®¬ ­¤®©, ЁбЇ®«­пҐ¬®© Їа®Ја ¬¬®© Ё«Ё Ї ЄҐв­л¬ д ©«®¬.\n",
      "Python \n"
     ]
    }
   ],
   "source": [
    "!mv strings.py test_strings.py  #чтобы сработало переименуем модуль в test....py\n",
    "!python3 -m unittest discover"
   ]
  },
  {
   "cell_type": "markdown",
   "metadata": {
    "id": "-4MjZrM6itmM"
   },
   "source": [
    "## Организация тестового кода\n",
    "\n",
    "Создадим класс, который будем тестировать:"
   ]
  },
  {
   "cell_type": "code",
   "execution_count": 11,
   "metadata": {
    "id": "46o8dEdJitmM"
   },
   "outputs": [],
   "source": [
    "class Widget():\n",
    "    def __init__(self, name, x = 50, y = 50):\n",
    "        self.name = name\n",
    "        self.x = x\n",
    "        self.y = y\n",
    "        \n",
    "    def size(self):\n",
    "        return (self.x, self.y)"
   ]
  },
  {
   "cell_type": "markdown",
   "metadata": {
    "id": "zdUAVTNcitmM"
   },
   "source": [
    "Базовые блоки тестирования это **тестовые случаи** - простые случаи, которые должны быть проверены на корректность.\n",
    "\n",
    "Тестовый случай создаётся путём наследования от unittest.TestCase.\n",
    "\n",
    "Тестирующий код должен быть самостоятельным, то есть никак не зависеть от других тестов.\n",
    "\n",
    "Простейший подкласс **TestCase** может просто реализовывать тестовый метод (метод, начинающийся с test)"
   ]
  },
  {
   "cell_type": "code",
   "execution_count": 16,
   "metadata": {
    "id": "atE43RCbitmM",
    "outputId": "c65a30b5-6509-481a-d817-497012973f81"
   },
   "outputs": [
    {
     "name": "stderr",
     "output_type": "stream",
     "text": [
      ".\n",
      "----------------------------------------------------------------------\n",
      "Ran 1 test in 0.002s\n",
      "\n",
      "OK\n"
     ]
    }
   ],
   "source": [
    "class DefaultWidgetSizeTestCase(unittest.TestCase):\n",
    "    def test_default_widget_size(self):\n",
    "        widget = Widget('The widget')\n",
    "        self.assertEqual(widget.size(), (50, 50))\n",
    "\n",
    "if __name__ == '__main__':\n",
    "\n",
    "    unittest.main(argv=['',], defaultTest='DefaultWidgetSizeTestCase', exit=False)"
   ]
  },
  {
   "cell_type": "markdown",
   "metadata": {
    "id": "L1a0H2JPitmN"
   },
   "source": [
    "Тестов может быть много, и часть кода настройки может повторяться. К счастью, мы можем определить код настройки путём реализации метода `setUp()`, который будет запускаться **перед каждым тестом**.\n",
    "\n",
    "Мы также можем определить метод `tearDown()`, который будет запускаться **после каждого теста**."
   ]
  },
  {
   "cell_type": "code",
   "execution_count": null,
   "metadata": {
    "id": "3XHE2zBkitmN",
    "outputId": "d4c71882-ec45-4225-9515-9358ea9098f5"
   },
   "outputs": [
    {
     "name": "stderr",
     "output_type": "stream",
     "text": [
      ".E\n",
      "======================================================================\n",
      "ERROR: test_widget_resize (__main__.SimpleWidgetTestCase)\n",
      "----------------------------------------------------------------------\n",
      "Traceback (most recent call last):\n",
      "  File \"/tmp/ipykernel_564/3320321508.py\", line 10, in test_widget_resize\n",
      "    self.widget.resize(100,150)\n",
      "AttributeError: 'Widget' object has no attribute 'resize'\n",
      "\n",
      "----------------------------------------------------------------------\n",
      "Ran 2 tests in 0.002s\n",
      "\n",
      "FAILED (errors=1)\n"
     ]
    }
   ],
   "source": [
    "class SimpleWidgetTestCase(unittest.TestCase):\n",
    "    def setUp(self):\n",
    "        self.widget = Widget('The widget')\n",
    "\n",
    "    def test_default_widget_size(self):\n",
    "        self.assertEqual(self.widget.size(), (50,50),\n",
    "                         'incorrect default size')\n",
    "\n",
    "    def test_widget_resize(self):\n",
    "        self.widget.resize(100,150)\n",
    "        self.assertEqual(self.widget.size(), (100,150),\n",
    "                         'wrong size after resize')\n",
    "        \n",
    "    def tearDown(self):\n",
    "        pass\n",
    "        \n",
    "if __name__ == '__main__':\n",
    "    unittest.main(argv=['',], defaultTest='SimpleWidgetTestCase', exit=False)"
   ]
  },
  {
   "cell_type": "markdown",
   "metadata": {
    "id": "3aF612lDitmN"
   },
   "source": [
    "Можно разместить все тесты в том же файле, что и сама программа (таком как *widgets.py*), но размещение тестов в отдельном файле (таком как *test_widget.py*) имеет много преимуществ:\n",
    "\n",
    "- Модуль с тестом может быть запущен автономно из командной строки.\n",
    "- Тестовый код может быть легко отделён от программы.\n",
    "- Меньше искушения изменить тесты для соответствия коду программы без видимой причины.\n",
    "- Тестовый код должен изменяться гораздо реже, чем программа.\n",
    "- Протестированный код может быть легче переработан.\n",
    "- Тесты для модулей на C должны быть в отдельных модулях, так почему же не быть последовательным?\n",
    "- Если стратегия тестирования изменяется, нет необходимости изменения кода программы."
   ]
  },
  {
   "cell_type": "markdown",
   "metadata": {
    "id": "IFeHnJnRitmO"
   },
   "source": [
    "## Пропуск тестов и ожидаемые ошибки\n",
    "\n",
    "`unittest` поддерживает пропуск отдельных тестов, а также классов тестов. Вдобавок, поддерживается пометка теста как *\"не работает, но так и надо\"*.\n",
    "\n",
    "Пропуск теста осуществляется использованием декоратора `skip()` или одного из его условных вариантов:"
   ]
  },
  {
   "cell_type": "code",
   "execution_count": null,
   "metadata": {
    "id": "JzYOIRIvitmO",
    "outputId": "8d49db05-ded8-4b01-ce2a-8e8acb9b9c4e"
   },
   "outputs": [
    {
     "name": "stderr",
     "output_type": "stream",
     "text": [
      "test_format (__main__.MyTestCase) ... skipped 'not supported in this library version'\n",
      "test_nothing (__main__.MyTestCase) ... skipped 'demonstrating skipping'\n",
      "test_windows_support (__main__.MyTestCase) ... skipped 'requires Windows'\n",
      "\n",
      "----------------------------------------------------------------------\n",
      "Ran 3 tests in 0.002s\n",
      "\n",
      "OK (skipped=3)\n"
     ]
    }
   ],
   "source": [
    "__version__ = (0, 9)\n",
    "platform = \"ubuntu\"\n",
    "\n",
    "\n",
    "class MyTestCase(unittest.TestCase):\n",
    "    @unittest.skip(\"demonstrating skipping\")\n",
    "    def test_nothing(self):\n",
    "        self.fail(\"shouldn't happen\")\n",
    "\n",
    "    @unittest.skipIf(__version__ < (1, 3), \"not supported in this library version\")\n",
    "    def test_format(self):\n",
    "        # Tests that work for only a certain version of the library.\n",
    "        pass\n",
    "\n",
    "    @unittest.skipUnless(platform.startswith(\"win\"), \"requires Windows\")\n",
    "    def test_windows_support(self):\n",
    "        # windows specific testing code\n",
    "        pass\n",
    "\n",
    "if __name__ == '__main__':\n",
    "    unittest.main(argv=['','-v'], defaultTest='MyTestCase', exit=False)"
   ]
  },
  {
   "cell_type": "markdown",
   "metadata": {
    "id": "d67FLhxCitmO"
   },
   "source": [
    "Классы также могут быть пропущены:"
   ]
  },
  {
   "cell_type": "code",
   "execution_count": null,
   "metadata": {
    "id": "JgPXt5P5itmO",
    "outputId": "32aab149-c59a-43cb-8839-a0be546ac55d"
   },
   "outputs": [
    {
     "name": "stderr",
     "output_type": "stream",
     "text": [
      "test_not_run (__main__.MySkippedTestCase) ... skipped 'showing class skipping'\n",
      "\n",
      "----------------------------------------------------------------------\n",
      "Ran 1 test in 0.001s\n",
      "\n",
      "OK (skipped=1)\n"
     ]
    }
   ],
   "source": [
    "@unittest.skip(\"showing class skipping\")\n",
    "class MySkippedTestCase(unittest.TestCase):\n",
    "    def test_not_run(self):\n",
    "        pass\n",
    "    \n",
    "if __name__ == '__main__':\n",
    "\n",
    "    unittest.main(argv=['','-v'], defaultTest='MySkippedTestCase', exit=False)"
   ]
  },
  {
   "cell_type": "markdown",
   "metadata": {
    "id": "tOAi9kppitmP"
   },
   "source": [
    "Тесты, в которых ожидаются ошибки, используют декоратор `expectedFailure()`:"
   ]
  },
  {
   "cell_type": "code",
   "execution_count": null,
   "metadata": {
    "id": "-tfk-2tnitmP",
    "outputId": "17108f03-1502-4773-ac64-13982d0719cc"
   },
   "outputs": [
    {
     "name": "stderr",
     "output_type": "stream",
     "text": [
      "test_fail (__main__.ExpectedFailureTestCase) ... expected failure\n",
      "\n",
      "----------------------------------------------------------------------\n",
      "Ran 1 test in 0.001s\n",
      "\n",
      "OK (expected failures=1)\n"
     ]
    }
   ],
   "source": [
    "class ExpectedFailureTestCase(unittest.TestCase):\n",
    "    @unittest.expectedFailure\n",
    "    def test_fail(self):\n",
    "        self.assertEqual(1, 0, \"broken\")\n",
    "\n",
    "if __name__ == '__main__':\n",
    "    unittest.main(argv=['','-v'], defaultTest='ExpectedFailureTestCase', exit=False)"
   ]
  },
  {
   "cell_type": "markdown",
   "metadata": {
    "id": "WVT4l1yKitmP"
   },
   "source": [
    "Очень просто сделать свой декоратор. Например, следующий декоратор пропускает тест, если переданный объект не имеет указанного атрибута:"
   ]
  },
  {
   "cell_type": "code",
   "execution_count": 14,
   "metadata": {
    "id": "V3_8xQIaitmP",
    "outputId": "a51d0abe-349d-42c0-e141-8d1e3f3d58f2"
   },
   "outputs": [
    {
     "name": "stderr",
     "output_type": "stream",
     "text": [
      "test_fail (__main__.YetAnotherTestCase) ... skipped \"[1, 2, 3] doesn't have add\"\n",
      "\n",
      "----------------------------------------------------------------------\n",
      "Ran 1 test in 0.004s\n",
      "\n",
      "OK (skipped=1)\n"
     ]
    }
   ],
   "source": [
    "obj1 = [1, 2, 3]\n",
    "\n",
    "def skipUnlessHasattr(obj, attr):\n",
    "    if hasattr(obj, attr):\n",
    "        return lambda func: func\n",
    "    return unittest.skip(f\"{obj} doesn't have {attr}\")\n",
    "\n",
    "class YetAnotherTestCase(unittest.TestCase):\n",
    "    @skipUnlessHasattr(obj1,'add')\n",
    "    def test_fail(self):\n",
    "        pass\n",
    "\n",
    "if __name__ == '__main__':\n",
    "    unittest.main(argv=['','-v'], defaultTest='YetAnotherTestCase', exit=False) "
   ]
  },
  {
   "cell_type": "markdown",
   "metadata": {
    "id": "7HDdTGZLitmQ"
   },
   "source": [
    "**Замечание** - для пропущенных тестов не запускаются `setUp()` и `tearDown()`, для пропущенных классов не запускаются `setUpClass()` и `tearDownClass()`, для пропущенных модулей не запускаются `setUpModule()` и `tearDownModule()`."
   ]
  },
  {
   "cell_type": "markdown",
   "metadata": {
    "id": "sbamy9UbitmQ"
   },
   "source": [
    "Эй, а что ещё за `setUpClass()` и `setUpModule()`?"
   ]
  },
  {
   "cell_type": "code",
   "execution_count": null,
   "metadata": {
    "id": "uAS7uTsoitmQ"
   },
   "outputs": [],
   "source": [
    "import unittest\n",
    "\n",
    "class Test(unittest.TestCase):\n",
    "    @classmethod\n",
    "    def setUpClass(cls):\n",
    "        cls._connection = createExpensiveConnectionObject()\n",
    "\n",
    "    @classmethod\n",
    "    def tearDownClass(cls):\n",
    "        cls._connection.destroy()\n",
    "        \n",
    "\n",
    "#These should be implemented as functions:\n",
    "def setUpModule():\n",
    "    createConnection()\n",
    "\n",
    "def tearDownModule():\n",
    "    closeConnection()\n",
    "    \n",
    "del setUpModule\n",
    "del tearDownModule"
   ]
  },
  {
   "cell_type": "markdown",
   "metadata": {
    "id": "tTVsenNIitmR"
   },
   "source": [
    "## Различение итераций теста с помощью подтестов\n",
    "\n",
    "Когда некоторые тесты имеют лишь незначительные отличия, например некоторые параметры, `unittest` позволяет различать их внутри одного тестового метода, используя менеджер контекста `subTest()`:"
   ]
  },
  {
   "cell_type": "code",
   "execution_count": null,
   "metadata": {
    "id": "O40WGOjUitmR",
    "outputId": "33f6a629-2ada-4964-c101-ed92fc2d4af8"
   },
   "outputs": [
    {
     "name": "stderr",
     "output_type": "stream",
     "text": [
      "test_even (__main__.NumbersTest)\n",
      "Test that numbers between 0 and 3 are all even ... \n",
      "======================================================================\n",
      "FAIL: test_even (__main__.NumbersTest) (i=1)\n",
      "Test that numbers between 0 and 3 are all even\n",
      "----------------------------------------------------------------------\n",
      "Traceback (most recent call last):\n",
      "  File \"/tmp/ipykernel_564/1820876951.py\", line 6, in test_even\n",
      "    self.assertEqual(i % 2, 0)\n",
      "AssertionError: 1 != 0\n",
      "\n",
      "======================================================================\n",
      "FAIL: test_even (__main__.NumbersTest) (i=3)\n",
      "Test that numbers between 0 and 3 are all even\n",
      "----------------------------------------------------------------------\n",
      "Traceback (most recent call last):\n",
      "  File \"/tmp/ipykernel_564/1820876951.py\", line 6, in test_even\n",
      "    self.assertEqual(i % 2, 0)\n",
      "AssertionError: 1 != 0\n",
      "\n",
      "----------------------------------------------------------------------\n",
      "Ran 1 test in 0.002s\n",
      "\n",
      "FAILED (failures=2)\n"
     ]
    },
    {
     "data": {
      "text/plain": [
       "<unittest.main.TestProgram at 0x7ff02dddcdc0>"
      ]
     },
     "execution_count": 31,
     "metadata": {},
     "output_type": "execute_result"
    }
   ],
   "source": [
    "class NumbersTest(unittest.TestCase):\n",
    "    def test_even(self):\n",
    "        \"\"\"Test that numbers between 0 and 3 are all even\"\"\"\n",
    "        for i in range(0, 4):\n",
    "            with self.subTest(i=i):\n",
    "                self.assertEqual(i % 2, 0)\n",
    "                \n",
    "unittest.main(argv=['','-v'], defaultTest='NumbersTest', exit=False)"
   ]
  },
  {
   "cell_type": "markdown",
   "metadata": {
    "id": "EuiDjCmGitmR"
   },
   "source": [
    "Можем кастомизировать запуск имеющихся тестов:"
   ]
  },
  {
   "cell_type": "code",
   "execution_count": 15,
   "metadata": {
    "id": "otem-J2eitmR",
    "outputId": "8aa3ec94-395b-4e69-a63a-374d10a18d5f"
   },
   "outputs": [
    {
     "ename": "NameError",
     "evalue": "name 'SimpleWidgetTestCase' is not defined",
     "output_type": "error",
     "traceback": [
      "\u001b[1;31m---------------------------------------------------------------------------\u001b[0m",
      "\u001b[1;31mNameError\u001b[0m                                 Traceback (most recent call last)",
      "\u001b[1;32m~\\AppData\\Local\\Temp/ipykernel_24012/1149052036.py\u001b[0m in \u001b[0;36m<module>\u001b[1;34m\u001b[0m\n\u001b[0;32m      9\u001b[0m \u001b[1;32mif\u001b[0m \u001b[0m__name__\u001b[0m \u001b[1;33m==\u001b[0m \u001b[1;34m'__main__'\u001b[0m\u001b[1;33m:\u001b[0m\u001b[1;33m\u001b[0m\u001b[1;33m\u001b[0m\u001b[0m\n\u001b[0;32m     10\u001b[0m     \u001b[0mrunner\u001b[0m \u001b[1;33m=\u001b[0m \u001b[0munittest\u001b[0m\u001b[1;33m.\u001b[0m\u001b[0mTextTestRunner\u001b[0m\u001b[1;33m(\u001b[0m\u001b[1;33m)\u001b[0m\u001b[1;33m\u001b[0m\u001b[1;33m\u001b[0m\u001b[0m\n\u001b[1;32m---> 11\u001b[1;33m     \u001b[0mrunner\u001b[0m\u001b[1;33m.\u001b[0m\u001b[0mrun\u001b[0m\u001b[1;33m(\u001b[0m\u001b[0mMySuite\u001b[0m\u001b[1;33m(\u001b[0m\u001b[1;33m)\u001b[0m\u001b[1;33m)\u001b[0m\u001b[1;33m\u001b[0m\u001b[1;33m\u001b[0m\u001b[0m\n\u001b[0m",
      "\u001b[1;32m~\\AppData\\Local\\Temp/ipykernel_24012/1149052036.py\u001b[0m in \u001b[0;36mMySuite\u001b[1;34m()\u001b[0m\n\u001b[0;32m      1\u001b[0m \u001b[1;32mdef\u001b[0m \u001b[0mMySuite\u001b[0m\u001b[1;33m(\u001b[0m\u001b[1;33m)\u001b[0m\u001b[1;33m:\u001b[0m\u001b[1;33m\u001b[0m\u001b[1;33m\u001b[0m\u001b[0m\n\u001b[0;32m      2\u001b[0m     \u001b[0msuite\u001b[0m \u001b[1;33m=\u001b[0m \u001b[0munittest\u001b[0m\u001b[1;33m.\u001b[0m\u001b[0mTestSuite\u001b[0m\u001b[1;33m(\u001b[0m\u001b[1;33m)\u001b[0m\u001b[1;33m\u001b[0m\u001b[1;33m\u001b[0m\u001b[0m\n\u001b[1;32m----> 3\u001b[1;33m     \u001b[0msuite\u001b[0m\u001b[1;33m.\u001b[0m\u001b[0maddTest\u001b[0m\u001b[1;33m(\u001b[0m\u001b[0mSimpleWidgetTestCase\u001b[0m\u001b[1;33m(\u001b[0m\u001b[1;34m'test_default_widget_size'\u001b[0m\u001b[1;33m)\u001b[0m\u001b[1;33m)\u001b[0m\u001b[1;33m\u001b[0m\u001b[1;33m\u001b[0m\u001b[0m\n\u001b[0m\u001b[0;32m      4\u001b[0m     \u001b[0msuite\u001b[0m\u001b[1;33m.\u001b[0m\u001b[0maddTest\u001b[0m\u001b[1;33m(\u001b[0m\u001b[0mSimpleWidgetTestCase\u001b[0m\u001b[1;33m(\u001b[0m\u001b[1;34m'test_widget_resize'\u001b[0m\u001b[1;33m)\u001b[0m\u001b[1;33m)\u001b[0m\u001b[1;33m\u001b[0m\u001b[1;33m\u001b[0m\u001b[0m\n\u001b[0;32m      5\u001b[0m     \u001b[0msuite\u001b[0m\u001b[1;33m.\u001b[0m\u001b[0maddTest\u001b[0m\u001b[1;33m(\u001b[0m\u001b[0mNumbersTest\u001b[0m\u001b[1;33m(\u001b[0m\u001b[1;34m'test_even'\u001b[0m\u001b[1;33m)\u001b[0m\u001b[1;33m)\u001b[0m\u001b[1;33m\u001b[0m\u001b[1;33m\u001b[0m\u001b[0m\n",
      "\u001b[1;31mNameError\u001b[0m: name 'SimpleWidgetTestCase' is not defined"
     ]
    }
   ],
   "source": [
    "def MySuite():\n",
    "    suite = unittest.TestSuite()\n",
    "    suite.addTest(SimpleWidgetTestCase('test_default_widget_size'))\n",
    "    suite.addTest(SimpleWidgetTestCase('test_widget_resize'))\n",
    "    suite.addTest(NumbersTest('test_even'))\n",
    "    suite.addTest(YetAnotherTestCase('test_fail'))\n",
    "    return suite\n",
    "\n",
    "if __name__ == '__main__':\n",
    "    runner = unittest.TextTestRunner()\n",
    "    runner.run(MySuite())"
   ]
  },
  {
   "cell_type": "code",
   "execution_count": null,
   "metadata": {},
   "outputs": [],
   "source": []
  }
 ],
 "metadata": {
  "colab": {
   "collapsed_sections": [],
   "provenance": []
  },
  "kernelspec": {
   "display_name": "Python 3 (ipykernel)",
   "language": "python",
   "name": "python3"
  },
  "language_info": {
   "codemirror_mode": {
    "name": "ipython",
    "version": 3
   },
   "file_extension": ".py",
   "mimetype": "text/x-python",
   "name": "python",
   "nbconvert_exporter": "python",
   "pygments_lexer": "ipython3",
   "version": "3.9.7"
  }
 },
 "nbformat": 4,
 "nbformat_minor": 1
}
