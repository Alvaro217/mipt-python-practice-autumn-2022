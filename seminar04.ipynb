{
 "cells": [
  {
   "cell_type": "markdown",
   "id": "8defcb44",
   "metadata": {},
   "source": [
    "## Практикум Python\n",
    "\n",
    "### Тема 4. Функции, генераторы"
   ]
  },
  {
   "cell_type": "code",
   "execution_count": 2,
   "id": "0ed3bf4e",
   "metadata": {},
   "outputs": [],
   "source": [
    "from IPython.core.interactiveshell import InteractiveShell\n",
    "InteractiveShell.ast_node_interactivity = \"all\""
   ]
  },
  {
   "cell_type": "markdown",
   "id": "f482581a",
   "metadata": {},
   "source": [
    "**Содержание:**\n",
    "1. Функции\n",
    "    - Базовый синтаксис\n",
    "    - Аргументы по умолчанию\n",
    "    - Переменное число аргументов\n",
    "    - Рекурсия\n",
    "\n",
    "2. Анонимные функции\n",
    "3. Генераторы\n",
    "4. Атрибуты\n",
    "5. Области видимости"
   ]
  },
  {
   "cell_type": "markdown",
   "id": "2b41437c",
   "metadata": {},
   "source": [
    "### Функции\n",
    "\n",
    "#### Базовый синтаксис"
   ]
  },
  {
   "cell_type": "markdown",
   "id": "21aa7a47",
   "metadata": {},
   "source": [
    "Объявление функции"
   ]
  },
  {
   "cell_type": "code",
   "execution_count": 1,
   "id": "d6191ee1",
   "metadata": {},
   "outputs": [],
   "source": [
    "def foo(x, y):\n",
    "    print('x =', x, 'y =', y)"
   ]
  },
  {
   "cell_type": "markdown",
   "id": "b6c1328c",
   "metadata": {},
   "source": [
    "Вызов функции"
   ]
  },
  {
   "cell_type": "code",
   "execution_count": 3,
   "id": "b9305886",
   "metadata": {},
   "outputs": [
    {
     "name": "stdout",
     "output_type": "stream",
     "text": [
      "x = 1 y = 2.0\n",
      "x = string y = 3\n",
      "x = [1, 3, 5] y = (2, 4)\n"
     ]
    }
   ],
   "source": [
    "foo(1, 2.0)\n",
    "foo('string', 3)\n",
    "foo([1, 3, 5], (2, 4))"
   ]
  },
  {
   "cell_type": "markdown",
   "id": "1022743c",
   "metadata": {},
   "source": [
    "**Примечание** Аргументы не имеют фиксрованный тип, поэтому необходимо следить за тем, что именно передаётся в качестве аргумента (для корректного выполнения функции)"
   ]
  },
  {
   "cell_type": "code",
   "execution_count": null,
   "id": "d78eb562",
   "metadata": {},
   "outputs": [],
   "source": [
    "def addition(x, y):\n",
    "    return x + y"
   ]
  },
  {
   "cell_type": "markdown",
   "id": "25356c4f",
   "metadata": {},
   "source": [
    "Ключевое слово `return` используется для возвращения значения из функции. В месте, где происходит `return`, функция прекращает своё выполнение, и весь дальнейший код игнорируется."
   ]
  },
  {
   "cell_type": "code",
   "execution_count": 4,
   "id": "2ad6e833",
   "metadata": {},
   "outputs": [],
   "source": [
    "#Посчитать сумму квадратов натуральных чисел от 1 до n\n",
    "#В случае некорректных данных сообщить об ошибке\n",
    "\n",
    "def square_sum(n):\n",
    "    if n <= 0 or int(n) != n:\n",
    "        return 'error'\n",
    "    \n",
    "    return sum(x * x for x in range(n))"
   ]
  },
  {
   "cell_type": "code",
   "execution_count": 5,
   "id": "7a8a4e09",
   "metadata": {},
   "outputs": [
    {
     "data": {
      "text/plain": [
       "5"
      ]
     },
     "execution_count": 5,
     "metadata": {},
     "output_type": "execute_result"
    },
    {
     "data": {
      "text/plain": [
       "'error'"
      ]
     },
     "execution_count": 5,
     "metadata": {},
     "output_type": "execute_result"
    },
    {
     "data": {
      "text/plain": [
       "'error'"
      ]
     },
     "execution_count": 5,
     "metadata": {},
     "output_type": "execute_result"
    }
   ],
   "source": [
    "square_sum(3)\n",
    "square_sum(-4)\n",
    "square_sum(5.3)"
   ]
  },
  {
   "cell_type": "markdown",
   "id": "0548e628",
   "metadata": {},
   "source": [
    "#### Аргументы по умолчанию"
   ]
  },
  {
   "cell_type": "code",
   "execution_count": 6,
   "id": "c58dd377",
   "metadata": {},
   "outputs": [],
   "source": [
    "def foo(a, b, c=0.5, d=(None,)):\n",
    "    print('a =', a, 'b =', b, 'c =', c, 'd =', d)"
   ]
  },
  {
   "cell_type": "code",
   "execution_count": 7,
   "id": "cb5eec36",
   "metadata": {},
   "outputs": [
    {
     "name": "stdout",
     "output_type": "stream",
     "text": [
      "a = 1 b = b c = 0.5 d = (None,)\n",
      "a = 1 b = b c = 0.3 d = (None,)\n",
      "a = 1 b = b c = 0.5 d = d\n",
      "a = 1 b = b c = 0.3 d = d\n"
     ]
    }
   ],
   "source": [
    "foo(1, 'b')                 #передаём значения агрументам, у которых нет значения по умолчанию\n",
    "foo(1, 'b', 0.3)            #0.3 присвоится первому аргументу со значением по умолчанию\n",
    "foo(1, 'b', d='d')          #можно присвоить значение определённому аргументу, обратившись по названию\n",
    "foo(1, d='d', b='b', c=0.3) #порядок передачи аргументов не имеет значения, \n",
    "                            #если обратиться по названию"
   ]
  },
  {
   "cell_type": "markdown",
   "id": "1b03e6a6",
   "metadata": {},
   "source": [
    "#### Способ передачи аргументов"
   ]
  },
  {
   "cell_type": "markdown",
   "id": "b674a3be",
   "metadata": {},
   "source": [
    "Изменяемые аргументы передаются по ссылке, неизменяемые - по значению:"
   ]
  },
  {
   "cell_type": "code",
   "execution_count": 8,
   "id": "afac4ca0",
   "metadata": {},
   "outputs": [],
   "source": [
    "def get_my_hero_team(team, number):\n",
    "    number = 10\n",
    "    team['Chuck'] = 'Norris'\n",
    "    team['Sylvester'] = 'Stallone'"
   ]
  },
  {
   "cell_type": "code",
   "execution_count": 9,
   "id": "04eeb308",
   "metadata": {},
   "outputs": [
    {
     "data": {
      "text/plain": [
       "5"
      ]
     },
     "execution_count": 9,
     "metadata": {},
     "output_type": "execute_result"
    },
    {
     "data": {
      "text/plain": [
       "{'Bruce': 'Willis', 'Chuck': 'Norris', 'Sylvester': 'Stallone'}"
      ]
     },
     "execution_count": 9,
     "metadata": {},
     "output_type": "execute_result"
    }
   ],
   "source": [
    "number = 5\n",
    "hero_team = {'Bruce': 'Willis', 'Chuck': 'Lorre'}\n",
    "get_my_hero_team(hero_team, number)\n",
    "\n",
    "number\n",
    "hero_team"
   ]
  },
  {
   "cell_type": "markdown",
   "id": "a850000a",
   "metadata": {},
   "source": [
    "#### Переменное число аргументов\n",
    "\n",
    "Переменное кол-во аргументов в Python реализуется следующим образом:"
   ]
  },
  {
   "cell_type": "code",
   "execution_count": 10,
   "id": "0f2a0056",
   "metadata": {},
   "outputs": [],
   "source": [
    "def foo(a, b, *args):\n",
    "    print('a =', a, 'b =', b, 'args =', args)"
   ]
  },
  {
   "cell_type": "code",
   "execution_count": 12,
   "id": "fee53472",
   "metadata": {},
   "outputs": [
    {
     "name": "stdout",
     "output_type": "stream",
     "text": [
      "a = 1 b = b args = ()\n",
      "a = 1 b = b args = (0.5,)\n",
      "a = 1 b = b args = ([1, 2], 0.5)\n"
     ]
    }
   ],
   "source": [
    "foo(1, 'b')\n",
    "foo(1, 'b', 0.5)\n",
    "foo(1, 'b', [1, 2], 0.5)"
   ]
  },
  {
   "cell_type": "markdown",
   "id": "a3bd11f6",
   "metadata": {},
   "source": [
    "`*args` может быть указан и не последним, но тогда все последующие аргументы должны быть указаны с ключевыми словами при вызове:"
   ]
  },
  {
   "cell_type": "code",
   "execution_count": 13,
   "id": "63ccba2d",
   "metadata": {},
   "outputs": [],
   "source": [
    "def foo(a, *args, b):\n",
    "    print('a =', a, 'b =', b, 'args =', args)"
   ]
  },
  {
   "cell_type": "code",
   "execution_count": 14,
   "id": "2046adfe",
   "metadata": {},
   "outputs": [
    {
     "name": "stdout",
     "output_type": "stream",
     "text": [
      "a = 1 b = b args = ([1, 2], 0.5)\n"
     ]
    },
    {
     "ename": "TypeError",
     "evalue": "foo() missing 1 required keyword-only argument: 'b'",
     "output_type": "error",
     "traceback": [
      "\u001b[1;31m---------------------------------------------------------------------------\u001b[0m",
      "\u001b[1;31mTypeError\u001b[0m                                 Traceback (most recent call last)",
      "\u001b[1;32m~\\AppData\\Local\\Temp/ipykernel_15388/1035633562.py\u001b[0m in \u001b[0;36m<module>\u001b[1;34m\u001b[0m\n\u001b[0;32m      1\u001b[0m \u001b[0mfoo\u001b[0m\u001b[1;33m(\u001b[0m\u001b[1;36m1\u001b[0m\u001b[1;33m,\u001b[0m \u001b[1;33m[\u001b[0m\u001b[1;36m1\u001b[0m\u001b[1;33m,\u001b[0m \u001b[1;36m2\u001b[0m\u001b[1;33m]\u001b[0m\u001b[1;33m,\u001b[0m \u001b[1;36m0.5\u001b[0m\u001b[1;33m,\u001b[0m \u001b[0mb\u001b[0m\u001b[1;33m=\u001b[0m\u001b[1;34m'b'\u001b[0m\u001b[1;33m)\u001b[0m\u001b[1;33m\u001b[0m\u001b[1;33m\u001b[0m\u001b[0m\n\u001b[1;32m----> 2\u001b[1;33m \u001b[0mfoo\u001b[0m\u001b[1;33m(\u001b[0m\u001b[1;36m1\u001b[0m\u001b[1;33m,\u001b[0m \u001b[1;33m[\u001b[0m\u001b[1;36m1\u001b[0m\u001b[1;33m,\u001b[0m \u001b[1;36m2\u001b[0m\u001b[1;33m]\u001b[0m\u001b[1;33m,\u001b[0m \u001b[1;36m0.5\u001b[0m\u001b[1;33m,\u001b[0m \u001b[1;34m'b'\u001b[0m\u001b[1;33m)\u001b[0m\u001b[1;33m\u001b[0m\u001b[1;33m\u001b[0m\u001b[0m\n\u001b[0m",
      "\u001b[1;31mTypeError\u001b[0m: foo() missing 1 required keyword-only argument: 'b'"
     ]
    }
   ],
   "source": [
    "foo(1, [1, 2], 0.5, b='b')\n",
    "foo(1, [1, 2], 0.5, 'b')"
   ]
  },
  {
   "cell_type": "markdown",
   "id": "8f2aa00a",
   "metadata": {},
   "source": [
    "Переменное кол-во аргументов с ключевыми словами реализуется следующим образом:"
   ]
  },
  {
   "cell_type": "code",
   "execution_count": 16,
   "id": "a68c514d",
   "metadata": {},
   "outputs": [],
   "source": [
    "def foo(a, b=0.5, **kwargs):\n",
    "    print('a =', a, 'b =', b, 'kwargs =', kwargs)"
   ]
  },
  {
   "cell_type": "code",
   "execution_count": 17,
   "id": "6889736a",
   "metadata": {},
   "outputs": [
    {
     "name": "stdout",
     "output_type": "stream",
     "text": [
      "a = 1 b = 0.5 kwargs = {'c': 'c'}\n",
      "a = 1 b = b kwargs = {'c': 'c'}\n",
      "a = 1 b = b kwargs = {'c': 'c', 'd': 'd'}\n"
     ]
    }
   ],
   "source": [
    "foo(1, c='c')\n",
    "foo(1, c='c', b='b')\n",
    "foo(1, 'b', c='c', d='d')"
   ]
  },
  {
   "cell_type": "markdown",
   "id": "9f329abe",
   "metadata": {},
   "source": [
    "В общем случае переменное кол-во аргументов реализуется следующим образом:"
   ]
  },
  {
   "cell_type": "code",
   "execution_count": 18,
   "id": "e9f718d5",
   "metadata": {},
   "outputs": [],
   "source": [
    "def foo(*args, **kwargs):\n",
    "    print('args =', args, 'kwargs =', kwargs)"
   ]
  },
  {
   "cell_type": "code",
   "execution_count": 19,
   "id": "2da4ca4e",
   "metadata": {},
   "outputs": [
    {
     "name": "stdout",
     "output_type": "stream",
     "text": [
      "args = (1, 'a') kwargs = {'x': 0.5, 'y': [3, 4]}\n",
      "args = (1, 'a') kwargs = {'x': 0.5, 'y': [3, 4]}\n"
     ]
    }
   ],
   "source": [
    "foo(1, 'a', x=0.5, y=[3, 4])\n",
    "foo(*[1, 'a'], **{'x' : 0.5, 'y': [3, 4]})"
   ]
  },
  {
   "cell_type": "markdown",
   "id": "84a2d152",
   "metadata": {},
   "source": [
    "#### Рекурсия\n",
    "\n",
    "Внутри функции можно вызывать ее саму, тем самым получая рекурсию:"
   ]
  },
  {
   "cell_type": "code",
   "execution_count": 20,
   "id": "047a3469",
   "metadata": {},
   "outputs": [
    {
     "data": {
      "text/plain": [
       "[1, 2, 3, 4, 5, 7]"
      ]
     },
     "execution_count": 20,
     "metadata": {},
     "output_type": "execute_result"
    }
   ],
   "source": [
    "def easy_sort(x):\n",
    "    if not x:\n",
    "        return x\n",
    "    \n",
    "    first = min(x)\n",
    "    x.remove(first)\n",
    "    return [first] + easy_sort(x)\n",
    "    \n",
    "easy_sort([4, 2, 3, 1, 7, 5])"
   ]
  },
  {
   "cell_type": "markdown",
   "id": "aa978979",
   "metadata": {},
   "source": [
    "## Анонимные функции\n",
    "\n",
    "**Анонимная функция** - особый вид функций, которые объявляются в месте использования и не получают уникального идентификатора для доступа к ним. \n",
    "\n",
    "Реализована в Python как **лямбда-функция**. Лямбда-функция может принимать любое кол-во аргументов, но имеет только одно выражение."
   ]
  },
  {
   "cell_type": "code",
   "execution_count": 21,
   "id": "9c3fc6e8",
   "metadata": {},
   "outputs": [
    {
     "data": {
      "text/plain": [
       "<function __main__.<lambda>(x)>"
      ]
     },
     "execution_count": 21,
     "metadata": {},
     "output_type": "execute_result"
    }
   ],
   "source": [
    "lambda x : print(x)"
   ]
  },
  {
   "cell_type": "code",
   "execution_count": 22,
   "id": "a2719aa2",
   "metadata": {},
   "outputs": [
    {
     "data": {
      "text/plain": [
       "[0, 1, 4, 9, 16, 25, 36, 49, 64, 81]"
      ]
     },
     "execution_count": 22,
     "metadata": {},
     "output_type": "execute_result"
    }
   ],
   "source": [
    "list(map(lambda x : x ** 2, range(10)))"
   ]
  },
  {
   "cell_type": "markdown",
   "id": "24591aa8",
   "metadata": {},
   "source": [
    "Самое простое применение лямбда-функций - функция для переопределения функции сортировки"
   ]
  },
  {
   "cell_type": "code",
   "execution_count": 24,
   "id": "e39a80ff",
   "metadata": {},
   "outputs": [
    {
     "name": "stdout",
     "output_type": "stream",
     "text": [
      "Help on built-in function sorted in module builtins:\n",
      "\n",
      "sorted(iterable, /, *, key=None, reverse=False)\n",
      "    Return a new list containing all items from the iterable in ascending order.\n",
      "    \n",
      "    A custom key function can be supplied to customize the sort order, and the\n",
      "    reverse flag can be set to request the result in descending order.\n",
      "\n"
     ]
    }
   ],
   "source": [
    "help(sorted)"
   ]
  },
  {
   "cell_type": "code",
   "execution_count": 23,
   "id": "a102c417",
   "metadata": {},
   "outputs": [
    {
     "data": {
      "text/plain": [
       "[4, 3, 2, 1]"
      ]
     },
     "execution_count": 23,
     "metadata": {},
     "output_type": "execute_result"
    }
   ],
   "source": [
    "sorted([1, 2, 3, 4], key = lambda x : 1 / x)"
   ]
  },
  {
   "cell_type": "markdown",
   "id": "5f0edc43",
   "metadata": {},
   "source": [
    "## Генераторы\n",
    "\n",
    "**Генератор** — это объект, который сразу при создании не вычисляет значения всех своих элементов, а хранит только последний вычисленный элемент, правило перехода к следующему и условие, при котором выполнение прерывается.\n",
    "\n",
    "Вспомним определения:\n",
    "- **Iterator** - объект с методом \\_\\_next\\_\\_()\n",
    "- **Iterable** - объект с методом \\_\\_iter\\_\\_(), который возвращает Iterator"
   ]
  },
  {
   "cell_type": "markdown",
   "id": "f4417619",
   "metadata": {},
   "source": [
    "Создавать генераторы можно двумя способами:\n",
    "1. Генераторные выражения"
   ]
  },
  {
   "cell_type": "code",
   "execution_count": 27,
   "id": "47c2227e",
   "metadata": {},
   "outputs": [
    {
     "data": {
      "text/plain": [
       "(0, 1, 4)"
      ]
     },
     "execution_count": 27,
     "metadata": {},
     "output_type": "execute_result"
    }
   ],
   "source": [
    "gen = (x**2 for x in range(10))\n",
    "\n",
    "next(gen), next(gen), next(gen)"
   ]
  },
  {
   "cell_type": "markdown",
   "id": "bbb0e30d",
   "metadata": {},
   "source": [
    "2. Генераторные функции"
   ]
  },
  {
   "cell_type": "code",
   "execution_count": 28,
   "id": "9573ba7e",
   "metadata": {},
   "outputs": [],
   "source": [
    "def foo(x):\n",
    "    print('I am the generator!')\n",
    "    for value in x:\n",
    "        yield value"
   ]
  },
  {
   "cell_type": "code",
   "execution_count": 29,
   "id": "e51a7756",
   "metadata": {},
   "outputs": [
    {
     "name": "stdout",
     "output_type": "stream",
     "text": [
      "I am the generator!\n",
      "Hello world! "
     ]
    }
   ],
   "source": [
    "values = ['Hello', 'world!']\n",
    "        \n",
    "#foo - generator function\n",
    "#foo() - generator\n",
    "        \n",
    "for value in foo(values):\n",
    "    print(value, end=' ')"
   ]
  },
  {
   "cell_type": "markdown",
   "id": "72a64786",
   "metadata": {},
   "source": [
    "В генераторных функциях для возвращения элемента используется ключевое слово `yield`. Оно похоже на `return`, но в отличие от него не завершает работу функции, а лишь приостанавливает её."
   ]
  },
  {
   "cell_type": "markdown",
   "id": "873cd135",
   "metadata": {},
   "source": [
    "**Пример** - кубы натуральных чисел:"
   ]
  },
  {
   "cell_type": "code",
   "execution_count": 30,
   "id": "afd7e651",
   "metadata": {},
   "outputs": [],
   "source": [
    "def cubes(x):\n",
    "    for value in x:\n",
    "        yield value ** 3"
   ]
  },
  {
   "cell_type": "code",
   "execution_count": 31,
   "id": "b14fbea7",
   "metadata": {},
   "outputs": [
    {
     "name": "stdout",
     "output_type": "stream",
     "text": [
      "0 1 8 27 64 125 216 343 512 729 "
     ]
    }
   ],
   "source": [
    "for value in cubes(range(10)):\n",
    "    print(value, end=' ')"
   ]
  },
  {
   "cell_type": "markdown",
   "id": "8eb28025",
   "metadata": {},
   "source": [
    "Генератор может быть бесконечным"
   ]
  },
  {
   "cell_type": "code",
   "execution_count": 32,
   "id": "725ce908",
   "metadata": {},
   "outputs": [],
   "source": [
    "def cubes():\n",
    "    i = 0\n",
    "    while True:\n",
    "        yield i ** 3\n",
    "        i += 1"
   ]
  },
  {
   "cell_type": "code",
   "execution_count": 33,
   "id": "2d5c7c92",
   "metadata": {},
   "outputs": [
    {
     "name": "stdout",
     "output_type": "stream",
     "text": [
      "0 1 8 27 64 125 "
     ]
    }
   ],
   "source": [
    "gen = cubes()\n",
    "for value in gen:\n",
    "    print(value, end=' ')\n",
    "    \n",
    "    if value > 100:\n",
    "        break"
   ]
  },
  {
   "cell_type": "code",
   "execution_count": 34,
   "id": "93b76f47",
   "metadata": {},
   "outputs": [
    {
     "data": {
      "text/plain": [
       "216"
      ]
     },
     "execution_count": 34,
     "metadata": {},
     "output_type": "execute_result"
    }
   ],
   "source": [
    "next(gen)"
   ]
  },
  {
   "cell_type": "markdown",
   "id": "d466b1a2",
   "metadata": {},
   "source": [
    "## Практика"
   ]
  },
  {
   "cell_type": "markdown",
   "id": "abaf9abc",
   "metadata": {},
   "source": [
    "**Задача 1** Написать генератор `limit(generator, max_count)`. Возвращает не более `max_count` значений генератора `generator`."
   ]
  },
  {
   "cell_type": "code",
   "execution_count": null,
   "id": "f2cff39e",
   "metadata": {},
   "outputs": [],
   "source": [
    "# Generator-function\n",
    "\n",
    "def limit(generator, max_count):\n",
    "    pass\n",
    "\n",
    "for value in limit_fn(cubes(), 10):\n",
    "    print(value, end=' ')"
   ]
  },
  {
   "cell_type": "markdown",
   "id": "0c63bc4e",
   "metadata": {},
   "source": [
    "**Задача 2** Написать генератор `all_elements(list)`. Возвращает все элементы списка list любой вложенности.\n",
    "\n",
    "**Указание:** для проверки того, что объект итерируемый, можно проверить, что он наследник Iterable"
   ]
  },
  {
   "cell_type": "code",
   "execution_count": null,
   "id": "b332b44b",
   "metadata": {},
   "outputs": [],
   "source": [
    "from collections.abc import Iterable\n",
    "\n",
    "def all_elements(x):\n",
    "    pass\n",
    "\n",
    "values = [1, [2, 3], [4, [5, 6], [[[7]]]], 8]\n",
    "for value in all_elements(values):\n",
    "    print(value, end=' ')"
   ]
  },
  {
   "cell_type": "markdown",
   "id": "8fcfa718",
   "metadata": {},
   "source": [
    "## Пространства имен\n",
    "\n",
    "**Пространство имен** (namespace) - набор определенных на момент имен объектов вместе с информацией об этих объектах.\n",
    "\n",
    "Как говорится в **The Zen of Python**:\n",
    "\n",
    ">Namespaces are one honking great idea—let’s do more of those!\n",
    "\n",
    "Для доступа к пространству имен используются следующие команды:\n",
    "- `locals()` - возвращает текущий namespace в виде словаря\n",
    "- `globals()` - возвращает namespace модуля"
   ]
  },
  {
   "cell_type": "code",
   "execution_count": 37,
   "id": "9e7e5ddb",
   "metadata": {},
   "outputs": [
    {
     "name": "stdout",
     "output_type": "stream",
     "text": [
      "42\n",
      "100500\n"
     ]
    }
   ],
   "source": [
    "value = 42\n",
    "print(globals()['value'])\n",
    "\n",
    "globals()['value'] = 100500\n",
    "print(value)"
   ]
  },
  {
   "cell_type": "markdown",
   "id": "8397a349",
   "metadata": {},
   "source": [
    "Циклы и условия не создают своё пространство имён"
   ]
  },
  {
   "cell_type": "code",
   "execution_count": 38,
   "id": "34f63de7",
   "metadata": {},
   "outputs": [
    {
     "name": "stdout",
     "output_type": "stream",
     "text": [
      "0\n",
      "1\n",
      "2\n"
     ]
    }
   ],
   "source": [
    "if (True):\n",
    "    value_assigned_in_if = 1\n",
    "    \n",
    "for loop_counter in range(1):\n",
    "    value_assigned_in_for = 2\n",
    "    \n",
    "print(loop_counter)\n",
    "print(value_assigned_in_if)\n",
    "print(value_assigned_in_for)"
   ]
  },
  {
   "cell_type": "markdown",
   "id": "3eff64e5",
   "metadata": {},
   "source": [
    "Функции создают своё пространство имён"
   ]
  },
  {
   "cell_type": "code",
   "execution_count": 39,
   "id": "be1437ec",
   "metadata": {},
   "outputs": [
    {
     "name": "stdout",
     "output_type": "stream",
     "text": [
      "1\n",
      "locals: 1\n",
      "globals: 0\n",
      "0\n"
     ]
    }
   ],
   "source": [
    "value = 0\n",
    "\n",
    "def foo():\n",
    "    value = 1\n",
    "    print(value)\n",
    "    \n",
    "    print('locals:', locals()['value'])\n",
    "    print('globals:', globals()['value'])\n",
    "    \n",
    "foo()\n",
    "print(value)"
   ]
  },
  {
   "cell_type": "markdown",
   "id": "7ae28429",
   "metadata": {},
   "source": [
    "## Область видимости (scope)\n",
    "\n",
    "\n",
    "Поскольку существуют несколько отдельных пространств имен, то возможно объявить несколько переменных с одинаковым именем, но в разных пространствах имен. Отсюда возникает вопрос - как Python узнает, к которой из переменных ты обращаешься при вызове?\n",
    "\n",
    "В Python существует такая вещь как область видимости. **Область видимости** (scope) - участок программы, в которой доступна созданная в ней переменная. Существует 4 типа областей видимостей:\n",
    "\n",
    "- **Local** - имена, определенные внутри функции (и не помеченные `global`)\n",
    "- **Enclosing-function locals** - имена в области видимости всех оборачивающих (`enclosing`) функций, в порядке уменьшения глубины\n",
    "- **Global** - имена, определенные на уровне модуля или посредством `global`\n",
    "- **Built-in** - предопределенные (`range`, `open`, ...)\n",
    "\n",
    "Когда Python ищет переменну по имени, он обходит области видимости в порядке **LEGB**, это называют **LEGB-правилом**."
   ]
  },
  {
   "cell_type": "markdown",
   "id": "77cedc47",
   "metadata": {},
   "source": [
    "Пример **LEGB**:"
   ]
  },
  {
   "cell_type": "code",
   "execution_count": 40,
   "id": "3a644d3d",
   "metadata": {},
   "outputs": [
    {
     "name": "stdout",
     "output_type": "stream",
     "text": [
      "built-in: <class 'range'>\n",
      "global: global range\n",
      "enclosing-function: enclosing-function range\n",
      "local: local range\n"
     ]
    }
   ],
   "source": [
    "def foo():\n",
    "    def bar():\n",
    "        print('built-in:', range)\n",
    "    bar()\n",
    "foo()\n",
    "\n",
    "range_var = 'global range'\n",
    "\n",
    "def foo():\n",
    "    def bar():\n",
    "        print('global:', range_var)\n",
    "    bar()\n",
    "foo()\n",
    "        \n",
    "def foo():\n",
    "    range_var = 'enclosing-function range'\n",
    "    def bar():\n",
    "        print('enclosing-function:', range_var)\n",
    "    bar()\n",
    "foo()\n",
    "\n",
    "def foo():\n",
    "    range_var = 'enclosing-function range'\n",
    "    def bar():\n",
    "        range_var = 'local range'\n",
    "        print('local:', range_var)\n",
    "    bar()\n",
    "foo()"
   ]
  },
  {
   "cell_type": "markdown",
   "id": "33ca6ad7",
   "metadata": {},
   "source": [
    "### Ключевое слово global\n",
    "\n",
    "Если необходимо работать с глобальной переменной, но находимся в локальной области видимости, можем использовать ключевое слово `global`:"
   ]
  },
  {
   "cell_type": "code",
   "execution_count": 41,
   "id": "602a71e5",
   "metadata": {},
   "outputs": [
    {
     "name": "stdout",
     "output_type": "stream",
     "text": [
      "enclosing scope value 2\n",
      "global value 3\n"
     ]
    }
   ],
   "source": [
    "value = 1\n",
    "\n",
    "def foo():\n",
    "    value = 2\n",
    "    \n",
    "    def bar():\n",
    "        global value\n",
    "        value = 3\n",
    "    \n",
    "    bar()\n",
    "    print('enclosing scope value', value)\n",
    "    \n",
    "foo()\n",
    "print('global value', value)"
   ]
  },
  {
   "cell_type": "markdown",
   "id": "d044ef22",
   "metadata": {},
   "source": [
    "### Ключевое слово nonlocal\n",
    "\n",
    "Аналогично, ключевое слово `nonlocal` позволяет получить доступ к переменной на enclosing уровне:"
   ]
  },
  {
   "cell_type": "code",
   "execution_count": 42,
   "id": "1a900a1e",
   "metadata": {},
   "outputs": [
    {
     "name": "stdout",
     "output_type": "stream",
     "text": [
      "enclosing scope value 3\n",
      "global value 1\n"
     ]
    }
   ],
   "source": [
    "value = 1\n",
    "\n",
    "def foo():\n",
    "    value = 2\n",
    "    \n",
    "    def bar():\n",
    "        nonlocal value\n",
    "        value = 3\n",
    "    \n",
    "    bar()\n",
    "    print('enclosing scope value', value)\n",
    "    \n",
    "foo()\n",
    "print('global value', value)"
   ]
  },
  {
   "cell_type": "markdown",
   "id": "b5ec4ce8",
   "metadata": {},
   "source": [
    "Пространства имён в python **статические**, т.е. Python понимает есть ли проблемы с доступом к переменным до запуска программы."
   ]
  },
  {
   "cell_type": "code",
   "execution_count": 43,
   "id": "4bfbb7e6",
   "metadata": {},
   "outputs": [
    {
     "ename": "UnboundLocalError",
     "evalue": "local variable 'value' referenced before assignment",
     "output_type": "error",
     "traceback": [
      "\u001b[1;31m---------------------------------------------------------------------------\u001b[0m",
      "\u001b[1;31mUnboundLocalError\u001b[0m                         Traceback (most recent call last)",
      "\u001b[1;32m~\\AppData\\Local\\Temp/ipykernel_15388/1467139201.py\u001b[0m in \u001b[0;36m<module>\u001b[1;34m\u001b[0m\n\u001b[0;32m     11\u001b[0m     \u001b[0mvalue\u001b[0m \u001b[1;33m=\u001b[0m \u001b[1;36m2\u001b[0m\u001b[1;33m\u001b[0m\u001b[1;33m\u001b[0m\u001b[0m\n\u001b[0;32m     12\u001b[0m \u001b[1;33m\u001b[0m\u001b[0m\n\u001b[1;32m---> 13\u001b[1;33m \u001b[0mfoo\u001b[0m\u001b[1;33m(\u001b[0m\u001b[1;33m)\u001b[0m\u001b[1;33m\u001b[0m\u001b[1;33m\u001b[0m\u001b[0m\n\u001b[0m",
      "\u001b[1;32m~\\AppData\\Local\\Temp/ipykernel_15388/1467139201.py\u001b[0m in \u001b[0;36mfoo\u001b[1;34m()\u001b[0m\n\u001b[0;32m      3\u001b[0m \u001b[1;32mdef\u001b[0m \u001b[0mfoo\u001b[0m\u001b[1;33m(\u001b[0m\u001b[1;33m)\u001b[0m\u001b[1;33m:\u001b[0m\u001b[1;33m\u001b[0m\u001b[1;33m\u001b[0m\u001b[0m\n\u001b[0;32m      4\u001b[0m \u001b[1;33m\u001b[0m\u001b[0m\n\u001b[1;32m----> 5\u001b[1;33m     \u001b[0mprint\u001b[0m\u001b[1;33m(\u001b[0m\u001b[0mvalue\u001b[0m\u001b[1;33m)\u001b[0m\u001b[1;33m\u001b[0m\u001b[1;33m\u001b[0m\u001b[0m\n\u001b[0m\u001b[0;32m      6\u001b[0m \u001b[1;33m\u001b[0m\u001b[0m\n\u001b[0;32m      7\u001b[0m     \u001b[1;32mdef\u001b[0m \u001b[0mbar\u001b[0m\u001b[1;33m(\u001b[0m\u001b[1;33m)\u001b[0m\u001b[1;33m:\u001b[0m\u001b[1;33m\u001b[0m\u001b[1;33m\u001b[0m\u001b[0m\n",
      "\u001b[1;31mUnboundLocalError\u001b[0m: local variable 'value' referenced before assignment"
     ]
    }
   ],
   "source": [
    "value = 1\n",
    "\n",
    "def foo():\n",
    "    \n",
    "    print(value)\n",
    "    \n",
    "    def bar():\n",
    "        print(value)\n",
    "    \n",
    "    bar()\n",
    "    value = 2\n",
    "    \n",
    "foo()"
   ]
  }
 ],
 "metadata": {
  "kernelspec": {
   "display_name": "Python 3 (ipykernel)",
   "language": "python",
   "name": "python3"
  },
  "language_info": {
   "codemirror_mode": {
    "name": "ipython",
    "version": 3
   },
   "file_extension": ".py",
   "mimetype": "text/x-python",
   "name": "python",
   "nbconvert_exporter": "python",
   "pygments_lexer": "ipython3",
   "version": "3.9.7"
  }
 },
 "nbformat": 4,
 "nbformat_minor": 5
}
